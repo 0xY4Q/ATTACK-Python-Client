{
 "cells": [
  {
   "cell_type": "markdown",
   "metadata": {},
   "source": [
    "# **MITRE ATT&CK API BASICS**: Python Client\n",
    "------------------"
   ]
  },
  {
   "cell_type": "markdown",
   "metadata": {},
   "source": [
    "## Import ATTACK API Client"
   ]
  },
  {
   "cell_type": "code",
   "execution_count": 1,
   "metadata": {
    "collapsed": true
   },
   "outputs": [],
   "source": [
    "from attackcti import attack_client"
   ]
  },
  {
   "cell_type": "markdown",
   "metadata": {},
   "source": [
    "## Import Extra Libraries"
   ]
  },
  {
   "cell_type": "code",
   "execution_count": 2,
   "metadata": {
    "collapsed": true
   },
   "outputs": [],
   "source": [
    "from pandas import *\n",
    "from pandas.io.json import json_normalize"
   ]
  },
  {
   "cell_type": "markdown",
   "metadata": {},
   "source": [
    "## Initialize ATT&CK Client Variable"
   ]
  },
  {
   "cell_type": "code",
   "execution_count": 3,
   "metadata": {
    "collapsed": true
   },
   "outputs": [],
   "source": [
    "lift = attack_client()"
   ]
  },
  {
   "cell_type": "markdown",
   "metadata": {},
   "source": [
    "## **Collect ALL (Enterprise ATT&CK, Pre-ATT&CK & Mobile ATT&CK)**\n",
    "* I usually collect all the stix object types available from all the ATT&CK Matrices first when I want to analyze ATT&CK's data.\n",
    "* In this section, we will collect everything from Enterprise ATT&CK, PRE-ATT&CK and Mobile ATT&CK via three functions that query ATT&CK content available in STIX™ 2.0 via a public TAXII™ 2.0 server:\n",
    "  * get_all_enterprise()\n",
    "  * get_all_pre()\n",
    "  * get_all_mobile()\n",
    "* The get_all_stix_objects() function just combines the results of the other three locally.\n",
    "* Then, we will grab the results from each get_all_* function and start getting specific stix object types such as techniques, mitigations, groups, malware, tools and relationships.\n",
    "* It is important to remember that the stix object types are being obtained from the results of the initial three **get_all_*** functions and not querying the TAXII Server every time we want to get information about a specific stix object type."
   ]
  },
  {
   "cell_type": "markdown",
   "metadata": {},
   "source": [
    "**Collect ALL Enterprise ATT&CK (TAXII)**"
   ]
  },
  {
   "cell_type": "code",
   "execution_count": 4,
   "metadata": {
    "collapsed": true
   },
   "outputs": [],
   "source": [
    "all_enterprise = lift.get_all_enterprise()"
   ]
  },
  {
   "cell_type": "markdown",
   "metadata": {},
   "source": [
    "**Collect ALL PRE-ATT&CK (TAXII)**"
   ]
  },
  {
   "cell_type": "code",
   "execution_count": 5,
   "metadata": {
    "collapsed": true
   },
   "outputs": [],
   "source": [
    "all_pre = lift.get_all_pre()"
   ]
  },
  {
   "cell_type": "markdown",
   "metadata": {},
   "source": [
    "**Collect ALL Mobile ATT&CK (TAXII)**"
   ]
  },
  {
   "cell_type": "code",
   "execution_count": 6,
   "metadata": {
    "collapsed": true
   },
   "outputs": [],
   "source": [
    "all_mobile = lift.get_all_mobile()"
   ]
  },
  {
   "cell_type": "markdown",
   "metadata": {},
   "source": [
    "**Collect ALL (It runs All 3 functions and collects all the results)**"
   ]
  },
  {
   "cell_type": "markdown",
   "metadata": {},
   "source": [
    "The **get_all_stix_objects()** function returns a dictionary with all the stix object types from all matrices:\n",
    "* techniques\n",
    "* mitigations\n",
    "* groups\n",
    "* malware\n",
    "* tools\n",
    "* relationships"
   ]
  },
  {
   "cell_type": "code",
   "execution_count": 7,
   "metadata": {
    "collapsed": true
   },
   "outputs": [],
   "source": [
    "all_attack = lift.get_all_stix_objects()"
   ]
  },
  {
   "cell_type": "code",
   "execution_count": 8,
   "metadata": {},
   "outputs": [
    {
     "data": {
      "text/plain": [
       "dict"
      ]
     },
     "execution_count": 8,
     "metadata": {},
     "output_type": "execute_result"
    }
   ],
   "source": [
    "type(all_attack)"
   ]
  },
  {
   "cell_type": "markdown",
   "metadata": {},
   "source": [
    "### Get All Techniques from ATT&CK Results (Locally)\n",
    "* The results of this function shows every single technique across the whole ATT&CK framework without their mitigations information\n",
    "* Mitigations information has its own stix object type (Mitigation) that needs to be correlated with the help of relationship properties\n",
    "* There is a function already created in this library named **get_all_techniques_with_mitigations()** that allows you to get a more complete view of techniques"
   ]
  },
  {
   "cell_type": "code",
   "execution_count": 9,
   "metadata": {},
   "outputs": [
    {
     "name": "stdout",
     "output_type": "stream",
     "text": [
      "Number of Techniques in ATT&CK\n",
      "469\n"
     ]
    },
    {
     "data": {
      "text/html": [
       "<div>\n",
       "<style scoped>\n",
       "    .dataframe tbody tr th:only-of-type {\n",
       "        vertical-align: middle;\n",
       "    }\n",
       "\n",
       "    .dataframe tbody tr th {\n",
       "        vertical-align: top;\n",
       "    }\n",
       "\n",
       "    .dataframe thead th {\n",
       "        text-align: right;\n",
       "    }\n",
       "</style>\n",
       "<table border=\"1\" class=\"dataframe\">\n",
       "  <thead>\n",
       "    <tr style=\"text-align: right;\">\n",
       "      <th></th>\n",
       "      <th>matrix</th>\n",
       "      <th>created</th>\n",
       "      <th>tactic</th>\n",
       "      <th>technique</th>\n",
       "      <th>technique_id</th>\n",
       "      <th>data_sources</th>\n",
       "    </tr>\n",
       "  </thead>\n",
       "  <tbody>\n",
       "    <tr>\n",
       "      <th>0</th>\n",
       "      <td>mitre-attack</td>\n",
       "      <td>2017-12-14 16:46:06.044000+00:00</td>\n",
       "      <td>[persistence]</td>\n",
       "      <td>.bash_profile and .bashrc</td>\n",
       "      <td>T1156</td>\n",
       "      <td>[File monitoring, Process Monitoring, Process ...</td>\n",
       "    </tr>\n",
       "    <tr>\n",
       "      <th>1</th>\n",
       "      <td>mitre-attack</td>\n",
       "      <td>2017-12-14 16:46:06.044000+00:00</td>\n",
       "      <td>[defense-evasion, privilege-escalation]</td>\n",
       "      <td>Access Token Manipulation</td>\n",
       "      <td>T1134</td>\n",
       "      <td>[API monitoring, Access Tokens]</td>\n",
       "    </tr>\n",
       "    <tr>\n",
       "      <th>2</th>\n",
       "      <td>mitre-attack</td>\n",
       "      <td>2017-05-31 21:30:26.946000+00:00</td>\n",
       "      <td>[persistence, privilege-escalation]</td>\n",
       "      <td>Accessibility Features</td>\n",
       "      <td>T1015</td>\n",
       "      <td>[Windows Registry, File monitoring, Process mo...</td>\n",
       "    </tr>\n",
       "    <tr>\n",
       "      <th>3</th>\n",
       "      <td>mitre-attack</td>\n",
       "      <td>2017-05-31 21:31:12.196000+00:00</td>\n",
       "      <td>[credential-access]</td>\n",
       "      <td>Account Manipulation</td>\n",
       "      <td>T1098</td>\n",
       "      <td>[Authentication logs, API monitoring, Windows ...</td>\n",
       "    </tr>\n",
       "    <tr>\n",
       "      <th>4</th>\n",
       "      <td>mitre-attack</td>\n",
       "      <td>2017-05-31 21:31:06.988000+00:00</td>\n",
       "      <td>[discovery]</td>\n",
       "      <td>Account Discovery</td>\n",
       "      <td>T1087</td>\n",
       "      <td>[API monitoring, Process command-line paramete...</td>\n",
       "    </tr>\n",
       "  </tbody>\n",
       "</table>\n",
       "</div>"
      ],
      "text/plain": [
       "         matrix                           created  \\\n",
       "0  mitre-attack  2017-12-14 16:46:06.044000+00:00   \n",
       "1  mitre-attack  2017-12-14 16:46:06.044000+00:00   \n",
       "2  mitre-attack  2017-05-31 21:30:26.946000+00:00   \n",
       "3  mitre-attack  2017-05-31 21:31:12.196000+00:00   \n",
       "4  mitre-attack  2017-05-31 21:31:06.988000+00:00   \n",
       "\n",
       "                                    tactic                  technique  \\\n",
       "0                            [persistence]  .bash_profile and .bashrc   \n",
       "1  [defense-evasion, privilege-escalation]  Access Token Manipulation   \n",
       "2      [persistence, privilege-escalation]     Accessibility Features   \n",
       "3                      [credential-access]       Account Manipulation   \n",
       "4                              [discovery]          Account Discovery   \n",
       "\n",
       "  technique_id                                       data_sources  \n",
       "0        T1156  [File monitoring, Process Monitoring, Process ...  \n",
       "1        T1134                    [API monitoring, Access Tokens]  \n",
       "2        T1015  [Windows Registry, File monitoring, Process mo...  \n",
       "3        T1098  [Authentication logs, API monitoring, Windows ...  \n",
       "4        T1087  [API monitoring, Process command-line paramete...  "
      ]
     },
     "execution_count": 9,
     "metadata": {},
     "output_type": "execute_result"
    }
   ],
   "source": [
    "print(\"Number of Techniques in ATT&CK\")\n",
    "print(len(all_attack['techniques']))\n",
    "techniques = all_attack['techniques']\n",
    "df = json_normalize(techniques)\n",
    "df.reindex(['matrix', 'created','tactic', 'technique', 'technique_id', 'data_sources'], axis=1)[0:5]"
   ]
  },
  {
   "cell_type": "code",
   "execution_count": 10,
   "metadata": {},
   "outputs": [
    {
     "data": {
      "text/plain": [
       "219"
      ]
     },
     "execution_count": 10,
     "metadata": {},
     "output_type": "execute_result"
    }
   ],
   "source": [
    "len(df.loc[df['matrix'] == 'mitre-attack'])"
   ]
  },
  {
   "cell_type": "markdown",
   "metadata": {},
   "source": [
    "**Showing the schema of Techniques**"
   ]
  },
  {
   "cell_type": "markdown",
   "metadata": {},
   "source": [
    "This schema covers techniques from Enterprise, PRE and Mobile ATT&CK"
   ]
  },
  {
   "cell_type": "code",
   "execution_count": 11,
   "metadata": {},
   "outputs": [
    {
     "data": {
      "text/plain": [
       "['contributors',\n",
       " 'created',\n",
       " 'created_by_ref',\n",
       " 'data_sources',\n",
       " 'defense_bypassed',\n",
       " 'detectable_by_common_defenses',\n",
       " 'detectable_explanation',\n",
       " 'difficulty_explanation',\n",
       " 'difficulty_for_adversary',\n",
       " 'effective_permissions',\n",
       " 'id',\n",
       " 'matrix',\n",
       " 'modified',\n",
       " 'network_requirements',\n",
       " 'object_marking_refs',\n",
       " 'permissions_required',\n",
       " 'platform',\n",
       " 'remote_support',\n",
       " 'system_requirements',\n",
       " 'tactic',\n",
       " 'tactic_type',\n",
       " 'technique',\n",
       " 'technique_description',\n",
       " 'technique_id',\n",
       " 'technique_references',\n",
       " 'type',\n",
       " 'url']"
      ]
     },
     "execution_count": 11,
     "metadata": {},
     "output_type": "execute_result"
    }
   ],
   "source": [
    "list(df)"
   ]
  },
  {
   "cell_type": "markdown",
   "metadata": {},
   "source": [
    "**Showing one technique example**"
   ]
  },
  {
   "cell_type": "code",
   "execution_count": 12,
   "metadata": {},
   "outputs": [
    {
     "data": {
      "text/plain": [
       "{'type': 'attack-pattern',\n",
       " 'id': 'attack-pattern--01df3350-ce05-4bdf-bdf8-0a919a66d4a8',\n",
       " 'created_by_ref': 'identity--c78cb6e5-0c4b-4611-8297-d1b8b55e40b5',\n",
       " 'created': '2017-12-14 16:46:06.044000+00:00',\n",
       " 'modified': '2018-04-18 17:59:24.739000+00:00',\n",
       " 'object_marking_refs': ['marking-definition--fa42a846-8d90-4e51-bc29-71d5b4802168'],\n",
       " 'url': 'https://attack.mitre.org/wiki/Technique/T1156',\n",
       " 'matrix': 'mitre-attack',\n",
       " 'technique': '.bash_profile and .bashrc',\n",
       " 'technique_description': \"<code>~/.bash_profile</code> and <code>~/.bashrc</code> are executed in a user's context when a new shell opens or when a user logs in so that their environment is set correctly. <code>~/.bash_profile</code> is executed for login shells and <code>~/.bashrc</code> is executed for interactive non-login shells. This means that when a user logs in (via username and password) to the console (either locally or remotely via something like SSH), <code>~/.bash_profile</code> is executed before the initial command prompt is returned to the user. After that, every time a new shell is opened, <code>~/.bashrc</code> is executed. This allows users more fine grained control over when they want certain commands executed.\\n\\nMac's Terminal.app is a little different in that it runs a login shell by default each time a new terminal window is opened, thus calling <code>~/.bash_profile</code> each time instead of <code>~/.bashrc</code>.\\n\\nThese files are meant to be written to by the local user to configure their own environment; however, adversaries can also insert code into these files to gain persistence each time a user logs in or opens a new shell  (Citation: amnesia malware).\\n\\nDetection: While users may customize their <code>~/.bashrc</code> and <code>~/.bash_profile</code> files , there are only certain types of commands that typically appear in these files. Monitor for abnormal commands such as execution of unknown programs, opening network sockets, or reaching out across the network when user profiles are loaded during the login process.\\n\\nPlatforms: Linux, macOS\\n\\nData Sources: File monitoring, Process Monitoring, Process command-line parameters, Process use of network\\n\\nPermissions Required: User, Administrator\",\n",
       " 'tactic': ['persistence'],\n",
       " 'technique_id': 'T1156',\n",
       " 'platform': ['Linux', 'macOS'],\n",
       " 'data_sources': ['File monitoring',\n",
       "  'Process Monitoring',\n",
       "  'Process command-line parameters',\n",
       "  'Process use of network'],\n",
       " 'defense_bypassed': None,\n",
       " 'permissions_required': ['User', 'Administrator'],\n",
       " 'effective_permissions': None,\n",
       " 'system_requirements': None,\n",
       " 'network_requirements': None,\n",
       " 'remote_support': None,\n",
       " 'contributors': None,\n",
       " 'technique_references': ['https://attack.mitre.org/wiki/Technique/T1156',\n",
       "  'https://researchcenter.paloaltonetworks.com/2017/04/unit42-new-iotlinux-malware-targets-dvrs-forms-botnet/'],\n",
       " 'detectable_by_common_defenses': None,\n",
       " 'detectable_explanation': None,\n",
       " 'difficulty_for_adversary': None,\n",
       " 'difficulty_explanation': None,\n",
       " 'tactic_type': None}"
      ]
     },
     "execution_count": 12,
     "metadata": {},
     "output_type": "execute_result"
    }
   ],
   "source": [
    "techniques[0]"
   ]
  },
  {
   "cell_type": "markdown",
   "metadata": {},
   "source": [
    "### Get All Mitigations from ATT&CK Results (Locally)"
   ]
  },
  {
   "cell_type": "code",
   "execution_count": 13,
   "metadata": {},
   "outputs": [
    {
     "name": "stdout",
     "output_type": "stream",
     "text": [
      "Number of Mitigations in ATT&CK\n",
      "229\n"
     ]
    },
    {
     "data": {
      "text/html": [
       "<div>\n",
       "<style scoped>\n",
       "    .dataframe tbody tr th:only-of-type {\n",
       "        vertical-align: middle;\n",
       "    }\n",
       "\n",
       "    .dataframe tbody tr th {\n",
       "        vertical-align: top;\n",
       "    }\n",
       "\n",
       "    .dataframe thead th {\n",
       "        text-align: right;\n",
       "    }\n",
       "</style>\n",
       "<table border=\"1\" class=\"dataframe\">\n",
       "  <thead>\n",
       "    <tr style=\"text-align: right;\">\n",
       "      <th></th>\n",
       "      <th>matrix</th>\n",
       "      <th>mitigation</th>\n",
       "      <th>mitigation_description</th>\n",
       "      <th>url</th>\n",
       "    </tr>\n",
       "  </thead>\n",
       "  <tbody>\n",
       "    <tr>\n",
       "      <th>0</th>\n",
       "      <td>mitre-attack</td>\n",
       "      <td>.bash_profile and .bashrc Mitigation</td>\n",
       "      <td>Making these files immutable and only changeab...</td>\n",
       "      <td>https://attack.mitre.org/wiki/Technique/T1156</td>\n",
       "    </tr>\n",
       "    <tr>\n",
       "      <th>1</th>\n",
       "      <td>mitre-attack</td>\n",
       "      <td>Access Token Manipulation Mitigation</td>\n",
       "      <td>Access tokens are an integral part of the secu...</td>\n",
       "      <td>https://attack.mitre.org/wiki/Technique/T1134</td>\n",
       "    </tr>\n",
       "    <tr>\n",
       "      <th>2</th>\n",
       "      <td>mitre-attack</td>\n",
       "      <td>Accessibility Features Mitigation</td>\n",
       "      <td>To use this technique remotely, an adversary m...</td>\n",
       "      <td>https://attack.mitre.org/wiki/Technique/T1015</td>\n",
       "    </tr>\n",
       "    <tr>\n",
       "      <th>3</th>\n",
       "      <td>mitre-attack</td>\n",
       "      <td>Account Discovery Mitigation</td>\n",
       "      <td>Prevent administrator accounts from being enum...</td>\n",
       "      <td>https://attack.mitre.org/wiki/Technique/T1087</td>\n",
       "    </tr>\n",
       "    <tr>\n",
       "      <th>4</th>\n",
       "      <td>mitre-attack</td>\n",
       "      <td>Account Manipulation Mitigation</td>\n",
       "      <td>Use multifactor authentication. Follow guideli...</td>\n",
       "      <td>https://attack.mitre.org/wiki/Technique/T1098</td>\n",
       "    </tr>\n",
       "  </tbody>\n",
       "</table>\n",
       "</div>"
      ],
      "text/plain": [
       "         matrix                            mitigation  \\\n",
       "0  mitre-attack  .bash_profile and .bashrc Mitigation   \n",
       "1  mitre-attack  Access Token Manipulation Mitigation   \n",
       "2  mitre-attack     Accessibility Features Mitigation   \n",
       "3  mitre-attack          Account Discovery Mitigation   \n",
       "4  mitre-attack       Account Manipulation Mitigation   \n",
       "\n",
       "                              mitigation_description  \\\n",
       "0  Making these files immutable and only changeab...   \n",
       "1  Access tokens are an integral part of the secu...   \n",
       "2  To use this technique remotely, an adversary m...   \n",
       "3  Prevent administrator accounts from being enum...   \n",
       "4  Use multifactor authentication. Follow guideli...   \n",
       "\n",
       "                                             url  \n",
       "0  https://attack.mitre.org/wiki/Technique/T1156  \n",
       "1  https://attack.mitre.org/wiki/Technique/T1134  \n",
       "2  https://attack.mitre.org/wiki/Technique/T1015  \n",
       "3  https://attack.mitre.org/wiki/Technique/T1087  \n",
       "4  https://attack.mitre.org/wiki/Technique/T1098  "
      ]
     },
     "execution_count": 13,
     "metadata": {},
     "output_type": "execute_result"
    }
   ],
   "source": [
    "print(\"Number of Mitigations in ATT&CK\")\n",
    "print(len(all_attack['mitigations']))\n",
    "mitigations = all_attack['mitigations']\n",
    "df = json_normalize(mitigations)\n",
    "df.reindex(['matrix','mitigation', 'mitigation_description','url'], axis=1)[0:5]"
   ]
  },
  {
   "cell_type": "markdown",
   "metadata": {},
   "source": [
    "**Showing the schema of Mitigations**"
   ]
  },
  {
   "cell_type": "code",
   "execution_count": 14,
   "metadata": {},
   "outputs": [
    {
     "data": {
      "text/plain": [
       "['created',\n",
       " 'created_by_ref',\n",
       " 'id',\n",
       " 'matrix',\n",
       " 'mitigation',\n",
       " 'mitigation_description',\n",
       " 'mitigation_id',\n",
       " 'mitigation_references',\n",
       " 'modified',\n",
       " 'type',\n",
       " 'url']"
      ]
     },
     "execution_count": 14,
     "metadata": {},
     "output_type": "execute_result"
    }
   ],
   "source": [
    "list(df)"
   ]
  },
  {
   "cell_type": "markdown",
   "metadata": {},
   "source": [
    "**Showing one Mitigation example**"
   ]
  },
  {
   "cell_type": "code",
   "execution_count": 15,
   "metadata": {},
   "outputs": [
    {
     "data": {
      "text/plain": [
       "{'type': 'course-of-action',\n",
       " 'id': 'course-of-action--4f170666-7edb-4489-85c2-9affa28a72e0',\n",
       " 'created_by_ref': 'identity--c78cb6e5-0c4b-4611-8297-d1b8b55e40b5',\n",
       " 'created': '2018-04-18 17:59:24.739000+00:00',\n",
       " 'modified': '2018-04-18 17:59:24.739000+00:00',\n",
       " 'matrix': 'mitre-attack',\n",
       " 'url': 'https://attack.mitre.org/wiki/Technique/T1156',\n",
       " 'mitigation': '.bash_profile and .bashrc Mitigation',\n",
       " 'mitigation_description': 'Making these files immutable and only changeable by certain administrators will limit the ability for adversaries to easily create user level persistence.',\n",
       " 'mitigation_id': 'T1156',\n",
       " 'mitigation_references': ['https://attack.mitre.org/wiki/Technique/T1156']}"
      ]
     },
     "execution_count": 15,
     "metadata": {},
     "output_type": "execute_result"
    }
   ],
   "source": [
    "mitigations[0]"
   ]
  },
  {
   "cell_type": "markdown",
   "metadata": {},
   "source": [
    "### Get All Groups from ATT&CK Results (Locally)"
   ]
  },
  {
   "cell_type": "code",
   "execution_count": 16,
   "metadata": {},
   "outputs": [
    {
     "name": "stdout",
     "output_type": "stream",
     "text": [
      "Number of Groups in ATT&CK\n",
      "69\n"
     ]
    },
    {
     "data": {
      "text/html": [
       "<div>\n",
       "<style scoped>\n",
       "    .dataframe tbody tr th:only-of-type {\n",
       "        vertical-align: middle;\n",
       "    }\n",
       "\n",
       "    .dataframe tbody tr th {\n",
       "        vertical-align: top;\n",
       "    }\n",
       "\n",
       "    .dataframe thead th {\n",
       "        text-align: right;\n",
       "    }\n",
       "</style>\n",
       "<table border=\"1\" class=\"dataframe\">\n",
       "  <thead>\n",
       "    <tr style=\"text-align: right;\">\n",
       "      <th></th>\n",
       "      <th>matrix</th>\n",
       "      <th>group</th>\n",
       "      <th>group_aliases</th>\n",
       "      <th>group_id</th>\n",
       "      <th>group_description</th>\n",
       "    </tr>\n",
       "  </thead>\n",
       "  <tbody>\n",
       "    <tr>\n",
       "      <th>0</th>\n",
       "      <td>mitre-attack</td>\n",
       "      <td>APT12</td>\n",
       "      <td>[APT12, IXESHE, DynCalc, Numbered Panda, DNSCALC]</td>\n",
       "      <td>G0005</td>\n",
       "      <td>APT12 is a threat group that has been attribut...</td>\n",
       "    </tr>\n",
       "    <tr>\n",
       "      <th>1</th>\n",
       "      <td>mitre-attack</td>\n",
       "      <td>APT29</td>\n",
       "      <td>[APT29, The Dukes, Cozy Bear, CozyDuke]</td>\n",
       "      <td>G0016</td>\n",
       "      <td>APT29 is threat group that has been attributed...</td>\n",
       "    </tr>\n",
       "    <tr>\n",
       "      <th>2</th>\n",
       "      <td>mitre-attack</td>\n",
       "      <td>APT34</td>\n",
       "      <td>[APT34]</td>\n",
       "      <td>G0057</td>\n",
       "      <td>APT34 is an Iranian cyber espionage group that...</td>\n",
       "    </tr>\n",
       "    <tr>\n",
       "      <th>3</th>\n",
       "      <td>mitre-attack</td>\n",
       "      <td>Carbanak</td>\n",
       "      <td>[Carbanak, Anunak, Carbon Spider]</td>\n",
       "      <td>G0008</td>\n",
       "      <td>Carbanak is a threat group that mainly targets...</td>\n",
       "    </tr>\n",
       "    <tr>\n",
       "      <th>4</th>\n",
       "      <td>mitre-attack</td>\n",
       "      <td>APT1</td>\n",
       "      <td>[APT1, Comment Crew, Comment Group, Comment Pa...</td>\n",
       "      <td>G0006</td>\n",
       "      <td>APT1 is a Chinese threat group that has been a...</td>\n",
       "    </tr>\n",
       "  </tbody>\n",
       "</table>\n",
       "</div>"
      ],
      "text/plain": [
       "         matrix     group                                      group_aliases  \\\n",
       "0  mitre-attack     APT12  [APT12, IXESHE, DynCalc, Numbered Panda, DNSCALC]   \n",
       "1  mitre-attack     APT29            [APT29, The Dukes, Cozy Bear, CozyDuke]   \n",
       "2  mitre-attack     APT34                                            [APT34]   \n",
       "3  mitre-attack  Carbanak                  [Carbanak, Anunak, Carbon Spider]   \n",
       "4  mitre-attack      APT1  [APT1, Comment Crew, Comment Group, Comment Pa...   \n",
       "\n",
       "  group_id                                  group_description  \n",
       "0    G0005  APT12 is a threat group that has been attribut...  \n",
       "1    G0016  APT29 is threat group that has been attributed...  \n",
       "2    G0057  APT34 is an Iranian cyber espionage group that...  \n",
       "3    G0008  Carbanak is a threat group that mainly targets...  \n",
       "4    G0006  APT1 is a Chinese threat group that has been a...  "
      ]
     },
     "execution_count": 16,
     "metadata": {},
     "output_type": "execute_result"
    }
   ],
   "source": [
    "print(\"Number of Groups in ATT&CK\")\n",
    "print(len(all_attack['groups']))\n",
    "groups = all_attack['groups']\n",
    "df = json_normalize(groups)\n",
    "df.reindex(['matrix', 'group', 'group_aliases', 'group_id', 'group_description'], axis=1)[0:5]"
   ]
  },
  {
   "cell_type": "markdown",
   "metadata": {},
   "source": [
    "**Showing the schema of Groups**"
   ]
  },
  {
   "cell_type": "code",
   "execution_count": 17,
   "metadata": {},
   "outputs": [
    {
     "data": {
      "text/plain": [
       "['created',\n",
       " 'created_by_ref',\n",
       " 'group',\n",
       " 'group_aliases',\n",
       " 'group_description',\n",
       " 'group_id',\n",
       " 'group_references',\n",
       " 'id',\n",
       " 'matrix',\n",
       " 'modified',\n",
       " 'type',\n",
       " 'url']"
      ]
     },
     "execution_count": 17,
     "metadata": {},
     "output_type": "execute_result"
    }
   ],
   "source": [
    "list(df)"
   ]
  },
  {
   "cell_type": "markdown",
   "metadata": {},
   "source": [
    "**Showing one Groups example**"
   ]
  },
  {
   "cell_type": "code",
   "execution_count": 18,
   "metadata": {},
   "outputs": [
    {
     "data": {
      "text/plain": [
       "{'type': 'intrusion-set',\n",
       " 'id': 'intrusion-set--c47f937f-1022-4f42-8525-e7a4779a14cb',\n",
       " 'created_by_ref': 'identity--c78cb6e5-0c4b-4611-8297-d1b8b55e40b5',\n",
       " 'matrix': 'mitre-attack',\n",
       " 'created': '2017-05-31 21:31:47.537000+00:00',\n",
       " 'modified': '2018-01-17 12:56:55.080000+00:00',\n",
       " 'url': 'https://attack.mitre.org/wiki/Group/G0005',\n",
       " 'group': 'APT12',\n",
       " 'group_description': 'APT12 is a threat group that has been attributed to China. (Citation: Meyers Numbered Panda)',\n",
       " 'group_aliases': ['APT12', 'IXESHE', 'DynCalc', 'Numbered Panda', 'DNSCALC'],\n",
       " 'group_id': 'G0005',\n",
       " 'group_references': ['https://attack.mitre.org/wiki/Group/G0005',\n",
       "  'http://www.crowdstrike.com/blog/whois-numbered-panda/']}"
      ]
     },
     "execution_count": 18,
     "metadata": {},
     "output_type": "execute_result"
    }
   ],
   "source": [
    "groups[0]"
   ]
  },
  {
   "cell_type": "markdown",
   "metadata": {},
   "source": [
    "### Get All Malware objects from ATT&CK Results (Locally)"
   ]
  },
  {
   "cell_type": "code",
   "execution_count": 19,
   "metadata": {},
   "outputs": [
    {
     "name": "stdout",
     "output_type": "stream",
     "text": [
      "Number of Malware in ATT&CK\n",
      "223\n"
     ]
    },
    {
     "data": {
      "text/html": [
       "<div>\n",
       "<style scoped>\n",
       "    .dataframe tbody tr th:only-of-type {\n",
       "        vertical-align: middle;\n",
       "    }\n",
       "\n",
       "    .dataframe tbody tr th {\n",
       "        vertical-align: top;\n",
       "    }\n",
       "\n",
       "    .dataframe thead th {\n",
       "        text-align: right;\n",
       "    }\n",
       "</style>\n",
       "<table border=\"1\" class=\"dataframe\">\n",
       "  <thead>\n",
       "    <tr style=\"text-align: right;\">\n",
       "      <th></th>\n",
       "      <th>matrix</th>\n",
       "      <th>software</th>\n",
       "      <th>software_labels</th>\n",
       "      <th>software_id</th>\n",
       "      <th>software_description</th>\n",
       "    </tr>\n",
       "  </thead>\n",
       "  <tbody>\n",
       "    <tr>\n",
       "      <th>0</th>\n",
       "      <td>mitre-attack</td>\n",
       "      <td>4H RAT</td>\n",
       "      <td>[malware]</td>\n",
       "      <td>S0065</td>\n",
       "      <td>4H RAT is malware that has been used by Putter...</td>\n",
       "    </tr>\n",
       "    <tr>\n",
       "      <th>1</th>\n",
       "      <td>mitre-attack</td>\n",
       "      <td>AutoIt backdoor</td>\n",
       "      <td>[malware]</td>\n",
       "      <td>S0129</td>\n",
       "      <td>AutoIt backdoor is malware that has been used ...</td>\n",
       "    </tr>\n",
       "    <tr>\n",
       "      <th>2</th>\n",
       "      <td>mitre-attack</td>\n",
       "      <td>Backdoor.Oldrea</td>\n",
       "      <td>[malware]</td>\n",
       "      <td>S0093</td>\n",
       "      <td>Backdoor.Oldrea is a backdoor used by Dragonfl...</td>\n",
       "    </tr>\n",
       "    <tr>\n",
       "      <th>3</th>\n",
       "      <td>mitre-attack</td>\n",
       "      <td>CHOPSTICK</td>\n",
       "      <td>[malware]</td>\n",
       "      <td>S0023</td>\n",
       "      <td>CHOPSTICK is malware family of modular backdoo...</td>\n",
       "    </tr>\n",
       "    <tr>\n",
       "      <th>4</th>\n",
       "      <td>mitre-attack</td>\n",
       "      <td>Carbanak</td>\n",
       "      <td>[malware]</td>\n",
       "      <td>S0030</td>\n",
       "      <td>Carbanak is a remote backdoor used by a group ...</td>\n",
       "    </tr>\n",
       "  </tbody>\n",
       "</table>\n",
       "</div>"
      ],
      "text/plain": [
       "         matrix         software software_labels software_id  \\\n",
       "0  mitre-attack           4H RAT       [malware]       S0065   \n",
       "1  mitre-attack  AutoIt backdoor       [malware]       S0129   \n",
       "2  mitre-attack  Backdoor.Oldrea       [malware]       S0093   \n",
       "3  mitre-attack        CHOPSTICK       [malware]       S0023   \n",
       "4  mitre-attack         Carbanak       [malware]       S0030   \n",
       "\n",
       "                                software_description  \n",
       "0  4H RAT is malware that has been used by Putter...  \n",
       "1  AutoIt backdoor is malware that has been used ...  \n",
       "2  Backdoor.Oldrea is a backdoor used by Dragonfl...  \n",
       "3  CHOPSTICK is malware family of modular backdoo...  \n",
       "4  Carbanak is a remote backdoor used by a group ...  "
      ]
     },
     "execution_count": 19,
     "metadata": {},
     "output_type": "execute_result"
    }
   ],
   "source": [
    "print(\"Number of Malware in ATT&CK\")\n",
    "print(len(all_attack['malware']))\n",
    "malware = all_attack['malware']\n",
    "df = json_normalize(malware)\n",
    "df.reindex(['matrix', 'software', 'software_labels', 'software_id', 'software_description'], axis=1)[0:5]"
   ]
  },
  {
   "cell_type": "markdown",
   "metadata": {},
   "source": [
    "**Showing the schema of Malware**"
   ]
  },
  {
   "cell_type": "code",
   "execution_count": 20,
   "metadata": {},
   "outputs": [
    {
     "data": {
      "text/plain": [
       "['created',\n",
       " 'created_by_ref',\n",
       " 'id',\n",
       " 'matrix',\n",
       " 'modified',\n",
       " 'software',\n",
       " 'software_aliases',\n",
       " 'software_description',\n",
       " 'software_id',\n",
       " 'software_labels',\n",
       " 'software_references',\n",
       " 'type',\n",
       " 'url']"
      ]
     },
     "execution_count": 20,
     "metadata": {},
     "output_type": "execute_result"
    }
   ],
   "source": [
    "list(df)"
   ]
  },
  {
   "cell_type": "markdown",
   "metadata": {},
   "source": [
    "**Showing one Malware example**"
   ]
  },
  {
   "cell_type": "code",
   "execution_count": 21,
   "metadata": {},
   "outputs": [
    {
     "data": {
      "text/plain": [
       "{'type': 'malware',\n",
       " 'id': 'malware--8e461ca3-0996-4e6e-a0df-e2a5bbc51ebc',\n",
       " 'created_by_ref': 'identity--c78cb6e5-0c4b-4611-8297-d1b8b55e40b5',\n",
       " 'created': '2017-05-31 21:32:43.664000+00:00',\n",
       " 'modified': '2018-01-17 12:56:55.080000+00:00',\n",
       " 'matrix': 'mitre-attack',\n",
       " 'software': '4H RAT',\n",
       " 'software_description': '4H RAT is malware that has been used by Putter Panda since at least 2007. (Citation: CrowdStrike Putter Panda)\\n\\nAliases: 4H RAT',\n",
       " 'software_labels': ['malware'],\n",
       " 'software_id': 'S0065',\n",
       " 'url': 'https://attack.mitre.org/wiki/Software/S0065',\n",
       " 'software_aliases': ['4H RAT'],\n",
       " 'software_references': ['https://attack.mitre.org/wiki/Software/S0065',\n",
       "  'http://cdn0.vox-cdn.com/assets/4589853/crowdstrike-intelligence-report-putter-panda.original.pdf']}"
      ]
     },
     "execution_count": 21,
     "metadata": {},
     "output_type": "execute_result"
    }
   ],
   "source": [
    "malware[0]"
   ]
  },
  {
   "cell_type": "markdown",
   "metadata": {},
   "source": [
    "### Get All Tools from ATT&CK Results (Locally)"
   ]
  },
  {
   "cell_type": "code",
   "execution_count": 22,
   "metadata": {},
   "outputs": [
    {
     "name": "stdout",
     "output_type": "stream",
     "text": [
      "Number of Tools in ATT&CK\n",
      "46\n"
     ]
    },
    {
     "data": {
      "text/html": [
       "<div>\n",
       "<style scoped>\n",
       "    .dataframe tbody tr th:only-of-type {\n",
       "        vertical-align: middle;\n",
       "    }\n",
       "\n",
       "    .dataframe tbody tr th {\n",
       "        vertical-align: top;\n",
       "    }\n",
       "\n",
       "    .dataframe thead th {\n",
       "        text-align: right;\n",
       "    }\n",
       "</style>\n",
       "<table border=\"1\" class=\"dataframe\">\n",
       "  <thead>\n",
       "    <tr style=\"text-align: right;\">\n",
       "      <th></th>\n",
       "      <th>matrix</th>\n",
       "      <th>software</th>\n",
       "      <th>software_labels</th>\n",
       "      <th>software_id</th>\n",
       "      <th>software_description</th>\n",
       "    </tr>\n",
       "  </thead>\n",
       "  <tbody>\n",
       "    <tr>\n",
       "      <th>0</th>\n",
       "      <td>mitre-attack</td>\n",
       "      <td>BITSAdmin</td>\n",
       "      <td>[tool]</td>\n",
       "      <td>S0190</td>\n",
       "      <td>is a command line tool used to create and mana...</td>\n",
       "    </tr>\n",
       "    <tr>\n",
       "      <th>1</th>\n",
       "      <td>mitre-attack</td>\n",
       "      <td>Forfiles</td>\n",
       "      <td>[tool]</td>\n",
       "      <td>S0193</td>\n",
       "      <td>Forfiles is a Windows utility commonly used in...</td>\n",
       "    </tr>\n",
       "    <tr>\n",
       "      <th>2</th>\n",
       "      <td>mitre-attack</td>\n",
       "      <td>Invoke-PSImage</td>\n",
       "      <td>[tool]</td>\n",
       "      <td>S0231</td>\n",
       "      <td>Invoke-PSImage takes a PowerShell script and e...</td>\n",
       "    </tr>\n",
       "    <tr>\n",
       "      <th>3</th>\n",
       "      <td>mitre-attack</td>\n",
       "      <td>MimiPenguin</td>\n",
       "      <td>[tool]</td>\n",
       "      <td>S0179</td>\n",
       "      <td>MimiPenguin is a credential dumper, similar to...</td>\n",
       "    </tr>\n",
       "    <tr>\n",
       "      <th>4</th>\n",
       "      <td>mitre-attack</td>\n",
       "      <td>Net</td>\n",
       "      <td>[tool]</td>\n",
       "      <td>S0039</td>\n",
       "      <td>The Net utility is a component of the Windows ...</td>\n",
       "    </tr>\n",
       "  </tbody>\n",
       "</table>\n",
       "</div>"
      ],
      "text/plain": [
       "         matrix        software software_labels software_id  \\\n",
       "0  mitre-attack       BITSAdmin          [tool]       S0190   \n",
       "1  mitre-attack        Forfiles          [tool]       S0193   \n",
       "2  mitre-attack  Invoke-PSImage          [tool]       S0231   \n",
       "3  mitre-attack     MimiPenguin          [tool]       S0179   \n",
       "4  mitre-attack             Net          [tool]       S0039   \n",
       "\n",
       "                                software_description  \n",
       "0  is a command line tool used to create and mana...  \n",
       "1  Forfiles is a Windows utility commonly used in...  \n",
       "2  Invoke-PSImage takes a PowerShell script and e...  \n",
       "3  MimiPenguin is a credential dumper, similar to...  \n",
       "4  The Net utility is a component of the Windows ...  "
      ]
     },
     "execution_count": 22,
     "metadata": {},
     "output_type": "execute_result"
    }
   ],
   "source": [
    "print(\"Number of Tools in ATT&CK\")\n",
    "print(len(all_attack['tools']))\n",
    "tools = all_attack['tools']\n",
    "df = json_normalize(tools)\n",
    "df.reindex(['matrix', 'software', 'software_labels', 'software_id', 'software_description'], axis=1)[0:5]"
   ]
  },
  {
   "cell_type": "markdown",
   "metadata": {},
   "source": [
    "**Showing the schema of Tools**"
   ]
  },
  {
   "cell_type": "code",
   "execution_count": 23,
   "metadata": {},
   "outputs": [
    {
     "data": {
      "text/plain": [
       "['created',\n",
       " 'created_by_ref',\n",
       " 'id',\n",
       " 'matrix',\n",
       " 'modified',\n",
       " 'software',\n",
       " 'software_aliases',\n",
       " 'software_description',\n",
       " 'software_id',\n",
       " 'software_labels',\n",
       " 'software_references',\n",
       " 'type',\n",
       " 'url']"
      ]
     },
     "execution_count": 23,
     "metadata": {},
     "output_type": "execute_result"
    }
   ],
   "source": [
    "list(df)"
   ]
  },
  {
   "cell_type": "markdown",
   "metadata": {},
   "source": [
    "**Showing one Tool example**"
   ]
  },
  {
   "cell_type": "code",
   "execution_count": 24,
   "metadata": {},
   "outputs": [
    {
     "data": {
      "text/plain": [
       "{'type': 'tool',\n",
       " 'id': 'tool--64764dc6-a032-495f-8250-1e4c06bdc163',\n",
       " 'created_by_ref': 'identity--c78cb6e5-0c4b-4611-8297-d1b8b55e40b5',\n",
       " 'created': '2018-04-18 17:59:24.739000+00:00',\n",
       " 'modified': '2018-04-18 17:59:24.739000+00:00',\n",
       " 'matrix': 'mitre-attack',\n",
       " 'software': 'BITSAdmin',\n",
       " 'software_description': 'is a command line tool used to create and manage BITS Jobs. (Citation: Microsoft BITSAdmin)\\n\\nAliases: BITSAdmin',\n",
       " 'software_labels': ['tool'],\n",
       " 'software_id': 'S0190',\n",
       " 'url': 'https://attack.mitre.org/wiki/Software/S0190',\n",
       " 'software_aliases': ['BITSAdmin'],\n",
       " 'software_references': ['https://attack.mitre.org/wiki/Software/S0190',\n",
       "  'https://msdn.microsoft.com/library/aa362813.aspx']}"
      ]
     },
     "execution_count": 24,
     "metadata": {},
     "output_type": "execute_result"
    }
   ],
   "source": [
    "tools[0]"
   ]
  },
  {
   "cell_type": "markdown",
   "metadata": {},
   "source": [
    "### Get All Relationships from ATT&CK Results (Locally)"
   ]
  },
  {
   "cell_type": "code",
   "execution_count": 25,
   "metadata": {},
   "outputs": [
    {
     "name": "stdout",
     "output_type": "stream",
     "text": [
      "Number of Relationships in ATT&CK\n",
      "3066\n"
     ]
    },
    {
     "data": {
      "text/html": [
       "<div>\n",
       "<style scoped>\n",
       "    .dataframe tbody tr th:only-of-type {\n",
       "        vertical-align: middle;\n",
       "    }\n",
       "\n",
       "    .dataframe tbody tr th {\n",
       "        vertical-align: top;\n",
       "    }\n",
       "\n",
       "    .dataframe thead th {\n",
       "        text-align: right;\n",
       "    }\n",
       "</style>\n",
       "<table border=\"1\" class=\"dataframe\">\n",
       "  <thead>\n",
       "    <tr style=\"text-align: right;\">\n",
       "      <th></th>\n",
       "      <th>id</th>\n",
       "      <th>relationship</th>\n",
       "      <th>source_object</th>\n",
       "      <th>target_object</th>\n",
       "    </tr>\n",
       "  </thead>\n",
       "  <tbody>\n",
       "    <tr>\n",
       "      <th>0</th>\n",
       "      <td>relationship--3d635b23-78b7-4de4-9417-8077787c...</td>\n",
       "      <td>mitigates</td>\n",
       "      <td>course-of-action--5c49bc54-9929-48ca-b581-7018...</td>\n",
       "      <td>attack-pattern--72b74d71-8169-42aa-92e0-e7b04b...</td>\n",
       "    </tr>\n",
       "    <tr>\n",
       "      <th>1</th>\n",
       "      <td>relationship--e1275bcd-0462-4f79-b18f-2132b0bb...</td>\n",
       "      <td>mitigates</td>\n",
       "      <td>course-of-action--c88151a5-fe3f-4773-8147-d801...</td>\n",
       "      <td>attack-pattern--327f3cc5-eea1-42d4-a6cd-ed34b7...</td>\n",
       "    </tr>\n",
       "    <tr>\n",
       "      <th>2</th>\n",
       "      <td>relationship--fa04ac7f-206f-42ad-b0c7-499e57bc...</td>\n",
       "      <td>mitigates</td>\n",
       "      <td>course-of-action--8bd1ae32-a686-48f4-a6f8-4702...</td>\n",
       "      <td>attack-pattern--30208d3e-0d6b-43c8-883e-44462a...</td>\n",
       "    </tr>\n",
       "    <tr>\n",
       "      <th>3</th>\n",
       "      <td>relationship--49dd2ac1-cd3a-46db-89d7-307c6597...</td>\n",
       "      <td>mitigates</td>\n",
       "      <td>course-of-action--96150c35-466f-4f0a-97a9-ae87...</td>\n",
       "      <td>attack-pattern--02fefddc-fb1b-423f-a76b-7552dd...</td>\n",
       "    </tr>\n",
       "    <tr>\n",
       "      <th>4</th>\n",
       "      <td>relationship--162d2d29-7810-499c-a9ab-08b60cd0...</td>\n",
       "      <td>mitigates</td>\n",
       "      <td>course-of-action--91816292-3686-4a6e-83c4-4c08...</td>\n",
       "      <td>attack-pattern--7d6f590f-544b-45b4-9a42-e0805f...</td>\n",
       "    </tr>\n",
       "  </tbody>\n",
       "</table>\n",
       "</div>"
      ],
      "text/plain": [
       "                                                  id relationship  \\\n",
       "0  relationship--3d635b23-78b7-4de4-9417-8077787c...    mitigates   \n",
       "1  relationship--e1275bcd-0462-4f79-b18f-2132b0bb...    mitigates   \n",
       "2  relationship--fa04ac7f-206f-42ad-b0c7-499e57bc...    mitigates   \n",
       "3  relationship--49dd2ac1-cd3a-46db-89d7-307c6597...    mitigates   \n",
       "4  relationship--162d2d29-7810-499c-a9ab-08b60cd0...    mitigates   \n",
       "\n",
       "                                       source_object  \\\n",
       "0  course-of-action--5c49bc54-9929-48ca-b581-7018...   \n",
       "1  course-of-action--c88151a5-fe3f-4773-8147-d801...   \n",
       "2  course-of-action--8bd1ae32-a686-48f4-a6f8-4702...   \n",
       "3  course-of-action--96150c35-466f-4f0a-97a9-ae87...   \n",
       "4  course-of-action--91816292-3686-4a6e-83c4-4c08...   \n",
       "\n",
       "                                       target_object  \n",
       "0  attack-pattern--72b74d71-8169-42aa-92e0-e7b04b...  \n",
       "1  attack-pattern--327f3cc5-eea1-42d4-a6cd-ed34b7...  \n",
       "2  attack-pattern--30208d3e-0d6b-43c8-883e-44462a...  \n",
       "3  attack-pattern--02fefddc-fb1b-423f-a76b-7552dd...  \n",
       "4  attack-pattern--7d6f590f-544b-45b4-9a42-e0805f...  "
      ]
     },
     "execution_count": 25,
     "metadata": {},
     "output_type": "execute_result"
    }
   ],
   "source": [
    "print(\"Number of Relationships in ATT&CK\")\n",
    "print(len(all_attack['relationships']))\n",
    "relationships = all_attack['relationships']\n",
    "df = json_normalize(relationships)\n",
    "df.reindex(['id','relationship', 'source_object', 'target_object'], axis=1)[0:5]"
   ]
  },
  {
   "cell_type": "markdown",
   "metadata": {},
   "source": [
    "**Showing the schema of Relationships**"
   ]
  },
  {
   "cell_type": "code",
   "execution_count": 26,
   "metadata": {},
   "outputs": [
    {
     "data": {
      "text/plain": [
       "['created',\n",
       " 'created_by_ref',\n",
       " 'id',\n",
       " 'modified',\n",
       " 'relationship',\n",
       " 'relationship_description',\n",
       " 'source_object',\n",
       " 'target_object',\n",
       " 'type']"
      ]
     },
     "execution_count": 26,
     "metadata": {},
     "output_type": "execute_result"
    }
   ],
   "source": [
    "list(df)"
   ]
  },
  {
   "cell_type": "markdown",
   "metadata": {},
   "source": [
    "**Showing one Relationship example**"
   ]
  },
  {
   "cell_type": "code",
   "execution_count": 27,
   "metadata": {},
   "outputs": [
    {
     "data": {
      "text/plain": [
       "{'type': 'relationship',\n",
       " 'id': 'relationship--3d635b23-78b7-4de4-9417-8077787c7c0b',\n",
       " 'created_by_ref': 'identity--c78cb6e5-0c4b-4611-8297-d1b8b55e40b5',\n",
       " 'created': '2017-05-31 21:33:27.026000+00:00',\n",
       " 'modified': '2018-01-17 12:56:55.080000+00:00',\n",
       " 'relationship': 'mitigates',\n",
       " 'relationship_description': None,\n",
       " 'source_object': 'course-of-action--5c49bc54-9929-48ca-b581-7018219b5a97',\n",
       " 'target_object': 'attack-pattern--72b74d71-8169-42aa-92e0-e7b04b9f5a08'}"
      ]
     },
     "execution_count": 27,
     "metadata": {},
     "output_type": "execute_result"
    }
   ],
   "source": [
    "relationships[0]"
   ]
  },
  {
   "cell_type": "markdown",
   "metadata": {},
   "source": [
    "### Get All Enterprise ATT&CK ONLY from Results (Locally)"
   ]
  },
  {
   "cell_type": "markdown",
   "metadata": {},
   "source": [
    "**Enterprise Techniques**"
   ]
  },
  {
   "cell_type": "code",
   "execution_count": 28,
   "metadata": {},
   "outputs": [
    {
     "name": "stdout",
     "output_type": "stream",
     "text": [
      "Number of Techniques in Enterprise ATT&CK\n",
      "219\n"
     ]
    },
    {
     "data": {
      "text/html": [
       "<div>\n",
       "<style scoped>\n",
       "    .dataframe tbody tr th:only-of-type {\n",
       "        vertical-align: middle;\n",
       "    }\n",
       "\n",
       "    .dataframe tbody tr th {\n",
       "        vertical-align: top;\n",
       "    }\n",
       "\n",
       "    .dataframe thead th {\n",
       "        text-align: right;\n",
       "    }\n",
       "</style>\n",
       "<table border=\"1\" class=\"dataframe\">\n",
       "  <thead>\n",
       "    <tr style=\"text-align: right;\">\n",
       "      <th></th>\n",
       "      <th>matrix</th>\n",
       "      <th>tactic</th>\n",
       "      <th>technique</th>\n",
       "      <th>technique_id</th>\n",
       "      <th>data_sources</th>\n",
       "    </tr>\n",
       "  </thead>\n",
       "  <tbody>\n",
       "    <tr>\n",
       "      <th>0</th>\n",
       "      <td>mitre-attack</td>\n",
       "      <td>[persistence]</td>\n",
       "      <td>.bash_profile and .bashrc</td>\n",
       "      <td>T1156</td>\n",
       "      <td>[File monitoring, Process Monitoring, Process ...</td>\n",
       "    </tr>\n",
       "    <tr>\n",
       "      <th>1</th>\n",
       "      <td>mitre-attack</td>\n",
       "      <td>[defense-evasion, privilege-escalation]</td>\n",
       "      <td>Access Token Manipulation</td>\n",
       "      <td>T1134</td>\n",
       "      <td>[API monitoring, Access Tokens]</td>\n",
       "    </tr>\n",
       "    <tr>\n",
       "      <th>2</th>\n",
       "      <td>mitre-attack</td>\n",
       "      <td>[persistence, privilege-escalation]</td>\n",
       "      <td>Accessibility Features</td>\n",
       "      <td>T1015</td>\n",
       "      <td>[Windows Registry, File monitoring, Process mo...</td>\n",
       "    </tr>\n",
       "    <tr>\n",
       "      <th>3</th>\n",
       "      <td>mitre-attack</td>\n",
       "      <td>[credential-access]</td>\n",
       "      <td>Account Manipulation</td>\n",
       "      <td>T1098</td>\n",
       "      <td>[Authentication logs, API monitoring, Windows ...</td>\n",
       "    </tr>\n",
       "    <tr>\n",
       "      <th>4</th>\n",
       "      <td>mitre-attack</td>\n",
       "      <td>[discovery]</td>\n",
       "      <td>Account Discovery</td>\n",
       "      <td>T1087</td>\n",
       "      <td>[API monitoring, Process command-line paramete...</td>\n",
       "    </tr>\n",
       "  </tbody>\n",
       "</table>\n",
       "</div>"
      ],
      "text/plain": [
       "         matrix                                   tactic  \\\n",
       "0  mitre-attack                            [persistence]   \n",
       "1  mitre-attack  [defense-evasion, privilege-escalation]   \n",
       "2  mitre-attack      [persistence, privilege-escalation]   \n",
       "3  mitre-attack                      [credential-access]   \n",
       "4  mitre-attack                              [discovery]   \n",
       "\n",
       "                   technique technique_id  \\\n",
       "0  .bash_profile and .bashrc        T1156   \n",
       "1  Access Token Manipulation        T1134   \n",
       "2     Accessibility Features        T1015   \n",
       "3       Account Manipulation        T1098   \n",
       "4          Account Discovery        T1087   \n",
       "\n",
       "                                        data_sources  \n",
       "0  [File monitoring, Process Monitoring, Process ...  \n",
       "1                    [API monitoring, Access Tokens]  \n",
       "2  [Windows Registry, File monitoring, Process mo...  \n",
       "3  [Authentication logs, API monitoring, Windows ...  \n",
       "4  [API monitoring, Process command-line paramete...  "
      ]
     },
     "execution_count": 28,
     "metadata": {},
     "output_type": "execute_result"
    }
   ],
   "source": [
    "print(\"Number of Techniques in Enterprise ATT&CK\")\n",
    "print(len(all_enterprise['techniques']))\n",
    "df = all_enterprise['techniques']\n",
    "df = json_normalize(df)\n",
    "df.reindex(['matrix', 'tactic', 'technique', 'technique_id', 'data_sources'], axis=1)[0:5]"
   ]
  },
  {
   "cell_type": "markdown",
   "metadata": {},
   "source": [
    "**Enterprise Mitigations**"
   ]
  },
  {
   "cell_type": "code",
   "execution_count": 29,
   "metadata": {},
   "outputs": [
    {
     "name": "stdout",
     "output_type": "stream",
     "text": [
      "Number of Mitigations in Enterprise ATT&CK\n",
      "215\n"
     ]
    },
    {
     "data": {
      "text/html": [
       "<div>\n",
       "<style scoped>\n",
       "    .dataframe tbody tr th:only-of-type {\n",
       "        vertical-align: middle;\n",
       "    }\n",
       "\n",
       "    .dataframe tbody tr th {\n",
       "        vertical-align: top;\n",
       "    }\n",
       "\n",
       "    .dataframe thead th {\n",
       "        text-align: right;\n",
       "    }\n",
       "</style>\n",
       "<table border=\"1\" class=\"dataframe\">\n",
       "  <thead>\n",
       "    <tr style=\"text-align: right;\">\n",
       "      <th></th>\n",
       "      <th>matrix</th>\n",
       "      <th>mitigation</th>\n",
       "      <th>mitigation_description</th>\n",
       "      <th>url</th>\n",
       "    </tr>\n",
       "  </thead>\n",
       "  <tbody>\n",
       "    <tr>\n",
       "      <th>0</th>\n",
       "      <td>mitre-attack</td>\n",
       "      <td>.bash_profile and .bashrc Mitigation</td>\n",
       "      <td>Making these files immutable and only changeab...</td>\n",
       "      <td>https://attack.mitre.org/wiki/Technique/T1156</td>\n",
       "    </tr>\n",
       "    <tr>\n",
       "      <th>1</th>\n",
       "      <td>mitre-attack</td>\n",
       "      <td>Access Token Manipulation Mitigation</td>\n",
       "      <td>Access tokens are an integral part of the secu...</td>\n",
       "      <td>https://attack.mitre.org/wiki/Technique/T1134</td>\n",
       "    </tr>\n",
       "    <tr>\n",
       "      <th>2</th>\n",
       "      <td>mitre-attack</td>\n",
       "      <td>Accessibility Features Mitigation</td>\n",
       "      <td>To use this technique remotely, an adversary m...</td>\n",
       "      <td>https://attack.mitre.org/wiki/Technique/T1015</td>\n",
       "    </tr>\n",
       "    <tr>\n",
       "      <th>3</th>\n",
       "      <td>mitre-attack</td>\n",
       "      <td>Account Discovery Mitigation</td>\n",
       "      <td>Prevent administrator accounts from being enum...</td>\n",
       "      <td>https://attack.mitre.org/wiki/Technique/T1087</td>\n",
       "    </tr>\n",
       "    <tr>\n",
       "      <th>4</th>\n",
       "      <td>mitre-attack</td>\n",
       "      <td>Account Manipulation Mitigation</td>\n",
       "      <td>Use multifactor authentication. Follow guideli...</td>\n",
       "      <td>https://attack.mitre.org/wiki/Technique/T1098</td>\n",
       "    </tr>\n",
       "  </tbody>\n",
       "</table>\n",
       "</div>"
      ],
      "text/plain": [
       "         matrix                            mitigation  \\\n",
       "0  mitre-attack  .bash_profile and .bashrc Mitigation   \n",
       "1  mitre-attack  Access Token Manipulation Mitigation   \n",
       "2  mitre-attack     Accessibility Features Mitigation   \n",
       "3  mitre-attack          Account Discovery Mitigation   \n",
       "4  mitre-attack       Account Manipulation Mitigation   \n",
       "\n",
       "                              mitigation_description  \\\n",
       "0  Making these files immutable and only changeab...   \n",
       "1  Access tokens are an integral part of the secu...   \n",
       "2  To use this technique remotely, an adversary m...   \n",
       "3  Prevent administrator accounts from being enum...   \n",
       "4  Use multifactor authentication. Follow guideli...   \n",
       "\n",
       "                                             url  \n",
       "0  https://attack.mitre.org/wiki/Technique/T1156  \n",
       "1  https://attack.mitre.org/wiki/Technique/T1134  \n",
       "2  https://attack.mitre.org/wiki/Technique/T1015  \n",
       "3  https://attack.mitre.org/wiki/Technique/T1087  \n",
       "4  https://attack.mitre.org/wiki/Technique/T1098  "
      ]
     },
     "execution_count": 29,
     "metadata": {},
     "output_type": "execute_result"
    }
   ],
   "source": [
    "print(\"Number of Mitigations in Enterprise ATT&CK\")\n",
    "print(len(all_enterprise['mitigations']))\n",
    "df = all_enterprise['mitigations']\n",
    "df = json_normalize(df)\n",
    "df.reindex(['matrix','mitigation', 'mitigation_description', 'url'], axis=1)[0:5]"
   ]
  },
  {
   "cell_type": "markdown",
   "metadata": {},
   "source": [
    "**Enterprise Groups**"
   ]
  },
  {
   "cell_type": "code",
   "execution_count": 30,
   "metadata": {},
   "outputs": [
    {
     "name": "stdout",
     "output_type": "stream",
     "text": [
      "Number of Groups in Enterprise ATT&CK\n",
      "69\n"
     ]
    },
    {
     "data": {
      "text/html": [
       "<div>\n",
       "<style scoped>\n",
       "    .dataframe tbody tr th:only-of-type {\n",
       "        vertical-align: middle;\n",
       "    }\n",
       "\n",
       "    .dataframe tbody tr th {\n",
       "        vertical-align: top;\n",
       "    }\n",
       "\n",
       "    .dataframe thead th {\n",
       "        text-align: right;\n",
       "    }\n",
       "</style>\n",
       "<table border=\"1\" class=\"dataframe\">\n",
       "  <thead>\n",
       "    <tr style=\"text-align: right;\">\n",
       "      <th></th>\n",
       "      <th>matrix</th>\n",
       "      <th>group</th>\n",
       "      <th>group_aliases</th>\n",
       "      <th>group_id</th>\n",
       "      <th>group_description</th>\n",
       "    </tr>\n",
       "  </thead>\n",
       "  <tbody>\n",
       "    <tr>\n",
       "      <th>0</th>\n",
       "      <td>mitre-attack</td>\n",
       "      <td>APT12</td>\n",
       "      <td>[APT12, IXESHE, DynCalc, Numbered Panda, DNSCALC]</td>\n",
       "      <td>G0005</td>\n",
       "      <td>APT12 is a threat group that has been attribut...</td>\n",
       "    </tr>\n",
       "    <tr>\n",
       "      <th>1</th>\n",
       "      <td>mitre-attack</td>\n",
       "      <td>APT29</td>\n",
       "      <td>[APT29, The Dukes, Cozy Bear, CozyDuke]</td>\n",
       "      <td>G0016</td>\n",
       "      <td>APT29 is threat group that has been attributed...</td>\n",
       "    </tr>\n",
       "    <tr>\n",
       "      <th>2</th>\n",
       "      <td>mitre-attack</td>\n",
       "      <td>APT34</td>\n",
       "      <td>[APT34]</td>\n",
       "      <td>G0057</td>\n",
       "      <td>APT34 is an Iranian cyber espionage group that...</td>\n",
       "    </tr>\n",
       "    <tr>\n",
       "      <th>3</th>\n",
       "      <td>mitre-attack</td>\n",
       "      <td>Carbanak</td>\n",
       "      <td>[Carbanak, Anunak, Carbon Spider]</td>\n",
       "      <td>G0008</td>\n",
       "      <td>Carbanak is a threat group that mainly targets...</td>\n",
       "    </tr>\n",
       "    <tr>\n",
       "      <th>4</th>\n",
       "      <td>mitre-attack</td>\n",
       "      <td>APT1</td>\n",
       "      <td>[APT1, Comment Crew, Comment Group, Comment Pa...</td>\n",
       "      <td>G0006</td>\n",
       "      <td>APT1 is a Chinese threat group that has been a...</td>\n",
       "    </tr>\n",
       "  </tbody>\n",
       "</table>\n",
       "</div>"
      ],
      "text/plain": [
       "         matrix     group                                      group_aliases  \\\n",
       "0  mitre-attack     APT12  [APT12, IXESHE, DynCalc, Numbered Panda, DNSCALC]   \n",
       "1  mitre-attack     APT29            [APT29, The Dukes, Cozy Bear, CozyDuke]   \n",
       "2  mitre-attack     APT34                                            [APT34]   \n",
       "3  mitre-attack  Carbanak                  [Carbanak, Anunak, Carbon Spider]   \n",
       "4  mitre-attack      APT1  [APT1, Comment Crew, Comment Group, Comment Pa...   \n",
       "\n",
       "  group_id                                  group_description  \n",
       "0    G0005  APT12 is a threat group that has been attribut...  \n",
       "1    G0016  APT29 is threat group that has been attributed...  \n",
       "2    G0057  APT34 is an Iranian cyber espionage group that...  \n",
       "3    G0008  Carbanak is a threat group that mainly targets...  \n",
       "4    G0006  APT1 is a Chinese threat group that has been a...  "
      ]
     },
     "execution_count": 30,
     "metadata": {},
     "output_type": "execute_result"
    }
   ],
   "source": [
    "print(\"Number of Groups in Enterprise ATT&CK\")\n",
    "print(len(all_enterprise['groups']))\n",
    "df = all_enterprise['groups']\n",
    "df = json_normalize(df)\n",
    "df.reindex(['matrix', 'group', 'group_aliases', 'group_id', 'group_description'], axis=1)[0:5]"
   ]
  },
  {
   "cell_type": "markdown",
   "metadata": {},
   "source": [
    "**Enterprise Malware**"
   ]
  },
  {
   "cell_type": "code",
   "execution_count": 31,
   "metadata": {},
   "outputs": [
    {
     "name": "stdout",
     "output_type": "stream",
     "text": [
      "Number of Malware objects in Enterprise ATT&CK\n",
      "188\n"
     ]
    },
    {
     "data": {
      "text/html": [
       "<div>\n",
       "<style scoped>\n",
       "    .dataframe tbody tr th:only-of-type {\n",
       "        vertical-align: middle;\n",
       "    }\n",
       "\n",
       "    .dataframe tbody tr th {\n",
       "        vertical-align: top;\n",
       "    }\n",
       "\n",
       "    .dataframe thead th {\n",
       "        text-align: right;\n",
       "    }\n",
       "</style>\n",
       "<table border=\"1\" class=\"dataframe\">\n",
       "  <thead>\n",
       "    <tr style=\"text-align: right;\">\n",
       "      <th></th>\n",
       "      <th>matrix</th>\n",
       "      <th>software</th>\n",
       "      <th>software_labels</th>\n",
       "      <th>software_id</th>\n",
       "      <th>software_description</th>\n",
       "    </tr>\n",
       "  </thead>\n",
       "  <tbody>\n",
       "    <tr>\n",
       "      <th>0</th>\n",
       "      <td>mitre-attack</td>\n",
       "      <td>4H RAT</td>\n",
       "      <td>[malware]</td>\n",
       "      <td>S0065</td>\n",
       "      <td>4H RAT is malware that has been used by Putter...</td>\n",
       "    </tr>\n",
       "    <tr>\n",
       "      <th>1</th>\n",
       "      <td>mitre-attack</td>\n",
       "      <td>AutoIt backdoor</td>\n",
       "      <td>[malware]</td>\n",
       "      <td>S0129</td>\n",
       "      <td>AutoIt backdoor is malware that has been used ...</td>\n",
       "    </tr>\n",
       "    <tr>\n",
       "      <th>2</th>\n",
       "      <td>mitre-attack</td>\n",
       "      <td>Backdoor.Oldrea</td>\n",
       "      <td>[malware]</td>\n",
       "      <td>S0093</td>\n",
       "      <td>Backdoor.Oldrea is a backdoor used by Dragonfl...</td>\n",
       "    </tr>\n",
       "    <tr>\n",
       "      <th>3</th>\n",
       "      <td>mitre-attack</td>\n",
       "      <td>CHOPSTICK</td>\n",
       "      <td>[malware]</td>\n",
       "      <td>S0023</td>\n",
       "      <td>CHOPSTICK is malware family of modular backdoo...</td>\n",
       "    </tr>\n",
       "    <tr>\n",
       "      <th>4</th>\n",
       "      <td>mitre-attack</td>\n",
       "      <td>Carbanak</td>\n",
       "      <td>[malware]</td>\n",
       "      <td>S0030</td>\n",
       "      <td>Carbanak is a remote backdoor used by a group ...</td>\n",
       "    </tr>\n",
       "  </tbody>\n",
       "</table>\n",
       "</div>"
      ],
      "text/plain": [
       "         matrix         software software_labels software_id  \\\n",
       "0  mitre-attack           4H RAT       [malware]       S0065   \n",
       "1  mitre-attack  AutoIt backdoor       [malware]       S0129   \n",
       "2  mitre-attack  Backdoor.Oldrea       [malware]       S0093   \n",
       "3  mitre-attack        CHOPSTICK       [malware]       S0023   \n",
       "4  mitre-attack         Carbanak       [malware]       S0030   \n",
       "\n",
       "                                software_description  \n",
       "0  4H RAT is malware that has been used by Putter...  \n",
       "1  AutoIt backdoor is malware that has been used ...  \n",
       "2  Backdoor.Oldrea is a backdoor used by Dragonfl...  \n",
       "3  CHOPSTICK is malware family of modular backdoo...  \n",
       "4  Carbanak is a remote backdoor used by a group ...  "
      ]
     },
     "execution_count": 31,
     "metadata": {},
     "output_type": "execute_result"
    }
   ],
   "source": [
    "print(\"Number of Malware objects in Enterprise ATT&CK\")\n",
    "print(len(all_enterprise['malware']))\n",
    "df = all_enterprise['malware']\n",
    "df = json_normalize(df)\n",
    "df.reindex(['matrix', 'software', 'software_labels', 'software_id', 'software_description'], axis=1)[0:5]"
   ]
  },
  {
   "cell_type": "markdown",
   "metadata": {},
   "source": [
    "**Enterprise Tools**"
   ]
  },
  {
   "cell_type": "code",
   "execution_count": 32,
   "metadata": {},
   "outputs": [
    {
     "name": "stdout",
     "output_type": "stream",
     "text": [
      "Number of Tools in Enterprise ATT&CK\n",
      "45\n"
     ]
    },
    {
     "data": {
      "text/html": [
       "<div>\n",
       "<style scoped>\n",
       "    .dataframe tbody tr th:only-of-type {\n",
       "        vertical-align: middle;\n",
       "    }\n",
       "\n",
       "    .dataframe tbody tr th {\n",
       "        vertical-align: top;\n",
       "    }\n",
       "\n",
       "    .dataframe thead th {\n",
       "        text-align: right;\n",
       "    }\n",
       "</style>\n",
       "<table border=\"1\" class=\"dataframe\">\n",
       "  <thead>\n",
       "    <tr style=\"text-align: right;\">\n",
       "      <th></th>\n",
       "      <th>matrix</th>\n",
       "      <th>software</th>\n",
       "      <th>software_labels</th>\n",
       "      <th>software_id</th>\n",
       "      <th>software_description</th>\n",
       "    </tr>\n",
       "  </thead>\n",
       "  <tbody>\n",
       "    <tr>\n",
       "      <th>0</th>\n",
       "      <td>mitre-attack</td>\n",
       "      <td>BITSAdmin</td>\n",
       "      <td>[tool]</td>\n",
       "      <td>S0190</td>\n",
       "      <td>is a command line tool used to create and mana...</td>\n",
       "    </tr>\n",
       "    <tr>\n",
       "      <th>1</th>\n",
       "      <td>mitre-attack</td>\n",
       "      <td>Forfiles</td>\n",
       "      <td>[tool]</td>\n",
       "      <td>S0193</td>\n",
       "      <td>Forfiles is a Windows utility commonly used in...</td>\n",
       "    </tr>\n",
       "    <tr>\n",
       "      <th>2</th>\n",
       "      <td>mitre-attack</td>\n",
       "      <td>Invoke-PSImage</td>\n",
       "      <td>[tool]</td>\n",
       "      <td>S0231</td>\n",
       "      <td>Invoke-PSImage takes a PowerShell script and e...</td>\n",
       "    </tr>\n",
       "    <tr>\n",
       "      <th>3</th>\n",
       "      <td>mitre-attack</td>\n",
       "      <td>MimiPenguin</td>\n",
       "      <td>[tool]</td>\n",
       "      <td>S0179</td>\n",
       "      <td>MimiPenguin is a credential dumper, similar to...</td>\n",
       "    </tr>\n",
       "    <tr>\n",
       "      <th>4</th>\n",
       "      <td>mitre-attack</td>\n",
       "      <td>Net</td>\n",
       "      <td>[tool]</td>\n",
       "      <td>S0039</td>\n",
       "      <td>The Net utility is a component of the Windows ...</td>\n",
       "    </tr>\n",
       "  </tbody>\n",
       "</table>\n",
       "</div>"
      ],
      "text/plain": [
       "         matrix        software software_labels software_id  \\\n",
       "0  mitre-attack       BITSAdmin          [tool]       S0190   \n",
       "1  mitre-attack        Forfiles          [tool]       S0193   \n",
       "2  mitre-attack  Invoke-PSImage          [tool]       S0231   \n",
       "3  mitre-attack     MimiPenguin          [tool]       S0179   \n",
       "4  mitre-attack             Net          [tool]       S0039   \n",
       "\n",
       "                                software_description  \n",
       "0  is a command line tool used to create and mana...  \n",
       "1  Forfiles is a Windows utility commonly used in...  \n",
       "2  Invoke-PSImage takes a PowerShell script and e...  \n",
       "3  MimiPenguin is a credential dumper, similar to...  \n",
       "4  The Net utility is a component of the Windows ...  "
      ]
     },
     "execution_count": 32,
     "metadata": {},
     "output_type": "execute_result"
    }
   ],
   "source": [
    "print(\"Number of Tools in Enterprise ATT&CK\")\n",
    "print(len(all_enterprise['tools']))\n",
    "df = all_enterprise['tools']\n",
    "df = json_normalize(df)\n",
    "df.reindex(['matrix', 'software', 'software_labels', 'software_id', 'software_description'], axis=1)[0:5]"
   ]
  },
  {
   "cell_type": "markdown",
   "metadata": {},
   "source": [
    "**Enterprise Relationships**"
   ]
  },
  {
   "cell_type": "code",
   "execution_count": 33,
   "metadata": {},
   "outputs": [
    {
     "name": "stdout",
     "output_type": "stream",
     "text": [
      "Number of Relationships in Enterprise ATT&CK\n",
      "2707\n"
     ]
    },
    {
     "data": {
      "text/html": [
       "<div>\n",
       "<style scoped>\n",
       "    .dataframe tbody tr th:only-of-type {\n",
       "        vertical-align: middle;\n",
       "    }\n",
       "\n",
       "    .dataframe tbody tr th {\n",
       "        vertical-align: top;\n",
       "    }\n",
       "\n",
       "    .dataframe thead th {\n",
       "        text-align: right;\n",
       "    }\n",
       "</style>\n",
       "<table border=\"1\" class=\"dataframe\">\n",
       "  <thead>\n",
       "    <tr style=\"text-align: right;\">\n",
       "      <th></th>\n",
       "      <th>id</th>\n",
       "      <th>relationship</th>\n",
       "      <th>source_object</th>\n",
       "      <th>target_object</th>\n",
       "    </tr>\n",
       "  </thead>\n",
       "  <tbody>\n",
       "    <tr>\n",
       "      <th>0</th>\n",
       "      <td>relationship--3d635b23-78b7-4de4-9417-8077787c...</td>\n",
       "      <td>mitigates</td>\n",
       "      <td>course-of-action--5c49bc54-9929-48ca-b581-7018...</td>\n",
       "      <td>attack-pattern--72b74d71-8169-42aa-92e0-e7b04b...</td>\n",
       "    </tr>\n",
       "    <tr>\n",
       "      <th>1</th>\n",
       "      <td>relationship--e1275bcd-0462-4f79-b18f-2132b0bb...</td>\n",
       "      <td>mitigates</td>\n",
       "      <td>course-of-action--c88151a5-fe3f-4773-8147-d801...</td>\n",
       "      <td>attack-pattern--327f3cc5-eea1-42d4-a6cd-ed34b7...</td>\n",
       "    </tr>\n",
       "    <tr>\n",
       "      <th>2</th>\n",
       "      <td>relationship--fa04ac7f-206f-42ad-b0c7-499e57bc...</td>\n",
       "      <td>mitigates</td>\n",
       "      <td>course-of-action--8bd1ae32-a686-48f4-a6f8-4702...</td>\n",
       "      <td>attack-pattern--30208d3e-0d6b-43c8-883e-44462a...</td>\n",
       "    </tr>\n",
       "    <tr>\n",
       "      <th>3</th>\n",
       "      <td>relationship--49dd2ac1-cd3a-46db-89d7-307c6597...</td>\n",
       "      <td>mitigates</td>\n",
       "      <td>course-of-action--96150c35-466f-4f0a-97a9-ae87...</td>\n",
       "      <td>attack-pattern--02fefddc-fb1b-423f-a76b-7552dd...</td>\n",
       "    </tr>\n",
       "    <tr>\n",
       "      <th>4</th>\n",
       "      <td>relationship--162d2d29-7810-499c-a9ab-08b60cd0...</td>\n",
       "      <td>mitigates</td>\n",
       "      <td>course-of-action--91816292-3686-4a6e-83c4-4c08...</td>\n",
       "      <td>attack-pattern--7d6f590f-544b-45b4-9a42-e0805f...</td>\n",
       "    </tr>\n",
       "  </tbody>\n",
       "</table>\n",
       "</div>"
      ],
      "text/plain": [
       "                                                  id relationship  \\\n",
       "0  relationship--3d635b23-78b7-4de4-9417-8077787c...    mitigates   \n",
       "1  relationship--e1275bcd-0462-4f79-b18f-2132b0bb...    mitigates   \n",
       "2  relationship--fa04ac7f-206f-42ad-b0c7-499e57bc...    mitigates   \n",
       "3  relationship--49dd2ac1-cd3a-46db-89d7-307c6597...    mitigates   \n",
       "4  relationship--162d2d29-7810-499c-a9ab-08b60cd0...    mitigates   \n",
       "\n",
       "                                       source_object  \\\n",
       "0  course-of-action--5c49bc54-9929-48ca-b581-7018...   \n",
       "1  course-of-action--c88151a5-fe3f-4773-8147-d801...   \n",
       "2  course-of-action--8bd1ae32-a686-48f4-a6f8-4702...   \n",
       "3  course-of-action--96150c35-466f-4f0a-97a9-ae87...   \n",
       "4  course-of-action--91816292-3686-4a6e-83c4-4c08...   \n",
       "\n",
       "                                       target_object  \n",
       "0  attack-pattern--72b74d71-8169-42aa-92e0-e7b04b...  \n",
       "1  attack-pattern--327f3cc5-eea1-42d4-a6cd-ed34b7...  \n",
       "2  attack-pattern--30208d3e-0d6b-43c8-883e-44462a...  \n",
       "3  attack-pattern--02fefddc-fb1b-423f-a76b-7552dd...  \n",
       "4  attack-pattern--7d6f590f-544b-45b4-9a42-e0805f...  "
      ]
     },
     "execution_count": 33,
     "metadata": {},
     "output_type": "execute_result"
    }
   ],
   "source": [
    "print(\"Number of Relationships in Enterprise ATT&CK\")\n",
    "print(len(all_enterprise['relationships']))\n",
    "df = all_enterprise['relationships']\n",
    "df = json_normalize(df)\n",
    "df.reindex(['id','relationship', 'source_object', 'target_object'], axis=1)[0:5]"
   ]
  },
  {
   "cell_type": "markdown",
   "metadata": {},
   "source": [
    "### Get All PRE-ATT&CK ONLY from Results (Locally)"
   ]
  },
  {
   "cell_type": "markdown",
   "metadata": {},
   "source": [
    "**PRE Techniques**"
   ]
  },
  {
   "cell_type": "code",
   "execution_count": 34,
   "metadata": {},
   "outputs": [
    {
     "name": "stdout",
     "output_type": "stream",
     "text": [
      "Number of Techniques in PRE-ATT&CK\n",
      "174\n"
     ]
    },
    {
     "data": {
      "text/html": [
       "<div>\n",
       "<style scoped>\n",
       "    .dataframe tbody tr th:only-of-type {\n",
       "        vertical-align: middle;\n",
       "    }\n",
       "\n",
       "    .dataframe tbody tr th {\n",
       "        vertical-align: top;\n",
       "    }\n",
       "\n",
       "    .dataframe thead th {\n",
       "        text-align: right;\n",
       "    }\n",
       "</style>\n",
       "<table border=\"1\" class=\"dataframe\">\n",
       "  <thead>\n",
       "    <tr style=\"text-align: right;\">\n",
       "      <th></th>\n",
       "      <th>matrix</th>\n",
       "      <th>tactic</th>\n",
       "      <th>technique</th>\n",
       "      <th>technique_id</th>\n",
       "      <th>detectable_by_common_defenses</th>\n",
       "    </tr>\n",
       "  </thead>\n",
       "  <tbody>\n",
       "    <tr>\n",
       "      <th>0</th>\n",
       "      <td>mitre-pre-attack</td>\n",
       "      <td>[adversary-opsec]</td>\n",
       "      <td>Acquire and/or use 3rd party infrastructure se...</td>\n",
       "      <td>PRE-T1084</td>\n",
       "      <td>No</td>\n",
       "    </tr>\n",
       "    <tr>\n",
       "      <th>1</th>\n",
       "      <td>mitre-pre-attack</td>\n",
       "      <td>[establish-&amp;-maintain-infrastructure]</td>\n",
       "      <td>Acquire or compromise 3rd party signing certif...</td>\n",
       "      <td>PRE-T1109</td>\n",
       "      <td>No</td>\n",
       "    </tr>\n",
       "    <tr>\n",
       "      <th>2</th>\n",
       "      <td>mitre-pre-attack</td>\n",
       "      <td>[technical-weakness-identification]</td>\n",
       "      <td>Analyze data collected</td>\n",
       "      <td>PRE-T1064</td>\n",
       "      <td>No</td>\n",
       "    </tr>\n",
       "    <tr>\n",
       "      <th>3</th>\n",
       "      <td>mitre-pre-attack</td>\n",
       "      <td>[organizational-weakness-identification]</td>\n",
       "      <td>Analyze presence of outsourced capabilities</td>\n",
       "      <td>PRE-T1080</td>\n",
       "      <td>No</td>\n",
       "    </tr>\n",
       "    <tr>\n",
       "      <th>4</th>\n",
       "      <td>mitre-pre-attack</td>\n",
       "      <td>[priority-definition-planning]</td>\n",
       "      <td>Assess leadership areas of interest</td>\n",
       "      <td>PRE-T1001</td>\n",
       "      <td>No</td>\n",
       "    </tr>\n",
       "  </tbody>\n",
       "</table>\n",
       "</div>"
      ],
      "text/plain": [
       "             matrix                                    tactic  \\\n",
       "0  mitre-pre-attack                         [adversary-opsec]   \n",
       "1  mitre-pre-attack     [establish-&-maintain-infrastructure]   \n",
       "2  mitre-pre-attack       [technical-weakness-identification]   \n",
       "3  mitre-pre-attack  [organizational-weakness-identification]   \n",
       "4  mitre-pre-attack            [priority-definition-planning]   \n",
       "\n",
       "                                           technique technique_id  \\\n",
       "0  Acquire and/or use 3rd party infrastructure se...    PRE-T1084   \n",
       "1  Acquire or compromise 3rd party signing certif...    PRE-T1109   \n",
       "2                             Analyze data collected    PRE-T1064   \n",
       "3        Analyze presence of outsourced capabilities    PRE-T1080   \n",
       "4                Assess leadership areas of interest    PRE-T1001   \n",
       "\n",
       "  detectable_by_common_defenses  \n",
       "0                            No  \n",
       "1                            No  \n",
       "2                            No  \n",
       "3                            No  \n",
       "4                            No  "
      ]
     },
     "execution_count": 34,
     "metadata": {},
     "output_type": "execute_result"
    }
   ],
   "source": [
    "print(\"Number of Techniques in PRE-ATT&CK\")\n",
    "print(len(all_pre['techniques']))\n",
    "df = all_pre['techniques']\n",
    "df = json_normalize(df)\n",
    "df.reindex(['matrix', 'tactic', 'technique', 'technique_id', 'detectable_by_common_defenses'], axis=1)[0:5]"
   ]
  },
  {
   "cell_type": "markdown",
   "metadata": {},
   "source": [
    "**PRE Groups**"
   ]
  },
  {
   "cell_type": "code",
   "execution_count": 35,
   "metadata": {},
   "outputs": [
    {
     "name": "stdout",
     "output_type": "stream",
     "text": [
      "Number of Groups in PRE-ATT&CK\n",
      "7\n"
     ]
    },
    {
     "data": {
      "text/html": [
       "<div>\n",
       "<style scoped>\n",
       "    .dataframe tbody tr th:only-of-type {\n",
       "        vertical-align: middle;\n",
       "    }\n",
       "\n",
       "    .dataframe tbody tr th {\n",
       "        vertical-align: top;\n",
       "    }\n",
       "\n",
       "    .dataframe thead th {\n",
       "        text-align: right;\n",
       "    }\n",
       "</style>\n",
       "<table border=\"1\" class=\"dataframe\">\n",
       "  <thead>\n",
       "    <tr style=\"text-align: right;\">\n",
       "      <th></th>\n",
       "      <th>matrix</th>\n",
       "      <th>group</th>\n",
       "      <th>group_aliases</th>\n",
       "      <th>group_id</th>\n",
       "      <th>group_description</th>\n",
       "    </tr>\n",
       "  </thead>\n",
       "  <tbody>\n",
       "    <tr>\n",
       "      <th>0</th>\n",
       "      <td>mitre-attack</td>\n",
       "      <td>APT12</td>\n",
       "      <td>[APT12, IXESHE, DynCalc, Numbered Panda, DNSCALC]</td>\n",
       "      <td>G0005</td>\n",
       "      <td>APT12 is a threat group that has been attribut...</td>\n",
       "    </tr>\n",
       "    <tr>\n",
       "      <th>1</th>\n",
       "      <td>mitre-attack</td>\n",
       "      <td>APT1</td>\n",
       "      <td>[APT1, Comment Crew, Comment Group, Comment Pa...</td>\n",
       "      <td>G0006</td>\n",
       "      <td>APT1 is a Chinese threat group that has been a...</td>\n",
       "    </tr>\n",
       "    <tr>\n",
       "      <th>2</th>\n",
       "      <td>mitre-attack</td>\n",
       "      <td>APT28</td>\n",
       "      <td>[APT28, Sednit, Sofacy, Pawn Storm, Fancy Bear...</td>\n",
       "      <td>G0007</td>\n",
       "      <td>APT28 is a threat group that has been attribut...</td>\n",
       "    </tr>\n",
       "    <tr>\n",
       "      <th>3</th>\n",
       "      <td>mitre-attack</td>\n",
       "      <td>Night Dragon</td>\n",
       "      <td>[Night Dragon, Musical Chairs]</td>\n",
       "      <td>G0014</td>\n",
       "      <td>Night Dragon is a campaign name for activity i...</td>\n",
       "    </tr>\n",
       "    <tr>\n",
       "      <th>4</th>\n",
       "      <td>mitre-attack</td>\n",
       "      <td>APT16</td>\n",
       "      <td>[APT16]</td>\n",
       "      <td>G0023</td>\n",
       "      <td>APT16 is a China-based threat group that has l...</td>\n",
       "    </tr>\n",
       "  </tbody>\n",
       "</table>\n",
       "</div>"
      ],
      "text/plain": [
       "         matrix         group  \\\n",
       "0  mitre-attack         APT12   \n",
       "1  mitre-attack          APT1   \n",
       "2  mitre-attack         APT28   \n",
       "3  mitre-attack  Night Dragon   \n",
       "4  mitre-attack         APT16   \n",
       "\n",
       "                                       group_aliases group_id  \\\n",
       "0  [APT12, IXESHE, DynCalc, Numbered Panda, DNSCALC]    G0005   \n",
       "1  [APT1, Comment Crew, Comment Group, Comment Pa...    G0006   \n",
       "2  [APT28, Sednit, Sofacy, Pawn Storm, Fancy Bear...    G0007   \n",
       "3                     [Night Dragon, Musical Chairs]    G0014   \n",
       "4                                            [APT16]    G0023   \n",
       "\n",
       "                                   group_description  \n",
       "0  APT12 is a threat group that has been attribut...  \n",
       "1  APT1 is a Chinese threat group that has been a...  \n",
       "2  APT28 is a threat group that has been attribut...  \n",
       "3  Night Dragon is a campaign name for activity i...  \n",
       "4  APT16 is a China-based threat group that has l...  "
      ]
     },
     "execution_count": 35,
     "metadata": {},
     "output_type": "execute_result"
    }
   ],
   "source": [
    "print(\"Number of Groups in PRE-ATT&CK\")\n",
    "print(len(all_pre['groups']))\n",
    "df = all_pre['groups']\n",
    "df = json_normalize(df)\n",
    "df.reindex(['matrix', 'group', 'group_aliases', 'group_id', 'group_description'], axis=1)[0:5]"
   ]
  },
  {
   "cell_type": "markdown",
   "metadata": {},
   "source": [
    "**PRE Relationships**"
   ]
  },
  {
   "cell_type": "code",
   "execution_count": 36,
   "metadata": {},
   "outputs": [
    {
     "name": "stdout",
     "output_type": "stream",
     "text": [
      "Number of Relationships in PRE-ATT&CK\n",
      "114\n"
     ]
    },
    {
     "data": {
      "text/html": [
       "<div>\n",
       "<style scoped>\n",
       "    .dataframe tbody tr th:only-of-type {\n",
       "        vertical-align: middle;\n",
       "    }\n",
       "\n",
       "    .dataframe tbody tr th {\n",
       "        vertical-align: top;\n",
       "    }\n",
       "\n",
       "    .dataframe thead th {\n",
       "        text-align: right;\n",
       "    }\n",
       "</style>\n",
       "<table border=\"1\" class=\"dataframe\">\n",
       "  <thead>\n",
       "    <tr style=\"text-align: right;\">\n",
       "      <th></th>\n",
       "      <th>id</th>\n",
       "      <th>relationship</th>\n",
       "      <th>source_object</th>\n",
       "      <th>target_object</th>\n",
       "    </tr>\n",
       "  </thead>\n",
       "  <tbody>\n",
       "    <tr>\n",
       "      <th>0</th>\n",
       "      <td>relationship--1143e6a6-deef-4dbd-8c91-7bf537d8...</td>\n",
       "      <td>related-to</td>\n",
       "      <td>attack-pattern--784ff1bc-1483-41fe-a172-4cd9ae...</td>\n",
       "      <td>attack-pattern--2b9a666e-bd59-4f67-9031-ed41b4...</td>\n",
       "    </tr>\n",
       "    <tr>\n",
       "      <th>1</th>\n",
       "      <td>relationship--3d781e9a-d3f8-4e9f-bb23-ba6c2ff2...</td>\n",
       "      <td>related-to</td>\n",
       "      <td>attack-pattern--1a295f87-af63-4d94-b130-039d62...</td>\n",
       "      <td>attack-pattern--488da8ed-2887-4ef6-a39a-5b69bc...</td>\n",
       "    </tr>\n",
       "    <tr>\n",
       "      <th>2</th>\n",
       "      <td>relationship--d5bd7a33-a249-46e5-bb19-a498eba4...</td>\n",
       "      <td>related-to</td>\n",
       "      <td>attack-pattern--092f05e3-f7c0-4cd2-91be-3a8d6e...</td>\n",
       "      <td>attack-pattern--7baccb84-356c-4e89-8c5d-58e701...</td>\n",
       "    </tr>\n",
       "    <tr>\n",
       "      <th>3</th>\n",
       "      <td>relationship--bc165934-7ef6-4aed-a0d7-81d33725...</td>\n",
       "      <td>related-to</td>\n",
       "      <td>attack-pattern--e51398e6-53dc-4e9f-a323-e54683...</td>\n",
       "      <td>attack-pattern--4900fabf-1142-4c1f-92f5-0b590e...</td>\n",
       "    </tr>\n",
       "    <tr>\n",
       "      <th>4</th>\n",
       "      <td>relationship--46f1e7d4-4d73-4e33-b88b-b3bcde5d...</td>\n",
       "      <td>related-to</td>\n",
       "      <td>attack-pattern--a757670d-d600-48d9-8ae9-601d42...</td>\n",
       "      <td>attack-pattern--af358cad-eb71-4e91-a752-236edc...</td>\n",
       "    </tr>\n",
       "  </tbody>\n",
       "</table>\n",
       "</div>"
      ],
      "text/plain": [
       "                                                  id relationship  \\\n",
       "0  relationship--1143e6a6-deef-4dbd-8c91-7bf537d8...   related-to   \n",
       "1  relationship--3d781e9a-d3f8-4e9f-bb23-ba6c2ff2...   related-to   \n",
       "2  relationship--d5bd7a33-a249-46e5-bb19-a498eba4...   related-to   \n",
       "3  relationship--bc165934-7ef6-4aed-a0d7-81d33725...   related-to   \n",
       "4  relationship--46f1e7d4-4d73-4e33-b88b-b3bcde5d...   related-to   \n",
       "\n",
       "                                       source_object  \\\n",
       "0  attack-pattern--784ff1bc-1483-41fe-a172-4cd9ae...   \n",
       "1  attack-pattern--1a295f87-af63-4d94-b130-039d62...   \n",
       "2  attack-pattern--092f05e3-f7c0-4cd2-91be-3a8d6e...   \n",
       "3  attack-pattern--e51398e6-53dc-4e9f-a323-e54683...   \n",
       "4  attack-pattern--a757670d-d600-48d9-8ae9-601d42...   \n",
       "\n",
       "                                       target_object  \n",
       "0  attack-pattern--2b9a666e-bd59-4f67-9031-ed41b4...  \n",
       "1  attack-pattern--488da8ed-2887-4ef6-a39a-5b69bc...  \n",
       "2  attack-pattern--7baccb84-356c-4e89-8c5d-58e701...  \n",
       "3  attack-pattern--4900fabf-1142-4c1f-92f5-0b590e...  \n",
       "4  attack-pattern--af358cad-eb71-4e91-a752-236edc...  "
      ]
     },
     "execution_count": 36,
     "metadata": {},
     "output_type": "execute_result"
    }
   ],
   "source": [
    "print(\"Number of Relationships in PRE-ATT&CK\")\n",
    "print(len(all_pre['relationships']))\n",
    "df = all_pre['relationships']\n",
    "df = json_normalize(df)\n",
    "df.reindex(['id','relationship', 'source_object', 'target_object'], axis=1)[0:5]"
   ]
  },
  {
   "cell_type": "markdown",
   "metadata": {},
   "source": [
    "### Get All Mobile ATT&CK ONLY from Results (Locally)"
   ]
  },
  {
   "cell_type": "markdown",
   "metadata": {},
   "source": [
    "**Mobile Techniques**"
   ]
  },
  {
   "cell_type": "code",
   "execution_count": 37,
   "metadata": {},
   "outputs": [
    {
     "name": "stdout",
     "output_type": "stream",
     "text": [
      "Number of Techniques in Mobile ATT&CK\n",
      "76\n"
     ]
    },
    {
     "data": {
      "text/html": [
       "<div>\n",
       "<style scoped>\n",
       "    .dataframe tbody tr th:only-of-type {\n",
       "        vertical-align: middle;\n",
       "    }\n",
       "\n",
       "    .dataframe tbody tr th {\n",
       "        vertical-align: top;\n",
       "    }\n",
       "\n",
       "    .dataframe thead th {\n",
       "        text-align: right;\n",
       "    }\n",
       "</style>\n",
       "<table border=\"1\" class=\"dataframe\">\n",
       "  <thead>\n",
       "    <tr style=\"text-align: right;\">\n",
       "      <th></th>\n",
       "      <th>matrix</th>\n",
       "      <th>tactic</th>\n",
       "      <th>technique</th>\n",
       "      <th>technique_id</th>\n",
       "      <th>tactic_type</th>\n",
       "    </tr>\n",
       "  </thead>\n",
       "  <tbody>\n",
       "    <tr>\n",
       "      <th>0</th>\n",
       "      <td>mitre-mobile-attack</td>\n",
       "      <td>[collection]</td>\n",
       "      <td>Access Call Log</td>\n",
       "      <td>MOB-T1036</td>\n",
       "      <td>[Post-Adversary Device Access]</td>\n",
       "    </tr>\n",
       "    <tr>\n",
       "      <th>1</th>\n",
       "      <td>mitre-mobile-attack</td>\n",
       "      <td>[credential-access]</td>\n",
       "      <td>Android Intent Hijacking</td>\n",
       "      <td>MOB-T1019</td>\n",
       "      <td>[Post-Adversary Device Access]</td>\n",
       "    </tr>\n",
       "    <tr>\n",
       "      <th>2</th>\n",
       "      <td>mitre-mobile-attack</td>\n",
       "      <td>[lateral-movement]</td>\n",
       "      <td>Attack PC via USB Connection</td>\n",
       "      <td>MOB-T1030</td>\n",
       "      <td>[Post-Adversary Device Access]</td>\n",
       "    </tr>\n",
       "    <tr>\n",
       "      <th>3</th>\n",
       "      <td>mitre-mobile-attack</td>\n",
       "      <td>[app-delivery-via-authorized-app-store]</td>\n",
       "      <td>Detect App Analysis Environment</td>\n",
       "      <td>MOB-T1043</td>\n",
       "      <td>[Pre-Adversary Device Access]</td>\n",
       "    </tr>\n",
       "    <tr>\n",
       "      <th>4</th>\n",
       "      <td>mitre-mobile-attack</td>\n",
       "      <td>[defense-evasion]</td>\n",
       "      <td>Download New Code at Runtime</td>\n",
       "      <td>MOB-T1010</td>\n",
       "      <td>[Post-Adversary Device Access]</td>\n",
       "    </tr>\n",
       "  </tbody>\n",
       "</table>\n",
       "</div>"
      ],
      "text/plain": [
       "                matrix                                   tactic  \\\n",
       "0  mitre-mobile-attack                             [collection]   \n",
       "1  mitre-mobile-attack                      [credential-access]   \n",
       "2  mitre-mobile-attack                       [lateral-movement]   \n",
       "3  mitre-mobile-attack  [app-delivery-via-authorized-app-store]   \n",
       "4  mitre-mobile-attack                        [defense-evasion]   \n",
       "\n",
       "                         technique technique_id  \\\n",
       "0                  Access Call Log    MOB-T1036   \n",
       "1         Android Intent Hijacking    MOB-T1019   \n",
       "2     Attack PC via USB Connection    MOB-T1030   \n",
       "3  Detect App Analysis Environment    MOB-T1043   \n",
       "4     Download New Code at Runtime    MOB-T1010   \n",
       "\n",
       "                      tactic_type  \n",
       "0  [Post-Adversary Device Access]  \n",
       "1  [Post-Adversary Device Access]  \n",
       "2  [Post-Adversary Device Access]  \n",
       "3   [Pre-Adversary Device Access]  \n",
       "4  [Post-Adversary Device Access]  "
      ]
     },
     "execution_count": 37,
     "metadata": {},
     "output_type": "execute_result"
    }
   ],
   "source": [
    "print(\"Number of Techniques in Mobile ATT&CK\")\n",
    "print(len(all_mobile['techniques']))\n",
    "df = all_mobile['techniques']\n",
    "df = json_normalize(df)\n",
    "df.reindex(['matrix', 'tactic', 'technique', 'technique_id', 'tactic_type'], axis=1)[0:5]"
   ]
  },
  {
   "cell_type": "markdown",
   "metadata": {},
   "source": [
    "**Mobile Mitigations**"
   ]
  },
  {
   "cell_type": "code",
   "execution_count": 38,
   "metadata": {},
   "outputs": [
    {
     "name": "stdout",
     "output_type": "stream",
     "text": [
      "Number of Mitigations in Mobile ATT&CK\n",
      "14\n",
      " \n"
     ]
    },
    {
     "data": {
      "text/html": [
       "<div>\n",
       "<style scoped>\n",
       "    .dataframe tbody tr th:only-of-type {\n",
       "        vertical-align: middle;\n",
       "    }\n",
       "\n",
       "    .dataframe tbody tr th {\n",
       "        vertical-align: top;\n",
       "    }\n",
       "\n",
       "    .dataframe thead th {\n",
       "        text-align: right;\n",
       "    }\n",
       "</style>\n",
       "<table border=\"1\" class=\"dataframe\">\n",
       "  <thead>\n",
       "    <tr style=\"text-align: right;\">\n",
       "      <th></th>\n",
       "      <th>matrix</th>\n",
       "      <th>mitigation</th>\n",
       "      <th>mitigation_description</th>\n",
       "      <th>url</th>\n",
       "    </tr>\n",
       "  </thead>\n",
       "  <tbody>\n",
       "    <tr>\n",
       "      <th>0</th>\n",
       "      <td>mitre-attack-mobile</td>\n",
       "      <td>Attestation</td>\n",
       "      <td>Enable remote attestation capabilities when av...</td>\n",
       "      <td>https://attack.mitre.org/mobile/index.php/Miti...</td>\n",
       "    </tr>\n",
       "    <tr>\n",
       "      <th>1</th>\n",
       "      <td>mitre-attack-mobile</td>\n",
       "      <td>Interconnection Filtering</td>\n",
       "      <td>In order to mitigate Signaling System 7 (SS7) ...</td>\n",
       "      <td>https://attack.mitre.org/mobile/index.php/Miti...</td>\n",
       "    </tr>\n",
       "    <tr>\n",
       "      <th>2</th>\n",
       "      <td>mitre-attack-mobile</td>\n",
       "      <td>Use Recent OS Version</td>\n",
       "      <td>New mobile operating system versions bring not...</td>\n",
       "      <td>https://attack.mitre.org/mobile/index.php/Miti...</td>\n",
       "    </tr>\n",
       "    <tr>\n",
       "      <th>3</th>\n",
       "      <td>mitre-attack-mobile</td>\n",
       "      <td>Application Vetting</td>\n",
       "      <td>Enterprises can vet applications for exploitab...</td>\n",
       "      <td>https://attack.mitre.org/mobile/index.php/Miti...</td>\n",
       "    </tr>\n",
       "    <tr>\n",
       "      <th>4</th>\n",
       "      <td>mitre-attack-mobile</td>\n",
       "      <td>Enterprise Policy</td>\n",
       "      <td>An enterprise mobility management (EMM), also ...</td>\n",
       "      <td>https://attack.mitre.org/mobile/index.php/Miti...</td>\n",
       "    </tr>\n",
       "  </tbody>\n",
       "</table>\n",
       "</div>"
      ],
      "text/plain": [
       "                matrix                 mitigation  \\\n",
       "0  mitre-attack-mobile                Attestation   \n",
       "1  mitre-attack-mobile  Interconnection Filtering   \n",
       "2  mitre-attack-mobile      Use Recent OS Version   \n",
       "3  mitre-attack-mobile        Application Vetting   \n",
       "4  mitre-attack-mobile          Enterprise Policy   \n",
       "\n",
       "                              mitigation_description  \\\n",
       "0  Enable remote attestation capabilities when av...   \n",
       "1  In order to mitigate Signaling System 7 (SS7) ...   \n",
       "2  New mobile operating system versions bring not...   \n",
       "3  Enterprises can vet applications for exploitab...   \n",
       "4  An enterprise mobility management (EMM), also ...   \n",
       "\n",
       "                                                 url  \n",
       "0  https://attack.mitre.org/mobile/index.php/Miti...  \n",
       "1  https://attack.mitre.org/mobile/index.php/Miti...  \n",
       "2  https://attack.mitre.org/mobile/index.php/Miti...  \n",
       "3  https://attack.mitre.org/mobile/index.php/Miti...  \n",
       "4  https://attack.mitre.org/mobile/index.php/Miti...  "
      ]
     },
     "execution_count": 38,
     "metadata": {},
     "output_type": "execute_result"
    }
   ],
   "source": [
    "print(\"Number of Mitigations in Mobile ATT&CK\")\n",
    "print(len(all_mobile['mitigations']))\n",
    "print(\" \")\n",
    "df = all_mobile['mitigations']\n",
    "df = json_normalize(df)\n",
    "df.reindex(['matrix', 'mitigation', 'mitigation_description', 'url'], axis=1)[0:5]"
   ]
  },
  {
   "cell_type": "markdown",
   "metadata": {},
   "source": [
    "**Mobile Groups**"
   ]
  },
  {
   "cell_type": "code",
   "execution_count": 39,
   "metadata": {},
   "outputs": [
    {
     "name": "stdout",
     "output_type": "stream",
     "text": [
      "Number of Groups in Mobile ATT&CK\n",
      "1\n"
     ]
    },
    {
     "data": {
      "text/html": [
       "<div>\n",
       "<style scoped>\n",
       "    .dataframe tbody tr th:only-of-type {\n",
       "        vertical-align: middle;\n",
       "    }\n",
       "\n",
       "    .dataframe tbody tr th {\n",
       "        vertical-align: top;\n",
       "    }\n",
       "\n",
       "    .dataframe thead th {\n",
       "        text-align: right;\n",
       "    }\n",
       "</style>\n",
       "<table border=\"1\" class=\"dataframe\">\n",
       "  <thead>\n",
       "    <tr style=\"text-align: right;\">\n",
       "      <th></th>\n",
       "      <th>matrix</th>\n",
       "      <th>group</th>\n",
       "      <th>group_aliases</th>\n",
       "      <th>group_id</th>\n",
       "      <th>group_description</th>\n",
       "    </tr>\n",
       "  </thead>\n",
       "  <tbody>\n",
       "    <tr>\n",
       "      <th>0</th>\n",
       "      <td>mitre-attack</td>\n",
       "      <td>APT28</td>\n",
       "      <td>[APT28, Sednit, Sofacy, Pawn Storm, Fancy Bear...</td>\n",
       "      <td>G0007</td>\n",
       "      <td>APT28 is a threat group that has been attribut...</td>\n",
       "    </tr>\n",
       "  </tbody>\n",
       "</table>\n",
       "</div>"
      ],
      "text/plain": [
       "         matrix  group                                      group_aliases  \\\n",
       "0  mitre-attack  APT28  [APT28, Sednit, Sofacy, Pawn Storm, Fancy Bear...   \n",
       "\n",
       "  group_id                                  group_description  \n",
       "0    G0007  APT28 is a threat group that has been attribut...  "
      ]
     },
     "execution_count": 39,
     "metadata": {},
     "output_type": "execute_result"
    }
   ],
   "source": [
    "print(\"Number of Groups in Mobile ATT&CK\")\n",
    "print(len(all_mobile['groups']))\n",
    "df = all_mobile['groups']\n",
    "df = json_normalize(df)\n",
    "df.reindex(['matrix', 'group', 'group_aliases', 'group_id', 'group_description'], axis=1)[0:5]"
   ]
  },
  {
   "cell_type": "markdown",
   "metadata": {},
   "source": [
    "**Mobile Malware**"
   ]
  },
  {
   "cell_type": "code",
   "execution_count": 40,
   "metadata": {},
   "outputs": [
    {
     "name": "stdout",
     "output_type": "stream",
     "text": [
      "Number of Malware in Mobile ATT&CK\n",
      "35\n"
     ]
    },
    {
     "data": {
      "text/html": [
       "<div>\n",
       "<style scoped>\n",
       "    .dataframe tbody tr th:only-of-type {\n",
       "        vertical-align: middle;\n",
       "    }\n",
       "\n",
       "    .dataframe tbody tr th {\n",
       "        vertical-align: top;\n",
       "    }\n",
       "\n",
       "    .dataframe thead th {\n",
       "        text-align: right;\n",
       "    }\n",
       "</style>\n",
       "<table border=\"1\" class=\"dataframe\">\n",
       "  <thead>\n",
       "    <tr style=\"text-align: right;\">\n",
       "      <th></th>\n",
       "      <th>matrix</th>\n",
       "      <th>software</th>\n",
       "      <th>software_labels</th>\n",
       "      <th>software_id</th>\n",
       "      <th>software_description</th>\n",
       "    </tr>\n",
       "  </thead>\n",
       "  <tbody>\n",
       "    <tr>\n",
       "      <th>0</th>\n",
       "      <td>mitre-attack-mobile</td>\n",
       "      <td>Android/Chuli.A</td>\n",
       "      <td>[malware]</td>\n",
       "      <td>MOB-S0020</td>\n",
       "      <td>As reported by Kaspersky (Citation: Kaspersky-...</td>\n",
       "    </tr>\n",
       "    <tr>\n",
       "      <th>1</th>\n",
       "      <td>mitre-attack-mobile</td>\n",
       "      <td>DressCode</td>\n",
       "      <td>[malware]</td>\n",
       "      <td>MOB-S0016</td>\n",
       "      <td>Android malware family analyzed by Trend Micro...</td>\n",
       "    </tr>\n",
       "    <tr>\n",
       "      <th>2</th>\n",
       "      <td>mitre-attack-mobile</td>\n",
       "      <td>HummingWhale</td>\n",
       "      <td>[malware]</td>\n",
       "      <td>MOB-S0037</td>\n",
       "      <td>The HummingWhale Android malware family \"inclu...</td>\n",
       "    </tr>\n",
       "    <tr>\n",
       "      <th>3</th>\n",
       "      <td>mitre-attack-mobile</td>\n",
       "      <td>OldBoot</td>\n",
       "      <td>[malware]</td>\n",
       "      <td>MOB-S0001</td>\n",
       "      <td>OldBoot is a family of Android malware describ...</td>\n",
       "    </tr>\n",
       "    <tr>\n",
       "      <th>4</th>\n",
       "      <td>mitre-attack-mobile</td>\n",
       "      <td>RuMMS</td>\n",
       "      <td>[malware]</td>\n",
       "      <td>MOB-S0029</td>\n",
       "      <td>RuMMS is a family of Android malware (Citation...</td>\n",
       "    </tr>\n",
       "  </tbody>\n",
       "</table>\n",
       "</div>"
      ],
      "text/plain": [
       "                matrix         software software_labels software_id  \\\n",
       "0  mitre-attack-mobile  Android/Chuli.A       [malware]   MOB-S0020   \n",
       "1  mitre-attack-mobile        DressCode       [malware]   MOB-S0016   \n",
       "2  mitre-attack-mobile     HummingWhale       [malware]   MOB-S0037   \n",
       "3  mitre-attack-mobile          OldBoot       [malware]   MOB-S0001   \n",
       "4  mitre-attack-mobile            RuMMS       [malware]   MOB-S0029   \n",
       "\n",
       "                                software_description  \n",
       "0  As reported by Kaspersky (Citation: Kaspersky-...  \n",
       "1  Android malware family analyzed by Trend Micro...  \n",
       "2  The HummingWhale Android malware family \"inclu...  \n",
       "3  OldBoot is a family of Android malware describ...  \n",
       "4  RuMMS is a family of Android malware (Citation...  "
      ]
     },
     "execution_count": 40,
     "metadata": {},
     "output_type": "execute_result"
    }
   ],
   "source": [
    "print(\"Number of Malware in Mobile ATT&CK\")\n",
    "print(len(all_mobile['malware']))\n",
    "df = all_mobile['malware']\n",
    "df = json_normalize(df)\n",
    "df.reindex(['matrix', 'software', 'software_labels', 'software_id', 'software_description'], axis=1)[0:5]"
   ]
  },
  {
   "cell_type": "markdown",
   "metadata": {},
   "source": [
    "**Mobile Tools**"
   ]
  },
  {
   "cell_type": "code",
   "execution_count": 41,
   "metadata": {},
   "outputs": [
    {
     "name": "stdout",
     "output_type": "stream",
     "text": [
      "Number of Tools in Mobile ATT&CK\n",
      "1\n"
     ]
    },
    {
     "data": {
      "text/html": [
       "<div>\n",
       "<style scoped>\n",
       "    .dataframe tbody tr th:only-of-type {\n",
       "        vertical-align: middle;\n",
       "    }\n",
       "\n",
       "    .dataframe tbody tr th {\n",
       "        vertical-align: top;\n",
       "    }\n",
       "\n",
       "    .dataframe thead th {\n",
       "        text-align: right;\n",
       "    }\n",
       "</style>\n",
       "<table border=\"1\" class=\"dataframe\">\n",
       "  <thead>\n",
       "    <tr style=\"text-align: right;\">\n",
       "      <th></th>\n",
       "      <th>matrix</th>\n",
       "      <th>software</th>\n",
       "      <th>software_labels</th>\n",
       "      <th>software_id</th>\n",
       "      <th>software_description</th>\n",
       "    </tr>\n",
       "  </thead>\n",
       "  <tbody>\n",
       "    <tr>\n",
       "      <th>0</th>\n",
       "      <td>mitre-attack-mobile</td>\n",
       "      <td>Xbot</td>\n",
       "      <td>[tool]</td>\n",
       "      <td>MOB-S0014</td>\n",
       "      <td>Xbot is a family of Android malware analyzed b...</td>\n",
       "    </tr>\n",
       "  </tbody>\n",
       "</table>\n",
       "</div>"
      ],
      "text/plain": [
       "                matrix software software_labels software_id  \\\n",
       "0  mitre-attack-mobile     Xbot          [tool]   MOB-S0014   \n",
       "\n",
       "                                software_description  \n",
       "0  Xbot is a family of Android malware analyzed b...  "
      ]
     },
     "execution_count": 41,
     "metadata": {},
     "output_type": "execute_result"
    }
   ],
   "source": [
    "print(\"Number of Tools in Mobile ATT&CK\")\n",
    "print(len(all_mobile['tools']))\n",
    "df = all_mobile['tools']\n",
    "df = json_normalize(df)\n",
    "df.reindex(['matrix', 'software', 'software_labels', 'software_id', 'software_description'], axis=1)[0:5]"
   ]
  },
  {
   "cell_type": "markdown",
   "metadata": {},
   "source": [
    "**Mobile Relationships**"
   ]
  },
  {
   "cell_type": "code",
   "execution_count": 42,
   "metadata": {},
   "outputs": [
    {
     "name": "stdout",
     "output_type": "stream",
     "text": [
      "Number of Relationships in Mobile ATT&CK\n",
      "245\n"
     ]
    },
    {
     "data": {
      "text/html": [
       "<div>\n",
       "<style scoped>\n",
       "    .dataframe tbody tr th:only-of-type {\n",
       "        vertical-align: middle;\n",
       "    }\n",
       "\n",
       "    .dataframe tbody tr th {\n",
       "        vertical-align: top;\n",
       "    }\n",
       "\n",
       "    .dataframe thead th {\n",
       "        text-align: right;\n",
       "    }\n",
       "</style>\n",
       "<table border=\"1\" class=\"dataframe\">\n",
       "  <thead>\n",
       "    <tr style=\"text-align: right;\">\n",
       "      <th></th>\n",
       "      <th>object id</th>\n",
       "      <th>relationship</th>\n",
       "      <th>relationship_description</th>\n",
       "      <th>source_object</th>\n",
       "      <th>target_object</th>\n",
       "    </tr>\n",
       "  </thead>\n",
       "  <tbody>\n",
       "    <tr>\n",
       "      <th>0</th>\n",
       "      <td>NaN</td>\n",
       "      <td>mitigates</td>\n",
       "      <td>NaN</td>\n",
       "      <td>course-of-action--0beabf44-e8d8-4ae4-9122-ef56...</td>\n",
       "      <td>attack-pattern--82f04b1e-5371-4a6f-be06-411f0f...</td>\n",
       "    </tr>\n",
       "    <tr>\n",
       "      <th>1</th>\n",
       "      <td>NaN</td>\n",
       "      <td>mitigates</td>\n",
       "      <td>NaN</td>\n",
       "      <td>course-of-action--bcecd036-f40e-4916-9f8e-fd0c...</td>\n",
       "      <td>attack-pattern--79eec66a-9bd0-4a3f-ac82-19159e...</td>\n",
       "    </tr>\n",
       "    <tr>\n",
       "      <th>2</th>\n",
       "      <td>NaN</td>\n",
       "      <td>mitigates</td>\n",
       "      <td>NaN</td>\n",
       "      <td>course-of-action--1553b156-6767-47f7-9eb4-2a69...</td>\n",
       "      <td>attack-pattern--29e07491-8947-43a3-8d4e-9a787c...</td>\n",
       "    </tr>\n",
       "    <tr>\n",
       "      <th>3</th>\n",
       "      <td>NaN</td>\n",
       "      <td>mitigates</td>\n",
       "      <td>NaN</td>\n",
       "      <td>course-of-action--0beabf44-e8d8-4ae4-9122-ef56...</td>\n",
       "      <td>attack-pattern--702055ac-4e54-4ae9-9527-e23a38...</td>\n",
       "    </tr>\n",
       "    <tr>\n",
       "      <th>4</th>\n",
       "      <td>NaN</td>\n",
       "      <td>mitigates</td>\n",
       "      <td>NaN</td>\n",
       "      <td>course-of-action--653492e3-27be-4a0e-b08c-938d...</td>\n",
       "      <td>attack-pattern--1f96d624-8409-4472-ad8a-30618e...</td>\n",
       "    </tr>\n",
       "  </tbody>\n",
       "</table>\n",
       "</div>"
      ],
      "text/plain": [
       "   object id relationship relationship_description  \\\n",
       "0        NaN    mitigates                      NaN   \n",
       "1        NaN    mitigates                      NaN   \n",
       "2        NaN    mitigates                      NaN   \n",
       "3        NaN    mitigates                      NaN   \n",
       "4        NaN    mitigates                      NaN   \n",
       "\n",
       "                                       source_object  \\\n",
       "0  course-of-action--0beabf44-e8d8-4ae4-9122-ef56...   \n",
       "1  course-of-action--bcecd036-f40e-4916-9f8e-fd0c...   \n",
       "2  course-of-action--1553b156-6767-47f7-9eb4-2a69...   \n",
       "3  course-of-action--0beabf44-e8d8-4ae4-9122-ef56...   \n",
       "4  course-of-action--653492e3-27be-4a0e-b08c-938d...   \n",
       "\n",
       "                                       target_object  \n",
       "0  attack-pattern--82f04b1e-5371-4a6f-be06-411f0f...  \n",
       "1  attack-pattern--79eec66a-9bd0-4a3f-ac82-19159e...  \n",
       "2  attack-pattern--29e07491-8947-43a3-8d4e-9a787c...  \n",
       "3  attack-pattern--702055ac-4e54-4ae9-9527-e23a38...  \n",
       "4  attack-pattern--1f96d624-8409-4472-ad8a-30618e...  "
      ]
     },
     "execution_count": 42,
     "metadata": {},
     "output_type": "execute_result"
    }
   ],
   "source": [
    "print(\"Number of Relationships in Mobile ATT&CK\")\n",
    "print(len(all_mobile['relationships']))\n",
    "df = all_mobile['relationships']\n",
    "df = json_normalize(df)\n",
    "df.reindex(['object id','relationship', 'relationship_description','source_object', 'target_object'], axis=1)[0:5]"
   ]
  },
  {
   "cell_type": "markdown",
   "metadata": {},
   "source": [
    "## **Get STIX Object Types Directly from TAXII Server (Enterprise ATT&CK, Pre-ATT&CK & Mobile ATT&CK)**\n",
    "* In this section, we will query the ATT&CK TAXII Server in order to collect specific stix object types such as techniques, mitigations, groups, malware, tools and relationships from the Enterprise, PRE and Mobile Matrices.\n",
    "* There is no need to get all the stix objects available per each matrix unlike the first section of this notebook."
   ]
  },
  {
   "cell_type": "markdown",
   "metadata": {},
   "source": [
    "### Get All Enterprise Techniques ONLY (TAXII)"
   ]
  },
  {
   "cell_type": "code",
   "execution_count": 43,
   "metadata": {},
   "outputs": [
    {
     "name": "stdout",
     "output_type": "stream",
     "text": [
      "Number of Techniques in Enterprise ATT&CK\n",
      "219\n"
     ]
    },
    {
     "data": {
      "text/html": [
       "<div>\n",
       "<style scoped>\n",
       "    .dataframe tbody tr th:only-of-type {\n",
       "        vertical-align: middle;\n",
       "    }\n",
       "\n",
       "    .dataframe tbody tr th {\n",
       "        vertical-align: top;\n",
       "    }\n",
       "\n",
       "    .dataframe thead th {\n",
       "        text-align: right;\n",
       "    }\n",
       "</style>\n",
       "<table border=\"1\" class=\"dataframe\">\n",
       "  <thead>\n",
       "    <tr style=\"text-align: right;\">\n",
       "      <th></th>\n",
       "      <th>matrix</th>\n",
       "      <th>tactic</th>\n",
       "      <th>technique</th>\n",
       "      <th>technique_id</th>\n",
       "      <th>data_sources</th>\n",
       "      <th>contributors</th>\n",
       "    </tr>\n",
       "  </thead>\n",
       "  <tbody>\n",
       "    <tr>\n",
       "      <th>0</th>\n",
       "      <td>mitre-attack</td>\n",
       "      <td>[persistence]</td>\n",
       "      <td>.bash_profile and .bashrc</td>\n",
       "      <td>T1156</td>\n",
       "      <td>[File monitoring, Process Monitoring, Process ...</td>\n",
       "      <td>NaN</td>\n",
       "    </tr>\n",
       "    <tr>\n",
       "      <th>1</th>\n",
       "      <td>mitre-attack</td>\n",
       "      <td>[defense-evasion, privilege-escalation]</td>\n",
       "      <td>Access Token Manipulation</td>\n",
       "      <td>T1134</td>\n",
       "      <td>[API monitoring, Access Tokens]</td>\n",
       "      <td>[Tom Ueltschi @c_APT_ure, Travis Smith, Tripwi...</td>\n",
       "    </tr>\n",
       "    <tr>\n",
       "      <th>2</th>\n",
       "      <td>mitre-attack</td>\n",
       "      <td>[persistence, privilege-escalation]</td>\n",
       "      <td>Accessibility Features</td>\n",
       "      <td>T1015</td>\n",
       "      <td>[Windows Registry, File monitoring, Process mo...</td>\n",
       "      <td>[Paul Speulstra, AECOM Global Security Operati...</td>\n",
       "    </tr>\n",
       "    <tr>\n",
       "      <th>3</th>\n",
       "      <td>mitre-attack</td>\n",
       "      <td>[credential-access]</td>\n",
       "      <td>Account Manipulation</td>\n",
       "      <td>T1098</td>\n",
       "      <td>[Authentication logs, API monitoring, Windows ...</td>\n",
       "      <td>NaN</td>\n",
       "    </tr>\n",
       "    <tr>\n",
       "      <th>4</th>\n",
       "      <td>mitre-attack</td>\n",
       "      <td>[discovery]</td>\n",
       "      <td>Account Discovery</td>\n",
       "      <td>T1087</td>\n",
       "      <td>[API monitoring, Process command-line paramete...</td>\n",
       "      <td>[Travis Smith, Tripwire]</td>\n",
       "    </tr>\n",
       "  </tbody>\n",
       "</table>\n",
       "</div>"
      ],
      "text/plain": [
       "         matrix                                   tactic  \\\n",
       "0  mitre-attack                            [persistence]   \n",
       "1  mitre-attack  [defense-evasion, privilege-escalation]   \n",
       "2  mitre-attack      [persistence, privilege-escalation]   \n",
       "3  mitre-attack                      [credential-access]   \n",
       "4  mitre-attack                              [discovery]   \n",
       "\n",
       "                   technique technique_id  \\\n",
       "0  .bash_profile and .bashrc        T1156   \n",
       "1  Access Token Manipulation        T1134   \n",
       "2     Accessibility Features        T1015   \n",
       "3       Account Manipulation        T1098   \n",
       "4          Account Discovery        T1087   \n",
       "\n",
       "                                        data_sources  \\\n",
       "0  [File monitoring, Process Monitoring, Process ...   \n",
       "1                    [API monitoring, Access Tokens]   \n",
       "2  [Windows Registry, File monitoring, Process mo...   \n",
       "3  [Authentication logs, API monitoring, Windows ...   \n",
       "4  [API monitoring, Process command-line paramete...   \n",
       "\n",
       "                                        contributors  \n",
       "0                                                NaN  \n",
       "1  [Tom Ueltschi @c_APT_ure, Travis Smith, Tripwi...  \n",
       "2  [Paul Speulstra, AECOM Global Security Operati...  \n",
       "3                                                NaN  \n",
       "4                           [Travis Smith, Tripwire]  "
      ]
     },
     "execution_count": 43,
     "metadata": {},
     "output_type": "execute_result"
    }
   ],
   "source": [
    "print(\"Number of Techniques in Enterprise ATT&CK\")\n",
    "techniques = lift.get_all_enterprise_techniques()\n",
    "print(len(techniques))\n",
    "df = json_normalize(techniques)\n",
    "df.reindex(['matrix', 'tactic', 'technique', 'technique_id', 'data_sources','contributors'], axis=1)[0:5]"
   ]
  },
  {
   "cell_type": "markdown",
   "metadata": {},
   "source": [
    "### Get All PRE Techniques ONLY (TAXII)"
   ]
  },
  {
   "cell_type": "code",
   "execution_count": 44,
   "metadata": {},
   "outputs": [
    {
     "name": "stdout",
     "output_type": "stream",
     "text": [
      "Number of Techniques in PRE-ATT&CK\n",
      "174\n"
     ]
    },
    {
     "data": {
      "text/html": [
       "<div>\n",
       "<style scoped>\n",
       "    .dataframe tbody tr th:only-of-type {\n",
       "        vertical-align: middle;\n",
       "    }\n",
       "\n",
       "    .dataframe tbody tr th {\n",
       "        vertical-align: top;\n",
       "    }\n",
       "\n",
       "    .dataframe thead th {\n",
       "        text-align: right;\n",
       "    }\n",
       "</style>\n",
       "<table border=\"1\" class=\"dataframe\">\n",
       "  <thead>\n",
       "    <tr style=\"text-align: right;\">\n",
       "      <th></th>\n",
       "      <th>matrix</th>\n",
       "      <th>tactic</th>\n",
       "      <th>technique</th>\n",
       "      <th>technique_id</th>\n",
       "      <th>detectable_by_common_defenses</th>\n",
       "      <th>contributors</th>\n",
       "    </tr>\n",
       "  </thead>\n",
       "  <tbody>\n",
       "    <tr>\n",
       "      <th>0</th>\n",
       "      <td>mitre-pre-attack</td>\n",
       "      <td>[adversary-opsec]</td>\n",
       "      <td>Acquire and/or use 3rd party infrastructure se...</td>\n",
       "      <td>PRE-T1084</td>\n",
       "      <td>No</td>\n",
       "      <td>NaN</td>\n",
       "    </tr>\n",
       "    <tr>\n",
       "      <th>1</th>\n",
       "      <td>mitre-pre-attack</td>\n",
       "      <td>[establish-&amp;-maintain-infrastructure]</td>\n",
       "      <td>Acquire or compromise 3rd party signing certif...</td>\n",
       "      <td>PRE-T1109</td>\n",
       "      <td>No</td>\n",
       "      <td>NaN</td>\n",
       "    </tr>\n",
       "    <tr>\n",
       "      <th>2</th>\n",
       "      <td>mitre-pre-attack</td>\n",
       "      <td>[technical-weakness-identification]</td>\n",
       "      <td>Analyze data collected</td>\n",
       "      <td>PRE-T1064</td>\n",
       "      <td>No</td>\n",
       "      <td>NaN</td>\n",
       "    </tr>\n",
       "    <tr>\n",
       "      <th>3</th>\n",
       "      <td>mitre-pre-attack</td>\n",
       "      <td>[organizational-weakness-identification]</td>\n",
       "      <td>Analyze presence of outsourced capabilities</td>\n",
       "      <td>PRE-T1080</td>\n",
       "      <td>No</td>\n",
       "      <td>NaN</td>\n",
       "    </tr>\n",
       "    <tr>\n",
       "      <th>4</th>\n",
       "      <td>mitre-pre-attack</td>\n",
       "      <td>[priority-definition-planning]</td>\n",
       "      <td>Assess leadership areas of interest</td>\n",
       "      <td>PRE-T1001</td>\n",
       "      <td>No</td>\n",
       "      <td>NaN</td>\n",
       "    </tr>\n",
       "  </tbody>\n",
       "</table>\n",
       "</div>"
      ],
      "text/plain": [
       "             matrix                                    tactic  \\\n",
       "0  mitre-pre-attack                         [adversary-opsec]   \n",
       "1  mitre-pre-attack     [establish-&-maintain-infrastructure]   \n",
       "2  mitre-pre-attack       [technical-weakness-identification]   \n",
       "3  mitre-pre-attack  [organizational-weakness-identification]   \n",
       "4  mitre-pre-attack            [priority-definition-planning]   \n",
       "\n",
       "                                           technique technique_id  \\\n",
       "0  Acquire and/or use 3rd party infrastructure se...    PRE-T1084   \n",
       "1  Acquire or compromise 3rd party signing certif...    PRE-T1109   \n",
       "2                             Analyze data collected    PRE-T1064   \n",
       "3        Analyze presence of outsourced capabilities    PRE-T1080   \n",
       "4                Assess leadership areas of interest    PRE-T1001   \n",
       "\n",
       "  detectable_by_common_defenses  contributors  \n",
       "0                            No           NaN  \n",
       "1                            No           NaN  \n",
       "2                            No           NaN  \n",
       "3                            No           NaN  \n",
       "4                            No           NaN  "
      ]
     },
     "execution_count": 44,
     "metadata": {},
     "output_type": "execute_result"
    }
   ],
   "source": [
    "print(\"Number of Techniques in PRE-ATT&CK\")\n",
    "techniques = lift.get_all_pre_techniques()\n",
    "print(len(techniques))\n",
    "df = json_normalize(techniques)\n",
    "df.reindex(['matrix', 'tactic', 'technique', 'technique_id', 'detectable_by_common_defenses', 'contributors'], axis=1)[0:5]"
   ]
  },
  {
   "cell_type": "markdown",
   "metadata": {},
   "source": [
    "### Get All Mobile Techniques ONLY (TAXII)"
   ]
  },
  {
   "cell_type": "code",
   "execution_count": 45,
   "metadata": {},
   "outputs": [
    {
     "name": "stdout",
     "output_type": "stream",
     "text": [
      "Number of Techniques in Mobile ATT&CK\n",
      "76\n"
     ]
    },
    {
     "data": {
      "text/html": [
       "<div>\n",
       "<style scoped>\n",
       "    .dataframe tbody tr th:only-of-type {\n",
       "        vertical-align: middle;\n",
       "    }\n",
       "\n",
       "    .dataframe tbody tr th {\n",
       "        vertical-align: top;\n",
       "    }\n",
       "\n",
       "    .dataframe thead th {\n",
       "        text-align: right;\n",
       "    }\n",
       "</style>\n",
       "<table border=\"1\" class=\"dataframe\">\n",
       "  <thead>\n",
       "    <tr style=\"text-align: right;\">\n",
       "      <th></th>\n",
       "      <th>matrix</th>\n",
       "      <th>id</th>\n",
       "      <th>tactic</th>\n",
       "      <th>technique</th>\n",
       "      <th>tactic_type</th>\n",
       "      <th>contributors</th>\n",
       "    </tr>\n",
       "  </thead>\n",
       "  <tbody>\n",
       "    <tr>\n",
       "      <th>0</th>\n",
       "      <td>mitre-mobile-attack</td>\n",
       "      <td>attack-pattern--79eec66a-9bd0-4a3f-ac82-19159e...</td>\n",
       "      <td>[collection]</td>\n",
       "      <td>Access Call Log</td>\n",
       "      <td>[Post-Adversary Device Access]</td>\n",
       "      <td>NaN</td>\n",
       "    </tr>\n",
       "    <tr>\n",
       "      <th>1</th>\n",
       "      <td>mitre-mobile-attack</td>\n",
       "      <td>attack-pattern--77e30eee-fd48-40b4-99ec-73e97c...</td>\n",
       "      <td>[credential-access]</td>\n",
       "      <td>Android Intent Hijacking</td>\n",
       "      <td>[Post-Adversary Device Access]</td>\n",
       "      <td>NaN</td>\n",
       "    </tr>\n",
       "    <tr>\n",
       "      <th>2</th>\n",
       "      <td>mitre-mobile-attack</td>\n",
       "      <td>attack-pattern--a0464539-e1b7-4455-a355-124959...</td>\n",
       "      <td>[lateral-movement]</td>\n",
       "      <td>Attack PC via USB Connection</td>\n",
       "      <td>[Post-Adversary Device Access]</td>\n",
       "      <td>NaN</td>\n",
       "    </tr>\n",
       "    <tr>\n",
       "      <th>3</th>\n",
       "      <td>mitre-mobile-attack</td>\n",
       "      <td>attack-pattern--b765efd1-02e6-4e67-aebf-0fef5c...</td>\n",
       "      <td>[app-delivery-via-authorized-app-store]</td>\n",
       "      <td>Detect App Analysis Environment</td>\n",
       "      <td>[Pre-Adversary Device Access]</td>\n",
       "      <td>NaN</td>\n",
       "    </tr>\n",
       "    <tr>\n",
       "      <th>4</th>\n",
       "      <td>mitre-mobile-attack</td>\n",
       "      <td>attack-pattern--6c49d50f-494d-4150-b774-a65502...</td>\n",
       "      <td>[defense-evasion]</td>\n",
       "      <td>Download New Code at Runtime</td>\n",
       "      <td>[Post-Adversary Device Access]</td>\n",
       "      <td>NaN</td>\n",
       "    </tr>\n",
       "  </tbody>\n",
       "</table>\n",
       "</div>"
      ],
      "text/plain": [
       "                matrix                                                 id  \\\n",
       "0  mitre-mobile-attack  attack-pattern--79eec66a-9bd0-4a3f-ac82-19159e...   \n",
       "1  mitre-mobile-attack  attack-pattern--77e30eee-fd48-40b4-99ec-73e97c...   \n",
       "2  mitre-mobile-attack  attack-pattern--a0464539-e1b7-4455-a355-124959...   \n",
       "3  mitre-mobile-attack  attack-pattern--b765efd1-02e6-4e67-aebf-0fef5c...   \n",
       "4  mitre-mobile-attack  attack-pattern--6c49d50f-494d-4150-b774-a65502...   \n",
       "\n",
       "                                    tactic                        technique  \\\n",
       "0                             [collection]                  Access Call Log   \n",
       "1                      [credential-access]         Android Intent Hijacking   \n",
       "2                       [lateral-movement]     Attack PC via USB Connection   \n",
       "3  [app-delivery-via-authorized-app-store]  Detect App Analysis Environment   \n",
       "4                        [defense-evasion]     Download New Code at Runtime   \n",
       "\n",
       "                      tactic_type  contributors  \n",
       "0  [Post-Adversary Device Access]           NaN  \n",
       "1  [Post-Adversary Device Access]           NaN  \n",
       "2  [Post-Adversary Device Access]           NaN  \n",
       "3   [Pre-Adversary Device Access]           NaN  \n",
       "4  [Post-Adversary Device Access]           NaN  "
      ]
     },
     "execution_count": 45,
     "metadata": {},
     "output_type": "execute_result"
    }
   ],
   "source": [
    "print(\"Number of Techniques in Mobile ATT&CK\")\n",
    "techniques = lift.get_all_mobile_techniques()\n",
    "print(len(techniques))\n",
    "df = json_normalize(techniques)\n",
    "df.reindex(['matrix', 'id','tactic', 'technique', 'tactic_type','contributors'], axis=1)[0:5]"
   ]
  },
  {
   "cell_type": "markdown",
   "metadata": {},
   "source": [
    "### Get All Techniques (TAXII)\n",
    "* The results of this function shows every single technique across the whole ATT&CK framework without their mitigations information\n",
    "* Mitigations information has its own stix object type (Mitigation) that needs to be correlated with the help of relationship properties\n",
    "* There is a function already created in this library named **get_all_techniques_with_mitigations()** that allows you to get a more complete view of techniques"
   ]
  },
  {
   "cell_type": "code",
   "execution_count": 46,
   "metadata": {},
   "outputs": [
    {
     "name": "stdout",
     "output_type": "stream",
     "text": [
      "Number of Techniques in ATT&CK\n",
      "469\n"
     ]
    },
    {
     "data": {
      "text/html": [
       "<div>\n",
       "<style scoped>\n",
       "    .dataframe tbody tr th:only-of-type {\n",
       "        vertical-align: middle;\n",
       "    }\n",
       "\n",
       "    .dataframe tbody tr th {\n",
       "        vertical-align: top;\n",
       "    }\n",
       "\n",
       "    .dataframe thead th {\n",
       "        text-align: right;\n",
       "    }\n",
       "</style>\n",
       "<table border=\"1\" class=\"dataframe\">\n",
       "  <thead>\n",
       "    <tr style=\"text-align: right;\">\n",
       "      <th></th>\n",
       "      <th>matrix</th>\n",
       "      <th>tactic</th>\n",
       "      <th>technique</th>\n",
       "      <th>technique_id</th>\n",
       "      <th>data_sources</th>\n",
       "    </tr>\n",
       "  </thead>\n",
       "  <tbody>\n",
       "    <tr>\n",
       "      <th>0</th>\n",
       "      <td>mitre-attack</td>\n",
       "      <td>[persistence]</td>\n",
       "      <td>.bash_profile and .bashrc</td>\n",
       "      <td>T1156</td>\n",
       "      <td>[File monitoring, Process Monitoring, Process ...</td>\n",
       "    </tr>\n",
       "    <tr>\n",
       "      <th>1</th>\n",
       "      <td>mitre-attack</td>\n",
       "      <td>[defense-evasion, privilege-escalation]</td>\n",
       "      <td>Access Token Manipulation</td>\n",
       "      <td>T1134</td>\n",
       "      <td>[API monitoring, Access Tokens]</td>\n",
       "    </tr>\n",
       "    <tr>\n",
       "      <th>2</th>\n",
       "      <td>mitre-attack</td>\n",
       "      <td>[persistence, privilege-escalation]</td>\n",
       "      <td>Accessibility Features</td>\n",
       "      <td>T1015</td>\n",
       "      <td>[Windows Registry, File monitoring, Process mo...</td>\n",
       "    </tr>\n",
       "    <tr>\n",
       "      <th>3</th>\n",
       "      <td>mitre-attack</td>\n",
       "      <td>[credential-access]</td>\n",
       "      <td>Account Manipulation</td>\n",
       "      <td>T1098</td>\n",
       "      <td>[Authentication logs, API monitoring, Windows ...</td>\n",
       "    </tr>\n",
       "    <tr>\n",
       "      <th>4</th>\n",
       "      <td>mitre-attack</td>\n",
       "      <td>[discovery]</td>\n",
       "      <td>Account Discovery</td>\n",
       "      <td>T1087</td>\n",
       "      <td>[API monitoring, Process command-line paramete...</td>\n",
       "    </tr>\n",
       "  </tbody>\n",
       "</table>\n",
       "</div>"
      ],
      "text/plain": [
       "         matrix                                   tactic  \\\n",
       "0  mitre-attack                            [persistence]   \n",
       "1  mitre-attack  [defense-evasion, privilege-escalation]   \n",
       "2  mitre-attack      [persistence, privilege-escalation]   \n",
       "3  mitre-attack                      [credential-access]   \n",
       "4  mitre-attack                              [discovery]   \n",
       "\n",
       "                   technique technique_id  \\\n",
       "0  .bash_profile and .bashrc        T1156   \n",
       "1  Access Token Manipulation        T1134   \n",
       "2     Accessibility Features        T1015   \n",
       "3       Account Manipulation        T1098   \n",
       "4          Account Discovery        T1087   \n",
       "\n",
       "                                        data_sources  \n",
       "0  [File monitoring, Process Monitoring, Process ...  \n",
       "1                    [API monitoring, Access Tokens]  \n",
       "2  [Windows Registry, File monitoring, Process mo...  \n",
       "3  [Authentication logs, API monitoring, Windows ...  \n",
       "4  [API monitoring, Process command-line paramete...  "
      ]
     },
     "execution_count": 46,
     "metadata": {},
     "output_type": "execute_result"
    }
   ],
   "source": [
    "print(\"Number of Techniques in ATT&CK\")\n",
    "techniques = lift.get_all_techniques()\n",
    "print(len(techniques))\n",
    "df = json_normalize(techniques)\n",
    "df.reindex(['matrix', 'tactic', 'technique', 'technique_id', 'data_sources'], axis=1)[0:5]"
   ]
  },
  {
   "cell_type": "markdown",
   "metadata": {},
   "source": [
    "### Get All Enterprise Mitigations ONLY (TAXII)"
   ]
  },
  {
   "cell_type": "code",
   "execution_count": 47,
   "metadata": {},
   "outputs": [
    {
     "name": "stdout",
     "output_type": "stream",
     "text": [
      "Number of Mitigations in Enterprise ATT&CK\n",
      "215\n"
     ]
    },
    {
     "data": {
      "text/html": [
       "<div>\n",
       "<style scoped>\n",
       "    .dataframe tbody tr th:only-of-type {\n",
       "        vertical-align: middle;\n",
       "    }\n",
       "\n",
       "    .dataframe tbody tr th {\n",
       "        vertical-align: top;\n",
       "    }\n",
       "\n",
       "    .dataframe thead th {\n",
       "        text-align: right;\n",
       "    }\n",
       "</style>\n",
       "<table border=\"1\" class=\"dataframe\">\n",
       "  <thead>\n",
       "    <tr style=\"text-align: right;\">\n",
       "      <th></th>\n",
       "      <th>matrix</th>\n",
       "      <th>mitigation</th>\n",
       "      <th>mitigation_description</th>\n",
       "      <th>url</th>\n",
       "    </tr>\n",
       "  </thead>\n",
       "  <tbody>\n",
       "    <tr>\n",
       "      <th>0</th>\n",
       "      <td>mitre-attack</td>\n",
       "      <td>.bash_profile and .bashrc Mitigation</td>\n",
       "      <td>Making these files immutable and only changeab...</td>\n",
       "      <td>https://attack.mitre.org/wiki/Technique/T1156</td>\n",
       "    </tr>\n",
       "    <tr>\n",
       "      <th>1</th>\n",
       "      <td>mitre-attack</td>\n",
       "      <td>Access Token Manipulation Mitigation</td>\n",
       "      <td>Access tokens are an integral part of the secu...</td>\n",
       "      <td>https://attack.mitre.org/wiki/Technique/T1134</td>\n",
       "    </tr>\n",
       "    <tr>\n",
       "      <th>2</th>\n",
       "      <td>mitre-attack</td>\n",
       "      <td>Accessibility Features Mitigation</td>\n",
       "      <td>To use this technique remotely, an adversary m...</td>\n",
       "      <td>https://attack.mitre.org/wiki/Technique/T1015</td>\n",
       "    </tr>\n",
       "    <tr>\n",
       "      <th>3</th>\n",
       "      <td>mitre-attack</td>\n",
       "      <td>Account Discovery Mitigation</td>\n",
       "      <td>Prevent administrator accounts from being enum...</td>\n",
       "      <td>https://attack.mitre.org/wiki/Technique/T1087</td>\n",
       "    </tr>\n",
       "    <tr>\n",
       "      <th>4</th>\n",
       "      <td>mitre-attack</td>\n",
       "      <td>Account Manipulation Mitigation</td>\n",
       "      <td>Use multifactor authentication. Follow guideli...</td>\n",
       "      <td>https://attack.mitre.org/wiki/Technique/T1098</td>\n",
       "    </tr>\n",
       "  </tbody>\n",
       "</table>\n",
       "</div>"
      ],
      "text/plain": [
       "         matrix                            mitigation  \\\n",
       "0  mitre-attack  .bash_profile and .bashrc Mitigation   \n",
       "1  mitre-attack  Access Token Manipulation Mitigation   \n",
       "2  mitre-attack     Accessibility Features Mitigation   \n",
       "3  mitre-attack          Account Discovery Mitigation   \n",
       "4  mitre-attack       Account Manipulation Mitigation   \n",
       "\n",
       "                              mitigation_description  \\\n",
       "0  Making these files immutable and only changeab...   \n",
       "1  Access tokens are an integral part of the secu...   \n",
       "2  To use this technique remotely, an adversary m...   \n",
       "3  Prevent administrator accounts from being enum...   \n",
       "4  Use multifactor authentication. Follow guideli...   \n",
       "\n",
       "                                             url  \n",
       "0  https://attack.mitre.org/wiki/Technique/T1156  \n",
       "1  https://attack.mitre.org/wiki/Technique/T1134  \n",
       "2  https://attack.mitre.org/wiki/Technique/T1015  \n",
       "3  https://attack.mitre.org/wiki/Technique/T1087  \n",
       "4  https://attack.mitre.org/wiki/Technique/T1098  "
      ]
     },
     "execution_count": 47,
     "metadata": {},
     "output_type": "execute_result"
    }
   ],
   "source": [
    "print(\"Number of Mitigations in Enterprise ATT&CK\")\n",
    "mitigations = lift.get_all_enterprise_mitigations()\n",
    "print(len(mitigations))\n",
    "df = json_normalize(mitigations)\n",
    "df.reindex(['matrix', 'mitigation', 'mitigation_description', 'url'], axis=1)[0:5]"
   ]
  },
  {
   "cell_type": "markdown",
   "metadata": {},
   "source": [
    "### Get All Mobile Mitigations ONLY (TAXII)"
   ]
  },
  {
   "cell_type": "code",
   "execution_count": 48,
   "metadata": {},
   "outputs": [
    {
     "name": "stdout",
     "output_type": "stream",
     "text": [
      "Number of Mitigations in Mobile ATT&CK\n",
      "14\n"
     ]
    },
    {
     "data": {
      "text/html": [
       "<div>\n",
       "<style scoped>\n",
       "    .dataframe tbody tr th:only-of-type {\n",
       "        vertical-align: middle;\n",
       "    }\n",
       "\n",
       "    .dataframe tbody tr th {\n",
       "        vertical-align: top;\n",
       "    }\n",
       "\n",
       "    .dataframe thead th {\n",
       "        text-align: right;\n",
       "    }\n",
       "</style>\n",
       "<table border=\"1\" class=\"dataframe\">\n",
       "  <thead>\n",
       "    <tr style=\"text-align: right;\">\n",
       "      <th></th>\n",
       "      <th>matrix</th>\n",
       "      <th>mitigation</th>\n",
       "      <th>mitigation_description</th>\n",
       "      <th>url</th>\n",
       "    </tr>\n",
       "  </thead>\n",
       "  <tbody>\n",
       "    <tr>\n",
       "      <th>0</th>\n",
       "      <td>mitre-attack-mobile</td>\n",
       "      <td>Attestation</td>\n",
       "      <td>Enable remote attestation capabilities when av...</td>\n",
       "      <td>https://attack.mitre.org/mobile/index.php/Miti...</td>\n",
       "    </tr>\n",
       "    <tr>\n",
       "      <th>1</th>\n",
       "      <td>mitre-attack-mobile</td>\n",
       "      <td>Interconnection Filtering</td>\n",
       "      <td>In order to mitigate Signaling System 7 (SS7) ...</td>\n",
       "      <td>https://attack.mitre.org/mobile/index.php/Miti...</td>\n",
       "    </tr>\n",
       "    <tr>\n",
       "      <th>2</th>\n",
       "      <td>mitre-attack-mobile</td>\n",
       "      <td>Use Recent OS Version</td>\n",
       "      <td>New mobile operating system versions bring not...</td>\n",
       "      <td>https://attack.mitre.org/mobile/index.php/Miti...</td>\n",
       "    </tr>\n",
       "    <tr>\n",
       "      <th>3</th>\n",
       "      <td>mitre-attack-mobile</td>\n",
       "      <td>Application Vetting</td>\n",
       "      <td>Enterprises can vet applications for exploitab...</td>\n",
       "      <td>https://attack.mitre.org/mobile/index.php/Miti...</td>\n",
       "    </tr>\n",
       "    <tr>\n",
       "      <th>4</th>\n",
       "      <td>mitre-attack-mobile</td>\n",
       "      <td>Enterprise Policy</td>\n",
       "      <td>An enterprise mobility management (EMM), also ...</td>\n",
       "      <td>https://attack.mitre.org/mobile/index.php/Miti...</td>\n",
       "    </tr>\n",
       "  </tbody>\n",
       "</table>\n",
       "</div>"
      ],
      "text/plain": [
       "                matrix                 mitigation  \\\n",
       "0  mitre-attack-mobile                Attestation   \n",
       "1  mitre-attack-mobile  Interconnection Filtering   \n",
       "2  mitre-attack-mobile      Use Recent OS Version   \n",
       "3  mitre-attack-mobile        Application Vetting   \n",
       "4  mitre-attack-mobile          Enterprise Policy   \n",
       "\n",
       "                              mitigation_description  \\\n",
       "0  Enable remote attestation capabilities when av...   \n",
       "1  In order to mitigate Signaling System 7 (SS7) ...   \n",
       "2  New mobile operating system versions bring not...   \n",
       "3  Enterprises can vet applications for exploitab...   \n",
       "4  An enterprise mobility management (EMM), also ...   \n",
       "\n",
       "                                                 url  \n",
       "0  https://attack.mitre.org/mobile/index.php/Miti...  \n",
       "1  https://attack.mitre.org/mobile/index.php/Miti...  \n",
       "2  https://attack.mitre.org/mobile/index.php/Miti...  \n",
       "3  https://attack.mitre.org/mobile/index.php/Miti...  \n",
       "4  https://attack.mitre.org/mobile/index.php/Miti...  "
      ]
     },
     "execution_count": 48,
     "metadata": {},
     "output_type": "execute_result"
    }
   ],
   "source": [
    "print(\"Number of Mitigations in Mobile ATT&CK\")\n",
    "mitigations = lift.get_all_mobile_mitigations()\n",
    "print(len(mitigations))\n",
    "df = json_normalize(mitigations)\n",
    "df.reindex(['matrix', 'mitigation', 'mitigation_description', 'url'], axis=1)[0:5]"
   ]
  },
  {
   "cell_type": "markdown",
   "metadata": {},
   "source": [
    "### Get All Mitigations (TAXII)"
   ]
  },
  {
   "cell_type": "code",
   "execution_count": 49,
   "metadata": {},
   "outputs": [
    {
     "name": "stdout",
     "output_type": "stream",
     "text": [
      "Number of Mitigations in ATT&CK\n",
      "229\n"
     ]
    },
    {
     "data": {
      "text/html": [
       "<div>\n",
       "<style scoped>\n",
       "    .dataframe tbody tr th:only-of-type {\n",
       "        vertical-align: middle;\n",
       "    }\n",
       "\n",
       "    .dataframe tbody tr th {\n",
       "        vertical-align: top;\n",
       "    }\n",
       "\n",
       "    .dataframe thead th {\n",
       "        text-align: right;\n",
       "    }\n",
       "</style>\n",
       "<table border=\"1\" class=\"dataframe\">\n",
       "  <thead>\n",
       "    <tr style=\"text-align: right;\">\n",
       "      <th></th>\n",
       "      <th>matrix</th>\n",
       "      <th>mitigation</th>\n",
       "      <th>mitigation_description</th>\n",
       "      <th>url</th>\n",
       "    </tr>\n",
       "  </thead>\n",
       "  <tbody>\n",
       "    <tr>\n",
       "      <th>0</th>\n",
       "      <td>mitre-attack</td>\n",
       "      <td>.bash_profile and .bashrc Mitigation</td>\n",
       "      <td>Making these files immutable and only changeab...</td>\n",
       "      <td>https://attack.mitre.org/wiki/Technique/T1156</td>\n",
       "    </tr>\n",
       "    <tr>\n",
       "      <th>1</th>\n",
       "      <td>mitre-attack</td>\n",
       "      <td>Access Token Manipulation Mitigation</td>\n",
       "      <td>Access tokens are an integral part of the secu...</td>\n",
       "      <td>https://attack.mitre.org/wiki/Technique/T1134</td>\n",
       "    </tr>\n",
       "    <tr>\n",
       "      <th>2</th>\n",
       "      <td>mitre-attack</td>\n",
       "      <td>Accessibility Features Mitigation</td>\n",
       "      <td>To use this technique remotely, an adversary m...</td>\n",
       "      <td>https://attack.mitre.org/wiki/Technique/T1015</td>\n",
       "    </tr>\n",
       "    <tr>\n",
       "      <th>3</th>\n",
       "      <td>mitre-attack</td>\n",
       "      <td>Account Discovery Mitigation</td>\n",
       "      <td>Prevent administrator accounts from being enum...</td>\n",
       "      <td>https://attack.mitre.org/wiki/Technique/T1087</td>\n",
       "    </tr>\n",
       "    <tr>\n",
       "      <th>4</th>\n",
       "      <td>mitre-attack</td>\n",
       "      <td>Account Manipulation Mitigation</td>\n",
       "      <td>Use multifactor authentication. Follow guideli...</td>\n",
       "      <td>https://attack.mitre.org/wiki/Technique/T1098</td>\n",
       "    </tr>\n",
       "  </tbody>\n",
       "</table>\n",
       "</div>"
      ],
      "text/plain": [
       "         matrix                            mitigation  \\\n",
       "0  mitre-attack  .bash_profile and .bashrc Mitigation   \n",
       "1  mitre-attack  Access Token Manipulation Mitigation   \n",
       "2  mitre-attack     Accessibility Features Mitigation   \n",
       "3  mitre-attack          Account Discovery Mitigation   \n",
       "4  mitre-attack       Account Manipulation Mitigation   \n",
       "\n",
       "                              mitigation_description  \\\n",
       "0  Making these files immutable and only changeab...   \n",
       "1  Access tokens are an integral part of the secu...   \n",
       "2  To use this technique remotely, an adversary m...   \n",
       "3  Prevent administrator accounts from being enum...   \n",
       "4  Use multifactor authentication. Follow guideli...   \n",
       "\n",
       "                                             url  \n",
       "0  https://attack.mitre.org/wiki/Technique/T1156  \n",
       "1  https://attack.mitre.org/wiki/Technique/T1134  \n",
       "2  https://attack.mitre.org/wiki/Technique/T1015  \n",
       "3  https://attack.mitre.org/wiki/Technique/T1087  \n",
       "4  https://attack.mitre.org/wiki/Technique/T1098  "
      ]
     },
     "execution_count": 49,
     "metadata": {},
     "output_type": "execute_result"
    }
   ],
   "source": [
    "print(\"Number of Mitigations in ATT&CK\")\n",
    "mitigations = lift.get_all_mitigations()\n",
    "print(len(mitigations))\n",
    "df = json_normalize(mitigations)\n",
    "df.reindex(['matrix', 'mitigation', 'mitigation_description', 'url'], axis=1)[0:5]"
   ]
  },
  {
   "cell_type": "markdown",
   "metadata": {},
   "source": [
    "### Get All Enterprise Groups ONLY (TAXII)"
   ]
  },
  {
   "cell_type": "code",
   "execution_count": 50,
   "metadata": {},
   "outputs": [
    {
     "name": "stdout",
     "output_type": "stream",
     "text": [
      "Number of Groups in Enterprise ATT&CK\n",
      "69\n"
     ]
    },
    {
     "data": {
      "text/html": [
       "<div>\n",
       "<style scoped>\n",
       "    .dataframe tbody tr th:only-of-type {\n",
       "        vertical-align: middle;\n",
       "    }\n",
       "\n",
       "    .dataframe tbody tr th {\n",
       "        vertical-align: top;\n",
       "    }\n",
       "\n",
       "    .dataframe thead th {\n",
       "        text-align: right;\n",
       "    }\n",
       "</style>\n",
       "<table border=\"1\" class=\"dataframe\">\n",
       "  <thead>\n",
       "    <tr style=\"text-align: right;\">\n",
       "      <th></th>\n",
       "      <th>matrix</th>\n",
       "      <th>group</th>\n",
       "      <th>group_aliases</th>\n",
       "      <th>group_id</th>\n",
       "      <th>group_description</th>\n",
       "    </tr>\n",
       "  </thead>\n",
       "  <tbody>\n",
       "    <tr>\n",
       "      <th>0</th>\n",
       "      <td>mitre-attack</td>\n",
       "      <td>APT12</td>\n",
       "      <td>[APT12, IXESHE, DynCalc, Numbered Panda, DNSCALC]</td>\n",
       "      <td>G0005</td>\n",
       "      <td>APT12 is a threat group that has been attribut...</td>\n",
       "    </tr>\n",
       "    <tr>\n",
       "      <th>1</th>\n",
       "      <td>mitre-attack</td>\n",
       "      <td>APT29</td>\n",
       "      <td>[APT29, The Dukes, Cozy Bear, CozyDuke]</td>\n",
       "      <td>G0016</td>\n",
       "      <td>APT29 is threat group that has been attributed...</td>\n",
       "    </tr>\n",
       "    <tr>\n",
       "      <th>2</th>\n",
       "      <td>mitre-attack</td>\n",
       "      <td>APT34</td>\n",
       "      <td>[APT34]</td>\n",
       "      <td>G0057</td>\n",
       "      <td>APT34 is an Iranian cyber espionage group that...</td>\n",
       "    </tr>\n",
       "    <tr>\n",
       "      <th>3</th>\n",
       "      <td>mitre-attack</td>\n",
       "      <td>Carbanak</td>\n",
       "      <td>[Carbanak, Anunak, Carbon Spider]</td>\n",
       "      <td>G0008</td>\n",
       "      <td>Carbanak is a threat group that mainly targets...</td>\n",
       "    </tr>\n",
       "    <tr>\n",
       "      <th>4</th>\n",
       "      <td>mitre-attack</td>\n",
       "      <td>APT1</td>\n",
       "      <td>[APT1, Comment Crew, Comment Group, Comment Pa...</td>\n",
       "      <td>G0006</td>\n",
       "      <td>APT1 is a Chinese threat group that has been a...</td>\n",
       "    </tr>\n",
       "  </tbody>\n",
       "</table>\n",
       "</div>"
      ],
      "text/plain": [
       "         matrix     group                                      group_aliases  \\\n",
       "0  mitre-attack     APT12  [APT12, IXESHE, DynCalc, Numbered Panda, DNSCALC]   \n",
       "1  mitre-attack     APT29            [APT29, The Dukes, Cozy Bear, CozyDuke]   \n",
       "2  mitre-attack     APT34                                            [APT34]   \n",
       "3  mitre-attack  Carbanak                  [Carbanak, Anunak, Carbon Spider]   \n",
       "4  mitre-attack      APT1  [APT1, Comment Crew, Comment Group, Comment Pa...   \n",
       "\n",
       "  group_id                                  group_description  \n",
       "0    G0005  APT12 is a threat group that has been attribut...  \n",
       "1    G0016  APT29 is threat group that has been attributed...  \n",
       "2    G0057  APT34 is an Iranian cyber espionage group that...  \n",
       "3    G0008  Carbanak is a threat group that mainly targets...  \n",
       "4    G0006  APT1 is a Chinese threat group that has been a...  "
      ]
     },
     "execution_count": 50,
     "metadata": {},
     "output_type": "execute_result"
    }
   ],
   "source": [
    "print(\"Number of Groups in Enterprise ATT&CK\")\n",
    "groups = lift.get_all_enterprise_groups()\n",
    "print(len(groups))\n",
    "df = json_normalize(groups)\n",
    "df.reindex(['matrix', 'group', 'group_aliases', 'group_id', 'group_description'], axis=1)[0:5]"
   ]
  },
  {
   "cell_type": "markdown",
   "metadata": {},
   "source": [
    "### Get All PRE Groups ONLY (TAXII)"
   ]
  },
  {
   "cell_type": "code",
   "execution_count": 51,
   "metadata": {},
   "outputs": [
    {
     "name": "stdout",
     "output_type": "stream",
     "text": [
      "Number of Groups in PRE-ATT&CK\n",
      "7\n"
     ]
    },
    {
     "data": {
      "text/html": [
       "<div>\n",
       "<style scoped>\n",
       "    .dataframe tbody tr th:only-of-type {\n",
       "        vertical-align: middle;\n",
       "    }\n",
       "\n",
       "    .dataframe tbody tr th {\n",
       "        vertical-align: top;\n",
       "    }\n",
       "\n",
       "    .dataframe thead th {\n",
       "        text-align: right;\n",
       "    }\n",
       "</style>\n",
       "<table border=\"1\" class=\"dataframe\">\n",
       "  <thead>\n",
       "    <tr style=\"text-align: right;\">\n",
       "      <th></th>\n",
       "      <th>matrix</th>\n",
       "      <th>group</th>\n",
       "      <th>group_aliases</th>\n",
       "      <th>group_id</th>\n",
       "      <th>group_description</th>\n",
       "    </tr>\n",
       "  </thead>\n",
       "  <tbody>\n",
       "    <tr>\n",
       "      <th>0</th>\n",
       "      <td>mitre-attack</td>\n",
       "      <td>APT12</td>\n",
       "      <td>[APT12, IXESHE, DynCalc, Numbered Panda, DNSCALC]</td>\n",
       "      <td>G0005</td>\n",
       "      <td>APT12 is a threat group that has been attribut...</td>\n",
       "    </tr>\n",
       "    <tr>\n",
       "      <th>1</th>\n",
       "      <td>mitre-attack</td>\n",
       "      <td>APT1</td>\n",
       "      <td>[APT1, Comment Crew, Comment Group, Comment Pa...</td>\n",
       "      <td>G0006</td>\n",
       "      <td>APT1 is a Chinese threat group that has been a...</td>\n",
       "    </tr>\n",
       "    <tr>\n",
       "      <th>2</th>\n",
       "      <td>mitre-attack</td>\n",
       "      <td>APT28</td>\n",
       "      <td>[APT28, Sednit, Sofacy, Pawn Storm, Fancy Bear...</td>\n",
       "      <td>G0007</td>\n",
       "      <td>APT28 is a threat group that has been attribut...</td>\n",
       "    </tr>\n",
       "    <tr>\n",
       "      <th>3</th>\n",
       "      <td>mitre-attack</td>\n",
       "      <td>Night Dragon</td>\n",
       "      <td>[Night Dragon, Musical Chairs]</td>\n",
       "      <td>G0014</td>\n",
       "      <td>Night Dragon is a campaign name for activity i...</td>\n",
       "    </tr>\n",
       "    <tr>\n",
       "      <th>4</th>\n",
       "      <td>mitre-attack</td>\n",
       "      <td>APT16</td>\n",
       "      <td>[APT16]</td>\n",
       "      <td>G0023</td>\n",
       "      <td>APT16 is a China-based threat group that has l...</td>\n",
       "    </tr>\n",
       "  </tbody>\n",
       "</table>\n",
       "</div>"
      ],
      "text/plain": [
       "         matrix         group  \\\n",
       "0  mitre-attack         APT12   \n",
       "1  mitre-attack          APT1   \n",
       "2  mitre-attack         APT28   \n",
       "3  mitre-attack  Night Dragon   \n",
       "4  mitre-attack         APT16   \n",
       "\n",
       "                                       group_aliases group_id  \\\n",
       "0  [APT12, IXESHE, DynCalc, Numbered Panda, DNSCALC]    G0005   \n",
       "1  [APT1, Comment Crew, Comment Group, Comment Pa...    G0006   \n",
       "2  [APT28, Sednit, Sofacy, Pawn Storm, Fancy Bear...    G0007   \n",
       "3                     [Night Dragon, Musical Chairs]    G0014   \n",
       "4                                            [APT16]    G0023   \n",
       "\n",
       "                                   group_description  \n",
       "0  APT12 is a threat group that has been attribut...  \n",
       "1  APT1 is a Chinese threat group that has been a...  \n",
       "2  APT28 is a threat group that has been attribut...  \n",
       "3  Night Dragon is a campaign name for activity i...  \n",
       "4  APT16 is a China-based threat group that has l...  "
      ]
     },
     "execution_count": 51,
     "metadata": {},
     "output_type": "execute_result"
    }
   ],
   "source": [
    "print(\"Number of Groups in PRE-ATT&CK\")\n",
    "groups = lift.get_all_pre_groups()\n",
    "print(len(groups))\n",
    "df = json_normalize(groups)\n",
    "df.reindex(['matrix', 'group', 'group_aliases', 'group_id', 'group_description'], axis=1)[0:5]"
   ]
  },
  {
   "cell_type": "markdown",
   "metadata": {},
   "source": [
    "### Get All Mobile Groups ONLY (TAXII)"
   ]
  },
  {
   "cell_type": "code",
   "execution_count": 52,
   "metadata": {},
   "outputs": [
    {
     "name": "stdout",
     "output_type": "stream",
     "text": [
      "Number of Groups in Mobile ATT&CK\n",
      "1\n"
     ]
    },
    {
     "data": {
      "text/html": [
       "<div>\n",
       "<style scoped>\n",
       "    .dataframe tbody tr th:only-of-type {\n",
       "        vertical-align: middle;\n",
       "    }\n",
       "\n",
       "    .dataframe tbody tr th {\n",
       "        vertical-align: top;\n",
       "    }\n",
       "\n",
       "    .dataframe thead th {\n",
       "        text-align: right;\n",
       "    }\n",
       "</style>\n",
       "<table border=\"1\" class=\"dataframe\">\n",
       "  <thead>\n",
       "    <tr style=\"text-align: right;\">\n",
       "      <th></th>\n",
       "      <th>matrix</th>\n",
       "      <th>group</th>\n",
       "      <th>group_aliases</th>\n",
       "      <th>group_id</th>\n",
       "      <th>group_description</th>\n",
       "    </tr>\n",
       "  </thead>\n",
       "  <tbody>\n",
       "    <tr>\n",
       "      <th>0</th>\n",
       "      <td>mitre-attack</td>\n",
       "      <td>APT28</td>\n",
       "      <td>[APT28, Sednit, Sofacy, Pawn Storm, Fancy Bear...</td>\n",
       "      <td>G0007</td>\n",
       "      <td>APT28 is a threat group that has been attribut...</td>\n",
       "    </tr>\n",
       "  </tbody>\n",
       "</table>\n",
       "</div>"
      ],
      "text/plain": [
       "         matrix  group                                      group_aliases  \\\n",
       "0  mitre-attack  APT28  [APT28, Sednit, Sofacy, Pawn Storm, Fancy Bear...   \n",
       "\n",
       "  group_id                                  group_description  \n",
       "0    G0007  APT28 is a threat group that has been attribut...  "
      ]
     },
     "execution_count": 52,
     "metadata": {},
     "output_type": "execute_result"
    }
   ],
   "source": [
    "print(\"Number of Groups in Mobile ATT&CK\")\n",
    "groups = lift.get_all_mobile_groups()\n",
    "print(len(groups))\n",
    "df = json_normalize(groups)\n",
    "df.reindex(['matrix', 'group', 'group_aliases', 'group_id', 'group_description'], axis=1)[0:5]"
   ]
  },
  {
   "cell_type": "markdown",
   "metadata": {},
   "source": [
    "### Get All Groups (TAXII)"
   ]
  },
  {
   "cell_type": "markdown",
   "metadata": {},
   "source": [
    "* This function gathers all groups defined in each Matrix (Enterprise, PRE & Mobile) and returns the unique ones\n",
    "  * This is because groups can be repeated across matrices"
   ]
  },
  {
   "cell_type": "code",
   "execution_count": 53,
   "metadata": {},
   "outputs": [
    {
     "name": "stdout",
     "output_type": "stream",
     "text": [
      "Number of Groups in ATT&CK\n",
      "69\n"
     ]
    },
    {
     "data": {
      "text/html": [
       "<div>\n",
       "<style scoped>\n",
       "    .dataframe tbody tr th:only-of-type {\n",
       "        vertical-align: middle;\n",
       "    }\n",
       "\n",
       "    .dataframe tbody tr th {\n",
       "        vertical-align: top;\n",
       "    }\n",
       "\n",
       "    .dataframe thead th {\n",
       "        text-align: right;\n",
       "    }\n",
       "</style>\n",
       "<table border=\"1\" class=\"dataframe\">\n",
       "  <thead>\n",
       "    <tr style=\"text-align: right;\">\n",
       "      <th></th>\n",
       "      <th>matrix</th>\n",
       "      <th>group</th>\n",
       "      <th>group_aliases</th>\n",
       "      <th>group_id</th>\n",
       "      <th>group_description</th>\n",
       "    </tr>\n",
       "  </thead>\n",
       "  <tbody>\n",
       "    <tr>\n",
       "      <th>0</th>\n",
       "      <td>mitre-attack</td>\n",
       "      <td>APT12</td>\n",
       "      <td>[APT12, IXESHE, DynCalc, Numbered Panda, DNSCALC]</td>\n",
       "      <td>G0005</td>\n",
       "      <td>APT12 is a threat group that has been attribut...</td>\n",
       "    </tr>\n",
       "    <tr>\n",
       "      <th>1</th>\n",
       "      <td>mitre-attack</td>\n",
       "      <td>APT29</td>\n",
       "      <td>[APT29, The Dukes, Cozy Bear, CozyDuke]</td>\n",
       "      <td>G0016</td>\n",
       "      <td>APT29 is threat group that has been attributed...</td>\n",
       "    </tr>\n",
       "    <tr>\n",
       "      <th>2</th>\n",
       "      <td>mitre-attack</td>\n",
       "      <td>APT34</td>\n",
       "      <td>[APT34]</td>\n",
       "      <td>G0057</td>\n",
       "      <td>APT34 is an Iranian cyber espionage group that...</td>\n",
       "    </tr>\n",
       "    <tr>\n",
       "      <th>3</th>\n",
       "      <td>mitre-attack</td>\n",
       "      <td>Carbanak</td>\n",
       "      <td>[Carbanak, Anunak, Carbon Spider]</td>\n",
       "      <td>G0008</td>\n",
       "      <td>Carbanak is a threat group that mainly targets...</td>\n",
       "    </tr>\n",
       "    <tr>\n",
       "      <th>4</th>\n",
       "      <td>mitre-attack</td>\n",
       "      <td>APT1</td>\n",
       "      <td>[APT1, Comment Crew, Comment Group, Comment Pa...</td>\n",
       "      <td>G0006</td>\n",
       "      <td>APT1 is a Chinese threat group that has been a...</td>\n",
       "    </tr>\n",
       "  </tbody>\n",
       "</table>\n",
       "</div>"
      ],
      "text/plain": [
       "         matrix     group                                      group_aliases  \\\n",
       "0  mitre-attack     APT12  [APT12, IXESHE, DynCalc, Numbered Panda, DNSCALC]   \n",
       "1  mitre-attack     APT29            [APT29, The Dukes, Cozy Bear, CozyDuke]   \n",
       "2  mitre-attack     APT34                                            [APT34]   \n",
       "3  mitre-attack  Carbanak                  [Carbanak, Anunak, Carbon Spider]   \n",
       "4  mitre-attack      APT1  [APT1, Comment Crew, Comment Group, Comment Pa...   \n",
       "\n",
       "  group_id                                  group_description  \n",
       "0    G0005  APT12 is a threat group that has been attribut...  \n",
       "1    G0016  APT29 is threat group that has been attributed...  \n",
       "2    G0057  APT34 is an Iranian cyber espionage group that...  \n",
       "3    G0008  Carbanak is a threat group that mainly targets...  \n",
       "4    G0006  APT1 is a Chinese threat group that has been a...  "
      ]
     },
     "execution_count": 53,
     "metadata": {},
     "output_type": "execute_result"
    }
   ],
   "source": [
    "print(\"Number of Groups in ATT&CK\")\n",
    "groups = lift.get_all_groups()\n",
    "print(len(groups))\n",
    "df = json_normalize(groups)\n",
    "df.reindex(['matrix', 'group', 'group_aliases', 'group_id', 'group_description'], axis=1)[0:5]"
   ]
  },
  {
   "cell_type": "markdown",
   "metadata": {},
   "source": [
    "### Get All Enterprise & Mobile Software (Malware & Tools) (TAXII)"
   ]
  },
  {
   "cell_type": "code",
   "execution_count": 54,
   "metadata": {},
   "outputs": [
    {
     "name": "stdout",
     "output_type": "stream",
     "text": [
      "Number of Software in ATT&CK\n",
      "269\n"
     ]
    },
    {
     "data": {
      "text/html": [
       "<div>\n",
       "<style scoped>\n",
       "    .dataframe tbody tr th:only-of-type {\n",
       "        vertical-align: middle;\n",
       "    }\n",
       "\n",
       "    .dataframe tbody tr th {\n",
       "        vertical-align: top;\n",
       "    }\n",
       "\n",
       "    .dataframe thead th {\n",
       "        text-align: right;\n",
       "    }\n",
       "</style>\n",
       "<table border=\"1\" class=\"dataframe\">\n",
       "  <thead>\n",
       "    <tr style=\"text-align: right;\">\n",
       "      <th></th>\n",
       "      <th>matrix</th>\n",
       "      <th>software</th>\n",
       "      <th>software_labels</th>\n",
       "      <th>software_id</th>\n",
       "      <th>software_description</th>\n",
       "    </tr>\n",
       "  </thead>\n",
       "  <tbody>\n",
       "    <tr>\n",
       "      <th>0</th>\n",
       "      <td>mitre-attack</td>\n",
       "      <td>BITSAdmin</td>\n",
       "      <td>[tool]</td>\n",
       "      <td>S0190</td>\n",
       "      <td>is a command line tool used to create and mana...</td>\n",
       "    </tr>\n",
       "    <tr>\n",
       "      <th>1</th>\n",
       "      <td>mitre-attack</td>\n",
       "      <td>Forfiles</td>\n",
       "      <td>[tool]</td>\n",
       "      <td>S0193</td>\n",
       "      <td>Forfiles is a Windows utility commonly used in...</td>\n",
       "    </tr>\n",
       "    <tr>\n",
       "      <th>2</th>\n",
       "      <td>mitre-attack</td>\n",
       "      <td>Invoke-PSImage</td>\n",
       "      <td>[tool]</td>\n",
       "      <td>S0231</td>\n",
       "      <td>Invoke-PSImage takes a PowerShell script and e...</td>\n",
       "    </tr>\n",
       "    <tr>\n",
       "      <th>3</th>\n",
       "      <td>mitre-attack</td>\n",
       "      <td>MimiPenguin</td>\n",
       "      <td>[tool]</td>\n",
       "      <td>S0179</td>\n",
       "      <td>MimiPenguin is a credential dumper, similar to...</td>\n",
       "    </tr>\n",
       "    <tr>\n",
       "      <th>4</th>\n",
       "      <td>mitre-attack</td>\n",
       "      <td>Net</td>\n",
       "      <td>[tool]</td>\n",
       "      <td>S0039</td>\n",
       "      <td>The Net utility is a component of the Windows ...</td>\n",
       "    </tr>\n",
       "  </tbody>\n",
       "</table>\n",
       "</div>"
      ],
      "text/plain": [
       "         matrix        software software_labels software_id  \\\n",
       "0  mitre-attack       BITSAdmin          [tool]       S0190   \n",
       "1  mitre-attack        Forfiles          [tool]       S0193   \n",
       "2  mitre-attack  Invoke-PSImage          [tool]       S0231   \n",
       "3  mitre-attack     MimiPenguin          [tool]       S0179   \n",
       "4  mitre-attack             Net          [tool]       S0039   \n",
       "\n",
       "                                software_description  \n",
       "0  is a command line tool used to create and mana...  \n",
       "1  Forfiles is a Windows utility commonly used in...  \n",
       "2  Invoke-PSImage takes a PowerShell script and e...  \n",
       "3  MimiPenguin is a credential dumper, similar to...  \n",
       "4  The Net utility is a component of the Windows ...  "
      ]
     },
     "execution_count": 54,
     "metadata": {},
     "output_type": "execute_result"
    }
   ],
   "source": [
    "print(\"Number of Software in ATT&CK\")\n",
    "software = lift.get_all_software()\n",
    "print(len(software))\n",
    "df = json_normalize(software)\n",
    "df.reindex(['matrix', 'software', 'software_labels', 'software_id', 'software_description'], axis=1)[0:5]"
   ]
  },
  {
   "cell_type": "markdown",
   "metadata": {},
   "source": [
    "### Get All Enterprise Relationships ONLY (TAXII)"
   ]
  },
  {
   "cell_type": "code",
   "execution_count": 55,
   "metadata": {},
   "outputs": [
    {
     "name": "stdout",
     "output_type": "stream",
     "text": [
      "Number of Relationships in Enterprise ATT&CK\n",
      "2707\n"
     ]
    },
    {
     "data": {
      "text/html": [
       "<div>\n",
       "<style scoped>\n",
       "    .dataframe tbody tr th:only-of-type {\n",
       "        vertical-align: middle;\n",
       "    }\n",
       "\n",
       "    .dataframe tbody tr th {\n",
       "        vertical-align: top;\n",
       "    }\n",
       "\n",
       "    .dataframe thead th {\n",
       "        text-align: right;\n",
       "    }\n",
       "</style>\n",
       "<table border=\"1\" class=\"dataframe\">\n",
       "  <thead>\n",
       "    <tr style=\"text-align: right;\">\n",
       "      <th></th>\n",
       "      <th>id</th>\n",
       "      <th>relationship</th>\n",
       "      <th>relationship_description</th>\n",
       "      <th>source_object</th>\n",
       "      <th>target_object</th>\n",
       "    </tr>\n",
       "  </thead>\n",
       "  <tbody>\n",
       "    <tr>\n",
       "      <th>0</th>\n",
       "      <td>relationship--3d635b23-78b7-4de4-9417-8077787c...</td>\n",
       "      <td>mitigates</td>\n",
       "      <td>NaN</td>\n",
       "      <td>course-of-action--5c49bc54-9929-48ca-b581-7018...</td>\n",
       "      <td>attack-pattern--72b74d71-8169-42aa-92e0-e7b04b...</td>\n",
       "    </tr>\n",
       "    <tr>\n",
       "      <th>1</th>\n",
       "      <td>relationship--e1275bcd-0462-4f79-b18f-2132b0bb...</td>\n",
       "      <td>mitigates</td>\n",
       "      <td>NaN</td>\n",
       "      <td>course-of-action--c88151a5-fe3f-4773-8147-d801...</td>\n",
       "      <td>attack-pattern--327f3cc5-eea1-42d4-a6cd-ed34b7...</td>\n",
       "    </tr>\n",
       "    <tr>\n",
       "      <th>2</th>\n",
       "      <td>relationship--fa04ac7f-206f-42ad-b0c7-499e57bc...</td>\n",
       "      <td>mitigates</td>\n",
       "      <td>NaN</td>\n",
       "      <td>course-of-action--8bd1ae32-a686-48f4-a6f8-4702...</td>\n",
       "      <td>attack-pattern--30208d3e-0d6b-43c8-883e-44462a...</td>\n",
       "    </tr>\n",
       "    <tr>\n",
       "      <th>3</th>\n",
       "      <td>relationship--49dd2ac1-cd3a-46db-89d7-307c6597...</td>\n",
       "      <td>mitigates</td>\n",
       "      <td>NaN</td>\n",
       "      <td>course-of-action--96150c35-466f-4f0a-97a9-ae87...</td>\n",
       "      <td>attack-pattern--02fefddc-fb1b-423f-a76b-7552dd...</td>\n",
       "    </tr>\n",
       "    <tr>\n",
       "      <th>4</th>\n",
       "      <td>relationship--162d2d29-7810-499c-a9ab-08b60cd0...</td>\n",
       "      <td>mitigates</td>\n",
       "      <td>NaN</td>\n",
       "      <td>course-of-action--91816292-3686-4a6e-83c4-4c08...</td>\n",
       "      <td>attack-pattern--7d6f590f-544b-45b4-9a42-e0805f...</td>\n",
       "    </tr>\n",
       "  </tbody>\n",
       "</table>\n",
       "</div>"
      ],
      "text/plain": [
       "                                                  id relationship  \\\n",
       "0  relationship--3d635b23-78b7-4de4-9417-8077787c...    mitigates   \n",
       "1  relationship--e1275bcd-0462-4f79-b18f-2132b0bb...    mitigates   \n",
       "2  relationship--fa04ac7f-206f-42ad-b0c7-499e57bc...    mitigates   \n",
       "3  relationship--49dd2ac1-cd3a-46db-89d7-307c6597...    mitigates   \n",
       "4  relationship--162d2d29-7810-499c-a9ab-08b60cd0...    mitigates   \n",
       "\n",
       "  relationship_description                                      source_object  \\\n",
       "0                      NaN  course-of-action--5c49bc54-9929-48ca-b581-7018...   \n",
       "1                      NaN  course-of-action--c88151a5-fe3f-4773-8147-d801...   \n",
       "2                      NaN  course-of-action--8bd1ae32-a686-48f4-a6f8-4702...   \n",
       "3                      NaN  course-of-action--96150c35-466f-4f0a-97a9-ae87...   \n",
       "4                      NaN  course-of-action--91816292-3686-4a6e-83c4-4c08...   \n",
       "\n",
       "                                       target_object  \n",
       "0  attack-pattern--72b74d71-8169-42aa-92e0-e7b04b...  \n",
       "1  attack-pattern--327f3cc5-eea1-42d4-a6cd-ed34b7...  \n",
       "2  attack-pattern--30208d3e-0d6b-43c8-883e-44462a...  \n",
       "3  attack-pattern--02fefddc-fb1b-423f-a76b-7552dd...  \n",
       "4  attack-pattern--7d6f590f-544b-45b4-9a42-e0805f...  "
      ]
     },
     "execution_count": 55,
     "metadata": {},
     "output_type": "execute_result"
    }
   ],
   "source": [
    "print(\"Number of Relationships in Enterprise ATT&CK\")\n",
    "relationships = lift.get_all_enterprise_relationships()\n",
    "print(len(relationships))\n",
    "df = json_normalize(relationships)\n",
    "df.reindex(['id','relationship', 'relationship_description', 'source_object', 'target_object'], axis=1)[0:5]"
   ]
  },
  {
   "cell_type": "markdown",
   "metadata": {},
   "source": [
    "### Get All PRE Relationships ONLY (TAXII)"
   ]
  },
  {
   "cell_type": "code",
   "execution_count": 56,
   "metadata": {},
   "outputs": [
    {
     "name": "stdout",
     "output_type": "stream",
     "text": [
      "Number of Relationships in PRE-ATT&CK\n",
      "114\n"
     ]
    },
    {
     "data": {
      "text/html": [
       "<div>\n",
       "<style scoped>\n",
       "    .dataframe tbody tr th:only-of-type {\n",
       "        vertical-align: middle;\n",
       "    }\n",
       "\n",
       "    .dataframe tbody tr th {\n",
       "        vertical-align: top;\n",
       "    }\n",
       "\n",
       "    .dataframe thead th {\n",
       "        text-align: right;\n",
       "    }\n",
       "</style>\n",
       "<table border=\"1\" class=\"dataframe\">\n",
       "  <thead>\n",
       "    <tr style=\"text-align: right;\">\n",
       "      <th></th>\n",
       "      <th>id</th>\n",
       "      <th>relationship</th>\n",
       "      <th>relationship_description</th>\n",
       "      <th>source_object</th>\n",
       "      <th>target_object</th>\n",
       "    </tr>\n",
       "  </thead>\n",
       "  <tbody>\n",
       "    <tr>\n",
       "      <th>0</th>\n",
       "      <td>relationship--1143e6a6-deef-4dbd-8c91-7bf537d8...</td>\n",
       "      <td>related-to</td>\n",
       "      <td>NaN</td>\n",
       "      <td>attack-pattern--784ff1bc-1483-41fe-a172-4cd9ae...</td>\n",
       "      <td>attack-pattern--2b9a666e-bd59-4f67-9031-ed41b4...</td>\n",
       "    </tr>\n",
       "    <tr>\n",
       "      <th>1</th>\n",
       "      <td>relationship--3d781e9a-d3f8-4e9f-bb23-ba6c2ff2...</td>\n",
       "      <td>related-to</td>\n",
       "      <td>NaN</td>\n",
       "      <td>attack-pattern--1a295f87-af63-4d94-b130-039d62...</td>\n",
       "      <td>attack-pattern--488da8ed-2887-4ef6-a39a-5b69bc...</td>\n",
       "    </tr>\n",
       "    <tr>\n",
       "      <th>2</th>\n",
       "      <td>relationship--d5bd7a33-a249-46e5-bb19-a498eba4...</td>\n",
       "      <td>related-to</td>\n",
       "      <td>NaN</td>\n",
       "      <td>attack-pattern--092f05e3-f7c0-4cd2-91be-3a8d6e...</td>\n",
       "      <td>attack-pattern--7baccb84-356c-4e89-8c5d-58e701...</td>\n",
       "    </tr>\n",
       "    <tr>\n",
       "      <th>3</th>\n",
       "      <td>relationship--bc165934-7ef6-4aed-a0d7-81d33725...</td>\n",
       "      <td>related-to</td>\n",
       "      <td>NaN</td>\n",
       "      <td>attack-pattern--e51398e6-53dc-4e9f-a323-e54683...</td>\n",
       "      <td>attack-pattern--4900fabf-1142-4c1f-92f5-0b590e...</td>\n",
       "    </tr>\n",
       "    <tr>\n",
       "      <th>4</th>\n",
       "      <td>relationship--46f1e7d4-4d73-4e33-b88b-b3bcde5d...</td>\n",
       "      <td>related-to</td>\n",
       "      <td>NaN</td>\n",
       "      <td>attack-pattern--a757670d-d600-48d9-8ae9-601d42...</td>\n",
       "      <td>attack-pattern--af358cad-eb71-4e91-a752-236edc...</td>\n",
       "    </tr>\n",
       "  </tbody>\n",
       "</table>\n",
       "</div>"
      ],
      "text/plain": [
       "                                                  id relationship  \\\n",
       "0  relationship--1143e6a6-deef-4dbd-8c91-7bf537d8...   related-to   \n",
       "1  relationship--3d781e9a-d3f8-4e9f-bb23-ba6c2ff2...   related-to   \n",
       "2  relationship--d5bd7a33-a249-46e5-bb19-a498eba4...   related-to   \n",
       "3  relationship--bc165934-7ef6-4aed-a0d7-81d33725...   related-to   \n",
       "4  relationship--46f1e7d4-4d73-4e33-b88b-b3bcde5d...   related-to   \n",
       "\n",
       "   relationship_description  \\\n",
       "0                       NaN   \n",
       "1                       NaN   \n",
       "2                       NaN   \n",
       "3                       NaN   \n",
       "4                       NaN   \n",
       "\n",
       "                                       source_object  \\\n",
       "0  attack-pattern--784ff1bc-1483-41fe-a172-4cd9ae...   \n",
       "1  attack-pattern--1a295f87-af63-4d94-b130-039d62...   \n",
       "2  attack-pattern--092f05e3-f7c0-4cd2-91be-3a8d6e...   \n",
       "3  attack-pattern--e51398e6-53dc-4e9f-a323-e54683...   \n",
       "4  attack-pattern--a757670d-d600-48d9-8ae9-601d42...   \n",
       "\n",
       "                                       target_object  \n",
       "0  attack-pattern--2b9a666e-bd59-4f67-9031-ed41b4...  \n",
       "1  attack-pattern--488da8ed-2887-4ef6-a39a-5b69bc...  \n",
       "2  attack-pattern--7baccb84-356c-4e89-8c5d-58e701...  \n",
       "3  attack-pattern--4900fabf-1142-4c1f-92f5-0b590e...  \n",
       "4  attack-pattern--af358cad-eb71-4e91-a752-236edc...  "
      ]
     },
     "execution_count": 56,
     "metadata": {},
     "output_type": "execute_result"
    }
   ],
   "source": [
    "print(\"Number of Relationships in PRE-ATT&CK\")\n",
    "relationships = lift.get_all_pre_relationships()\n",
    "print(len(relationships))\n",
    "df = json_normalize(relationships)\n",
    "df.reindex(['id','relationship', 'relationship_description', 'source_object', 'target_object'], axis=1)[0:5]"
   ]
  },
  {
   "cell_type": "markdown",
   "metadata": {},
   "source": [
    "### Get All Mobile Relationships ONLY (TAXII)"
   ]
  },
  {
   "cell_type": "code",
   "execution_count": 57,
   "metadata": {},
   "outputs": [
    {
     "name": "stdout",
     "output_type": "stream",
     "text": [
      "Number of Relationships in Mobile ATT&CK\n",
      "245\n"
     ]
    },
    {
     "data": {
      "text/html": [
       "<div>\n",
       "<style scoped>\n",
       "    .dataframe tbody tr th:only-of-type {\n",
       "        vertical-align: middle;\n",
       "    }\n",
       "\n",
       "    .dataframe tbody tr th {\n",
       "        vertical-align: top;\n",
       "    }\n",
       "\n",
       "    .dataframe thead th {\n",
       "        text-align: right;\n",
       "    }\n",
       "</style>\n",
       "<table border=\"1\" class=\"dataframe\">\n",
       "  <thead>\n",
       "    <tr style=\"text-align: right;\">\n",
       "      <th></th>\n",
       "      <th>id</th>\n",
       "      <th>relationship</th>\n",
       "      <th>relationship_description</th>\n",
       "      <th>source_object</th>\n",
       "      <th>target_object</th>\n",
       "    </tr>\n",
       "  </thead>\n",
       "  <tbody>\n",
       "    <tr>\n",
       "      <th>0</th>\n",
       "      <td>relationship--b2c289bf-e981-4bcd-87dd-b6c06805...</td>\n",
       "      <td>mitigates</td>\n",
       "      <td>NaN</td>\n",
       "      <td>course-of-action--0beabf44-e8d8-4ae4-9122-ef56...</td>\n",
       "      <td>attack-pattern--82f04b1e-5371-4a6f-be06-411f0f...</td>\n",
       "    </tr>\n",
       "    <tr>\n",
       "      <th>1</th>\n",
       "      <td>relationship--93a524e2-cb17-4b40-8640-a03949e8...</td>\n",
       "      <td>mitigates</td>\n",
       "      <td>NaN</td>\n",
       "      <td>course-of-action--bcecd036-f40e-4916-9f8e-fd0c...</td>\n",
       "      <td>attack-pattern--79eec66a-9bd0-4a3f-ac82-19159e...</td>\n",
       "    </tr>\n",
       "    <tr>\n",
       "      <th>2</th>\n",
       "      <td>relationship--9e83607e-2936-4f25-b6d2-c3578468...</td>\n",
       "      <td>mitigates</td>\n",
       "      <td>NaN</td>\n",
       "      <td>course-of-action--1553b156-6767-47f7-9eb4-2a69...</td>\n",
       "      <td>attack-pattern--29e07491-8947-43a3-8d4e-9a787c...</td>\n",
       "    </tr>\n",
       "    <tr>\n",
       "      <th>3</th>\n",
       "      <td>relationship--3ebcd3d8-dd8e-4cc9-8087-ce9e93df...</td>\n",
       "      <td>mitigates</td>\n",
       "      <td>NaN</td>\n",
       "      <td>course-of-action--0beabf44-e8d8-4ae4-9122-ef56...</td>\n",
       "      <td>attack-pattern--702055ac-4e54-4ae9-9527-e23a38...</td>\n",
       "    </tr>\n",
       "    <tr>\n",
       "      <th>4</th>\n",
       "      <td>relationship--bf859944-d097-45ba-ae01-2f85a00c...</td>\n",
       "      <td>mitigates</td>\n",
       "      <td>NaN</td>\n",
       "      <td>course-of-action--653492e3-27be-4a0e-b08c-938d...</td>\n",
       "      <td>attack-pattern--1f96d624-8409-4472-ad8a-30618e...</td>\n",
       "    </tr>\n",
       "  </tbody>\n",
       "</table>\n",
       "</div>"
      ],
      "text/plain": [
       "                                                  id relationship  \\\n",
       "0  relationship--b2c289bf-e981-4bcd-87dd-b6c06805...    mitigates   \n",
       "1  relationship--93a524e2-cb17-4b40-8640-a03949e8...    mitigates   \n",
       "2  relationship--9e83607e-2936-4f25-b6d2-c3578468...    mitigates   \n",
       "3  relationship--3ebcd3d8-dd8e-4cc9-8087-ce9e93df...    mitigates   \n",
       "4  relationship--bf859944-d097-45ba-ae01-2f85a00c...    mitigates   \n",
       "\n",
       "  relationship_description                                      source_object  \\\n",
       "0                      NaN  course-of-action--0beabf44-e8d8-4ae4-9122-ef56...   \n",
       "1                      NaN  course-of-action--bcecd036-f40e-4916-9f8e-fd0c...   \n",
       "2                      NaN  course-of-action--1553b156-6767-47f7-9eb4-2a69...   \n",
       "3                      NaN  course-of-action--0beabf44-e8d8-4ae4-9122-ef56...   \n",
       "4                      NaN  course-of-action--653492e3-27be-4a0e-b08c-938d...   \n",
       "\n",
       "                                       target_object  \n",
       "0  attack-pattern--82f04b1e-5371-4a6f-be06-411f0f...  \n",
       "1  attack-pattern--79eec66a-9bd0-4a3f-ac82-19159e...  \n",
       "2  attack-pattern--29e07491-8947-43a3-8d4e-9a787c...  \n",
       "3  attack-pattern--702055ac-4e54-4ae9-9527-e23a38...  \n",
       "4  attack-pattern--1f96d624-8409-4472-ad8a-30618e...  "
      ]
     },
     "execution_count": 57,
     "metadata": {},
     "output_type": "execute_result"
    }
   ],
   "source": [
    "print(\"Number of Relationships in Mobile ATT&CK\")\n",
    "relationships = lift.get_all_mobile_relationships()\n",
    "print(len(relationships))\n",
    "df = json_normalize(relationships)\n",
    "df.reindex(['id','relationship', 'relationship_description', 'source_object', 'target_object'], axis=1)[0:5]"
   ]
  },
  {
   "cell_type": "markdown",
   "metadata": {},
   "source": [
    "### Get All Relationships (TAXII)"
   ]
  },
  {
   "cell_type": "code",
   "execution_count": 58,
   "metadata": {},
   "outputs": [
    {
     "name": "stdout",
     "output_type": "stream",
     "text": [
      "Number of Relationships in ATT&CK\n",
      "3066\n"
     ]
    },
    {
     "data": {
      "text/html": [
       "<div>\n",
       "<style scoped>\n",
       "    .dataframe tbody tr th:only-of-type {\n",
       "        vertical-align: middle;\n",
       "    }\n",
       "\n",
       "    .dataframe tbody tr th {\n",
       "        vertical-align: top;\n",
       "    }\n",
       "\n",
       "    .dataframe thead th {\n",
       "        text-align: right;\n",
       "    }\n",
       "</style>\n",
       "<table border=\"1\" class=\"dataframe\">\n",
       "  <thead>\n",
       "    <tr style=\"text-align: right;\">\n",
       "      <th></th>\n",
       "      <th>id</th>\n",
       "      <th>relationship</th>\n",
       "      <th>relationship_description</th>\n",
       "      <th>source_object</th>\n",
       "      <th>target_object</th>\n",
       "    </tr>\n",
       "  </thead>\n",
       "  <tbody>\n",
       "    <tr>\n",
       "      <th>0</th>\n",
       "      <td>relationship--3d635b23-78b7-4de4-9417-8077787c...</td>\n",
       "      <td>mitigates</td>\n",
       "      <td>NaN</td>\n",
       "      <td>course-of-action--5c49bc54-9929-48ca-b581-7018...</td>\n",
       "      <td>attack-pattern--72b74d71-8169-42aa-92e0-e7b04b...</td>\n",
       "    </tr>\n",
       "    <tr>\n",
       "      <th>1</th>\n",
       "      <td>relationship--e1275bcd-0462-4f79-b18f-2132b0bb...</td>\n",
       "      <td>mitigates</td>\n",
       "      <td>NaN</td>\n",
       "      <td>course-of-action--c88151a5-fe3f-4773-8147-d801...</td>\n",
       "      <td>attack-pattern--327f3cc5-eea1-42d4-a6cd-ed34b7...</td>\n",
       "    </tr>\n",
       "    <tr>\n",
       "      <th>2</th>\n",
       "      <td>relationship--fa04ac7f-206f-42ad-b0c7-499e57bc...</td>\n",
       "      <td>mitigates</td>\n",
       "      <td>NaN</td>\n",
       "      <td>course-of-action--8bd1ae32-a686-48f4-a6f8-4702...</td>\n",
       "      <td>attack-pattern--30208d3e-0d6b-43c8-883e-44462a...</td>\n",
       "    </tr>\n",
       "    <tr>\n",
       "      <th>3</th>\n",
       "      <td>relationship--49dd2ac1-cd3a-46db-89d7-307c6597...</td>\n",
       "      <td>mitigates</td>\n",
       "      <td>NaN</td>\n",
       "      <td>course-of-action--96150c35-466f-4f0a-97a9-ae87...</td>\n",
       "      <td>attack-pattern--02fefddc-fb1b-423f-a76b-7552dd...</td>\n",
       "    </tr>\n",
       "    <tr>\n",
       "      <th>4</th>\n",
       "      <td>relationship--162d2d29-7810-499c-a9ab-08b60cd0...</td>\n",
       "      <td>mitigates</td>\n",
       "      <td>NaN</td>\n",
       "      <td>course-of-action--91816292-3686-4a6e-83c4-4c08...</td>\n",
       "      <td>attack-pattern--7d6f590f-544b-45b4-9a42-e0805f...</td>\n",
       "    </tr>\n",
       "  </tbody>\n",
       "</table>\n",
       "</div>"
      ],
      "text/plain": [
       "                                                  id relationship  \\\n",
       "0  relationship--3d635b23-78b7-4de4-9417-8077787c...    mitigates   \n",
       "1  relationship--e1275bcd-0462-4f79-b18f-2132b0bb...    mitigates   \n",
       "2  relationship--fa04ac7f-206f-42ad-b0c7-499e57bc...    mitigates   \n",
       "3  relationship--49dd2ac1-cd3a-46db-89d7-307c6597...    mitigates   \n",
       "4  relationship--162d2d29-7810-499c-a9ab-08b60cd0...    mitigates   \n",
       "\n",
       "  relationship_description                                      source_object  \\\n",
       "0                      NaN  course-of-action--5c49bc54-9929-48ca-b581-7018...   \n",
       "1                      NaN  course-of-action--c88151a5-fe3f-4773-8147-d801...   \n",
       "2                      NaN  course-of-action--8bd1ae32-a686-48f4-a6f8-4702...   \n",
       "3                      NaN  course-of-action--96150c35-466f-4f0a-97a9-ae87...   \n",
       "4                      NaN  course-of-action--91816292-3686-4a6e-83c4-4c08...   \n",
       "\n",
       "                                       target_object  \n",
       "0  attack-pattern--72b74d71-8169-42aa-92e0-e7b04b...  \n",
       "1  attack-pattern--327f3cc5-eea1-42d4-a6cd-ed34b7...  \n",
       "2  attack-pattern--30208d3e-0d6b-43c8-883e-44462a...  \n",
       "3  attack-pattern--02fefddc-fb1b-423f-a76b-7552dd...  \n",
       "4  attack-pattern--7d6f590f-544b-45b4-9a42-e0805f...  "
      ]
     },
     "execution_count": 58,
     "metadata": {},
     "output_type": "execute_result"
    }
   ],
   "source": [
    "print(\"Number of Relationships in ATT&CK\")\n",
    "relationships = lift.get_all_relationships()\n",
    "print(len(relationships))\n",
    "df = json_normalize(relationships)\n",
    "df.reindex(['id','relationship', 'relationship_description', 'source_object', 'target_object'], axis=1)[0:5]"
   ]
  },
  {
   "cell_type": "code",
   "execution_count": null,
   "metadata": {
    "collapsed": true
   },
   "outputs": [],
   "source": []
  }
 ],
 "metadata": {
  "kernelspec": {
   "display_name": "Python 3",
   "language": "python",
   "name": "python3"
  },
  "language_info": {
   "codemirror_mode": {
    "name": "ipython",
    "version": 3
   },
   "file_extension": ".py",
   "mimetype": "text/x-python",
   "name": "python",
   "nbconvert_exporter": "python",
   "pygments_lexer": "ipython3",
   "version": "3.6.5"
  }
 },
 "nbformat": 4,
 "nbformat_minor": 2
}
