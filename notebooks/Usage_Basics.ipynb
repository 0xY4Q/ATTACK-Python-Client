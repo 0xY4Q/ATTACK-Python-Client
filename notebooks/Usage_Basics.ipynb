{
 "cells": [
  {
   "cell_type": "markdown",
   "metadata": {},
   "source": [
    "# **MITRE ATT&CK API BASICS**: Python Client\n",
    "------------------"
   ]
  },
  {
   "cell_type": "markdown",
   "metadata": {},
   "source": [
    "## Import ATTACK API Client"
   ]
  },
  {
   "cell_type": "code",
   "execution_count": 1,
   "metadata": {
    "collapsed": true
   },
   "outputs": [],
   "source": [
    "from attackcti import attack_client"
   ]
  },
  {
   "cell_type": "markdown",
   "metadata": {},
   "source": [
    "## Import Extra Libraries"
   ]
  },
  {
   "cell_type": "code",
   "execution_count": 2,
   "metadata": {
    "collapsed": true
   },
   "outputs": [],
   "source": [
    "from pandas import *\n",
    "from pandas.io.json import json_normalize"
   ]
  },
  {
   "cell_type": "code",
   "execution_count": 3,
   "metadata": {},
   "outputs": [
    {
     "data": {
      "text/plain": [
       "'0.23.4'"
      ]
     },
     "execution_count": 3,
     "metadata": {},
     "output_type": "execute_result"
    }
   ],
   "source": [
    "pandas.__version__"
   ]
  },
  {
   "cell_type": "markdown",
   "metadata": {},
   "source": [
    "## Initialize ATT&CK Client Variable"
   ]
  },
  {
   "cell_type": "code",
   "execution_count": 4,
   "metadata": {
    "collapsed": true
   },
   "outputs": [],
   "source": [
    "lift = attack_client()"
   ]
  },
  {
   "cell_type": "markdown",
   "metadata": {},
   "source": [
    "## **Collect ALL (Enterprise ATT&CK, Pre-ATT&CK & Mobile ATT&CK)**\n",
    "* I usually collect all the stix object types available from all the ATT&CK Matrices first when I want to analyze ATT&CK's data.\n",
    "* In this section, we will collect everything from Enterprise ATT&CK, PRE-ATT&CK and Mobile ATT&CK via three functions that query ATT&CK content available in STIX™ 2.0 via a public TAXII™ 2.0 server:\n",
    "  * get_all_enterprise()\n",
    "  * get_all_pre()\n",
    "  * get_all_mobile()\n",
    "* The get_all_stix_objects() function just combines the results of the other three locally.\n",
    "* Then, we will grab the results from each get_all_* function and start getting specific stix object types such as techniques, mitigations, groups, malware, tools and relationships.\n",
    "* It is important to remember that the stix object types are being obtained from the results of the initial three **get_all_*** functions and not querying the TAXII Server every time we want to get information about a specific stix object type."
   ]
  },
  {
   "cell_type": "markdown",
   "metadata": {},
   "source": [
    "**Collect ALL Enterprise ATT&CK (TAXII)**"
   ]
  },
  {
   "cell_type": "code",
   "execution_count": 5,
   "metadata": {
    "collapsed": true
   },
   "outputs": [],
   "source": [
    "all_enterprise = lift.get_all_enterprise()"
   ]
  },
  {
   "cell_type": "markdown",
   "metadata": {},
   "source": [
    "**Collect ALL PRE-ATT&CK (TAXII)**"
   ]
  },
  {
   "cell_type": "code",
   "execution_count": 6,
   "metadata": {
    "collapsed": true
   },
   "outputs": [],
   "source": [
    "all_pre = lift.get_all_pre()"
   ]
  },
  {
   "cell_type": "markdown",
   "metadata": {},
   "source": [
    "**Collect ALL Mobile ATT&CK (TAXII)**"
   ]
  },
  {
   "cell_type": "code",
   "execution_count": 7,
   "metadata": {
    "collapsed": true
   },
   "outputs": [],
   "source": [
    "all_mobile = lift.get_all_mobile()"
   ]
  },
  {
   "cell_type": "markdown",
   "metadata": {},
   "source": [
    "**Collect ALL (It runs All 3 functions and collects all the results)**"
   ]
  },
  {
   "cell_type": "markdown",
   "metadata": {},
   "source": [
    "The **get_all_stix_objects()** function returns a dictionary with all the stix object types from all matrices:\n",
    "* techniques\n",
    "* mitigations\n",
    "* groups\n",
    "* malware\n",
    "* tools\n",
    "* relationships"
   ]
  },
  {
   "cell_type": "code",
   "execution_count": 8,
   "metadata": {
    "collapsed": true
   },
   "outputs": [],
   "source": [
    "all_attack = lift.get_all_stix_objects()"
   ]
  },
  {
   "cell_type": "code",
   "execution_count": 9,
   "metadata": {},
   "outputs": [
    {
     "data": {
      "text/plain": [
       "dict"
      ]
     },
     "execution_count": 9,
     "metadata": {},
     "output_type": "execute_result"
    }
   ],
   "source": [
    "type(all_attack)"
   ]
  },
  {
   "cell_type": "markdown",
   "metadata": {},
   "source": [
    "### Get All Techniques from ATT&CK Results (Locally)\n",
    "* The results of this function shows every single technique across the whole ATT&CK framework without their mitigations information\n",
    "* Mitigations information has its own stix object type (Mitigation) that needs to be correlated with the help of relationship properties\n",
    "* There is a function already created in this library named **get_all_techniques_with_mitigations()** that allows you to get a more complete view of techniques"
   ]
  },
  {
   "cell_type": "code",
   "execution_count": 10,
   "metadata": {},
   "outputs": [
    {
     "name": "stdout",
     "output_type": "stream",
     "text": [
      "Number of Techniques in ATT&CK\n",
      "478\n"
     ]
    },
    {
     "data": {
      "text/html": [
       "<div>\n",
       "<style scoped>\n",
       "    .dataframe tbody tr th:only-of-type {\n",
       "        vertical-align: middle;\n",
       "    }\n",
       "\n",
       "    .dataframe tbody tr th {\n",
       "        vertical-align: top;\n",
       "    }\n",
       "\n",
       "    .dataframe thead th {\n",
       "        text-align: right;\n",
       "    }\n",
       "</style>\n",
       "<table border=\"1\" class=\"dataframe\">\n",
       "  <thead>\n",
       "    <tr style=\"text-align: right;\">\n",
       "      <th></th>\n",
       "      <th>matrix</th>\n",
       "      <th>created</th>\n",
       "      <th>tactic</th>\n",
       "      <th>technique</th>\n",
       "      <th>technique_id</th>\n",
       "      <th>data_sources</th>\n",
       "    </tr>\n",
       "  </thead>\n",
       "  <tbody>\n",
       "    <tr>\n",
       "      <th>0</th>\n",
       "      <td>mitre-attack</td>\n",
       "      <td>2018-10-17 00:14:20.652000+00:00</td>\n",
       "      <td>[defense-evasion]</td>\n",
       "      <td>File Permissions Modification</td>\n",
       "      <td>T1222</td>\n",
       "      <td>[File monitoring, Process monitoring, Process ...</td>\n",
       "    </tr>\n",
       "    <tr>\n",
       "      <th>1</th>\n",
       "      <td>mitre-attack</td>\n",
       "      <td>2018-10-17 00:14:20.652000+00:00</td>\n",
       "      <td>[defense-evasion, execution]</td>\n",
       "      <td>XSL Script Processing</td>\n",
       "      <td>T1220</td>\n",
       "      <td>[Process monitoring, Process command-line para...</td>\n",
       "    </tr>\n",
       "    <tr>\n",
       "      <th>2</th>\n",
       "      <td>mitre-attack</td>\n",
       "      <td>2018-10-17 00:14:20.652000+00:00</td>\n",
       "      <td>[defense-evasion, execution]</td>\n",
       "      <td>Compiled HTML File</td>\n",
       "      <td>T1223</td>\n",
       "      <td>[File monitoring, Process monitoring, Process ...</td>\n",
       "    </tr>\n",
       "    <tr>\n",
       "      <th>3</th>\n",
       "      <td>mitre-attack</td>\n",
       "      <td>2018-10-17 00:14:20.652000+00:00</td>\n",
       "      <td>[defense-evasion]</td>\n",
       "      <td>Template Injection</td>\n",
       "      <td>T1221</td>\n",
       "      <td>[Anti-virus, Email gateway, Network intrusion ...</td>\n",
       "    </tr>\n",
       "    <tr>\n",
       "      <th>4</th>\n",
       "      <td>mitre-attack</td>\n",
       "      <td>2018-04-18 17:59:24.739000+00:00</td>\n",
       "      <td>[defense-evasion, persistence]</td>\n",
       "      <td>BITS Jobs</td>\n",
       "      <td>T1197</td>\n",
       "      <td>[API monitoring, Packet capture, Windows event...</td>\n",
       "    </tr>\n",
       "  </tbody>\n",
       "</table>\n",
       "</div>"
      ],
      "text/plain": [
       "         matrix                           created  \\\n",
       "0  mitre-attack  2018-10-17 00:14:20.652000+00:00   \n",
       "1  mitre-attack  2018-10-17 00:14:20.652000+00:00   \n",
       "2  mitre-attack  2018-10-17 00:14:20.652000+00:00   \n",
       "3  mitre-attack  2018-10-17 00:14:20.652000+00:00   \n",
       "4  mitre-attack  2018-04-18 17:59:24.739000+00:00   \n",
       "\n",
       "                           tactic                      technique technique_id  \\\n",
       "0               [defense-evasion]  File Permissions Modification        T1222   \n",
       "1    [defense-evasion, execution]          XSL Script Processing        T1220   \n",
       "2    [defense-evasion, execution]             Compiled HTML File        T1223   \n",
       "3               [defense-evasion]             Template Injection        T1221   \n",
       "4  [defense-evasion, persistence]                      BITS Jobs        T1197   \n",
       "\n",
       "                                        data_sources  \n",
       "0  [File monitoring, Process monitoring, Process ...  \n",
       "1  [Process monitoring, Process command-line para...  \n",
       "2  [File monitoring, Process monitoring, Process ...  \n",
       "3  [Anti-virus, Email gateway, Network intrusion ...  \n",
       "4  [API monitoring, Packet capture, Windows event...  "
      ]
     },
     "execution_count": 10,
     "metadata": {},
     "output_type": "execute_result"
    }
   ],
   "source": [
    "print(\"Number of Techniques in ATT&CK\")\n",
    "print(len(all_attack['techniques']))\n",
    "techniques = all_attack['techniques']\n",
    "df = json_normalize(techniques)\n",
    "df.reindex(['matrix', 'created','tactic', 'technique', 'technique_id', 'data_sources'], axis=1)[0:5]"
   ]
  },
  {
   "cell_type": "code",
   "execution_count": 11,
   "metadata": {},
   "outputs": [
    {
     "data": {
      "text/plain": [
       "223"
      ]
     },
     "execution_count": 11,
     "metadata": {},
     "output_type": "execute_result"
    }
   ],
   "source": [
    "len(df.loc[df['matrix'] == 'mitre-attack'])"
   ]
  },
  {
   "cell_type": "markdown",
   "metadata": {},
   "source": [
    "**Showing the schema of Techniques**"
   ]
  },
  {
   "cell_type": "markdown",
   "metadata": {},
   "source": [
    "This schema covers techniques from Enterprise, PRE and Mobile ATT&CK"
   ]
  },
  {
   "cell_type": "code",
   "execution_count": 12,
   "metadata": {},
   "outputs": [
    {
     "data": {
      "text/plain": [
       "['capec_id',\n",
       " 'capec_url',\n",
       " 'contributors',\n",
       " 'created',\n",
       " 'created_by_ref',\n",
       " 'data_sources',\n",
       " 'defense_bypassed',\n",
       " 'detectable_by_common_defenses',\n",
       " 'detectable_explanation',\n",
       " 'difficulty_explanation',\n",
       " 'difficulty_for_adversary',\n",
       " 'effective_permissions',\n",
       " 'id',\n",
       " 'matrix',\n",
       " 'modified',\n",
       " 'network_requirements',\n",
       " 'object_marking_refs',\n",
       " 'permissions_required',\n",
       " 'platform',\n",
       " 'remote_support',\n",
       " 'system_requirements',\n",
       " 'tactic',\n",
       " 'tactic_type',\n",
       " 'technique',\n",
       " 'technique_description',\n",
       " 'technique_detection',\n",
       " 'technique_id',\n",
       " 'technique_references',\n",
       " 'type',\n",
       " 'url']"
      ]
     },
     "execution_count": 12,
     "metadata": {},
     "output_type": "execute_result"
    }
   ],
   "source": [
    "list(df)"
   ]
  },
  {
   "cell_type": "markdown",
   "metadata": {},
   "source": [
    "**Showing one technique example**"
   ]
  },
  {
   "cell_type": "code",
   "execution_count": 13,
   "metadata": {},
   "outputs": [
    {
     "data": {
      "text/plain": [
       "{'type': 'attack-pattern',\n",
       " 'id': 'attack-pattern--65917ae0-b854-4139-83fe-bf2441cf0196',\n",
       " 'created_by_ref': 'identity--c78cb6e5-0c4b-4611-8297-d1b8b55e40b5',\n",
       " 'created': '2018-10-17 00:14:20.652000+00:00',\n",
       " 'modified': '2018-10-31 13:45:13.024000+00:00',\n",
       " 'object_marking_refs': ['marking-definition--fa42a846-8d90-4e51-bc29-71d5b4802168'],\n",
       " 'url': 'https://attack.mitre.org/techniques/T1222',\n",
       " 'matrix': 'mitre-attack',\n",
       " 'technique': 'File Permissions Modification',\n",
       " 'technique_description': \"File permissions are commonly managed by discretionary access control lists (DACLs) specified by the file owner. File DACL implementation may vary by platform, but generally explicitly designate which users/groups can perform which actions (ex: read, write, execute, etc.). (Citation: Microsoft DACL May 2018) (Citation: Microsoft File Rights May 2018) (Citation: Unix File Permissions)\\n\\nAdversaries may modify file permissions/attributes to evade intended DACLs. (Citation: Hybrid Analysis Icacls1 June 2018) (Citation: Hybrid Analysis Icacls2 May 2018) Modifications may include changing specific access rights, which may require taking ownership of a file and/or elevated permissions such as Administrator/root depending on the file's existing permissions to enable malicious activity such as modifying, replacing, or deleting specific files. Specific file modifications may be a required step for many techniques, such as establishing Persistence via [Accessibility Features](https://attack.mitre.org/techniques/T1015), [Logon Scripts](https://attack.mitre.org/techniques/T1037), or tainting/hijacking other instrumental binary/configuration files.\",\n",
       " 'technique_detection': 'Monitor and investigate attempts to modify DACLs and file ownership, such as use of icacls (Citation: Microsoft icacls OCT 2017), takeown (Citation: Microsoft takeown OCT 2017), attrib (Citation: Microsoft attrib OCT 2017), and [PowerShell](https://attack.mitre.org/techniques/T1086) Set-Acl (Citation: Microsoft SetAcl) in Windows and chmod (Citation: Linux chmod)/chown (Citation: Linux chown) in macOS/Linux. Many of these are built-in system utilities and may generate high false positive alerts, so compare against baseline knowledge for how systems are typically used and correlate modification events with other indications of malicious activity where possible.\\n\\nConsider enabling file permission change auditing on folders containing key binary/configuration files. Windows Security Log events (Event ID 4670) are used when DACLs are modified. (Citation: EventTracker File Permissions Feb 2014)',\n",
       " 'tactic': ['defense-evasion'],\n",
       " 'technique_id': 'T1222',\n",
       " 'capec_id': None,\n",
       " 'capec_url': None,\n",
       " 'platform': ['Linux', 'Windows', 'macOS'],\n",
       " 'data_sources': ['File monitoring',\n",
       "  'Process monitoring',\n",
       "  'Process command-line parameters',\n",
       "  'Windows event logs'],\n",
       " 'defense_bypassed': ['File system access controls'],\n",
       " 'permissions_required': ['User', 'Administrator', 'SYSTEM', 'root'],\n",
       " 'effective_permissions': None,\n",
       " 'system_requirements': None,\n",
       " 'network_requirements': None,\n",
       " 'remote_support': None,\n",
       " 'contributors': ['Jan Miller, CrowdStrike'],\n",
       " 'technique_references': ['https://attack.mitre.org/techniques/T1222',\n",
       "  'https://docs.microsoft.com/windows/desktop/secauthz/dacls-and-aces',\n",
       "  'https://docs.microsoft.com/windows/desktop/fileio/file-security-and-access-rights',\n",
       "  'https://www.tutorialspoint.com/unix/unix-file-permission.htm',\n",
       "  'https://www.hybrid-analysis.com/sample/ef0d2628823e8e0a0de3b08b8eacaf41cf284c086a948bdfd67f4e4373c14e4d?environmentId=100',\n",
       "  'https://www.hybrid-analysis.com/sample/22dab012c3e20e3d9291bce14a2bfc448036d3b966c6e78167f4626f5f9e38d6?environmentId=110',\n",
       "  'https://docs.microsoft.com/windows-server/administration/windows-commands/icacls',\n",
       "  'https://docs.microsoft.com/windows-server/administration/windows-commands/attrib',\n",
       "  'https://linux.die.net/man/1/chmod',\n",
       "  'https://linux.die.net/man/1/chown',\n",
       "  'https://www.eventtracker.com/tech-articles/monitoring-file-permission-changes-windows-security-log/',\n",
       "  'https://docs.microsoft.com/windows-server/administration/windows-commands/takeown',\n",
       "  'https://docs.microsoft.com/powershell/module/microsoft.powershell.security/set-acl'],\n",
       " 'detectable_by_common_defenses': None,\n",
       " 'detectable_explanation': None,\n",
       " 'difficulty_for_adversary': None,\n",
       " 'difficulty_explanation': None,\n",
       " 'tactic_type': None}"
      ]
     },
     "execution_count": 13,
     "metadata": {},
     "output_type": "execute_result"
    }
   ],
   "source": [
    "techniques[0]"
   ]
  },
  {
   "cell_type": "markdown",
   "metadata": {},
   "source": [
    "### Get All Mitigations from ATT&CK Results (Locally)"
   ]
  },
  {
   "cell_type": "code",
   "execution_count": 14,
   "metadata": {},
   "outputs": [
    {
     "name": "stdout",
     "output_type": "stream",
     "text": [
      "Number of Mitigations in ATT&CK\n",
      "236\n"
     ]
    },
    {
     "data": {
      "text/html": [
       "<div>\n",
       "<style scoped>\n",
       "    .dataframe tbody tr th:only-of-type {\n",
       "        vertical-align: middle;\n",
       "    }\n",
       "\n",
       "    .dataframe tbody tr th {\n",
       "        vertical-align: top;\n",
       "    }\n",
       "\n",
       "    .dataframe thead th {\n",
       "        text-align: right;\n",
       "    }\n",
       "</style>\n",
       "<table border=\"1\" class=\"dataframe\">\n",
       "  <thead>\n",
       "    <tr style=\"text-align: right;\">\n",
       "      <th></th>\n",
       "      <th>matrix</th>\n",
       "      <th>mitigation</th>\n",
       "      <th>mitigation_description</th>\n",
       "      <th>url</th>\n",
       "    </tr>\n",
       "  </thead>\n",
       "  <tbody>\n",
       "    <tr>\n",
       "      <th>0</th>\n",
       "      <td>mitre-attack</td>\n",
       "      <td>Account Manipulation Mitigation</td>\n",
       "      <td>Use multifactor authentication. Follow guideli...</td>\n",
       "      <td>https://attack.mitre.org/techniques/T1098</td>\n",
       "    </tr>\n",
       "    <tr>\n",
       "      <th>1</th>\n",
       "      <td>mitre-attack</td>\n",
       "      <td>Application Shimming Mitigation</td>\n",
       "      <td>There currently aren't a lot of ways to mitiga...</td>\n",
       "      <td>https://attack.mitre.org/techniques/T1138</td>\n",
       "    </tr>\n",
       "    <tr>\n",
       "      <th>2</th>\n",
       "      <td>mitre-attack</td>\n",
       "      <td>Automated Exfiltration Mitigation</td>\n",
       "      <td>Identify unnecessary system utilities, scripts...</td>\n",
       "      <td>https://attack.mitre.org/techniques/T1020</td>\n",
       "    </tr>\n",
       "    <tr>\n",
       "      <th>3</th>\n",
       "      <td>mitre-attack</td>\n",
       "      <td>Browser Bookmark Discovery Mitigation</td>\n",
       "      <td>File system activity is a common part of an op...</td>\n",
       "      <td>https://attack.mitre.org/techniques/T1217</td>\n",
       "    </tr>\n",
       "    <tr>\n",
       "      <th>4</th>\n",
       "      <td>mitre-attack</td>\n",
       "      <td>Change Default File Association Mitigation</td>\n",
       "      <td>Direct mitigation of this technique is not rec...</td>\n",
       "      <td>https://attack.mitre.org/techniques/T1042</td>\n",
       "    </tr>\n",
       "  </tbody>\n",
       "</table>\n",
       "</div>"
      ],
      "text/plain": [
       "         matrix                                  mitigation  \\\n",
       "0  mitre-attack             Account Manipulation Mitigation   \n",
       "1  mitre-attack             Application Shimming Mitigation   \n",
       "2  mitre-attack           Automated Exfiltration Mitigation   \n",
       "3  mitre-attack       Browser Bookmark Discovery Mitigation   \n",
       "4  mitre-attack  Change Default File Association Mitigation   \n",
       "\n",
       "                              mitigation_description  \\\n",
       "0  Use multifactor authentication. Follow guideli...   \n",
       "1  There currently aren't a lot of ways to mitiga...   \n",
       "2  Identify unnecessary system utilities, scripts...   \n",
       "3  File system activity is a common part of an op...   \n",
       "4  Direct mitigation of this technique is not rec...   \n",
       "\n",
       "                                         url  \n",
       "0  https://attack.mitre.org/techniques/T1098  \n",
       "1  https://attack.mitre.org/techniques/T1138  \n",
       "2  https://attack.mitre.org/techniques/T1020  \n",
       "3  https://attack.mitre.org/techniques/T1217  \n",
       "4  https://attack.mitre.org/techniques/T1042  "
      ]
     },
     "execution_count": 14,
     "metadata": {},
     "output_type": "execute_result"
    }
   ],
   "source": [
    "print(\"Number of Mitigations in ATT&CK\")\n",
    "print(len(all_attack['mitigations']))\n",
    "mitigations = all_attack['mitigations']\n",
    "df = json_normalize(mitigations)\n",
    "df.reindex(['matrix','mitigation', 'mitigation_description','url'], axis=1)[0:5]"
   ]
  },
  {
   "cell_type": "markdown",
   "metadata": {},
   "source": [
    "**Showing the schema of Mitigations**"
   ]
  },
  {
   "cell_type": "code",
   "execution_count": 15,
   "metadata": {},
   "outputs": [
    {
     "data": {
      "text/plain": [
       "['created',\n",
       " 'created_by_ref',\n",
       " 'id',\n",
       " 'matrix',\n",
       " 'mitigation',\n",
       " 'mitigation_description',\n",
       " 'mitigation_references',\n",
       " 'modified',\n",
       " 'technique_id',\n",
       " 'type',\n",
       " 'url']"
      ]
     },
     "execution_count": 15,
     "metadata": {},
     "output_type": "execute_result"
    }
   ],
   "source": [
    "list(df)"
   ]
  },
  {
   "cell_type": "markdown",
   "metadata": {},
   "source": [
    "**Showing one Mitigation example**"
   ]
  },
  {
   "cell_type": "code",
   "execution_count": 16,
   "metadata": {},
   "outputs": [
    {
     "data": {
      "text/plain": [
       "{'type': 'course-of-action',\n",
       " 'id': 'course-of-action--fdb1ae84-7b00-4d3d-b7dc-c774beef6425',\n",
       " 'created_by_ref': 'identity--c78cb6e5-0c4b-4611-8297-d1b8b55e40b5',\n",
       " 'created': '2018-10-17 00:14:20.652000+00:00',\n",
       " 'modified': '2018-10-17 00:14:20.652000+00:00',\n",
       " 'matrix': 'mitre-attack',\n",
       " 'url': 'https://attack.mitre.org/techniques/T1098',\n",
       " 'mitigation': 'Account Manipulation Mitigation',\n",
       " 'mitigation_description': 'Use multifactor authentication. Follow guidelines to prevent or limit adversary access to [Valid Accounts](https://attack.mitre.org/techniques/T1078).\\n\\nProtect domain controllers by ensuring proper security configuration for critical servers. Configure access controls and firewalls to limit access to these systems. Do not allow domain administrator accounts to be used for day-to-day operations that may expose them to potential adversaries on unprivileged systems.',\n",
       " 'technique_id': 'T1098',\n",
       " 'mitigation_references': ['https://attack.mitre.org/techniques/T1098']}"
      ]
     },
     "execution_count": 16,
     "metadata": {},
     "output_type": "execute_result"
    }
   ],
   "source": [
    "mitigations[0]"
   ]
  },
  {
   "cell_type": "markdown",
   "metadata": {},
   "source": [
    "### Get All Groups from ATT&CK Results (Locally)"
   ]
  },
  {
   "cell_type": "code",
   "execution_count": 17,
   "metadata": {},
   "outputs": [
    {
     "name": "stdout",
     "output_type": "stream",
     "text": [
      "Number of Groups in ATT&CK\n",
      "80\n"
     ]
    },
    {
     "data": {
      "text/html": [
       "<div>\n",
       "<style scoped>\n",
       "    .dataframe tbody tr th:only-of-type {\n",
       "        vertical-align: middle;\n",
       "    }\n",
       "\n",
       "    .dataframe tbody tr th {\n",
       "        vertical-align: top;\n",
       "    }\n",
       "\n",
       "    .dataframe thead th {\n",
       "        text-align: right;\n",
       "    }\n",
       "</style>\n",
       "<table border=\"1\" class=\"dataframe\">\n",
       "  <thead>\n",
       "    <tr style=\"text-align: right;\">\n",
       "      <th></th>\n",
       "      <th>matrix</th>\n",
       "      <th>group</th>\n",
       "      <th>group_aliases</th>\n",
       "      <th>group_id</th>\n",
       "      <th>group_description</th>\n",
       "    </tr>\n",
       "  </thead>\n",
       "  <tbody>\n",
       "    <tr>\n",
       "      <th>0</th>\n",
       "      <td>mitre-attack</td>\n",
       "      <td>Honeybee</td>\n",
       "      <td>[Honeybee]</td>\n",
       "      <td>G0072</td>\n",
       "      <td>[Honeybee](https://attack.mitre.org/groups/G00...</td>\n",
       "    </tr>\n",
       "    <tr>\n",
       "      <th>1</th>\n",
       "      <td>mitre-attack</td>\n",
       "      <td>Orangeworm</td>\n",
       "      <td>[Orangeworm]</td>\n",
       "      <td>G0071</td>\n",
       "      <td>[Orangeworm](https://attack.mitre.org/groups/G...</td>\n",
       "    </tr>\n",
       "    <tr>\n",
       "      <th>2</th>\n",
       "      <td>mitre-attack</td>\n",
       "      <td>APT19</td>\n",
       "      <td>[APT19, Codoso, C0d0so0, Codoso Team, Sunshop ...</td>\n",
       "      <td>G0073</td>\n",
       "      <td>[APT19](https://attack.mitre.org/groups/G0073)...</td>\n",
       "    </tr>\n",
       "    <tr>\n",
       "      <th>3</th>\n",
       "      <td>mitre-attack</td>\n",
       "      <td>Cobalt Group</td>\n",
       "      <td>[Cobalt Group, Cobalt Gang, Cobalt Spider]</td>\n",
       "      <td>G0080</td>\n",
       "      <td>[Cobalt Group](https://attack.mitre.org/groups...</td>\n",
       "    </tr>\n",
       "    <tr>\n",
       "      <th>4</th>\n",
       "      <td>mitre-attack</td>\n",
       "      <td>Thrip</td>\n",
       "      <td>[Thrip]</td>\n",
       "      <td>G0076</td>\n",
       "      <td>[Thrip](https://attack.mitre.org/groups/G0076)...</td>\n",
       "    </tr>\n",
       "  </tbody>\n",
       "</table>\n",
       "</div>"
      ],
      "text/plain": [
       "         matrix         group  \\\n",
       "0  mitre-attack      Honeybee   \n",
       "1  mitre-attack    Orangeworm   \n",
       "2  mitre-attack         APT19   \n",
       "3  mitre-attack  Cobalt Group   \n",
       "4  mitre-attack         Thrip   \n",
       "\n",
       "                                       group_aliases group_id  \\\n",
       "0                                         [Honeybee]    G0072   \n",
       "1                                       [Orangeworm]    G0071   \n",
       "2  [APT19, Codoso, C0d0so0, Codoso Team, Sunshop ...    G0073   \n",
       "3         [Cobalt Group, Cobalt Gang, Cobalt Spider]    G0080   \n",
       "4                                            [Thrip]    G0076   \n",
       "\n",
       "                                   group_description  \n",
       "0  [Honeybee](https://attack.mitre.org/groups/G00...  \n",
       "1  [Orangeworm](https://attack.mitre.org/groups/G...  \n",
       "2  [APT19](https://attack.mitre.org/groups/G0073)...  \n",
       "3  [Cobalt Group](https://attack.mitre.org/groups...  \n",
       "4  [Thrip](https://attack.mitre.org/groups/G0076)...  "
      ]
     },
     "execution_count": 17,
     "metadata": {},
     "output_type": "execute_result"
    }
   ],
   "source": [
    "print(\"Number of Groups in ATT&CK\")\n",
    "print(len(all_attack['groups']))\n",
    "groups = all_attack['groups']\n",
    "df = json_normalize(groups)\n",
    "df.reindex(['matrix', 'group', 'group_aliases', 'group_id', 'group_description'], axis=1)[0:5]"
   ]
  },
  {
   "cell_type": "markdown",
   "metadata": {},
   "source": [
    "**Showing the schema of Groups**"
   ]
  },
  {
   "cell_type": "code",
   "execution_count": 18,
   "metadata": {},
   "outputs": [
    {
     "data": {
      "text/plain": [
       "['created',\n",
       " 'created_by_ref',\n",
       " 'group',\n",
       " 'group_aliases',\n",
       " 'group_description',\n",
       " 'group_id',\n",
       " 'group_references',\n",
       " 'id',\n",
       " 'matrix',\n",
       " 'modified',\n",
       " 'type',\n",
       " 'url']"
      ]
     },
     "execution_count": 18,
     "metadata": {},
     "output_type": "execute_result"
    }
   ],
   "source": [
    "list(df)"
   ]
  },
  {
   "cell_type": "markdown",
   "metadata": {},
   "source": [
    "**Showing one Groups example**"
   ]
  },
  {
   "cell_type": "code",
   "execution_count": 19,
   "metadata": {},
   "outputs": [
    {
     "data": {
      "text/plain": [
       "{'type': 'intrusion-set',\n",
       " 'id': 'intrusion-set--ebb73863-fa44-4617-b4cb-b9ed3414eb87',\n",
       " 'created_by_ref': 'identity--c78cb6e5-0c4b-4611-8297-d1b8b55e40b5',\n",
       " 'matrix': 'mitre-attack',\n",
       " 'created': '2018-10-17 00:14:20.652000+00:00',\n",
       " 'modified': '2018-10-17 00:14:20.652000+00:00',\n",
       " 'url': 'https://attack.mitre.org/groups/G0072',\n",
       " 'group': 'Honeybee',\n",
       " 'group_description': '[Honeybee](https://attack.mitre.org/groups/G0072) is a campaign led by an unknown actor that targets humanitarian aid organizations and has been active in Vietnam, Singapore, Argentina, Japans, Indonesia, and Canada. It has been an active operation since August of 2017 and as recently as February 2018. (Citation: McAfee Honeybee)',\n",
       " 'group_aliases': ['Honeybee'],\n",
       " 'group_id': 'G0072',\n",
       " 'group_references': ['https://attack.mitre.org/groups/G0072',\n",
       "  'Honeybee',\n",
       "  'https://securingtomorrow.mcafee.com/mcafee-labs/mcafee-uncovers-operation-honeybee-malicious-document-campaign-targeting-humanitarian-aid-groups/']}"
      ]
     },
     "execution_count": 19,
     "metadata": {},
     "output_type": "execute_result"
    }
   ],
   "source": [
    "groups[0]"
   ]
  },
  {
   "cell_type": "markdown",
   "metadata": {},
   "source": [
    "### Get All Malware objects from ATT&CK Results (Locally)"
   ]
  },
  {
   "cell_type": "code",
   "execution_count": 20,
   "metadata": {},
   "outputs": [
    {
     "name": "stdout",
     "output_type": "stream",
     "text": [
      "Number of Malware in ATT&CK\n",
      "281\n"
     ]
    },
    {
     "data": {
      "text/html": [
       "<div>\n",
       "<style scoped>\n",
       "    .dataframe tbody tr th:only-of-type {\n",
       "        vertical-align: middle;\n",
       "    }\n",
       "\n",
       "    .dataframe tbody tr th {\n",
       "        vertical-align: top;\n",
       "    }\n",
       "\n",
       "    .dataframe thead th {\n",
       "        text-align: right;\n",
       "    }\n",
       "</style>\n",
       "<table border=\"1\" class=\"dataframe\">\n",
       "  <thead>\n",
       "    <tr style=\"text-align: right;\">\n",
       "      <th></th>\n",
       "      <th>matrix</th>\n",
       "      <th>software</th>\n",
       "      <th>software_labels</th>\n",
       "      <th>software_id</th>\n",
       "      <th>software_description</th>\n",
       "    </tr>\n",
       "  </thead>\n",
       "  <tbody>\n",
       "    <tr>\n",
       "      <th>0</th>\n",
       "      <td>mitre-attack</td>\n",
       "      <td>Bandook</td>\n",
       "      <td>[malware]</td>\n",
       "      <td>S0234</td>\n",
       "      <td>[Bandook](https://attack.mitre.org/software/S0...</td>\n",
       "    </tr>\n",
       "    <tr>\n",
       "      <th>1</th>\n",
       "      <td>mitre-attack</td>\n",
       "      <td>CrossRAT</td>\n",
       "      <td>[malware]</td>\n",
       "      <td>S0235</td>\n",
       "      <td>[CrossRAT](https://attack.mitre.org/software/S...</td>\n",
       "    </tr>\n",
       "    <tr>\n",
       "      <th>2</th>\n",
       "      <td>mitre-attack</td>\n",
       "      <td>DealersChoice</td>\n",
       "      <td>[malware]</td>\n",
       "      <td>S0243</td>\n",
       "      <td>[DealersChoice](https://attack.mitre.org/softw...</td>\n",
       "    </tr>\n",
       "    <tr>\n",
       "      <th>3</th>\n",
       "      <td>mitre-attack</td>\n",
       "      <td>FELIXROOT</td>\n",
       "      <td>[malware]</td>\n",
       "      <td>S0267</td>\n",
       "      <td>[FELIXROOT](https://attack.mitre.org/software/...</td>\n",
       "    </tr>\n",
       "    <tr>\n",
       "      <th>4</th>\n",
       "      <td>mitre-attack</td>\n",
       "      <td>KEYMARBLE</td>\n",
       "      <td>[malware]</td>\n",
       "      <td>S0271</td>\n",
       "      <td>[KEYMARBLE](https://attack.mitre.org/software/...</td>\n",
       "    </tr>\n",
       "  </tbody>\n",
       "</table>\n",
       "</div>"
      ],
      "text/plain": [
       "         matrix       software software_labels software_id  \\\n",
       "0  mitre-attack        Bandook       [malware]       S0234   \n",
       "1  mitre-attack       CrossRAT       [malware]       S0235   \n",
       "2  mitre-attack  DealersChoice       [malware]       S0243   \n",
       "3  mitre-attack      FELIXROOT       [malware]       S0267   \n",
       "4  mitre-attack      KEYMARBLE       [malware]       S0271   \n",
       "\n",
       "                                software_description  \n",
       "0  [Bandook](https://attack.mitre.org/software/S0...  \n",
       "1  [CrossRAT](https://attack.mitre.org/software/S...  \n",
       "2  [DealersChoice](https://attack.mitre.org/softw...  \n",
       "3  [FELIXROOT](https://attack.mitre.org/software/...  \n",
       "4  [KEYMARBLE](https://attack.mitre.org/software/...  "
      ]
     },
     "execution_count": 20,
     "metadata": {},
     "output_type": "execute_result"
    }
   ],
   "source": [
    "print(\"Number of Malware in ATT&CK\")\n",
    "print(len(all_attack['malware']))\n",
    "malware = all_attack['malware']\n",
    "df = json_normalize(malware)\n",
    "df.reindex(['matrix', 'software', 'software_labels', 'software_id', 'software_description'], axis=1)[0:5]"
   ]
  },
  {
   "cell_type": "markdown",
   "metadata": {},
   "source": [
    "**Showing the schema of Malware**"
   ]
  },
  {
   "cell_type": "code",
   "execution_count": 21,
   "metadata": {},
   "outputs": [
    {
     "data": {
      "text/plain": [
       "['created',\n",
       " 'created_by_ref',\n",
       " 'id',\n",
       " 'matrix',\n",
       " 'modified',\n",
       " 'software',\n",
       " 'software_aliases',\n",
       " 'software_description',\n",
       " 'software_id',\n",
       " 'software_labels',\n",
       " 'software_platform',\n",
       " 'software_references',\n",
       " 'type',\n",
       " 'url']"
      ]
     },
     "execution_count": 21,
     "metadata": {},
     "output_type": "execute_result"
    }
   ],
   "source": [
    "list(df)"
   ]
  },
  {
   "cell_type": "markdown",
   "metadata": {},
   "source": [
    "**Showing one Malware example**"
   ]
  },
  {
   "cell_type": "code",
   "execution_count": 22,
   "metadata": {},
   "outputs": [
    {
     "data": {
      "text/plain": [
       "{'type': 'malware',\n",
       " 'id': 'malware--835a79f1-842d-472d-b8f4-d54b545c341b',\n",
       " 'created_by_ref': 'identity--c78cb6e5-0c4b-4611-8297-d1b8b55e40b5',\n",
       " 'created': '2018-10-17 00:14:20.652000+00:00',\n",
       " 'modified': '2018-10-17 00:14:20.652000+00:00',\n",
       " 'matrix': 'mitre-attack',\n",
       " 'software': 'Bandook',\n",
       " 'software_description': '[Bandook](https://attack.mitre.org/software/S0234) is a commercially available RAT, written in Delphi, which has been available since roughly 2007  (Citation: EFF Manul Aug 2016) (Citation: Lookout Dark Caracal Jan 2018).',\n",
       " 'software_labels': ['malware'],\n",
       " 'software_id': 'S0234',\n",
       " 'url': 'https://attack.mitre.org/software/S0234',\n",
       " 'software_aliases': ['Bandook'],\n",
       " 'software_references': ['https://attack.mitre.org/software/S0234',\n",
       "  'https://info.lookout.com/rs/051-ESQ-475/images/Lookout_Dark-Caracal_srr_20180118_us_v.1.0.pdf',\n",
       "  'https://www.eff.org/files/2016/08/03/i-got-a-letter-from-the-government.pdf'],\n",
       " 'software_platform': ['Windows']}"
      ]
     },
     "execution_count": 22,
     "metadata": {},
     "output_type": "execute_result"
    }
   ],
   "source": [
    "malware[0]"
   ]
  },
  {
   "cell_type": "markdown",
   "metadata": {},
   "source": [
    "### Get All Tools from ATT&CK Results (Locally)"
   ]
  },
  {
   "cell_type": "code",
   "execution_count": 23,
   "metadata": {},
   "outputs": [
    {
     "name": "stdout",
     "output_type": "stream",
     "text": [
      "Number of Tools in ATT&CK\n",
      "48\n"
     ]
    },
    {
     "data": {
      "text/html": [
       "<div>\n",
       "<style scoped>\n",
       "    .dataframe tbody tr th:only-of-type {\n",
       "        vertical-align: middle;\n",
       "    }\n",
       "\n",
       "    .dataframe tbody tr th {\n",
       "        vertical-align: top;\n",
       "    }\n",
       "\n",
       "    .dataframe thead th {\n",
       "        text-align: right;\n",
       "    }\n",
       "</style>\n",
       "<table border=\"1\" class=\"dataframe\">\n",
       "  <thead>\n",
       "    <tr style=\"text-align: right;\">\n",
       "      <th></th>\n",
       "      <th>matrix</th>\n",
       "      <th>software</th>\n",
       "      <th>software_labels</th>\n",
       "      <th>software_id</th>\n",
       "      <th>software_description</th>\n",
       "    </tr>\n",
       "  </thead>\n",
       "  <tbody>\n",
       "    <tr>\n",
       "      <th>0</th>\n",
       "      <td>mitre-attack</td>\n",
       "      <td>Koadic</td>\n",
       "      <td>[tool]</td>\n",
       "      <td>S0250</td>\n",
       "      <td>[Koadic](https://attack.mitre.org/software/S02...</td>\n",
       "    </tr>\n",
       "    <tr>\n",
       "      <th>1</th>\n",
       "      <td>mitre-attack</td>\n",
       "      <td>QuasarRAT</td>\n",
       "      <td>[tool]</td>\n",
       "      <td>S0262</td>\n",
       "      <td>[QuasarRAT](https://attack.mitre.org/software/...</td>\n",
       "    </tr>\n",
       "    <tr>\n",
       "      <th>2</th>\n",
       "      <td>mitre-attack</td>\n",
       "      <td>Invoke-PSImage</td>\n",
       "      <td>[tool]</td>\n",
       "      <td>S0231</td>\n",
       "      <td>[Invoke-PSImage](https://attack.mitre.org/soft...</td>\n",
       "    </tr>\n",
       "    <tr>\n",
       "      <th>3</th>\n",
       "      <td>mitre-attack</td>\n",
       "      <td>Pupy</td>\n",
       "      <td>[tool]</td>\n",
       "      <td>S0192</td>\n",
       "      <td>[Pupy](https://attack.mitre.org/software/S0192...</td>\n",
       "    </tr>\n",
       "    <tr>\n",
       "      <th>4</th>\n",
       "      <td>mitre-attack</td>\n",
       "      <td>Winexe</td>\n",
       "      <td>[tool]</td>\n",
       "      <td>S0191</td>\n",
       "      <td>[Winexe](https://attack.mitre.org/software/S01...</td>\n",
       "    </tr>\n",
       "  </tbody>\n",
       "</table>\n",
       "</div>"
      ],
      "text/plain": [
       "         matrix        software software_labels software_id  \\\n",
       "0  mitre-attack          Koadic          [tool]       S0250   \n",
       "1  mitre-attack       QuasarRAT          [tool]       S0262   \n",
       "2  mitre-attack  Invoke-PSImage          [tool]       S0231   \n",
       "3  mitre-attack            Pupy          [tool]       S0192   \n",
       "4  mitre-attack          Winexe          [tool]       S0191   \n",
       "\n",
       "                                software_description  \n",
       "0  [Koadic](https://attack.mitre.org/software/S02...  \n",
       "1  [QuasarRAT](https://attack.mitre.org/software/...  \n",
       "2  [Invoke-PSImage](https://attack.mitre.org/soft...  \n",
       "3  [Pupy](https://attack.mitre.org/software/S0192...  \n",
       "4  [Winexe](https://attack.mitre.org/software/S01...  "
      ]
     },
     "execution_count": 23,
     "metadata": {},
     "output_type": "execute_result"
    }
   ],
   "source": [
    "print(\"Number of Tools in ATT&CK\")\n",
    "print(len(all_attack['tools']))\n",
    "tools = all_attack['tools']\n",
    "df = json_normalize(tools)\n",
    "df.reindex(['matrix', 'software', 'software_labels', 'software_id', 'software_description'], axis=1)[0:5]"
   ]
  },
  {
   "cell_type": "markdown",
   "metadata": {},
   "source": [
    "**Showing the schema of Tools**"
   ]
  },
  {
   "cell_type": "code",
   "execution_count": 24,
   "metadata": {},
   "outputs": [
    {
     "data": {
      "text/plain": [
       "['created',\n",
       " 'created_by_ref',\n",
       " 'id',\n",
       " 'matrix',\n",
       " 'modified',\n",
       " 'software',\n",
       " 'software_aliases',\n",
       " 'software_description',\n",
       " 'software_id',\n",
       " 'software_labels',\n",
       " 'software_platform',\n",
       " 'software_references',\n",
       " 'type',\n",
       " 'url']"
      ]
     },
     "execution_count": 24,
     "metadata": {},
     "output_type": "execute_result"
    }
   ],
   "source": [
    "list(df)"
   ]
  },
  {
   "cell_type": "markdown",
   "metadata": {},
   "source": [
    "**Showing one Tool example**"
   ]
  },
  {
   "cell_type": "code",
   "execution_count": 25,
   "metadata": {},
   "outputs": [
    {
     "data": {
      "text/plain": [
       "{'type': 'tool',\n",
       " 'id': 'tool--c8655260-9f4b-44e3-85e1-6538a5f6e4f4',\n",
       " 'created_by_ref': 'identity--c78cb6e5-0c4b-4611-8297-d1b8b55e40b5',\n",
       " 'created': '2018-10-17 00:14:20.652000+00:00',\n",
       " 'modified': '2018-10-17 00:14:20.652000+00:00',\n",
       " 'matrix': 'mitre-attack',\n",
       " 'software': 'Koadic',\n",
       " 'software_description': '[Koadic](https://attack.mitre.org/software/S0250) is a Windows post-exploitation framework and penetration testing tool. [Koadic](https://attack.mitre.org/software/S0250) is publicly available on GitHub and the tool is executed via the command-line. [Koadic](https://attack.mitre.org/software/S0250) has several options for staging payloads and creating implants. [Koadic](https://attack.mitre.org/software/S0250) performs most of its operations using Windows Script Host. (Citation: Github Koadic) (Citation: Palo Alto Sofacy 06-2018)',\n",
       " 'software_labels': ['tool'],\n",
       " 'software_id': 'S0250',\n",
       " 'url': 'https://attack.mitre.org/software/S0250',\n",
       " 'software_aliases': ['Koadic'],\n",
       " 'software_references': ['https://attack.mitre.org/software/S0250',\n",
       "  'Koadic',\n",
       "  'https://github.com/zerosum0x0/koadic',\n",
       "  'https://researchcenter.paloaltonetworks.com/2018/06/unit42-sofacy-groups-parallel-attacks/'],\n",
       " 'software_platform': ['Windows']}"
      ]
     },
     "execution_count": 25,
     "metadata": {},
     "output_type": "execute_result"
    }
   ],
   "source": [
    "tools[0]"
   ]
  },
  {
   "cell_type": "markdown",
   "metadata": {},
   "source": [
    "### Get All Relationships from ATT&CK Results (Locally)"
   ]
  },
  {
   "cell_type": "code",
   "execution_count": 26,
   "metadata": {},
   "outputs": [
    {
     "name": "stdout",
     "output_type": "stream",
     "text": [
      "Number of Relationships in ATT&CK\n",
      "4092\n"
     ]
    },
    {
     "data": {
      "text/html": [
       "<div>\n",
       "<style scoped>\n",
       "    .dataframe tbody tr th:only-of-type {\n",
       "        vertical-align: middle;\n",
       "    }\n",
       "\n",
       "    .dataframe tbody tr th {\n",
       "        vertical-align: top;\n",
       "    }\n",
       "\n",
       "    .dataframe thead th {\n",
       "        text-align: right;\n",
       "    }\n",
       "</style>\n",
       "<table border=\"1\" class=\"dataframe\">\n",
       "  <thead>\n",
       "    <tr style=\"text-align: right;\">\n",
       "      <th></th>\n",
       "      <th>id</th>\n",
       "      <th>relationship</th>\n",
       "      <th>source_object</th>\n",
       "      <th>target_object</th>\n",
       "    </tr>\n",
       "  </thead>\n",
       "  <tbody>\n",
       "    <tr>\n",
       "      <th>0</th>\n",
       "      <td>relationship--322703cc-c8f9-4046-8a61-e165a2d1...</td>\n",
       "      <td>uses</td>\n",
       "      <td>intrusion-set--fe8796a4-2a02-41a0-9d27-7aa1e99...</td>\n",
       "      <td>attack-pattern--707399d6-ab3e-4963-9315-d9d381...</td>\n",
       "    </tr>\n",
       "    <tr>\n",
       "      <th>1</th>\n",
       "      <td>relationship--1ba59a68-1883-492d-8cd8-f22656eb...</td>\n",
       "      <td>uses</td>\n",
       "      <td>intrusion-set--bef4c620-0787-42a8-a96d-b7eb6e8...</td>\n",
       "      <td>attack-pattern--1608f3e1-598a-42f4-a01a-2e252e...</td>\n",
       "    </tr>\n",
       "    <tr>\n",
       "      <th>2</th>\n",
       "      <td>relationship--40032198-f003-4171-92a0-faf038f6...</td>\n",
       "      <td>uses</td>\n",
       "      <td>intrusion-set--247cb30b-955f-42eb-97a5-a89fef6...</td>\n",
       "      <td>attack-pattern--03d7999c-1f4c-42cc-8373-e7690d...</td>\n",
       "    </tr>\n",
       "    <tr>\n",
       "      <th>3</th>\n",
       "      <td>relationship--70d1a246-4ff2-452d-babf-ed47bccb...</td>\n",
       "      <td>uses</td>\n",
       "      <td>intrusion-set--dc6fe6ee-04c2-49be-ba3d-f38d246...</td>\n",
       "      <td>attack-pattern--f4882e23-8aa7-4b12-b28a-b349c1...</td>\n",
       "    </tr>\n",
       "    <tr>\n",
       "      <th>4</th>\n",
       "      <td>relationship--2db02b07-4dd3-4810-9103-1f8d7bd4...</td>\n",
       "      <td>uses</td>\n",
       "      <td>intrusion-set--6b9ebeb5-20bf-48b0-afb7-988d769...</td>\n",
       "      <td>attack-pattern--b77cf5f3-6060-475d-bd60-40ccbf...</td>\n",
       "    </tr>\n",
       "  </tbody>\n",
       "</table>\n",
       "</div>"
      ],
      "text/plain": [
       "                                                  id relationship  \\\n",
       "0  relationship--322703cc-c8f9-4046-8a61-e165a2d1...         uses   \n",
       "1  relationship--1ba59a68-1883-492d-8cd8-f22656eb...         uses   \n",
       "2  relationship--40032198-f003-4171-92a0-faf038f6...         uses   \n",
       "3  relationship--70d1a246-4ff2-452d-babf-ed47bccb...         uses   \n",
       "4  relationship--2db02b07-4dd3-4810-9103-1f8d7bd4...         uses   \n",
       "\n",
       "                                       source_object  \\\n",
       "0  intrusion-set--fe8796a4-2a02-41a0-9d27-7aa1e99...   \n",
       "1  intrusion-set--bef4c620-0787-42a8-a96d-b7eb6e8...   \n",
       "2  intrusion-set--247cb30b-955f-42eb-97a5-a89fef6...   \n",
       "3  intrusion-set--dc6fe6ee-04c2-49be-ba3d-f38d246...   \n",
       "4  intrusion-set--6b9ebeb5-20bf-48b0-afb7-988d769...   \n",
       "\n",
       "                                       target_object  \n",
       "0  attack-pattern--707399d6-ab3e-4963-9315-d9d381...  \n",
       "1  attack-pattern--1608f3e1-598a-42f4-a01a-2e252e...  \n",
       "2  attack-pattern--03d7999c-1f4c-42cc-8373-e7690d...  \n",
       "3  attack-pattern--f4882e23-8aa7-4b12-b28a-b349c1...  \n",
       "4  attack-pattern--b77cf5f3-6060-475d-bd60-40ccbf...  "
      ]
     },
     "execution_count": 26,
     "metadata": {},
     "output_type": "execute_result"
    }
   ],
   "source": [
    "print(\"Number of Relationships in ATT&CK\")\n",
    "print(len(all_attack['relationships']))\n",
    "relationships = all_attack['relationships']\n",
    "df = json_normalize(relationships)\n",
    "df.reindex(['id','relationship', 'source_object', 'target_object'], axis=1)[0:5]"
   ]
  },
  {
   "cell_type": "markdown",
   "metadata": {},
   "source": [
    "**Showing the schema of Relationships**"
   ]
  },
  {
   "cell_type": "code",
   "execution_count": 27,
   "metadata": {},
   "outputs": [
    {
     "data": {
      "text/plain": [
       "['created',\n",
       " 'created_by_ref',\n",
       " 'id',\n",
       " 'modified',\n",
       " 'relationship',\n",
       " 'relationship_description',\n",
       " 'source_object',\n",
       " 'target_object',\n",
       " 'type']"
      ]
     },
     "execution_count": 27,
     "metadata": {},
     "output_type": "execute_result"
    }
   ],
   "source": [
    "list(df)"
   ]
  },
  {
   "cell_type": "markdown",
   "metadata": {},
   "source": [
    "**Showing one Relationship example**"
   ]
  },
  {
   "cell_type": "code",
   "execution_count": 28,
   "metadata": {},
   "outputs": [
    {
     "data": {
      "text/plain": [
       "{'type': 'relationship',\n",
       " 'id': 'relationship--322703cc-c8f9-4046-8a61-e165a2d11bc7',\n",
       " 'created_by_ref': 'identity--c78cb6e5-0c4b-4611-8297-d1b8b55e40b5',\n",
       " 'created': '2018-10-17 00:14:20.652000+00:00',\n",
       " 'modified': '2018-10-17 00:14:20.652000+00:00',\n",
       " 'relationship': 'uses',\n",
       " 'relationship_description': '[APT19](https://attack.mitre.org/groups/G0073) used an HTTP malware variant and a Port 22 malware variant to collect the MAC address and IP address from the victim’s machine.',\n",
       " 'source_object': 'intrusion-set--fe8796a4-2a02-41a0-9d27-7aa1e995feb6',\n",
       " 'target_object': 'attack-pattern--707399d6-ab3e-4963-9315-d9d3818cd6a0'}"
      ]
     },
     "execution_count": 28,
     "metadata": {},
     "output_type": "execute_result"
    }
   ],
   "source": [
    "relationships[0]"
   ]
  },
  {
   "cell_type": "markdown",
   "metadata": {},
   "source": [
    "### Get All Enterprise ATT&CK ONLY from Results (Locally)"
   ]
  },
  {
   "cell_type": "markdown",
   "metadata": {},
   "source": [
    "**Enterprise Techniques**"
   ]
  },
  {
   "cell_type": "code",
   "execution_count": 29,
   "metadata": {},
   "outputs": [
    {
     "name": "stdout",
     "output_type": "stream",
     "text": [
      "Number of Techniques in Enterprise ATT&CK\n",
      "223\n"
     ]
    },
    {
     "data": {
      "text/html": [
       "<div>\n",
       "<style scoped>\n",
       "    .dataframe tbody tr th:only-of-type {\n",
       "        vertical-align: middle;\n",
       "    }\n",
       "\n",
       "    .dataframe tbody tr th {\n",
       "        vertical-align: top;\n",
       "    }\n",
       "\n",
       "    .dataframe thead th {\n",
       "        text-align: right;\n",
       "    }\n",
       "</style>\n",
       "<table border=\"1\" class=\"dataframe\">\n",
       "  <thead>\n",
       "    <tr style=\"text-align: right;\">\n",
       "      <th></th>\n",
       "      <th>matrix</th>\n",
       "      <th>tactic</th>\n",
       "      <th>technique</th>\n",
       "      <th>technique_id</th>\n",
       "      <th>data_sources</th>\n",
       "    </tr>\n",
       "  </thead>\n",
       "  <tbody>\n",
       "    <tr>\n",
       "      <th>0</th>\n",
       "      <td>mitre-attack</td>\n",
       "      <td>[defense-evasion]</td>\n",
       "      <td>File Permissions Modification</td>\n",
       "      <td>T1222</td>\n",
       "      <td>[File monitoring, Process monitoring, Process ...</td>\n",
       "    </tr>\n",
       "    <tr>\n",
       "      <th>1</th>\n",
       "      <td>mitre-attack</td>\n",
       "      <td>[defense-evasion, execution]</td>\n",
       "      <td>XSL Script Processing</td>\n",
       "      <td>T1220</td>\n",
       "      <td>[Process monitoring, Process command-line para...</td>\n",
       "    </tr>\n",
       "    <tr>\n",
       "      <th>2</th>\n",
       "      <td>mitre-attack</td>\n",
       "      <td>[defense-evasion, execution]</td>\n",
       "      <td>Compiled HTML File</td>\n",
       "      <td>T1223</td>\n",
       "      <td>[File monitoring, Process monitoring, Process ...</td>\n",
       "    </tr>\n",
       "    <tr>\n",
       "      <th>3</th>\n",
       "      <td>mitre-attack</td>\n",
       "      <td>[defense-evasion]</td>\n",
       "      <td>Template Injection</td>\n",
       "      <td>T1221</td>\n",
       "      <td>[Anti-virus, Email gateway, Network intrusion ...</td>\n",
       "    </tr>\n",
       "    <tr>\n",
       "      <th>4</th>\n",
       "      <td>mitre-attack</td>\n",
       "      <td>[defense-evasion, persistence]</td>\n",
       "      <td>BITS Jobs</td>\n",
       "      <td>T1197</td>\n",
       "      <td>[API monitoring, Packet capture, Windows event...</td>\n",
       "    </tr>\n",
       "  </tbody>\n",
       "</table>\n",
       "</div>"
      ],
      "text/plain": [
       "         matrix                          tactic  \\\n",
       "0  mitre-attack               [defense-evasion]   \n",
       "1  mitre-attack    [defense-evasion, execution]   \n",
       "2  mitre-attack    [defense-evasion, execution]   \n",
       "3  mitre-attack               [defense-evasion]   \n",
       "4  mitre-attack  [defense-evasion, persistence]   \n",
       "\n",
       "                       technique technique_id  \\\n",
       "0  File Permissions Modification        T1222   \n",
       "1          XSL Script Processing        T1220   \n",
       "2             Compiled HTML File        T1223   \n",
       "3             Template Injection        T1221   \n",
       "4                      BITS Jobs        T1197   \n",
       "\n",
       "                                        data_sources  \n",
       "0  [File monitoring, Process monitoring, Process ...  \n",
       "1  [Process monitoring, Process command-line para...  \n",
       "2  [File monitoring, Process monitoring, Process ...  \n",
       "3  [Anti-virus, Email gateway, Network intrusion ...  \n",
       "4  [API monitoring, Packet capture, Windows event...  "
      ]
     },
     "execution_count": 29,
     "metadata": {},
     "output_type": "execute_result"
    }
   ],
   "source": [
    "print(\"Number of Techniques in Enterprise ATT&CK\")\n",
    "print(len(all_enterprise['techniques']))\n",
    "df = all_enterprise['techniques']\n",
    "df = json_normalize(df)\n",
    "df.reindex(['matrix', 'tactic', 'technique', 'technique_id', 'data_sources'], axis=1)[0:5]"
   ]
  },
  {
   "cell_type": "markdown",
   "metadata": {},
   "source": [
    "**Enterprise Mitigations**"
   ]
  },
  {
   "cell_type": "code",
   "execution_count": 30,
   "metadata": {},
   "outputs": [
    {
     "name": "stdout",
     "output_type": "stream",
     "text": [
      "Number of Mitigations in Enterprise ATT&CK\n",
      "222\n"
     ]
    },
    {
     "data": {
      "text/html": [
       "<div>\n",
       "<style scoped>\n",
       "    .dataframe tbody tr th:only-of-type {\n",
       "        vertical-align: middle;\n",
       "    }\n",
       "\n",
       "    .dataframe tbody tr th {\n",
       "        vertical-align: top;\n",
       "    }\n",
       "\n",
       "    .dataframe thead th {\n",
       "        text-align: right;\n",
       "    }\n",
       "</style>\n",
       "<table border=\"1\" class=\"dataframe\">\n",
       "  <thead>\n",
       "    <tr style=\"text-align: right;\">\n",
       "      <th></th>\n",
       "      <th>matrix</th>\n",
       "      <th>mitigation</th>\n",
       "      <th>mitigation_description</th>\n",
       "      <th>url</th>\n",
       "    </tr>\n",
       "  </thead>\n",
       "  <tbody>\n",
       "    <tr>\n",
       "      <th>0</th>\n",
       "      <td>mitre-attack</td>\n",
       "      <td>Account Manipulation Mitigation</td>\n",
       "      <td>Use multifactor authentication. Follow guideli...</td>\n",
       "      <td>https://attack.mitre.org/techniques/T1098</td>\n",
       "    </tr>\n",
       "    <tr>\n",
       "      <th>1</th>\n",
       "      <td>mitre-attack</td>\n",
       "      <td>Application Shimming Mitigation</td>\n",
       "      <td>There currently aren't a lot of ways to mitiga...</td>\n",
       "      <td>https://attack.mitre.org/techniques/T1138</td>\n",
       "    </tr>\n",
       "    <tr>\n",
       "      <th>2</th>\n",
       "      <td>mitre-attack</td>\n",
       "      <td>Automated Exfiltration Mitigation</td>\n",
       "      <td>Identify unnecessary system utilities, scripts...</td>\n",
       "      <td>https://attack.mitre.org/techniques/T1020</td>\n",
       "    </tr>\n",
       "    <tr>\n",
       "      <th>3</th>\n",
       "      <td>mitre-attack</td>\n",
       "      <td>Browser Bookmark Discovery Mitigation</td>\n",
       "      <td>File system activity is a common part of an op...</td>\n",
       "      <td>https://attack.mitre.org/techniques/T1217</td>\n",
       "    </tr>\n",
       "    <tr>\n",
       "      <th>4</th>\n",
       "      <td>mitre-attack</td>\n",
       "      <td>Change Default File Association Mitigation</td>\n",
       "      <td>Direct mitigation of this technique is not rec...</td>\n",
       "      <td>https://attack.mitre.org/techniques/T1042</td>\n",
       "    </tr>\n",
       "  </tbody>\n",
       "</table>\n",
       "</div>"
      ],
      "text/plain": [
       "         matrix                                  mitigation  \\\n",
       "0  mitre-attack             Account Manipulation Mitigation   \n",
       "1  mitre-attack             Application Shimming Mitigation   \n",
       "2  mitre-attack           Automated Exfiltration Mitigation   \n",
       "3  mitre-attack       Browser Bookmark Discovery Mitigation   \n",
       "4  mitre-attack  Change Default File Association Mitigation   \n",
       "\n",
       "                              mitigation_description  \\\n",
       "0  Use multifactor authentication. Follow guideli...   \n",
       "1  There currently aren't a lot of ways to mitiga...   \n",
       "2  Identify unnecessary system utilities, scripts...   \n",
       "3  File system activity is a common part of an op...   \n",
       "4  Direct mitigation of this technique is not rec...   \n",
       "\n",
       "                                         url  \n",
       "0  https://attack.mitre.org/techniques/T1098  \n",
       "1  https://attack.mitre.org/techniques/T1138  \n",
       "2  https://attack.mitre.org/techniques/T1020  \n",
       "3  https://attack.mitre.org/techniques/T1217  \n",
       "4  https://attack.mitre.org/techniques/T1042  "
      ]
     },
     "execution_count": 30,
     "metadata": {},
     "output_type": "execute_result"
    }
   ],
   "source": [
    "print(\"Number of Mitigations in Enterprise ATT&CK\")\n",
    "print(len(all_enterprise['mitigations']))\n",
    "df = all_enterprise['mitigations']\n",
    "df = json_normalize(df)\n",
    "df.reindex(['matrix','mitigation', 'mitigation_description', 'url'], axis=1)[0:5]"
   ]
  },
  {
   "cell_type": "markdown",
   "metadata": {},
   "source": [
    "**Enterprise Groups**"
   ]
  },
  {
   "cell_type": "code",
   "execution_count": 31,
   "metadata": {},
   "outputs": [
    {
     "name": "stdout",
     "output_type": "stream",
     "text": [
      "Number of Groups in Enterprise ATT&CK\n",
      "80\n"
     ]
    },
    {
     "data": {
      "text/html": [
       "<div>\n",
       "<style scoped>\n",
       "    .dataframe tbody tr th:only-of-type {\n",
       "        vertical-align: middle;\n",
       "    }\n",
       "\n",
       "    .dataframe tbody tr th {\n",
       "        vertical-align: top;\n",
       "    }\n",
       "\n",
       "    .dataframe thead th {\n",
       "        text-align: right;\n",
       "    }\n",
       "</style>\n",
       "<table border=\"1\" class=\"dataframe\">\n",
       "  <thead>\n",
       "    <tr style=\"text-align: right;\">\n",
       "      <th></th>\n",
       "      <th>matrix</th>\n",
       "      <th>group</th>\n",
       "      <th>group_aliases</th>\n",
       "      <th>group_id</th>\n",
       "      <th>group_description</th>\n",
       "    </tr>\n",
       "  </thead>\n",
       "  <tbody>\n",
       "    <tr>\n",
       "      <th>0</th>\n",
       "      <td>mitre-attack</td>\n",
       "      <td>Honeybee</td>\n",
       "      <td>[Honeybee]</td>\n",
       "      <td>G0072</td>\n",
       "      <td>[Honeybee](https://attack.mitre.org/groups/G00...</td>\n",
       "    </tr>\n",
       "    <tr>\n",
       "      <th>1</th>\n",
       "      <td>mitre-attack</td>\n",
       "      <td>Orangeworm</td>\n",
       "      <td>[Orangeworm]</td>\n",
       "      <td>G0071</td>\n",
       "      <td>[Orangeworm](https://attack.mitre.org/groups/G...</td>\n",
       "    </tr>\n",
       "    <tr>\n",
       "      <th>2</th>\n",
       "      <td>mitre-attack</td>\n",
       "      <td>APT19</td>\n",
       "      <td>[APT19, Codoso, C0d0so0, Codoso Team, Sunshop ...</td>\n",
       "      <td>G0073</td>\n",
       "      <td>[APT19](https://attack.mitre.org/groups/G0073)...</td>\n",
       "    </tr>\n",
       "    <tr>\n",
       "      <th>3</th>\n",
       "      <td>mitre-attack</td>\n",
       "      <td>Cobalt Group</td>\n",
       "      <td>[Cobalt Group, Cobalt Gang, Cobalt Spider]</td>\n",
       "      <td>G0080</td>\n",
       "      <td>[Cobalt Group](https://attack.mitre.org/groups...</td>\n",
       "    </tr>\n",
       "    <tr>\n",
       "      <th>4</th>\n",
       "      <td>mitre-attack</td>\n",
       "      <td>Thrip</td>\n",
       "      <td>[Thrip]</td>\n",
       "      <td>G0076</td>\n",
       "      <td>[Thrip](https://attack.mitre.org/groups/G0076)...</td>\n",
       "    </tr>\n",
       "  </tbody>\n",
       "</table>\n",
       "</div>"
      ],
      "text/plain": [
       "         matrix         group  \\\n",
       "0  mitre-attack      Honeybee   \n",
       "1  mitre-attack    Orangeworm   \n",
       "2  mitre-attack         APT19   \n",
       "3  mitre-attack  Cobalt Group   \n",
       "4  mitre-attack         Thrip   \n",
       "\n",
       "                                       group_aliases group_id  \\\n",
       "0                                         [Honeybee]    G0072   \n",
       "1                                       [Orangeworm]    G0071   \n",
       "2  [APT19, Codoso, C0d0so0, Codoso Team, Sunshop ...    G0073   \n",
       "3         [Cobalt Group, Cobalt Gang, Cobalt Spider]    G0080   \n",
       "4                                            [Thrip]    G0076   \n",
       "\n",
       "                                   group_description  \n",
       "0  [Honeybee](https://attack.mitre.org/groups/G00...  \n",
       "1  [Orangeworm](https://attack.mitre.org/groups/G...  \n",
       "2  [APT19](https://attack.mitre.org/groups/G0073)...  \n",
       "3  [Cobalt Group](https://attack.mitre.org/groups...  \n",
       "4  [Thrip](https://attack.mitre.org/groups/G0076)...  "
      ]
     },
     "execution_count": 31,
     "metadata": {},
     "output_type": "execute_result"
    }
   ],
   "source": [
    "print(\"Number of Groups in Enterprise ATT&CK\")\n",
    "print(len(all_enterprise['groups']))\n",
    "df = all_enterprise['groups']\n",
    "df = json_normalize(df)\n",
    "df.reindex(['matrix', 'group', 'group_aliases', 'group_id', 'group_description'], axis=1)[0:5]"
   ]
  },
  {
   "cell_type": "markdown",
   "metadata": {},
   "source": [
    "**Enterprise Malware**"
   ]
  },
  {
   "cell_type": "code",
   "execution_count": 32,
   "metadata": {},
   "outputs": [
    {
     "name": "stdout",
     "output_type": "stream",
     "text": [
      "Number of Malware objects in Enterprise ATT&CK\n",
      "237\n"
     ]
    },
    {
     "data": {
      "text/html": [
       "<div>\n",
       "<style scoped>\n",
       "    .dataframe tbody tr th:only-of-type {\n",
       "        vertical-align: middle;\n",
       "    }\n",
       "\n",
       "    .dataframe tbody tr th {\n",
       "        vertical-align: top;\n",
       "    }\n",
       "\n",
       "    .dataframe thead th {\n",
       "        text-align: right;\n",
       "    }\n",
       "</style>\n",
       "<table border=\"1\" class=\"dataframe\">\n",
       "  <thead>\n",
       "    <tr style=\"text-align: right;\">\n",
       "      <th></th>\n",
       "      <th>matrix</th>\n",
       "      <th>software</th>\n",
       "      <th>software_labels</th>\n",
       "      <th>software_id</th>\n",
       "      <th>software_description</th>\n",
       "    </tr>\n",
       "  </thead>\n",
       "  <tbody>\n",
       "    <tr>\n",
       "      <th>0</th>\n",
       "      <td>mitre-attack</td>\n",
       "      <td>Bandook</td>\n",
       "      <td>[malware]</td>\n",
       "      <td>S0234</td>\n",
       "      <td>[Bandook](https://attack.mitre.org/software/S0...</td>\n",
       "    </tr>\n",
       "    <tr>\n",
       "      <th>1</th>\n",
       "      <td>mitre-attack</td>\n",
       "      <td>CrossRAT</td>\n",
       "      <td>[malware]</td>\n",
       "      <td>S0235</td>\n",
       "      <td>[CrossRAT](https://attack.mitre.org/software/S...</td>\n",
       "    </tr>\n",
       "    <tr>\n",
       "      <th>2</th>\n",
       "      <td>mitre-attack</td>\n",
       "      <td>DealersChoice</td>\n",
       "      <td>[malware]</td>\n",
       "      <td>S0243</td>\n",
       "      <td>[DealersChoice](https://attack.mitre.org/softw...</td>\n",
       "    </tr>\n",
       "    <tr>\n",
       "      <th>3</th>\n",
       "      <td>mitre-attack</td>\n",
       "      <td>FELIXROOT</td>\n",
       "      <td>[malware]</td>\n",
       "      <td>S0267</td>\n",
       "      <td>[FELIXROOT](https://attack.mitre.org/software/...</td>\n",
       "    </tr>\n",
       "    <tr>\n",
       "      <th>4</th>\n",
       "      <td>mitre-attack</td>\n",
       "      <td>KEYMARBLE</td>\n",
       "      <td>[malware]</td>\n",
       "      <td>S0271</td>\n",
       "      <td>[KEYMARBLE](https://attack.mitre.org/software/...</td>\n",
       "    </tr>\n",
       "  </tbody>\n",
       "</table>\n",
       "</div>"
      ],
      "text/plain": [
       "         matrix       software software_labels software_id  \\\n",
       "0  mitre-attack        Bandook       [malware]       S0234   \n",
       "1  mitre-attack       CrossRAT       [malware]       S0235   \n",
       "2  mitre-attack  DealersChoice       [malware]       S0243   \n",
       "3  mitre-attack      FELIXROOT       [malware]       S0267   \n",
       "4  mitre-attack      KEYMARBLE       [malware]       S0271   \n",
       "\n",
       "                                software_description  \n",
       "0  [Bandook](https://attack.mitre.org/software/S0...  \n",
       "1  [CrossRAT](https://attack.mitre.org/software/S...  \n",
       "2  [DealersChoice](https://attack.mitre.org/softw...  \n",
       "3  [FELIXROOT](https://attack.mitre.org/software/...  \n",
       "4  [KEYMARBLE](https://attack.mitre.org/software/...  "
      ]
     },
     "execution_count": 32,
     "metadata": {},
     "output_type": "execute_result"
    }
   ],
   "source": [
    "print(\"Number of Malware objects in Enterprise ATT&CK\")\n",
    "print(len(all_enterprise['malware']))\n",
    "df = all_enterprise['malware']\n",
    "df = json_normalize(df)\n",
    "df.reindex(['matrix', 'software', 'software_labels', 'software_id', 'software_description'], axis=1)[0:5]"
   ]
  },
  {
   "cell_type": "markdown",
   "metadata": {},
   "source": [
    "**Enterprise Tools**"
   ]
  },
  {
   "cell_type": "code",
   "execution_count": 33,
   "metadata": {},
   "outputs": [
    {
     "name": "stdout",
     "output_type": "stream",
     "text": [
      "Number of Tools in Enterprise ATT&CK\n",
      "47\n"
     ]
    },
    {
     "data": {
      "text/html": [
       "<div>\n",
       "<style scoped>\n",
       "    .dataframe tbody tr th:only-of-type {\n",
       "        vertical-align: middle;\n",
       "    }\n",
       "\n",
       "    .dataframe tbody tr th {\n",
       "        vertical-align: top;\n",
       "    }\n",
       "\n",
       "    .dataframe thead th {\n",
       "        text-align: right;\n",
       "    }\n",
       "</style>\n",
       "<table border=\"1\" class=\"dataframe\">\n",
       "  <thead>\n",
       "    <tr style=\"text-align: right;\">\n",
       "      <th></th>\n",
       "      <th>matrix</th>\n",
       "      <th>software</th>\n",
       "      <th>software_labels</th>\n",
       "      <th>software_id</th>\n",
       "      <th>software_description</th>\n",
       "    </tr>\n",
       "  </thead>\n",
       "  <tbody>\n",
       "    <tr>\n",
       "      <th>0</th>\n",
       "      <td>mitre-attack</td>\n",
       "      <td>Koadic</td>\n",
       "      <td>[tool]</td>\n",
       "      <td>S0250</td>\n",
       "      <td>[Koadic](https://attack.mitre.org/software/S02...</td>\n",
       "    </tr>\n",
       "    <tr>\n",
       "      <th>1</th>\n",
       "      <td>mitre-attack</td>\n",
       "      <td>QuasarRAT</td>\n",
       "      <td>[tool]</td>\n",
       "      <td>S0262</td>\n",
       "      <td>[QuasarRAT](https://attack.mitre.org/software/...</td>\n",
       "    </tr>\n",
       "    <tr>\n",
       "      <th>2</th>\n",
       "      <td>mitre-attack</td>\n",
       "      <td>Invoke-PSImage</td>\n",
       "      <td>[tool]</td>\n",
       "      <td>S0231</td>\n",
       "      <td>[Invoke-PSImage](https://attack.mitre.org/soft...</td>\n",
       "    </tr>\n",
       "    <tr>\n",
       "      <th>3</th>\n",
       "      <td>mitre-attack</td>\n",
       "      <td>Pupy</td>\n",
       "      <td>[tool]</td>\n",
       "      <td>S0192</td>\n",
       "      <td>[Pupy](https://attack.mitre.org/software/S0192...</td>\n",
       "    </tr>\n",
       "    <tr>\n",
       "      <th>4</th>\n",
       "      <td>mitre-attack</td>\n",
       "      <td>Winexe</td>\n",
       "      <td>[tool]</td>\n",
       "      <td>S0191</td>\n",
       "      <td>[Winexe](https://attack.mitre.org/software/S01...</td>\n",
       "    </tr>\n",
       "  </tbody>\n",
       "</table>\n",
       "</div>"
      ],
      "text/plain": [
       "         matrix        software software_labels software_id  \\\n",
       "0  mitre-attack          Koadic          [tool]       S0250   \n",
       "1  mitre-attack       QuasarRAT          [tool]       S0262   \n",
       "2  mitre-attack  Invoke-PSImage          [tool]       S0231   \n",
       "3  mitre-attack            Pupy          [tool]       S0192   \n",
       "4  mitre-attack          Winexe          [tool]       S0191   \n",
       "\n",
       "                                software_description  \n",
       "0  [Koadic](https://attack.mitre.org/software/S02...  \n",
       "1  [QuasarRAT](https://attack.mitre.org/software/...  \n",
       "2  [Invoke-PSImage](https://attack.mitre.org/soft...  \n",
       "3  [Pupy](https://attack.mitre.org/software/S0192...  \n",
       "4  [Winexe](https://attack.mitre.org/software/S01...  "
      ]
     },
     "execution_count": 33,
     "metadata": {},
     "output_type": "execute_result"
    }
   ],
   "source": [
    "print(\"Number of Tools in Enterprise ATT&CK\")\n",
    "print(len(all_enterprise['tools']))\n",
    "df = all_enterprise['tools']\n",
    "df = json_normalize(df)\n",
    "df.reindex(['matrix', 'software', 'software_labels', 'software_id', 'software_description'], axis=1)[0:5]"
   ]
  },
  {
   "cell_type": "markdown",
   "metadata": {},
   "source": [
    "**Enterprise Relationships**"
   ]
  },
  {
   "cell_type": "code",
   "execution_count": 34,
   "metadata": {},
   "outputs": [
    {
     "name": "stdout",
     "output_type": "stream",
     "text": [
      "Number of Relationships in Enterprise ATT&CK\n",
      "3725\n"
     ]
    },
    {
     "data": {
      "text/html": [
       "<div>\n",
       "<style scoped>\n",
       "    .dataframe tbody tr th:only-of-type {\n",
       "        vertical-align: middle;\n",
       "    }\n",
       "\n",
       "    .dataframe tbody tr th {\n",
       "        vertical-align: top;\n",
       "    }\n",
       "\n",
       "    .dataframe thead th {\n",
       "        text-align: right;\n",
       "    }\n",
       "</style>\n",
       "<table border=\"1\" class=\"dataframe\">\n",
       "  <thead>\n",
       "    <tr style=\"text-align: right;\">\n",
       "      <th></th>\n",
       "      <th>id</th>\n",
       "      <th>relationship</th>\n",
       "      <th>source_object</th>\n",
       "      <th>target_object</th>\n",
       "    </tr>\n",
       "  </thead>\n",
       "  <tbody>\n",
       "    <tr>\n",
       "      <th>0</th>\n",
       "      <td>relationship--322703cc-c8f9-4046-8a61-e165a2d1...</td>\n",
       "      <td>uses</td>\n",
       "      <td>intrusion-set--fe8796a4-2a02-41a0-9d27-7aa1e99...</td>\n",
       "      <td>attack-pattern--707399d6-ab3e-4963-9315-d9d381...</td>\n",
       "    </tr>\n",
       "    <tr>\n",
       "      <th>1</th>\n",
       "      <td>relationship--1ba59a68-1883-492d-8cd8-f22656eb...</td>\n",
       "      <td>uses</td>\n",
       "      <td>intrusion-set--bef4c620-0787-42a8-a96d-b7eb6e8...</td>\n",
       "      <td>attack-pattern--1608f3e1-598a-42f4-a01a-2e252e...</td>\n",
       "    </tr>\n",
       "    <tr>\n",
       "      <th>2</th>\n",
       "      <td>relationship--40032198-f003-4171-92a0-faf038f6...</td>\n",
       "      <td>uses</td>\n",
       "      <td>intrusion-set--247cb30b-955f-42eb-97a5-a89fef6...</td>\n",
       "      <td>attack-pattern--03d7999c-1f4c-42cc-8373-e7690d...</td>\n",
       "    </tr>\n",
       "    <tr>\n",
       "      <th>3</th>\n",
       "      <td>relationship--70d1a246-4ff2-452d-babf-ed47bccb...</td>\n",
       "      <td>uses</td>\n",
       "      <td>intrusion-set--dc6fe6ee-04c2-49be-ba3d-f38d246...</td>\n",
       "      <td>attack-pattern--f4882e23-8aa7-4b12-b28a-b349c1...</td>\n",
       "    </tr>\n",
       "    <tr>\n",
       "      <th>4</th>\n",
       "      <td>relationship--2db02b07-4dd3-4810-9103-1f8d7bd4...</td>\n",
       "      <td>uses</td>\n",
       "      <td>intrusion-set--6b9ebeb5-20bf-48b0-afb7-988d769...</td>\n",
       "      <td>attack-pattern--b77cf5f3-6060-475d-bd60-40ccbf...</td>\n",
       "    </tr>\n",
       "  </tbody>\n",
       "</table>\n",
       "</div>"
      ],
      "text/plain": [
       "                                                  id relationship  \\\n",
       "0  relationship--322703cc-c8f9-4046-8a61-e165a2d1...         uses   \n",
       "1  relationship--1ba59a68-1883-492d-8cd8-f22656eb...         uses   \n",
       "2  relationship--40032198-f003-4171-92a0-faf038f6...         uses   \n",
       "3  relationship--70d1a246-4ff2-452d-babf-ed47bccb...         uses   \n",
       "4  relationship--2db02b07-4dd3-4810-9103-1f8d7bd4...         uses   \n",
       "\n",
       "                                       source_object  \\\n",
       "0  intrusion-set--fe8796a4-2a02-41a0-9d27-7aa1e99...   \n",
       "1  intrusion-set--bef4c620-0787-42a8-a96d-b7eb6e8...   \n",
       "2  intrusion-set--247cb30b-955f-42eb-97a5-a89fef6...   \n",
       "3  intrusion-set--dc6fe6ee-04c2-49be-ba3d-f38d246...   \n",
       "4  intrusion-set--6b9ebeb5-20bf-48b0-afb7-988d769...   \n",
       "\n",
       "                                       target_object  \n",
       "0  attack-pattern--707399d6-ab3e-4963-9315-d9d381...  \n",
       "1  attack-pattern--1608f3e1-598a-42f4-a01a-2e252e...  \n",
       "2  attack-pattern--03d7999c-1f4c-42cc-8373-e7690d...  \n",
       "3  attack-pattern--f4882e23-8aa7-4b12-b28a-b349c1...  \n",
       "4  attack-pattern--b77cf5f3-6060-475d-bd60-40ccbf...  "
      ]
     },
     "execution_count": 34,
     "metadata": {},
     "output_type": "execute_result"
    }
   ],
   "source": [
    "print(\"Number of Relationships in Enterprise ATT&CK\")\n",
    "print(len(all_enterprise['relationships']))\n",
    "df = all_enterprise['relationships']\n",
    "df = json_normalize(df)\n",
    "df.reindex(['id','relationship', 'source_object', 'target_object'], axis=1)[0:5]"
   ]
  },
  {
   "cell_type": "markdown",
   "metadata": {},
   "source": [
    "### Get All PRE-ATT&CK ONLY from Results (Locally)"
   ]
  },
  {
   "cell_type": "markdown",
   "metadata": {},
   "source": [
    "**PRE Techniques**"
   ]
  },
  {
   "cell_type": "code",
   "execution_count": 35,
   "metadata": {},
   "outputs": [
    {
     "name": "stdout",
     "output_type": "stream",
     "text": [
      "Number of Techniques in PRE-ATT&CK\n",
      "174\n"
     ]
    },
    {
     "data": {
      "text/html": [
       "<div>\n",
       "<style scoped>\n",
       "    .dataframe tbody tr th:only-of-type {\n",
       "        vertical-align: middle;\n",
       "    }\n",
       "\n",
       "    .dataframe tbody tr th {\n",
       "        vertical-align: top;\n",
       "    }\n",
       "\n",
       "    .dataframe thead th {\n",
       "        text-align: right;\n",
       "    }\n",
       "</style>\n",
       "<table border=\"1\" class=\"dataframe\">\n",
       "  <thead>\n",
       "    <tr style=\"text-align: right;\">\n",
       "      <th></th>\n",
       "      <th>matrix</th>\n",
       "      <th>tactic</th>\n",
       "      <th>technique</th>\n",
       "      <th>technique_id</th>\n",
       "      <th>detectable_by_common_defenses</th>\n",
       "    </tr>\n",
       "  </thead>\n",
       "  <tbody>\n",
       "    <tr>\n",
       "      <th>0</th>\n",
       "      <td>mitre-pre-attack</td>\n",
       "      <td>[technical-information-gathering]</td>\n",
       "      <td>Spearphishing for Information</td>\n",
       "      <td>T1397</td>\n",
       "      <td>Partial</td>\n",
       "    </tr>\n",
       "    <tr>\n",
       "      <th>1</th>\n",
       "      <td>mitre-pre-attack</td>\n",
       "      <td>[establish-&amp;-maintain-infrastructure]</td>\n",
       "      <td>Acquire and/or use 3rd party infrastructure se...</td>\n",
       "      <td>T1329</td>\n",
       "      <td>No</td>\n",
       "    </tr>\n",
       "    <tr>\n",
       "      <th>2</th>\n",
       "      <td>mitre-pre-attack</td>\n",
       "      <td>[people-information-gathering]</td>\n",
       "      <td>Aggregate individual's digital footprint</td>\n",
       "      <td>T1275</td>\n",
       "      <td>No</td>\n",
       "    </tr>\n",
       "    <tr>\n",
       "      <th>3</th>\n",
       "      <td>mitre-pre-attack</td>\n",
       "      <td>[technical-weakness-identification]</td>\n",
       "      <td>Analyze hardware/software security defensive c...</td>\n",
       "      <td>T1294</td>\n",
       "      <td>No</td>\n",
       "    </tr>\n",
       "    <tr>\n",
       "      <th>4</th>\n",
       "      <td>mitre-pre-attack</td>\n",
       "      <td>[people-weakness-identification]</td>\n",
       "      <td>Analyze social and business relationships, int...</td>\n",
       "      <td>T1295</td>\n",
       "      <td>No</td>\n",
       "    </tr>\n",
       "  </tbody>\n",
       "</table>\n",
       "</div>"
      ],
      "text/plain": [
       "             matrix                                 tactic  \\\n",
       "0  mitre-pre-attack      [technical-information-gathering]   \n",
       "1  mitre-pre-attack  [establish-&-maintain-infrastructure]   \n",
       "2  mitre-pre-attack         [people-information-gathering]   \n",
       "3  mitre-pre-attack    [technical-weakness-identification]   \n",
       "4  mitre-pre-attack       [people-weakness-identification]   \n",
       "\n",
       "                                           technique technique_id  \\\n",
       "0                      Spearphishing for Information        T1397   \n",
       "1  Acquire and/or use 3rd party infrastructure se...        T1329   \n",
       "2           Aggregate individual's digital footprint        T1275   \n",
       "3  Analyze hardware/software security defensive c...        T1294   \n",
       "4  Analyze social and business relationships, int...        T1295   \n",
       "\n",
       "  detectable_by_common_defenses  \n",
       "0                       Partial  \n",
       "1                            No  \n",
       "2                            No  \n",
       "3                            No  \n",
       "4                            No  "
      ]
     },
     "execution_count": 35,
     "metadata": {},
     "output_type": "execute_result"
    }
   ],
   "source": [
    "print(\"Number of Techniques in PRE-ATT&CK\")\n",
    "print(len(all_pre['techniques']))\n",
    "df = all_pre['techniques']\n",
    "df = json_normalize(df)\n",
    "df.reindex(['matrix', 'tactic', 'technique', 'technique_id', 'detectable_by_common_defenses'], axis=1)[0:5]"
   ]
  },
  {
   "cell_type": "markdown",
   "metadata": {},
   "source": [
    "**PRE Groups**"
   ]
  },
  {
   "cell_type": "code",
   "execution_count": 36,
   "metadata": {},
   "outputs": [
    {
     "name": "stdout",
     "output_type": "stream",
     "text": [
      "Number of Groups in PRE-ATT&CK\n",
      "6\n"
     ]
    },
    {
     "data": {
      "text/html": [
       "<div>\n",
       "<style scoped>\n",
       "    .dataframe tbody tr th:only-of-type {\n",
       "        vertical-align: middle;\n",
       "    }\n",
       "\n",
       "    .dataframe tbody tr th {\n",
       "        vertical-align: top;\n",
       "    }\n",
       "\n",
       "    .dataframe thead th {\n",
       "        text-align: right;\n",
       "    }\n",
       "</style>\n",
       "<table border=\"1\" class=\"dataframe\">\n",
       "  <thead>\n",
       "    <tr style=\"text-align: right;\">\n",
       "      <th></th>\n",
       "      <th>matrix</th>\n",
       "      <th>group</th>\n",
       "      <th>group_aliases</th>\n",
       "      <th>group_id</th>\n",
       "      <th>group_description</th>\n",
       "    </tr>\n",
       "  </thead>\n",
       "  <tbody>\n",
       "    <tr>\n",
       "      <th>0</th>\n",
       "      <td>mitre-attack</td>\n",
       "      <td>APT17</td>\n",
       "      <td>[APT17, Deputy Dog]</td>\n",
       "      <td>G0025</td>\n",
       "      <td>[APT17](https://attack.mitre.org/groups/G0025)...</td>\n",
       "    </tr>\n",
       "    <tr>\n",
       "      <th>1</th>\n",
       "      <td>mitre-attack</td>\n",
       "      <td>APT16</td>\n",
       "      <td>[APT16]</td>\n",
       "      <td>G0023</td>\n",
       "      <td>[APT16](https://attack.mitre.org/groups/G0023)...</td>\n",
       "    </tr>\n",
       "    <tr>\n",
       "      <th>2</th>\n",
       "      <td>mitre-attack</td>\n",
       "      <td>Night Dragon</td>\n",
       "      <td>[Night Dragon, Musical Chairs]</td>\n",
       "      <td>G0014</td>\n",
       "      <td>[Night Dragon](https://attack.mitre.org/groups...</td>\n",
       "    </tr>\n",
       "    <tr>\n",
       "      <th>3</th>\n",
       "      <td>mitre-attack</td>\n",
       "      <td>APT28</td>\n",
       "      <td>[APT28, Sednit, Sofacy, Pawn Storm, Fancy Bear...</td>\n",
       "      <td>G0007</td>\n",
       "      <td>[APT28](https://attack.mitre.org/groups/G0007)...</td>\n",
       "    </tr>\n",
       "    <tr>\n",
       "      <th>4</th>\n",
       "      <td>mitre-attack</td>\n",
       "      <td>APT1</td>\n",
       "      <td>[APT1, Comment Crew, Comment Group, Comment Pa...</td>\n",
       "      <td>G0006</td>\n",
       "      <td>[APT1](https://attack.mitre.org/groups/G0006) ...</td>\n",
       "    </tr>\n",
       "  </tbody>\n",
       "</table>\n",
       "</div>"
      ],
      "text/plain": [
       "         matrix         group  \\\n",
       "0  mitre-attack         APT17   \n",
       "1  mitre-attack         APT16   \n",
       "2  mitre-attack  Night Dragon   \n",
       "3  mitre-attack         APT28   \n",
       "4  mitre-attack          APT1   \n",
       "\n",
       "                                       group_aliases group_id  \\\n",
       "0                                [APT17, Deputy Dog]    G0025   \n",
       "1                                            [APT16]    G0023   \n",
       "2                     [Night Dragon, Musical Chairs]    G0014   \n",
       "3  [APT28, Sednit, Sofacy, Pawn Storm, Fancy Bear...    G0007   \n",
       "4  [APT1, Comment Crew, Comment Group, Comment Pa...    G0006   \n",
       "\n",
       "                                   group_description  \n",
       "0  [APT17](https://attack.mitre.org/groups/G0025)...  \n",
       "1  [APT16](https://attack.mitre.org/groups/G0023)...  \n",
       "2  [Night Dragon](https://attack.mitre.org/groups...  \n",
       "3  [APT28](https://attack.mitre.org/groups/G0007)...  \n",
       "4  [APT1](https://attack.mitre.org/groups/G0006) ...  "
      ]
     },
     "execution_count": 36,
     "metadata": {},
     "output_type": "execute_result"
    }
   ],
   "source": [
    "print(\"Number of Groups in PRE-ATT&CK\")\n",
    "print(len(all_pre['groups']))\n",
    "df = all_pre['groups']\n",
    "df = json_normalize(df)\n",
    "df.reindex(['matrix', 'group', 'group_aliases', 'group_id', 'group_description'], axis=1)[0:5]"
   ]
  },
  {
   "cell_type": "markdown",
   "metadata": {},
   "source": [
    "**PRE Relationships**"
   ]
  },
  {
   "cell_type": "code",
   "execution_count": 37,
   "metadata": {},
   "outputs": [
    {
     "name": "stdout",
     "output_type": "stream",
     "text": [
      "Number of Relationships in PRE-ATT&CK\n",
      "68\n"
     ]
    },
    {
     "data": {
      "text/html": [
       "<div>\n",
       "<style scoped>\n",
       "    .dataframe tbody tr th:only-of-type {\n",
       "        vertical-align: middle;\n",
       "    }\n",
       "\n",
       "    .dataframe tbody tr th {\n",
       "        vertical-align: top;\n",
       "    }\n",
       "\n",
       "    .dataframe thead th {\n",
       "        text-align: right;\n",
       "    }\n",
       "</style>\n",
       "<table border=\"1\" class=\"dataframe\">\n",
       "  <thead>\n",
       "    <tr style=\"text-align: right;\">\n",
       "      <th></th>\n",
       "      <th>id</th>\n",
       "      <th>relationship</th>\n",
       "      <th>source_object</th>\n",
       "      <th>target_object</th>\n",
       "    </tr>\n",
       "  </thead>\n",
       "  <tbody>\n",
       "    <tr>\n",
       "      <th>0</th>\n",
       "      <td>relationship--6ba71250-1dc7-4b8d-88e7-698440ea...</td>\n",
       "      <td>related-to</td>\n",
       "      <td>attack-pattern--028ad431-84c5-4eb7-a364-2b797c...</td>\n",
       "      <td>attack-pattern--2b9a666e-bd59-4f67-9031-ed41b4...</td>\n",
       "    </tr>\n",
       "    <tr>\n",
       "      <th>1</th>\n",
       "      <td>relationship--ad510f42-e745-42d0-8b54-4bf7a2f3...</td>\n",
       "      <td>related-to</td>\n",
       "      <td>attack-pattern--af358cad-eb71-4e91-a752-236edc...</td>\n",
       "      <td>attack-pattern--74a3288e-eee9-4f8e-973a-fbc128...</td>\n",
       "    </tr>\n",
       "    <tr>\n",
       "      <th>2</th>\n",
       "      <td>relationship--cc22ab71-f2fc-4885-832b-e75dadee...</td>\n",
       "      <td>uses</td>\n",
       "      <td>intrusion-set--6a2e693f-24e5-451a-9f88-b36a108...</td>\n",
       "      <td>attack-pattern--4900fabf-1142-4c1f-92f5-0b590e...</td>\n",
       "    </tr>\n",
       "    <tr>\n",
       "      <th>3</th>\n",
       "      <td>relationship--5dc0b076-5f25-4bda-83c7-1d8bd214...</td>\n",
       "      <td>related-to</td>\n",
       "      <td>attack-pattern--286cc500-4291-45c2-99a1-e760db...</td>\n",
       "      <td>attack-pattern--795c1a92-3a26-453e-b99a-6a566a...</td>\n",
       "    </tr>\n",
       "    <tr>\n",
       "      <th>4</th>\n",
       "      <td>relationship--87239038-7693-49b3-b595-b828cc2b...</td>\n",
       "      <td>related-to</td>\n",
       "      <td>attack-pattern--103d72e6-7e0d-4b3a-9373-c38567...</td>\n",
       "      <td>attack-pattern--eacd1efe-ee30-4b03-b58f-5b3b1a...</td>\n",
       "    </tr>\n",
       "  </tbody>\n",
       "</table>\n",
       "</div>"
      ],
      "text/plain": [
       "                                                  id relationship  \\\n",
       "0  relationship--6ba71250-1dc7-4b8d-88e7-698440ea...   related-to   \n",
       "1  relationship--ad510f42-e745-42d0-8b54-4bf7a2f3...   related-to   \n",
       "2  relationship--cc22ab71-f2fc-4885-832b-e75dadee...         uses   \n",
       "3  relationship--5dc0b076-5f25-4bda-83c7-1d8bd214...   related-to   \n",
       "4  relationship--87239038-7693-49b3-b595-b828cc2b...   related-to   \n",
       "\n",
       "                                       source_object  \\\n",
       "0  attack-pattern--028ad431-84c5-4eb7-a364-2b797c...   \n",
       "1  attack-pattern--af358cad-eb71-4e91-a752-236edc...   \n",
       "2  intrusion-set--6a2e693f-24e5-451a-9f88-b36a108...   \n",
       "3  attack-pattern--286cc500-4291-45c2-99a1-e760db...   \n",
       "4  attack-pattern--103d72e6-7e0d-4b3a-9373-c38567...   \n",
       "\n",
       "                                       target_object  \n",
       "0  attack-pattern--2b9a666e-bd59-4f67-9031-ed41b4...  \n",
       "1  attack-pattern--74a3288e-eee9-4f8e-973a-fbc128...  \n",
       "2  attack-pattern--4900fabf-1142-4c1f-92f5-0b590e...  \n",
       "3  attack-pattern--795c1a92-3a26-453e-b99a-6a566a...  \n",
       "4  attack-pattern--eacd1efe-ee30-4b03-b58f-5b3b1a...  "
      ]
     },
     "execution_count": 37,
     "metadata": {},
     "output_type": "execute_result"
    }
   ],
   "source": [
    "print(\"Number of Relationships in PRE-ATT&CK\")\n",
    "print(len(all_pre['relationships']))\n",
    "df = all_pre['relationships']\n",
    "df = json_normalize(df)\n",
    "df.reindex(['id','relationship', 'source_object', 'target_object'], axis=1)[0:5]"
   ]
  },
  {
   "cell_type": "markdown",
   "metadata": {},
   "source": [
    "### Get All Mobile ATT&CK ONLY from Results (Locally)"
   ]
  },
  {
   "cell_type": "markdown",
   "metadata": {},
   "source": [
    "**Mobile Techniques**"
   ]
  },
  {
   "cell_type": "code",
   "execution_count": 38,
   "metadata": {},
   "outputs": [
    {
     "name": "stdout",
     "output_type": "stream",
     "text": [
      "Number of Techniques in Mobile ATT&CK\n",
      "81\n"
     ]
    },
    {
     "data": {
      "text/html": [
       "<div>\n",
       "<style scoped>\n",
       "    .dataframe tbody tr th:only-of-type {\n",
       "        vertical-align: middle;\n",
       "    }\n",
       "\n",
       "    .dataframe tbody tr th {\n",
       "        vertical-align: top;\n",
       "    }\n",
       "\n",
       "    .dataframe thead th {\n",
       "        text-align: right;\n",
       "    }\n",
       "</style>\n",
       "<table border=\"1\" class=\"dataframe\">\n",
       "  <thead>\n",
       "    <tr style=\"text-align: right;\">\n",
       "      <th></th>\n",
       "      <th>matrix</th>\n",
       "      <th>tactic</th>\n",
       "      <th>technique</th>\n",
       "      <th>technique_id</th>\n",
       "      <th>tactic_type</th>\n",
       "    </tr>\n",
       "  </thead>\n",
       "  <tbody>\n",
       "    <tr>\n",
       "      <th>0</th>\n",
       "      <td>mitre-mobile-attack</td>\n",
       "      <td>[initial-access]</td>\n",
       "      <td>Exploit via Radio Interfaces</td>\n",
       "      <td>T1477</td>\n",
       "      <td>[Post-Adversary Device Access]</td>\n",
       "    </tr>\n",
       "    <tr>\n",
       "      <th>1</th>\n",
       "      <td>mitre-mobile-attack</td>\n",
       "      <td>[defense-evasion, initial-access]</td>\n",
       "      <td>Install Insecure or Malicious Configuration</td>\n",
       "      <td>T1478</td>\n",
       "      <td>[Post-Adversary Device Access]</td>\n",
       "    </tr>\n",
       "    <tr>\n",
       "      <th>2</th>\n",
       "      <td>mitre-mobile-attack</td>\n",
       "      <td>[initial-access]</td>\n",
       "      <td>Supply Chain Compromise</td>\n",
       "      <td>T1474</td>\n",
       "      <td>[Post-Adversary Device Access]</td>\n",
       "    </tr>\n",
       "    <tr>\n",
       "      <th>3</th>\n",
       "      <td>mitre-mobile-attack</td>\n",
       "      <td>[initial-access]</td>\n",
       "      <td>Deliver Malicious App via Other Means</td>\n",
       "      <td>T1476</td>\n",
       "      <td>[Post-Adversary Device Access]</td>\n",
       "    </tr>\n",
       "    <tr>\n",
       "      <th>4</th>\n",
       "      <td>mitre-mobile-attack</td>\n",
       "      <td>[initial-access]</td>\n",
       "      <td>Deliver Malicious App via Authorized App Store</td>\n",
       "      <td>T1475</td>\n",
       "      <td>[Post-Adversary Device Access]</td>\n",
       "    </tr>\n",
       "  </tbody>\n",
       "</table>\n",
       "</div>"
      ],
      "text/plain": [
       "                matrix                             tactic  \\\n",
       "0  mitre-mobile-attack                   [initial-access]   \n",
       "1  mitre-mobile-attack  [defense-evasion, initial-access]   \n",
       "2  mitre-mobile-attack                   [initial-access]   \n",
       "3  mitre-mobile-attack                   [initial-access]   \n",
       "4  mitre-mobile-attack                   [initial-access]   \n",
       "\n",
       "                                        technique technique_id  \\\n",
       "0                    Exploit via Radio Interfaces        T1477   \n",
       "1     Install Insecure or Malicious Configuration        T1478   \n",
       "2                         Supply Chain Compromise        T1474   \n",
       "3           Deliver Malicious App via Other Means        T1476   \n",
       "4  Deliver Malicious App via Authorized App Store        T1475   \n",
       "\n",
       "                      tactic_type  \n",
       "0  [Post-Adversary Device Access]  \n",
       "1  [Post-Adversary Device Access]  \n",
       "2  [Post-Adversary Device Access]  \n",
       "3  [Post-Adversary Device Access]  \n",
       "4  [Post-Adversary Device Access]  "
      ]
     },
     "execution_count": 38,
     "metadata": {},
     "output_type": "execute_result"
    }
   ],
   "source": [
    "print(\"Number of Techniques in Mobile ATT&CK\")\n",
    "print(len(all_mobile['techniques']))\n",
    "df = all_mobile['techniques']\n",
    "df = json_normalize(df)\n",
    "df.reindex(['matrix', 'tactic', 'technique', 'technique_id', 'tactic_type'], axis=1)[0:5]"
   ]
  },
  {
   "cell_type": "markdown",
   "metadata": {},
   "source": [
    "**Mobile Mitigations**"
   ]
  },
  {
   "cell_type": "code",
   "execution_count": 39,
   "metadata": {},
   "outputs": [
    {
     "name": "stdout",
     "output_type": "stream",
     "text": [
      "Number of Mitigations in Mobile ATT&CK\n",
      "14\n",
      " \n"
     ]
    },
    {
     "data": {
      "text/html": [
       "<div>\n",
       "<style scoped>\n",
       "    .dataframe tbody tr th:only-of-type {\n",
       "        vertical-align: middle;\n",
       "    }\n",
       "\n",
       "    .dataframe tbody tr th {\n",
       "        vertical-align: top;\n",
       "    }\n",
       "\n",
       "    .dataframe thead th {\n",
       "        text-align: right;\n",
       "    }\n",
       "</style>\n",
       "<table border=\"1\" class=\"dataframe\">\n",
       "  <thead>\n",
       "    <tr style=\"text-align: right;\">\n",
       "      <th></th>\n",
       "      <th>matrix</th>\n",
       "      <th>mitigation</th>\n",
       "      <th>mitigation_description</th>\n",
       "      <th>url</th>\n",
       "    </tr>\n",
       "  </thead>\n",
       "  <tbody>\n",
       "    <tr>\n",
       "      <th>0</th>\n",
       "      <td>mitre-mobile-attack</td>\n",
       "      <td>Application Developer Guidance</td>\n",
       "      <td>This mitigation describes any guidance or trai...</td>\n",
       "      <td>https://attack.mitre.org/mitigations/M1013</td>\n",
       "    </tr>\n",
       "    <tr>\n",
       "      <th>1</th>\n",
       "      <td>mitre-mobile-attack</td>\n",
       "      <td>Enterprise Policy</td>\n",
       "      <td>An enterprise mobility management (EMM), also ...</td>\n",
       "      <td>https://attack.mitre.org/mitigations/M1012</td>\n",
       "    </tr>\n",
       "    <tr>\n",
       "      <th>2</th>\n",
       "      <td>mitre-mobile-attack</td>\n",
       "      <td>Attestation</td>\n",
       "      <td>Enable remote attestation capabilities when av...</td>\n",
       "      <td>https://attack.mitre.org/mitigations/M1002</td>\n",
       "    </tr>\n",
       "    <tr>\n",
       "      <th>3</th>\n",
       "      <td>mitre-mobile-attack</td>\n",
       "      <td>Deploy Compromised Device Detection Method</td>\n",
       "      <td>A variety of methods exist that can be used to...</td>\n",
       "      <td>https://attack.mitre.org/mitigations/M1010</td>\n",
       "    </tr>\n",
       "    <tr>\n",
       "      <th>4</th>\n",
       "      <td>mitre-mobile-attack</td>\n",
       "      <td>System Partition Integrity</td>\n",
       "      <td>Ensure that Android devices being used include...</td>\n",
       "      <td>https://attack.mitre.org/mitigations/M1004</td>\n",
       "    </tr>\n",
       "  </tbody>\n",
       "</table>\n",
       "</div>"
      ],
      "text/plain": [
       "                matrix                                  mitigation  \\\n",
       "0  mitre-mobile-attack              Application Developer Guidance   \n",
       "1  mitre-mobile-attack                           Enterprise Policy   \n",
       "2  mitre-mobile-attack                                 Attestation   \n",
       "3  mitre-mobile-attack  Deploy Compromised Device Detection Method   \n",
       "4  mitre-mobile-attack                  System Partition Integrity   \n",
       "\n",
       "                              mitigation_description  \\\n",
       "0  This mitigation describes any guidance or trai...   \n",
       "1  An enterprise mobility management (EMM), also ...   \n",
       "2  Enable remote attestation capabilities when av...   \n",
       "3  A variety of methods exist that can be used to...   \n",
       "4  Ensure that Android devices being used include...   \n",
       "\n",
       "                                          url  \n",
       "0  https://attack.mitre.org/mitigations/M1013  \n",
       "1  https://attack.mitre.org/mitigations/M1012  \n",
       "2  https://attack.mitre.org/mitigations/M1002  \n",
       "3  https://attack.mitre.org/mitigations/M1010  \n",
       "4  https://attack.mitre.org/mitigations/M1004  "
      ]
     },
     "execution_count": 39,
     "metadata": {},
     "output_type": "execute_result"
    }
   ],
   "source": [
    "print(\"Number of Mitigations in Mobile ATT&CK\")\n",
    "print(len(all_mobile['mitigations']))\n",
    "print(\" \")\n",
    "df = all_mobile['mitigations']\n",
    "df = json_normalize(df)\n",
    "df.reindex(['matrix', 'mitigation', 'mitigation_description', 'url'], axis=1)[0:5]"
   ]
  },
  {
   "cell_type": "markdown",
   "metadata": {},
   "source": [
    "**Mobile Groups**"
   ]
  },
  {
   "cell_type": "code",
   "execution_count": 40,
   "metadata": {},
   "outputs": [
    {
     "name": "stdout",
     "output_type": "stream",
     "text": [
      "Number of Groups in Mobile ATT&CK\n",
      "1\n"
     ]
    },
    {
     "data": {
      "text/html": [
       "<div>\n",
       "<style scoped>\n",
       "    .dataframe tbody tr th:only-of-type {\n",
       "        vertical-align: middle;\n",
       "    }\n",
       "\n",
       "    .dataframe tbody tr th {\n",
       "        vertical-align: top;\n",
       "    }\n",
       "\n",
       "    .dataframe thead th {\n",
       "        text-align: right;\n",
       "    }\n",
       "</style>\n",
       "<table border=\"1\" class=\"dataframe\">\n",
       "  <thead>\n",
       "    <tr style=\"text-align: right;\">\n",
       "      <th></th>\n",
       "      <th>matrix</th>\n",
       "      <th>group</th>\n",
       "      <th>group_aliases</th>\n",
       "      <th>group_id</th>\n",
       "      <th>group_description</th>\n",
       "    </tr>\n",
       "  </thead>\n",
       "  <tbody>\n",
       "    <tr>\n",
       "      <th>0</th>\n",
       "      <td>mitre-attack</td>\n",
       "      <td>APT28</td>\n",
       "      <td>[APT28, Sednit, Sofacy, Pawn Storm, Fancy Bear...</td>\n",
       "      <td>G0007</td>\n",
       "      <td>[APT28](https://attack.mitre.org/groups/G0007)...</td>\n",
       "    </tr>\n",
       "  </tbody>\n",
       "</table>\n",
       "</div>"
      ],
      "text/plain": [
       "         matrix  group                                      group_aliases  \\\n",
       "0  mitre-attack  APT28  [APT28, Sednit, Sofacy, Pawn Storm, Fancy Bear...   \n",
       "\n",
       "  group_id                                  group_description  \n",
       "0    G0007  [APT28](https://attack.mitre.org/groups/G0007)...  "
      ]
     },
     "execution_count": 40,
     "metadata": {},
     "output_type": "execute_result"
    }
   ],
   "source": [
    "print(\"Number of Groups in Mobile ATT&CK\")\n",
    "print(len(all_mobile['groups']))\n",
    "df = all_mobile['groups']\n",
    "df = json_normalize(df)\n",
    "df.reindex(['matrix', 'group', 'group_aliases', 'group_id', 'group_description'], axis=1)[0:5]"
   ]
  },
  {
   "cell_type": "markdown",
   "metadata": {},
   "source": [
    "**Mobile Malware**"
   ]
  },
  {
   "cell_type": "code",
   "execution_count": 41,
   "metadata": {},
   "outputs": [
    {
     "name": "stdout",
     "output_type": "stream",
     "text": [
      "Number of Malware in Mobile ATT&CK\n",
      "44\n"
     ]
    },
    {
     "data": {
      "text/html": [
       "<div>\n",
       "<style scoped>\n",
       "    .dataframe tbody tr th:only-of-type {\n",
       "        vertical-align: middle;\n",
       "    }\n",
       "\n",
       "    .dataframe tbody tr th {\n",
       "        vertical-align: top;\n",
       "    }\n",
       "\n",
       "    .dataframe thead th {\n",
       "        text-align: right;\n",
       "    }\n",
       "</style>\n",
       "<table border=\"1\" class=\"dataframe\">\n",
       "  <thead>\n",
       "    <tr style=\"text-align: right;\">\n",
       "      <th></th>\n",
       "      <th>matrix</th>\n",
       "      <th>software</th>\n",
       "      <th>software_labels</th>\n",
       "      <th>software_id</th>\n",
       "      <th>software_description</th>\n",
       "    </tr>\n",
       "  </thead>\n",
       "  <tbody>\n",
       "    <tr>\n",
       "      <th>0</th>\n",
       "      <td>mitre-mobile-attack</td>\n",
       "      <td>Allwinner</td>\n",
       "      <td>[malware]</td>\n",
       "      <td>S0319</td>\n",
       "      <td>[Allwinner](https://attack.mitre.org/software/...</td>\n",
       "    </tr>\n",
       "    <tr>\n",
       "      <th>1</th>\n",
       "      <td>mitre-mobile-attack</td>\n",
       "      <td>Marcher</td>\n",
       "      <td>[malware]</td>\n",
       "      <td>S0317</td>\n",
       "      <td>[Marcher](https://attack.mitre.org/software/S0...</td>\n",
       "    </tr>\n",
       "    <tr>\n",
       "      <th>2</th>\n",
       "      <td>mitre-mobile-attack</td>\n",
       "      <td>Stealth Mango</td>\n",
       "      <td>[malware]</td>\n",
       "      <td>S0328</td>\n",
       "      <td>[Stealth Mango](https://attack.mitre.org/softw...</td>\n",
       "    </tr>\n",
       "    <tr>\n",
       "      <th>3</th>\n",
       "      <td>mitre-mobile-attack</td>\n",
       "      <td>RedDrop</td>\n",
       "      <td>[malware]</td>\n",
       "      <td>S0326</td>\n",
       "      <td>[RedDrop](https://attack.mitre.org/software/S0...</td>\n",
       "    </tr>\n",
       "    <tr>\n",
       "      <th>4</th>\n",
       "      <td>mitre-mobile-attack</td>\n",
       "      <td>Judy</td>\n",
       "      <td>[malware]</td>\n",
       "      <td>S0325</td>\n",
       "      <td>[Judy](https://attack.mitre.org/software/S0325...</td>\n",
       "    </tr>\n",
       "  </tbody>\n",
       "</table>\n",
       "</div>"
      ],
      "text/plain": [
       "                matrix       software software_labels software_id  \\\n",
       "0  mitre-mobile-attack      Allwinner       [malware]       S0319   \n",
       "1  mitre-mobile-attack        Marcher       [malware]       S0317   \n",
       "2  mitre-mobile-attack  Stealth Mango       [malware]       S0328   \n",
       "3  mitre-mobile-attack        RedDrop       [malware]       S0326   \n",
       "4  mitre-mobile-attack           Judy       [malware]       S0325   \n",
       "\n",
       "                                software_description  \n",
       "0  [Allwinner](https://attack.mitre.org/software/...  \n",
       "1  [Marcher](https://attack.mitre.org/software/S0...  \n",
       "2  [Stealth Mango](https://attack.mitre.org/softw...  \n",
       "3  [RedDrop](https://attack.mitre.org/software/S0...  \n",
       "4  [Judy](https://attack.mitre.org/software/S0325...  "
      ]
     },
     "execution_count": 41,
     "metadata": {},
     "output_type": "execute_result"
    }
   ],
   "source": [
    "print(\"Number of Malware in Mobile ATT&CK\")\n",
    "print(len(all_mobile['malware']))\n",
    "df = all_mobile['malware']\n",
    "df = json_normalize(df)\n",
    "df.reindex(['matrix', 'software', 'software_labels', 'software_id', 'software_description'], axis=1)[0:5]"
   ]
  },
  {
   "cell_type": "markdown",
   "metadata": {},
   "source": [
    "**Mobile Tools**"
   ]
  },
  {
   "cell_type": "code",
   "execution_count": 42,
   "metadata": {},
   "outputs": [
    {
     "name": "stdout",
     "output_type": "stream",
     "text": [
      "Number of Tools in Mobile ATT&CK\n",
      "1\n"
     ]
    },
    {
     "data": {
      "text/html": [
       "<div>\n",
       "<style scoped>\n",
       "    .dataframe tbody tr th:only-of-type {\n",
       "        vertical-align: middle;\n",
       "    }\n",
       "\n",
       "    .dataframe tbody tr th {\n",
       "        vertical-align: top;\n",
       "    }\n",
       "\n",
       "    .dataframe thead th {\n",
       "        text-align: right;\n",
       "    }\n",
       "</style>\n",
       "<table border=\"1\" class=\"dataframe\">\n",
       "  <thead>\n",
       "    <tr style=\"text-align: right;\">\n",
       "      <th></th>\n",
       "      <th>matrix</th>\n",
       "      <th>software</th>\n",
       "      <th>software_labels</th>\n",
       "      <th>software_id</th>\n",
       "      <th>software_description</th>\n",
       "    </tr>\n",
       "  </thead>\n",
       "  <tbody>\n",
       "    <tr>\n",
       "      <th>0</th>\n",
       "      <td>mitre-mobile-attack</td>\n",
       "      <td>Xbot</td>\n",
       "      <td>[tool]</td>\n",
       "      <td>S0298</td>\n",
       "      <td>[Xbot](https://attack.mitre.org/software/S0298...</td>\n",
       "    </tr>\n",
       "  </tbody>\n",
       "</table>\n",
       "</div>"
      ],
      "text/plain": [
       "                matrix software software_labels software_id  \\\n",
       "0  mitre-mobile-attack     Xbot          [tool]       S0298   \n",
       "\n",
       "                                software_description  \n",
       "0  [Xbot](https://attack.mitre.org/software/S0298...  "
      ]
     },
     "execution_count": 42,
     "metadata": {},
     "output_type": "execute_result"
    }
   ],
   "source": [
    "print(\"Number of Tools in Mobile ATT&CK\")\n",
    "print(len(all_mobile['tools']))\n",
    "df = all_mobile['tools']\n",
    "df = json_normalize(df)\n",
    "df.reindex(['matrix', 'software', 'software_labels', 'software_id', 'software_description'], axis=1)[0:5]"
   ]
  },
  {
   "cell_type": "markdown",
   "metadata": {},
   "source": [
    "**Mobile Relationships**"
   ]
  },
  {
   "cell_type": "code",
   "execution_count": 43,
   "metadata": {},
   "outputs": [
    {
     "name": "stdout",
     "output_type": "stream",
     "text": [
      "Number of Relationships in Mobile ATT&CK\n",
      "299\n"
     ]
    },
    {
     "data": {
      "text/html": [
       "<div>\n",
       "<style scoped>\n",
       "    .dataframe tbody tr th:only-of-type {\n",
       "        vertical-align: middle;\n",
       "    }\n",
       "\n",
       "    .dataframe tbody tr th {\n",
       "        vertical-align: top;\n",
       "    }\n",
       "\n",
       "    .dataframe thead th {\n",
       "        text-align: right;\n",
       "    }\n",
       "</style>\n",
       "<table border=\"1\" class=\"dataframe\">\n",
       "  <thead>\n",
       "    <tr style=\"text-align: right;\">\n",
       "      <th></th>\n",
       "      <th>object id</th>\n",
       "      <th>relationship</th>\n",
       "      <th>relationship_description</th>\n",
       "      <th>source_object</th>\n",
       "      <th>target_object</th>\n",
       "    </tr>\n",
       "  </thead>\n",
       "  <tbody>\n",
       "    <tr>\n",
       "      <th>0</th>\n",
       "      <td>NaN</td>\n",
       "      <td>revoked-by</td>\n",
       "      <td>None</td>\n",
       "      <td>attack-pattern--831e3269-da49-48ac-94dc-948008...</td>\n",
       "      <td>attack-pattern--d9db3d46-66ca-44b4-9daa-1ef97c...</td>\n",
       "    </tr>\n",
       "    <tr>\n",
       "      <th>1</th>\n",
       "      <td>NaN</td>\n",
       "      <td>uses</td>\n",
       "      <td>Most [KeyRaider](https://attack.mitre.org/soft...</td>\n",
       "      <td>malware--3bc1f0ad-ef11-4afc-83c0-fcffe08d4e50</td>\n",
       "      <td>attack-pattern--e2ea7f6b-8d4f-49c3-819d-660530...</td>\n",
       "    </tr>\n",
       "    <tr>\n",
       "      <th>2</th>\n",
       "      <td>NaN</td>\n",
       "      <td>uses</td>\n",
       "      <td>[Pegasus for Android](https://attack.mitre.org...</td>\n",
       "      <td>malware--93799a9d-3537-43d8-b6f4-17215de1657c</td>\n",
       "      <td>attack-pattern--d9db3d46-66ca-44b4-9daa-1ef97c...</td>\n",
       "    </tr>\n",
       "    <tr>\n",
       "      <th>3</th>\n",
       "      <td>NaN</td>\n",
       "      <td>uses</td>\n",
       "      <td>[RedDrop](https://attack.mitre.org/software/S0...</td>\n",
       "      <td>malware--9ed10b5a-ff20-467f-bf2f-d3fbf763e381</td>\n",
       "      <td>attack-pattern--6683aa0c-d98a-4f5b-ac57-ca7e99...</td>\n",
       "    </tr>\n",
       "    <tr>\n",
       "      <th>4</th>\n",
       "      <td>NaN</td>\n",
       "      <td>uses</td>\n",
       "      <td>[SpyDealer](https://attack.mitre.org/software/...</td>\n",
       "      <td>malware--86fc6f0c-86d9-473e-89f3-f50f3cb9319b</td>\n",
       "      <td>attack-pattern--b3c2e5de-0941-4b57-ba61-af029e...</td>\n",
       "    </tr>\n",
       "  </tbody>\n",
       "</table>\n",
       "</div>"
      ],
      "text/plain": [
       "   object id relationship                           relationship_description  \\\n",
       "0        NaN   revoked-by                                               None   \n",
       "1        NaN         uses  Most [KeyRaider](https://attack.mitre.org/soft...   \n",
       "2        NaN         uses  [Pegasus for Android](https://attack.mitre.org...   \n",
       "3        NaN         uses  [RedDrop](https://attack.mitre.org/software/S0...   \n",
       "4        NaN         uses  [SpyDealer](https://attack.mitre.org/software/...   \n",
       "\n",
       "                                       source_object  \\\n",
       "0  attack-pattern--831e3269-da49-48ac-94dc-948008...   \n",
       "1      malware--3bc1f0ad-ef11-4afc-83c0-fcffe08d4e50   \n",
       "2      malware--93799a9d-3537-43d8-b6f4-17215de1657c   \n",
       "3      malware--9ed10b5a-ff20-467f-bf2f-d3fbf763e381   \n",
       "4      malware--86fc6f0c-86d9-473e-89f3-f50f3cb9319b   \n",
       "\n",
       "                                       target_object  \n",
       "0  attack-pattern--d9db3d46-66ca-44b4-9daa-1ef97c...  \n",
       "1  attack-pattern--e2ea7f6b-8d4f-49c3-819d-660530...  \n",
       "2  attack-pattern--d9db3d46-66ca-44b4-9daa-1ef97c...  \n",
       "3  attack-pattern--6683aa0c-d98a-4f5b-ac57-ca7e99...  \n",
       "4  attack-pattern--b3c2e5de-0941-4b57-ba61-af029e...  "
      ]
     },
     "execution_count": 43,
     "metadata": {},
     "output_type": "execute_result"
    }
   ],
   "source": [
    "print(\"Number of Relationships in Mobile ATT&CK\")\n",
    "print(len(all_mobile['relationships']))\n",
    "df = all_mobile['relationships']\n",
    "df = json_normalize(df)\n",
    "df.reindex(['object id','relationship', 'relationship_description','source_object', 'target_object'], axis=1)[0:5]"
   ]
  },
  {
   "cell_type": "markdown",
   "metadata": {},
   "source": [
    "## **Get STIX Object Types Directly from TAXII Server (Enterprise ATT&CK, Pre-ATT&CK & Mobile ATT&CK)**\n",
    "* In this section, we will query the ATT&CK TAXII Server in order to collect specific stix object types such as techniques, mitigations, groups, malware, tools and relationships from the Enterprise, PRE and Mobile Matrices.\n",
    "* There is no need to get all the stix objects available per each matrix unlike the first section of this notebook."
   ]
  },
  {
   "cell_type": "markdown",
   "metadata": {},
   "source": [
    "### Get All Enterprise Techniques ONLY (TAXII)"
   ]
  },
  {
   "cell_type": "code",
   "execution_count": 44,
   "metadata": {},
   "outputs": [
    {
     "name": "stdout",
     "output_type": "stream",
     "text": [
      "Number of Techniques in Enterprise ATT&CK\n",
      "223\n"
     ]
    },
    {
     "data": {
      "text/html": [
       "<div>\n",
       "<style scoped>\n",
       "    .dataframe tbody tr th:only-of-type {\n",
       "        vertical-align: middle;\n",
       "    }\n",
       "\n",
       "    .dataframe tbody tr th {\n",
       "        vertical-align: top;\n",
       "    }\n",
       "\n",
       "    .dataframe thead th {\n",
       "        text-align: right;\n",
       "    }\n",
       "</style>\n",
       "<table border=\"1\" class=\"dataframe\">\n",
       "  <thead>\n",
       "    <tr style=\"text-align: right;\">\n",
       "      <th></th>\n",
       "      <th>matrix</th>\n",
       "      <th>tactic</th>\n",
       "      <th>technique</th>\n",
       "      <th>technique_id</th>\n",
       "      <th>data_sources</th>\n",
       "      <th>contributors</th>\n",
       "    </tr>\n",
       "  </thead>\n",
       "  <tbody>\n",
       "    <tr>\n",
       "      <th>0</th>\n",
       "      <td>mitre-attack</td>\n",
       "      <td>[defense-evasion]</td>\n",
       "      <td>File Permissions Modification</td>\n",
       "      <td>T1222</td>\n",
       "      <td>[File monitoring, Process monitoring, Process ...</td>\n",
       "      <td>[Jan Miller, CrowdStrike]</td>\n",
       "    </tr>\n",
       "    <tr>\n",
       "      <th>1</th>\n",
       "      <td>mitre-attack</td>\n",
       "      <td>[defense-evasion, execution]</td>\n",
       "      <td>XSL Script Processing</td>\n",
       "      <td>T1220</td>\n",
       "      <td>[Process monitoring, Process command-line para...</td>\n",
       "      <td>[Casey Smith, Praetorian]</td>\n",
       "    </tr>\n",
       "    <tr>\n",
       "      <th>2</th>\n",
       "      <td>mitre-attack</td>\n",
       "      <td>[defense-evasion, execution]</td>\n",
       "      <td>Compiled HTML File</td>\n",
       "      <td>T1223</td>\n",
       "      <td>[File monitoring, Process monitoring, Process ...</td>\n",
       "      <td>[Rahmat Nurfauzi, @infosecn1nja, PT Xynexis In...</td>\n",
       "    </tr>\n",
       "    <tr>\n",
       "      <th>3</th>\n",
       "      <td>mitre-attack</td>\n",
       "      <td>[defense-evasion]</td>\n",
       "      <td>Template Injection</td>\n",
       "      <td>T1221</td>\n",
       "      <td>[Anti-virus, Email gateway, Network intrusion ...</td>\n",
       "      <td>[Patrick Campbell, @pjcampbe11]</td>\n",
       "    </tr>\n",
       "    <tr>\n",
       "      <th>4</th>\n",
       "      <td>mitre-attack</td>\n",
       "      <td>[defense-evasion, persistence]</td>\n",
       "      <td>BITS Jobs</td>\n",
       "      <td>T1197</td>\n",
       "      <td>[API monitoring, Packet capture, Windows event...</td>\n",
       "      <td>[Ricardo Dias, Red Canary]</td>\n",
       "    </tr>\n",
       "  </tbody>\n",
       "</table>\n",
       "</div>"
      ],
      "text/plain": [
       "         matrix                          tactic  \\\n",
       "0  mitre-attack               [defense-evasion]   \n",
       "1  mitre-attack    [defense-evasion, execution]   \n",
       "2  mitre-attack    [defense-evasion, execution]   \n",
       "3  mitre-attack               [defense-evasion]   \n",
       "4  mitre-attack  [defense-evasion, persistence]   \n",
       "\n",
       "                       technique technique_id  \\\n",
       "0  File Permissions Modification        T1222   \n",
       "1          XSL Script Processing        T1220   \n",
       "2             Compiled HTML File        T1223   \n",
       "3             Template Injection        T1221   \n",
       "4                      BITS Jobs        T1197   \n",
       "\n",
       "                                        data_sources  \\\n",
       "0  [File monitoring, Process monitoring, Process ...   \n",
       "1  [Process monitoring, Process command-line para...   \n",
       "2  [File monitoring, Process monitoring, Process ...   \n",
       "3  [Anti-virus, Email gateway, Network intrusion ...   \n",
       "4  [API monitoring, Packet capture, Windows event...   \n",
       "\n",
       "                                        contributors  \n",
       "0                          [Jan Miller, CrowdStrike]  \n",
       "1                          [Casey Smith, Praetorian]  \n",
       "2  [Rahmat Nurfauzi, @infosecn1nja, PT Xynexis In...  \n",
       "3                    [Patrick Campbell, @pjcampbe11]  \n",
       "4                         [Ricardo Dias, Red Canary]  "
      ]
     },
     "execution_count": 44,
     "metadata": {},
     "output_type": "execute_result"
    }
   ],
   "source": [
    "print(\"Number of Techniques in Enterprise ATT&CK\")\n",
    "techniques = lift.get_all_enterprise_techniques()\n",
    "print(len(techniques))\n",
    "df = json_normalize(techniques)\n",
    "df.reindex(['matrix', 'tactic', 'technique', 'technique_id', 'data_sources','contributors'], axis=1)[0:5]"
   ]
  },
  {
   "cell_type": "markdown",
   "metadata": {},
   "source": [
    "### Get All PRE Techniques ONLY (TAXII)"
   ]
  },
  {
   "cell_type": "code",
   "execution_count": 45,
   "metadata": {},
   "outputs": [
    {
     "name": "stdout",
     "output_type": "stream",
     "text": [
      "Number of Techniques in PRE-ATT&CK\n",
      "174\n"
     ]
    },
    {
     "data": {
      "text/html": [
       "<div>\n",
       "<style scoped>\n",
       "    .dataframe tbody tr th:only-of-type {\n",
       "        vertical-align: middle;\n",
       "    }\n",
       "\n",
       "    .dataframe tbody tr th {\n",
       "        vertical-align: top;\n",
       "    }\n",
       "\n",
       "    .dataframe thead th {\n",
       "        text-align: right;\n",
       "    }\n",
       "</style>\n",
       "<table border=\"1\" class=\"dataframe\">\n",
       "  <thead>\n",
       "    <tr style=\"text-align: right;\">\n",
       "      <th></th>\n",
       "      <th>matrix</th>\n",
       "      <th>tactic</th>\n",
       "      <th>technique</th>\n",
       "      <th>technique_id</th>\n",
       "      <th>detectable_by_common_defenses</th>\n",
       "      <th>contributors</th>\n",
       "    </tr>\n",
       "  </thead>\n",
       "  <tbody>\n",
       "    <tr>\n",
       "      <th>0</th>\n",
       "      <td>mitre-pre-attack</td>\n",
       "      <td>[technical-information-gathering]</td>\n",
       "      <td>Spearphishing for Information</td>\n",
       "      <td>T1397</td>\n",
       "      <td>Partial</td>\n",
       "      <td>None</td>\n",
       "    </tr>\n",
       "    <tr>\n",
       "      <th>1</th>\n",
       "      <td>mitre-pre-attack</td>\n",
       "      <td>[establish-&amp;-maintain-infrastructure]</td>\n",
       "      <td>Acquire and/or use 3rd party infrastructure se...</td>\n",
       "      <td>T1329</td>\n",
       "      <td>No</td>\n",
       "      <td>None</td>\n",
       "    </tr>\n",
       "    <tr>\n",
       "      <th>2</th>\n",
       "      <td>mitre-pre-attack</td>\n",
       "      <td>[people-information-gathering]</td>\n",
       "      <td>Aggregate individual's digital footprint</td>\n",
       "      <td>T1275</td>\n",
       "      <td>No</td>\n",
       "      <td>None</td>\n",
       "    </tr>\n",
       "    <tr>\n",
       "      <th>3</th>\n",
       "      <td>mitre-pre-attack</td>\n",
       "      <td>[technical-weakness-identification]</td>\n",
       "      <td>Analyze hardware/software security defensive c...</td>\n",
       "      <td>T1294</td>\n",
       "      <td>No</td>\n",
       "      <td>None</td>\n",
       "    </tr>\n",
       "    <tr>\n",
       "      <th>4</th>\n",
       "      <td>mitre-pre-attack</td>\n",
       "      <td>[people-weakness-identification]</td>\n",
       "      <td>Analyze social and business relationships, int...</td>\n",
       "      <td>T1295</td>\n",
       "      <td>No</td>\n",
       "      <td>None</td>\n",
       "    </tr>\n",
       "  </tbody>\n",
       "</table>\n",
       "</div>"
      ],
      "text/plain": [
       "             matrix                                 tactic  \\\n",
       "0  mitre-pre-attack      [technical-information-gathering]   \n",
       "1  mitre-pre-attack  [establish-&-maintain-infrastructure]   \n",
       "2  mitre-pre-attack         [people-information-gathering]   \n",
       "3  mitre-pre-attack    [technical-weakness-identification]   \n",
       "4  mitre-pre-attack       [people-weakness-identification]   \n",
       "\n",
       "                                           technique technique_id  \\\n",
       "0                      Spearphishing for Information        T1397   \n",
       "1  Acquire and/or use 3rd party infrastructure se...        T1329   \n",
       "2           Aggregate individual's digital footprint        T1275   \n",
       "3  Analyze hardware/software security defensive c...        T1294   \n",
       "4  Analyze social and business relationships, int...        T1295   \n",
       "\n",
       "  detectable_by_common_defenses contributors  \n",
       "0                       Partial         None  \n",
       "1                            No         None  \n",
       "2                            No         None  \n",
       "3                            No         None  \n",
       "4                            No         None  "
      ]
     },
     "execution_count": 45,
     "metadata": {},
     "output_type": "execute_result"
    }
   ],
   "source": [
    "print(\"Number of Techniques in PRE-ATT&CK\")\n",
    "techniques = lift.get_all_pre_techniques()\n",
    "print(len(techniques))\n",
    "df = json_normalize(techniques)\n",
    "df.reindex(['matrix', 'tactic', 'technique', 'technique_id', 'detectable_by_common_defenses', 'contributors'], axis=1)[0:5]"
   ]
  },
  {
   "cell_type": "markdown",
   "metadata": {},
   "source": [
    "### Get All Mobile Techniques ONLY (TAXII)"
   ]
  },
  {
   "cell_type": "code",
   "execution_count": 46,
   "metadata": {},
   "outputs": [
    {
     "name": "stdout",
     "output_type": "stream",
     "text": [
      "Number of Techniques in Mobile ATT&CK\n",
      "81\n"
     ]
    },
    {
     "data": {
      "text/html": [
       "<div>\n",
       "<style scoped>\n",
       "    .dataframe tbody tr th:only-of-type {\n",
       "        vertical-align: middle;\n",
       "    }\n",
       "\n",
       "    .dataframe tbody tr th {\n",
       "        vertical-align: top;\n",
       "    }\n",
       "\n",
       "    .dataframe thead th {\n",
       "        text-align: right;\n",
       "    }\n",
       "</style>\n",
       "<table border=\"1\" class=\"dataframe\">\n",
       "  <thead>\n",
       "    <tr style=\"text-align: right;\">\n",
       "      <th></th>\n",
       "      <th>matrix</th>\n",
       "      <th>id</th>\n",
       "      <th>tactic</th>\n",
       "      <th>technique</th>\n",
       "      <th>tactic_type</th>\n",
       "      <th>contributors</th>\n",
       "    </tr>\n",
       "  </thead>\n",
       "  <tbody>\n",
       "    <tr>\n",
       "      <th>0</th>\n",
       "      <td>mitre-mobile-attack</td>\n",
       "      <td>attack-pattern--2d646840-f6f5-4619-a5a8-29c831...</td>\n",
       "      <td>[initial-access]</td>\n",
       "      <td>Exploit via Radio Interfaces</td>\n",
       "      <td>[Post-Adversary Device Access]</td>\n",
       "      <td>None</td>\n",
       "    </tr>\n",
       "    <tr>\n",
       "      <th>1</th>\n",
       "      <td>mitre-mobile-attack</td>\n",
       "      <td>attack-pattern--cde2cb84-455e-410c-8aa9-086f27...</td>\n",
       "      <td>[defense-evasion, initial-access]</td>\n",
       "      <td>Install Insecure or Malicious Configuration</td>\n",
       "      <td>[Post-Adversary Device Access]</td>\n",
       "      <td>None</td>\n",
       "    </tr>\n",
       "    <tr>\n",
       "      <th>2</th>\n",
       "      <td>mitre-mobile-attack</td>\n",
       "      <td>attack-pattern--0d95940f-9583-4e0f-824c-a42c1b...</td>\n",
       "      <td>[initial-access]</td>\n",
       "      <td>Supply Chain Compromise</td>\n",
       "      <td>[Post-Adversary Device Access]</td>\n",
       "      <td>None</td>\n",
       "    </tr>\n",
       "    <tr>\n",
       "      <th>3</th>\n",
       "      <td>mitre-mobile-attack</td>\n",
       "      <td>attack-pattern--53263a67-075e-48fa-974b-91c5b5...</td>\n",
       "      <td>[initial-access]</td>\n",
       "      <td>Deliver Malicious App via Other Means</td>\n",
       "      <td>[Post-Adversary Device Access]</td>\n",
       "      <td>None</td>\n",
       "    </tr>\n",
       "    <tr>\n",
       "      <th>4</th>\n",
       "      <td>mitre-mobile-attack</td>\n",
       "      <td>attack-pattern--d9db3d46-66ca-44b4-9daa-1ef97c...</td>\n",
       "      <td>[initial-access]</td>\n",
       "      <td>Deliver Malicious App via Authorized App Store</td>\n",
       "      <td>[Post-Adversary Device Access]</td>\n",
       "      <td>None</td>\n",
       "    </tr>\n",
       "  </tbody>\n",
       "</table>\n",
       "</div>"
      ],
      "text/plain": [
       "                matrix                                                 id  \\\n",
       "0  mitre-mobile-attack  attack-pattern--2d646840-f6f5-4619-a5a8-29c831...   \n",
       "1  mitre-mobile-attack  attack-pattern--cde2cb84-455e-410c-8aa9-086f27...   \n",
       "2  mitre-mobile-attack  attack-pattern--0d95940f-9583-4e0f-824c-a42c1b...   \n",
       "3  mitre-mobile-attack  attack-pattern--53263a67-075e-48fa-974b-91c5b5...   \n",
       "4  mitre-mobile-attack  attack-pattern--d9db3d46-66ca-44b4-9daa-1ef97c...   \n",
       "\n",
       "                              tactic  \\\n",
       "0                   [initial-access]   \n",
       "1  [defense-evasion, initial-access]   \n",
       "2                   [initial-access]   \n",
       "3                   [initial-access]   \n",
       "4                   [initial-access]   \n",
       "\n",
       "                                        technique  \\\n",
       "0                    Exploit via Radio Interfaces   \n",
       "1     Install Insecure or Malicious Configuration   \n",
       "2                         Supply Chain Compromise   \n",
       "3           Deliver Malicious App via Other Means   \n",
       "4  Deliver Malicious App via Authorized App Store   \n",
       "\n",
       "                      tactic_type contributors  \n",
       "0  [Post-Adversary Device Access]         None  \n",
       "1  [Post-Adversary Device Access]         None  \n",
       "2  [Post-Adversary Device Access]         None  \n",
       "3  [Post-Adversary Device Access]         None  \n",
       "4  [Post-Adversary Device Access]         None  "
      ]
     },
     "execution_count": 46,
     "metadata": {},
     "output_type": "execute_result"
    }
   ],
   "source": [
    "print(\"Number of Techniques in Mobile ATT&CK\")\n",
    "techniques = lift.get_all_mobile_techniques()\n",
    "print(len(techniques))\n",
    "df = json_normalize(techniques)\n",
    "df.reindex(['matrix', 'id','tactic', 'technique', 'tactic_type','contributors'], axis=1)[0:5]"
   ]
  },
  {
   "cell_type": "markdown",
   "metadata": {},
   "source": [
    "### Get All Techniques (TAXII)\n",
    "* The results of this function shows every single technique across the whole ATT&CK framework without their mitigations information\n",
    "* Mitigations information has its own stix object type (Mitigation) that needs to be correlated with the help of relationship properties\n",
    "* There is a function already created in this library named **get_all_techniques_with_mitigations()** that allows you to get a more complete view of techniques"
   ]
  },
  {
   "cell_type": "code",
   "execution_count": 47,
   "metadata": {},
   "outputs": [
    {
     "name": "stdout",
     "output_type": "stream",
     "text": [
      "Number of Techniques in ATT&CK\n",
      "478\n"
     ]
    },
    {
     "data": {
      "text/html": [
       "<div>\n",
       "<style scoped>\n",
       "    .dataframe tbody tr th:only-of-type {\n",
       "        vertical-align: middle;\n",
       "    }\n",
       "\n",
       "    .dataframe tbody tr th {\n",
       "        vertical-align: top;\n",
       "    }\n",
       "\n",
       "    .dataframe thead th {\n",
       "        text-align: right;\n",
       "    }\n",
       "</style>\n",
       "<table border=\"1\" class=\"dataframe\">\n",
       "  <thead>\n",
       "    <tr style=\"text-align: right;\">\n",
       "      <th></th>\n",
       "      <th>matrix</th>\n",
       "      <th>tactic</th>\n",
       "      <th>technique</th>\n",
       "      <th>technique_id</th>\n",
       "      <th>data_sources</th>\n",
       "    </tr>\n",
       "  </thead>\n",
       "  <tbody>\n",
       "    <tr>\n",
       "      <th>0</th>\n",
       "      <td>mitre-attack</td>\n",
       "      <td>[defense-evasion]</td>\n",
       "      <td>File Permissions Modification</td>\n",
       "      <td>T1222</td>\n",
       "      <td>[File monitoring, Process monitoring, Process ...</td>\n",
       "    </tr>\n",
       "    <tr>\n",
       "      <th>1</th>\n",
       "      <td>mitre-attack</td>\n",
       "      <td>[defense-evasion, execution]</td>\n",
       "      <td>XSL Script Processing</td>\n",
       "      <td>T1220</td>\n",
       "      <td>[Process monitoring, Process command-line para...</td>\n",
       "    </tr>\n",
       "    <tr>\n",
       "      <th>2</th>\n",
       "      <td>mitre-attack</td>\n",
       "      <td>[defense-evasion, execution]</td>\n",
       "      <td>Compiled HTML File</td>\n",
       "      <td>T1223</td>\n",
       "      <td>[File monitoring, Process monitoring, Process ...</td>\n",
       "    </tr>\n",
       "    <tr>\n",
       "      <th>3</th>\n",
       "      <td>mitre-attack</td>\n",
       "      <td>[defense-evasion]</td>\n",
       "      <td>Template Injection</td>\n",
       "      <td>T1221</td>\n",
       "      <td>[Anti-virus, Email gateway, Network intrusion ...</td>\n",
       "    </tr>\n",
       "    <tr>\n",
       "      <th>4</th>\n",
       "      <td>mitre-attack</td>\n",
       "      <td>[defense-evasion, persistence]</td>\n",
       "      <td>BITS Jobs</td>\n",
       "      <td>T1197</td>\n",
       "      <td>[API monitoring, Packet capture, Windows event...</td>\n",
       "    </tr>\n",
       "  </tbody>\n",
       "</table>\n",
       "</div>"
      ],
      "text/plain": [
       "         matrix                          tactic  \\\n",
       "0  mitre-attack               [defense-evasion]   \n",
       "1  mitre-attack    [defense-evasion, execution]   \n",
       "2  mitre-attack    [defense-evasion, execution]   \n",
       "3  mitre-attack               [defense-evasion]   \n",
       "4  mitre-attack  [defense-evasion, persistence]   \n",
       "\n",
       "                       technique technique_id  \\\n",
       "0  File Permissions Modification        T1222   \n",
       "1          XSL Script Processing        T1220   \n",
       "2             Compiled HTML File        T1223   \n",
       "3             Template Injection        T1221   \n",
       "4                      BITS Jobs        T1197   \n",
       "\n",
       "                                        data_sources  \n",
       "0  [File monitoring, Process monitoring, Process ...  \n",
       "1  [Process monitoring, Process command-line para...  \n",
       "2  [File monitoring, Process monitoring, Process ...  \n",
       "3  [Anti-virus, Email gateway, Network intrusion ...  \n",
       "4  [API monitoring, Packet capture, Windows event...  "
      ]
     },
     "execution_count": 47,
     "metadata": {},
     "output_type": "execute_result"
    }
   ],
   "source": [
    "print(\"Number of Techniques in ATT&CK\")\n",
    "techniques = lift.get_all_techniques()\n",
    "print(len(techniques))\n",
    "df = json_normalize(techniques)\n",
    "df.reindex(['matrix', 'tactic', 'technique', 'technique_id', 'data_sources'], axis=1)[0:5]"
   ]
  },
  {
   "cell_type": "markdown",
   "metadata": {},
   "source": [
    "### Get All Enterprise Mitigations ONLY (TAXII)"
   ]
  },
  {
   "cell_type": "code",
   "execution_count": 48,
   "metadata": {},
   "outputs": [
    {
     "name": "stdout",
     "output_type": "stream",
     "text": [
      "Number of Mitigations in Enterprise ATT&CK\n",
      "222\n"
     ]
    },
    {
     "data": {
      "text/html": [
       "<div>\n",
       "<style scoped>\n",
       "    .dataframe tbody tr th:only-of-type {\n",
       "        vertical-align: middle;\n",
       "    }\n",
       "\n",
       "    .dataframe tbody tr th {\n",
       "        vertical-align: top;\n",
       "    }\n",
       "\n",
       "    .dataframe thead th {\n",
       "        text-align: right;\n",
       "    }\n",
       "</style>\n",
       "<table border=\"1\" class=\"dataframe\">\n",
       "  <thead>\n",
       "    <tr style=\"text-align: right;\">\n",
       "      <th></th>\n",
       "      <th>matrix</th>\n",
       "      <th>mitigation</th>\n",
       "      <th>mitigation_description</th>\n",
       "      <th>url</th>\n",
       "    </tr>\n",
       "  </thead>\n",
       "  <tbody>\n",
       "    <tr>\n",
       "      <th>0</th>\n",
       "      <td>mitre-attack</td>\n",
       "      <td>Account Manipulation Mitigation</td>\n",
       "      <td>Use multifactor authentication. Follow guideli...</td>\n",
       "      <td>https://attack.mitre.org/techniques/T1098</td>\n",
       "    </tr>\n",
       "    <tr>\n",
       "      <th>1</th>\n",
       "      <td>mitre-attack</td>\n",
       "      <td>Application Shimming Mitigation</td>\n",
       "      <td>There currently aren't a lot of ways to mitiga...</td>\n",
       "      <td>https://attack.mitre.org/techniques/T1138</td>\n",
       "    </tr>\n",
       "    <tr>\n",
       "      <th>2</th>\n",
       "      <td>mitre-attack</td>\n",
       "      <td>Automated Exfiltration Mitigation</td>\n",
       "      <td>Identify unnecessary system utilities, scripts...</td>\n",
       "      <td>https://attack.mitre.org/techniques/T1020</td>\n",
       "    </tr>\n",
       "    <tr>\n",
       "      <th>3</th>\n",
       "      <td>mitre-attack</td>\n",
       "      <td>Browser Bookmark Discovery Mitigation</td>\n",
       "      <td>File system activity is a common part of an op...</td>\n",
       "      <td>https://attack.mitre.org/techniques/T1217</td>\n",
       "    </tr>\n",
       "    <tr>\n",
       "      <th>4</th>\n",
       "      <td>mitre-attack</td>\n",
       "      <td>Change Default File Association Mitigation</td>\n",
       "      <td>Direct mitigation of this technique is not rec...</td>\n",
       "      <td>https://attack.mitre.org/techniques/T1042</td>\n",
       "    </tr>\n",
       "  </tbody>\n",
       "</table>\n",
       "</div>"
      ],
      "text/plain": [
       "         matrix                                  mitigation  \\\n",
       "0  mitre-attack             Account Manipulation Mitigation   \n",
       "1  mitre-attack             Application Shimming Mitigation   \n",
       "2  mitre-attack           Automated Exfiltration Mitigation   \n",
       "3  mitre-attack       Browser Bookmark Discovery Mitigation   \n",
       "4  mitre-attack  Change Default File Association Mitigation   \n",
       "\n",
       "                              mitigation_description  \\\n",
       "0  Use multifactor authentication. Follow guideli...   \n",
       "1  There currently aren't a lot of ways to mitiga...   \n",
       "2  Identify unnecessary system utilities, scripts...   \n",
       "3  File system activity is a common part of an op...   \n",
       "4  Direct mitigation of this technique is not rec...   \n",
       "\n",
       "                                         url  \n",
       "0  https://attack.mitre.org/techniques/T1098  \n",
       "1  https://attack.mitre.org/techniques/T1138  \n",
       "2  https://attack.mitre.org/techniques/T1020  \n",
       "3  https://attack.mitre.org/techniques/T1217  \n",
       "4  https://attack.mitre.org/techniques/T1042  "
      ]
     },
     "execution_count": 48,
     "metadata": {},
     "output_type": "execute_result"
    }
   ],
   "source": [
    "print(\"Number of Mitigations in Enterprise ATT&CK\")\n",
    "mitigations = lift.get_all_enterprise_mitigations()\n",
    "print(len(mitigations))\n",
    "df = json_normalize(mitigations)\n",
    "df.reindex(['matrix', 'mitigation', 'mitigation_description', 'url'], axis=1)[0:5]"
   ]
  },
  {
   "cell_type": "markdown",
   "metadata": {},
   "source": [
    "### Get All Mobile Mitigations ONLY (TAXII)"
   ]
  },
  {
   "cell_type": "code",
   "execution_count": 49,
   "metadata": {},
   "outputs": [
    {
     "name": "stdout",
     "output_type": "stream",
     "text": [
      "Number of Mitigations in Mobile ATT&CK\n",
      "14\n"
     ]
    },
    {
     "data": {
      "text/html": [
       "<div>\n",
       "<style scoped>\n",
       "    .dataframe tbody tr th:only-of-type {\n",
       "        vertical-align: middle;\n",
       "    }\n",
       "\n",
       "    .dataframe tbody tr th {\n",
       "        vertical-align: top;\n",
       "    }\n",
       "\n",
       "    .dataframe thead th {\n",
       "        text-align: right;\n",
       "    }\n",
       "</style>\n",
       "<table border=\"1\" class=\"dataframe\">\n",
       "  <thead>\n",
       "    <tr style=\"text-align: right;\">\n",
       "      <th></th>\n",
       "      <th>matrix</th>\n",
       "      <th>mitigation</th>\n",
       "      <th>mitigation_description</th>\n",
       "      <th>url</th>\n",
       "    </tr>\n",
       "  </thead>\n",
       "  <tbody>\n",
       "    <tr>\n",
       "      <th>0</th>\n",
       "      <td>mitre-mobile-attack</td>\n",
       "      <td>Application Developer Guidance</td>\n",
       "      <td>This mitigation describes any guidance or trai...</td>\n",
       "      <td>https://attack.mitre.org/mitigations/M1013</td>\n",
       "    </tr>\n",
       "    <tr>\n",
       "      <th>1</th>\n",
       "      <td>mitre-mobile-attack</td>\n",
       "      <td>Enterprise Policy</td>\n",
       "      <td>An enterprise mobility management (EMM), also ...</td>\n",
       "      <td>https://attack.mitre.org/mitigations/M1012</td>\n",
       "    </tr>\n",
       "    <tr>\n",
       "      <th>2</th>\n",
       "      <td>mitre-mobile-attack</td>\n",
       "      <td>Attestation</td>\n",
       "      <td>Enable remote attestation capabilities when av...</td>\n",
       "      <td>https://attack.mitre.org/mitigations/M1002</td>\n",
       "    </tr>\n",
       "    <tr>\n",
       "      <th>3</th>\n",
       "      <td>mitre-mobile-attack</td>\n",
       "      <td>Deploy Compromised Device Detection Method</td>\n",
       "      <td>A variety of methods exist that can be used to...</td>\n",
       "      <td>https://attack.mitre.org/mitigations/M1010</td>\n",
       "    </tr>\n",
       "    <tr>\n",
       "      <th>4</th>\n",
       "      <td>mitre-mobile-attack</td>\n",
       "      <td>System Partition Integrity</td>\n",
       "      <td>Ensure that Android devices being used include...</td>\n",
       "      <td>https://attack.mitre.org/mitigations/M1004</td>\n",
       "    </tr>\n",
       "  </tbody>\n",
       "</table>\n",
       "</div>"
      ],
      "text/plain": [
       "                matrix                                  mitigation  \\\n",
       "0  mitre-mobile-attack              Application Developer Guidance   \n",
       "1  mitre-mobile-attack                           Enterprise Policy   \n",
       "2  mitre-mobile-attack                                 Attestation   \n",
       "3  mitre-mobile-attack  Deploy Compromised Device Detection Method   \n",
       "4  mitre-mobile-attack                  System Partition Integrity   \n",
       "\n",
       "                              mitigation_description  \\\n",
       "0  This mitigation describes any guidance or trai...   \n",
       "1  An enterprise mobility management (EMM), also ...   \n",
       "2  Enable remote attestation capabilities when av...   \n",
       "3  A variety of methods exist that can be used to...   \n",
       "4  Ensure that Android devices being used include...   \n",
       "\n",
       "                                          url  \n",
       "0  https://attack.mitre.org/mitigations/M1013  \n",
       "1  https://attack.mitre.org/mitigations/M1012  \n",
       "2  https://attack.mitre.org/mitigations/M1002  \n",
       "3  https://attack.mitre.org/mitigations/M1010  \n",
       "4  https://attack.mitre.org/mitigations/M1004  "
      ]
     },
     "execution_count": 49,
     "metadata": {},
     "output_type": "execute_result"
    }
   ],
   "source": [
    "print(\"Number of Mitigations in Mobile ATT&CK\")\n",
    "mitigations = lift.get_all_mobile_mitigations()\n",
    "print(len(mitigations))\n",
    "df = json_normalize(mitigations)\n",
    "df.reindex(['matrix', 'mitigation', 'mitigation_description', 'url'], axis=1)[0:5]"
   ]
  },
  {
   "cell_type": "markdown",
   "metadata": {},
   "source": [
    "### Get All Mitigations (TAXII)"
   ]
  },
  {
   "cell_type": "code",
   "execution_count": 50,
   "metadata": {},
   "outputs": [
    {
     "name": "stdout",
     "output_type": "stream",
     "text": [
      "Number of Mitigations in ATT&CK\n",
      "236\n"
     ]
    },
    {
     "data": {
      "text/html": [
       "<div>\n",
       "<style scoped>\n",
       "    .dataframe tbody tr th:only-of-type {\n",
       "        vertical-align: middle;\n",
       "    }\n",
       "\n",
       "    .dataframe tbody tr th {\n",
       "        vertical-align: top;\n",
       "    }\n",
       "\n",
       "    .dataframe thead th {\n",
       "        text-align: right;\n",
       "    }\n",
       "</style>\n",
       "<table border=\"1\" class=\"dataframe\">\n",
       "  <thead>\n",
       "    <tr style=\"text-align: right;\">\n",
       "      <th></th>\n",
       "      <th>matrix</th>\n",
       "      <th>mitigation</th>\n",
       "      <th>mitigation_description</th>\n",
       "      <th>url</th>\n",
       "    </tr>\n",
       "  </thead>\n",
       "  <tbody>\n",
       "    <tr>\n",
       "      <th>0</th>\n",
       "      <td>mitre-attack</td>\n",
       "      <td>Account Manipulation Mitigation</td>\n",
       "      <td>Use multifactor authentication. Follow guideli...</td>\n",
       "      <td>https://attack.mitre.org/techniques/T1098</td>\n",
       "    </tr>\n",
       "    <tr>\n",
       "      <th>1</th>\n",
       "      <td>mitre-attack</td>\n",
       "      <td>Application Shimming Mitigation</td>\n",
       "      <td>There currently aren't a lot of ways to mitiga...</td>\n",
       "      <td>https://attack.mitre.org/techniques/T1138</td>\n",
       "    </tr>\n",
       "    <tr>\n",
       "      <th>2</th>\n",
       "      <td>mitre-attack</td>\n",
       "      <td>Automated Exfiltration Mitigation</td>\n",
       "      <td>Identify unnecessary system utilities, scripts...</td>\n",
       "      <td>https://attack.mitre.org/techniques/T1020</td>\n",
       "    </tr>\n",
       "    <tr>\n",
       "      <th>3</th>\n",
       "      <td>mitre-attack</td>\n",
       "      <td>Browser Bookmark Discovery Mitigation</td>\n",
       "      <td>File system activity is a common part of an op...</td>\n",
       "      <td>https://attack.mitre.org/techniques/T1217</td>\n",
       "    </tr>\n",
       "    <tr>\n",
       "      <th>4</th>\n",
       "      <td>mitre-attack</td>\n",
       "      <td>Change Default File Association Mitigation</td>\n",
       "      <td>Direct mitigation of this technique is not rec...</td>\n",
       "      <td>https://attack.mitre.org/techniques/T1042</td>\n",
       "    </tr>\n",
       "  </tbody>\n",
       "</table>\n",
       "</div>"
      ],
      "text/plain": [
       "         matrix                                  mitigation  \\\n",
       "0  mitre-attack             Account Manipulation Mitigation   \n",
       "1  mitre-attack             Application Shimming Mitigation   \n",
       "2  mitre-attack           Automated Exfiltration Mitigation   \n",
       "3  mitre-attack       Browser Bookmark Discovery Mitigation   \n",
       "4  mitre-attack  Change Default File Association Mitigation   \n",
       "\n",
       "                              mitigation_description  \\\n",
       "0  Use multifactor authentication. Follow guideli...   \n",
       "1  There currently aren't a lot of ways to mitiga...   \n",
       "2  Identify unnecessary system utilities, scripts...   \n",
       "3  File system activity is a common part of an op...   \n",
       "4  Direct mitigation of this technique is not rec...   \n",
       "\n",
       "                                         url  \n",
       "0  https://attack.mitre.org/techniques/T1098  \n",
       "1  https://attack.mitre.org/techniques/T1138  \n",
       "2  https://attack.mitre.org/techniques/T1020  \n",
       "3  https://attack.mitre.org/techniques/T1217  \n",
       "4  https://attack.mitre.org/techniques/T1042  "
      ]
     },
     "execution_count": 50,
     "metadata": {},
     "output_type": "execute_result"
    }
   ],
   "source": [
    "print(\"Number of Mitigations in ATT&CK\")\n",
    "mitigations = lift.get_all_mitigations()\n",
    "print(len(mitigations))\n",
    "df = json_normalize(mitigations)\n",
    "df.reindex(['matrix', 'mitigation', 'mitigation_description', 'url'], axis=1)[0:5]"
   ]
  },
  {
   "cell_type": "markdown",
   "metadata": {},
   "source": [
    "### Get All Enterprise Groups ONLY (TAXII)"
   ]
  },
  {
   "cell_type": "code",
   "execution_count": 51,
   "metadata": {},
   "outputs": [
    {
     "name": "stdout",
     "output_type": "stream",
     "text": [
      "Number of Groups in Enterprise ATT&CK\n",
      "80\n"
     ]
    },
    {
     "data": {
      "text/html": [
       "<div>\n",
       "<style scoped>\n",
       "    .dataframe tbody tr th:only-of-type {\n",
       "        vertical-align: middle;\n",
       "    }\n",
       "\n",
       "    .dataframe tbody tr th {\n",
       "        vertical-align: top;\n",
       "    }\n",
       "\n",
       "    .dataframe thead th {\n",
       "        text-align: right;\n",
       "    }\n",
       "</style>\n",
       "<table border=\"1\" class=\"dataframe\">\n",
       "  <thead>\n",
       "    <tr style=\"text-align: right;\">\n",
       "      <th></th>\n",
       "      <th>matrix</th>\n",
       "      <th>group</th>\n",
       "      <th>group_aliases</th>\n",
       "      <th>group_id</th>\n",
       "      <th>group_description</th>\n",
       "    </tr>\n",
       "  </thead>\n",
       "  <tbody>\n",
       "    <tr>\n",
       "      <th>0</th>\n",
       "      <td>mitre-attack</td>\n",
       "      <td>Honeybee</td>\n",
       "      <td>[Honeybee]</td>\n",
       "      <td>G0072</td>\n",
       "      <td>[Honeybee](https://attack.mitre.org/groups/G00...</td>\n",
       "    </tr>\n",
       "    <tr>\n",
       "      <th>1</th>\n",
       "      <td>mitre-attack</td>\n",
       "      <td>Orangeworm</td>\n",
       "      <td>[Orangeworm]</td>\n",
       "      <td>G0071</td>\n",
       "      <td>[Orangeworm](https://attack.mitre.org/groups/G...</td>\n",
       "    </tr>\n",
       "    <tr>\n",
       "      <th>2</th>\n",
       "      <td>mitre-attack</td>\n",
       "      <td>APT19</td>\n",
       "      <td>[APT19, Codoso, C0d0so0, Codoso Team, Sunshop ...</td>\n",
       "      <td>G0073</td>\n",
       "      <td>[APT19](https://attack.mitre.org/groups/G0073)...</td>\n",
       "    </tr>\n",
       "    <tr>\n",
       "      <th>3</th>\n",
       "      <td>mitre-attack</td>\n",
       "      <td>Cobalt Group</td>\n",
       "      <td>[Cobalt Group, Cobalt Gang, Cobalt Spider]</td>\n",
       "      <td>G0080</td>\n",
       "      <td>[Cobalt Group](https://attack.mitre.org/groups...</td>\n",
       "    </tr>\n",
       "    <tr>\n",
       "      <th>4</th>\n",
       "      <td>mitre-attack</td>\n",
       "      <td>Thrip</td>\n",
       "      <td>[Thrip]</td>\n",
       "      <td>G0076</td>\n",
       "      <td>[Thrip](https://attack.mitre.org/groups/G0076)...</td>\n",
       "    </tr>\n",
       "  </tbody>\n",
       "</table>\n",
       "</div>"
      ],
      "text/plain": [
       "         matrix         group  \\\n",
       "0  mitre-attack      Honeybee   \n",
       "1  mitre-attack    Orangeworm   \n",
       "2  mitre-attack         APT19   \n",
       "3  mitre-attack  Cobalt Group   \n",
       "4  mitre-attack         Thrip   \n",
       "\n",
       "                                       group_aliases group_id  \\\n",
       "0                                         [Honeybee]    G0072   \n",
       "1                                       [Orangeworm]    G0071   \n",
       "2  [APT19, Codoso, C0d0so0, Codoso Team, Sunshop ...    G0073   \n",
       "3         [Cobalt Group, Cobalt Gang, Cobalt Spider]    G0080   \n",
       "4                                            [Thrip]    G0076   \n",
       "\n",
       "                                   group_description  \n",
       "0  [Honeybee](https://attack.mitre.org/groups/G00...  \n",
       "1  [Orangeworm](https://attack.mitre.org/groups/G...  \n",
       "2  [APT19](https://attack.mitre.org/groups/G0073)...  \n",
       "3  [Cobalt Group](https://attack.mitre.org/groups...  \n",
       "4  [Thrip](https://attack.mitre.org/groups/G0076)...  "
      ]
     },
     "execution_count": 51,
     "metadata": {},
     "output_type": "execute_result"
    }
   ],
   "source": [
    "print(\"Number of Groups in Enterprise ATT&CK\")\n",
    "groups = lift.get_all_enterprise_groups()\n",
    "print(len(groups))\n",
    "df = json_normalize(groups)\n",
    "df.reindex(['matrix', 'group', 'group_aliases', 'group_id', 'group_description'], axis=1)[0:5]"
   ]
  },
  {
   "cell_type": "markdown",
   "metadata": {},
   "source": [
    "### Get All PRE Groups ONLY (TAXII)"
   ]
  },
  {
   "cell_type": "code",
   "execution_count": 52,
   "metadata": {},
   "outputs": [
    {
     "name": "stdout",
     "output_type": "stream",
     "text": [
      "Number of Groups in PRE-ATT&CK\n",
      "6\n"
     ]
    },
    {
     "data": {
      "text/html": [
       "<div>\n",
       "<style scoped>\n",
       "    .dataframe tbody tr th:only-of-type {\n",
       "        vertical-align: middle;\n",
       "    }\n",
       "\n",
       "    .dataframe tbody tr th {\n",
       "        vertical-align: top;\n",
       "    }\n",
       "\n",
       "    .dataframe thead th {\n",
       "        text-align: right;\n",
       "    }\n",
       "</style>\n",
       "<table border=\"1\" class=\"dataframe\">\n",
       "  <thead>\n",
       "    <tr style=\"text-align: right;\">\n",
       "      <th></th>\n",
       "      <th>matrix</th>\n",
       "      <th>group</th>\n",
       "      <th>group_aliases</th>\n",
       "      <th>group_id</th>\n",
       "      <th>group_description</th>\n",
       "    </tr>\n",
       "  </thead>\n",
       "  <tbody>\n",
       "    <tr>\n",
       "      <th>0</th>\n",
       "      <td>mitre-attack</td>\n",
       "      <td>APT17</td>\n",
       "      <td>[APT17, Deputy Dog]</td>\n",
       "      <td>G0025</td>\n",
       "      <td>[APT17](https://attack.mitre.org/groups/G0025)...</td>\n",
       "    </tr>\n",
       "    <tr>\n",
       "      <th>1</th>\n",
       "      <td>mitre-attack</td>\n",
       "      <td>APT16</td>\n",
       "      <td>[APT16]</td>\n",
       "      <td>G0023</td>\n",
       "      <td>[APT16](https://attack.mitre.org/groups/G0023)...</td>\n",
       "    </tr>\n",
       "    <tr>\n",
       "      <th>2</th>\n",
       "      <td>mitre-attack</td>\n",
       "      <td>Night Dragon</td>\n",
       "      <td>[Night Dragon, Musical Chairs]</td>\n",
       "      <td>G0014</td>\n",
       "      <td>[Night Dragon](https://attack.mitre.org/groups...</td>\n",
       "    </tr>\n",
       "    <tr>\n",
       "      <th>3</th>\n",
       "      <td>mitre-attack</td>\n",
       "      <td>APT28</td>\n",
       "      <td>[APT28, Sednit, Sofacy, Pawn Storm, Fancy Bear...</td>\n",
       "      <td>G0007</td>\n",
       "      <td>[APT28](https://attack.mitre.org/groups/G0007)...</td>\n",
       "    </tr>\n",
       "    <tr>\n",
       "      <th>4</th>\n",
       "      <td>mitre-attack</td>\n",
       "      <td>APT1</td>\n",
       "      <td>[APT1, Comment Crew, Comment Group, Comment Pa...</td>\n",
       "      <td>G0006</td>\n",
       "      <td>[APT1](https://attack.mitre.org/groups/G0006) ...</td>\n",
       "    </tr>\n",
       "  </tbody>\n",
       "</table>\n",
       "</div>"
      ],
      "text/plain": [
       "         matrix         group  \\\n",
       "0  mitre-attack         APT17   \n",
       "1  mitre-attack         APT16   \n",
       "2  mitre-attack  Night Dragon   \n",
       "3  mitre-attack         APT28   \n",
       "4  mitre-attack          APT1   \n",
       "\n",
       "                                       group_aliases group_id  \\\n",
       "0                                [APT17, Deputy Dog]    G0025   \n",
       "1                                            [APT16]    G0023   \n",
       "2                     [Night Dragon, Musical Chairs]    G0014   \n",
       "3  [APT28, Sednit, Sofacy, Pawn Storm, Fancy Bear...    G0007   \n",
       "4  [APT1, Comment Crew, Comment Group, Comment Pa...    G0006   \n",
       "\n",
       "                                   group_description  \n",
       "0  [APT17](https://attack.mitre.org/groups/G0025)...  \n",
       "1  [APT16](https://attack.mitre.org/groups/G0023)...  \n",
       "2  [Night Dragon](https://attack.mitre.org/groups...  \n",
       "3  [APT28](https://attack.mitre.org/groups/G0007)...  \n",
       "4  [APT1](https://attack.mitre.org/groups/G0006) ...  "
      ]
     },
     "execution_count": 52,
     "metadata": {},
     "output_type": "execute_result"
    }
   ],
   "source": [
    "print(\"Number of Groups in PRE-ATT&CK\")\n",
    "groups = lift.get_all_pre_groups()\n",
    "print(len(groups))\n",
    "df = json_normalize(groups)\n",
    "df.reindex(['matrix', 'group', 'group_aliases', 'group_id', 'group_description'], axis=1)[0:5]"
   ]
  },
  {
   "cell_type": "markdown",
   "metadata": {},
   "source": [
    "### Get All Mobile Groups ONLY (TAXII)"
   ]
  },
  {
   "cell_type": "code",
   "execution_count": 53,
   "metadata": {},
   "outputs": [
    {
     "name": "stdout",
     "output_type": "stream",
     "text": [
      "Number of Groups in Mobile ATT&CK\n",
      "1\n"
     ]
    },
    {
     "data": {
      "text/html": [
       "<div>\n",
       "<style scoped>\n",
       "    .dataframe tbody tr th:only-of-type {\n",
       "        vertical-align: middle;\n",
       "    }\n",
       "\n",
       "    .dataframe tbody tr th {\n",
       "        vertical-align: top;\n",
       "    }\n",
       "\n",
       "    .dataframe thead th {\n",
       "        text-align: right;\n",
       "    }\n",
       "</style>\n",
       "<table border=\"1\" class=\"dataframe\">\n",
       "  <thead>\n",
       "    <tr style=\"text-align: right;\">\n",
       "      <th></th>\n",
       "      <th>matrix</th>\n",
       "      <th>group</th>\n",
       "      <th>group_aliases</th>\n",
       "      <th>group_id</th>\n",
       "      <th>group_description</th>\n",
       "    </tr>\n",
       "  </thead>\n",
       "  <tbody>\n",
       "    <tr>\n",
       "      <th>0</th>\n",
       "      <td>mitre-attack</td>\n",
       "      <td>APT28</td>\n",
       "      <td>[APT28, Sednit, Sofacy, Pawn Storm, Fancy Bear...</td>\n",
       "      <td>G0007</td>\n",
       "      <td>[APT28](https://attack.mitre.org/groups/G0007)...</td>\n",
       "    </tr>\n",
       "  </tbody>\n",
       "</table>\n",
       "</div>"
      ],
      "text/plain": [
       "         matrix  group                                      group_aliases  \\\n",
       "0  mitre-attack  APT28  [APT28, Sednit, Sofacy, Pawn Storm, Fancy Bear...   \n",
       "\n",
       "  group_id                                  group_description  \n",
       "0    G0007  [APT28](https://attack.mitre.org/groups/G0007)...  "
      ]
     },
     "execution_count": 53,
     "metadata": {},
     "output_type": "execute_result"
    }
   ],
   "source": [
    "print(\"Number of Groups in Mobile ATT&CK\")\n",
    "groups = lift.get_all_mobile_groups()\n",
    "print(len(groups))\n",
    "df = json_normalize(groups)\n",
    "df.reindex(['matrix', 'group', 'group_aliases', 'group_id', 'group_description'], axis=1)[0:5]"
   ]
  },
  {
   "cell_type": "markdown",
   "metadata": {},
   "source": [
    "### Get All Groups (TAXII)"
   ]
  },
  {
   "cell_type": "markdown",
   "metadata": {},
   "source": [
    "* This function gathers all groups defined in each Matrix (Enterprise, PRE & Mobile) and returns the unique ones\n",
    "  * This is because groups can be repeated across matrices"
   ]
  },
  {
   "cell_type": "code",
   "execution_count": 54,
   "metadata": {},
   "outputs": [
    {
     "name": "stdout",
     "output_type": "stream",
     "text": [
      "Number of Groups in ATT&CK\n",
      "80\n"
     ]
    },
    {
     "data": {
      "text/html": [
       "<div>\n",
       "<style scoped>\n",
       "    .dataframe tbody tr th:only-of-type {\n",
       "        vertical-align: middle;\n",
       "    }\n",
       "\n",
       "    .dataframe tbody tr th {\n",
       "        vertical-align: top;\n",
       "    }\n",
       "\n",
       "    .dataframe thead th {\n",
       "        text-align: right;\n",
       "    }\n",
       "</style>\n",
       "<table border=\"1\" class=\"dataframe\">\n",
       "  <thead>\n",
       "    <tr style=\"text-align: right;\">\n",
       "      <th></th>\n",
       "      <th>matrix</th>\n",
       "      <th>group</th>\n",
       "      <th>group_aliases</th>\n",
       "      <th>group_id</th>\n",
       "      <th>group_description</th>\n",
       "    </tr>\n",
       "  </thead>\n",
       "  <tbody>\n",
       "    <tr>\n",
       "      <th>0</th>\n",
       "      <td>mitre-attack</td>\n",
       "      <td>Honeybee</td>\n",
       "      <td>[Honeybee]</td>\n",
       "      <td>G0072</td>\n",
       "      <td>[Honeybee](https://attack.mitre.org/groups/G00...</td>\n",
       "    </tr>\n",
       "    <tr>\n",
       "      <th>1</th>\n",
       "      <td>mitre-attack</td>\n",
       "      <td>Orangeworm</td>\n",
       "      <td>[Orangeworm]</td>\n",
       "      <td>G0071</td>\n",
       "      <td>[Orangeworm](https://attack.mitre.org/groups/G...</td>\n",
       "    </tr>\n",
       "    <tr>\n",
       "      <th>2</th>\n",
       "      <td>mitre-attack</td>\n",
       "      <td>APT19</td>\n",
       "      <td>[APT19, Codoso, C0d0so0, Codoso Team, Sunshop ...</td>\n",
       "      <td>G0073</td>\n",
       "      <td>[APT19](https://attack.mitre.org/groups/G0073)...</td>\n",
       "    </tr>\n",
       "    <tr>\n",
       "      <th>3</th>\n",
       "      <td>mitre-attack</td>\n",
       "      <td>Cobalt Group</td>\n",
       "      <td>[Cobalt Group, Cobalt Gang, Cobalt Spider]</td>\n",
       "      <td>G0080</td>\n",
       "      <td>[Cobalt Group](https://attack.mitre.org/groups...</td>\n",
       "    </tr>\n",
       "    <tr>\n",
       "      <th>4</th>\n",
       "      <td>mitre-attack</td>\n",
       "      <td>Thrip</td>\n",
       "      <td>[Thrip]</td>\n",
       "      <td>G0076</td>\n",
       "      <td>[Thrip](https://attack.mitre.org/groups/G0076)...</td>\n",
       "    </tr>\n",
       "  </tbody>\n",
       "</table>\n",
       "</div>"
      ],
      "text/plain": [
       "         matrix         group  \\\n",
       "0  mitre-attack      Honeybee   \n",
       "1  mitre-attack    Orangeworm   \n",
       "2  mitre-attack         APT19   \n",
       "3  mitre-attack  Cobalt Group   \n",
       "4  mitre-attack         Thrip   \n",
       "\n",
       "                                       group_aliases group_id  \\\n",
       "0                                         [Honeybee]    G0072   \n",
       "1                                       [Orangeworm]    G0071   \n",
       "2  [APT19, Codoso, C0d0so0, Codoso Team, Sunshop ...    G0073   \n",
       "3         [Cobalt Group, Cobalt Gang, Cobalt Spider]    G0080   \n",
       "4                                            [Thrip]    G0076   \n",
       "\n",
       "                                   group_description  \n",
       "0  [Honeybee](https://attack.mitre.org/groups/G00...  \n",
       "1  [Orangeworm](https://attack.mitre.org/groups/G...  \n",
       "2  [APT19](https://attack.mitre.org/groups/G0073)...  \n",
       "3  [Cobalt Group](https://attack.mitre.org/groups...  \n",
       "4  [Thrip](https://attack.mitre.org/groups/G0076)...  "
      ]
     },
     "execution_count": 54,
     "metadata": {},
     "output_type": "execute_result"
    }
   ],
   "source": [
    "print(\"Number of Groups in ATT&CK\")\n",
    "groups = lift.get_all_groups()\n",
    "print(len(groups))\n",
    "df = json_normalize(groups)\n",
    "df.reindex(['matrix', 'group', 'group_aliases', 'group_id', 'group_description'], axis=1)[0:5]"
   ]
  },
  {
   "cell_type": "markdown",
   "metadata": {},
   "source": [
    "### Get All Enterprise & Mobile Software (Malware & Tools) (TAXII)"
   ]
  },
  {
   "cell_type": "code",
   "execution_count": 55,
   "metadata": {},
   "outputs": [
    {
     "name": "stdout",
     "output_type": "stream",
     "text": [
      "Number of Software in ATT&CK\n",
      "329\n"
     ]
    },
    {
     "data": {
      "text/html": [
       "<div>\n",
       "<style scoped>\n",
       "    .dataframe tbody tr th:only-of-type {\n",
       "        vertical-align: middle;\n",
       "    }\n",
       "\n",
       "    .dataframe tbody tr th {\n",
       "        vertical-align: top;\n",
       "    }\n",
       "\n",
       "    .dataframe thead th {\n",
       "        text-align: right;\n",
       "    }\n",
       "</style>\n",
       "<table border=\"1\" class=\"dataframe\">\n",
       "  <thead>\n",
       "    <tr style=\"text-align: right;\">\n",
       "      <th></th>\n",
       "      <th>matrix</th>\n",
       "      <th>software</th>\n",
       "      <th>software_labels</th>\n",
       "      <th>software_id</th>\n",
       "      <th>software_description</th>\n",
       "    </tr>\n",
       "  </thead>\n",
       "  <tbody>\n",
       "    <tr>\n",
       "      <th>0</th>\n",
       "      <td>mitre-attack</td>\n",
       "      <td>Koadic</td>\n",
       "      <td>[tool]</td>\n",
       "      <td>S0250</td>\n",
       "      <td>[Koadic](https://attack.mitre.org/software/S02...</td>\n",
       "    </tr>\n",
       "    <tr>\n",
       "      <th>1</th>\n",
       "      <td>mitre-attack</td>\n",
       "      <td>QuasarRAT</td>\n",
       "      <td>[tool]</td>\n",
       "      <td>S0262</td>\n",
       "      <td>[QuasarRAT](https://attack.mitre.org/software/...</td>\n",
       "    </tr>\n",
       "    <tr>\n",
       "      <th>2</th>\n",
       "      <td>mitre-attack</td>\n",
       "      <td>Invoke-PSImage</td>\n",
       "      <td>[tool]</td>\n",
       "      <td>S0231</td>\n",
       "      <td>[Invoke-PSImage](https://attack.mitre.org/soft...</td>\n",
       "    </tr>\n",
       "    <tr>\n",
       "      <th>3</th>\n",
       "      <td>mitre-attack</td>\n",
       "      <td>Pupy</td>\n",
       "      <td>[tool]</td>\n",
       "      <td>S0192</td>\n",
       "      <td>[Pupy](https://attack.mitre.org/software/S0192...</td>\n",
       "    </tr>\n",
       "    <tr>\n",
       "      <th>4</th>\n",
       "      <td>mitre-attack</td>\n",
       "      <td>Winexe</td>\n",
       "      <td>[tool]</td>\n",
       "      <td>S0191</td>\n",
       "      <td>[Winexe](https://attack.mitre.org/software/S01...</td>\n",
       "    </tr>\n",
       "  </tbody>\n",
       "</table>\n",
       "</div>"
      ],
      "text/plain": [
       "         matrix        software software_labels software_id  \\\n",
       "0  mitre-attack          Koadic          [tool]       S0250   \n",
       "1  mitre-attack       QuasarRAT          [tool]       S0262   \n",
       "2  mitre-attack  Invoke-PSImage          [tool]       S0231   \n",
       "3  mitre-attack            Pupy          [tool]       S0192   \n",
       "4  mitre-attack          Winexe          [tool]       S0191   \n",
       "\n",
       "                                software_description  \n",
       "0  [Koadic](https://attack.mitre.org/software/S02...  \n",
       "1  [QuasarRAT](https://attack.mitre.org/software/...  \n",
       "2  [Invoke-PSImage](https://attack.mitre.org/soft...  \n",
       "3  [Pupy](https://attack.mitre.org/software/S0192...  \n",
       "4  [Winexe](https://attack.mitre.org/software/S01...  "
      ]
     },
     "execution_count": 55,
     "metadata": {},
     "output_type": "execute_result"
    }
   ],
   "source": [
    "print(\"Number of Software in ATT&CK\")\n",
    "software = lift.get_all_software()\n",
    "print(len(software))\n",
    "df = json_normalize(software)\n",
    "df.reindex(['matrix', 'software', 'software_labels', 'software_id', 'software_description'], axis=1)[0:5]"
   ]
  },
  {
   "cell_type": "markdown",
   "metadata": {},
   "source": [
    "### Get All Enterprise Relationships ONLY (TAXII)"
   ]
  },
  {
   "cell_type": "code",
   "execution_count": 56,
   "metadata": {},
   "outputs": [
    {
     "name": "stdout",
     "output_type": "stream",
     "text": [
      "Number of Relationships in Enterprise ATT&CK\n",
      "3725\n"
     ]
    },
    {
     "data": {
      "text/html": [
       "<div>\n",
       "<style scoped>\n",
       "    .dataframe tbody tr th:only-of-type {\n",
       "        vertical-align: middle;\n",
       "    }\n",
       "\n",
       "    .dataframe tbody tr th {\n",
       "        vertical-align: top;\n",
       "    }\n",
       "\n",
       "    .dataframe thead th {\n",
       "        text-align: right;\n",
       "    }\n",
       "</style>\n",
       "<table border=\"1\" class=\"dataframe\">\n",
       "  <thead>\n",
       "    <tr style=\"text-align: right;\">\n",
       "      <th></th>\n",
       "      <th>id</th>\n",
       "      <th>relationship</th>\n",
       "      <th>relationship_description</th>\n",
       "      <th>source_object</th>\n",
       "      <th>target_object</th>\n",
       "    </tr>\n",
       "  </thead>\n",
       "  <tbody>\n",
       "    <tr>\n",
       "      <th>0</th>\n",
       "      <td>relationship--322703cc-c8f9-4046-8a61-e165a2d1...</td>\n",
       "      <td>uses</td>\n",
       "      <td>[APT19](https://attack.mitre.org/groups/G0073)...</td>\n",
       "      <td>intrusion-set--fe8796a4-2a02-41a0-9d27-7aa1e99...</td>\n",
       "      <td>attack-pattern--707399d6-ab3e-4963-9315-d9d381...</td>\n",
       "    </tr>\n",
       "    <tr>\n",
       "      <th>1</th>\n",
       "      <td>relationship--1ba59a68-1883-492d-8cd8-f22656eb...</td>\n",
       "      <td>uses</td>\n",
       "      <td>[APT28](https://attack.mitre.org/groups/G0007)...</td>\n",
       "      <td>intrusion-set--bef4c620-0787-42a8-a96d-b7eb6e8...</td>\n",
       "      <td>attack-pattern--1608f3e1-598a-42f4-a01a-2e252e...</td>\n",
       "    </tr>\n",
       "    <tr>\n",
       "      <th>2</th>\n",
       "      <td>relationship--40032198-f003-4171-92a0-faf038f6...</td>\n",
       "      <td>uses</td>\n",
       "      <td>[APT32](https://attack.mitre.org/groups/G0050)...</td>\n",
       "      <td>intrusion-set--247cb30b-955f-42eb-97a5-a89fef6...</td>\n",
       "      <td>attack-pattern--03d7999c-1f4c-42cc-8373-e7690d...</td>\n",
       "    </tr>\n",
       "    <tr>\n",
       "      <th>3</th>\n",
       "      <td>relationship--70d1a246-4ff2-452d-babf-ed47bccb...</td>\n",
       "      <td>uses</td>\n",
       "      <td>[Cobalt Group](https://attack.mitre.org/groups...</td>\n",
       "      <td>intrusion-set--dc6fe6ee-04c2-49be-ba3d-f38d246...</td>\n",
       "      <td>attack-pattern--f4882e23-8aa7-4b12-b28a-b349c1...</td>\n",
       "    </tr>\n",
       "    <tr>\n",
       "      <th>4</th>\n",
       "      <td>relationship--2db02b07-4dd3-4810-9103-1f8d7bd4...</td>\n",
       "      <td>uses</td>\n",
       "      <td>[DarkHydrus](https://attack.mitre.org/groups/G...</td>\n",
       "      <td>intrusion-set--6b9ebeb5-20bf-48b0-afb7-988d769...</td>\n",
       "      <td>attack-pattern--b77cf5f3-6060-475d-bd60-40ccbf...</td>\n",
       "    </tr>\n",
       "  </tbody>\n",
       "</table>\n",
       "</div>"
      ],
      "text/plain": [
       "                                                  id relationship  \\\n",
       "0  relationship--322703cc-c8f9-4046-8a61-e165a2d1...         uses   \n",
       "1  relationship--1ba59a68-1883-492d-8cd8-f22656eb...         uses   \n",
       "2  relationship--40032198-f003-4171-92a0-faf038f6...         uses   \n",
       "3  relationship--70d1a246-4ff2-452d-babf-ed47bccb...         uses   \n",
       "4  relationship--2db02b07-4dd3-4810-9103-1f8d7bd4...         uses   \n",
       "\n",
       "                            relationship_description  \\\n",
       "0  [APT19](https://attack.mitre.org/groups/G0073)...   \n",
       "1  [APT28](https://attack.mitre.org/groups/G0007)...   \n",
       "2  [APT32](https://attack.mitre.org/groups/G0050)...   \n",
       "3  [Cobalt Group](https://attack.mitre.org/groups...   \n",
       "4  [DarkHydrus](https://attack.mitre.org/groups/G...   \n",
       "\n",
       "                                       source_object  \\\n",
       "0  intrusion-set--fe8796a4-2a02-41a0-9d27-7aa1e99...   \n",
       "1  intrusion-set--bef4c620-0787-42a8-a96d-b7eb6e8...   \n",
       "2  intrusion-set--247cb30b-955f-42eb-97a5-a89fef6...   \n",
       "3  intrusion-set--dc6fe6ee-04c2-49be-ba3d-f38d246...   \n",
       "4  intrusion-set--6b9ebeb5-20bf-48b0-afb7-988d769...   \n",
       "\n",
       "                                       target_object  \n",
       "0  attack-pattern--707399d6-ab3e-4963-9315-d9d381...  \n",
       "1  attack-pattern--1608f3e1-598a-42f4-a01a-2e252e...  \n",
       "2  attack-pattern--03d7999c-1f4c-42cc-8373-e7690d...  \n",
       "3  attack-pattern--f4882e23-8aa7-4b12-b28a-b349c1...  \n",
       "4  attack-pattern--b77cf5f3-6060-475d-bd60-40ccbf...  "
      ]
     },
     "execution_count": 56,
     "metadata": {},
     "output_type": "execute_result"
    }
   ],
   "source": [
    "print(\"Number of Relationships in Enterprise ATT&CK\")\n",
    "relationships = lift.get_all_enterprise_relationships()\n",
    "print(len(relationships))\n",
    "df = json_normalize(relationships)\n",
    "df.reindex(['id','relationship', 'relationship_description', 'source_object', 'target_object'], axis=1)[0:5]"
   ]
  },
  {
   "cell_type": "markdown",
   "metadata": {},
   "source": [
    "### Get All PRE Relationships ONLY (TAXII)"
   ]
  },
  {
   "cell_type": "code",
   "execution_count": 57,
   "metadata": {},
   "outputs": [
    {
     "name": "stdout",
     "output_type": "stream",
     "text": [
      "Number of Relationships in PRE-ATT&CK\n",
      "68\n"
     ]
    },
    {
     "data": {
      "text/html": [
       "<div>\n",
       "<style scoped>\n",
       "    .dataframe tbody tr th:only-of-type {\n",
       "        vertical-align: middle;\n",
       "    }\n",
       "\n",
       "    .dataframe tbody tr th {\n",
       "        vertical-align: top;\n",
       "    }\n",
       "\n",
       "    .dataframe thead th {\n",
       "        text-align: right;\n",
       "    }\n",
       "</style>\n",
       "<table border=\"1\" class=\"dataframe\">\n",
       "  <thead>\n",
       "    <tr style=\"text-align: right;\">\n",
       "      <th></th>\n",
       "      <th>id</th>\n",
       "      <th>relationship</th>\n",
       "      <th>relationship_description</th>\n",
       "      <th>source_object</th>\n",
       "      <th>target_object</th>\n",
       "    </tr>\n",
       "  </thead>\n",
       "  <tbody>\n",
       "    <tr>\n",
       "      <th>0</th>\n",
       "      <td>relationship--6ba71250-1dc7-4b8d-88e7-698440ea...</td>\n",
       "      <td>related-to</td>\n",
       "      <td>None</td>\n",
       "      <td>attack-pattern--028ad431-84c5-4eb7-a364-2b797c...</td>\n",
       "      <td>attack-pattern--2b9a666e-bd59-4f67-9031-ed41b4...</td>\n",
       "    </tr>\n",
       "    <tr>\n",
       "      <th>1</th>\n",
       "      <td>relationship--ad510f42-e745-42d0-8b54-4bf7a2f3...</td>\n",
       "      <td>related-to</td>\n",
       "      <td>None</td>\n",
       "      <td>attack-pattern--af358cad-eb71-4e91-a752-236edc...</td>\n",
       "      <td>attack-pattern--74a3288e-eee9-4f8e-973a-fbc128...</td>\n",
       "    </tr>\n",
       "    <tr>\n",
       "      <th>2</th>\n",
       "      <td>relationship--cc22ab71-f2fc-4885-832b-e75dadee...</td>\n",
       "      <td>uses</td>\n",
       "      <td>[APT1](https://attack.mitre.org/groups/G0006) ...</td>\n",
       "      <td>intrusion-set--6a2e693f-24e5-451a-9f88-b36a108...</td>\n",
       "      <td>attack-pattern--4900fabf-1142-4c1f-92f5-0b590e...</td>\n",
       "    </tr>\n",
       "    <tr>\n",
       "      <th>3</th>\n",
       "      <td>relationship--5dc0b076-5f25-4bda-83c7-1d8bd214...</td>\n",
       "      <td>related-to</td>\n",
       "      <td>None</td>\n",
       "      <td>attack-pattern--286cc500-4291-45c2-99a1-e760db...</td>\n",
       "      <td>attack-pattern--795c1a92-3a26-453e-b99a-6a566a...</td>\n",
       "    </tr>\n",
       "    <tr>\n",
       "      <th>4</th>\n",
       "      <td>relationship--87239038-7693-49b3-b595-b828cc2b...</td>\n",
       "      <td>related-to</td>\n",
       "      <td>None</td>\n",
       "      <td>attack-pattern--103d72e6-7e0d-4b3a-9373-c38567...</td>\n",
       "      <td>attack-pattern--eacd1efe-ee30-4b03-b58f-5b3b1a...</td>\n",
       "    </tr>\n",
       "  </tbody>\n",
       "</table>\n",
       "</div>"
      ],
      "text/plain": [
       "                                                  id relationship  \\\n",
       "0  relationship--6ba71250-1dc7-4b8d-88e7-698440ea...   related-to   \n",
       "1  relationship--ad510f42-e745-42d0-8b54-4bf7a2f3...   related-to   \n",
       "2  relationship--cc22ab71-f2fc-4885-832b-e75dadee...         uses   \n",
       "3  relationship--5dc0b076-5f25-4bda-83c7-1d8bd214...   related-to   \n",
       "4  relationship--87239038-7693-49b3-b595-b828cc2b...   related-to   \n",
       "\n",
       "                            relationship_description  \\\n",
       "0                                               None   \n",
       "1                                               None   \n",
       "2  [APT1](https://attack.mitre.org/groups/G0006) ...   \n",
       "3                                               None   \n",
       "4                                               None   \n",
       "\n",
       "                                       source_object  \\\n",
       "0  attack-pattern--028ad431-84c5-4eb7-a364-2b797c...   \n",
       "1  attack-pattern--af358cad-eb71-4e91-a752-236edc...   \n",
       "2  intrusion-set--6a2e693f-24e5-451a-9f88-b36a108...   \n",
       "3  attack-pattern--286cc500-4291-45c2-99a1-e760db...   \n",
       "4  attack-pattern--103d72e6-7e0d-4b3a-9373-c38567...   \n",
       "\n",
       "                                       target_object  \n",
       "0  attack-pattern--2b9a666e-bd59-4f67-9031-ed41b4...  \n",
       "1  attack-pattern--74a3288e-eee9-4f8e-973a-fbc128...  \n",
       "2  attack-pattern--4900fabf-1142-4c1f-92f5-0b590e...  \n",
       "3  attack-pattern--795c1a92-3a26-453e-b99a-6a566a...  \n",
       "4  attack-pattern--eacd1efe-ee30-4b03-b58f-5b3b1a...  "
      ]
     },
     "execution_count": 57,
     "metadata": {},
     "output_type": "execute_result"
    }
   ],
   "source": [
    "print(\"Number of Relationships in PRE-ATT&CK\")\n",
    "relationships = lift.get_all_pre_relationships()\n",
    "print(len(relationships))\n",
    "df = json_normalize(relationships)\n",
    "df.reindex(['id','relationship', 'relationship_description', 'source_object', 'target_object'], axis=1)[0:5]"
   ]
  },
  {
   "cell_type": "markdown",
   "metadata": {},
   "source": [
    "### Get All Mobile Relationships ONLY (TAXII)"
   ]
  },
  {
   "cell_type": "code",
   "execution_count": 58,
   "metadata": {},
   "outputs": [
    {
     "name": "stdout",
     "output_type": "stream",
     "text": [
      "Number of Relationships in Mobile ATT&CK\n",
      "299\n"
     ]
    },
    {
     "data": {
      "text/html": [
       "<div>\n",
       "<style scoped>\n",
       "    .dataframe tbody tr th:only-of-type {\n",
       "        vertical-align: middle;\n",
       "    }\n",
       "\n",
       "    .dataframe tbody tr th {\n",
       "        vertical-align: top;\n",
       "    }\n",
       "\n",
       "    .dataframe thead th {\n",
       "        text-align: right;\n",
       "    }\n",
       "</style>\n",
       "<table border=\"1\" class=\"dataframe\">\n",
       "  <thead>\n",
       "    <tr style=\"text-align: right;\">\n",
       "      <th></th>\n",
       "      <th>id</th>\n",
       "      <th>relationship</th>\n",
       "      <th>relationship_description</th>\n",
       "      <th>source_object</th>\n",
       "      <th>target_object</th>\n",
       "    </tr>\n",
       "  </thead>\n",
       "  <tbody>\n",
       "    <tr>\n",
       "      <th>0</th>\n",
       "      <td>relationship--c53170a0-ca7f-4827-9c3c-1803ecd1...</td>\n",
       "      <td>revoked-by</td>\n",
       "      <td>None</td>\n",
       "      <td>attack-pattern--831e3269-da49-48ac-94dc-948008...</td>\n",
       "      <td>attack-pattern--d9db3d46-66ca-44b4-9daa-1ef97c...</td>\n",
       "    </tr>\n",
       "    <tr>\n",
       "      <th>1</th>\n",
       "      <td>relationship--05563777-5771-4bd6-a1af-3e244cf4...</td>\n",
       "      <td>uses</td>\n",
       "      <td>Most [KeyRaider](https://attack.mitre.org/soft...</td>\n",
       "      <td>malware--3bc1f0ad-ef11-4afc-83c0-fcffe08d4e50</td>\n",
       "      <td>attack-pattern--e2ea7f6b-8d4f-49c3-819d-660530...</td>\n",
       "    </tr>\n",
       "    <tr>\n",
       "      <th>2</th>\n",
       "      <td>relationship--93103ac2-0e3b-4f0f-a054-7f9b947b...</td>\n",
       "      <td>uses</td>\n",
       "      <td>[Pegasus for Android](https://attack.mitre.org...</td>\n",
       "      <td>malware--93799a9d-3537-43d8-b6f4-17215de1657c</td>\n",
       "      <td>attack-pattern--d9db3d46-66ca-44b4-9daa-1ef97c...</td>\n",
       "    </tr>\n",
       "    <tr>\n",
       "      <th>3</th>\n",
       "      <td>relationship--ffddcabb-0f03-46ae-abd6-7ab94e91...</td>\n",
       "      <td>uses</td>\n",
       "      <td>[RedDrop](https://attack.mitre.org/software/S0...</td>\n",
       "      <td>malware--9ed10b5a-ff20-467f-bf2f-d3fbf763e381</td>\n",
       "      <td>attack-pattern--6683aa0c-d98a-4f5b-ac57-ca7e99...</td>\n",
       "    </tr>\n",
       "    <tr>\n",
       "      <th>4</th>\n",
       "      <td>relationship--935fd3e3-dd47-4c43-bdd8-1668af26...</td>\n",
       "      <td>uses</td>\n",
       "      <td>[SpyDealer](https://attack.mitre.org/software/...</td>\n",
       "      <td>malware--86fc6f0c-86d9-473e-89f3-f50f3cb9319b</td>\n",
       "      <td>attack-pattern--b3c2e5de-0941-4b57-ba61-af029e...</td>\n",
       "    </tr>\n",
       "  </tbody>\n",
       "</table>\n",
       "</div>"
      ],
      "text/plain": [
       "                                                  id relationship  \\\n",
       "0  relationship--c53170a0-ca7f-4827-9c3c-1803ecd1...   revoked-by   \n",
       "1  relationship--05563777-5771-4bd6-a1af-3e244cf4...         uses   \n",
       "2  relationship--93103ac2-0e3b-4f0f-a054-7f9b947b...         uses   \n",
       "3  relationship--ffddcabb-0f03-46ae-abd6-7ab94e91...         uses   \n",
       "4  relationship--935fd3e3-dd47-4c43-bdd8-1668af26...         uses   \n",
       "\n",
       "                            relationship_description  \\\n",
       "0                                               None   \n",
       "1  Most [KeyRaider](https://attack.mitre.org/soft...   \n",
       "2  [Pegasus for Android](https://attack.mitre.org...   \n",
       "3  [RedDrop](https://attack.mitre.org/software/S0...   \n",
       "4  [SpyDealer](https://attack.mitre.org/software/...   \n",
       "\n",
       "                                       source_object  \\\n",
       "0  attack-pattern--831e3269-da49-48ac-94dc-948008...   \n",
       "1      malware--3bc1f0ad-ef11-4afc-83c0-fcffe08d4e50   \n",
       "2      malware--93799a9d-3537-43d8-b6f4-17215de1657c   \n",
       "3      malware--9ed10b5a-ff20-467f-bf2f-d3fbf763e381   \n",
       "4      malware--86fc6f0c-86d9-473e-89f3-f50f3cb9319b   \n",
       "\n",
       "                                       target_object  \n",
       "0  attack-pattern--d9db3d46-66ca-44b4-9daa-1ef97c...  \n",
       "1  attack-pattern--e2ea7f6b-8d4f-49c3-819d-660530...  \n",
       "2  attack-pattern--d9db3d46-66ca-44b4-9daa-1ef97c...  \n",
       "3  attack-pattern--6683aa0c-d98a-4f5b-ac57-ca7e99...  \n",
       "4  attack-pattern--b3c2e5de-0941-4b57-ba61-af029e...  "
      ]
     },
     "execution_count": 58,
     "metadata": {},
     "output_type": "execute_result"
    }
   ],
   "source": [
    "print(\"Number of Relationships in Mobile ATT&CK\")\n",
    "relationships = lift.get_all_mobile_relationships()\n",
    "print(len(relationships))\n",
    "df = json_normalize(relationships)\n",
    "df.reindex(['id','relationship', 'relationship_description', 'source_object', 'target_object'], axis=1)[0:5]"
   ]
  },
  {
   "cell_type": "markdown",
   "metadata": {},
   "source": [
    "### Get All Relationships (TAXII)"
   ]
  },
  {
   "cell_type": "code",
   "execution_count": 59,
   "metadata": {},
   "outputs": [
    {
     "name": "stdout",
     "output_type": "stream",
     "text": [
      "Number of Relationships in ATT&CK\n",
      "4092\n"
     ]
    },
    {
     "data": {
      "text/html": [
       "<div>\n",
       "<style scoped>\n",
       "    .dataframe tbody tr th:only-of-type {\n",
       "        vertical-align: middle;\n",
       "    }\n",
       "\n",
       "    .dataframe tbody tr th {\n",
       "        vertical-align: top;\n",
       "    }\n",
       "\n",
       "    .dataframe thead th {\n",
       "        text-align: right;\n",
       "    }\n",
       "</style>\n",
       "<table border=\"1\" class=\"dataframe\">\n",
       "  <thead>\n",
       "    <tr style=\"text-align: right;\">\n",
       "      <th></th>\n",
       "      <th>id</th>\n",
       "      <th>relationship</th>\n",
       "      <th>relationship_description</th>\n",
       "      <th>source_object</th>\n",
       "      <th>target_object</th>\n",
       "    </tr>\n",
       "  </thead>\n",
       "  <tbody>\n",
       "    <tr>\n",
       "      <th>0</th>\n",
       "      <td>relationship--322703cc-c8f9-4046-8a61-e165a2d1...</td>\n",
       "      <td>uses</td>\n",
       "      <td>[APT19](https://attack.mitre.org/groups/G0073)...</td>\n",
       "      <td>intrusion-set--fe8796a4-2a02-41a0-9d27-7aa1e99...</td>\n",
       "      <td>attack-pattern--707399d6-ab3e-4963-9315-d9d381...</td>\n",
       "    </tr>\n",
       "    <tr>\n",
       "      <th>1</th>\n",
       "      <td>relationship--1ba59a68-1883-492d-8cd8-f22656eb...</td>\n",
       "      <td>uses</td>\n",
       "      <td>[APT28](https://attack.mitre.org/groups/G0007)...</td>\n",
       "      <td>intrusion-set--bef4c620-0787-42a8-a96d-b7eb6e8...</td>\n",
       "      <td>attack-pattern--1608f3e1-598a-42f4-a01a-2e252e...</td>\n",
       "    </tr>\n",
       "    <tr>\n",
       "      <th>2</th>\n",
       "      <td>relationship--40032198-f003-4171-92a0-faf038f6...</td>\n",
       "      <td>uses</td>\n",
       "      <td>[APT32](https://attack.mitre.org/groups/G0050)...</td>\n",
       "      <td>intrusion-set--247cb30b-955f-42eb-97a5-a89fef6...</td>\n",
       "      <td>attack-pattern--03d7999c-1f4c-42cc-8373-e7690d...</td>\n",
       "    </tr>\n",
       "    <tr>\n",
       "      <th>3</th>\n",
       "      <td>relationship--70d1a246-4ff2-452d-babf-ed47bccb...</td>\n",
       "      <td>uses</td>\n",
       "      <td>[Cobalt Group](https://attack.mitre.org/groups...</td>\n",
       "      <td>intrusion-set--dc6fe6ee-04c2-49be-ba3d-f38d246...</td>\n",
       "      <td>attack-pattern--f4882e23-8aa7-4b12-b28a-b349c1...</td>\n",
       "    </tr>\n",
       "    <tr>\n",
       "      <th>4</th>\n",
       "      <td>relationship--2db02b07-4dd3-4810-9103-1f8d7bd4...</td>\n",
       "      <td>uses</td>\n",
       "      <td>[DarkHydrus](https://attack.mitre.org/groups/G...</td>\n",
       "      <td>intrusion-set--6b9ebeb5-20bf-48b0-afb7-988d769...</td>\n",
       "      <td>attack-pattern--b77cf5f3-6060-475d-bd60-40ccbf...</td>\n",
       "    </tr>\n",
       "  </tbody>\n",
       "</table>\n",
       "</div>"
      ],
      "text/plain": [
       "                                                  id relationship  \\\n",
       "0  relationship--322703cc-c8f9-4046-8a61-e165a2d1...         uses   \n",
       "1  relationship--1ba59a68-1883-492d-8cd8-f22656eb...         uses   \n",
       "2  relationship--40032198-f003-4171-92a0-faf038f6...         uses   \n",
       "3  relationship--70d1a246-4ff2-452d-babf-ed47bccb...         uses   \n",
       "4  relationship--2db02b07-4dd3-4810-9103-1f8d7bd4...         uses   \n",
       "\n",
       "                            relationship_description  \\\n",
       "0  [APT19](https://attack.mitre.org/groups/G0073)...   \n",
       "1  [APT28](https://attack.mitre.org/groups/G0007)...   \n",
       "2  [APT32](https://attack.mitre.org/groups/G0050)...   \n",
       "3  [Cobalt Group](https://attack.mitre.org/groups...   \n",
       "4  [DarkHydrus](https://attack.mitre.org/groups/G...   \n",
       "\n",
       "                                       source_object  \\\n",
       "0  intrusion-set--fe8796a4-2a02-41a0-9d27-7aa1e99...   \n",
       "1  intrusion-set--bef4c620-0787-42a8-a96d-b7eb6e8...   \n",
       "2  intrusion-set--247cb30b-955f-42eb-97a5-a89fef6...   \n",
       "3  intrusion-set--dc6fe6ee-04c2-49be-ba3d-f38d246...   \n",
       "4  intrusion-set--6b9ebeb5-20bf-48b0-afb7-988d769...   \n",
       "\n",
       "                                       target_object  \n",
       "0  attack-pattern--707399d6-ab3e-4963-9315-d9d381...  \n",
       "1  attack-pattern--1608f3e1-598a-42f4-a01a-2e252e...  \n",
       "2  attack-pattern--03d7999c-1f4c-42cc-8373-e7690d...  \n",
       "3  attack-pattern--f4882e23-8aa7-4b12-b28a-b349c1...  \n",
       "4  attack-pattern--b77cf5f3-6060-475d-bd60-40ccbf...  "
      ]
     },
     "execution_count": 59,
     "metadata": {},
     "output_type": "execute_result"
    }
   ],
   "source": [
    "print(\"Number of Relationships in ATT&CK\")\n",
    "relationships = lift.get_all_relationships()\n",
    "print(len(relationships))\n",
    "df = json_normalize(relationships)\n",
    "df.reindex(['id','relationship', 'relationship_description', 'source_object', 'target_object'], axis=1)[0:5]"
   ]
  },
  {
   "cell_type": "code",
   "execution_count": null,
   "metadata": {
    "collapsed": true
   },
   "outputs": [],
   "source": []
  }
 ],
 "metadata": {
  "kernelspec": {
   "display_name": "Python 3",
   "language": "python",
   "name": "python3"
  },
  "language_info": {
   "codemirror_mode": {
    "name": "ipython",
    "version": 3
   },
   "file_extension": ".py",
   "mimetype": "text/x-python",
   "name": "python",
   "nbconvert_exporter": "python",
   "pygments_lexer": "ipython3",
   "version": "3.6.5"
  }
 },
 "nbformat": 4,
 "nbformat_minor": 2
}
