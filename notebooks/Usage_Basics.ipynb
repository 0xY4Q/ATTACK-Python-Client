{
 "cells": [
  {
   "cell_type": "markdown",
   "metadata": {},
   "source": [
    "# **MITRE ATT&CK API BASICS**: Python Client\n",
    "------------------"
   ]
  },
  {
   "cell_type": "markdown",
   "metadata": {},
   "source": [
    "## Import ATTACK API Client"
   ]
  },
  {
   "cell_type": "code",
   "execution_count": 1,
   "metadata": {
    "collapsed": true
   },
   "outputs": [],
   "source": [
    "from attackcti import attack_client"
   ]
  },
  {
   "cell_type": "markdown",
   "metadata": {},
   "source": [
    "## Import Extra Libraries"
   ]
  },
  {
   "cell_type": "code",
   "execution_count": 2,
   "metadata": {
    "collapsed": true
   },
   "outputs": [],
   "source": [
    "from pandas import *\n",
    "from pandas.io.json import json_normalize"
   ]
  },
  {
   "cell_type": "code",
   "execution_count": 3,
   "metadata": {},
   "outputs": [
    {
     "data": {
      "text/plain": [
       "'0.24.1'"
      ]
     },
     "execution_count": 3,
     "metadata": {},
     "output_type": "execute_result"
    }
   ],
   "source": [
    "pandas.__version__"
   ]
  },
  {
   "cell_type": "markdown",
   "metadata": {},
   "source": [
    "## Initialize ATT&CK Client Variable"
   ]
  },
  {
   "cell_type": "code",
   "execution_count": 4,
   "metadata": {
    "collapsed": true
   },
   "outputs": [],
   "source": [
    "lift = attack_client()"
   ]
  },
  {
   "cell_type": "markdown",
   "metadata": {},
   "source": [
    "## **Collect ALL (Enterprise ATT&CK, Pre-ATT&CK & Mobile ATT&CK)**\n",
    "* I usually collect all the stix object types available from all the ATT&CK Matrices first when I want to analyze ATT&CK's data.\n",
    "* In this section, we will collect everything from Enterprise ATT&CK, PRE-ATT&CK and Mobile ATT&CK via three functions that query ATT&CK content available in STIX™ 2.0 via a public TAXII™ 2.0 server:\n",
    "  * get_all_enterprise()\n",
    "  * get_all_pre()\n",
    "  * get_all_mobile()\n",
    "* The get_all_stix_objects() function just combines the results of the other three locally.\n",
    "* Then, we will grab the results from each get_all_* function and start getting specific stix object types such as techniques, mitigations, groups, malware, tools and relationships.\n",
    "* It is important to remember that the stix object types are being obtained from the results of the initial three **get_all_*** functions and not querying the TAXII Server every time we want to get information about a specific stix object type."
   ]
  },
  {
   "cell_type": "markdown",
   "metadata": {},
   "source": [
    "**Collect ALL Enterprise ATT&CK (TAXII)**"
   ]
  },
  {
   "cell_type": "code",
   "execution_count": 5,
   "metadata": {
    "collapsed": true
   },
   "outputs": [],
   "source": [
    "all_enterprise = lift.get_all_enterprise()"
   ]
  },
  {
   "cell_type": "markdown",
   "metadata": {},
   "source": [
    "**Collect ALL PRE-ATT&CK (TAXII)**"
   ]
  },
  {
   "cell_type": "code",
   "execution_count": 6,
   "metadata": {
    "collapsed": true
   },
   "outputs": [],
   "source": [
    "all_pre = lift.get_all_pre()"
   ]
  },
  {
   "cell_type": "markdown",
   "metadata": {},
   "source": [
    "**Collect ALL Mobile ATT&CK (TAXII)**"
   ]
  },
  {
   "cell_type": "code",
   "execution_count": 7,
   "metadata": {
    "collapsed": true
   },
   "outputs": [],
   "source": [
    "all_mobile = lift.get_all_mobile()"
   ]
  },
  {
   "cell_type": "markdown",
   "metadata": {},
   "source": [
    "**Collect ALL (It runs All 3 functions and collects all the results)**"
   ]
  },
  {
   "cell_type": "markdown",
   "metadata": {},
   "source": [
    "The **get_all_stix_objects()** function returns a dictionary with all the stix object types from all matrices:\n",
    "* techniques\n",
    "* mitigations\n",
    "* groups\n",
    "* malware\n",
    "* tools\n",
    "* relationships"
   ]
  },
  {
   "cell_type": "code",
   "execution_count": 8,
   "metadata": {
    "collapsed": true
   },
   "outputs": [],
   "source": [
    "all_attack = lift.get_all_stix_objects()"
   ]
  },
  {
   "cell_type": "code",
   "execution_count": 9,
   "metadata": {},
   "outputs": [
    {
     "data": {
      "text/plain": [
       "dict"
      ]
     },
     "execution_count": 9,
     "metadata": {},
     "output_type": "execute_result"
    }
   ],
   "source": [
    "type(all_attack)"
   ]
  },
  {
   "cell_type": "markdown",
   "metadata": {},
   "source": [
    "### Get All Techniques from ATT&CK Results (Locally)\n",
    "* The results of this function shows every single technique across the whole ATT&CK framework without their mitigations information\n",
    "* Mitigations information has its own stix object type (Mitigation) that needs to be correlated with the help of relationship properties\n",
    "* There is a function already created in this library named **get_all_techniques_with_mitigations()** that allows you to get a more complete view of techniques"
   ]
  },
  {
   "cell_type": "code",
   "execution_count": 10,
   "metadata": {},
   "outputs": [
    {
     "name": "stdout",
     "output_type": "stream",
     "text": [
      "Number of Techniques in ATT&CK\n",
      "478\n"
     ]
    },
    {
     "data": {
      "text/html": [
       "<div>\n",
       "<style scoped>\n",
       "    .dataframe tbody tr th:only-of-type {\n",
       "        vertical-align: middle;\n",
       "    }\n",
       "\n",
       "    .dataframe tbody tr th {\n",
       "        vertical-align: top;\n",
       "    }\n",
       "\n",
       "    .dataframe thead th {\n",
       "        text-align: right;\n",
       "    }\n",
       "</style>\n",
       "<table border=\"1\" class=\"dataframe\">\n",
       "  <thead>\n",
       "    <tr style=\"text-align: right;\">\n",
       "      <th></th>\n",
       "      <th>matrix</th>\n",
       "      <th>created</th>\n",
       "      <th>tactic</th>\n",
       "      <th>technique</th>\n",
       "      <th>technique_id</th>\n",
       "      <th>data_sources</th>\n",
       "    </tr>\n",
       "  </thead>\n",
       "  <tbody>\n",
       "    <tr>\n",
       "      <th>0</th>\n",
       "      <td>mitre-attack</td>\n",
       "      <td>2018-10-17 00:14:20.652000+00:00</td>\n",
       "      <td>[defense-evasion]</td>\n",
       "      <td>File Permissions Modification</td>\n",
       "      <td>T1222</td>\n",
       "      <td>[File monitoring, Process monitoring, Process ...</td>\n",
       "    </tr>\n",
       "    <tr>\n",
       "      <th>1</th>\n",
       "      <td>mitre-attack</td>\n",
       "      <td>2018-10-17 00:14:20.652000+00:00</td>\n",
       "      <td>[defense-evasion, execution]</td>\n",
       "      <td>Compiled HTML File</td>\n",
       "      <td>T1223</td>\n",
       "      <td>[File monitoring, Process monitoring, Process ...</td>\n",
       "    </tr>\n",
       "    <tr>\n",
       "      <th>2</th>\n",
       "      <td>mitre-attack</td>\n",
       "      <td>2018-10-17 00:14:20.652000+00:00</td>\n",
       "      <td>[defense-evasion]</td>\n",
       "      <td>Template Injection</td>\n",
       "      <td>T1221</td>\n",
       "      <td>[Anti-virus, Email gateway, Network intrusion ...</td>\n",
       "    </tr>\n",
       "    <tr>\n",
       "      <th>3</th>\n",
       "      <td>mitre-attack</td>\n",
       "      <td>2018-10-17 00:14:20.652000+00:00</td>\n",
       "      <td>[defense-evasion, execution]</td>\n",
       "      <td>XSL Script Processing</td>\n",
       "      <td>T1220</td>\n",
       "      <td>[Process monitoring, Process command-line para...</td>\n",
       "    </tr>\n",
       "    <tr>\n",
       "      <th>4</th>\n",
       "      <td>mitre-attack</td>\n",
       "      <td>2018-04-18 17:59:24.739000+00:00</td>\n",
       "      <td>[defense-evasion, persistence]</td>\n",
       "      <td>BITS Jobs</td>\n",
       "      <td>T1197</td>\n",
       "      <td>[API monitoring, Packet capture, Windows event...</td>\n",
       "    </tr>\n",
       "  </tbody>\n",
       "</table>\n",
       "</div>"
      ],
      "text/plain": [
       "         matrix                           created  \\\n",
       "0  mitre-attack  2018-10-17 00:14:20.652000+00:00   \n",
       "1  mitre-attack  2018-10-17 00:14:20.652000+00:00   \n",
       "2  mitre-attack  2018-10-17 00:14:20.652000+00:00   \n",
       "3  mitre-attack  2018-10-17 00:14:20.652000+00:00   \n",
       "4  mitre-attack  2018-04-18 17:59:24.739000+00:00   \n",
       "\n",
       "                           tactic                      technique technique_id  \\\n",
       "0               [defense-evasion]  File Permissions Modification        T1222   \n",
       "1    [defense-evasion, execution]             Compiled HTML File        T1223   \n",
       "2               [defense-evasion]             Template Injection        T1221   \n",
       "3    [defense-evasion, execution]          XSL Script Processing        T1220   \n",
       "4  [defense-evasion, persistence]                      BITS Jobs        T1197   \n",
       "\n",
       "                                        data_sources  \n",
       "0  [File monitoring, Process monitoring, Process ...  \n",
       "1  [File monitoring, Process monitoring, Process ...  \n",
       "2  [Anti-virus, Email gateway, Network intrusion ...  \n",
       "3  [Process monitoring, Process command-line para...  \n",
       "4  [API monitoring, Packet capture, Windows event...  "
      ]
     },
     "execution_count": 10,
     "metadata": {},
     "output_type": "execute_result"
    }
   ],
   "source": [
    "print(\"Number of Techniques in ATT&CK\")\n",
    "print(len(all_attack['techniques']))\n",
    "techniques = all_attack['techniques']\n",
    "df = json_normalize(techniques)\n",
    "df.reindex(['matrix', 'created','tactic', 'technique', 'technique_id', 'data_sources'], axis=1)[0:5]"
   ]
  },
  {
   "cell_type": "code",
   "execution_count": 11,
   "metadata": {},
   "outputs": [
    {
     "data": {
      "text/plain": [
       "223"
      ]
     },
     "execution_count": 11,
     "metadata": {},
     "output_type": "execute_result"
    }
   ],
   "source": [
    "len(df.loc[df['matrix'] == 'mitre-attack'])"
   ]
  },
  {
   "cell_type": "markdown",
   "metadata": {},
   "source": [
    "**Showing the schema of Techniques**"
   ]
  },
  {
   "cell_type": "markdown",
   "metadata": {},
   "source": [
    "This schema covers techniques from Enterprise, PRE and Mobile ATT&CK"
   ]
  },
  {
   "cell_type": "code",
   "execution_count": 12,
   "metadata": {},
   "outputs": [
    {
     "data": {
      "text/plain": [
       "['capec_id',\n",
       " 'capec_url',\n",
       " 'contributors',\n",
       " 'created',\n",
       " 'created_by_ref',\n",
       " 'data_sources',\n",
       " 'defense_bypassed',\n",
       " 'detectable_by_common_defenses',\n",
       " 'detectable_explanation',\n",
       " 'difficulty_explanation',\n",
       " 'difficulty_for_adversary',\n",
       " 'effective_permissions',\n",
       " 'id',\n",
       " 'matrix',\n",
       " 'modified',\n",
       " 'network_requirements',\n",
       " 'object_marking_refs',\n",
       " 'permissions_required',\n",
       " 'platform',\n",
       " 'remote_support',\n",
       " 'system_requirements',\n",
       " 'tactic',\n",
       " 'tactic_type',\n",
       " 'technique',\n",
       " 'technique_description',\n",
       " 'technique_detection',\n",
       " 'technique_id',\n",
       " 'technique_references',\n",
       " 'type',\n",
       " 'url']"
      ]
     },
     "execution_count": 12,
     "metadata": {},
     "output_type": "execute_result"
    }
   ],
   "source": [
    "list(df)"
   ]
  },
  {
   "cell_type": "markdown",
   "metadata": {},
   "source": [
    "**Showing one technique example**"
   ]
  },
  {
   "cell_type": "code",
   "execution_count": 13,
   "metadata": {},
   "outputs": [
    {
     "data": {
      "text/plain": [
       "{'type': 'attack-pattern',\n",
       " 'id': 'attack-pattern--65917ae0-b854-4139-83fe-bf2441cf0196',\n",
       " 'created_by_ref': 'identity--c78cb6e5-0c4b-4611-8297-d1b8b55e40b5',\n",
       " 'created': '2018-10-17 00:14:20.652000+00:00',\n",
       " 'modified': '2018-10-31 13:45:13.024000+00:00',\n",
       " 'object_marking_refs': ['marking-definition--fa42a846-8d90-4e51-bc29-71d5b4802168'],\n",
       " 'url': 'https://attack.mitre.org/techniques/T1222',\n",
       " 'matrix': 'mitre-attack',\n",
       " 'technique': 'File Permissions Modification',\n",
       " 'technique_description': \"File permissions are commonly managed by discretionary access control lists (DACLs) specified by the file owner. File DACL implementation may vary by platform, but generally explicitly designate which users/groups can perform which actions (ex: read, write, execute, etc.). (Citation: Microsoft DACL May 2018) (Citation: Microsoft File Rights May 2018) (Citation: Unix File Permissions)\\n\\nAdversaries may modify file permissions/attributes to evade intended DACLs. (Citation: Hybrid Analysis Icacls1 June 2018) (Citation: Hybrid Analysis Icacls2 May 2018) Modifications may include changing specific access rights, which may require taking ownership of a file and/or elevated permissions such as Administrator/root depending on the file's existing permissions to enable malicious activity such as modifying, replacing, or deleting specific files. Specific file modifications may be a required step for many techniques, such as establishing Persistence via [Accessibility Features](https://attack.mitre.org/techniques/T1015), [Logon Scripts](https://attack.mitre.org/techniques/T1037), or tainting/hijacking other instrumental binary/configuration files.\",\n",
       " 'technique_detection': 'Monitor and investigate attempts to modify DACLs and file ownership, such as use of icacls (Citation: Microsoft icacls OCT 2017), takeown (Citation: Microsoft takeown OCT 2017), attrib (Citation: Microsoft attrib OCT 2017), and [PowerShell](https://attack.mitre.org/techniques/T1086) Set-Acl (Citation: Microsoft SetAcl) in Windows and chmod (Citation: Linux chmod)/chown (Citation: Linux chown) in macOS/Linux. Many of these are built-in system utilities and may generate high false positive alerts, so compare against baseline knowledge for how systems are typically used and correlate modification events with other indications of malicious activity where possible.\\n\\nConsider enabling file permission change auditing on folders containing key binary/configuration files. Windows Security Log events (Event ID 4670) are used when DACLs are modified. (Citation: EventTracker File Permissions Feb 2014)',\n",
       " 'tactic': ['defense-evasion'],\n",
       " 'technique_id': 'T1222',\n",
       " 'capec_id': None,\n",
       " 'capec_url': None,\n",
       " 'platform': ['Linux', 'Windows', 'macOS'],\n",
       " 'data_sources': ['File monitoring',\n",
       "  'Process monitoring',\n",
       "  'Process command-line parameters',\n",
       "  'Windows event logs'],\n",
       " 'defense_bypassed': ['File system access controls'],\n",
       " 'permissions_required': ['User', 'Administrator', 'SYSTEM', 'root'],\n",
       " 'effective_permissions': None,\n",
       " 'system_requirements': None,\n",
       " 'network_requirements': None,\n",
       " 'remote_support': None,\n",
       " 'contributors': ['Jan Miller, CrowdStrike'],\n",
       " 'technique_references': ['https://attack.mitre.org/techniques/T1222',\n",
       "  'https://docs.microsoft.com/windows/desktop/secauthz/dacls-and-aces',\n",
       "  'https://docs.microsoft.com/windows/desktop/fileio/file-security-and-access-rights',\n",
       "  'https://www.tutorialspoint.com/unix/unix-file-permission.htm',\n",
       "  'https://www.hybrid-analysis.com/sample/ef0d2628823e8e0a0de3b08b8eacaf41cf284c086a948bdfd67f4e4373c14e4d?environmentId=100',\n",
       "  'https://www.hybrid-analysis.com/sample/22dab012c3e20e3d9291bce14a2bfc448036d3b966c6e78167f4626f5f9e38d6?environmentId=110',\n",
       "  'https://docs.microsoft.com/windows-server/administration/windows-commands/icacls',\n",
       "  'https://docs.microsoft.com/windows-server/administration/windows-commands/attrib',\n",
       "  'https://linux.die.net/man/1/chmod',\n",
       "  'https://linux.die.net/man/1/chown',\n",
       "  'https://www.eventtracker.com/tech-articles/monitoring-file-permission-changes-windows-security-log/',\n",
       "  'https://docs.microsoft.com/windows-server/administration/windows-commands/takeown',\n",
       "  'https://docs.microsoft.com/powershell/module/microsoft.powershell.security/set-acl'],\n",
       " 'detectable_by_common_defenses': None,\n",
       " 'detectable_explanation': None,\n",
       " 'difficulty_for_adversary': None,\n",
       " 'difficulty_explanation': None,\n",
       " 'tactic_type': None}"
      ]
     },
     "execution_count": 13,
     "metadata": {},
     "output_type": "execute_result"
    }
   ],
   "source": [
    "techniques[0]"
   ]
  },
  {
   "cell_type": "markdown",
   "metadata": {},
   "source": [
    "### Get All Mitigations from ATT&CK Results (Locally)"
   ]
  },
  {
   "cell_type": "code",
   "execution_count": 14,
   "metadata": {},
   "outputs": [
    {
     "name": "stdout",
     "output_type": "stream",
     "text": [
      "Number of Mitigations in ATT&CK\n",
      "236\n"
     ]
    },
    {
     "data": {
      "text/html": [
       "<div>\n",
       "<style scoped>\n",
       "    .dataframe tbody tr th:only-of-type {\n",
       "        vertical-align: middle;\n",
       "    }\n",
       "\n",
       "    .dataframe tbody tr th {\n",
       "        vertical-align: top;\n",
       "    }\n",
       "\n",
       "    .dataframe thead th {\n",
       "        text-align: right;\n",
       "    }\n",
       "</style>\n",
       "<table border=\"1\" class=\"dataframe\">\n",
       "  <thead>\n",
       "    <tr style=\"text-align: right;\">\n",
       "      <th></th>\n",
       "      <th>matrix</th>\n",
       "      <th>mitigation</th>\n",
       "      <th>mitigation_description</th>\n",
       "      <th>url</th>\n",
       "    </tr>\n",
       "  </thead>\n",
       "  <tbody>\n",
       "    <tr>\n",
       "      <th>0</th>\n",
       "      <td>mitre-attack</td>\n",
       "      <td>.bash_profile and .bashrc Mitigation</td>\n",
       "      <td>Making these files immutable and only changeab...</td>\n",
       "      <td>https://attack.mitre.org/techniques/T1156</td>\n",
       "    </tr>\n",
       "    <tr>\n",
       "      <th>1</th>\n",
       "      <td>mitre-attack</td>\n",
       "      <td>AppCert DLLs Mitigation</td>\n",
       "      <td>Identify and block potentially malicious softw...</td>\n",
       "      <td>https://attack.mitre.org/techniques/T1182</td>\n",
       "    </tr>\n",
       "    <tr>\n",
       "      <th>2</th>\n",
       "      <td>mitre-attack</td>\n",
       "      <td>Application Window Discovery Mitigation</td>\n",
       "      <td>Identify unnecessary system utilities or poten...</td>\n",
       "      <td>https://attack.mitre.org/techniques/T1010</td>\n",
       "    </tr>\n",
       "    <tr>\n",
       "      <th>3</th>\n",
       "      <td>mitre-attack</td>\n",
       "      <td>BITS Jobs Mitigation</td>\n",
       "      <td>This type of attack technique cannot be easily...</td>\n",
       "      <td>https://attack.mitre.org/techniques/T1197</td>\n",
       "    </tr>\n",
       "    <tr>\n",
       "      <th>4</th>\n",
       "      <td>mitre-attack</td>\n",
       "      <td>Browser Extensions Mitigation</td>\n",
       "      <td>Only install browser extensions from trusted s...</td>\n",
       "      <td>https://attack.mitre.org/techniques/T1176</td>\n",
       "    </tr>\n",
       "  </tbody>\n",
       "</table>\n",
       "</div>"
      ],
      "text/plain": [
       "         matrix                               mitigation  \\\n",
       "0  mitre-attack     .bash_profile and .bashrc Mitigation   \n",
       "1  mitre-attack                  AppCert DLLs Mitigation   \n",
       "2  mitre-attack  Application Window Discovery Mitigation   \n",
       "3  mitre-attack                     BITS Jobs Mitigation   \n",
       "4  mitre-attack            Browser Extensions Mitigation   \n",
       "\n",
       "                              mitigation_description  \\\n",
       "0  Making these files immutable and only changeab...   \n",
       "1  Identify and block potentially malicious softw...   \n",
       "2  Identify unnecessary system utilities or poten...   \n",
       "3  This type of attack technique cannot be easily...   \n",
       "4  Only install browser extensions from trusted s...   \n",
       "\n",
       "                                         url  \n",
       "0  https://attack.mitre.org/techniques/T1156  \n",
       "1  https://attack.mitre.org/techniques/T1182  \n",
       "2  https://attack.mitre.org/techniques/T1010  \n",
       "3  https://attack.mitre.org/techniques/T1197  \n",
       "4  https://attack.mitre.org/techniques/T1176  "
      ]
     },
     "execution_count": 14,
     "metadata": {},
     "output_type": "execute_result"
    }
   ],
   "source": [
    "print(\"Number of Mitigations in ATT&CK\")\n",
    "print(len(all_attack['mitigations']))\n",
    "mitigations = all_attack['mitigations']\n",
    "df = json_normalize(mitigations)\n",
    "df.reindex(['matrix','mitigation', 'mitigation_description','url'], axis=1)[0:5]"
   ]
  },
  {
   "cell_type": "markdown",
   "metadata": {},
   "source": [
    "**Showing the schema of Mitigations**"
   ]
  },
  {
   "cell_type": "code",
   "execution_count": 15,
   "metadata": {},
   "outputs": [
    {
     "data": {
      "text/plain": [
       "['created',\n",
       " 'created_by_ref',\n",
       " 'id',\n",
       " 'matrix',\n",
       " 'mitigation',\n",
       " 'mitigation_description',\n",
       " 'mitigation_references',\n",
       " 'modified',\n",
       " 'technique_id',\n",
       " 'type',\n",
       " 'url']"
      ]
     },
     "execution_count": 15,
     "metadata": {},
     "output_type": "execute_result"
    }
   ],
   "source": [
    "list(df)"
   ]
  },
  {
   "cell_type": "markdown",
   "metadata": {},
   "source": [
    "**Showing one Mitigation example**"
   ]
  },
  {
   "cell_type": "code",
   "execution_count": 16,
   "metadata": {},
   "outputs": [
    {
     "data": {
      "text/plain": [
       "{'type': 'course-of-action',\n",
       " 'id': 'course-of-action--4f170666-7edb-4489-85c2-9affa28a72e0',\n",
       " 'created_by_ref': 'identity--c78cb6e5-0c4b-4611-8297-d1b8b55e40b5',\n",
       " 'created': '2018-10-17 00:14:20.652000+00:00',\n",
       " 'modified': '2018-10-17 00:14:20.652000+00:00',\n",
       " 'matrix': 'mitre-attack',\n",
       " 'url': 'https://attack.mitre.org/techniques/T1156',\n",
       " 'mitigation': '.bash_profile and .bashrc Mitigation',\n",
       " 'mitigation_description': 'Making these files immutable and only changeable by certain administrators will limit the ability for adversaries to easily create user level persistence.',\n",
       " 'technique_id': 'T1156',\n",
       " 'mitigation_references': ['https://attack.mitre.org/techniques/T1156']}"
      ]
     },
     "execution_count": 16,
     "metadata": {},
     "output_type": "execute_result"
    }
   ],
   "source": [
    "mitigations[0]"
   ]
  },
  {
   "cell_type": "markdown",
   "metadata": {},
   "source": [
    "### Get All Groups from ATT&CK Results (Locally)"
   ]
  },
  {
   "cell_type": "code",
   "execution_count": 17,
   "metadata": {},
   "outputs": [
    {
     "name": "stdout",
     "output_type": "stream",
     "text": [
      "Number of Groups in ATT&CK\n",
      "80\n"
     ]
    },
    {
     "data": {
      "text/html": [
       "<div>\n",
       "<style scoped>\n",
       "    .dataframe tbody tr th:only-of-type {\n",
       "        vertical-align: middle;\n",
       "    }\n",
       "\n",
       "    .dataframe tbody tr th {\n",
       "        vertical-align: top;\n",
       "    }\n",
       "\n",
       "    .dataframe thead th {\n",
       "        text-align: right;\n",
       "    }\n",
       "</style>\n",
       "<table border=\"1\" class=\"dataframe\">\n",
       "  <thead>\n",
       "    <tr style=\"text-align: right;\">\n",
       "      <th></th>\n",
       "      <th>matrix</th>\n",
       "      <th>group</th>\n",
       "      <th>group_aliases</th>\n",
       "      <th>group_id</th>\n",
       "      <th>group_description</th>\n",
       "    </tr>\n",
       "  </thead>\n",
       "  <tbody>\n",
       "    <tr>\n",
       "      <th>0</th>\n",
       "      <td>mitre-attack</td>\n",
       "      <td>Dark Caracal</td>\n",
       "      <td>[Dark Caracal]</td>\n",
       "      <td>G0070</td>\n",
       "      <td>[Dark Caracal](https://attack.mitre.org/groups...</td>\n",
       "    </tr>\n",
       "    <tr>\n",
       "      <th>1</th>\n",
       "      <td>mitre-attack</td>\n",
       "      <td>APT19</td>\n",
       "      <td>[APT19, Codoso, C0d0so0, Codoso Team, Sunshop ...</td>\n",
       "      <td>G0073</td>\n",
       "      <td>[APT19](https://attack.mitre.org/groups/G0073)...</td>\n",
       "    </tr>\n",
       "    <tr>\n",
       "      <th>2</th>\n",
       "      <td>mitre-attack</td>\n",
       "      <td>Cobalt Group</td>\n",
       "      <td>[Cobalt Group, Cobalt Gang, Cobalt Spider]</td>\n",
       "      <td>G0080</td>\n",
       "      <td>[Cobalt Group](https://attack.mitre.org/groups...</td>\n",
       "    </tr>\n",
       "    <tr>\n",
       "      <th>3</th>\n",
       "      <td>mitre-attack</td>\n",
       "      <td>Thrip</td>\n",
       "      <td>[Thrip]</td>\n",
       "      <td>G0076</td>\n",
       "      <td>[Thrip](https://attack.mitre.org/groups/G0076)...</td>\n",
       "    </tr>\n",
       "    <tr>\n",
       "      <th>4</th>\n",
       "      <td>mitre-attack</td>\n",
       "      <td>DarkHydrus</td>\n",
       "      <td>[DarkHydrus]</td>\n",
       "      <td>G0079</td>\n",
       "      <td>[DarkHydrus](https://attack.mitre.org/groups/G...</td>\n",
       "    </tr>\n",
       "  </tbody>\n",
       "</table>\n",
       "</div>"
      ],
      "text/plain": [
       "         matrix         group  \\\n",
       "0  mitre-attack  Dark Caracal   \n",
       "1  mitre-attack         APT19   \n",
       "2  mitre-attack  Cobalt Group   \n",
       "3  mitre-attack         Thrip   \n",
       "4  mitre-attack    DarkHydrus   \n",
       "\n",
       "                                       group_aliases group_id  \\\n",
       "0                                     [Dark Caracal]    G0070   \n",
       "1  [APT19, Codoso, C0d0so0, Codoso Team, Sunshop ...    G0073   \n",
       "2         [Cobalt Group, Cobalt Gang, Cobalt Spider]    G0080   \n",
       "3                                            [Thrip]    G0076   \n",
       "4                                       [DarkHydrus]    G0079   \n",
       "\n",
       "                                   group_description  \n",
       "0  [Dark Caracal](https://attack.mitre.org/groups...  \n",
       "1  [APT19](https://attack.mitre.org/groups/G0073)...  \n",
       "2  [Cobalt Group](https://attack.mitre.org/groups...  \n",
       "3  [Thrip](https://attack.mitre.org/groups/G0076)...  \n",
       "4  [DarkHydrus](https://attack.mitre.org/groups/G...  "
      ]
     },
     "execution_count": 17,
     "metadata": {},
     "output_type": "execute_result"
    }
   ],
   "source": [
    "print(\"Number of Groups in ATT&CK\")\n",
    "print(len(all_attack['groups']))\n",
    "groups = all_attack['groups']\n",
    "df = json_normalize(groups)\n",
    "df.reindex(['matrix', 'group', 'group_aliases', 'group_id', 'group_description'], axis=1)[0:5]"
   ]
  },
  {
   "cell_type": "markdown",
   "metadata": {},
   "source": [
    "**Showing the schema of Groups**"
   ]
  },
  {
   "cell_type": "code",
   "execution_count": 18,
   "metadata": {},
   "outputs": [
    {
     "data": {
      "text/plain": [
       "['created',\n",
       " 'created_by_ref',\n",
       " 'group',\n",
       " 'group_aliases',\n",
       " 'group_description',\n",
       " 'group_id',\n",
       " 'group_references',\n",
       " 'id',\n",
       " 'matrix',\n",
       " 'modified',\n",
       " 'type',\n",
       " 'url']"
      ]
     },
     "execution_count": 18,
     "metadata": {},
     "output_type": "execute_result"
    }
   ],
   "source": [
    "list(df)"
   ]
  },
  {
   "cell_type": "markdown",
   "metadata": {},
   "source": [
    "**Showing one Groups example**"
   ]
  },
  {
   "cell_type": "code",
   "execution_count": 19,
   "metadata": {},
   "outputs": [
    {
     "data": {
      "text/plain": [
       "{'type': 'intrusion-set',\n",
       " 'id': 'intrusion-set--8a831aaa-f3e0-47a3-bed8-a9ced744dd12',\n",
       " 'created_by_ref': 'identity--c78cb6e5-0c4b-4611-8297-d1b8b55e40b5',\n",
       " 'matrix': 'mitre-attack',\n",
       " 'created': '2018-10-17 00:14:20.652000+00:00',\n",
       " 'modified': '2018-10-17 00:14:20.652000+00:00',\n",
       " 'url': 'https://attack.mitre.org/groups/G0070',\n",
       " 'group': 'Dark Caracal',\n",
       " 'group_description': '[Dark Caracal](https://attack.mitre.org/groups/G0070) is threat group that has been attributed to the Lebanese General Directorate of General Security (GDGS) and has operated since at least 2012. (Citation: Lookout Dark Caracal Jan 2018)',\n",
       " 'group_aliases': ['Dark Caracal'],\n",
       " 'group_id': 'G0070',\n",
       " 'group_references': ['https://attack.mitre.org/groups/G0070',\n",
       "  'Dark Caracal',\n",
       "  'https://info.lookout.com/rs/051-ESQ-475/images/Lookout_Dark-Caracal_srr_20180118_us_v.1.0.pdf']}"
      ]
     },
     "execution_count": 19,
     "metadata": {},
     "output_type": "execute_result"
    }
   ],
   "source": [
    "groups[0]"
   ]
  },
  {
   "cell_type": "markdown",
   "metadata": {},
   "source": [
    "### Get All Malware objects from ATT&CK Results (Locally)"
   ]
  },
  {
   "cell_type": "code",
   "execution_count": 20,
   "metadata": {},
   "outputs": [
    {
     "name": "stdout",
     "output_type": "stream",
     "text": [
      "Number of Malware in ATT&CK\n",
      "281\n"
     ]
    },
    {
     "data": {
      "text/html": [
       "<div>\n",
       "<style scoped>\n",
       "    .dataframe tbody tr th:only-of-type {\n",
       "        vertical-align: middle;\n",
       "    }\n",
       "\n",
       "    .dataframe tbody tr th {\n",
       "        vertical-align: top;\n",
       "    }\n",
       "\n",
       "    .dataframe thead th {\n",
       "        text-align: right;\n",
       "    }\n",
       "</style>\n",
       "<table border=\"1\" class=\"dataframe\">\n",
       "  <thead>\n",
       "    <tr style=\"text-align: right;\">\n",
       "      <th></th>\n",
       "      <th>matrix</th>\n",
       "      <th>software</th>\n",
       "      <th>software_labels</th>\n",
       "      <th>software_id</th>\n",
       "      <th>software_description</th>\n",
       "    </tr>\n",
       "  </thead>\n",
       "  <tbody>\n",
       "    <tr>\n",
       "      <th>0</th>\n",
       "      <td>mitre-attack</td>\n",
       "      <td>BADCALL</td>\n",
       "      <td>[malware]</td>\n",
       "      <td>S0245</td>\n",
       "      <td>[BADCALL](https://attack.mitre.org/software/S0...</td>\n",
       "    </tr>\n",
       "    <tr>\n",
       "      <th>1</th>\n",
       "      <td>mitre-attack</td>\n",
       "      <td>Bankshot</td>\n",
       "      <td>[malware]</td>\n",
       "      <td>S0239</td>\n",
       "      <td>[Bankshot](https://attack.mitre.org/software/S...</td>\n",
       "    </tr>\n",
       "    <tr>\n",
       "      <th>2</th>\n",
       "      <td>mitre-attack</td>\n",
       "      <td>Calisto</td>\n",
       "      <td>[malware]</td>\n",
       "      <td>S0274</td>\n",
       "      <td>[Calisto](https://attack.mitre.org/software/S0...</td>\n",
       "    </tr>\n",
       "    <tr>\n",
       "      <th>3</th>\n",
       "      <td>mitre-attack</td>\n",
       "      <td>Comnie</td>\n",
       "      <td>[malware]</td>\n",
       "      <td>S0244</td>\n",
       "      <td>[Comnie](https://attack.mitre.org/software/S02...</td>\n",
       "    </tr>\n",
       "    <tr>\n",
       "      <th>4</th>\n",
       "      <td>mitre-attack</td>\n",
       "      <td>DDKONG</td>\n",
       "      <td>[malware]</td>\n",
       "      <td>S0255</td>\n",
       "      <td>[DDKONG](https://attack.mitre.org/software/S02...</td>\n",
       "    </tr>\n",
       "  </tbody>\n",
       "</table>\n",
       "</div>"
      ],
      "text/plain": [
       "         matrix  software software_labels software_id  \\\n",
       "0  mitre-attack   BADCALL       [malware]       S0245   \n",
       "1  mitre-attack  Bankshot       [malware]       S0239   \n",
       "2  mitre-attack   Calisto       [malware]       S0274   \n",
       "3  mitre-attack    Comnie       [malware]       S0244   \n",
       "4  mitre-attack    DDKONG       [malware]       S0255   \n",
       "\n",
       "                                software_description  \n",
       "0  [BADCALL](https://attack.mitre.org/software/S0...  \n",
       "1  [Bankshot](https://attack.mitre.org/software/S...  \n",
       "2  [Calisto](https://attack.mitre.org/software/S0...  \n",
       "3  [Comnie](https://attack.mitre.org/software/S02...  \n",
       "4  [DDKONG](https://attack.mitre.org/software/S02...  "
      ]
     },
     "execution_count": 20,
     "metadata": {},
     "output_type": "execute_result"
    }
   ],
   "source": [
    "print(\"Number of Malware in ATT&CK\")\n",
    "print(len(all_attack['malware']))\n",
    "malware = all_attack['malware']\n",
    "df = json_normalize(malware)\n",
    "df.reindex(['matrix', 'software', 'software_labels', 'software_id', 'software_description'], axis=1)[0:5]"
   ]
  },
  {
   "cell_type": "markdown",
   "metadata": {},
   "source": [
    "**Showing the schema of Malware**"
   ]
  },
  {
   "cell_type": "code",
   "execution_count": 21,
   "metadata": {},
   "outputs": [
    {
     "data": {
      "text/plain": [
       "['created',\n",
       " 'created_by_ref',\n",
       " 'id',\n",
       " 'matrix',\n",
       " 'modified',\n",
       " 'software',\n",
       " 'software_aliases',\n",
       " 'software_description',\n",
       " 'software_id',\n",
       " 'software_labels',\n",
       " 'software_platform',\n",
       " 'software_references',\n",
       " 'type',\n",
       " 'url']"
      ]
     },
     "execution_count": 21,
     "metadata": {},
     "output_type": "execute_result"
    }
   ],
   "source": [
    "list(df)"
   ]
  },
  {
   "cell_type": "markdown",
   "metadata": {},
   "source": [
    "**Showing one Malware example**"
   ]
  },
  {
   "cell_type": "code",
   "execution_count": 22,
   "metadata": {},
   "outputs": [
    {
     "data": {
      "text/plain": [
       "{'type': 'malware',\n",
       " 'id': 'malware--9dbdadb6-fdbf-490f-a35f-38762d06a0d2',\n",
       " 'created_by_ref': 'identity--c78cb6e5-0c4b-4611-8297-d1b8b55e40b5',\n",
       " 'created': '2018-10-17 00:14:20.652000+00:00',\n",
       " 'modified': '2018-10-17 00:14:20.652000+00:00',\n",
       " 'matrix': 'mitre-attack',\n",
       " 'software': 'BADCALL',\n",
       " 'software_description': '[BADCALL](https://attack.mitre.org/software/S0245) is a Trojan malware variant used by the group [Lazarus Group](https://attack.mitre.org/groups/G0032). (Citation: US-CERT BADCALL)',\n",
       " 'software_labels': ['malware'],\n",
       " 'software_id': 'S0245',\n",
       " 'url': 'https://attack.mitre.org/software/S0245',\n",
       " 'software_aliases': ['BADCALL'],\n",
       " 'software_references': ['https://attack.mitre.org/software/S0245',\n",
       "  'BADCALL',\n",
       "  'https://www.us-cert.gov/sites/default/files/publications/MAR-10135536-G.PDF'],\n",
       " 'software_platform': ['Windows']}"
      ]
     },
     "execution_count": 22,
     "metadata": {},
     "output_type": "execute_result"
    }
   ],
   "source": [
    "malware[0]"
   ]
  },
  {
   "cell_type": "markdown",
   "metadata": {},
   "source": [
    "### Get All Tools from ATT&CK Results (Locally)"
   ]
  },
  {
   "cell_type": "code",
   "execution_count": 23,
   "metadata": {},
   "outputs": [
    {
     "name": "stdout",
     "output_type": "stream",
     "text": [
      "Number of Tools in ATT&CK\n",
      "48\n"
     ]
    },
    {
     "data": {
      "text/html": [
       "<div>\n",
       "<style scoped>\n",
       "    .dataframe tbody tr th:only-of-type {\n",
       "        vertical-align: middle;\n",
       "    }\n",
       "\n",
       "    .dataframe tbody tr th {\n",
       "        vertical-align: top;\n",
       "    }\n",
       "\n",
       "    .dataframe thead th {\n",
       "        text-align: right;\n",
       "    }\n",
       "</style>\n",
       "<table border=\"1\" class=\"dataframe\">\n",
       "  <thead>\n",
       "    <tr style=\"text-align: right;\">\n",
       "      <th></th>\n",
       "      <th>matrix</th>\n",
       "      <th>software</th>\n",
       "      <th>software_labels</th>\n",
       "      <th>software_id</th>\n",
       "      <th>software_description</th>\n",
       "    </tr>\n",
       "  </thead>\n",
       "  <tbody>\n",
       "    <tr>\n",
       "      <th>0</th>\n",
       "      <td>mitre-attack</td>\n",
       "      <td>Koadic</td>\n",
       "      <td>[tool]</td>\n",
       "      <td>S0250</td>\n",
       "      <td>[Koadic](https://attack.mitre.org/software/S02...</td>\n",
       "    </tr>\n",
       "    <tr>\n",
       "      <th>1</th>\n",
       "      <td>mitre-attack</td>\n",
       "      <td>QuasarRAT</td>\n",
       "      <td>[tool]</td>\n",
       "      <td>S0262</td>\n",
       "      <td>[QuasarRAT](https://attack.mitre.org/software/...</td>\n",
       "    </tr>\n",
       "    <tr>\n",
       "      <th>2</th>\n",
       "      <td>mitre-attack</td>\n",
       "      <td>sqlmap</td>\n",
       "      <td>[tool]</td>\n",
       "      <td>S0225</td>\n",
       "      <td>[sqlmap](https://attack.mitre.org/software/S02...</td>\n",
       "    </tr>\n",
       "    <tr>\n",
       "      <th>3</th>\n",
       "      <td>mitre-attack</td>\n",
       "      <td>Havij</td>\n",
       "      <td>[tool]</td>\n",
       "      <td>S0224</td>\n",
       "      <td>[Havij](https://attack.mitre.org/software/S022...</td>\n",
       "    </tr>\n",
       "    <tr>\n",
       "      <th>4</th>\n",
       "      <td>mitre-attack</td>\n",
       "      <td>SDelete</td>\n",
       "      <td>[tool]</td>\n",
       "      <td>S0195</td>\n",
       "      <td>[SDelete](https://attack.mitre.org/software/S0...</td>\n",
       "    </tr>\n",
       "  </tbody>\n",
       "</table>\n",
       "</div>"
      ],
      "text/plain": [
       "         matrix   software software_labels software_id  \\\n",
       "0  mitre-attack     Koadic          [tool]       S0250   \n",
       "1  mitre-attack  QuasarRAT          [tool]       S0262   \n",
       "2  mitre-attack     sqlmap          [tool]       S0225   \n",
       "3  mitre-attack      Havij          [tool]       S0224   \n",
       "4  mitre-attack    SDelete          [tool]       S0195   \n",
       "\n",
       "                                software_description  \n",
       "0  [Koadic](https://attack.mitre.org/software/S02...  \n",
       "1  [QuasarRAT](https://attack.mitre.org/software/...  \n",
       "2  [sqlmap](https://attack.mitre.org/software/S02...  \n",
       "3  [Havij](https://attack.mitre.org/software/S022...  \n",
       "4  [SDelete](https://attack.mitre.org/software/S0...  "
      ]
     },
     "execution_count": 23,
     "metadata": {},
     "output_type": "execute_result"
    }
   ],
   "source": [
    "print(\"Number of Tools in ATT&CK\")\n",
    "print(len(all_attack['tools']))\n",
    "tools = all_attack['tools']\n",
    "df = json_normalize(tools)\n",
    "df.reindex(['matrix', 'software', 'software_labels', 'software_id', 'software_description'], axis=1)[0:5]"
   ]
  },
  {
   "cell_type": "markdown",
   "metadata": {},
   "source": [
    "**Showing the schema of Tools**"
   ]
  },
  {
   "cell_type": "code",
   "execution_count": 24,
   "metadata": {},
   "outputs": [
    {
     "data": {
      "text/plain": [
       "['created',\n",
       " 'created_by_ref',\n",
       " 'id',\n",
       " 'matrix',\n",
       " 'modified',\n",
       " 'software',\n",
       " 'software_aliases',\n",
       " 'software_description',\n",
       " 'software_id',\n",
       " 'software_labels',\n",
       " 'software_platform',\n",
       " 'software_references',\n",
       " 'type',\n",
       " 'url']"
      ]
     },
     "execution_count": 24,
     "metadata": {},
     "output_type": "execute_result"
    }
   ],
   "source": [
    "list(df)"
   ]
  },
  {
   "cell_type": "markdown",
   "metadata": {},
   "source": [
    "**Showing one Tool example**"
   ]
  },
  {
   "cell_type": "code",
   "execution_count": 25,
   "metadata": {},
   "outputs": [
    {
     "data": {
      "text/plain": [
       "{'type': 'tool',\n",
       " 'id': 'tool--c8655260-9f4b-44e3-85e1-6538a5f6e4f4',\n",
       " 'created_by_ref': 'identity--c78cb6e5-0c4b-4611-8297-d1b8b55e40b5',\n",
       " 'created': '2018-10-17 00:14:20.652000+00:00',\n",
       " 'modified': '2018-10-17 00:14:20.652000+00:00',\n",
       " 'matrix': 'mitre-attack',\n",
       " 'software': 'Koadic',\n",
       " 'software_description': '[Koadic](https://attack.mitre.org/software/S0250) is a Windows post-exploitation framework and penetration testing tool. [Koadic](https://attack.mitre.org/software/S0250) is publicly available on GitHub and the tool is executed via the command-line. [Koadic](https://attack.mitre.org/software/S0250) has several options for staging payloads and creating implants. [Koadic](https://attack.mitre.org/software/S0250) performs most of its operations using Windows Script Host. (Citation: Github Koadic) (Citation: Palo Alto Sofacy 06-2018)',\n",
       " 'software_labels': ['tool'],\n",
       " 'software_id': 'S0250',\n",
       " 'url': 'https://attack.mitre.org/software/S0250',\n",
       " 'software_aliases': ['Koadic'],\n",
       " 'software_references': ['https://attack.mitre.org/software/S0250',\n",
       "  'Koadic',\n",
       "  'https://github.com/zerosum0x0/koadic',\n",
       "  'https://researchcenter.paloaltonetworks.com/2018/06/unit42-sofacy-groups-parallel-attacks/'],\n",
       " 'software_platform': ['Windows']}"
      ]
     },
     "execution_count": 25,
     "metadata": {},
     "output_type": "execute_result"
    }
   ],
   "source": [
    "tools[0]"
   ]
  },
  {
   "cell_type": "markdown",
   "metadata": {},
   "source": [
    "### Get All Relationships from ATT&CK Results (Locally)"
   ]
  },
  {
   "cell_type": "code",
   "execution_count": 26,
   "metadata": {},
   "outputs": [
    {
     "name": "stdout",
     "output_type": "stream",
     "text": [
      "Number of Relationships in ATT&CK\n",
      "4092\n"
     ]
    },
    {
     "data": {
      "text/html": [
       "<div>\n",
       "<style scoped>\n",
       "    .dataframe tbody tr th:only-of-type {\n",
       "        vertical-align: middle;\n",
       "    }\n",
       "\n",
       "    .dataframe tbody tr th {\n",
       "        vertical-align: top;\n",
       "    }\n",
       "\n",
       "    .dataframe thead th {\n",
       "        text-align: right;\n",
       "    }\n",
       "</style>\n",
       "<table border=\"1\" class=\"dataframe\">\n",
       "  <thead>\n",
       "    <tr style=\"text-align: right;\">\n",
       "      <th></th>\n",
       "      <th>id</th>\n",
       "      <th>relationship</th>\n",
       "      <th>source_object</th>\n",
       "      <th>target_object</th>\n",
       "    </tr>\n",
       "  </thead>\n",
       "  <tbody>\n",
       "    <tr>\n",
       "      <th>0</th>\n",
       "      <td>relationship--9a8ca137-d0ec-4861-ad1b-0686bf6a...</td>\n",
       "      <td>mitigates</td>\n",
       "      <td>course-of-action--a98be93b-a75b-4dd4-8a72-4dfd...</td>\n",
       "      <td>attack-pattern--51ea26b1-ff1e-4faa-b1a0-1114cd...</td>\n",
       "    </tr>\n",
       "    <tr>\n",
       "      <th>1</th>\n",
       "      <td>relationship--3bcfc38f-5fe8-4c66-8352-d3ba71c4...</td>\n",
       "      <td>uses</td>\n",
       "      <td>intrusion-set--fe8796a4-2a02-41a0-9d27-7aa1e99...</td>\n",
       "      <td>attack-pattern--62b8c999-dcc0-4755-bd69-09442d...</td>\n",
       "    </tr>\n",
       "    <tr>\n",
       "      <th>2</th>\n",
       "      <td>relationship--a3ee84d8-139e-4703-97c9-53cdeea9...</td>\n",
       "      <td>uses</td>\n",
       "      <td>intrusion-set--bef4c620-0787-42a8-a96d-b7eb6e8...</td>\n",
       "      <td>attack-pattern--7385dfaf-6886-4229-9ecd-6fd678...</td>\n",
       "    </tr>\n",
       "    <tr>\n",
       "      <th>3</th>\n",
       "      <td>relationship--4f2e62d0-5345-45dc-9e9d-46bb11c5...</td>\n",
       "      <td>uses</td>\n",
       "      <td>intrusion-set--fe8796a4-2a02-41a0-9d27-7aa1e99...</td>\n",
       "      <td>attack-pattern--7fd87010-3a00-4da3-b905-410525...</td>\n",
       "    </tr>\n",
       "    <tr>\n",
       "      <th>4</th>\n",
       "      <td>relationship--85d0b364-01f8-4ed5-a0dd-a534ccfc...</td>\n",
       "      <td>mitigates</td>\n",
       "      <td>course-of-action--c7e49501-6021-414f-bfa1-9451...</td>\n",
       "      <td>attack-pattern--dc31fe1e-d722-49da-8f5f-92c7b5...</td>\n",
       "    </tr>\n",
       "  </tbody>\n",
       "</table>\n",
       "</div>"
      ],
      "text/plain": [
       "                                                  id relationship  \\\n",
       "0  relationship--9a8ca137-d0ec-4861-ad1b-0686bf6a...    mitigates   \n",
       "1  relationship--3bcfc38f-5fe8-4c66-8352-d3ba71c4...         uses   \n",
       "2  relationship--a3ee84d8-139e-4703-97c9-53cdeea9...         uses   \n",
       "3  relationship--4f2e62d0-5345-45dc-9e9d-46bb11c5...         uses   \n",
       "4  relationship--85d0b364-01f8-4ed5-a0dd-a534ccfc...    mitigates   \n",
       "\n",
       "                                       source_object  \\\n",
       "0  course-of-action--a98be93b-a75b-4dd4-8a72-4dfd...   \n",
       "1  intrusion-set--fe8796a4-2a02-41a0-9d27-7aa1e99...   \n",
       "2  intrusion-set--bef4c620-0787-42a8-a96d-b7eb6e8...   \n",
       "3  intrusion-set--fe8796a4-2a02-41a0-9d27-7aa1e99...   \n",
       "4  course-of-action--c7e49501-6021-414f-bfa1-9451...   \n",
       "\n",
       "                                       target_object  \n",
       "0  attack-pattern--51ea26b1-ff1e-4faa-b1a0-1114cd...  \n",
       "1  attack-pattern--62b8c999-dcc0-4755-bd69-09442d...  \n",
       "2  attack-pattern--7385dfaf-6886-4229-9ecd-6fd678...  \n",
       "3  attack-pattern--7fd87010-3a00-4da3-b905-410525...  \n",
       "4  attack-pattern--dc31fe1e-d722-49da-8f5f-92c7b5...  "
      ]
     },
     "execution_count": 26,
     "metadata": {},
     "output_type": "execute_result"
    }
   ],
   "source": [
    "print(\"Number of Relationships in ATT&CK\")\n",
    "print(len(all_attack['relationships']))\n",
    "relationships = all_attack['relationships']\n",
    "df = json_normalize(relationships)\n",
    "df.reindex(['id','relationship', 'source_object', 'target_object'], axis=1)[0:5]"
   ]
  },
  {
   "cell_type": "markdown",
   "metadata": {},
   "source": [
    "**Showing the schema of Relationships**"
   ]
  },
  {
   "cell_type": "code",
   "execution_count": 27,
   "metadata": {},
   "outputs": [
    {
     "data": {
      "text/plain": [
       "['created',\n",
       " 'created_by_ref',\n",
       " 'id',\n",
       " 'modified',\n",
       " 'relationship',\n",
       " 'relationship_description',\n",
       " 'source_object',\n",
       " 'target_object',\n",
       " 'type']"
      ]
     },
     "execution_count": 27,
     "metadata": {},
     "output_type": "execute_result"
    }
   ],
   "source": [
    "list(df)"
   ]
  },
  {
   "cell_type": "markdown",
   "metadata": {},
   "source": [
    "**Showing one Relationship example**"
   ]
  },
  {
   "cell_type": "code",
   "execution_count": 28,
   "metadata": {},
   "outputs": [
    {
     "data": {
      "text/plain": [
       "{'type': 'relationship',\n",
       " 'id': 'relationship--9a8ca137-d0ec-4861-ad1b-0686bf6ac4c9',\n",
       " 'created_by_ref': 'identity--c78cb6e5-0c4b-4611-8297-d1b8b55e40b5',\n",
       " 'created': '2018-10-17 00:14:20.652000+00:00',\n",
       " 'modified': '2018-10-17 00:14:20.652000+00:00',\n",
       " 'relationship': 'mitigates',\n",
       " 'relationship_description': None,\n",
       " 'source_object': 'course-of-action--a98be93b-a75b-4dd4-8a72-4dfd0b5e25bb',\n",
       " 'target_object': 'attack-pattern--51ea26b1-ff1e-4faa-b1a0-1114cd298c87'}"
      ]
     },
     "execution_count": 28,
     "metadata": {},
     "output_type": "execute_result"
    }
   ],
   "source": [
    "relationships[0]"
   ]
  },
  {
   "cell_type": "markdown",
   "metadata": {},
   "source": [
    "### Get All Enterprise ATT&CK ONLY from Results (Locally)"
   ]
  },
  {
   "cell_type": "markdown",
   "metadata": {},
   "source": [
    "**Enterprise Techniques**"
   ]
  },
  {
   "cell_type": "code",
   "execution_count": 29,
   "metadata": {},
   "outputs": [
    {
     "name": "stdout",
     "output_type": "stream",
     "text": [
      "Number of Techniques in Enterprise ATT&CK\n",
      "223\n"
     ]
    },
    {
     "data": {
      "text/html": [
       "<div>\n",
       "<style scoped>\n",
       "    .dataframe tbody tr th:only-of-type {\n",
       "        vertical-align: middle;\n",
       "    }\n",
       "\n",
       "    .dataframe tbody tr th {\n",
       "        vertical-align: top;\n",
       "    }\n",
       "\n",
       "    .dataframe thead th {\n",
       "        text-align: right;\n",
       "    }\n",
       "</style>\n",
       "<table border=\"1\" class=\"dataframe\">\n",
       "  <thead>\n",
       "    <tr style=\"text-align: right;\">\n",
       "      <th></th>\n",
       "      <th>matrix</th>\n",
       "      <th>tactic</th>\n",
       "      <th>technique</th>\n",
       "      <th>technique_id</th>\n",
       "      <th>data_sources</th>\n",
       "    </tr>\n",
       "  </thead>\n",
       "  <tbody>\n",
       "    <tr>\n",
       "      <th>0</th>\n",
       "      <td>mitre-attack</td>\n",
       "      <td>[defense-evasion]</td>\n",
       "      <td>File Permissions Modification</td>\n",
       "      <td>T1222</td>\n",
       "      <td>[File monitoring, Process monitoring, Process ...</td>\n",
       "    </tr>\n",
       "    <tr>\n",
       "      <th>1</th>\n",
       "      <td>mitre-attack</td>\n",
       "      <td>[defense-evasion, execution]</td>\n",
       "      <td>Compiled HTML File</td>\n",
       "      <td>T1223</td>\n",
       "      <td>[File monitoring, Process monitoring, Process ...</td>\n",
       "    </tr>\n",
       "    <tr>\n",
       "      <th>2</th>\n",
       "      <td>mitre-attack</td>\n",
       "      <td>[defense-evasion]</td>\n",
       "      <td>Template Injection</td>\n",
       "      <td>T1221</td>\n",
       "      <td>[Anti-virus, Email gateway, Network intrusion ...</td>\n",
       "    </tr>\n",
       "    <tr>\n",
       "      <th>3</th>\n",
       "      <td>mitre-attack</td>\n",
       "      <td>[defense-evasion, execution]</td>\n",
       "      <td>XSL Script Processing</td>\n",
       "      <td>T1220</td>\n",
       "      <td>[Process monitoring, Process command-line para...</td>\n",
       "    </tr>\n",
       "    <tr>\n",
       "      <th>4</th>\n",
       "      <td>mitre-attack</td>\n",
       "      <td>[defense-evasion, persistence]</td>\n",
       "      <td>BITS Jobs</td>\n",
       "      <td>T1197</td>\n",
       "      <td>[API monitoring, Packet capture, Windows event...</td>\n",
       "    </tr>\n",
       "  </tbody>\n",
       "</table>\n",
       "</div>"
      ],
      "text/plain": [
       "         matrix                          tactic  \\\n",
       "0  mitre-attack               [defense-evasion]   \n",
       "1  mitre-attack    [defense-evasion, execution]   \n",
       "2  mitre-attack               [defense-evasion]   \n",
       "3  mitre-attack    [defense-evasion, execution]   \n",
       "4  mitre-attack  [defense-evasion, persistence]   \n",
       "\n",
       "                       technique technique_id  \\\n",
       "0  File Permissions Modification        T1222   \n",
       "1             Compiled HTML File        T1223   \n",
       "2             Template Injection        T1221   \n",
       "3          XSL Script Processing        T1220   \n",
       "4                      BITS Jobs        T1197   \n",
       "\n",
       "                                        data_sources  \n",
       "0  [File monitoring, Process monitoring, Process ...  \n",
       "1  [File monitoring, Process monitoring, Process ...  \n",
       "2  [Anti-virus, Email gateway, Network intrusion ...  \n",
       "3  [Process monitoring, Process command-line para...  \n",
       "4  [API monitoring, Packet capture, Windows event...  "
      ]
     },
     "execution_count": 29,
     "metadata": {},
     "output_type": "execute_result"
    }
   ],
   "source": [
    "print(\"Number of Techniques in Enterprise ATT&CK\")\n",
    "print(len(all_enterprise['techniques']))\n",
    "df = all_enterprise['techniques']\n",
    "df = json_normalize(df)\n",
    "df.reindex(['matrix', 'tactic', 'technique', 'technique_id', 'data_sources'], axis=1)[0:5]"
   ]
  },
  {
   "cell_type": "markdown",
   "metadata": {},
   "source": [
    "**Enterprise Mitigations**"
   ]
  },
  {
   "cell_type": "code",
   "execution_count": 30,
   "metadata": {},
   "outputs": [
    {
     "name": "stdout",
     "output_type": "stream",
     "text": [
      "Number of Mitigations in Enterprise ATT&CK\n",
      "222\n"
     ]
    },
    {
     "data": {
      "text/html": [
       "<div>\n",
       "<style scoped>\n",
       "    .dataframe tbody tr th:only-of-type {\n",
       "        vertical-align: middle;\n",
       "    }\n",
       "\n",
       "    .dataframe tbody tr th {\n",
       "        vertical-align: top;\n",
       "    }\n",
       "\n",
       "    .dataframe thead th {\n",
       "        text-align: right;\n",
       "    }\n",
       "</style>\n",
       "<table border=\"1\" class=\"dataframe\">\n",
       "  <thead>\n",
       "    <tr style=\"text-align: right;\">\n",
       "      <th></th>\n",
       "      <th>matrix</th>\n",
       "      <th>mitigation</th>\n",
       "      <th>mitigation_description</th>\n",
       "      <th>url</th>\n",
       "    </tr>\n",
       "  </thead>\n",
       "  <tbody>\n",
       "    <tr>\n",
       "      <th>0</th>\n",
       "      <td>mitre-attack</td>\n",
       "      <td>.bash_profile and .bashrc Mitigation</td>\n",
       "      <td>Making these files immutable and only changeab...</td>\n",
       "      <td>https://attack.mitre.org/techniques/T1156</td>\n",
       "    </tr>\n",
       "    <tr>\n",
       "      <th>1</th>\n",
       "      <td>mitre-attack</td>\n",
       "      <td>AppCert DLLs Mitigation</td>\n",
       "      <td>Identify and block potentially malicious softw...</td>\n",
       "      <td>https://attack.mitre.org/techniques/T1182</td>\n",
       "    </tr>\n",
       "    <tr>\n",
       "      <th>2</th>\n",
       "      <td>mitre-attack</td>\n",
       "      <td>Application Window Discovery Mitigation</td>\n",
       "      <td>Identify unnecessary system utilities or poten...</td>\n",
       "      <td>https://attack.mitre.org/techniques/T1010</td>\n",
       "    </tr>\n",
       "    <tr>\n",
       "      <th>3</th>\n",
       "      <td>mitre-attack</td>\n",
       "      <td>BITS Jobs Mitigation</td>\n",
       "      <td>This type of attack technique cannot be easily...</td>\n",
       "      <td>https://attack.mitre.org/techniques/T1197</td>\n",
       "    </tr>\n",
       "    <tr>\n",
       "      <th>4</th>\n",
       "      <td>mitre-attack</td>\n",
       "      <td>Browser Extensions Mitigation</td>\n",
       "      <td>Only install browser extensions from trusted s...</td>\n",
       "      <td>https://attack.mitre.org/techniques/T1176</td>\n",
       "    </tr>\n",
       "  </tbody>\n",
       "</table>\n",
       "</div>"
      ],
      "text/plain": [
       "         matrix                               mitigation  \\\n",
       "0  mitre-attack     .bash_profile and .bashrc Mitigation   \n",
       "1  mitre-attack                  AppCert DLLs Mitigation   \n",
       "2  mitre-attack  Application Window Discovery Mitigation   \n",
       "3  mitre-attack                     BITS Jobs Mitigation   \n",
       "4  mitre-attack            Browser Extensions Mitigation   \n",
       "\n",
       "                              mitigation_description  \\\n",
       "0  Making these files immutable and only changeab...   \n",
       "1  Identify and block potentially malicious softw...   \n",
       "2  Identify unnecessary system utilities or poten...   \n",
       "3  This type of attack technique cannot be easily...   \n",
       "4  Only install browser extensions from trusted s...   \n",
       "\n",
       "                                         url  \n",
       "0  https://attack.mitre.org/techniques/T1156  \n",
       "1  https://attack.mitre.org/techniques/T1182  \n",
       "2  https://attack.mitre.org/techniques/T1010  \n",
       "3  https://attack.mitre.org/techniques/T1197  \n",
       "4  https://attack.mitre.org/techniques/T1176  "
      ]
     },
     "execution_count": 30,
     "metadata": {},
     "output_type": "execute_result"
    }
   ],
   "source": [
    "print(\"Number of Mitigations in Enterprise ATT&CK\")\n",
    "print(len(all_enterprise['mitigations']))\n",
    "df = all_enterprise['mitigations']\n",
    "df = json_normalize(df)\n",
    "df.reindex(['matrix','mitigation', 'mitigation_description', 'url'], axis=1)[0:5]"
   ]
  },
  {
   "cell_type": "markdown",
   "metadata": {},
   "source": [
    "**Enterprise Groups**"
   ]
  },
  {
   "cell_type": "code",
   "execution_count": 31,
   "metadata": {},
   "outputs": [
    {
     "name": "stdout",
     "output_type": "stream",
     "text": [
      "Number of Groups in Enterprise ATT&CK\n",
      "80\n"
     ]
    },
    {
     "data": {
      "text/html": [
       "<div>\n",
       "<style scoped>\n",
       "    .dataframe tbody tr th:only-of-type {\n",
       "        vertical-align: middle;\n",
       "    }\n",
       "\n",
       "    .dataframe tbody tr th {\n",
       "        vertical-align: top;\n",
       "    }\n",
       "\n",
       "    .dataframe thead th {\n",
       "        text-align: right;\n",
       "    }\n",
       "</style>\n",
       "<table border=\"1\" class=\"dataframe\">\n",
       "  <thead>\n",
       "    <tr style=\"text-align: right;\">\n",
       "      <th></th>\n",
       "      <th>matrix</th>\n",
       "      <th>group</th>\n",
       "      <th>group_aliases</th>\n",
       "      <th>group_id</th>\n",
       "      <th>group_description</th>\n",
       "    </tr>\n",
       "  </thead>\n",
       "  <tbody>\n",
       "    <tr>\n",
       "      <th>0</th>\n",
       "      <td>mitre-attack</td>\n",
       "      <td>Dark Caracal</td>\n",
       "      <td>[Dark Caracal]</td>\n",
       "      <td>G0070</td>\n",
       "      <td>[Dark Caracal](https://attack.mitre.org/groups...</td>\n",
       "    </tr>\n",
       "    <tr>\n",
       "      <th>1</th>\n",
       "      <td>mitre-attack</td>\n",
       "      <td>APT19</td>\n",
       "      <td>[APT19, Codoso, C0d0so0, Codoso Team, Sunshop ...</td>\n",
       "      <td>G0073</td>\n",
       "      <td>[APT19](https://attack.mitre.org/groups/G0073)...</td>\n",
       "    </tr>\n",
       "    <tr>\n",
       "      <th>2</th>\n",
       "      <td>mitre-attack</td>\n",
       "      <td>Cobalt Group</td>\n",
       "      <td>[Cobalt Group, Cobalt Gang, Cobalt Spider]</td>\n",
       "      <td>G0080</td>\n",
       "      <td>[Cobalt Group](https://attack.mitre.org/groups...</td>\n",
       "    </tr>\n",
       "    <tr>\n",
       "      <th>3</th>\n",
       "      <td>mitre-attack</td>\n",
       "      <td>Thrip</td>\n",
       "      <td>[Thrip]</td>\n",
       "      <td>G0076</td>\n",
       "      <td>[Thrip](https://attack.mitre.org/groups/G0076)...</td>\n",
       "    </tr>\n",
       "    <tr>\n",
       "      <th>4</th>\n",
       "      <td>mitre-attack</td>\n",
       "      <td>DarkHydrus</td>\n",
       "      <td>[DarkHydrus]</td>\n",
       "      <td>G0079</td>\n",
       "      <td>[DarkHydrus](https://attack.mitre.org/groups/G...</td>\n",
       "    </tr>\n",
       "  </tbody>\n",
       "</table>\n",
       "</div>"
      ],
      "text/plain": [
       "         matrix         group  \\\n",
       "0  mitre-attack  Dark Caracal   \n",
       "1  mitre-attack         APT19   \n",
       "2  mitre-attack  Cobalt Group   \n",
       "3  mitre-attack         Thrip   \n",
       "4  mitre-attack    DarkHydrus   \n",
       "\n",
       "                                       group_aliases group_id  \\\n",
       "0                                     [Dark Caracal]    G0070   \n",
       "1  [APT19, Codoso, C0d0so0, Codoso Team, Sunshop ...    G0073   \n",
       "2         [Cobalt Group, Cobalt Gang, Cobalt Spider]    G0080   \n",
       "3                                            [Thrip]    G0076   \n",
       "4                                       [DarkHydrus]    G0079   \n",
       "\n",
       "                                   group_description  \n",
       "0  [Dark Caracal](https://attack.mitre.org/groups...  \n",
       "1  [APT19](https://attack.mitre.org/groups/G0073)...  \n",
       "2  [Cobalt Group](https://attack.mitre.org/groups...  \n",
       "3  [Thrip](https://attack.mitre.org/groups/G0076)...  \n",
       "4  [DarkHydrus](https://attack.mitre.org/groups/G...  "
      ]
     },
     "execution_count": 31,
     "metadata": {},
     "output_type": "execute_result"
    }
   ],
   "source": [
    "print(\"Number of Groups in Enterprise ATT&CK\")\n",
    "print(len(all_enterprise['groups']))\n",
    "df = all_enterprise['groups']\n",
    "df = json_normalize(df)\n",
    "df.reindex(['matrix', 'group', 'group_aliases', 'group_id', 'group_description'], axis=1)[0:5]"
   ]
  },
  {
   "cell_type": "markdown",
   "metadata": {},
   "source": [
    "**Enterprise Malware**"
   ]
  },
  {
   "cell_type": "code",
   "execution_count": 32,
   "metadata": {},
   "outputs": [
    {
     "name": "stdout",
     "output_type": "stream",
     "text": [
      "Number of Malware objects in Enterprise ATT&CK\n",
      "237\n"
     ]
    },
    {
     "data": {
      "text/html": [
       "<div>\n",
       "<style scoped>\n",
       "    .dataframe tbody tr th:only-of-type {\n",
       "        vertical-align: middle;\n",
       "    }\n",
       "\n",
       "    .dataframe tbody tr th {\n",
       "        vertical-align: top;\n",
       "    }\n",
       "\n",
       "    .dataframe thead th {\n",
       "        text-align: right;\n",
       "    }\n",
       "</style>\n",
       "<table border=\"1\" class=\"dataframe\">\n",
       "  <thead>\n",
       "    <tr style=\"text-align: right;\">\n",
       "      <th></th>\n",
       "      <th>matrix</th>\n",
       "      <th>software</th>\n",
       "      <th>software_labels</th>\n",
       "      <th>software_id</th>\n",
       "      <th>software_description</th>\n",
       "    </tr>\n",
       "  </thead>\n",
       "  <tbody>\n",
       "    <tr>\n",
       "      <th>0</th>\n",
       "      <td>mitre-attack</td>\n",
       "      <td>BADCALL</td>\n",
       "      <td>[malware]</td>\n",
       "      <td>S0245</td>\n",
       "      <td>[BADCALL](https://attack.mitre.org/software/S0...</td>\n",
       "    </tr>\n",
       "    <tr>\n",
       "      <th>1</th>\n",
       "      <td>mitre-attack</td>\n",
       "      <td>Bankshot</td>\n",
       "      <td>[malware]</td>\n",
       "      <td>S0239</td>\n",
       "      <td>[Bankshot](https://attack.mitre.org/software/S...</td>\n",
       "    </tr>\n",
       "    <tr>\n",
       "      <th>2</th>\n",
       "      <td>mitre-attack</td>\n",
       "      <td>Calisto</td>\n",
       "      <td>[malware]</td>\n",
       "      <td>S0274</td>\n",
       "      <td>[Calisto](https://attack.mitre.org/software/S0...</td>\n",
       "    </tr>\n",
       "    <tr>\n",
       "      <th>3</th>\n",
       "      <td>mitre-attack</td>\n",
       "      <td>Comnie</td>\n",
       "      <td>[malware]</td>\n",
       "      <td>S0244</td>\n",
       "      <td>[Comnie](https://attack.mitre.org/software/S02...</td>\n",
       "    </tr>\n",
       "    <tr>\n",
       "      <th>4</th>\n",
       "      <td>mitre-attack</td>\n",
       "      <td>DDKONG</td>\n",
       "      <td>[malware]</td>\n",
       "      <td>S0255</td>\n",
       "      <td>[DDKONG](https://attack.mitre.org/software/S02...</td>\n",
       "    </tr>\n",
       "  </tbody>\n",
       "</table>\n",
       "</div>"
      ],
      "text/plain": [
       "         matrix  software software_labels software_id  \\\n",
       "0  mitre-attack   BADCALL       [malware]       S0245   \n",
       "1  mitre-attack  Bankshot       [malware]       S0239   \n",
       "2  mitre-attack   Calisto       [malware]       S0274   \n",
       "3  mitre-attack    Comnie       [malware]       S0244   \n",
       "4  mitre-attack    DDKONG       [malware]       S0255   \n",
       "\n",
       "                                software_description  \n",
       "0  [BADCALL](https://attack.mitre.org/software/S0...  \n",
       "1  [Bankshot](https://attack.mitre.org/software/S...  \n",
       "2  [Calisto](https://attack.mitre.org/software/S0...  \n",
       "3  [Comnie](https://attack.mitre.org/software/S02...  \n",
       "4  [DDKONG](https://attack.mitre.org/software/S02...  "
      ]
     },
     "execution_count": 32,
     "metadata": {},
     "output_type": "execute_result"
    }
   ],
   "source": [
    "print(\"Number of Malware objects in Enterprise ATT&CK\")\n",
    "print(len(all_enterprise['malware']))\n",
    "df = all_enterprise['malware']\n",
    "df = json_normalize(df)\n",
    "df.reindex(['matrix', 'software', 'software_labels', 'software_id', 'software_description'], axis=1)[0:5]"
   ]
  },
  {
   "cell_type": "markdown",
   "metadata": {},
   "source": [
    "**Enterprise Tools**"
   ]
  },
  {
   "cell_type": "code",
   "execution_count": 33,
   "metadata": {},
   "outputs": [
    {
     "name": "stdout",
     "output_type": "stream",
     "text": [
      "Number of Tools in Enterprise ATT&CK\n",
      "47\n"
     ]
    },
    {
     "data": {
      "text/html": [
       "<div>\n",
       "<style scoped>\n",
       "    .dataframe tbody tr th:only-of-type {\n",
       "        vertical-align: middle;\n",
       "    }\n",
       "\n",
       "    .dataframe tbody tr th {\n",
       "        vertical-align: top;\n",
       "    }\n",
       "\n",
       "    .dataframe thead th {\n",
       "        text-align: right;\n",
       "    }\n",
       "</style>\n",
       "<table border=\"1\" class=\"dataframe\">\n",
       "  <thead>\n",
       "    <tr style=\"text-align: right;\">\n",
       "      <th></th>\n",
       "      <th>matrix</th>\n",
       "      <th>software</th>\n",
       "      <th>software_labels</th>\n",
       "      <th>software_id</th>\n",
       "      <th>software_description</th>\n",
       "    </tr>\n",
       "  </thead>\n",
       "  <tbody>\n",
       "    <tr>\n",
       "      <th>0</th>\n",
       "      <td>mitre-attack</td>\n",
       "      <td>Koadic</td>\n",
       "      <td>[tool]</td>\n",
       "      <td>S0250</td>\n",
       "      <td>[Koadic](https://attack.mitre.org/software/S02...</td>\n",
       "    </tr>\n",
       "    <tr>\n",
       "      <th>1</th>\n",
       "      <td>mitre-attack</td>\n",
       "      <td>QuasarRAT</td>\n",
       "      <td>[tool]</td>\n",
       "      <td>S0262</td>\n",
       "      <td>[QuasarRAT](https://attack.mitre.org/software/...</td>\n",
       "    </tr>\n",
       "    <tr>\n",
       "      <th>2</th>\n",
       "      <td>mitre-attack</td>\n",
       "      <td>sqlmap</td>\n",
       "      <td>[tool]</td>\n",
       "      <td>S0225</td>\n",
       "      <td>[sqlmap](https://attack.mitre.org/software/S02...</td>\n",
       "    </tr>\n",
       "    <tr>\n",
       "      <th>3</th>\n",
       "      <td>mitre-attack</td>\n",
       "      <td>Havij</td>\n",
       "      <td>[tool]</td>\n",
       "      <td>S0224</td>\n",
       "      <td>[Havij](https://attack.mitre.org/software/S022...</td>\n",
       "    </tr>\n",
       "    <tr>\n",
       "      <th>4</th>\n",
       "      <td>mitre-attack</td>\n",
       "      <td>SDelete</td>\n",
       "      <td>[tool]</td>\n",
       "      <td>S0195</td>\n",
       "      <td>[SDelete](https://attack.mitre.org/software/S0...</td>\n",
       "    </tr>\n",
       "  </tbody>\n",
       "</table>\n",
       "</div>"
      ],
      "text/plain": [
       "         matrix   software software_labels software_id  \\\n",
       "0  mitre-attack     Koadic          [tool]       S0250   \n",
       "1  mitre-attack  QuasarRAT          [tool]       S0262   \n",
       "2  mitre-attack     sqlmap          [tool]       S0225   \n",
       "3  mitre-attack      Havij          [tool]       S0224   \n",
       "4  mitre-attack    SDelete          [tool]       S0195   \n",
       "\n",
       "                                software_description  \n",
       "0  [Koadic](https://attack.mitre.org/software/S02...  \n",
       "1  [QuasarRAT](https://attack.mitre.org/software/...  \n",
       "2  [sqlmap](https://attack.mitre.org/software/S02...  \n",
       "3  [Havij](https://attack.mitre.org/software/S022...  \n",
       "4  [SDelete](https://attack.mitre.org/software/S0...  "
      ]
     },
     "execution_count": 33,
     "metadata": {},
     "output_type": "execute_result"
    }
   ],
   "source": [
    "print(\"Number of Tools in Enterprise ATT&CK\")\n",
    "print(len(all_enterprise['tools']))\n",
    "df = all_enterprise['tools']\n",
    "df = json_normalize(df)\n",
    "df.reindex(['matrix', 'software', 'software_labels', 'software_id', 'software_description'], axis=1)[0:5]"
   ]
  },
  {
   "cell_type": "markdown",
   "metadata": {},
   "source": [
    "**Enterprise Relationships**"
   ]
  },
  {
   "cell_type": "code",
   "execution_count": 34,
   "metadata": {},
   "outputs": [
    {
     "name": "stdout",
     "output_type": "stream",
     "text": [
      "Number of Relationships in Enterprise ATT&CK\n",
      "3725\n"
     ]
    },
    {
     "data": {
      "text/html": [
       "<div>\n",
       "<style scoped>\n",
       "    .dataframe tbody tr th:only-of-type {\n",
       "        vertical-align: middle;\n",
       "    }\n",
       "\n",
       "    .dataframe tbody tr th {\n",
       "        vertical-align: top;\n",
       "    }\n",
       "\n",
       "    .dataframe thead th {\n",
       "        text-align: right;\n",
       "    }\n",
       "</style>\n",
       "<table border=\"1\" class=\"dataframe\">\n",
       "  <thead>\n",
       "    <tr style=\"text-align: right;\">\n",
       "      <th></th>\n",
       "      <th>id</th>\n",
       "      <th>relationship</th>\n",
       "      <th>source_object</th>\n",
       "      <th>target_object</th>\n",
       "    </tr>\n",
       "  </thead>\n",
       "  <tbody>\n",
       "    <tr>\n",
       "      <th>0</th>\n",
       "      <td>relationship--9a8ca137-d0ec-4861-ad1b-0686bf6a...</td>\n",
       "      <td>mitigates</td>\n",
       "      <td>course-of-action--a98be93b-a75b-4dd4-8a72-4dfd...</td>\n",
       "      <td>attack-pattern--51ea26b1-ff1e-4faa-b1a0-1114cd...</td>\n",
       "    </tr>\n",
       "    <tr>\n",
       "      <th>1</th>\n",
       "      <td>relationship--3bcfc38f-5fe8-4c66-8352-d3ba71c4...</td>\n",
       "      <td>uses</td>\n",
       "      <td>intrusion-set--fe8796a4-2a02-41a0-9d27-7aa1e99...</td>\n",
       "      <td>attack-pattern--62b8c999-dcc0-4755-bd69-09442d...</td>\n",
       "    </tr>\n",
       "    <tr>\n",
       "      <th>2</th>\n",
       "      <td>relationship--a3ee84d8-139e-4703-97c9-53cdeea9...</td>\n",
       "      <td>uses</td>\n",
       "      <td>intrusion-set--bef4c620-0787-42a8-a96d-b7eb6e8...</td>\n",
       "      <td>attack-pattern--7385dfaf-6886-4229-9ecd-6fd678...</td>\n",
       "    </tr>\n",
       "    <tr>\n",
       "      <th>3</th>\n",
       "      <td>relationship--4f2e62d0-5345-45dc-9e9d-46bb11c5...</td>\n",
       "      <td>uses</td>\n",
       "      <td>intrusion-set--fe8796a4-2a02-41a0-9d27-7aa1e99...</td>\n",
       "      <td>attack-pattern--7fd87010-3a00-4da3-b905-410525...</td>\n",
       "    </tr>\n",
       "    <tr>\n",
       "      <th>4</th>\n",
       "      <td>relationship--85d0b364-01f8-4ed5-a0dd-a534ccfc...</td>\n",
       "      <td>mitigates</td>\n",
       "      <td>course-of-action--c7e49501-6021-414f-bfa1-9451...</td>\n",
       "      <td>attack-pattern--dc31fe1e-d722-49da-8f5f-92c7b5...</td>\n",
       "    </tr>\n",
       "  </tbody>\n",
       "</table>\n",
       "</div>"
      ],
      "text/plain": [
       "                                                  id relationship  \\\n",
       "0  relationship--9a8ca137-d0ec-4861-ad1b-0686bf6a...    mitigates   \n",
       "1  relationship--3bcfc38f-5fe8-4c66-8352-d3ba71c4...         uses   \n",
       "2  relationship--a3ee84d8-139e-4703-97c9-53cdeea9...         uses   \n",
       "3  relationship--4f2e62d0-5345-45dc-9e9d-46bb11c5...         uses   \n",
       "4  relationship--85d0b364-01f8-4ed5-a0dd-a534ccfc...    mitigates   \n",
       "\n",
       "                                       source_object  \\\n",
       "0  course-of-action--a98be93b-a75b-4dd4-8a72-4dfd...   \n",
       "1  intrusion-set--fe8796a4-2a02-41a0-9d27-7aa1e99...   \n",
       "2  intrusion-set--bef4c620-0787-42a8-a96d-b7eb6e8...   \n",
       "3  intrusion-set--fe8796a4-2a02-41a0-9d27-7aa1e99...   \n",
       "4  course-of-action--c7e49501-6021-414f-bfa1-9451...   \n",
       "\n",
       "                                       target_object  \n",
       "0  attack-pattern--51ea26b1-ff1e-4faa-b1a0-1114cd...  \n",
       "1  attack-pattern--62b8c999-dcc0-4755-bd69-09442d...  \n",
       "2  attack-pattern--7385dfaf-6886-4229-9ecd-6fd678...  \n",
       "3  attack-pattern--7fd87010-3a00-4da3-b905-410525...  \n",
       "4  attack-pattern--dc31fe1e-d722-49da-8f5f-92c7b5...  "
      ]
     },
     "execution_count": 34,
     "metadata": {},
     "output_type": "execute_result"
    }
   ],
   "source": [
    "print(\"Number of Relationships in Enterprise ATT&CK\")\n",
    "print(len(all_enterprise['relationships']))\n",
    "df = all_enterprise['relationships']\n",
    "df = json_normalize(df)\n",
    "df.reindex(['id','relationship', 'source_object', 'target_object'], axis=1)[0:5]"
   ]
  },
  {
   "cell_type": "markdown",
   "metadata": {},
   "source": [
    "### Get All PRE-ATT&CK ONLY from Results (Locally)"
   ]
  },
  {
   "cell_type": "markdown",
   "metadata": {},
   "source": [
    "**PRE Techniques**"
   ]
  },
  {
   "cell_type": "code",
   "execution_count": 35,
   "metadata": {},
   "outputs": [
    {
     "name": "stdout",
     "output_type": "stream",
     "text": [
      "Number of Techniques in PRE-ATT&CK\n",
      "174\n"
     ]
    },
    {
     "data": {
      "text/html": [
       "<div>\n",
       "<style scoped>\n",
       "    .dataframe tbody tr th:only-of-type {\n",
       "        vertical-align: middle;\n",
       "    }\n",
       "\n",
       "    .dataframe tbody tr th {\n",
       "        vertical-align: top;\n",
       "    }\n",
       "\n",
       "    .dataframe thead th {\n",
       "        text-align: right;\n",
       "    }\n",
       "</style>\n",
       "<table border=\"1\" class=\"dataframe\">\n",
       "  <thead>\n",
       "    <tr style=\"text-align: right;\">\n",
       "      <th></th>\n",
       "      <th>matrix</th>\n",
       "      <th>tactic</th>\n",
       "      <th>technique</th>\n",
       "      <th>technique_id</th>\n",
       "      <th>detectable_by_common_defenses</th>\n",
       "    </tr>\n",
       "  </thead>\n",
       "  <tbody>\n",
       "    <tr>\n",
       "      <th>0</th>\n",
       "      <td>mitre-pre-attack</td>\n",
       "      <td>[technical-information-gathering]</td>\n",
       "      <td>Spearphishing for Information</td>\n",
       "      <td>T1397</td>\n",
       "      <td>Partial</td>\n",
       "    </tr>\n",
       "    <tr>\n",
       "      <th>1</th>\n",
       "      <td>mitre-pre-attack</td>\n",
       "      <td>[technical-information-gathering]</td>\n",
       "      <td>Acquire OSINT data sets and information</td>\n",
       "      <td>T1247</td>\n",
       "      <td>No</td>\n",
       "    </tr>\n",
       "    <tr>\n",
       "      <th>2</th>\n",
       "      <td>mitre-pre-attack</td>\n",
       "      <td>[establish-&amp;-maintain-infrastructure]</td>\n",
       "      <td>Acquire and/or use 3rd party software services</td>\n",
       "      <td>T1330</td>\n",
       "      <td>No</td>\n",
       "    </tr>\n",
       "    <tr>\n",
       "      <th>3</th>\n",
       "      <td>mitre-pre-attack</td>\n",
       "      <td>[technical-weakness-identification]</td>\n",
       "      <td>Analyze application security posture</td>\n",
       "      <td>T1293</td>\n",
       "      <td>No</td>\n",
       "    </tr>\n",
       "    <tr>\n",
       "      <th>4</th>\n",
       "      <td>mitre-pre-attack</td>\n",
       "      <td>[technical-weakness-identification]</td>\n",
       "      <td>Analyze organizational skillsets and deficiencies</td>\n",
       "      <td>T1289</td>\n",
       "      <td>No</td>\n",
       "    </tr>\n",
       "  </tbody>\n",
       "</table>\n",
       "</div>"
      ],
      "text/plain": [
       "             matrix                                 tactic  \\\n",
       "0  mitre-pre-attack      [technical-information-gathering]   \n",
       "1  mitre-pre-attack      [technical-information-gathering]   \n",
       "2  mitre-pre-attack  [establish-&-maintain-infrastructure]   \n",
       "3  mitre-pre-attack    [technical-weakness-identification]   \n",
       "4  mitre-pre-attack    [technical-weakness-identification]   \n",
       "\n",
       "                                           technique technique_id  \\\n",
       "0                      Spearphishing for Information        T1397   \n",
       "1            Acquire OSINT data sets and information        T1247   \n",
       "2     Acquire and/or use 3rd party software services        T1330   \n",
       "3               Analyze application security posture        T1293   \n",
       "4  Analyze organizational skillsets and deficiencies        T1289   \n",
       "\n",
       "  detectable_by_common_defenses  \n",
       "0                       Partial  \n",
       "1                            No  \n",
       "2                            No  \n",
       "3                            No  \n",
       "4                            No  "
      ]
     },
     "execution_count": 35,
     "metadata": {},
     "output_type": "execute_result"
    }
   ],
   "source": [
    "print(\"Number of Techniques in PRE-ATT&CK\")\n",
    "print(len(all_pre['techniques']))\n",
    "df = all_pre['techniques']\n",
    "df = json_normalize(df)\n",
    "df.reindex(['matrix', 'tactic', 'technique', 'technique_id', 'detectable_by_common_defenses'], axis=1)[0:5]"
   ]
  },
  {
   "cell_type": "markdown",
   "metadata": {},
   "source": [
    "**PRE Groups**"
   ]
  },
  {
   "cell_type": "code",
   "execution_count": 36,
   "metadata": {},
   "outputs": [
    {
     "name": "stdout",
     "output_type": "stream",
     "text": [
      "Number of Groups in PRE-ATT&CK\n",
      "6\n"
     ]
    },
    {
     "data": {
      "text/html": [
       "<div>\n",
       "<style scoped>\n",
       "    .dataframe tbody tr th:only-of-type {\n",
       "        vertical-align: middle;\n",
       "    }\n",
       "\n",
       "    .dataframe tbody tr th {\n",
       "        vertical-align: top;\n",
       "    }\n",
       "\n",
       "    .dataframe thead th {\n",
       "        text-align: right;\n",
       "    }\n",
       "</style>\n",
       "<table border=\"1\" class=\"dataframe\">\n",
       "  <thead>\n",
       "    <tr style=\"text-align: right;\">\n",
       "      <th></th>\n",
       "      <th>matrix</th>\n",
       "      <th>group</th>\n",
       "      <th>group_aliases</th>\n",
       "      <th>group_id</th>\n",
       "      <th>group_description</th>\n",
       "    </tr>\n",
       "  </thead>\n",
       "  <tbody>\n",
       "    <tr>\n",
       "      <th>0</th>\n",
       "      <td>mitre-attack</td>\n",
       "      <td>APT17</td>\n",
       "      <td>[APT17, Deputy Dog]</td>\n",
       "      <td>G0025</td>\n",
       "      <td>[APT17](https://attack.mitre.org/groups/G0025)...</td>\n",
       "    </tr>\n",
       "    <tr>\n",
       "      <th>1</th>\n",
       "      <td>mitre-attack</td>\n",
       "      <td>APT16</td>\n",
       "      <td>[APT16]</td>\n",
       "      <td>G0023</td>\n",
       "      <td>[APT16](https://attack.mitre.org/groups/G0023)...</td>\n",
       "    </tr>\n",
       "    <tr>\n",
       "      <th>2</th>\n",
       "      <td>mitre-attack</td>\n",
       "      <td>Night Dragon</td>\n",
       "      <td>[Night Dragon, Musical Chairs]</td>\n",
       "      <td>G0014</td>\n",
       "      <td>[Night Dragon](https://attack.mitre.org/groups...</td>\n",
       "    </tr>\n",
       "    <tr>\n",
       "      <th>3</th>\n",
       "      <td>mitre-attack</td>\n",
       "      <td>APT28</td>\n",
       "      <td>[APT28, Sednit, Sofacy, Pawn Storm, Fancy Bear...</td>\n",
       "      <td>G0007</td>\n",
       "      <td>[APT28](https://attack.mitre.org/groups/G0007)...</td>\n",
       "    </tr>\n",
       "    <tr>\n",
       "      <th>4</th>\n",
       "      <td>mitre-attack</td>\n",
       "      <td>APT1</td>\n",
       "      <td>[APT1, Comment Crew, Comment Group, Comment Pa...</td>\n",
       "      <td>G0006</td>\n",
       "      <td>[APT1](https://attack.mitre.org/groups/G0006) ...</td>\n",
       "    </tr>\n",
       "  </tbody>\n",
       "</table>\n",
       "</div>"
      ],
      "text/plain": [
       "         matrix         group  \\\n",
       "0  mitre-attack         APT17   \n",
       "1  mitre-attack         APT16   \n",
       "2  mitre-attack  Night Dragon   \n",
       "3  mitre-attack         APT28   \n",
       "4  mitre-attack          APT1   \n",
       "\n",
       "                                       group_aliases group_id  \\\n",
       "0                                [APT17, Deputy Dog]    G0025   \n",
       "1                                            [APT16]    G0023   \n",
       "2                     [Night Dragon, Musical Chairs]    G0014   \n",
       "3  [APT28, Sednit, Sofacy, Pawn Storm, Fancy Bear...    G0007   \n",
       "4  [APT1, Comment Crew, Comment Group, Comment Pa...    G0006   \n",
       "\n",
       "                                   group_description  \n",
       "0  [APT17](https://attack.mitre.org/groups/G0025)...  \n",
       "1  [APT16](https://attack.mitre.org/groups/G0023)...  \n",
       "2  [Night Dragon](https://attack.mitre.org/groups...  \n",
       "3  [APT28](https://attack.mitre.org/groups/G0007)...  \n",
       "4  [APT1](https://attack.mitre.org/groups/G0006) ...  "
      ]
     },
     "execution_count": 36,
     "metadata": {},
     "output_type": "execute_result"
    }
   ],
   "source": [
    "print(\"Number of Groups in PRE-ATT&CK\")\n",
    "print(len(all_pre['groups']))\n",
    "df = all_pre['groups']\n",
    "df = json_normalize(df)\n",
    "df.reindex(['matrix', 'group', 'group_aliases', 'group_id', 'group_description'], axis=1)[0:5]"
   ]
  },
  {
   "cell_type": "markdown",
   "metadata": {},
   "source": [
    "**PRE Relationships**"
   ]
  },
  {
   "cell_type": "code",
   "execution_count": 37,
   "metadata": {},
   "outputs": [
    {
     "name": "stdout",
     "output_type": "stream",
     "text": [
      "Number of Relationships in PRE-ATT&CK\n",
      "68\n"
     ]
    },
    {
     "data": {
      "text/html": [
       "<div>\n",
       "<style scoped>\n",
       "    .dataframe tbody tr th:only-of-type {\n",
       "        vertical-align: middle;\n",
       "    }\n",
       "\n",
       "    .dataframe tbody tr th {\n",
       "        vertical-align: top;\n",
       "    }\n",
       "\n",
       "    .dataframe thead th {\n",
       "        text-align: right;\n",
       "    }\n",
       "</style>\n",
       "<table border=\"1\" class=\"dataframe\">\n",
       "  <thead>\n",
       "    <tr style=\"text-align: right;\">\n",
       "      <th></th>\n",
       "      <th>id</th>\n",
       "      <th>relationship</th>\n",
       "      <th>source_object</th>\n",
       "      <th>target_object</th>\n",
       "    </tr>\n",
       "  </thead>\n",
       "  <tbody>\n",
       "    <tr>\n",
       "      <th>0</th>\n",
       "      <td>relationship--be031f72-737b-4afd-b2c1-c565f5ab...</td>\n",
       "      <td>related-to</td>\n",
       "      <td>attack-pattern--2b9a666e-bd59-4f67-9031-ed41b4...</td>\n",
       "      <td>attack-pattern--784ff1bc-1483-41fe-a172-4cd9ae...</td>\n",
       "    </tr>\n",
       "    <tr>\n",
       "      <th>1</th>\n",
       "      <td>relationship--4a69750c-47d5-40f5-b753-c6bb2a27...</td>\n",
       "      <td>related-to</td>\n",
       "      <td>attack-pattern--eacd1efe-ee30-4b03-b58f-5b3b1a...</td>\n",
       "      <td>attack-pattern--103d72e6-7e0d-4b3a-9373-c38567...</td>\n",
       "    </tr>\n",
       "    <tr>\n",
       "      <th>2</th>\n",
       "      <td>relationship--f8559304-7ef6-4c48-8d76-a56ebf37...</td>\n",
       "      <td>uses</td>\n",
       "      <td>intrusion-set--d6e88e18-81e8-4709-82d8-973095d...</td>\n",
       "      <td>attack-pattern--e51398e6-53dc-4e9f-a323-e54683...</td>\n",
       "    </tr>\n",
       "    <tr>\n",
       "      <th>3</th>\n",
       "      <td>relationship--fe31fa7c-be01-47ca-90bb-0fb49b49...</td>\n",
       "      <td>related-to</td>\n",
       "      <td>attack-pattern--03f4a766-7a21-4b5e-9ccf-e0cf42...</td>\n",
       "      <td>attack-pattern--e5164428-03ca-4336-a9a7-4d9ea1...</td>\n",
       "    </tr>\n",
       "    <tr>\n",
       "      <th>4</th>\n",
       "      <td>relationship--689ebb39-52f4-4b2f-8678-72cfed67...</td>\n",
       "      <td>related-to</td>\n",
       "      <td>attack-pattern--0722cd65-0c83-4c89-9502-539198...</td>\n",
       "      <td>attack-pattern--7718e92f-b011-4f88-b822-ae245a...</td>\n",
       "    </tr>\n",
       "  </tbody>\n",
       "</table>\n",
       "</div>"
      ],
      "text/plain": [
       "                                                  id relationship  \\\n",
       "0  relationship--be031f72-737b-4afd-b2c1-c565f5ab...   related-to   \n",
       "1  relationship--4a69750c-47d5-40f5-b753-c6bb2a27...   related-to   \n",
       "2  relationship--f8559304-7ef6-4c48-8d76-a56ebf37...         uses   \n",
       "3  relationship--fe31fa7c-be01-47ca-90bb-0fb49b49...   related-to   \n",
       "4  relationship--689ebb39-52f4-4b2f-8678-72cfed67...   related-to   \n",
       "\n",
       "                                       source_object  \\\n",
       "0  attack-pattern--2b9a666e-bd59-4f67-9031-ed41b4...   \n",
       "1  attack-pattern--eacd1efe-ee30-4b03-b58f-5b3b1a...   \n",
       "2  intrusion-set--d6e88e18-81e8-4709-82d8-973095d...   \n",
       "3  attack-pattern--03f4a766-7a21-4b5e-9ccf-e0cf42...   \n",
       "4  attack-pattern--0722cd65-0c83-4c89-9502-539198...   \n",
       "\n",
       "                                       target_object  \n",
       "0  attack-pattern--784ff1bc-1483-41fe-a172-4cd9ae...  \n",
       "1  attack-pattern--103d72e6-7e0d-4b3a-9373-c38567...  \n",
       "2  attack-pattern--e51398e6-53dc-4e9f-a323-e54683...  \n",
       "3  attack-pattern--e5164428-03ca-4336-a9a7-4d9ea1...  \n",
       "4  attack-pattern--7718e92f-b011-4f88-b822-ae245a...  "
      ]
     },
     "execution_count": 37,
     "metadata": {},
     "output_type": "execute_result"
    }
   ],
   "source": [
    "print(\"Number of Relationships in PRE-ATT&CK\")\n",
    "print(len(all_pre['relationships']))\n",
    "df = all_pre['relationships']\n",
    "df = json_normalize(df)\n",
    "df.reindex(['id','relationship', 'source_object', 'target_object'], axis=1)[0:5]"
   ]
  },
  {
   "cell_type": "markdown",
   "metadata": {},
   "source": [
    "### Get All Mobile ATT&CK ONLY from Results (Locally)"
   ]
  },
  {
   "cell_type": "markdown",
   "metadata": {},
   "source": [
    "**Mobile Techniques**"
   ]
  },
  {
   "cell_type": "code",
   "execution_count": 38,
   "metadata": {},
   "outputs": [
    {
     "name": "stdout",
     "output_type": "stream",
     "text": [
      "Number of Techniques in Mobile ATT&CK\n",
      "81\n"
     ]
    },
    {
     "data": {
      "text/html": [
       "<div>\n",
       "<style scoped>\n",
       "    .dataframe tbody tr th:only-of-type {\n",
       "        vertical-align: middle;\n",
       "    }\n",
       "\n",
       "    .dataframe tbody tr th {\n",
       "        vertical-align: top;\n",
       "    }\n",
       "\n",
       "    .dataframe thead th {\n",
       "        text-align: right;\n",
       "    }\n",
       "</style>\n",
       "<table border=\"1\" class=\"dataframe\">\n",
       "  <thead>\n",
       "    <tr style=\"text-align: right;\">\n",
       "      <th></th>\n",
       "      <th>matrix</th>\n",
       "      <th>tactic</th>\n",
       "      <th>technique</th>\n",
       "      <th>technique_id</th>\n",
       "      <th>tactic_type</th>\n",
       "    </tr>\n",
       "  </thead>\n",
       "  <tbody>\n",
       "    <tr>\n",
       "      <th>0</th>\n",
       "      <td>mitre-mobile-attack</td>\n",
       "      <td>[initial-access]</td>\n",
       "      <td>Deliver Malicious App via Authorized App Store</td>\n",
       "      <td>T1475</td>\n",
       "      <td>[Post-Adversary Device Access]</td>\n",
       "    </tr>\n",
       "    <tr>\n",
       "      <th>1</th>\n",
       "      <td>mitre-mobile-attack</td>\n",
       "      <td>[initial-access]</td>\n",
       "      <td>Exploit via Radio Interfaces</td>\n",
       "      <td>T1477</td>\n",
       "      <td>[Post-Adversary Device Access]</td>\n",
       "    </tr>\n",
       "    <tr>\n",
       "      <th>2</th>\n",
       "      <td>mitre-mobile-attack</td>\n",
       "      <td>[defense-evasion, initial-access]</td>\n",
       "      <td>Install Insecure or Malicious Configuration</td>\n",
       "      <td>T1478</td>\n",
       "      <td>[Post-Adversary Device Access]</td>\n",
       "    </tr>\n",
       "    <tr>\n",
       "      <th>3</th>\n",
       "      <td>mitre-mobile-attack</td>\n",
       "      <td>[initial-access]</td>\n",
       "      <td>Deliver Malicious App via Other Means</td>\n",
       "      <td>T1476</td>\n",
       "      <td>[Post-Adversary Device Access]</td>\n",
       "    </tr>\n",
       "    <tr>\n",
       "      <th>4</th>\n",
       "      <td>mitre-mobile-attack</td>\n",
       "      <td>[initial-access]</td>\n",
       "      <td>Supply Chain Compromise</td>\n",
       "      <td>T1474</td>\n",
       "      <td>[Post-Adversary Device Access]</td>\n",
       "    </tr>\n",
       "  </tbody>\n",
       "</table>\n",
       "</div>"
      ],
      "text/plain": [
       "                matrix                             tactic  \\\n",
       "0  mitre-mobile-attack                   [initial-access]   \n",
       "1  mitre-mobile-attack                   [initial-access]   \n",
       "2  mitre-mobile-attack  [defense-evasion, initial-access]   \n",
       "3  mitre-mobile-attack                   [initial-access]   \n",
       "4  mitre-mobile-attack                   [initial-access]   \n",
       "\n",
       "                                        technique technique_id  \\\n",
       "0  Deliver Malicious App via Authorized App Store        T1475   \n",
       "1                    Exploit via Radio Interfaces        T1477   \n",
       "2     Install Insecure or Malicious Configuration        T1478   \n",
       "3           Deliver Malicious App via Other Means        T1476   \n",
       "4                         Supply Chain Compromise        T1474   \n",
       "\n",
       "                      tactic_type  \n",
       "0  [Post-Adversary Device Access]  \n",
       "1  [Post-Adversary Device Access]  \n",
       "2  [Post-Adversary Device Access]  \n",
       "3  [Post-Adversary Device Access]  \n",
       "4  [Post-Adversary Device Access]  "
      ]
     },
     "execution_count": 38,
     "metadata": {},
     "output_type": "execute_result"
    }
   ],
   "source": [
    "print(\"Number of Techniques in Mobile ATT&CK\")\n",
    "print(len(all_mobile['techniques']))\n",
    "df = all_mobile['techniques']\n",
    "df = json_normalize(df)\n",
    "df.reindex(['matrix', 'tactic', 'technique', 'technique_id', 'tactic_type'], axis=1)[0:5]"
   ]
  },
  {
   "cell_type": "markdown",
   "metadata": {},
   "source": [
    "**Mobile Mitigations**"
   ]
  },
  {
   "cell_type": "code",
   "execution_count": 39,
   "metadata": {},
   "outputs": [
    {
     "name": "stdout",
     "output_type": "stream",
     "text": [
      "Number of Mitigations in Mobile ATT&CK\n",
      "14\n",
      " \n"
     ]
    },
    {
     "data": {
      "text/html": [
       "<div>\n",
       "<style scoped>\n",
       "    .dataframe tbody tr th:only-of-type {\n",
       "        vertical-align: middle;\n",
       "    }\n",
       "\n",
       "    .dataframe tbody tr th {\n",
       "        vertical-align: top;\n",
       "    }\n",
       "\n",
       "    .dataframe thead th {\n",
       "        text-align: right;\n",
       "    }\n",
       "</style>\n",
       "<table border=\"1\" class=\"dataframe\">\n",
       "  <thead>\n",
       "    <tr style=\"text-align: right;\">\n",
       "      <th></th>\n",
       "      <th>matrix</th>\n",
       "      <th>mitigation</th>\n",
       "      <th>mitigation_description</th>\n",
       "      <th>url</th>\n",
       "    </tr>\n",
       "  </thead>\n",
       "  <tbody>\n",
       "    <tr>\n",
       "      <th>0</th>\n",
       "      <td>mitre-mobile-attack</td>\n",
       "      <td>Application Developer Guidance</td>\n",
       "      <td>This mitigation describes any guidance or trai...</td>\n",
       "      <td>https://attack.mitre.org/mitigations/M1013</td>\n",
       "    </tr>\n",
       "    <tr>\n",
       "      <th>1</th>\n",
       "      <td>mitre-mobile-attack</td>\n",
       "      <td>Enterprise Policy</td>\n",
       "      <td>An enterprise mobility management (EMM), also ...</td>\n",
       "      <td>https://attack.mitre.org/mitigations/M1012</td>\n",
       "    </tr>\n",
       "    <tr>\n",
       "      <th>2</th>\n",
       "      <td>mitre-mobile-attack</td>\n",
       "      <td>Attestation</td>\n",
       "      <td>Enable remote attestation capabilities when av...</td>\n",
       "      <td>https://attack.mitre.org/mitigations/M1002</td>\n",
       "    </tr>\n",
       "    <tr>\n",
       "      <th>3</th>\n",
       "      <td>mitre-mobile-attack</td>\n",
       "      <td>Deploy Compromised Device Detection Method</td>\n",
       "      <td>A variety of methods exist that can be used to...</td>\n",
       "      <td>https://attack.mitre.org/mitigations/M1010</td>\n",
       "    </tr>\n",
       "    <tr>\n",
       "      <th>4</th>\n",
       "      <td>mitre-mobile-attack</td>\n",
       "      <td>System Partition Integrity</td>\n",
       "      <td>Ensure that Android devices being used include...</td>\n",
       "      <td>https://attack.mitre.org/mitigations/M1004</td>\n",
       "    </tr>\n",
       "  </tbody>\n",
       "</table>\n",
       "</div>"
      ],
      "text/plain": [
       "                matrix                                  mitigation  \\\n",
       "0  mitre-mobile-attack              Application Developer Guidance   \n",
       "1  mitre-mobile-attack                           Enterprise Policy   \n",
       "2  mitre-mobile-attack                                 Attestation   \n",
       "3  mitre-mobile-attack  Deploy Compromised Device Detection Method   \n",
       "4  mitre-mobile-attack                  System Partition Integrity   \n",
       "\n",
       "                              mitigation_description  \\\n",
       "0  This mitigation describes any guidance or trai...   \n",
       "1  An enterprise mobility management (EMM), also ...   \n",
       "2  Enable remote attestation capabilities when av...   \n",
       "3  A variety of methods exist that can be used to...   \n",
       "4  Ensure that Android devices being used include...   \n",
       "\n",
       "                                          url  \n",
       "0  https://attack.mitre.org/mitigations/M1013  \n",
       "1  https://attack.mitre.org/mitigations/M1012  \n",
       "2  https://attack.mitre.org/mitigations/M1002  \n",
       "3  https://attack.mitre.org/mitigations/M1010  \n",
       "4  https://attack.mitre.org/mitigations/M1004  "
      ]
     },
     "execution_count": 39,
     "metadata": {},
     "output_type": "execute_result"
    }
   ],
   "source": [
    "print(\"Number of Mitigations in Mobile ATT&CK\")\n",
    "print(len(all_mobile['mitigations']))\n",
    "print(\" \")\n",
    "df = all_mobile['mitigations']\n",
    "df = json_normalize(df)\n",
    "df.reindex(['matrix', 'mitigation', 'mitigation_description', 'url'], axis=1)[0:5]"
   ]
  },
  {
   "cell_type": "markdown",
   "metadata": {},
   "source": [
    "**Mobile Groups**"
   ]
  },
  {
   "cell_type": "code",
   "execution_count": 40,
   "metadata": {},
   "outputs": [
    {
     "name": "stdout",
     "output_type": "stream",
     "text": [
      "Number of Groups in Mobile ATT&CK\n",
      "1\n"
     ]
    },
    {
     "data": {
      "text/html": [
       "<div>\n",
       "<style scoped>\n",
       "    .dataframe tbody tr th:only-of-type {\n",
       "        vertical-align: middle;\n",
       "    }\n",
       "\n",
       "    .dataframe tbody tr th {\n",
       "        vertical-align: top;\n",
       "    }\n",
       "\n",
       "    .dataframe thead th {\n",
       "        text-align: right;\n",
       "    }\n",
       "</style>\n",
       "<table border=\"1\" class=\"dataframe\">\n",
       "  <thead>\n",
       "    <tr style=\"text-align: right;\">\n",
       "      <th></th>\n",
       "      <th>matrix</th>\n",
       "      <th>group</th>\n",
       "      <th>group_aliases</th>\n",
       "      <th>group_id</th>\n",
       "      <th>group_description</th>\n",
       "    </tr>\n",
       "  </thead>\n",
       "  <tbody>\n",
       "    <tr>\n",
       "      <th>0</th>\n",
       "      <td>mitre-attack</td>\n",
       "      <td>APT28</td>\n",
       "      <td>[APT28, Sednit, Sofacy, Pawn Storm, Fancy Bear...</td>\n",
       "      <td>G0007</td>\n",
       "      <td>[APT28](https://attack.mitre.org/groups/G0007)...</td>\n",
       "    </tr>\n",
       "  </tbody>\n",
       "</table>\n",
       "</div>"
      ],
      "text/plain": [
       "         matrix  group                                      group_aliases  \\\n",
       "0  mitre-attack  APT28  [APT28, Sednit, Sofacy, Pawn Storm, Fancy Bear...   \n",
       "\n",
       "  group_id                                  group_description  \n",
       "0    G0007  [APT28](https://attack.mitre.org/groups/G0007)...  "
      ]
     },
     "execution_count": 40,
     "metadata": {},
     "output_type": "execute_result"
    }
   ],
   "source": [
    "print(\"Number of Groups in Mobile ATT&CK\")\n",
    "print(len(all_mobile['groups']))\n",
    "df = all_mobile['groups']\n",
    "df = json_normalize(df)\n",
    "df.reindex(['matrix', 'group', 'group_aliases', 'group_id', 'group_description'], axis=1)[0:5]"
   ]
  },
  {
   "cell_type": "markdown",
   "metadata": {},
   "source": [
    "**Mobile Malware**"
   ]
  },
  {
   "cell_type": "code",
   "execution_count": 41,
   "metadata": {},
   "outputs": [
    {
     "name": "stdout",
     "output_type": "stream",
     "text": [
      "Number of Malware in Mobile ATT&CK\n",
      "44\n"
     ]
    },
    {
     "data": {
      "text/html": [
       "<div>\n",
       "<style scoped>\n",
       "    .dataframe tbody tr th:only-of-type {\n",
       "        vertical-align: middle;\n",
       "    }\n",
       "\n",
       "    .dataframe tbody tr th {\n",
       "        vertical-align: top;\n",
       "    }\n",
       "\n",
       "    .dataframe thead th {\n",
       "        text-align: right;\n",
       "    }\n",
       "</style>\n",
       "<table border=\"1\" class=\"dataframe\">\n",
       "  <thead>\n",
       "    <tr style=\"text-align: right;\">\n",
       "      <th></th>\n",
       "      <th>matrix</th>\n",
       "      <th>software</th>\n",
       "      <th>software_labels</th>\n",
       "      <th>software_id</th>\n",
       "      <th>software_description</th>\n",
       "    </tr>\n",
       "  </thead>\n",
       "  <tbody>\n",
       "    <tr>\n",
       "      <th>0</th>\n",
       "      <td>mitre-mobile-attack</td>\n",
       "      <td>Tangelo</td>\n",
       "      <td>[malware]</td>\n",
       "      <td>S0329</td>\n",
       "      <td>[Tangelo](https://attack.mitre.org/software/S0...</td>\n",
       "    </tr>\n",
       "    <tr>\n",
       "      <th>1</th>\n",
       "      <td>mitre-mobile-attack</td>\n",
       "      <td>RedDrop</td>\n",
       "      <td>[malware]</td>\n",
       "      <td>S0326</td>\n",
       "      <td>[RedDrop](https://attack.mitre.org/software/S0...</td>\n",
       "    </tr>\n",
       "    <tr>\n",
       "      <th>2</th>\n",
       "      <td>mitre-mobile-attack</td>\n",
       "      <td>Skygofree</td>\n",
       "      <td>[malware]</td>\n",
       "      <td>S0327</td>\n",
       "      <td>[Skygofree](https://attack.mitre.org/software/...</td>\n",
       "    </tr>\n",
       "    <tr>\n",
       "      <th>3</th>\n",
       "      <td>mitre-mobile-attack</td>\n",
       "      <td>Judy</td>\n",
       "      <td>[malware]</td>\n",
       "      <td>S0325</td>\n",
       "      <td>[Judy](https://attack.mitre.org/software/S0325...</td>\n",
       "    </tr>\n",
       "    <tr>\n",
       "      <th>4</th>\n",
       "      <td>mitre-mobile-attack</td>\n",
       "      <td>SpyDealer</td>\n",
       "      <td>[malware]</td>\n",
       "      <td>S0324</td>\n",
       "      <td>[SpyDealer](https://attack.mitre.org/software/...</td>\n",
       "    </tr>\n",
       "  </tbody>\n",
       "</table>\n",
       "</div>"
      ],
      "text/plain": [
       "                matrix   software software_labels software_id  \\\n",
       "0  mitre-mobile-attack    Tangelo       [malware]       S0329   \n",
       "1  mitre-mobile-attack    RedDrop       [malware]       S0326   \n",
       "2  mitre-mobile-attack  Skygofree       [malware]       S0327   \n",
       "3  mitre-mobile-attack       Judy       [malware]       S0325   \n",
       "4  mitre-mobile-attack  SpyDealer       [malware]       S0324   \n",
       "\n",
       "                                software_description  \n",
       "0  [Tangelo](https://attack.mitre.org/software/S0...  \n",
       "1  [RedDrop](https://attack.mitre.org/software/S0...  \n",
       "2  [Skygofree](https://attack.mitre.org/software/...  \n",
       "3  [Judy](https://attack.mitre.org/software/S0325...  \n",
       "4  [SpyDealer](https://attack.mitre.org/software/...  "
      ]
     },
     "execution_count": 41,
     "metadata": {},
     "output_type": "execute_result"
    }
   ],
   "source": [
    "print(\"Number of Malware in Mobile ATT&CK\")\n",
    "print(len(all_mobile['malware']))\n",
    "df = all_mobile['malware']\n",
    "df = json_normalize(df)\n",
    "df.reindex(['matrix', 'software', 'software_labels', 'software_id', 'software_description'], axis=1)[0:5]"
   ]
  },
  {
   "cell_type": "markdown",
   "metadata": {},
   "source": [
    "**Mobile Tools**"
   ]
  },
  {
   "cell_type": "code",
   "execution_count": 42,
   "metadata": {},
   "outputs": [
    {
     "name": "stdout",
     "output_type": "stream",
     "text": [
      "Number of Tools in Mobile ATT&CK\n",
      "1\n"
     ]
    },
    {
     "data": {
      "text/html": [
       "<div>\n",
       "<style scoped>\n",
       "    .dataframe tbody tr th:only-of-type {\n",
       "        vertical-align: middle;\n",
       "    }\n",
       "\n",
       "    .dataframe tbody tr th {\n",
       "        vertical-align: top;\n",
       "    }\n",
       "\n",
       "    .dataframe thead th {\n",
       "        text-align: right;\n",
       "    }\n",
       "</style>\n",
       "<table border=\"1\" class=\"dataframe\">\n",
       "  <thead>\n",
       "    <tr style=\"text-align: right;\">\n",
       "      <th></th>\n",
       "      <th>matrix</th>\n",
       "      <th>software</th>\n",
       "      <th>software_labels</th>\n",
       "      <th>software_id</th>\n",
       "      <th>software_description</th>\n",
       "    </tr>\n",
       "  </thead>\n",
       "  <tbody>\n",
       "    <tr>\n",
       "      <th>0</th>\n",
       "      <td>mitre-mobile-attack</td>\n",
       "      <td>Xbot</td>\n",
       "      <td>[tool]</td>\n",
       "      <td>S0298</td>\n",
       "      <td>[Xbot](https://attack.mitre.org/software/S0298...</td>\n",
       "    </tr>\n",
       "  </tbody>\n",
       "</table>\n",
       "</div>"
      ],
      "text/plain": [
       "                matrix software software_labels software_id  \\\n",
       "0  mitre-mobile-attack     Xbot          [tool]       S0298   \n",
       "\n",
       "                                software_description  \n",
       "0  [Xbot](https://attack.mitre.org/software/S0298...  "
      ]
     },
     "execution_count": 42,
     "metadata": {},
     "output_type": "execute_result"
    }
   ],
   "source": [
    "print(\"Number of Tools in Mobile ATT&CK\")\n",
    "print(len(all_mobile['tools']))\n",
    "df = all_mobile['tools']\n",
    "df = json_normalize(df)\n",
    "df.reindex(['matrix', 'software', 'software_labels', 'software_id', 'software_description'], axis=1)[0:5]"
   ]
  },
  {
   "cell_type": "markdown",
   "metadata": {},
   "source": [
    "**Mobile Relationships**"
   ]
  },
  {
   "cell_type": "code",
   "execution_count": 43,
   "metadata": {},
   "outputs": [
    {
     "name": "stdout",
     "output_type": "stream",
     "text": [
      "Number of Relationships in Mobile ATT&CK\n",
      "299\n"
     ]
    },
    {
     "data": {
      "text/html": [
       "<div>\n",
       "<style scoped>\n",
       "    .dataframe tbody tr th:only-of-type {\n",
       "        vertical-align: middle;\n",
       "    }\n",
       "\n",
       "    .dataframe tbody tr th {\n",
       "        vertical-align: top;\n",
       "    }\n",
       "\n",
       "    .dataframe thead th {\n",
       "        text-align: right;\n",
       "    }\n",
       "</style>\n",
       "<table border=\"1\" class=\"dataframe\">\n",
       "  <thead>\n",
       "    <tr style=\"text-align: right;\">\n",
       "      <th></th>\n",
       "      <th>object id</th>\n",
       "      <th>relationship</th>\n",
       "      <th>relationship_description</th>\n",
       "      <th>source_object</th>\n",
       "      <th>target_object</th>\n",
       "    </tr>\n",
       "  </thead>\n",
       "  <tbody>\n",
       "    <tr>\n",
       "      <th>0</th>\n",
       "      <td>NaN</td>\n",
       "      <td>revoked-by</td>\n",
       "      <td>None</td>\n",
       "      <td>attack-pattern--f296fc9c-2ff5-43ee-941e-6b49c4...</td>\n",
       "      <td>attack-pattern--dfe29258-ce59-421c-9dee-e85cb9...</td>\n",
       "    </tr>\n",
       "    <tr>\n",
       "      <th>1</th>\n",
       "      <td>NaN</td>\n",
       "      <td>revoked-by</td>\n",
       "      <td>None</td>\n",
       "      <td>attack-pattern--45dcbc83-4abc-4de1-b643-e528d1...</td>\n",
       "      <td>attack-pattern--dfe29258-ce59-421c-9dee-e85cb9...</td>\n",
       "    </tr>\n",
       "    <tr>\n",
       "      <th>2</th>\n",
       "      <td>NaN</td>\n",
       "      <td>uses</td>\n",
       "      <td>[Android/Chuli.A](https://attack.mitre.org/sof...</td>\n",
       "      <td>malware--d05f7357-4cbe-47ea-bf83-b8604226d533</td>\n",
       "      <td>attack-pattern--6a3f6490-9c44-40de-b059-e5940f...</td>\n",
       "    </tr>\n",
       "    <tr>\n",
       "      <th>3</th>\n",
       "      <td>NaN</td>\n",
       "      <td>uses</td>\n",
       "      <td>[Judy](https://attack.mitre.org/software/S0325...</td>\n",
       "      <td>malware--172444ab-97fc-4d94-b142-179452bfb760</td>\n",
       "      <td>attack-pattern--f981d199-2720-467e-9dc9-eea04d...</td>\n",
       "    </tr>\n",
       "    <tr>\n",
       "      <th>4</th>\n",
       "      <td>NaN</td>\n",
       "      <td>uses</td>\n",
       "      <td>[Stealth Mango](https://attack.mitre.org/softw...</td>\n",
       "      <td>malware--085eb36d-697d-4d9a-bac3-96eb879fe73c</td>\n",
       "      <td>attack-pattern--6683aa0c-d98a-4f5b-ac57-ca7e99...</td>\n",
       "    </tr>\n",
       "  </tbody>\n",
       "</table>\n",
       "</div>"
      ],
      "text/plain": [
       "   object id relationship                           relationship_description  \\\n",
       "0        NaN   revoked-by                                               None   \n",
       "1        NaN   revoked-by                                               None   \n",
       "2        NaN         uses  [Android/Chuli.A](https://attack.mitre.org/sof...   \n",
       "3        NaN         uses  [Judy](https://attack.mitre.org/software/S0325...   \n",
       "4        NaN         uses  [Stealth Mango](https://attack.mitre.org/softw...   \n",
       "\n",
       "                                       source_object  \\\n",
       "0  attack-pattern--f296fc9c-2ff5-43ee-941e-6b49c4...   \n",
       "1  attack-pattern--45dcbc83-4abc-4de1-b643-e528d1...   \n",
       "2      malware--d05f7357-4cbe-47ea-bf83-b8604226d533   \n",
       "3      malware--172444ab-97fc-4d94-b142-179452bfb760   \n",
       "4      malware--085eb36d-697d-4d9a-bac3-96eb879fe73c   \n",
       "\n",
       "                                       target_object  \n",
       "0  attack-pattern--dfe29258-ce59-421c-9dee-e85cb9...  \n",
       "1  attack-pattern--dfe29258-ce59-421c-9dee-e85cb9...  \n",
       "2  attack-pattern--6a3f6490-9c44-40de-b059-e5940f...  \n",
       "3  attack-pattern--f981d199-2720-467e-9dc9-eea04d...  \n",
       "4  attack-pattern--6683aa0c-d98a-4f5b-ac57-ca7e99...  "
      ]
     },
     "execution_count": 43,
     "metadata": {},
     "output_type": "execute_result"
    }
   ],
   "source": [
    "print(\"Number of Relationships in Mobile ATT&CK\")\n",
    "print(len(all_mobile['relationships']))\n",
    "df = all_mobile['relationships']\n",
    "df = json_normalize(df)\n",
    "df.reindex(['object id','relationship', 'relationship_description','source_object', 'target_object'], axis=1)[0:5]"
   ]
  },
  {
   "cell_type": "markdown",
   "metadata": {},
   "source": [
    "## **Get STIX Object Types Directly from TAXII Server (Enterprise ATT&CK, Pre-ATT&CK & Mobile ATT&CK)**\n",
    "* In this section, we will query the ATT&CK TAXII Server in order to collect specific stix object types such as techniques, mitigations, groups, malware, tools and relationships from the Enterprise, PRE and Mobile Matrices.\n",
    "* There is no need to get all the stix objects available per each matrix unlike the first section of this notebook."
   ]
  },
  {
   "cell_type": "markdown",
   "metadata": {},
   "source": [
    "### Get All Enterprise Techniques ONLY (TAXII)"
   ]
  },
  {
   "cell_type": "code",
   "execution_count": 44,
   "metadata": {},
   "outputs": [
    {
     "name": "stdout",
     "output_type": "stream",
     "text": [
      "Number of Techniques in Enterprise ATT&CK\n",
      "223\n"
     ]
    },
    {
     "data": {
      "text/html": [
       "<div>\n",
       "<style scoped>\n",
       "    .dataframe tbody tr th:only-of-type {\n",
       "        vertical-align: middle;\n",
       "    }\n",
       "\n",
       "    .dataframe tbody tr th {\n",
       "        vertical-align: top;\n",
       "    }\n",
       "\n",
       "    .dataframe thead th {\n",
       "        text-align: right;\n",
       "    }\n",
       "</style>\n",
       "<table border=\"1\" class=\"dataframe\">\n",
       "  <thead>\n",
       "    <tr style=\"text-align: right;\">\n",
       "      <th></th>\n",
       "      <th>matrix</th>\n",
       "      <th>tactic</th>\n",
       "      <th>technique</th>\n",
       "      <th>technique_id</th>\n",
       "      <th>data_sources</th>\n",
       "      <th>contributors</th>\n",
       "    </tr>\n",
       "  </thead>\n",
       "  <tbody>\n",
       "    <tr>\n",
       "      <th>0</th>\n",
       "      <td>mitre-attack</td>\n",
       "      <td>[defense-evasion]</td>\n",
       "      <td>File Permissions Modification</td>\n",
       "      <td>T1222</td>\n",
       "      <td>[File monitoring, Process monitoring, Process ...</td>\n",
       "      <td>[Jan Miller, CrowdStrike]</td>\n",
       "    </tr>\n",
       "    <tr>\n",
       "      <th>1</th>\n",
       "      <td>mitre-attack</td>\n",
       "      <td>[defense-evasion, execution]</td>\n",
       "      <td>Compiled HTML File</td>\n",
       "      <td>T1223</td>\n",
       "      <td>[File monitoring, Process monitoring, Process ...</td>\n",
       "      <td>[Rahmat Nurfauzi, @infosecn1nja, PT Xynexis In...</td>\n",
       "    </tr>\n",
       "    <tr>\n",
       "      <th>2</th>\n",
       "      <td>mitre-attack</td>\n",
       "      <td>[defense-evasion]</td>\n",
       "      <td>Template Injection</td>\n",
       "      <td>T1221</td>\n",
       "      <td>[Anti-virus, Email gateway, Network intrusion ...</td>\n",
       "      <td>[Patrick Campbell, @pjcampbe11]</td>\n",
       "    </tr>\n",
       "    <tr>\n",
       "      <th>3</th>\n",
       "      <td>mitre-attack</td>\n",
       "      <td>[defense-evasion, execution]</td>\n",
       "      <td>XSL Script Processing</td>\n",
       "      <td>T1220</td>\n",
       "      <td>[Process monitoring, Process command-line para...</td>\n",
       "      <td>[Casey Smith, Praetorian]</td>\n",
       "    </tr>\n",
       "    <tr>\n",
       "      <th>4</th>\n",
       "      <td>mitre-attack</td>\n",
       "      <td>[defense-evasion, persistence]</td>\n",
       "      <td>BITS Jobs</td>\n",
       "      <td>T1197</td>\n",
       "      <td>[API monitoring, Packet capture, Windows event...</td>\n",
       "      <td>[Ricardo Dias, Red Canary]</td>\n",
       "    </tr>\n",
       "  </tbody>\n",
       "</table>\n",
       "</div>"
      ],
      "text/plain": [
       "         matrix                          tactic  \\\n",
       "0  mitre-attack               [defense-evasion]   \n",
       "1  mitre-attack    [defense-evasion, execution]   \n",
       "2  mitre-attack               [defense-evasion]   \n",
       "3  mitre-attack    [defense-evasion, execution]   \n",
       "4  mitre-attack  [defense-evasion, persistence]   \n",
       "\n",
       "                       technique technique_id  \\\n",
       "0  File Permissions Modification        T1222   \n",
       "1             Compiled HTML File        T1223   \n",
       "2             Template Injection        T1221   \n",
       "3          XSL Script Processing        T1220   \n",
       "4                      BITS Jobs        T1197   \n",
       "\n",
       "                                        data_sources  \\\n",
       "0  [File monitoring, Process monitoring, Process ...   \n",
       "1  [File monitoring, Process monitoring, Process ...   \n",
       "2  [Anti-virus, Email gateway, Network intrusion ...   \n",
       "3  [Process monitoring, Process command-line para...   \n",
       "4  [API monitoring, Packet capture, Windows event...   \n",
       "\n",
       "                                        contributors  \n",
       "0                          [Jan Miller, CrowdStrike]  \n",
       "1  [Rahmat Nurfauzi, @infosecn1nja, PT Xynexis In...  \n",
       "2                    [Patrick Campbell, @pjcampbe11]  \n",
       "3                          [Casey Smith, Praetorian]  \n",
       "4                         [Ricardo Dias, Red Canary]  "
      ]
     },
     "execution_count": 44,
     "metadata": {},
     "output_type": "execute_result"
    }
   ],
   "source": [
    "print(\"Number of Techniques in Enterprise ATT&CK\")\n",
    "techniques = lift.get_all_enterprise_techniques()\n",
    "print(len(techniques))\n",
    "df = json_normalize(techniques)\n",
    "df.reindex(['matrix', 'tactic', 'technique', 'technique_id', 'data_sources','contributors'], axis=1)[0:5]"
   ]
  },
  {
   "cell_type": "markdown",
   "metadata": {},
   "source": [
    "### Get All PRE Techniques ONLY (TAXII)"
   ]
  },
  {
   "cell_type": "code",
   "execution_count": 45,
   "metadata": {},
   "outputs": [
    {
     "name": "stdout",
     "output_type": "stream",
     "text": [
      "Number of Techniques in PRE-ATT&CK\n",
      "174\n"
     ]
    },
    {
     "data": {
      "text/html": [
       "<div>\n",
       "<style scoped>\n",
       "    .dataframe tbody tr th:only-of-type {\n",
       "        vertical-align: middle;\n",
       "    }\n",
       "\n",
       "    .dataframe tbody tr th {\n",
       "        vertical-align: top;\n",
       "    }\n",
       "\n",
       "    .dataframe thead th {\n",
       "        text-align: right;\n",
       "    }\n",
       "</style>\n",
       "<table border=\"1\" class=\"dataframe\">\n",
       "  <thead>\n",
       "    <tr style=\"text-align: right;\">\n",
       "      <th></th>\n",
       "      <th>matrix</th>\n",
       "      <th>tactic</th>\n",
       "      <th>technique</th>\n",
       "      <th>technique_id</th>\n",
       "      <th>detectable_by_common_defenses</th>\n",
       "      <th>contributors</th>\n",
       "    </tr>\n",
       "  </thead>\n",
       "  <tbody>\n",
       "    <tr>\n",
       "      <th>0</th>\n",
       "      <td>mitre-pre-attack</td>\n",
       "      <td>[technical-information-gathering]</td>\n",
       "      <td>Spearphishing for Information</td>\n",
       "      <td>T1397</td>\n",
       "      <td>Partial</td>\n",
       "      <td>None</td>\n",
       "    </tr>\n",
       "    <tr>\n",
       "      <th>1</th>\n",
       "      <td>mitre-pre-attack</td>\n",
       "      <td>[technical-information-gathering]</td>\n",
       "      <td>Acquire OSINT data sets and information</td>\n",
       "      <td>T1247</td>\n",
       "      <td>No</td>\n",
       "      <td>None</td>\n",
       "    </tr>\n",
       "    <tr>\n",
       "      <th>2</th>\n",
       "      <td>mitre-pre-attack</td>\n",
       "      <td>[establish-&amp;-maintain-infrastructure]</td>\n",
       "      <td>Acquire and/or use 3rd party software services</td>\n",
       "      <td>T1330</td>\n",
       "      <td>No</td>\n",
       "      <td>None</td>\n",
       "    </tr>\n",
       "    <tr>\n",
       "      <th>3</th>\n",
       "      <td>mitre-pre-attack</td>\n",
       "      <td>[technical-weakness-identification]</td>\n",
       "      <td>Analyze application security posture</td>\n",
       "      <td>T1293</td>\n",
       "      <td>No</td>\n",
       "      <td>None</td>\n",
       "    </tr>\n",
       "    <tr>\n",
       "      <th>4</th>\n",
       "      <td>mitre-pre-attack</td>\n",
       "      <td>[technical-weakness-identification]</td>\n",
       "      <td>Analyze organizational skillsets and deficiencies</td>\n",
       "      <td>T1289</td>\n",
       "      <td>No</td>\n",
       "      <td>None</td>\n",
       "    </tr>\n",
       "  </tbody>\n",
       "</table>\n",
       "</div>"
      ],
      "text/plain": [
       "             matrix                                 tactic  \\\n",
       "0  mitre-pre-attack      [technical-information-gathering]   \n",
       "1  mitre-pre-attack      [technical-information-gathering]   \n",
       "2  mitre-pre-attack  [establish-&-maintain-infrastructure]   \n",
       "3  mitre-pre-attack    [technical-weakness-identification]   \n",
       "4  mitre-pre-attack    [technical-weakness-identification]   \n",
       "\n",
       "                                           technique technique_id  \\\n",
       "0                      Spearphishing for Information        T1397   \n",
       "1            Acquire OSINT data sets and information        T1247   \n",
       "2     Acquire and/or use 3rd party software services        T1330   \n",
       "3               Analyze application security posture        T1293   \n",
       "4  Analyze organizational skillsets and deficiencies        T1289   \n",
       "\n",
       "  detectable_by_common_defenses contributors  \n",
       "0                       Partial         None  \n",
       "1                            No         None  \n",
       "2                            No         None  \n",
       "3                            No         None  \n",
       "4                            No         None  "
      ]
     },
     "execution_count": 45,
     "metadata": {},
     "output_type": "execute_result"
    }
   ],
   "source": [
    "print(\"Number of Techniques in PRE-ATT&CK\")\n",
    "techniques = lift.get_all_pre_techniques()\n",
    "print(len(techniques))\n",
    "df = json_normalize(techniques)\n",
    "df.reindex(['matrix', 'tactic', 'technique', 'technique_id', 'detectable_by_common_defenses', 'contributors'], axis=1)[0:5]"
   ]
  },
  {
   "cell_type": "markdown",
   "metadata": {},
   "source": [
    "### Get All Mobile Techniques ONLY (TAXII)"
   ]
  },
  {
   "cell_type": "code",
   "execution_count": 46,
   "metadata": {},
   "outputs": [
    {
     "name": "stdout",
     "output_type": "stream",
     "text": [
      "Number of Techniques in Mobile ATT&CK\n",
      "81\n"
     ]
    },
    {
     "data": {
      "text/html": [
       "<div>\n",
       "<style scoped>\n",
       "    .dataframe tbody tr th:only-of-type {\n",
       "        vertical-align: middle;\n",
       "    }\n",
       "\n",
       "    .dataframe tbody tr th {\n",
       "        vertical-align: top;\n",
       "    }\n",
       "\n",
       "    .dataframe thead th {\n",
       "        text-align: right;\n",
       "    }\n",
       "</style>\n",
       "<table border=\"1\" class=\"dataframe\">\n",
       "  <thead>\n",
       "    <tr style=\"text-align: right;\">\n",
       "      <th></th>\n",
       "      <th>matrix</th>\n",
       "      <th>id</th>\n",
       "      <th>tactic</th>\n",
       "      <th>technique</th>\n",
       "      <th>tactic_type</th>\n",
       "      <th>contributors</th>\n",
       "    </tr>\n",
       "  </thead>\n",
       "  <tbody>\n",
       "    <tr>\n",
       "      <th>0</th>\n",
       "      <td>mitre-mobile-attack</td>\n",
       "      <td>attack-pattern--d9db3d46-66ca-44b4-9daa-1ef97c...</td>\n",
       "      <td>[initial-access]</td>\n",
       "      <td>Deliver Malicious App via Authorized App Store</td>\n",
       "      <td>[Post-Adversary Device Access]</td>\n",
       "      <td>None</td>\n",
       "    </tr>\n",
       "    <tr>\n",
       "      <th>1</th>\n",
       "      <td>mitre-mobile-attack</td>\n",
       "      <td>attack-pattern--2d646840-f6f5-4619-a5a8-29c831...</td>\n",
       "      <td>[initial-access]</td>\n",
       "      <td>Exploit via Radio Interfaces</td>\n",
       "      <td>[Post-Adversary Device Access]</td>\n",
       "      <td>None</td>\n",
       "    </tr>\n",
       "    <tr>\n",
       "      <th>2</th>\n",
       "      <td>mitre-mobile-attack</td>\n",
       "      <td>attack-pattern--cde2cb84-455e-410c-8aa9-086f27...</td>\n",
       "      <td>[defense-evasion, initial-access]</td>\n",
       "      <td>Install Insecure or Malicious Configuration</td>\n",
       "      <td>[Post-Adversary Device Access]</td>\n",
       "      <td>None</td>\n",
       "    </tr>\n",
       "    <tr>\n",
       "      <th>3</th>\n",
       "      <td>mitre-mobile-attack</td>\n",
       "      <td>attack-pattern--53263a67-075e-48fa-974b-91c5b5...</td>\n",
       "      <td>[initial-access]</td>\n",
       "      <td>Deliver Malicious App via Other Means</td>\n",
       "      <td>[Post-Adversary Device Access]</td>\n",
       "      <td>None</td>\n",
       "    </tr>\n",
       "    <tr>\n",
       "      <th>4</th>\n",
       "      <td>mitre-mobile-attack</td>\n",
       "      <td>attack-pattern--0d95940f-9583-4e0f-824c-a42c1b...</td>\n",
       "      <td>[initial-access]</td>\n",
       "      <td>Supply Chain Compromise</td>\n",
       "      <td>[Post-Adversary Device Access]</td>\n",
       "      <td>None</td>\n",
       "    </tr>\n",
       "  </tbody>\n",
       "</table>\n",
       "</div>"
      ],
      "text/plain": [
       "                matrix                                                 id  \\\n",
       "0  mitre-mobile-attack  attack-pattern--d9db3d46-66ca-44b4-9daa-1ef97c...   \n",
       "1  mitre-mobile-attack  attack-pattern--2d646840-f6f5-4619-a5a8-29c831...   \n",
       "2  mitre-mobile-attack  attack-pattern--cde2cb84-455e-410c-8aa9-086f27...   \n",
       "3  mitre-mobile-attack  attack-pattern--53263a67-075e-48fa-974b-91c5b5...   \n",
       "4  mitre-mobile-attack  attack-pattern--0d95940f-9583-4e0f-824c-a42c1b...   \n",
       "\n",
       "                              tactic  \\\n",
       "0                   [initial-access]   \n",
       "1                   [initial-access]   \n",
       "2  [defense-evasion, initial-access]   \n",
       "3                   [initial-access]   \n",
       "4                   [initial-access]   \n",
       "\n",
       "                                        technique  \\\n",
       "0  Deliver Malicious App via Authorized App Store   \n",
       "1                    Exploit via Radio Interfaces   \n",
       "2     Install Insecure or Malicious Configuration   \n",
       "3           Deliver Malicious App via Other Means   \n",
       "4                         Supply Chain Compromise   \n",
       "\n",
       "                      tactic_type contributors  \n",
       "0  [Post-Adversary Device Access]         None  \n",
       "1  [Post-Adversary Device Access]         None  \n",
       "2  [Post-Adversary Device Access]         None  \n",
       "3  [Post-Adversary Device Access]         None  \n",
       "4  [Post-Adversary Device Access]         None  "
      ]
     },
     "execution_count": 46,
     "metadata": {},
     "output_type": "execute_result"
    }
   ],
   "source": [
    "print(\"Number of Techniques in Mobile ATT&CK\")\n",
    "techniques = lift.get_all_mobile_techniques()\n",
    "print(len(techniques))\n",
    "df = json_normalize(techniques)\n",
    "df.reindex(['matrix', 'id','tactic', 'technique', 'tactic_type','contributors'], axis=1)[0:5]"
   ]
  },
  {
   "cell_type": "markdown",
   "metadata": {},
   "source": [
    "### Get All Techniques (TAXII)\n",
    "* The results of this function shows every single technique across the whole ATT&CK framework without their mitigations information\n",
    "* Mitigations information has its own stix object type (Mitigation) that needs to be correlated with the help of relationship properties\n",
    "* There is a function already created in this library named **get_all_techniques_with_mitigations()** that allows you to get a more complete view of techniques"
   ]
  },
  {
   "cell_type": "code",
   "execution_count": 47,
   "metadata": {},
   "outputs": [
    {
     "name": "stdout",
     "output_type": "stream",
     "text": [
      "Number of Techniques in ATT&CK\n",
      "478\n"
     ]
    },
    {
     "data": {
      "text/html": [
       "<div>\n",
       "<style scoped>\n",
       "    .dataframe tbody tr th:only-of-type {\n",
       "        vertical-align: middle;\n",
       "    }\n",
       "\n",
       "    .dataframe tbody tr th {\n",
       "        vertical-align: top;\n",
       "    }\n",
       "\n",
       "    .dataframe thead th {\n",
       "        text-align: right;\n",
       "    }\n",
       "</style>\n",
       "<table border=\"1\" class=\"dataframe\">\n",
       "  <thead>\n",
       "    <tr style=\"text-align: right;\">\n",
       "      <th></th>\n",
       "      <th>matrix</th>\n",
       "      <th>tactic</th>\n",
       "      <th>technique</th>\n",
       "      <th>technique_id</th>\n",
       "      <th>data_sources</th>\n",
       "    </tr>\n",
       "  </thead>\n",
       "  <tbody>\n",
       "    <tr>\n",
       "      <th>0</th>\n",
       "      <td>mitre-attack</td>\n",
       "      <td>[defense-evasion]</td>\n",
       "      <td>File Permissions Modification</td>\n",
       "      <td>T1222</td>\n",
       "      <td>[File monitoring, Process monitoring, Process ...</td>\n",
       "    </tr>\n",
       "    <tr>\n",
       "      <th>1</th>\n",
       "      <td>mitre-attack</td>\n",
       "      <td>[defense-evasion, execution]</td>\n",
       "      <td>Compiled HTML File</td>\n",
       "      <td>T1223</td>\n",
       "      <td>[File monitoring, Process monitoring, Process ...</td>\n",
       "    </tr>\n",
       "    <tr>\n",
       "      <th>2</th>\n",
       "      <td>mitre-attack</td>\n",
       "      <td>[defense-evasion]</td>\n",
       "      <td>Template Injection</td>\n",
       "      <td>T1221</td>\n",
       "      <td>[Anti-virus, Email gateway, Network intrusion ...</td>\n",
       "    </tr>\n",
       "    <tr>\n",
       "      <th>3</th>\n",
       "      <td>mitre-attack</td>\n",
       "      <td>[defense-evasion, execution]</td>\n",
       "      <td>XSL Script Processing</td>\n",
       "      <td>T1220</td>\n",
       "      <td>[Process monitoring, Process command-line para...</td>\n",
       "    </tr>\n",
       "    <tr>\n",
       "      <th>4</th>\n",
       "      <td>mitre-attack</td>\n",
       "      <td>[defense-evasion, persistence]</td>\n",
       "      <td>BITS Jobs</td>\n",
       "      <td>T1197</td>\n",
       "      <td>[API monitoring, Packet capture, Windows event...</td>\n",
       "    </tr>\n",
       "  </tbody>\n",
       "</table>\n",
       "</div>"
      ],
      "text/plain": [
       "         matrix                          tactic  \\\n",
       "0  mitre-attack               [defense-evasion]   \n",
       "1  mitre-attack    [defense-evasion, execution]   \n",
       "2  mitre-attack               [defense-evasion]   \n",
       "3  mitre-attack    [defense-evasion, execution]   \n",
       "4  mitre-attack  [defense-evasion, persistence]   \n",
       "\n",
       "                       technique technique_id  \\\n",
       "0  File Permissions Modification        T1222   \n",
       "1             Compiled HTML File        T1223   \n",
       "2             Template Injection        T1221   \n",
       "3          XSL Script Processing        T1220   \n",
       "4                      BITS Jobs        T1197   \n",
       "\n",
       "                                        data_sources  \n",
       "0  [File monitoring, Process monitoring, Process ...  \n",
       "1  [File monitoring, Process monitoring, Process ...  \n",
       "2  [Anti-virus, Email gateway, Network intrusion ...  \n",
       "3  [Process monitoring, Process command-line para...  \n",
       "4  [API monitoring, Packet capture, Windows event...  "
      ]
     },
     "execution_count": 47,
     "metadata": {},
     "output_type": "execute_result"
    }
   ],
   "source": [
    "print(\"Number of Techniques in ATT&CK\")\n",
    "techniques = lift.get_all_techniques()\n",
    "print(len(techniques))\n",
    "df = json_normalize(techniques)\n",
    "df.reindex(['matrix', 'tactic', 'technique', 'technique_id', 'data_sources'], axis=1)[0:5]"
   ]
  },
  {
   "cell_type": "markdown",
   "metadata": {},
   "source": [
    "### Get All Enterprise Mitigations ONLY (TAXII)"
   ]
  },
  {
   "cell_type": "code",
   "execution_count": 48,
   "metadata": {},
   "outputs": [
    {
     "name": "stdout",
     "output_type": "stream",
     "text": [
      "Number of Mitigations in Enterprise ATT&CK\n",
      "222\n"
     ]
    },
    {
     "data": {
      "text/html": [
       "<div>\n",
       "<style scoped>\n",
       "    .dataframe tbody tr th:only-of-type {\n",
       "        vertical-align: middle;\n",
       "    }\n",
       "\n",
       "    .dataframe tbody tr th {\n",
       "        vertical-align: top;\n",
       "    }\n",
       "\n",
       "    .dataframe thead th {\n",
       "        text-align: right;\n",
       "    }\n",
       "</style>\n",
       "<table border=\"1\" class=\"dataframe\">\n",
       "  <thead>\n",
       "    <tr style=\"text-align: right;\">\n",
       "      <th></th>\n",
       "      <th>matrix</th>\n",
       "      <th>mitigation</th>\n",
       "      <th>mitigation_description</th>\n",
       "      <th>url</th>\n",
       "    </tr>\n",
       "  </thead>\n",
       "  <tbody>\n",
       "    <tr>\n",
       "      <th>0</th>\n",
       "      <td>mitre-attack</td>\n",
       "      <td>.bash_profile and .bashrc Mitigation</td>\n",
       "      <td>Making these files immutable and only changeab...</td>\n",
       "      <td>https://attack.mitre.org/techniques/T1156</td>\n",
       "    </tr>\n",
       "    <tr>\n",
       "      <th>1</th>\n",
       "      <td>mitre-attack</td>\n",
       "      <td>AppCert DLLs Mitigation</td>\n",
       "      <td>Identify and block potentially malicious softw...</td>\n",
       "      <td>https://attack.mitre.org/techniques/T1182</td>\n",
       "    </tr>\n",
       "    <tr>\n",
       "      <th>2</th>\n",
       "      <td>mitre-attack</td>\n",
       "      <td>Application Window Discovery Mitigation</td>\n",
       "      <td>Identify unnecessary system utilities or poten...</td>\n",
       "      <td>https://attack.mitre.org/techniques/T1010</td>\n",
       "    </tr>\n",
       "    <tr>\n",
       "      <th>3</th>\n",
       "      <td>mitre-attack</td>\n",
       "      <td>BITS Jobs Mitigation</td>\n",
       "      <td>This type of attack technique cannot be easily...</td>\n",
       "      <td>https://attack.mitre.org/techniques/T1197</td>\n",
       "    </tr>\n",
       "    <tr>\n",
       "      <th>4</th>\n",
       "      <td>mitre-attack</td>\n",
       "      <td>Browser Extensions Mitigation</td>\n",
       "      <td>Only install browser extensions from trusted s...</td>\n",
       "      <td>https://attack.mitre.org/techniques/T1176</td>\n",
       "    </tr>\n",
       "  </tbody>\n",
       "</table>\n",
       "</div>"
      ],
      "text/plain": [
       "         matrix                               mitigation  \\\n",
       "0  mitre-attack     .bash_profile and .bashrc Mitigation   \n",
       "1  mitre-attack                  AppCert DLLs Mitigation   \n",
       "2  mitre-attack  Application Window Discovery Mitigation   \n",
       "3  mitre-attack                     BITS Jobs Mitigation   \n",
       "4  mitre-attack            Browser Extensions Mitigation   \n",
       "\n",
       "                              mitigation_description  \\\n",
       "0  Making these files immutable and only changeab...   \n",
       "1  Identify and block potentially malicious softw...   \n",
       "2  Identify unnecessary system utilities or poten...   \n",
       "3  This type of attack technique cannot be easily...   \n",
       "4  Only install browser extensions from trusted s...   \n",
       "\n",
       "                                         url  \n",
       "0  https://attack.mitre.org/techniques/T1156  \n",
       "1  https://attack.mitre.org/techniques/T1182  \n",
       "2  https://attack.mitre.org/techniques/T1010  \n",
       "3  https://attack.mitre.org/techniques/T1197  \n",
       "4  https://attack.mitre.org/techniques/T1176  "
      ]
     },
     "execution_count": 48,
     "metadata": {},
     "output_type": "execute_result"
    }
   ],
   "source": [
    "print(\"Number of Mitigations in Enterprise ATT&CK\")\n",
    "mitigations = lift.get_all_enterprise_mitigations()\n",
    "print(len(mitigations))\n",
    "df = json_normalize(mitigations)\n",
    "df.reindex(['matrix', 'mitigation', 'mitigation_description', 'url'], axis=1)[0:5]"
   ]
  },
  {
   "cell_type": "markdown",
   "metadata": {},
   "source": [
    "### Get All Mobile Mitigations ONLY (TAXII)"
   ]
  },
  {
   "cell_type": "code",
   "execution_count": 49,
   "metadata": {},
   "outputs": [
    {
     "name": "stdout",
     "output_type": "stream",
     "text": [
      "Number of Mitigations in Mobile ATT&CK\n",
      "14\n"
     ]
    },
    {
     "data": {
      "text/html": [
       "<div>\n",
       "<style scoped>\n",
       "    .dataframe tbody tr th:only-of-type {\n",
       "        vertical-align: middle;\n",
       "    }\n",
       "\n",
       "    .dataframe tbody tr th {\n",
       "        vertical-align: top;\n",
       "    }\n",
       "\n",
       "    .dataframe thead th {\n",
       "        text-align: right;\n",
       "    }\n",
       "</style>\n",
       "<table border=\"1\" class=\"dataframe\">\n",
       "  <thead>\n",
       "    <tr style=\"text-align: right;\">\n",
       "      <th></th>\n",
       "      <th>matrix</th>\n",
       "      <th>mitigation</th>\n",
       "      <th>mitigation_description</th>\n",
       "      <th>url</th>\n",
       "    </tr>\n",
       "  </thead>\n",
       "  <tbody>\n",
       "    <tr>\n",
       "      <th>0</th>\n",
       "      <td>mitre-mobile-attack</td>\n",
       "      <td>Application Developer Guidance</td>\n",
       "      <td>This mitigation describes any guidance or trai...</td>\n",
       "      <td>https://attack.mitre.org/mitigations/M1013</td>\n",
       "    </tr>\n",
       "    <tr>\n",
       "      <th>1</th>\n",
       "      <td>mitre-mobile-attack</td>\n",
       "      <td>Enterprise Policy</td>\n",
       "      <td>An enterprise mobility management (EMM), also ...</td>\n",
       "      <td>https://attack.mitre.org/mitigations/M1012</td>\n",
       "    </tr>\n",
       "    <tr>\n",
       "      <th>2</th>\n",
       "      <td>mitre-mobile-attack</td>\n",
       "      <td>Attestation</td>\n",
       "      <td>Enable remote attestation capabilities when av...</td>\n",
       "      <td>https://attack.mitre.org/mitigations/M1002</td>\n",
       "    </tr>\n",
       "    <tr>\n",
       "      <th>3</th>\n",
       "      <td>mitre-mobile-attack</td>\n",
       "      <td>Deploy Compromised Device Detection Method</td>\n",
       "      <td>A variety of methods exist that can be used to...</td>\n",
       "      <td>https://attack.mitre.org/mitigations/M1010</td>\n",
       "    </tr>\n",
       "    <tr>\n",
       "      <th>4</th>\n",
       "      <td>mitre-mobile-attack</td>\n",
       "      <td>System Partition Integrity</td>\n",
       "      <td>Ensure that Android devices being used include...</td>\n",
       "      <td>https://attack.mitre.org/mitigations/M1004</td>\n",
       "    </tr>\n",
       "  </tbody>\n",
       "</table>\n",
       "</div>"
      ],
      "text/plain": [
       "                matrix                                  mitigation  \\\n",
       "0  mitre-mobile-attack              Application Developer Guidance   \n",
       "1  mitre-mobile-attack                           Enterprise Policy   \n",
       "2  mitre-mobile-attack                                 Attestation   \n",
       "3  mitre-mobile-attack  Deploy Compromised Device Detection Method   \n",
       "4  mitre-mobile-attack                  System Partition Integrity   \n",
       "\n",
       "                              mitigation_description  \\\n",
       "0  This mitigation describes any guidance or trai...   \n",
       "1  An enterprise mobility management (EMM), also ...   \n",
       "2  Enable remote attestation capabilities when av...   \n",
       "3  A variety of methods exist that can be used to...   \n",
       "4  Ensure that Android devices being used include...   \n",
       "\n",
       "                                          url  \n",
       "0  https://attack.mitre.org/mitigations/M1013  \n",
       "1  https://attack.mitre.org/mitigations/M1012  \n",
       "2  https://attack.mitre.org/mitigations/M1002  \n",
       "3  https://attack.mitre.org/mitigations/M1010  \n",
       "4  https://attack.mitre.org/mitigations/M1004  "
      ]
     },
     "execution_count": 49,
     "metadata": {},
     "output_type": "execute_result"
    }
   ],
   "source": [
    "print(\"Number of Mitigations in Mobile ATT&CK\")\n",
    "mitigations = lift.get_all_mobile_mitigations()\n",
    "print(len(mitigations))\n",
    "df = json_normalize(mitigations)\n",
    "df.reindex(['matrix', 'mitigation', 'mitigation_description', 'url'], axis=1)[0:5]"
   ]
  },
  {
   "cell_type": "markdown",
   "metadata": {},
   "source": [
    "### Get All Mitigations (TAXII)"
   ]
  },
  {
   "cell_type": "code",
   "execution_count": 50,
   "metadata": {},
   "outputs": [
    {
     "name": "stdout",
     "output_type": "stream",
     "text": [
      "Number of Mitigations in ATT&CK\n",
      "236\n"
     ]
    },
    {
     "data": {
      "text/html": [
       "<div>\n",
       "<style scoped>\n",
       "    .dataframe tbody tr th:only-of-type {\n",
       "        vertical-align: middle;\n",
       "    }\n",
       "\n",
       "    .dataframe tbody tr th {\n",
       "        vertical-align: top;\n",
       "    }\n",
       "\n",
       "    .dataframe thead th {\n",
       "        text-align: right;\n",
       "    }\n",
       "</style>\n",
       "<table border=\"1\" class=\"dataframe\">\n",
       "  <thead>\n",
       "    <tr style=\"text-align: right;\">\n",
       "      <th></th>\n",
       "      <th>matrix</th>\n",
       "      <th>mitigation</th>\n",
       "      <th>mitigation_description</th>\n",
       "      <th>url</th>\n",
       "    </tr>\n",
       "  </thead>\n",
       "  <tbody>\n",
       "    <tr>\n",
       "      <th>0</th>\n",
       "      <td>mitre-attack</td>\n",
       "      <td>.bash_profile and .bashrc Mitigation</td>\n",
       "      <td>Making these files immutable and only changeab...</td>\n",
       "      <td>https://attack.mitre.org/techniques/T1156</td>\n",
       "    </tr>\n",
       "    <tr>\n",
       "      <th>1</th>\n",
       "      <td>mitre-attack</td>\n",
       "      <td>AppCert DLLs Mitigation</td>\n",
       "      <td>Identify and block potentially malicious softw...</td>\n",
       "      <td>https://attack.mitre.org/techniques/T1182</td>\n",
       "    </tr>\n",
       "    <tr>\n",
       "      <th>2</th>\n",
       "      <td>mitre-attack</td>\n",
       "      <td>Application Window Discovery Mitigation</td>\n",
       "      <td>Identify unnecessary system utilities or poten...</td>\n",
       "      <td>https://attack.mitre.org/techniques/T1010</td>\n",
       "    </tr>\n",
       "    <tr>\n",
       "      <th>3</th>\n",
       "      <td>mitre-attack</td>\n",
       "      <td>BITS Jobs Mitigation</td>\n",
       "      <td>This type of attack technique cannot be easily...</td>\n",
       "      <td>https://attack.mitre.org/techniques/T1197</td>\n",
       "    </tr>\n",
       "    <tr>\n",
       "      <th>4</th>\n",
       "      <td>mitre-attack</td>\n",
       "      <td>Browser Extensions Mitigation</td>\n",
       "      <td>Only install browser extensions from trusted s...</td>\n",
       "      <td>https://attack.mitre.org/techniques/T1176</td>\n",
       "    </tr>\n",
       "  </tbody>\n",
       "</table>\n",
       "</div>"
      ],
      "text/plain": [
       "         matrix                               mitigation  \\\n",
       "0  mitre-attack     .bash_profile and .bashrc Mitigation   \n",
       "1  mitre-attack                  AppCert DLLs Mitigation   \n",
       "2  mitre-attack  Application Window Discovery Mitigation   \n",
       "3  mitre-attack                     BITS Jobs Mitigation   \n",
       "4  mitre-attack            Browser Extensions Mitigation   \n",
       "\n",
       "                              mitigation_description  \\\n",
       "0  Making these files immutable and only changeab...   \n",
       "1  Identify and block potentially malicious softw...   \n",
       "2  Identify unnecessary system utilities or poten...   \n",
       "3  This type of attack technique cannot be easily...   \n",
       "4  Only install browser extensions from trusted s...   \n",
       "\n",
       "                                         url  \n",
       "0  https://attack.mitre.org/techniques/T1156  \n",
       "1  https://attack.mitre.org/techniques/T1182  \n",
       "2  https://attack.mitre.org/techniques/T1010  \n",
       "3  https://attack.mitre.org/techniques/T1197  \n",
       "4  https://attack.mitre.org/techniques/T1176  "
      ]
     },
     "execution_count": 50,
     "metadata": {},
     "output_type": "execute_result"
    }
   ],
   "source": [
    "print(\"Number of Mitigations in ATT&CK\")\n",
    "mitigations = lift.get_all_mitigations()\n",
    "print(len(mitigations))\n",
    "df = json_normalize(mitigations)\n",
    "df.reindex(['matrix', 'mitigation', 'mitigation_description', 'url'], axis=1)[0:5]"
   ]
  },
  {
   "cell_type": "markdown",
   "metadata": {},
   "source": [
    "### Get All Enterprise Groups ONLY (TAXII)"
   ]
  },
  {
   "cell_type": "code",
   "execution_count": 51,
   "metadata": {},
   "outputs": [
    {
     "name": "stdout",
     "output_type": "stream",
     "text": [
      "Number of Groups in Enterprise ATT&CK\n",
      "80\n"
     ]
    },
    {
     "data": {
      "text/html": [
       "<div>\n",
       "<style scoped>\n",
       "    .dataframe tbody tr th:only-of-type {\n",
       "        vertical-align: middle;\n",
       "    }\n",
       "\n",
       "    .dataframe tbody tr th {\n",
       "        vertical-align: top;\n",
       "    }\n",
       "\n",
       "    .dataframe thead th {\n",
       "        text-align: right;\n",
       "    }\n",
       "</style>\n",
       "<table border=\"1\" class=\"dataframe\">\n",
       "  <thead>\n",
       "    <tr style=\"text-align: right;\">\n",
       "      <th></th>\n",
       "      <th>matrix</th>\n",
       "      <th>group</th>\n",
       "      <th>group_aliases</th>\n",
       "      <th>group_id</th>\n",
       "      <th>group_description</th>\n",
       "    </tr>\n",
       "  </thead>\n",
       "  <tbody>\n",
       "    <tr>\n",
       "      <th>0</th>\n",
       "      <td>mitre-attack</td>\n",
       "      <td>Dark Caracal</td>\n",
       "      <td>[Dark Caracal]</td>\n",
       "      <td>G0070</td>\n",
       "      <td>[Dark Caracal](https://attack.mitre.org/groups...</td>\n",
       "    </tr>\n",
       "    <tr>\n",
       "      <th>1</th>\n",
       "      <td>mitre-attack</td>\n",
       "      <td>APT19</td>\n",
       "      <td>[APT19, Codoso, C0d0so0, Codoso Team, Sunshop ...</td>\n",
       "      <td>G0073</td>\n",
       "      <td>[APT19](https://attack.mitre.org/groups/G0073)...</td>\n",
       "    </tr>\n",
       "    <tr>\n",
       "      <th>2</th>\n",
       "      <td>mitre-attack</td>\n",
       "      <td>Cobalt Group</td>\n",
       "      <td>[Cobalt Group, Cobalt Gang, Cobalt Spider]</td>\n",
       "      <td>G0080</td>\n",
       "      <td>[Cobalt Group](https://attack.mitre.org/groups...</td>\n",
       "    </tr>\n",
       "    <tr>\n",
       "      <th>3</th>\n",
       "      <td>mitre-attack</td>\n",
       "      <td>Thrip</td>\n",
       "      <td>[Thrip]</td>\n",
       "      <td>G0076</td>\n",
       "      <td>[Thrip](https://attack.mitre.org/groups/G0076)...</td>\n",
       "    </tr>\n",
       "    <tr>\n",
       "      <th>4</th>\n",
       "      <td>mitre-attack</td>\n",
       "      <td>DarkHydrus</td>\n",
       "      <td>[DarkHydrus]</td>\n",
       "      <td>G0079</td>\n",
       "      <td>[DarkHydrus](https://attack.mitre.org/groups/G...</td>\n",
       "    </tr>\n",
       "  </tbody>\n",
       "</table>\n",
       "</div>"
      ],
      "text/plain": [
       "         matrix         group  \\\n",
       "0  mitre-attack  Dark Caracal   \n",
       "1  mitre-attack         APT19   \n",
       "2  mitre-attack  Cobalt Group   \n",
       "3  mitre-attack         Thrip   \n",
       "4  mitre-attack    DarkHydrus   \n",
       "\n",
       "                                       group_aliases group_id  \\\n",
       "0                                     [Dark Caracal]    G0070   \n",
       "1  [APT19, Codoso, C0d0so0, Codoso Team, Sunshop ...    G0073   \n",
       "2         [Cobalt Group, Cobalt Gang, Cobalt Spider]    G0080   \n",
       "3                                            [Thrip]    G0076   \n",
       "4                                       [DarkHydrus]    G0079   \n",
       "\n",
       "                                   group_description  \n",
       "0  [Dark Caracal](https://attack.mitre.org/groups...  \n",
       "1  [APT19](https://attack.mitre.org/groups/G0073)...  \n",
       "2  [Cobalt Group](https://attack.mitre.org/groups...  \n",
       "3  [Thrip](https://attack.mitre.org/groups/G0076)...  \n",
       "4  [DarkHydrus](https://attack.mitre.org/groups/G...  "
      ]
     },
     "execution_count": 51,
     "metadata": {},
     "output_type": "execute_result"
    }
   ],
   "source": [
    "print(\"Number of Groups in Enterprise ATT&CK\")\n",
    "groups = lift.get_all_enterprise_groups()\n",
    "print(len(groups))\n",
    "df = json_normalize(groups)\n",
    "df.reindex(['matrix', 'group', 'group_aliases', 'group_id', 'group_description'], axis=1)[0:5]"
   ]
  },
  {
   "cell_type": "markdown",
   "metadata": {},
   "source": [
    "### Get All PRE Groups ONLY (TAXII)"
   ]
  },
  {
   "cell_type": "code",
   "execution_count": 52,
   "metadata": {},
   "outputs": [
    {
     "name": "stdout",
     "output_type": "stream",
     "text": [
      "Number of Groups in PRE-ATT&CK\n",
      "6\n"
     ]
    },
    {
     "data": {
      "text/html": [
       "<div>\n",
       "<style scoped>\n",
       "    .dataframe tbody tr th:only-of-type {\n",
       "        vertical-align: middle;\n",
       "    }\n",
       "\n",
       "    .dataframe tbody tr th {\n",
       "        vertical-align: top;\n",
       "    }\n",
       "\n",
       "    .dataframe thead th {\n",
       "        text-align: right;\n",
       "    }\n",
       "</style>\n",
       "<table border=\"1\" class=\"dataframe\">\n",
       "  <thead>\n",
       "    <tr style=\"text-align: right;\">\n",
       "      <th></th>\n",
       "      <th>matrix</th>\n",
       "      <th>group</th>\n",
       "      <th>group_aliases</th>\n",
       "      <th>group_id</th>\n",
       "      <th>group_description</th>\n",
       "    </tr>\n",
       "  </thead>\n",
       "  <tbody>\n",
       "    <tr>\n",
       "      <th>0</th>\n",
       "      <td>mitre-attack</td>\n",
       "      <td>APT17</td>\n",
       "      <td>[APT17, Deputy Dog]</td>\n",
       "      <td>G0025</td>\n",
       "      <td>[APT17](https://attack.mitre.org/groups/G0025)...</td>\n",
       "    </tr>\n",
       "    <tr>\n",
       "      <th>1</th>\n",
       "      <td>mitre-attack</td>\n",
       "      <td>APT16</td>\n",
       "      <td>[APT16]</td>\n",
       "      <td>G0023</td>\n",
       "      <td>[APT16](https://attack.mitre.org/groups/G0023)...</td>\n",
       "    </tr>\n",
       "    <tr>\n",
       "      <th>2</th>\n",
       "      <td>mitre-attack</td>\n",
       "      <td>Night Dragon</td>\n",
       "      <td>[Night Dragon, Musical Chairs]</td>\n",
       "      <td>G0014</td>\n",
       "      <td>[Night Dragon](https://attack.mitre.org/groups...</td>\n",
       "    </tr>\n",
       "    <tr>\n",
       "      <th>3</th>\n",
       "      <td>mitre-attack</td>\n",
       "      <td>APT28</td>\n",
       "      <td>[APT28, Sednit, Sofacy, Pawn Storm, Fancy Bear...</td>\n",
       "      <td>G0007</td>\n",
       "      <td>[APT28](https://attack.mitre.org/groups/G0007)...</td>\n",
       "    </tr>\n",
       "    <tr>\n",
       "      <th>4</th>\n",
       "      <td>mitre-attack</td>\n",
       "      <td>APT1</td>\n",
       "      <td>[APT1, Comment Crew, Comment Group, Comment Pa...</td>\n",
       "      <td>G0006</td>\n",
       "      <td>[APT1](https://attack.mitre.org/groups/G0006) ...</td>\n",
       "    </tr>\n",
       "  </tbody>\n",
       "</table>\n",
       "</div>"
      ],
      "text/plain": [
       "         matrix         group  \\\n",
       "0  mitre-attack         APT17   \n",
       "1  mitre-attack         APT16   \n",
       "2  mitre-attack  Night Dragon   \n",
       "3  mitre-attack         APT28   \n",
       "4  mitre-attack          APT1   \n",
       "\n",
       "                                       group_aliases group_id  \\\n",
       "0                                [APT17, Deputy Dog]    G0025   \n",
       "1                                            [APT16]    G0023   \n",
       "2                     [Night Dragon, Musical Chairs]    G0014   \n",
       "3  [APT28, Sednit, Sofacy, Pawn Storm, Fancy Bear...    G0007   \n",
       "4  [APT1, Comment Crew, Comment Group, Comment Pa...    G0006   \n",
       "\n",
       "                                   group_description  \n",
       "0  [APT17](https://attack.mitre.org/groups/G0025)...  \n",
       "1  [APT16](https://attack.mitre.org/groups/G0023)...  \n",
       "2  [Night Dragon](https://attack.mitre.org/groups...  \n",
       "3  [APT28](https://attack.mitre.org/groups/G0007)...  \n",
       "4  [APT1](https://attack.mitre.org/groups/G0006) ...  "
      ]
     },
     "execution_count": 52,
     "metadata": {},
     "output_type": "execute_result"
    }
   ],
   "source": [
    "print(\"Number of Groups in PRE-ATT&CK\")\n",
    "groups = lift.get_all_pre_groups()\n",
    "print(len(groups))\n",
    "df = json_normalize(groups)\n",
    "df.reindex(['matrix', 'group', 'group_aliases', 'group_id', 'group_description'], axis=1)[0:5]"
   ]
  },
  {
   "cell_type": "markdown",
   "metadata": {},
   "source": [
    "### Get All Mobile Groups ONLY (TAXII)"
   ]
  },
  {
   "cell_type": "code",
   "execution_count": 53,
   "metadata": {},
   "outputs": [
    {
     "name": "stdout",
     "output_type": "stream",
     "text": [
      "Number of Groups in Mobile ATT&CK\n",
      "1\n"
     ]
    },
    {
     "data": {
      "text/html": [
       "<div>\n",
       "<style scoped>\n",
       "    .dataframe tbody tr th:only-of-type {\n",
       "        vertical-align: middle;\n",
       "    }\n",
       "\n",
       "    .dataframe tbody tr th {\n",
       "        vertical-align: top;\n",
       "    }\n",
       "\n",
       "    .dataframe thead th {\n",
       "        text-align: right;\n",
       "    }\n",
       "</style>\n",
       "<table border=\"1\" class=\"dataframe\">\n",
       "  <thead>\n",
       "    <tr style=\"text-align: right;\">\n",
       "      <th></th>\n",
       "      <th>matrix</th>\n",
       "      <th>group</th>\n",
       "      <th>group_aliases</th>\n",
       "      <th>group_id</th>\n",
       "      <th>group_description</th>\n",
       "    </tr>\n",
       "  </thead>\n",
       "  <tbody>\n",
       "    <tr>\n",
       "      <th>0</th>\n",
       "      <td>mitre-attack</td>\n",
       "      <td>APT28</td>\n",
       "      <td>[APT28, Sednit, Sofacy, Pawn Storm, Fancy Bear...</td>\n",
       "      <td>G0007</td>\n",
       "      <td>[APT28](https://attack.mitre.org/groups/G0007)...</td>\n",
       "    </tr>\n",
       "  </tbody>\n",
       "</table>\n",
       "</div>"
      ],
      "text/plain": [
       "         matrix  group                                      group_aliases  \\\n",
       "0  mitre-attack  APT28  [APT28, Sednit, Sofacy, Pawn Storm, Fancy Bear...   \n",
       "\n",
       "  group_id                                  group_description  \n",
       "0    G0007  [APT28](https://attack.mitre.org/groups/G0007)...  "
      ]
     },
     "execution_count": 53,
     "metadata": {},
     "output_type": "execute_result"
    }
   ],
   "source": [
    "print(\"Number of Groups in Mobile ATT&CK\")\n",
    "groups = lift.get_all_mobile_groups()\n",
    "print(len(groups))\n",
    "df = json_normalize(groups)\n",
    "df.reindex(['matrix', 'group', 'group_aliases', 'group_id', 'group_description'], axis=1)[0:5]"
   ]
  },
  {
   "cell_type": "markdown",
   "metadata": {},
   "source": [
    "### Get All Groups (TAXII)"
   ]
  },
  {
   "cell_type": "markdown",
   "metadata": {},
   "source": [
    "* This function gathers all groups defined in each Matrix (Enterprise, PRE & Mobile) and returns the unique ones\n",
    "  * This is because groups can be repeated across matrices"
   ]
  },
  {
   "cell_type": "code",
   "execution_count": 54,
   "metadata": {},
   "outputs": [
    {
     "name": "stdout",
     "output_type": "stream",
     "text": [
      "Number of Groups in ATT&CK\n",
      "80\n"
     ]
    },
    {
     "data": {
      "text/html": [
       "<div>\n",
       "<style scoped>\n",
       "    .dataframe tbody tr th:only-of-type {\n",
       "        vertical-align: middle;\n",
       "    }\n",
       "\n",
       "    .dataframe tbody tr th {\n",
       "        vertical-align: top;\n",
       "    }\n",
       "\n",
       "    .dataframe thead th {\n",
       "        text-align: right;\n",
       "    }\n",
       "</style>\n",
       "<table border=\"1\" class=\"dataframe\">\n",
       "  <thead>\n",
       "    <tr style=\"text-align: right;\">\n",
       "      <th></th>\n",
       "      <th>matrix</th>\n",
       "      <th>group</th>\n",
       "      <th>group_aliases</th>\n",
       "      <th>group_id</th>\n",
       "      <th>group_description</th>\n",
       "    </tr>\n",
       "  </thead>\n",
       "  <tbody>\n",
       "    <tr>\n",
       "      <th>0</th>\n",
       "      <td>mitre-attack</td>\n",
       "      <td>Dark Caracal</td>\n",
       "      <td>[Dark Caracal]</td>\n",
       "      <td>G0070</td>\n",
       "      <td>[Dark Caracal](https://attack.mitre.org/groups...</td>\n",
       "    </tr>\n",
       "    <tr>\n",
       "      <th>1</th>\n",
       "      <td>mitre-attack</td>\n",
       "      <td>APT19</td>\n",
       "      <td>[APT19, Codoso, C0d0so0, Codoso Team, Sunshop ...</td>\n",
       "      <td>G0073</td>\n",
       "      <td>[APT19](https://attack.mitre.org/groups/G0073)...</td>\n",
       "    </tr>\n",
       "    <tr>\n",
       "      <th>2</th>\n",
       "      <td>mitre-attack</td>\n",
       "      <td>Cobalt Group</td>\n",
       "      <td>[Cobalt Group, Cobalt Gang, Cobalt Spider]</td>\n",
       "      <td>G0080</td>\n",
       "      <td>[Cobalt Group](https://attack.mitre.org/groups...</td>\n",
       "    </tr>\n",
       "    <tr>\n",
       "      <th>3</th>\n",
       "      <td>mitre-attack</td>\n",
       "      <td>Thrip</td>\n",
       "      <td>[Thrip]</td>\n",
       "      <td>G0076</td>\n",
       "      <td>[Thrip](https://attack.mitre.org/groups/G0076)...</td>\n",
       "    </tr>\n",
       "    <tr>\n",
       "      <th>4</th>\n",
       "      <td>mitre-attack</td>\n",
       "      <td>DarkHydrus</td>\n",
       "      <td>[DarkHydrus]</td>\n",
       "      <td>G0079</td>\n",
       "      <td>[DarkHydrus](https://attack.mitre.org/groups/G...</td>\n",
       "    </tr>\n",
       "  </tbody>\n",
       "</table>\n",
       "</div>"
      ],
      "text/plain": [
       "         matrix         group  \\\n",
       "0  mitre-attack  Dark Caracal   \n",
       "1  mitre-attack         APT19   \n",
       "2  mitre-attack  Cobalt Group   \n",
       "3  mitre-attack         Thrip   \n",
       "4  mitre-attack    DarkHydrus   \n",
       "\n",
       "                                       group_aliases group_id  \\\n",
       "0                                     [Dark Caracal]    G0070   \n",
       "1  [APT19, Codoso, C0d0so0, Codoso Team, Sunshop ...    G0073   \n",
       "2         [Cobalt Group, Cobalt Gang, Cobalt Spider]    G0080   \n",
       "3                                            [Thrip]    G0076   \n",
       "4                                       [DarkHydrus]    G0079   \n",
       "\n",
       "                                   group_description  \n",
       "0  [Dark Caracal](https://attack.mitre.org/groups...  \n",
       "1  [APT19](https://attack.mitre.org/groups/G0073)...  \n",
       "2  [Cobalt Group](https://attack.mitre.org/groups...  \n",
       "3  [Thrip](https://attack.mitre.org/groups/G0076)...  \n",
       "4  [DarkHydrus](https://attack.mitre.org/groups/G...  "
      ]
     },
     "execution_count": 54,
     "metadata": {},
     "output_type": "execute_result"
    }
   ],
   "source": [
    "print(\"Number of Groups in ATT&CK\")\n",
    "groups = lift.get_all_groups()\n",
    "print(len(groups))\n",
    "df = json_normalize(groups)\n",
    "df.reindex(['matrix', 'group', 'group_aliases', 'group_id', 'group_description'], axis=1)[0:5]"
   ]
  },
  {
   "cell_type": "markdown",
   "metadata": {},
   "source": [
    "### Get All Enterprise & Mobile Software (Malware & Tools) (TAXII)"
   ]
  },
  {
   "cell_type": "code",
   "execution_count": 55,
   "metadata": {},
   "outputs": [
    {
     "name": "stdout",
     "output_type": "stream",
     "text": [
      "Number of Software in ATT&CK\n",
      "329\n"
     ]
    },
    {
     "data": {
      "text/html": [
       "<div>\n",
       "<style scoped>\n",
       "    .dataframe tbody tr th:only-of-type {\n",
       "        vertical-align: middle;\n",
       "    }\n",
       "\n",
       "    .dataframe tbody tr th {\n",
       "        vertical-align: top;\n",
       "    }\n",
       "\n",
       "    .dataframe thead th {\n",
       "        text-align: right;\n",
       "    }\n",
       "</style>\n",
       "<table border=\"1\" class=\"dataframe\">\n",
       "  <thead>\n",
       "    <tr style=\"text-align: right;\">\n",
       "      <th></th>\n",
       "      <th>matrix</th>\n",
       "      <th>software</th>\n",
       "      <th>software_labels</th>\n",
       "      <th>software_id</th>\n",
       "      <th>software_description</th>\n",
       "    </tr>\n",
       "  </thead>\n",
       "  <tbody>\n",
       "    <tr>\n",
       "      <th>0</th>\n",
       "      <td>mitre-attack</td>\n",
       "      <td>Koadic</td>\n",
       "      <td>[tool]</td>\n",
       "      <td>S0250</td>\n",
       "      <td>[Koadic](https://attack.mitre.org/software/S02...</td>\n",
       "    </tr>\n",
       "    <tr>\n",
       "      <th>1</th>\n",
       "      <td>mitre-attack</td>\n",
       "      <td>QuasarRAT</td>\n",
       "      <td>[tool]</td>\n",
       "      <td>S0262</td>\n",
       "      <td>[QuasarRAT](https://attack.mitre.org/software/...</td>\n",
       "    </tr>\n",
       "    <tr>\n",
       "      <th>2</th>\n",
       "      <td>mitre-attack</td>\n",
       "      <td>sqlmap</td>\n",
       "      <td>[tool]</td>\n",
       "      <td>S0225</td>\n",
       "      <td>[sqlmap](https://attack.mitre.org/software/S02...</td>\n",
       "    </tr>\n",
       "    <tr>\n",
       "      <th>3</th>\n",
       "      <td>mitre-attack</td>\n",
       "      <td>Havij</td>\n",
       "      <td>[tool]</td>\n",
       "      <td>S0224</td>\n",
       "      <td>[Havij](https://attack.mitre.org/software/S022...</td>\n",
       "    </tr>\n",
       "    <tr>\n",
       "      <th>4</th>\n",
       "      <td>mitre-attack</td>\n",
       "      <td>SDelete</td>\n",
       "      <td>[tool]</td>\n",
       "      <td>S0195</td>\n",
       "      <td>[SDelete](https://attack.mitre.org/software/S0...</td>\n",
       "    </tr>\n",
       "  </tbody>\n",
       "</table>\n",
       "</div>"
      ],
      "text/plain": [
       "         matrix   software software_labels software_id  \\\n",
       "0  mitre-attack     Koadic          [tool]       S0250   \n",
       "1  mitre-attack  QuasarRAT          [tool]       S0262   \n",
       "2  mitre-attack     sqlmap          [tool]       S0225   \n",
       "3  mitre-attack      Havij          [tool]       S0224   \n",
       "4  mitre-attack    SDelete          [tool]       S0195   \n",
       "\n",
       "                                software_description  \n",
       "0  [Koadic](https://attack.mitre.org/software/S02...  \n",
       "1  [QuasarRAT](https://attack.mitre.org/software/...  \n",
       "2  [sqlmap](https://attack.mitre.org/software/S02...  \n",
       "3  [Havij](https://attack.mitre.org/software/S022...  \n",
       "4  [SDelete](https://attack.mitre.org/software/S0...  "
      ]
     },
     "execution_count": 55,
     "metadata": {},
     "output_type": "execute_result"
    }
   ],
   "source": [
    "print(\"Number of Software in ATT&CK\")\n",
    "software = lift.get_all_software()\n",
    "print(len(software))\n",
    "df = json_normalize(software)\n",
    "df.reindex(['matrix', 'software', 'software_labels', 'software_id', 'software_description'], axis=1)[0:5]"
   ]
  },
  {
   "cell_type": "markdown",
   "metadata": {},
   "source": [
    "### Get All Enterprise Relationships ONLY (TAXII)"
   ]
  },
  {
   "cell_type": "code",
   "execution_count": 56,
   "metadata": {},
   "outputs": [
    {
     "name": "stdout",
     "output_type": "stream",
     "text": [
      "Number of Relationships in Enterprise ATT&CK\n",
      "3725\n"
     ]
    },
    {
     "data": {
      "text/html": [
       "<div>\n",
       "<style scoped>\n",
       "    .dataframe tbody tr th:only-of-type {\n",
       "        vertical-align: middle;\n",
       "    }\n",
       "\n",
       "    .dataframe tbody tr th {\n",
       "        vertical-align: top;\n",
       "    }\n",
       "\n",
       "    .dataframe thead th {\n",
       "        text-align: right;\n",
       "    }\n",
       "</style>\n",
       "<table border=\"1\" class=\"dataframe\">\n",
       "  <thead>\n",
       "    <tr style=\"text-align: right;\">\n",
       "      <th></th>\n",
       "      <th>id</th>\n",
       "      <th>relationship</th>\n",
       "      <th>relationship_description</th>\n",
       "      <th>source_object</th>\n",
       "      <th>target_object</th>\n",
       "    </tr>\n",
       "  </thead>\n",
       "  <tbody>\n",
       "    <tr>\n",
       "      <th>0</th>\n",
       "      <td>relationship--9a8ca137-d0ec-4861-ad1b-0686bf6a...</td>\n",
       "      <td>mitigates</td>\n",
       "      <td>None</td>\n",
       "      <td>course-of-action--a98be93b-a75b-4dd4-8a72-4dfd...</td>\n",
       "      <td>attack-pattern--51ea26b1-ff1e-4faa-b1a0-1114cd...</td>\n",
       "    </tr>\n",
       "    <tr>\n",
       "      <th>1</th>\n",
       "      <td>relationship--3bcfc38f-5fe8-4c66-8352-d3ba71c4...</td>\n",
       "      <td>uses</td>\n",
       "      <td>[APT19](https://attack.mitre.org/groups/G0073)...</td>\n",
       "      <td>intrusion-set--fe8796a4-2a02-41a0-9d27-7aa1e99...</td>\n",
       "      <td>attack-pattern--62b8c999-dcc0-4755-bd69-09442d...</td>\n",
       "    </tr>\n",
       "    <tr>\n",
       "      <th>2</th>\n",
       "      <td>relationship--a3ee84d8-139e-4703-97c9-53cdeea9...</td>\n",
       "      <td>uses</td>\n",
       "      <td>[APT28](https://attack.mitre.org/groups/G0007)...</td>\n",
       "      <td>intrusion-set--bef4c620-0787-42a8-a96d-b7eb6e8...</td>\n",
       "      <td>attack-pattern--7385dfaf-6886-4229-9ecd-6fd678...</td>\n",
       "    </tr>\n",
       "    <tr>\n",
       "      <th>3</th>\n",
       "      <td>relationship--4f2e62d0-5345-45dc-9e9d-46bb11c5...</td>\n",
       "      <td>uses</td>\n",
       "      <td>[APT19](https://attack.mitre.org/groups/G0073)...</td>\n",
       "      <td>intrusion-set--fe8796a4-2a02-41a0-9d27-7aa1e99...</td>\n",
       "      <td>attack-pattern--7fd87010-3a00-4da3-b905-410525...</td>\n",
       "    </tr>\n",
       "    <tr>\n",
       "      <th>4</th>\n",
       "      <td>relationship--85d0b364-01f8-4ed5-a0dd-a534ccfc...</td>\n",
       "      <td>mitigates</td>\n",
       "      <td>None</td>\n",
       "      <td>course-of-action--c7e49501-6021-414f-bfa1-9451...</td>\n",
       "      <td>attack-pattern--dc31fe1e-d722-49da-8f5f-92c7b5...</td>\n",
       "    </tr>\n",
       "  </tbody>\n",
       "</table>\n",
       "</div>"
      ],
      "text/plain": [
       "                                                  id relationship  \\\n",
       "0  relationship--9a8ca137-d0ec-4861-ad1b-0686bf6a...    mitigates   \n",
       "1  relationship--3bcfc38f-5fe8-4c66-8352-d3ba71c4...         uses   \n",
       "2  relationship--a3ee84d8-139e-4703-97c9-53cdeea9...         uses   \n",
       "3  relationship--4f2e62d0-5345-45dc-9e9d-46bb11c5...         uses   \n",
       "4  relationship--85d0b364-01f8-4ed5-a0dd-a534ccfc...    mitigates   \n",
       "\n",
       "                            relationship_description  \\\n",
       "0                                               None   \n",
       "1  [APT19](https://attack.mitre.org/groups/G0073)...   \n",
       "2  [APT28](https://attack.mitre.org/groups/G0007)...   \n",
       "3  [APT19](https://attack.mitre.org/groups/G0073)...   \n",
       "4                                               None   \n",
       "\n",
       "                                       source_object  \\\n",
       "0  course-of-action--a98be93b-a75b-4dd4-8a72-4dfd...   \n",
       "1  intrusion-set--fe8796a4-2a02-41a0-9d27-7aa1e99...   \n",
       "2  intrusion-set--bef4c620-0787-42a8-a96d-b7eb6e8...   \n",
       "3  intrusion-set--fe8796a4-2a02-41a0-9d27-7aa1e99...   \n",
       "4  course-of-action--c7e49501-6021-414f-bfa1-9451...   \n",
       "\n",
       "                                       target_object  \n",
       "0  attack-pattern--51ea26b1-ff1e-4faa-b1a0-1114cd...  \n",
       "1  attack-pattern--62b8c999-dcc0-4755-bd69-09442d...  \n",
       "2  attack-pattern--7385dfaf-6886-4229-9ecd-6fd678...  \n",
       "3  attack-pattern--7fd87010-3a00-4da3-b905-410525...  \n",
       "4  attack-pattern--dc31fe1e-d722-49da-8f5f-92c7b5...  "
      ]
     },
     "execution_count": 56,
     "metadata": {},
     "output_type": "execute_result"
    }
   ],
   "source": [
    "print(\"Number of Relationships in Enterprise ATT&CK\")\n",
    "relationships = lift.get_all_enterprise_relationships()\n",
    "print(len(relationships))\n",
    "df = json_normalize(relationships)\n",
    "df.reindex(['id','relationship', 'relationship_description', 'source_object', 'target_object'], axis=1)[0:5]"
   ]
  },
  {
   "cell_type": "markdown",
   "metadata": {},
   "source": [
    "### Get All PRE Relationships ONLY (TAXII)"
   ]
  },
  {
   "cell_type": "code",
   "execution_count": 57,
   "metadata": {},
   "outputs": [
    {
     "name": "stdout",
     "output_type": "stream",
     "text": [
      "Number of Relationships in PRE-ATT&CK\n",
      "68\n"
     ]
    },
    {
     "data": {
      "text/html": [
       "<div>\n",
       "<style scoped>\n",
       "    .dataframe tbody tr th:only-of-type {\n",
       "        vertical-align: middle;\n",
       "    }\n",
       "\n",
       "    .dataframe tbody tr th {\n",
       "        vertical-align: top;\n",
       "    }\n",
       "\n",
       "    .dataframe thead th {\n",
       "        text-align: right;\n",
       "    }\n",
       "</style>\n",
       "<table border=\"1\" class=\"dataframe\">\n",
       "  <thead>\n",
       "    <tr style=\"text-align: right;\">\n",
       "      <th></th>\n",
       "      <th>id</th>\n",
       "      <th>relationship</th>\n",
       "      <th>relationship_description</th>\n",
       "      <th>source_object</th>\n",
       "      <th>target_object</th>\n",
       "    </tr>\n",
       "  </thead>\n",
       "  <tbody>\n",
       "    <tr>\n",
       "      <th>0</th>\n",
       "      <td>relationship--be031f72-737b-4afd-b2c1-c565f5ab...</td>\n",
       "      <td>related-to</td>\n",
       "      <td>None</td>\n",
       "      <td>attack-pattern--2b9a666e-bd59-4f67-9031-ed41b4...</td>\n",
       "      <td>attack-pattern--784ff1bc-1483-41fe-a172-4cd9ae...</td>\n",
       "    </tr>\n",
       "    <tr>\n",
       "      <th>1</th>\n",
       "      <td>relationship--4a69750c-47d5-40f5-b753-c6bb2a27...</td>\n",
       "      <td>related-to</td>\n",
       "      <td>None</td>\n",
       "      <td>attack-pattern--eacd1efe-ee30-4b03-b58f-5b3b1a...</td>\n",
       "      <td>attack-pattern--103d72e6-7e0d-4b3a-9373-c38567...</td>\n",
       "    </tr>\n",
       "    <tr>\n",
       "      <th>2</th>\n",
       "      <td>relationship--f8559304-7ef6-4c48-8d76-a56ebf37...</td>\n",
       "      <td>uses</td>\n",
       "      <td>[APT16](https://attack.mitre.org/groups/G0023)...</td>\n",
       "      <td>intrusion-set--d6e88e18-81e8-4709-82d8-973095d...</td>\n",
       "      <td>attack-pattern--e51398e6-53dc-4e9f-a323-e54683...</td>\n",
       "    </tr>\n",
       "    <tr>\n",
       "      <th>3</th>\n",
       "      <td>relationship--fe31fa7c-be01-47ca-90bb-0fb49b49...</td>\n",
       "      <td>related-to</td>\n",
       "      <td>None</td>\n",
       "      <td>attack-pattern--03f4a766-7a21-4b5e-9ccf-e0cf42...</td>\n",
       "      <td>attack-pattern--e5164428-03ca-4336-a9a7-4d9ea1...</td>\n",
       "    </tr>\n",
       "    <tr>\n",
       "      <th>4</th>\n",
       "      <td>relationship--689ebb39-52f4-4b2f-8678-72cfed67...</td>\n",
       "      <td>related-to</td>\n",
       "      <td>None</td>\n",
       "      <td>attack-pattern--0722cd65-0c83-4c89-9502-539198...</td>\n",
       "      <td>attack-pattern--7718e92f-b011-4f88-b822-ae245a...</td>\n",
       "    </tr>\n",
       "  </tbody>\n",
       "</table>\n",
       "</div>"
      ],
      "text/plain": [
       "                                                  id relationship  \\\n",
       "0  relationship--be031f72-737b-4afd-b2c1-c565f5ab...   related-to   \n",
       "1  relationship--4a69750c-47d5-40f5-b753-c6bb2a27...   related-to   \n",
       "2  relationship--f8559304-7ef6-4c48-8d76-a56ebf37...         uses   \n",
       "3  relationship--fe31fa7c-be01-47ca-90bb-0fb49b49...   related-to   \n",
       "4  relationship--689ebb39-52f4-4b2f-8678-72cfed67...   related-to   \n",
       "\n",
       "                            relationship_description  \\\n",
       "0                                               None   \n",
       "1                                               None   \n",
       "2  [APT16](https://attack.mitre.org/groups/G0023)...   \n",
       "3                                               None   \n",
       "4                                               None   \n",
       "\n",
       "                                       source_object  \\\n",
       "0  attack-pattern--2b9a666e-bd59-4f67-9031-ed41b4...   \n",
       "1  attack-pattern--eacd1efe-ee30-4b03-b58f-5b3b1a...   \n",
       "2  intrusion-set--d6e88e18-81e8-4709-82d8-973095d...   \n",
       "3  attack-pattern--03f4a766-7a21-4b5e-9ccf-e0cf42...   \n",
       "4  attack-pattern--0722cd65-0c83-4c89-9502-539198...   \n",
       "\n",
       "                                       target_object  \n",
       "0  attack-pattern--784ff1bc-1483-41fe-a172-4cd9ae...  \n",
       "1  attack-pattern--103d72e6-7e0d-4b3a-9373-c38567...  \n",
       "2  attack-pattern--e51398e6-53dc-4e9f-a323-e54683...  \n",
       "3  attack-pattern--e5164428-03ca-4336-a9a7-4d9ea1...  \n",
       "4  attack-pattern--7718e92f-b011-4f88-b822-ae245a...  "
      ]
     },
     "execution_count": 57,
     "metadata": {},
     "output_type": "execute_result"
    }
   ],
   "source": [
    "print(\"Number of Relationships in PRE-ATT&CK\")\n",
    "relationships = lift.get_all_pre_relationships()\n",
    "print(len(relationships))\n",
    "df = json_normalize(relationships)\n",
    "df.reindex(['id','relationship', 'relationship_description', 'source_object', 'target_object'], axis=1)[0:5]"
   ]
  },
  {
   "cell_type": "markdown",
   "metadata": {},
   "source": [
    "### Get All Mobile Relationships ONLY (TAXII)"
   ]
  },
  {
   "cell_type": "code",
   "execution_count": 58,
   "metadata": {},
   "outputs": [
    {
     "name": "stdout",
     "output_type": "stream",
     "text": [
      "Number of Relationships in Mobile ATT&CK\n",
      "299\n"
     ]
    },
    {
     "data": {
      "text/html": [
       "<div>\n",
       "<style scoped>\n",
       "    .dataframe tbody tr th:only-of-type {\n",
       "        vertical-align: middle;\n",
       "    }\n",
       "\n",
       "    .dataframe tbody tr th {\n",
       "        vertical-align: top;\n",
       "    }\n",
       "\n",
       "    .dataframe thead th {\n",
       "        text-align: right;\n",
       "    }\n",
       "</style>\n",
       "<table border=\"1\" class=\"dataframe\">\n",
       "  <thead>\n",
       "    <tr style=\"text-align: right;\">\n",
       "      <th></th>\n",
       "      <th>id</th>\n",
       "      <th>relationship</th>\n",
       "      <th>relationship_description</th>\n",
       "      <th>source_object</th>\n",
       "      <th>target_object</th>\n",
       "    </tr>\n",
       "  </thead>\n",
       "  <tbody>\n",
       "    <tr>\n",
       "      <th>0</th>\n",
       "      <td>relationship--0a28b2f2-ca0e-4d9f-9840-26e8ce94...</td>\n",
       "      <td>revoked-by</td>\n",
       "      <td>None</td>\n",
       "      <td>attack-pattern--f296fc9c-2ff5-43ee-941e-6b49c4...</td>\n",
       "      <td>attack-pattern--dfe29258-ce59-421c-9dee-e85cb9...</td>\n",
       "    </tr>\n",
       "    <tr>\n",
       "      <th>1</th>\n",
       "      <td>relationship--01965668-d033-4aca-a8e5-71a07070...</td>\n",
       "      <td>revoked-by</td>\n",
       "      <td>None</td>\n",
       "      <td>attack-pattern--45dcbc83-4abc-4de1-b643-e528d1...</td>\n",
       "      <td>attack-pattern--dfe29258-ce59-421c-9dee-e85cb9...</td>\n",
       "    </tr>\n",
       "    <tr>\n",
       "      <th>2</th>\n",
       "      <td>relationship--3b0cb886-dabc-4622-b91f-3851e2a7...</td>\n",
       "      <td>uses</td>\n",
       "      <td>[Android/Chuli.A](https://attack.mitre.org/sof...</td>\n",
       "      <td>malware--d05f7357-4cbe-47ea-bf83-b8604226d533</td>\n",
       "      <td>attack-pattern--6a3f6490-9c44-40de-b059-e5940f...</td>\n",
       "    </tr>\n",
       "    <tr>\n",
       "      <th>3</th>\n",
       "      <td>relationship--1c42ee3a-c400-4de6-84aa-b254422a...</td>\n",
       "      <td>uses</td>\n",
       "      <td>[Judy](https://attack.mitre.org/software/S0325...</td>\n",
       "      <td>malware--172444ab-97fc-4d94-b142-179452bfb760</td>\n",
       "      <td>attack-pattern--f981d199-2720-467e-9dc9-eea04d...</td>\n",
       "    </tr>\n",
       "    <tr>\n",
       "      <th>4</th>\n",
       "      <td>relationship--3498d304-48e3-4fe4-a3ab-fc261104...</td>\n",
       "      <td>uses</td>\n",
       "      <td>[Stealth Mango](https://attack.mitre.org/softw...</td>\n",
       "      <td>malware--085eb36d-697d-4d9a-bac3-96eb879fe73c</td>\n",
       "      <td>attack-pattern--6683aa0c-d98a-4f5b-ac57-ca7e99...</td>\n",
       "    </tr>\n",
       "  </tbody>\n",
       "</table>\n",
       "</div>"
      ],
      "text/plain": [
       "                                                  id relationship  \\\n",
       "0  relationship--0a28b2f2-ca0e-4d9f-9840-26e8ce94...   revoked-by   \n",
       "1  relationship--01965668-d033-4aca-a8e5-71a07070...   revoked-by   \n",
       "2  relationship--3b0cb886-dabc-4622-b91f-3851e2a7...         uses   \n",
       "3  relationship--1c42ee3a-c400-4de6-84aa-b254422a...         uses   \n",
       "4  relationship--3498d304-48e3-4fe4-a3ab-fc261104...         uses   \n",
       "\n",
       "                            relationship_description  \\\n",
       "0                                               None   \n",
       "1                                               None   \n",
       "2  [Android/Chuli.A](https://attack.mitre.org/sof...   \n",
       "3  [Judy](https://attack.mitre.org/software/S0325...   \n",
       "4  [Stealth Mango](https://attack.mitre.org/softw...   \n",
       "\n",
       "                                       source_object  \\\n",
       "0  attack-pattern--f296fc9c-2ff5-43ee-941e-6b49c4...   \n",
       "1  attack-pattern--45dcbc83-4abc-4de1-b643-e528d1...   \n",
       "2      malware--d05f7357-4cbe-47ea-bf83-b8604226d533   \n",
       "3      malware--172444ab-97fc-4d94-b142-179452bfb760   \n",
       "4      malware--085eb36d-697d-4d9a-bac3-96eb879fe73c   \n",
       "\n",
       "                                       target_object  \n",
       "0  attack-pattern--dfe29258-ce59-421c-9dee-e85cb9...  \n",
       "1  attack-pattern--dfe29258-ce59-421c-9dee-e85cb9...  \n",
       "2  attack-pattern--6a3f6490-9c44-40de-b059-e5940f...  \n",
       "3  attack-pattern--f981d199-2720-467e-9dc9-eea04d...  \n",
       "4  attack-pattern--6683aa0c-d98a-4f5b-ac57-ca7e99...  "
      ]
     },
     "execution_count": 58,
     "metadata": {},
     "output_type": "execute_result"
    }
   ],
   "source": [
    "print(\"Number of Relationships in Mobile ATT&CK\")\n",
    "relationships = lift.get_all_mobile_relationships()\n",
    "print(len(relationships))\n",
    "df = json_normalize(relationships)\n",
    "df.reindex(['id','relationship', 'relationship_description', 'source_object', 'target_object'], axis=1)[0:5]"
   ]
  },
  {
   "cell_type": "markdown",
   "metadata": {},
   "source": [
    "### Get All Relationships (TAXII)"
   ]
  },
  {
   "cell_type": "code",
   "execution_count": 59,
   "metadata": {},
   "outputs": [
    {
     "name": "stdout",
     "output_type": "stream",
     "text": [
      "Number of Relationships in ATT&CK\n",
      "4092\n"
     ]
    },
    {
     "data": {
      "text/html": [
       "<div>\n",
       "<style scoped>\n",
       "    .dataframe tbody tr th:only-of-type {\n",
       "        vertical-align: middle;\n",
       "    }\n",
       "\n",
       "    .dataframe tbody tr th {\n",
       "        vertical-align: top;\n",
       "    }\n",
       "\n",
       "    .dataframe thead th {\n",
       "        text-align: right;\n",
       "    }\n",
       "</style>\n",
       "<table border=\"1\" class=\"dataframe\">\n",
       "  <thead>\n",
       "    <tr style=\"text-align: right;\">\n",
       "      <th></th>\n",
       "      <th>id</th>\n",
       "      <th>relationship</th>\n",
       "      <th>relationship_description</th>\n",
       "      <th>source_object</th>\n",
       "      <th>target_object</th>\n",
       "    </tr>\n",
       "  </thead>\n",
       "  <tbody>\n",
       "    <tr>\n",
       "      <th>0</th>\n",
       "      <td>relationship--9a8ca137-d0ec-4861-ad1b-0686bf6a...</td>\n",
       "      <td>mitigates</td>\n",
       "      <td>None</td>\n",
       "      <td>course-of-action--a98be93b-a75b-4dd4-8a72-4dfd...</td>\n",
       "      <td>attack-pattern--51ea26b1-ff1e-4faa-b1a0-1114cd...</td>\n",
       "    </tr>\n",
       "    <tr>\n",
       "      <th>1</th>\n",
       "      <td>relationship--3bcfc38f-5fe8-4c66-8352-d3ba71c4...</td>\n",
       "      <td>uses</td>\n",
       "      <td>[APT19](https://attack.mitre.org/groups/G0073)...</td>\n",
       "      <td>intrusion-set--fe8796a4-2a02-41a0-9d27-7aa1e99...</td>\n",
       "      <td>attack-pattern--62b8c999-dcc0-4755-bd69-09442d...</td>\n",
       "    </tr>\n",
       "    <tr>\n",
       "      <th>2</th>\n",
       "      <td>relationship--a3ee84d8-139e-4703-97c9-53cdeea9...</td>\n",
       "      <td>uses</td>\n",
       "      <td>[APT28](https://attack.mitre.org/groups/G0007)...</td>\n",
       "      <td>intrusion-set--bef4c620-0787-42a8-a96d-b7eb6e8...</td>\n",
       "      <td>attack-pattern--7385dfaf-6886-4229-9ecd-6fd678...</td>\n",
       "    </tr>\n",
       "    <tr>\n",
       "      <th>3</th>\n",
       "      <td>relationship--4f2e62d0-5345-45dc-9e9d-46bb11c5...</td>\n",
       "      <td>uses</td>\n",
       "      <td>[APT19](https://attack.mitre.org/groups/G0073)...</td>\n",
       "      <td>intrusion-set--fe8796a4-2a02-41a0-9d27-7aa1e99...</td>\n",
       "      <td>attack-pattern--7fd87010-3a00-4da3-b905-410525...</td>\n",
       "    </tr>\n",
       "    <tr>\n",
       "      <th>4</th>\n",
       "      <td>relationship--85d0b364-01f8-4ed5-a0dd-a534ccfc...</td>\n",
       "      <td>mitigates</td>\n",
       "      <td>None</td>\n",
       "      <td>course-of-action--c7e49501-6021-414f-bfa1-9451...</td>\n",
       "      <td>attack-pattern--dc31fe1e-d722-49da-8f5f-92c7b5...</td>\n",
       "    </tr>\n",
       "  </tbody>\n",
       "</table>\n",
       "</div>"
      ],
      "text/plain": [
       "                                                  id relationship  \\\n",
       "0  relationship--9a8ca137-d0ec-4861-ad1b-0686bf6a...    mitigates   \n",
       "1  relationship--3bcfc38f-5fe8-4c66-8352-d3ba71c4...         uses   \n",
       "2  relationship--a3ee84d8-139e-4703-97c9-53cdeea9...         uses   \n",
       "3  relationship--4f2e62d0-5345-45dc-9e9d-46bb11c5...         uses   \n",
       "4  relationship--85d0b364-01f8-4ed5-a0dd-a534ccfc...    mitigates   \n",
       "\n",
       "                            relationship_description  \\\n",
       "0                                               None   \n",
       "1  [APT19](https://attack.mitre.org/groups/G0073)...   \n",
       "2  [APT28](https://attack.mitre.org/groups/G0007)...   \n",
       "3  [APT19](https://attack.mitre.org/groups/G0073)...   \n",
       "4                                               None   \n",
       "\n",
       "                                       source_object  \\\n",
       "0  course-of-action--a98be93b-a75b-4dd4-8a72-4dfd...   \n",
       "1  intrusion-set--fe8796a4-2a02-41a0-9d27-7aa1e99...   \n",
       "2  intrusion-set--bef4c620-0787-42a8-a96d-b7eb6e8...   \n",
       "3  intrusion-set--fe8796a4-2a02-41a0-9d27-7aa1e99...   \n",
       "4  course-of-action--c7e49501-6021-414f-bfa1-9451...   \n",
       "\n",
       "                                       target_object  \n",
       "0  attack-pattern--51ea26b1-ff1e-4faa-b1a0-1114cd...  \n",
       "1  attack-pattern--62b8c999-dcc0-4755-bd69-09442d...  \n",
       "2  attack-pattern--7385dfaf-6886-4229-9ecd-6fd678...  \n",
       "3  attack-pattern--7fd87010-3a00-4da3-b905-410525...  \n",
       "4  attack-pattern--dc31fe1e-d722-49da-8f5f-92c7b5...  "
      ]
     },
     "execution_count": 59,
     "metadata": {},
     "output_type": "execute_result"
    }
   ],
   "source": [
    "print(\"Number of Relationships in ATT&CK\")\n",
    "relationships = lift.get_all_relationships()\n",
    "print(len(relationships))\n",
    "df = json_normalize(relationships)\n",
    "df.reindex(['id','relationship', 'relationship_description', 'source_object', 'target_object'], axis=1)[0:5]"
   ]
  },
  {
   "cell_type": "code",
   "execution_count": null,
   "metadata": {
    "collapsed": true
   },
   "outputs": [],
   "source": []
  }
 ],
 "metadata": {
  "kernelspec": {
   "display_name": "Python 3",
   "language": "python",
   "name": "python3"
  },
  "language_info": {
   "codemirror_mode": {
    "name": "ipython",
    "version": 3
   },
   "file_extension": ".py",
   "mimetype": "text/x-python",
   "name": "python",
   "nbconvert_exporter": "python",
   "pygments_lexer": "ipython3",
   "version": "3.7.2"
  }
 },
 "nbformat": 4,
 "nbformat_minor": 2
}
