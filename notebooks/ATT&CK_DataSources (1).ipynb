{
 "cells": [
  {
   "cell_type": "markdown",
   "metadata": {},
   "source": [
    "# **MITRE ATT&CK PYTHON CLIENT**: Data Sources\n",
    "------------------"
   ]
  },
  {
   "cell_type": "markdown",
   "metadata": {},
   "source": [
    "## Goals:\n",
    "* Access ATT&CK data sources in STIX format via a public TAXII server\n",
    "* Learn to interact with ATT&CK data all at once\n",
    "* Explore and idenfity patterns in the data retrieved\n",
    "* Learn more about ATT&CK data sources"
   ]
  },
  {
   "cell_type": "markdown",
   "metadata": {},
   "source": [
    "## 1. ATT&CK Python Client Installation"
   ]
  },
  {
   "cell_type": "markdown",
   "metadata": {},
   "source": [
    "You can install it via PIP: **pip install attackcti**"
   ]
  },
  {
   "cell_type": "markdown",
   "metadata": {},
   "source": [
    "## 2. Import ATT&CK API Client"
   ]
  },
  {
   "cell_type": "code",
   "execution_count": 1,
   "metadata": {
    "collapsed": true
   },
   "outputs": [],
   "source": [
    "from attackcti import attack_client"
   ]
  },
  {
   "cell_type": "markdown",
   "metadata": {},
   "source": [
    "## 3. Import Extra Libraries"
   ]
  },
  {
   "cell_type": "code",
   "execution_count": 2,
   "metadata": {
    "collapsed": true
   },
   "outputs": [],
   "source": [
    "from pandas import *\n",
    "from pandas.io.json import json_normalize\n",
    "\n",
    "import numpy as np\n",
    "\n",
    "import altair as alt\n",
    "\n",
    "import itertools\n"
   ]
  },
  {
   "cell_type": "markdown",
   "metadata": {},
   "source": [
    "## 4. Initialize ATT&CK Client Class"
   ]
  },
  {
   "cell_type": "code",
   "execution_count": 3,
   "metadata": {
    "collapsed": true
   },
   "outputs": [],
   "source": [
    "lift = attack_client()"
   ]
  },
  {
   "cell_type": "markdown",
   "metadata": {},
   "source": [
    "## 5. Getting Information About Techniques"
   ]
  },
  {
   "cell_type": "markdown",
   "metadata": {},
   "source": [
    "Getting ALL ATT&CK Techniques"
   ]
  },
  {
   "cell_type": "code",
   "execution_count": 4,
   "metadata": {},
   "outputs": [],
   "source": [
    "all_techniques = lift.get_all_techniques()"
   ]
  },
  {
   "cell_type": "markdown",
   "metadata": {},
   "source": [
    "Showing the first technique in our list"
   ]
  },
  {
   "cell_type": "code",
   "execution_count": 5,
   "metadata": {},
   "outputs": [
    {
     "data": {
      "text/plain": [
       "{'type': 'attack-pattern',\n",
       " 'id': 'attack-pattern--65917ae0-b854-4139-83fe-bf2441cf0196',\n",
       " 'created_by_ref': 'identity--c78cb6e5-0c4b-4611-8297-d1b8b55e40b5',\n",
       " 'created': '2018-10-17 00:14:20.652000+00:00',\n",
       " 'modified': '2018-10-17 00:14:20.652000+00:00',\n",
       " 'object_marking_refs': ['marking-definition--fa42a846-8d90-4e51-bc29-71d5b4802168'],\n",
       " 'url': 'https://attack.mitre.org/techniques/T1222',\n",
       " 'matrix': 'mitre-attack',\n",
       " 'technique': 'File Permissions Modification',\n",
       " 'technique_description': \"File permissions are commonly managed by discretionary access control lists (DACLs) specified by the file owner. File DACL implementation may vary by platform, but generally explicitly designate which users/groups can perform which actions (ex: read, write, execute, etc.). (Citation: Microsoft DACL May 2018) (Citation: Microsoft File Rights May 2018) (Citation: Unix File Permissions)\\n\\nAdversaries may modify file permissions/attributes to evade intended DACLs. (Citation: Hybrid Analysis Icacls1 June 2018) (Citation: Hybrid Analysis Icacls2 May 2018) Modifications may include changing specific access rights, which may require taking ownership of a file and/or elevated permissions such as Administrator/root depending on the file's existing permissions to enable malicious activity such as modifying, replacing, or deleting specific files. Specific file modifications may be a required step for many techniques, such as establishing Persistence via [Accessibility Features](https://attack.mitre.org/techniques/T1015), [Logon Scripts](https://attack.mitre.org/techniques/T1037), or tainting/hijacking other instrumental binary/configuration files.\",\n",
       " 'tactic': ['defense-evasion'],\n",
       " 'technique_id': 'T1222',\n",
       " 'platform': ['Linux', 'Windows', 'macOS'],\n",
       " 'data_sources': ['File monitoring',\n",
       "  'Process Monitoring',\n",
       "  'Process command-line parameters',\n",
       "  'Windows event logs'],\n",
       " 'defense_bypassed': ['File system access controls'],\n",
       " 'permissions_required': ['User', 'Administrator', 'SYSTEM', 'root'],\n",
       " 'effective_permissions': None,\n",
       " 'system_requirements': None,\n",
       " 'network_requirements': None,\n",
       " 'remote_support': None,\n",
       " 'contributors': ['Jan Miller, CrowdStrike'],\n",
       " 'technique_references': ['https://attack.mitre.org/techniques/T1222',\n",
       "  'https://docs.microsoft.com/windows/desktop/secauthz/dacls-and-aces',\n",
       "  'https://docs.microsoft.com/windows/desktop/fileio/file-security-and-access-rights',\n",
       "  'https://www.tutorialspoint.com/unix/unix-file-permission.htm',\n",
       "  'https://www.hybrid-analysis.com/sample/ef0d2628823e8e0a0de3b08b8eacaf41cf284c086a948bdfd67f4e4373c14e4d?environmentId=100',\n",
       "  'https://www.hybrid-analysis.com/sample/22dab012c3e20e3d9291bce14a2bfc448036d3b966c6e78167f4626f5f9e38d6?environmentId=110',\n",
       "  'https://docs.microsoft.com/windows-server/administration/windows-commands/icacls',\n",
       "  'https://docs.microsoft.com/windows-server/administration/windows-commands/attrib',\n",
       "  'https://linux.die.net/man/1/chmod',\n",
       "  'https://linux.die.net/man/1/chown',\n",
       "  'https://www.eventtracker.com/tech-articles/monitoring-file-permission-changes-windows-security-log/',\n",
       "  'https://docs.microsoft.com/windows-server/administration/windows-commands/takeown',\n",
       "  'https://docs.microsoft.com/powershell/module/microsoft.powershell.security/set-acl'],\n",
       " 'detectable_by_common_defenses': None,\n",
       " 'detectable_explanation': None,\n",
       " 'difficulty_for_adversary': None,\n",
       " 'difficulty_explanation': None,\n",
       " 'tactic_type': None}"
      ]
     },
     "execution_count": 5,
     "metadata": {},
     "output_type": "execute_result"
    }
   ],
   "source": [
    "all_techniques[0]"
   ]
  },
  {
   "cell_type": "markdown",
   "metadata": {},
   "source": [
    "Normalizing semi-structured JSON data into a flat table via **pandas.io.json.json_normalize**\n",
    "* Reference: https://pandas.pydata.org/pandas-docs/stable/generated/pandas.io.json.json_normalize.html"
   ]
  },
  {
   "cell_type": "code",
   "execution_count": 6,
   "metadata": {},
   "outputs": [],
   "source": [
    "techniques_normalized = json_normalize(all_techniques)"
   ]
  },
  {
   "cell_type": "code",
   "execution_count": 7,
   "metadata": {},
   "outputs": [
    {
     "data": {
      "text/html": [
       "<div>\n",
       "<style scoped>\n",
       "    .dataframe tbody tr th:only-of-type {\n",
       "        vertical-align: middle;\n",
       "    }\n",
       "\n",
       "    .dataframe tbody tr th {\n",
       "        vertical-align: top;\n",
       "    }\n",
       "\n",
       "    .dataframe thead th {\n",
       "        text-align: right;\n",
       "    }\n",
       "</style>\n",
       "<table border=\"1\" class=\"dataframe\">\n",
       "  <thead>\n",
       "    <tr style=\"text-align: right;\">\n",
       "      <th></th>\n",
       "      <th>contributors</th>\n",
       "      <th>created</th>\n",
       "      <th>created_by_ref</th>\n",
       "      <th>data_sources</th>\n",
       "      <th>defense_bypassed</th>\n",
       "      <th>detectable_by_common_defenses</th>\n",
       "      <th>detectable_explanation</th>\n",
       "      <th>difficulty_explanation</th>\n",
       "      <th>difficulty_for_adversary</th>\n",
       "      <th>effective_permissions</th>\n",
       "      <th>...</th>\n",
       "      <th>remote_support</th>\n",
       "      <th>system_requirements</th>\n",
       "      <th>tactic</th>\n",
       "      <th>tactic_type</th>\n",
       "      <th>technique</th>\n",
       "      <th>technique_description</th>\n",
       "      <th>technique_id</th>\n",
       "      <th>technique_references</th>\n",
       "      <th>type</th>\n",
       "      <th>url</th>\n",
       "    </tr>\n",
       "  </thead>\n",
       "  <tbody>\n",
       "    <tr>\n",
       "      <th>0</th>\n",
       "      <td>[Jan Miller, CrowdStrike]</td>\n",
       "      <td>2018-10-17 00:14:20.652000+00:00</td>\n",
       "      <td>identity--c78cb6e5-0c4b-4611-8297-d1b8b55e40b5</td>\n",
       "      <td>[File monitoring, Process Monitoring, Process ...</td>\n",
       "      <td>[File system access controls]</td>\n",
       "      <td>NaN</td>\n",
       "      <td>NaN</td>\n",
       "      <td>NaN</td>\n",
       "      <td>NaN</td>\n",
       "      <td>NaN</td>\n",
       "      <td>...</td>\n",
       "      <td>NaN</td>\n",
       "      <td>NaN</td>\n",
       "      <td>[defense-evasion]</td>\n",
       "      <td>NaN</td>\n",
       "      <td>File Permissions Modification</td>\n",
       "      <td>File permissions are commonly managed by discr...</td>\n",
       "      <td>T1222</td>\n",
       "      <td>[https://attack.mitre.org/techniques/T1222, ht...</td>\n",
       "      <td>attack-pattern</td>\n",
       "      <td>https://attack.mitre.org/techniques/T1222</td>\n",
       "    </tr>\n",
       "  </tbody>\n",
       "</table>\n",
       "<p>1 rows × 27 columns</p>\n",
       "</div>"
      ],
      "text/plain": [
       "                contributors                           created  \\\n",
       "0  [Jan Miller, CrowdStrike]  2018-10-17 00:14:20.652000+00:00   \n",
       "\n",
       "                                   created_by_ref  \\\n",
       "0  identity--c78cb6e5-0c4b-4611-8297-d1b8b55e40b5   \n",
       "\n",
       "                                        data_sources  \\\n",
       "0  [File monitoring, Process Monitoring, Process ...   \n",
       "\n",
       "                defense_bypassed detectable_by_common_defenses  \\\n",
       "0  [File system access controls]                           NaN   \n",
       "\n",
       "  detectable_explanation difficulty_explanation difficulty_for_adversary  \\\n",
       "0                    NaN                    NaN                      NaN   \n",
       "\n",
       "  effective_permissions                    ...                      \\\n",
       "0                   NaN                    ...                       \n",
       "\n",
       "  remote_support system_requirements             tactic tactic_type  \\\n",
       "0            NaN                 NaN  [defense-evasion]         NaN   \n",
       "\n",
       "                       technique  \\\n",
       "0  File Permissions Modification   \n",
       "\n",
       "                               technique_description technique_id  \\\n",
       "0  File permissions are commonly managed by discr...        T1222   \n",
       "\n",
       "                                technique_references            type  \\\n",
       "0  [https://attack.mitre.org/techniques/T1222, ht...  attack-pattern   \n",
       "\n",
       "                                         url  \n",
       "0  https://attack.mitre.org/techniques/T1222  \n",
       "\n",
       "[1 rows x 27 columns]"
      ]
     },
     "execution_count": 7,
     "metadata": {},
     "output_type": "execute_result"
    }
   ],
   "source": [
    "techniques_normalized[0:1]"
   ]
  },
  {
   "cell_type": "markdown",
   "metadata": {},
   "source": [
    "## 6. Re-indexing Dataframe"
   ]
  },
  {
   "cell_type": "code",
   "execution_count": 8,
   "metadata": {},
   "outputs": [],
   "source": [
    "techniques = techniques_normalized.reindex(['matrix','platform','tactic','technique','technique_id','data_sources'], axis=1)"
   ]
  },
  {
   "cell_type": "code",
   "execution_count": 9,
   "metadata": {},
   "outputs": [
    {
     "data": {
      "text/html": [
       "<div>\n",
       "<style scoped>\n",
       "    .dataframe tbody tr th:only-of-type {\n",
       "        vertical-align: middle;\n",
       "    }\n",
       "\n",
       "    .dataframe tbody tr th {\n",
       "        vertical-align: top;\n",
       "    }\n",
       "\n",
       "    .dataframe thead th {\n",
       "        text-align: right;\n",
       "    }\n",
       "</style>\n",
       "<table border=\"1\" class=\"dataframe\">\n",
       "  <thead>\n",
       "    <tr style=\"text-align: right;\">\n",
       "      <th></th>\n",
       "      <th>matrix</th>\n",
       "      <th>platform</th>\n",
       "      <th>tactic</th>\n",
       "      <th>technique</th>\n",
       "      <th>technique_id</th>\n",
       "      <th>data_sources</th>\n",
       "    </tr>\n",
       "  </thead>\n",
       "  <tbody>\n",
       "    <tr>\n",
       "      <th>0</th>\n",
       "      <td>mitre-attack</td>\n",
       "      <td>[Linux, Windows, macOS]</td>\n",
       "      <td>[defense-evasion]</td>\n",
       "      <td>File Permissions Modification</td>\n",
       "      <td>T1222</td>\n",
       "      <td>[File monitoring, Process Monitoring, Process ...</td>\n",
       "    </tr>\n",
       "    <tr>\n",
       "      <th>1</th>\n",
       "      <td>mitre-attack</td>\n",
       "      <td>[Windows]</td>\n",
       "      <td>[defense-evasion, execution]</td>\n",
       "      <td>XSL Script Processing</td>\n",
       "      <td>T1220</td>\n",
       "      <td>[Process Monitoring, Process command-line para...</td>\n",
       "    </tr>\n",
       "    <tr>\n",
       "      <th>2</th>\n",
       "      <td>mitre-attack</td>\n",
       "      <td>[Windows]</td>\n",
       "      <td>[defense-evasion, execution]</td>\n",
       "      <td>Compiled HTML File</td>\n",
       "      <td>T1223</td>\n",
       "      <td>[File monitoring, Process Monitoring, Process ...</td>\n",
       "    </tr>\n",
       "    <tr>\n",
       "      <th>3</th>\n",
       "      <td>mitre-attack</td>\n",
       "      <td>[Windows]</td>\n",
       "      <td>[defense-evasion]</td>\n",
       "      <td>Template Injection</td>\n",
       "      <td>T1221</td>\n",
       "      <td>[Anti-virus, Email gateway, Network intrusion ...</td>\n",
       "    </tr>\n",
       "    <tr>\n",
       "      <th>4</th>\n",
       "      <td>mitre-attack</td>\n",
       "      <td>[Windows]</td>\n",
       "      <td>[defense-evasion, persistence]</td>\n",
       "      <td>BITS Jobs</td>\n",
       "      <td>T1197</td>\n",
       "      <td>[API monitoring, Packet capture, Windows event...</td>\n",
       "    </tr>\n",
       "  </tbody>\n",
       "</table>\n",
       "</div>"
      ],
      "text/plain": [
       "         matrix                 platform                          tactic  \\\n",
       "0  mitre-attack  [Linux, Windows, macOS]               [defense-evasion]   \n",
       "1  mitre-attack                [Windows]    [defense-evasion, execution]   \n",
       "2  mitre-attack                [Windows]    [defense-evasion, execution]   \n",
       "3  mitre-attack                [Windows]               [defense-evasion]   \n",
       "4  mitre-attack                [Windows]  [defense-evasion, persistence]   \n",
       "\n",
       "                       technique technique_id  \\\n",
       "0  File Permissions Modification        T1222   \n",
       "1          XSL Script Processing        T1220   \n",
       "2             Compiled HTML File        T1223   \n",
       "3             Template Injection        T1221   \n",
       "4                      BITS Jobs        T1197   \n",
       "\n",
       "                                        data_sources  \n",
       "0  [File monitoring, Process Monitoring, Process ...  \n",
       "1  [Process Monitoring, Process command-line para...  \n",
       "2  [File monitoring, Process Monitoring, Process ...  \n",
       "3  [Anti-virus, Email gateway, Network intrusion ...  \n",
       "4  [API monitoring, Packet capture, Windows event...  "
      ]
     },
     "execution_count": 9,
     "metadata": {},
     "output_type": "execute_result"
    }
   ],
   "source": [
    "techniques.head()"
   ]
  },
  {
   "cell_type": "code",
   "execution_count": 10,
   "metadata": {},
   "outputs": [
    {
     "name": "stdout",
     "output_type": "stream",
     "text": [
      "A total of  478  techniques\n"
     ]
    }
   ],
   "source": [
    "print('A total of ',len(techniques),' techniques')"
   ]
  },
  {
   "cell_type": "markdown",
   "metadata": {},
   "source": [
    "## 7. Techniques With and Without Data Sources"
   ]
  },
  {
   "cell_type": "markdown",
   "metadata": {},
   "source": [
    "Using **altair** python library we can start showing a few charts stacking the number of techniques with or without data sources.\n",
    "Reference: https://altair-viz.github.io/"
   ]
  },
  {
   "cell_type": "code",
   "execution_count": 11,
   "metadata": {},
   "outputs": [
    {
     "data": {
      "application/vnd.vegalite.v2+json": {
       "$schema": "https://vega.github.io/schema/vega-lite/v2.6.0.json",
       "config": {
        "view": {
         "height": 300,
         "width": 400
        }
       },
       "datasets": {
        "data-0c1c5a94a4386315ffba297980bdeddb": [
         {
          "Count of Techniques": 259,
          "Techniques": "Without DS"
         },
         {
          "Count of Techniques": 219,
          "Techniques": "With DS"
         }
        ]
       },
       "layer": [
        {
         "data": {
          "name": "data-0c1c5a94a4386315ffba297980bdeddb"
         },
         "encoding": {
          "color": {
           "field": "Techniques",
           "type": "nominal"
          },
          "x": {
           "field": "Techniques",
           "type": "nominal"
          },
          "y": {
           "field": "Count of Techniques",
           "type": "quantitative"
          }
         },
         "height": 300,
         "mark": "bar",
         "width": 200
        },
        {
         "data": {
          "name": "data-0c1c5a94a4386315ffba297980bdeddb"
         },
         "encoding": {
          "color": {
           "field": "Techniques",
           "type": "nominal"
          },
          "text": {
           "field": "Count of Techniques",
           "type": "quantitative"
          },
          "x": {
           "field": "Techniques",
           "type": "nominal"
          },
          "y": {
           "field": "Count of Techniques",
           "type": "quantitative"
          }
         },
         "height": 300,
         "mark": {
          "align": "center",
          "baseline": "middle",
          "dx": 0,
          "dy": -5,
          "type": "text"
         },
         "width": 200
        }
       ]
      },
      "image/png": "[encoded data removed]",
      "text/plain": [
       "<VegaLite 2 object>\n",
       "\n",
       "If you see this message, it means the renderer has not been properly enabled\n",
       "for the frontend that you are using. For more information, see\n",
       "https://altair-viz.github.io/user_guide/troubleshooting.html\n"
      ]
     },
     "execution_count": 11,
     "metadata": {},
     "output_type": "execute_result"
    }
   ],
   "source": [
    "data_source_distribution = pandas.DataFrame({\n",
    "    'Techniques': ['Without DS','With DS'],\n",
    "    'Count of Techniques': [techniques['data_sources'].isna().sum(),techniques['data_sources'].notna().sum()]})\n",
    "bars = alt.Chart(data_source_distribution).mark_bar().encode(x='Techniques',y='Count of Techniques',color='Techniques').properties(width=200,height=300)\n",
    "text = bars.mark_text(align='center',baseline='middle',dx=0,dy=-5).encode(text='Count of Techniques')\n",
    "bars + text"
   ]
  },
  {
   "cell_type": "markdown",
   "metadata": {},
   "source": [
    "What is the distribution of techniques based on ATT&CK Matrix?"
   ]
  },
  {
   "cell_type": "code",
   "execution_count": 12,
   "metadata": {},
   "outputs": [
    {
     "data": {
      "text/html": [
       "<div>\n",
       "<style scoped>\n",
       "    .dataframe tbody tr th:only-of-type {\n",
       "        vertical-align: middle;\n",
       "    }\n",
       "\n",
       "    .dataframe tbody tr th {\n",
       "        vertical-align: top;\n",
       "    }\n",
       "\n",
       "    .dataframe thead th {\n",
       "        text-align: right;\n",
       "    }\n",
       "</style>\n",
       "<table border=\"1\" class=\"dataframe\">\n",
       "  <thead>\n",
       "    <tr style=\"text-align: right;\">\n",
       "      <th></th>\n",
       "      <th>matrix</th>\n",
       "      <th>Ind_DS</th>\n",
       "      <th>technique</th>\n",
       "    </tr>\n",
       "  </thead>\n",
       "  <tbody>\n",
       "    <tr>\n",
       "      <th>0</th>\n",
       "      <td>mitre-attack</td>\n",
       "      <td>With DS</td>\n",
       "      <td>219</td>\n",
       "    </tr>\n",
       "    <tr>\n",
       "      <th>1</th>\n",
       "      <td>mitre-attack</td>\n",
       "      <td>Without DS</td>\n",
       "      <td>4</td>\n",
       "    </tr>\n",
       "    <tr>\n",
       "      <th>2</th>\n",
       "      <td>mitre-mobile-attack</td>\n",
       "      <td>Without DS</td>\n",
       "      <td>81</td>\n",
       "    </tr>\n",
       "    <tr>\n",
       "      <th>3</th>\n",
       "      <td>mitre-pre-attack</td>\n",
       "      <td>Without DS</td>\n",
       "      <td>174</td>\n",
       "    </tr>\n",
       "  </tbody>\n",
       "</table>\n",
       "</div>"
      ],
      "text/plain": [
       "                matrix      Ind_DS  technique\n",
       "0         mitre-attack     With DS        219\n",
       "1         mitre-attack  Without DS          4\n",
       "2  mitre-mobile-attack  Without DS         81\n",
       "3     mitre-pre-attack  Without DS        174"
      ]
     },
     "execution_count": 12,
     "metadata": {},
     "output_type": "execute_result"
    }
   ],
   "source": [
    "data = techniques\n",
    "data['Num_Tech'] = 1\n",
    "data['Count_DS'] = data['data_sources'].str.len()\n",
    "data['Ind_DS'] = np.where(data['Count_DS']>0,'With DS','Without DS')\n",
    "data_2 = data.groupby(['matrix','Ind_DS'])['technique'].count()\n",
    "data_3 = data_2.to_frame().reset_index()\n",
    "data_3"
   ]
  },
  {
   "cell_type": "code",
   "execution_count": 13,
   "metadata": {},
   "outputs": [
    {
     "data": {
      "application/vnd.vegalite.v2+json": {
       "$schema": "https://vega.github.io/schema/vega-lite/v2.6.0.json",
       "config": {
        "view": {
         "height": 300,
         "width": 400
        }
       },
       "data": {
        "name": "data-d2c203a0a2eb41593bfd86bfc71c3d8d"
       },
       "datasets": {
        "data-d2c203a0a2eb41593bfd86bfc71c3d8d": [
         {
          "Ind_DS": "With DS",
          "matrix": "mitre-attack",
          "technique": 219
         },
         {
          "Ind_DS": "Without DS",
          "matrix": "mitre-attack",
          "technique": 4
         },
         {
          "Ind_DS": "Without DS",
          "matrix": "mitre-mobile-attack",
          "technique": 81
         },
         {
          "Ind_DS": "Without DS",
          "matrix": "mitre-pre-attack",
          "technique": 174
         }
        ]
       },
       "encoding": {
        "color": {
         "field": "matrix",
         "type": "nominal"
        },
        "x": {
         "field": "technique",
         "type": "quantitative"
        },
        "y": {
         "field": "Ind_DS",
         "type": "nominal"
        }
       },
       "height": 200,
       "mark": "bar"
      },
      "image/png": "[encoded data removed]",
      "text/plain": [
       "<VegaLite 2 object>\n",
       "\n",
       "If you see this message, it means the renderer has not been properly enabled\n",
       "for the frontend that you are using. For more information, see\n",
       "https://altair-viz.github.io/user_guide/troubleshooting.html\n"
      ]
     },
     "execution_count": 13,
     "metadata": {},
     "output_type": "execute_result"
    }
   ],
   "source": [
    "alt.Chart(data_3).mark_bar().encode(x='technique', y='Ind_DS', color='matrix').properties(height = 200)"
   ]
  },
  {
   "cell_type": "markdown",
   "metadata": {},
   "source": [
    "What are those mitre-attack techniques without data sources?"
   ]
  },
  {
   "cell_type": "code",
   "execution_count": 14,
   "metadata": {},
   "outputs": [
    {
     "data": {
      "text/html": [
       "<div>\n",
       "<style scoped>\n",
       "    .dataframe tbody tr th:only-of-type {\n",
       "        vertical-align: middle;\n",
       "    }\n",
       "\n",
       "    .dataframe tbody tr th {\n",
       "        vertical-align: top;\n",
       "    }\n",
       "\n",
       "    .dataframe thead th {\n",
       "        text-align: right;\n",
       "    }\n",
       "</style>\n",
       "<table border=\"1\" class=\"dataframe\">\n",
       "  <thead>\n",
       "    <tr style=\"text-align: right;\">\n",
       "      <th></th>\n",
       "      <th>matrix</th>\n",
       "      <th>platform</th>\n",
       "      <th>tactic</th>\n",
       "      <th>technique</th>\n",
       "      <th>technique_id</th>\n",
       "      <th>data_sources</th>\n",
       "      <th>Num_Tech</th>\n",
       "      <th>Count_DS</th>\n",
       "      <th>Ind_DS</th>\n",
       "    </tr>\n",
       "  </thead>\n",
       "  <tbody>\n",
       "    <tr>\n",
       "      <th>31</th>\n",
       "      <td>mitre-attack</td>\n",
       "      <td>[Linux, macOS]</td>\n",
       "      <td>[defense-evasion, persistence, command-and-con...</td>\n",
       "      <td>Port Knocking</td>\n",
       "      <td>T1205</td>\n",
       "      <td>NaN</td>\n",
       "      <td>1</td>\n",
       "      <td>NaN</td>\n",
       "      <td>Without DS</td>\n",
       "    </tr>\n",
       "    <tr>\n",
       "      <th>67</th>\n",
       "      <td>mitre-attack</td>\n",
       "      <td>[macOS]</td>\n",
       "      <td>[defense-evasion]</td>\n",
       "      <td>Gatekeeper Bypass</td>\n",
       "      <td>T1144</td>\n",
       "      <td>NaN</td>\n",
       "      <td>1</td>\n",
       "      <td>NaN</td>\n",
       "      <td>Without DS</td>\n",
       "    </tr>\n",
       "    <tr>\n",
       "      <th>88</th>\n",
       "      <td>mitre-attack</td>\n",
       "      <td>[macOS]</td>\n",
       "      <td>[persistence]</td>\n",
       "      <td>Re-opened Applications</td>\n",
       "      <td>T1164</td>\n",
       "      <td>NaN</td>\n",
       "      <td>1</td>\n",
       "      <td>NaN</td>\n",
       "      <td>Without DS</td>\n",
       "    </tr>\n",
       "    <tr>\n",
       "      <th>103</th>\n",
       "      <td>mitre-attack</td>\n",
       "      <td>[Windows]</td>\n",
       "      <td>[discovery]</td>\n",
       "      <td>Peripheral Device Discovery</td>\n",
       "      <td>T1120</td>\n",
       "      <td>NaN</td>\n",
       "      <td>1</td>\n",
       "      <td>NaN</td>\n",
       "      <td>Without DS</td>\n",
       "    </tr>\n",
       "  </tbody>\n",
       "</table>\n",
       "</div>"
      ],
      "text/plain": [
       "           matrix        platform  \\\n",
       "31   mitre-attack  [Linux, macOS]   \n",
       "67   mitre-attack         [macOS]   \n",
       "88   mitre-attack         [macOS]   \n",
       "103  mitre-attack       [Windows]   \n",
       "\n",
       "                                                tactic  \\\n",
       "31   [defense-evasion, persistence, command-and-con...   \n",
       "67                                   [defense-evasion]   \n",
       "88                                       [persistence]   \n",
       "103                                        [discovery]   \n",
       "\n",
       "                       technique technique_id data_sources  Num_Tech  \\\n",
       "31                 Port Knocking        T1205          NaN         1   \n",
       "67             Gatekeeper Bypass        T1144          NaN         1   \n",
       "88        Re-opened Applications        T1164          NaN         1   \n",
       "103  Peripheral Device Discovery        T1120          NaN         1   \n",
       "\n",
       "     Count_DS      Ind_DS  \n",
       "31        NaN  Without DS  \n",
       "67        NaN  Without DS  \n",
       "88        NaN  Without DS  \n",
       "103       NaN  Without DS  "
      ]
     },
     "execution_count": 14,
     "metadata": {},
     "output_type": "execute_result"
    }
   ],
   "source": [
    "data[(data['matrix']=='mitre-attack') & (data['Ind_DS']=='Without DS')]"
   ]
  },
  {
   "cell_type": "markdown",
   "metadata": {},
   "source": [
    "### Techniques without data sources"
   ]
  },
  {
   "cell_type": "code",
   "execution_count": 15,
   "metadata": {},
   "outputs": [],
   "source": [
    "techniques_without_data_sources=techniques[techniques.data_sources.isnull()].reset_index(drop=True)"
   ]
  },
  {
   "cell_type": "code",
   "execution_count": 16,
   "metadata": {},
   "outputs": [
    {
     "data": {
      "text/html": [
       "<div>\n",
       "<style scoped>\n",
       "    .dataframe tbody tr th:only-of-type {\n",
       "        vertical-align: middle;\n",
       "    }\n",
       "\n",
       "    .dataframe tbody tr th {\n",
       "        vertical-align: top;\n",
       "    }\n",
       "\n",
       "    .dataframe thead th {\n",
       "        text-align: right;\n",
       "    }\n",
       "</style>\n",
       "<table border=\"1\" class=\"dataframe\">\n",
       "  <thead>\n",
       "    <tr style=\"text-align: right;\">\n",
       "      <th></th>\n",
       "      <th>matrix</th>\n",
       "      <th>platform</th>\n",
       "      <th>tactic</th>\n",
       "      <th>technique</th>\n",
       "      <th>technique_id</th>\n",
       "      <th>data_sources</th>\n",
       "      <th>Num_Tech</th>\n",
       "      <th>Count_DS</th>\n",
       "      <th>Ind_DS</th>\n",
       "    </tr>\n",
       "  </thead>\n",
       "  <tbody>\n",
       "    <tr>\n",
       "      <th>0</th>\n",
       "      <td>mitre-attack</td>\n",
       "      <td>[Linux, macOS]</td>\n",
       "      <td>[defense-evasion, persistence, command-and-con...</td>\n",
       "      <td>Port Knocking</td>\n",
       "      <td>T1205</td>\n",
       "      <td>NaN</td>\n",
       "      <td>1</td>\n",
       "      <td>NaN</td>\n",
       "      <td>Without DS</td>\n",
       "    </tr>\n",
       "    <tr>\n",
       "      <th>1</th>\n",
       "      <td>mitre-attack</td>\n",
       "      <td>[macOS]</td>\n",
       "      <td>[defense-evasion]</td>\n",
       "      <td>Gatekeeper Bypass</td>\n",
       "      <td>T1144</td>\n",
       "      <td>NaN</td>\n",
       "      <td>1</td>\n",
       "      <td>NaN</td>\n",
       "      <td>Without DS</td>\n",
       "    </tr>\n",
       "    <tr>\n",
       "      <th>2</th>\n",
       "      <td>mitre-attack</td>\n",
       "      <td>[macOS]</td>\n",
       "      <td>[persistence]</td>\n",
       "      <td>Re-opened Applications</td>\n",
       "      <td>T1164</td>\n",
       "      <td>NaN</td>\n",
       "      <td>1</td>\n",
       "      <td>NaN</td>\n",
       "      <td>Without DS</td>\n",
       "    </tr>\n",
       "    <tr>\n",
       "      <th>3</th>\n",
       "      <td>mitre-attack</td>\n",
       "      <td>[Windows]</td>\n",
       "      <td>[discovery]</td>\n",
       "      <td>Peripheral Device Discovery</td>\n",
       "      <td>T1120</td>\n",
       "      <td>NaN</td>\n",
       "      <td>1</td>\n",
       "      <td>NaN</td>\n",
       "      <td>Without DS</td>\n",
       "    </tr>\n",
       "    <tr>\n",
       "      <th>4</th>\n",
       "      <td>mitre-pre-attack</td>\n",
       "      <td>NaN</td>\n",
       "      <td>[technical-information-gathering]</td>\n",
       "      <td>Spearphishing for Information</td>\n",
       "      <td>T1397</td>\n",
       "      <td>NaN</td>\n",
       "      <td>1</td>\n",
       "      <td>NaN</td>\n",
       "      <td>Without DS</td>\n",
       "    </tr>\n",
       "  </tbody>\n",
       "</table>\n",
       "</div>"
      ],
      "text/plain": [
       "             matrix        platform  \\\n",
       "0      mitre-attack  [Linux, macOS]   \n",
       "1      mitre-attack         [macOS]   \n",
       "2      mitre-attack         [macOS]   \n",
       "3      mitre-attack       [Windows]   \n",
       "4  mitre-pre-attack             NaN   \n",
       "\n",
       "                                              tactic  \\\n",
       "0  [defense-evasion, persistence, command-and-con...   \n",
       "1                                  [defense-evasion]   \n",
       "2                                      [persistence]   \n",
       "3                                        [discovery]   \n",
       "4                  [technical-information-gathering]   \n",
       "\n",
       "                       technique technique_id data_sources  Num_Tech  \\\n",
       "0                  Port Knocking        T1205          NaN         1   \n",
       "1              Gatekeeper Bypass        T1144          NaN         1   \n",
       "2         Re-opened Applications        T1164          NaN         1   \n",
       "3    Peripheral Device Discovery        T1120          NaN         1   \n",
       "4  Spearphishing for Information        T1397          NaN         1   \n",
       "\n",
       "   Count_DS      Ind_DS  \n",
       "0       NaN  Without DS  \n",
       "1       NaN  Without DS  \n",
       "2       NaN  Without DS  \n",
       "3       NaN  Without DS  \n",
       "4       NaN  Without DS  "
      ]
     },
     "execution_count": 16,
     "metadata": {},
     "output_type": "execute_result"
    }
   ],
   "source": [
    "techniques_without_data_sources.head()"
   ]
  },
  {
   "cell_type": "code",
   "execution_count": 17,
   "metadata": {},
   "outputs": [
    {
     "name": "stdout",
     "output_type": "stream",
     "text": [
      "There are  259  techniques without data sources ( 54%  of  478  techniques)\n"
     ]
    }
   ],
   "source": [
    "print('There are ',techniques['data_sources'].isna().sum(),' techniques without data sources (',\"{0:.0%}\".format(techniques['data_sources'].isna().sum()/len(techniques)),' of ',len(techniques),' techniques)')"
   ]
  },
  {
   "cell_type": "markdown",
   "metadata": {},
   "source": [
    "### Techniques With Data Sources"
   ]
  },
  {
   "cell_type": "code",
   "execution_count": 18,
   "metadata": {},
   "outputs": [],
   "source": [
    "techniques_with_data_sources=techniques[techniques.data_sources.notnull()].reset_index(drop=True)"
   ]
  },
  {
   "cell_type": "code",
   "execution_count": 19,
   "metadata": {},
   "outputs": [
    {
     "data": {
      "text/html": [
       "<div>\n",
       "<style scoped>\n",
       "    .dataframe tbody tr th:only-of-type {\n",
       "        vertical-align: middle;\n",
       "    }\n",
       "\n",
       "    .dataframe tbody tr th {\n",
       "        vertical-align: top;\n",
       "    }\n",
       "\n",
       "    .dataframe thead th {\n",
       "        text-align: right;\n",
       "    }\n",
       "</style>\n",
       "<table border=\"1\" class=\"dataframe\">\n",
       "  <thead>\n",
       "    <tr style=\"text-align: right;\">\n",
       "      <th></th>\n",
       "      <th>matrix</th>\n",
       "      <th>platform</th>\n",
       "      <th>tactic</th>\n",
       "      <th>technique</th>\n",
       "      <th>technique_id</th>\n",
       "      <th>data_sources</th>\n",
       "      <th>Num_Tech</th>\n",
       "      <th>Count_DS</th>\n",
       "      <th>Ind_DS</th>\n",
       "    </tr>\n",
       "  </thead>\n",
       "  <tbody>\n",
       "    <tr>\n",
       "      <th>0</th>\n",
       "      <td>mitre-attack</td>\n",
       "      <td>[Linux, Windows, macOS]</td>\n",
       "      <td>[defense-evasion]</td>\n",
       "      <td>File Permissions Modification</td>\n",
       "      <td>T1222</td>\n",
       "      <td>[File monitoring, Process Monitoring, Process ...</td>\n",
       "      <td>1</td>\n",
       "      <td>4.0</td>\n",
       "      <td>With DS</td>\n",
       "    </tr>\n",
       "    <tr>\n",
       "      <th>1</th>\n",
       "      <td>mitre-attack</td>\n",
       "      <td>[Windows]</td>\n",
       "      <td>[defense-evasion, execution]</td>\n",
       "      <td>XSL Script Processing</td>\n",
       "      <td>T1220</td>\n",
       "      <td>[Process Monitoring, Process command-line para...</td>\n",
       "      <td>1</td>\n",
       "      <td>4.0</td>\n",
       "      <td>With DS</td>\n",
       "    </tr>\n",
       "    <tr>\n",
       "      <th>2</th>\n",
       "      <td>mitre-attack</td>\n",
       "      <td>[Windows]</td>\n",
       "      <td>[defense-evasion, execution]</td>\n",
       "      <td>Compiled HTML File</td>\n",
       "      <td>T1223</td>\n",
       "      <td>[File monitoring, Process Monitoring, Process ...</td>\n",
       "      <td>1</td>\n",
       "      <td>3.0</td>\n",
       "      <td>With DS</td>\n",
       "    </tr>\n",
       "    <tr>\n",
       "      <th>3</th>\n",
       "      <td>mitre-attack</td>\n",
       "      <td>[Windows]</td>\n",
       "      <td>[defense-evasion]</td>\n",
       "      <td>Template Injection</td>\n",
       "      <td>T1221</td>\n",
       "      <td>[Anti-virus, Email gateway, Network intrusion ...</td>\n",
       "      <td>1</td>\n",
       "      <td>4.0</td>\n",
       "      <td>With DS</td>\n",
       "    </tr>\n",
       "    <tr>\n",
       "      <th>4</th>\n",
       "      <td>mitre-attack</td>\n",
       "      <td>[Windows]</td>\n",
       "      <td>[defense-evasion, persistence]</td>\n",
       "      <td>BITS Jobs</td>\n",
       "      <td>T1197</td>\n",
       "      <td>[API monitoring, Packet capture, Windows event...</td>\n",
       "      <td>1</td>\n",
       "      <td>3.0</td>\n",
       "      <td>With DS</td>\n",
       "    </tr>\n",
       "  </tbody>\n",
       "</table>\n",
       "</div>"
      ],
      "text/plain": [
       "         matrix                 platform                          tactic  \\\n",
       "0  mitre-attack  [Linux, Windows, macOS]               [defense-evasion]   \n",
       "1  mitre-attack                [Windows]    [defense-evasion, execution]   \n",
       "2  mitre-attack                [Windows]    [defense-evasion, execution]   \n",
       "3  mitre-attack                [Windows]               [defense-evasion]   \n",
       "4  mitre-attack                [Windows]  [defense-evasion, persistence]   \n",
       "\n",
       "                       technique technique_id  \\\n",
       "0  File Permissions Modification        T1222   \n",
       "1          XSL Script Processing        T1220   \n",
       "2             Compiled HTML File        T1223   \n",
       "3             Template Injection        T1221   \n",
       "4                      BITS Jobs        T1197   \n",
       "\n",
       "                                        data_sources  Num_Tech  Count_DS  \\\n",
       "0  [File monitoring, Process Monitoring, Process ...         1       4.0   \n",
       "1  [Process Monitoring, Process command-line para...         1       4.0   \n",
       "2  [File monitoring, Process Monitoring, Process ...         1       3.0   \n",
       "3  [Anti-virus, Email gateway, Network intrusion ...         1       4.0   \n",
       "4  [API monitoring, Packet capture, Windows event...         1       3.0   \n",
       "\n",
       "    Ind_DS  \n",
       "0  With DS  \n",
       "1  With DS  \n",
       "2  With DS  \n",
       "3  With DS  \n",
       "4  With DS  "
      ]
     },
     "execution_count": 19,
     "metadata": {},
     "output_type": "execute_result"
    }
   ],
   "source": [
    "techniques_with_data_sources.head()"
   ]
  },
  {
   "cell_type": "code",
   "execution_count": 20,
   "metadata": {},
   "outputs": [
    {
     "name": "stdout",
     "output_type": "stream",
     "text": [
      "There are  219  techniques with data sources ( 46%  of  478  techniques)\n"
     ]
    }
   ],
   "source": [
    "print('There are ',techniques['data_sources'].notna().sum(),' techniques with data sources (',\"{0:.0%}\".format(techniques['data_sources'].notna().sum()/len(techniques)),' of ',len(techniques),' techniques)')"
   ]
  },
  {
   "cell_type": "markdown",
   "metadata": {},
   "source": [
    "## 8. Grouping Techniques With Data Sources By Matrix"
   ]
  },
  {
   "cell_type": "markdown",
   "metadata": {},
   "source": [
    "Let's create a graph to represent the number of techniques per matrix:"
   ]
  },
  {
   "cell_type": "code",
   "execution_count": 21,
   "metadata": {},
   "outputs": [
    {
     "data": {
      "application/vnd.vegalite.v2+json": {
       "$schema": "https://vega.github.io/schema/vega-lite/v2.6.0.json",
       "config": {
        "view": {
         "height": 300,
         "width": 400
        }
       },
       "datasets": {
        "data-46f5d5cc156e347d043ddafbbde9862a": [
         {
          "Count of Techniques": 219,
          "Matrix": "mitre-attack"
         }
        ]
       },
       "layer": [
        {
         "data": {
          "name": "data-46f5d5cc156e347d043ddafbbde9862a"
         },
         "encoding": {
          "x": {
           "field": "Count of Techniques",
           "type": "quantitative"
          },
          "y": {
           "field": "Matrix",
           "type": "nominal"
          }
         },
         "height": 100,
         "mark": "bar",
         "width": 300
        },
        {
         "data": {
          "name": "data-46f5d5cc156e347d043ddafbbde9862a"
         },
         "encoding": {
          "text": {
           "field": "Count of Techniques",
           "type": "quantitative"
          },
          "x": {
           "field": "Count of Techniques",
           "type": "quantitative"
          },
          "y": {
           "field": "Matrix",
           "type": "nominal"
          }
         },
         "height": 100,
         "mark": {
          "align": "center",
          "baseline": "middle",
          "dx": 10,
          "dy": 0,
          "type": "text"
         },
         "width": 300
        }
       ]
      },
      "image/png": "[encoded data removed]",
      "text/plain": [
       "<VegaLite 2 object>\n",
       "\n",
       "If you see this message, it means the renderer has not been properly enabled\n",
       "for the frontend that you are using. For more information, see\n",
       "https://altair-viz.github.io/user_guide/troubleshooting.html\n"
      ]
     },
     "execution_count": 21,
     "metadata": {},
     "output_type": "execute_result"
    }
   ],
   "source": [
    "matrix_distribution = pandas.DataFrame({\n",
    "    'Matrix': list(techniques_with_data_sources.groupby(['matrix'])['matrix'].count().keys()),\n",
    "    'Count of Techniques': techniques_with_data_sources.groupby(['matrix'])['matrix'].count().tolist()})\n",
    "bars = alt.Chart(matrix_distribution).mark_bar().encode(y='Matrix',x='Count of Techniques').properties(width=300,height=100)\n",
    "text = bars.mark_text(align='center',baseline='middle',dx=10,dy=0).encode(text='Count of Techniques')\n",
    "bars + text"
   ]
  },
  {
   "cell_type": "markdown",
   "metadata": {},
   "source": [
    "All the techniques belong to **mitre-attack** matrix which is the main **Enterprise** matrix. Reference: https://attack.mitre.org/wiki/Main_Page "
   ]
  },
  {
   "cell_type": "markdown",
   "metadata": {},
   "source": [
    "## 9. Grouping Techniques With Data Sources by Platform"
   ]
  },
  {
   "cell_type": "markdown",
   "metadata": {},
   "source": [
    "First, we need to split the **platform** column values because a technique might be mapped to more than one platform"
   ]
  },
  {
   "cell_type": "code",
   "execution_count": 22,
   "metadata": {},
   "outputs": [],
   "source": [
    "techniques_platform=techniques_with_data_sources\n",
    "\n",
    "attributes_1 = ['platform'] # In attributes we are going to indicate the name of the columns that we need to split\n",
    "\n",
    "for a in attributes_1:\n",
    "    s = techniques_platform.apply(lambda x: pandas.Series(x[a]),axis=1).stack().reset_index(level=1, drop=True)\n",
    "    # \"s\" is going to be a column of a frame with every value of the list inside each cell of the column \"a\"\n",
    "    s.name = a\n",
    "    # We name \"s\" with the same name of \"a\".\n",
    "    techniques_platform=techniques_platform.drop(a, axis=1).join(s).reset_index(drop=True)\n",
    "    # We drop the column \"a\" from \"techniques_platform\", and then join \"techniques_platform\" with \"s\"\n",
    "\n",
    "# Let's re-arrange the columns from general to specific\n",
    "techniques_platform_2=techniques_platform.reindex(['matrix','platform','tactic','technique','technique_id','data_sources'], axis=1)"
   ]
  },
  {
   "cell_type": "markdown",
   "metadata": {},
   "source": [
    "We can now show techniques with data sources mapped to one platform at the time"
   ]
  },
  {
   "cell_type": "code",
   "execution_count": 23,
   "metadata": {},
   "outputs": [
    {
     "data": {
      "text/html": [
       "<div>\n",
       "<style scoped>\n",
       "    .dataframe tbody tr th:only-of-type {\n",
       "        vertical-align: middle;\n",
       "    }\n",
       "\n",
       "    .dataframe tbody tr th {\n",
       "        vertical-align: top;\n",
       "    }\n",
       "\n",
       "    .dataframe thead th {\n",
       "        text-align: right;\n",
       "    }\n",
       "</style>\n",
       "<table border=\"1\" class=\"dataframe\">\n",
       "  <thead>\n",
       "    <tr style=\"text-align: right;\">\n",
       "      <th></th>\n",
       "      <th>matrix</th>\n",
       "      <th>platform</th>\n",
       "      <th>tactic</th>\n",
       "      <th>technique</th>\n",
       "      <th>technique_id</th>\n",
       "      <th>data_sources</th>\n",
       "    </tr>\n",
       "  </thead>\n",
       "  <tbody>\n",
       "    <tr>\n",
       "      <th>0</th>\n",
       "      <td>mitre-attack</td>\n",
       "      <td>Linux</td>\n",
       "      <td>[defense-evasion]</td>\n",
       "      <td>File Permissions Modification</td>\n",
       "      <td>T1222</td>\n",
       "      <td>[File monitoring, Process Monitoring, Process ...</td>\n",
       "    </tr>\n",
       "    <tr>\n",
       "      <th>1</th>\n",
       "      <td>mitre-attack</td>\n",
       "      <td>Windows</td>\n",
       "      <td>[defense-evasion]</td>\n",
       "      <td>File Permissions Modification</td>\n",
       "      <td>T1222</td>\n",
       "      <td>[File monitoring, Process Monitoring, Process ...</td>\n",
       "    </tr>\n",
       "    <tr>\n",
       "      <th>2</th>\n",
       "      <td>mitre-attack</td>\n",
       "      <td>macOS</td>\n",
       "      <td>[defense-evasion]</td>\n",
       "      <td>File Permissions Modification</td>\n",
       "      <td>T1222</td>\n",
       "      <td>[File monitoring, Process Monitoring, Process ...</td>\n",
       "    </tr>\n",
       "    <tr>\n",
       "      <th>3</th>\n",
       "      <td>mitre-attack</td>\n",
       "      <td>Windows</td>\n",
       "      <td>[defense-evasion, execution]</td>\n",
       "      <td>XSL Script Processing</td>\n",
       "      <td>T1220</td>\n",
       "      <td>[Process Monitoring, Process command-line para...</td>\n",
       "    </tr>\n",
       "    <tr>\n",
       "      <th>4</th>\n",
       "      <td>mitre-attack</td>\n",
       "      <td>Windows</td>\n",
       "      <td>[defense-evasion, execution]</td>\n",
       "      <td>Compiled HTML File</td>\n",
       "      <td>T1223</td>\n",
       "      <td>[File monitoring, Process Monitoring, Process ...</td>\n",
       "    </tr>\n",
       "  </tbody>\n",
       "</table>\n",
       "</div>"
      ],
      "text/plain": [
       "         matrix platform                        tactic  \\\n",
       "0  mitre-attack    Linux             [defense-evasion]   \n",
       "1  mitre-attack  Windows             [defense-evasion]   \n",
       "2  mitre-attack    macOS             [defense-evasion]   \n",
       "3  mitre-attack  Windows  [defense-evasion, execution]   \n",
       "4  mitre-attack  Windows  [defense-evasion, execution]   \n",
       "\n",
       "                       technique technique_id  \\\n",
       "0  File Permissions Modification        T1222   \n",
       "1  File Permissions Modification        T1222   \n",
       "2  File Permissions Modification        T1222   \n",
       "3          XSL Script Processing        T1220   \n",
       "4             Compiled HTML File        T1223   \n",
       "\n",
       "                                        data_sources  \n",
       "0  [File monitoring, Process Monitoring, Process ...  \n",
       "1  [File monitoring, Process Monitoring, Process ...  \n",
       "2  [File monitoring, Process Monitoring, Process ...  \n",
       "3  [Process Monitoring, Process command-line para...  \n",
       "4  [File monitoring, Process Monitoring, Process ...  "
      ]
     },
     "execution_count": 23,
     "metadata": {},
     "output_type": "execute_result"
    }
   ],
   "source": [
    "techniques_platform_2.head()"
   ]
  },
  {
   "cell_type": "markdown",
   "metadata": {},
   "source": [
    "Let's create a visualization to show the number of techniques grouped by platform:"
   ]
  },
  {
   "cell_type": "code",
   "execution_count": 24,
   "metadata": {},
   "outputs": [
    {
     "data": {
      "application/vnd.vegalite.v2+json": {
       "$schema": "https://vega.github.io/schema/vega-lite/v2.6.0.json",
       "config": {
        "view": {
         "height": 300,
         "width": 400
        }
       },
       "datasets": {
        "data-e43c19da7ce52b9499b82088e3b13892": [
         {
          "Count of Techniques": 109,
          "Platform": "Linux"
         },
         {
          "Count of Techniques": 189,
          "Platform": "Windows"
         },
         {
          "Count of Techniques": 128,
          "Platform": "macOS"
         }
        ]
       },
       "layer": [
        {
         "data": {
          "name": "data-e43c19da7ce52b9499b82088e3b13892"
         },
         "encoding": {
          "color": {
           "field": "Platform",
           "type": "nominal"
          },
          "x": {
           "field": "Platform",
           "type": "nominal"
          },
          "y": {
           "field": "Count of Techniques",
           "type": "quantitative"
          }
         },
         "height": 300,
         "mark": "bar",
         "width": 200
        },
        {
         "data": {
          "name": "data-e43c19da7ce52b9499b82088e3b13892"
         },
         "encoding": {
          "color": {
           "field": "Platform",
           "type": "nominal"
          },
          "text": {
           "field": "Count of Techniques",
           "type": "quantitative"
          },
          "x": {
           "field": "Platform",
           "type": "nominal"
          },
          "y": {
           "field": "Count of Techniques",
           "type": "quantitative"
          }
         },
         "height": 300,
         "mark": {
          "align": "center",
          "baseline": "middle",
          "dx": 0,
          "dy": -5,
          "type": "text"
         },
         "width": 200
        }
       ]
      },
      "image/png": "[encoded data removed]",
      "text/plain": [
       "<VegaLite 2 object>\n",
       "\n",
       "If you see this message, it means the renderer has not been properly enabled\n",
       "for the frontend that you are using. For more information, see\n",
       "https://altair-viz.github.io/user_guide/troubleshooting.html\n"
      ]
     },
     "execution_count": 24,
     "metadata": {},
     "output_type": "execute_result"
    }
   ],
   "source": [
    "platform_distribution = pandas.DataFrame({\n",
    "    'Platform': list(techniques_platform_2.groupby(['platform'])['platform'].count().keys()),\n",
    "    'Count of Techniques': techniques_platform_2.groupby(['platform'])['platform'].count().tolist()})\n",
    "bars = alt.Chart(platform_distribution,height=300).mark_bar().encode(x ='Platform',y='Count of Techniques',color='Platform').properties(width=200)\n",
    "text = bars.mark_text(align='center',baseline='middle',dx=0,dy=-5).encode(text='Count of Techniques')\n",
    "bars + text"
   ]
  },
  {
   "cell_type": "markdown",
   "metadata": {},
   "source": [
    "In the bar chart above we can see that there are more techniques with data sources mapped to the Windows platform."
   ]
  },
  {
   "cell_type": "markdown",
   "metadata": {},
   "source": [
    "## 10. Grouping Techniques With Data Sources by Tactic"
   ]
  },
  {
   "cell_type": "markdown",
   "metadata": {},
   "source": [
    "Again, first we need to split the tactic column values because a technique might be mapped to more than one tactic:"
   ]
  },
  {
   "cell_type": "code",
   "execution_count": 25,
   "metadata": {},
   "outputs": [],
   "source": [
    "techniques_tactic=techniques_with_data_sources\n",
    "\n",
    "attributes_2 = ['tactic'] # In attributes we are going to indicate the name of the columns that we need to split\n",
    "\n",
    "for a in attributes_2:\n",
    "    s = techniques_tactic.apply(lambda x: pandas.Series(x[a]),axis=1).stack().reset_index(level=1, drop=True)\n",
    "    # \"s\" is going to be a column of a frame with every value of the list inside each cell of the column \"a\"\n",
    "    s.name = a\n",
    "    # We name \"s\" with the same name of \"a\".\n",
    "    techniques_tactic = techniques_tactic.drop(a, axis=1).join(s).reset_index(drop=True)\n",
    "    # We drop the column \"a\" from \"techniques_tactic\", and then join \"techniques_tactic\" with \"s\"\n",
    "\n",
    "# Let's re-arrange the columns from general to specific\n",
    "techniques_tactic_2=techniques_tactic.reindex(['matrix','platform','tactic','technique','technique_id','data_sources'], axis=1)\n"
   ]
  },
  {
   "cell_type": "markdown",
   "metadata": {},
   "source": [
    "We can now show techniques with data sources mapped to one tactic at the time"
   ]
  },
  {
   "cell_type": "code",
   "execution_count": 26,
   "metadata": {},
   "outputs": [
    {
     "data": {
      "text/html": [
       "<div>\n",
       "<style scoped>\n",
       "    .dataframe tbody tr th:only-of-type {\n",
       "        vertical-align: middle;\n",
       "    }\n",
       "\n",
       "    .dataframe tbody tr th {\n",
       "        vertical-align: top;\n",
       "    }\n",
       "\n",
       "    .dataframe thead th {\n",
       "        text-align: right;\n",
       "    }\n",
       "</style>\n",
       "<table border=\"1\" class=\"dataframe\">\n",
       "  <thead>\n",
       "    <tr style=\"text-align: right;\">\n",
       "      <th></th>\n",
       "      <th>matrix</th>\n",
       "      <th>platform</th>\n",
       "      <th>tactic</th>\n",
       "      <th>technique</th>\n",
       "      <th>technique_id</th>\n",
       "      <th>data_sources</th>\n",
       "    </tr>\n",
       "  </thead>\n",
       "  <tbody>\n",
       "    <tr>\n",
       "      <th>0</th>\n",
       "      <td>mitre-attack</td>\n",
       "      <td>[Linux, Windows, macOS]</td>\n",
       "      <td>defense-evasion</td>\n",
       "      <td>File Permissions Modification</td>\n",
       "      <td>T1222</td>\n",
       "      <td>[File monitoring, Process Monitoring, Process ...</td>\n",
       "    </tr>\n",
       "    <tr>\n",
       "      <th>1</th>\n",
       "      <td>mitre-attack</td>\n",
       "      <td>[Windows]</td>\n",
       "      <td>defense-evasion</td>\n",
       "      <td>XSL Script Processing</td>\n",
       "      <td>T1220</td>\n",
       "      <td>[Process Monitoring, Process command-line para...</td>\n",
       "    </tr>\n",
       "    <tr>\n",
       "      <th>2</th>\n",
       "      <td>mitre-attack</td>\n",
       "      <td>[Windows]</td>\n",
       "      <td>execution</td>\n",
       "      <td>XSL Script Processing</td>\n",
       "      <td>T1220</td>\n",
       "      <td>[Process Monitoring, Process command-line para...</td>\n",
       "    </tr>\n",
       "    <tr>\n",
       "      <th>3</th>\n",
       "      <td>mitre-attack</td>\n",
       "      <td>[Windows]</td>\n",
       "      <td>defense-evasion</td>\n",
       "      <td>Compiled HTML File</td>\n",
       "      <td>T1223</td>\n",
       "      <td>[File monitoring, Process Monitoring, Process ...</td>\n",
       "    </tr>\n",
       "    <tr>\n",
       "      <th>4</th>\n",
       "      <td>mitre-attack</td>\n",
       "      <td>[Windows]</td>\n",
       "      <td>execution</td>\n",
       "      <td>Compiled HTML File</td>\n",
       "      <td>T1223</td>\n",
       "      <td>[File monitoring, Process Monitoring, Process ...</td>\n",
       "    </tr>\n",
       "  </tbody>\n",
       "</table>\n",
       "</div>"
      ],
      "text/plain": [
       "         matrix                 platform           tactic  \\\n",
       "0  mitre-attack  [Linux, Windows, macOS]  defense-evasion   \n",
       "1  mitre-attack                [Windows]  defense-evasion   \n",
       "2  mitre-attack                [Windows]        execution   \n",
       "3  mitre-attack                [Windows]  defense-evasion   \n",
       "4  mitre-attack                [Windows]        execution   \n",
       "\n",
       "                       technique technique_id  \\\n",
       "0  File Permissions Modification        T1222   \n",
       "1          XSL Script Processing        T1220   \n",
       "2          XSL Script Processing        T1220   \n",
       "3             Compiled HTML File        T1223   \n",
       "4             Compiled HTML File        T1223   \n",
       "\n",
       "                                        data_sources  \n",
       "0  [File monitoring, Process Monitoring, Process ...  \n",
       "1  [Process Monitoring, Process command-line para...  \n",
       "2  [Process Monitoring, Process command-line para...  \n",
       "3  [File monitoring, Process Monitoring, Process ...  \n",
       "4  [File monitoring, Process Monitoring, Process ...  "
      ]
     },
     "execution_count": 26,
     "metadata": {},
     "output_type": "execute_result"
    }
   ],
   "source": [
    "techniques_tactic_2.head()"
   ]
  },
  {
   "cell_type": "markdown",
   "metadata": {},
   "source": [
    "Let's create a visualization to show the number of techniques grouped by tactic:"
   ]
  },
  {
   "cell_type": "code",
   "execution_count": 27,
   "metadata": {},
   "outputs": [
    {
     "data": {
      "application/vnd.vegalite.v2+json": {
       "$schema": "https://vega.github.io/schema/vega-lite/v2.6.0.json",
       "config": {
        "view": {
         "height": 300,
         "width": 400
        }
       },
       "datasets": {
        "data-eaddce545b04049bbbe0ae17fd8187a9": [
         {
          "Count of Techniques": 9,
          "Tactic": "exfiltration"
         },
         {
          "Count of Techniques": 10,
          "Tactic": "initial-access"
         },
         {
          "Count of Techniques": 13,
          "Tactic": "collection"
         },
         {
          "Count of Techniques": 17,
          "Tactic": "lateral-movement"
         },
         {
          "Count of Techniques": 19,
          "Tactic": "credential-access"
         },
         {
          "Count of Techniques": 19,
          "Tactic": "discovery"
         },
         {
          "Count of Techniques": 20,
          "Tactic": "command-and-control"
         },
         {
          "Count of Techniques": 28,
          "Tactic": "privilege-escalation"
         },
         {
          "Count of Techniques": 33,
          "Tactic": "execution"
         },
         {
          "Count of Techniques": 56,
          "Tactic": "persistence"
         },
         {
          "Count of Techniques": 61,
          "Tactic": "defense-evasion"
         }
        ]
       },
       "layer": [
        {
         "data": {
          "name": "data-eaddce545b04049bbbe0ae17fd8187a9"
         },
         "encoding": {
          "color": {
           "field": "Tactic",
           "type": "nominal"
          },
          "x": {
           "field": "Tactic",
           "type": "nominal"
          },
          "y": {
           "field": "Count of Techniques",
           "type": "quantitative"
          }
         },
         "height": 300,
         "mark": "bar",
         "width": 400
        },
        {
         "data": {
          "name": "data-eaddce545b04049bbbe0ae17fd8187a9"
         },
         "encoding": {
          "color": {
           "field": "Tactic",
           "type": "nominal"
          },
          "text": {
           "field": "Count of Techniques",
           "type": "quantitative"
          },
          "x": {
           "field": "Tactic",
           "type": "nominal"
          },
          "y": {
           "field": "Count of Techniques",
           "type": "quantitative"
          }
         },
         "height": 300,
         "mark": {
          "align": "center",
          "baseline": "middle",
          "dx": 0,
          "dy": -5,
          "type": "text"
         },
         "width": 400
        }
       ]
      },
      "image/png": "[encoded data removed]",
      "text/plain": [
       "<VegaLite 2 object>\n",
       "\n",
       "If you see this message, it means the renderer has not been properly enabled\n",
       "for the frontend that you are using. For more information, see\n",
       "https://altair-viz.github.io/user_guide/troubleshooting.html\n"
      ]
     },
     "execution_count": 27,
     "metadata": {},
     "output_type": "execute_result"
    }
   ],
   "source": [
    "tactic_distribution = pandas.DataFrame({\n",
    "    'Tactic': list(techniques_tactic_2.groupby(['tactic'])['tactic'].count().keys()),\n",
    "    'Count of Techniques': techniques_tactic_2.groupby(['tactic'])['tactic'].count().tolist()}).sort_values(by='Count of Techniques',ascending=True)\n",
    "bars = alt.Chart(tactic_distribution,width=800,height=300).mark_bar().encode(x ='Tactic',y='Count of Techniques',color='Tactic').properties(width=400)\n",
    "text = bars.mark_text(align='center',baseline='middle',dx=0,dy=-5).encode(text='Count of Techniques')\n",
    "bars + text"
   ]
  },
  {
   "cell_type": "markdown",
   "metadata": {},
   "source": [
    "Defende-evasion and Persistence are tactics with the highest nummber of techniques with data sources"
   ]
  },
  {
   "cell_type": "markdown",
   "metadata": {},
   "source": [
    "## 11. Grouping Techniques With Data Sources by Data Source"
   ]
  },
  {
   "cell_type": "markdown",
   "metadata": {},
   "source": [
    "We need to split the data source column values because a technique might be mapped to more than one data source:"
   ]
  },
  {
   "cell_type": "code",
   "execution_count": 28,
   "metadata": {},
   "outputs": [],
   "source": [
    "techniques_data_source=techniques_with_data_sources\n",
    "\n",
    "attributes_3 = ['data_sources'] # In attributes we are going to indicate the name of the columns that we need to split\n",
    "\n",
    "for a in attributes_3:\n",
    "    s = techniques_data_source.apply(lambda x: pandas.Series(x[a]),axis=1).stack().reset_index(level=1, drop=True)\n",
    "    # \"s\" is going to be a column of a frame with every value of the list inside each cell of the column \"a\"\n",
    "    s.name = a\n",
    "    # We name \"s\" with the same name of \"a\".\n",
    "    techniques_data_source = techniques_data_source.drop(a, axis=1).join(s).reset_index(drop=True)\n",
    "    # We drop the column \"a\" from \"techniques_data_source\", and then join \"techniques_data_source\" with \"s\"\n",
    "\n",
    "# Let's re-arrange the columns from general to specific\n",
    "techniques_data_source_2 = techniques_data_source.reindex(['matrix','platform','tactic','technique','technique_id','data_sources'], axis=1)\n",
    "\n",
    "# We are going to edit some names inside the dataframe to improve the consistency:\n",
    "techniques_data_source_3 = techniques_data_source_2.replace(['Process monitoring','Application logs'],['Process Monitoring','Application Logs'])"
   ]
  },
  {
   "cell_type": "markdown",
   "metadata": {},
   "source": [
    "We can now show techniques with data sources mapped to one data source at the time"
   ]
  },
  {
   "cell_type": "code",
   "execution_count": 29,
   "metadata": {},
   "outputs": [
    {
     "data": {
      "text/html": [
       "<div>\n",
       "<style scoped>\n",
       "    .dataframe tbody tr th:only-of-type {\n",
       "        vertical-align: middle;\n",
       "    }\n",
       "\n",
       "    .dataframe tbody tr th {\n",
       "        vertical-align: top;\n",
       "    }\n",
       "\n",
       "    .dataframe thead th {\n",
       "        text-align: right;\n",
       "    }\n",
       "</style>\n",
       "<table border=\"1\" class=\"dataframe\">\n",
       "  <thead>\n",
       "    <tr style=\"text-align: right;\">\n",
       "      <th></th>\n",
       "      <th>matrix</th>\n",
       "      <th>platform</th>\n",
       "      <th>tactic</th>\n",
       "      <th>technique</th>\n",
       "      <th>technique_id</th>\n",
       "      <th>data_sources</th>\n",
       "    </tr>\n",
       "  </thead>\n",
       "  <tbody>\n",
       "    <tr>\n",
       "      <th>0</th>\n",
       "      <td>mitre-attack</td>\n",
       "      <td>[Linux, Windows, macOS]</td>\n",
       "      <td>[defense-evasion]</td>\n",
       "      <td>File Permissions Modification</td>\n",
       "      <td>T1222</td>\n",
       "      <td>File monitoring</td>\n",
       "    </tr>\n",
       "    <tr>\n",
       "      <th>1</th>\n",
       "      <td>mitre-attack</td>\n",
       "      <td>[Linux, Windows, macOS]</td>\n",
       "      <td>[defense-evasion]</td>\n",
       "      <td>File Permissions Modification</td>\n",
       "      <td>T1222</td>\n",
       "      <td>Process Monitoring</td>\n",
       "    </tr>\n",
       "    <tr>\n",
       "      <th>2</th>\n",
       "      <td>mitre-attack</td>\n",
       "      <td>[Linux, Windows, macOS]</td>\n",
       "      <td>[defense-evasion]</td>\n",
       "      <td>File Permissions Modification</td>\n",
       "      <td>T1222</td>\n",
       "      <td>Process command-line parameters</td>\n",
       "    </tr>\n",
       "    <tr>\n",
       "      <th>3</th>\n",
       "      <td>mitre-attack</td>\n",
       "      <td>[Linux, Windows, macOS]</td>\n",
       "      <td>[defense-evasion]</td>\n",
       "      <td>File Permissions Modification</td>\n",
       "      <td>T1222</td>\n",
       "      <td>Windows event logs</td>\n",
       "    </tr>\n",
       "    <tr>\n",
       "      <th>4</th>\n",
       "      <td>mitre-attack</td>\n",
       "      <td>[Windows]</td>\n",
       "      <td>[defense-evasion, execution]</td>\n",
       "      <td>XSL Script Processing</td>\n",
       "      <td>T1220</td>\n",
       "      <td>Process Monitoring</td>\n",
       "    </tr>\n",
       "  </tbody>\n",
       "</table>\n",
       "</div>"
      ],
      "text/plain": [
       "         matrix                 platform                        tactic  \\\n",
       "0  mitre-attack  [Linux, Windows, macOS]             [defense-evasion]   \n",
       "1  mitre-attack  [Linux, Windows, macOS]             [defense-evasion]   \n",
       "2  mitre-attack  [Linux, Windows, macOS]             [defense-evasion]   \n",
       "3  mitre-attack  [Linux, Windows, macOS]             [defense-evasion]   \n",
       "4  mitre-attack                [Windows]  [defense-evasion, execution]   \n",
       "\n",
       "                       technique technique_id                     data_sources  \n",
       "0  File Permissions Modification        T1222                  File monitoring  \n",
       "1  File Permissions Modification        T1222               Process Monitoring  \n",
       "2  File Permissions Modification        T1222  Process command-line parameters  \n",
       "3  File Permissions Modification        T1222               Windows event logs  \n",
       "4          XSL Script Processing        T1220               Process Monitoring  "
      ]
     },
     "execution_count": 29,
     "metadata": {},
     "output_type": "execute_result"
    }
   ],
   "source": [
    "techniques_data_source_3.head()"
   ]
  },
  {
   "cell_type": "markdown",
   "metadata": {},
   "source": [
    "Let's create a visualization to show the number of techniques grouped by data sources:"
   ]
  },
  {
   "cell_type": "code",
   "execution_count": 30,
   "metadata": {},
   "outputs": [
    {
     "data": {
      "application/vnd.vegalite.v2+json": {
       "$schema": "https://vega.github.io/schema/vega-lite/v2.6.0.json",
       "config": {
        "view": {
         "height": 300,
         "width": 400
        }
       },
       "datasets": {
        "data-7919a1a073b1cc13f6356949a0899bbe": [
         {
          "Count of Techniques": 41,
          "Data Source": "API monitoring"
         },
         {
          "Count of Techniques": 1,
          "Data Source": "Access Tokens"
         },
         {
          "Count of Techniques": 7,
          "Data Source": "Anti-virus"
         },
         {
          "Count of Techniques": 5,
          "Data Source": "Application Logs"
         },
         {
          "Count of Techniques": 1,
          "Data Source": "Asset Management"
         },
         {
          "Count of Techniques": 28,
          "Data Source": "Authentication logs"
         },
         {
          "Count of Techniques": 2,
          "Data Source": "BIOS"
         },
         {
          "Count of Techniques": 18,
          "Data Source": "Binary file metadata"
         },
         {
          "Count of Techniques": 1,
          "Data Source": "Browser extensions"
         },
         {
          "Count of Techniques": 1,
          "Data Source": "Component Firmware"
         },
         {
          "Count of Techniques": 17,
          "Data Source": "DLL monitoring"
         },
         {
          "Count of Techniques": 1,
          "Data Source": "DNS records"
         },
         {
          "Count of Techniques": 6,
          "Data Source": "Data loss prevention"
         },
         {
          "Count of Techniques": 2,
          "Data Source": "Detonation chamber"
         },
         {
          "Count of Techniques": 1,
          "Data Source": "Digital Certificate Logs"
         },
         {
          "Count of Techniques": 1,
          "Data Source": "Disk Forensics"
         },
         {
          "Count of Techniques": 1,
          "Data Source": "EFI"
         },
         {
          "Count of Techniques": 4,
          "Data Source": "Email gateway"
         },
         {
          "Count of Techniques": 2,
          "Data Source": "Environment variable"
         },
         {
          "Count of Techniques": 90,
          "Data Source": "File monitoring"
         },
         {
          "Count of Techniques": 4,
          "Data Source": "Host network interface"
         },
         {
          "Count of Techniques": 4,
          "Data Source": "Kernel drivers"
         },
         {
          "Count of Techniques": 12,
          "Data Source": "Loaded DLLs"
         },
         {
          "Count of Techniques": 2,
          "Data Source": "MBR"
         },
         {
          "Count of Techniques": 2,
          "Data Source": "Mail server"
         },
         {
          "Count of Techniques": 9,
          "Data Source": "Malware reverse engineering"
         },
         {
          "Count of Techniques": 1,
          "Data Source": "Named Pipes"
         },
         {
          "Count of Techniques": 24,
          "Data Source": "Netflow/Enclave netflow"
         },
         {
          "Count of Techniques": 4,
          "Data Source": "Network device logs"
         },
         {
          "Count of Techniques": 7,
          "Data Source": "Network intrusion detection system"
         },
         {
          "Count of Techniques": 18,
          "Data Source": "Network protocol analysis"
         },
         {
          "Count of Techniques": 32,
          "Data Source": "Packet capture"
         },
         {
          "Count of Techniques": 1,
          "Data Source": "PowerShell logs"
         },
         {
          "Count of Techniques": 157,
          "Data Source": "Process Monitoring"
         },
         {
          "Count of Techniques": 87,
          "Data Source": "Process command-line parameters"
         },
         {
          "Count of Techniques": 37,
          "Data Source": "Process use of network"
         },
         {
          "Count of Techniques": 8,
          "Data Source": "SSL/TLS inspection"
         },
         {
          "Count of Techniques": 1,
          "Data Source": "Sensor health and status"
         },
         {
          "Count of Techniques": 3,
          "Data Source": "Services"
         },
         {
          "Count of Techniques": 9,
          "Data Source": "System calls"
         },
         {
          "Count of Techniques": 3,
          "Data Source": "Third-party application logs"
         },
         {
          "Count of Techniques": 4,
          "Data Source": "User interface"
         },
         {
          "Count of Techniques": 1,
          "Data Source": "VBR"
         },
         {
          "Count of Techniques": 1,
          "Data Source": "WMI Objects"
         },
         {
          "Count of Techniques": 1,
          "Data Source": "Web application firewall logs"
         },
         {
          "Count of Techniques": 2,
          "Data Source": "Web logs"
         },
         {
          "Count of Techniques": 4,
          "Data Source": "Web proxy"
         },
         {
          "Count of Techniques": 4,
          "Data Source": "Windows Error Reporting"
         },
         {
          "Count of Techniques": 34,
          "Data Source": "Windows Registry"
         },
         {
          "Count of Techniques": 19,
          "Data Source": "Windows event logs"
         }
        ]
       },
       "layer": [
        {
         "data": {
          "name": "data-7919a1a073b1cc13f6356949a0899bbe"
         },
         "encoding": {
          "color": {
           "field": "Data Source",
           "type": "nominal"
          },
          "x": {
           "field": "Data Source",
           "type": "nominal"
          },
          "y": {
           "field": "Count of Techniques",
           "type": "quantitative"
          }
         },
         "height": 300,
         "mark": "bar",
         "width": 1200
        },
        {
         "data": {
          "name": "data-7919a1a073b1cc13f6356949a0899bbe"
         },
         "encoding": {
          "color": {
           "field": "Data Source",
           "type": "nominal"
          },
          "text": {
           "field": "Count of Techniques",
           "type": "quantitative"
          },
          "x": {
           "field": "Data Source",
           "type": "nominal"
          },
          "y": {
           "field": "Count of Techniques",
           "type": "quantitative"
          }
         },
         "height": 300,
         "mark": {
          "align": "center",
          "baseline": "middle",
          "dx": 0,
          "dy": -5,
          "type": "text"
         },
         "width": 1200
        }
       ]
      },
      "image/png": "[encoded data removed]",
      "text/plain": [
       "<VegaLite 2 object>\n",
       "\n",
       "If you see this message, it means the renderer has not been properly enabled\n",
       "for the frontend that you are using. For more information, see\n",
       "https://altair-viz.github.io/user_guide/troubleshooting.html\n"
      ]
     },
     "execution_count": 30,
     "metadata": {},
     "output_type": "execute_result"
    }
   ],
   "source": [
    "data_source_distribution = pandas.DataFrame({\n",
    "    'Data Source': list(techniques_data_source_3.groupby(['data_sources'])['data_sources'].count().keys()),\n",
    "    'Count of Techniques': techniques_data_source_3.groupby(['data_sources'])['data_sources'].count().tolist()})\n",
    "bars = alt.Chart(data_source_distribution,width=800,height=300).mark_bar().encode(x ='Data Source',y='Count of Techniques',color='Data Source').properties(width=1200)\n",
    "text = bars.mark_text(align='center',baseline='middle',dx=0,dy=-5).encode(text='Count of Techniques')\n",
    "bars + text"
   ]
  },
  {
   "cell_type": "markdown",
   "metadata": {},
   "source": [
    "A few interesting things from the bar chart above:\n",
    "* Process Monitoring, File Monitoring, and Process Command-line parameters are the Data Sources with the highest number of techniques\n",
    "* There are some data source names that include string references to Windows such as PowerShell, Windows and wmi"
   ]
  },
  {
   "cell_type": "markdown",
   "metadata": {},
   "source": [
    "## 12. Most Relevant Groups Of Data Sources Per Technique"
   ]
  },
  {
   "cell_type": "markdown",
   "metadata": {},
   "source": [
    "### Number Of Data Sources Per Technique"
   ]
  },
  {
   "cell_type": "markdown",
   "metadata": {},
   "source": [
    "Although identifying the data sources with the highest number of techniques is a good start, they usually do not work alone. You might be collecting **Process Monitoring** already but you might be still missing a lot of context from a data perspective."
   ]
  },
  {
   "cell_type": "code",
   "execution_count": 31,
   "metadata": {},
   "outputs": [
    {
     "data": {
      "application/vnd.vegalite.v2+json": {
       "$schema": "https://vega.github.io/schema/vega-lite/v2.6.0.json",
       "config": {
        "view": {
         "height": 300,
         "width": 400
        }
       },
       "datasets": {
        "data-4baf7ff6e3b63c41aca68244400d5d1c": [
         {
          "Count of Techniques": 19,
          "Number of Data Sources": 1
         },
         {
          "Count of Techniques": 45,
          "Number of Data Sources": 2
         },
         {
          "Count of Techniques": 71,
          "Number of Data Sources": 3
         },
         {
          "Count of Techniques": 49,
          "Number of Data Sources": 4
         },
         {
          "Count of Techniques": 15,
          "Number of Data Sources": 5
         },
         {
          "Count of Techniques": 13,
          "Number of Data Sources": 6
         },
         {
          "Count of Techniques": 6,
          "Number of Data Sources": 7
         },
         {
          "Count of Techniques": 1,
          "Number of Data Sources": 12
         }
        ]
       },
       "layer": [
        {
         "data": {
          "name": "data-4baf7ff6e3b63c41aca68244400d5d1c"
         },
         "encoding": {
          "x": {
           "field": "Number of Data Sources",
           "type": "quantitative"
          },
          "y": {
           "field": "Count of Techniques",
           "type": "quantitative"
          }
         },
         "mark": "bar",
         "width": 500
        },
        {
         "data": {
          "name": "data-4baf7ff6e3b63c41aca68244400d5d1c"
         },
         "encoding": {
          "text": {
           "field": "Count of Techniques",
           "type": "quantitative"
          },
          "x": {
           "field": "Number of Data Sources",
           "type": "quantitative"
          },
          "y": {
           "field": "Count of Techniques",
           "type": "quantitative"
          }
         },
         "mark": {
          "align": "center",
          "baseline": "middle",
          "dx": 0,
          "dy": -5,
          "type": "text"
         },
         "width": 500
        }
       ]
      },
      "image/png": "[encoded data removed]",
      "text/plain": [
       "<VegaLite 2 object>\n",
       "\n",
       "If you see this message, it means the renderer has not been properly enabled\n",
       "for the frontend that you are using. For more information, see\n",
       "https://altair-viz.github.io/user_guide/troubleshooting.html\n"
      ]
     },
     "execution_count": 31,
     "metadata": {},
     "output_type": "execute_result"
    }
   ],
   "source": [
    "data_source_distribution_2 = pandas.DataFrame({\n",
    "    'Techniques': list(techniques_data_source_3.groupby(['technique'])['technique'].count().keys()),\n",
    "    'Count of Data Sources': techniques_data_source_3.groupby(['technique'])['technique'].count().tolist()})\n",
    "\n",
    "data_source_distribution_3 = pandas.DataFrame({\n",
    "    'Number of Data Sources': list(data_source_distribution_2.groupby(['Count of Data Sources'])['Count of Data Sources'].count().keys()),\n",
    "    'Count of Techniques': data_source_distribution_2.groupby(['Count of Data Sources'])['Count of Data Sources'].count().tolist()})\n",
    "\n",
    "bars = alt.Chart(data_source_distribution_3).mark_bar().encode(x ='Number of Data Sources',y='Count of Techniques').properties(width=500)\n",
    "text = bars.mark_text(align='center',baseline='middle',dx=0,dy=-5).encode(text='Count of Techniques')\n",
    "bars + text"
   ]
  },
  {
   "cell_type": "markdown",
   "metadata": {},
   "source": [
    "The image above shows you the number data sources needed per techniques according to ATT&CK:\n",
    "* There are 71 techniques that require 3 data sources as enough context to validate the detection of them according to ATT&CK\n",
    "* Only one technique has 12 data sources\n",
    "* One data source only applies to 19 techniques"
   ]
  },
  {
   "cell_type": "markdown",
   "metadata": {},
   "source": [
    "Let's create subsets of data sources with the data source column defining and using a python function:"
   ]
  },
  {
   "cell_type": "code",
   "execution_count": 32,
   "metadata": {},
   "outputs": [],
   "source": [
    "# https://stackoverflow.com/questions/26332412/python-recursive-function-to-display-all-subsets-of-given-set\n",
    "def subs(l):\n",
    "    res = []\n",
    "    for i in range(1, len(l) + 1):\n",
    "        for combo in itertools.combinations(l, i):\n",
    "            res.append(list(combo))\n",
    "    return res"
   ]
  },
  {
   "cell_type": "markdown",
   "metadata": {},
   "source": [
    "Before applying the function, we need to use lowercase data sources names and sort data sources names to improve consistency:"
   ]
  },
  {
   "cell_type": "code",
   "execution_count": 33,
   "metadata": {},
   "outputs": [],
   "source": [
    "df = techniques_with_data_sources[['data_sources']]"
   ]
  },
  {
   "cell_type": "code",
   "execution_count": 34,
   "metadata": {},
   "outputs": [],
   "source": [
    "for index, row in df.iterrows():\n",
    "    row[\"data_sources\"]=[x.lower() for x in row[\"data_sources\"]]\n",
    "    row[\"data_sources\"].sort()"
   ]
  },
  {
   "cell_type": "code",
   "execution_count": 35,
   "metadata": {},
   "outputs": [
    {
     "data": {
      "text/html": [
       "<div>\n",
       "<style scoped>\n",
       "    .dataframe tbody tr th:only-of-type {\n",
       "        vertical-align: middle;\n",
       "    }\n",
       "\n",
       "    .dataframe tbody tr th {\n",
       "        vertical-align: top;\n",
       "    }\n",
       "\n",
       "    .dataframe thead th {\n",
       "        text-align: right;\n",
       "    }\n",
       "</style>\n",
       "<table border=\"1\" class=\"dataframe\">\n",
       "  <thead>\n",
       "    <tr style=\"text-align: right;\">\n",
       "      <th></th>\n",
       "      <th>data_sources</th>\n",
       "    </tr>\n",
       "  </thead>\n",
       "  <tbody>\n",
       "    <tr>\n",
       "      <th>0</th>\n",
       "      <td>[file monitoring, process command-line paramet...</td>\n",
       "    </tr>\n",
       "    <tr>\n",
       "      <th>1</th>\n",
       "      <td>[dll monitoring, process command-line paramete...</td>\n",
       "    </tr>\n",
       "    <tr>\n",
       "      <th>2</th>\n",
       "      <td>[file monitoring, process command-line paramet...</td>\n",
       "    </tr>\n",
       "    <tr>\n",
       "      <th>3</th>\n",
       "      <td>[anti-virus, email gateway, network intrusion ...</td>\n",
       "    </tr>\n",
       "    <tr>\n",
       "      <th>4</th>\n",
       "      <td>[api monitoring, packet capture, windows event...</td>\n",
       "    </tr>\n",
       "  </tbody>\n",
       "</table>\n",
       "</div>"
      ],
      "text/plain": [
       "                                        data_sources\n",
       "0  [file monitoring, process command-line paramet...\n",
       "1  [dll monitoring, process command-line paramete...\n",
       "2  [file monitoring, process command-line paramet...\n",
       "3  [anti-virus, email gateway, network intrusion ...\n",
       "4  [api monitoring, packet capture, windows event..."
      ]
     },
     "execution_count": 35,
     "metadata": {},
     "output_type": "execute_result"
    }
   ],
   "source": [
    "df.head()"
   ]
  },
  {
   "cell_type": "markdown",
   "metadata": {},
   "source": [
    "Let's apply the function and split the subsets column:"
   ]
  },
  {
   "cell_type": "code",
   "execution_count": 36,
   "metadata": {},
   "outputs": [
    {
     "name": "stderr",
     "output_type": "stream",
     "text": [
      "C:\\Users\\lucho\\Anaconda3\\lib\\site-packages\\ipykernel_launcher.py:1: SettingWithCopyWarning: \n",
      "A value is trying to be set on a copy of a slice from a DataFrame.\n",
      "Try using .loc[row_indexer,col_indexer] = value instead\n",
      "\n",
      "See the caveats in the documentation: http://pandas.pydata.org/pandas-docs/stable/indexing.html#indexing-view-versus-copy\n",
      "  \"\"\"Entry point for launching an IPython kernel.\n"
     ]
    }
   ],
   "source": [
    "df['subsets']=df['data_sources'].apply(subs)"
   ]
  },
  {
   "cell_type": "code",
   "execution_count": 37,
   "metadata": {},
   "outputs": [
    {
     "data": {
      "text/html": [
       "<div>\n",
       "<style scoped>\n",
       "    .dataframe tbody tr th:only-of-type {\n",
       "        vertical-align: middle;\n",
       "    }\n",
       "\n",
       "    .dataframe tbody tr th {\n",
       "        vertical-align: top;\n",
       "    }\n",
       "\n",
       "    .dataframe thead th {\n",
       "        text-align: right;\n",
       "    }\n",
       "</style>\n",
       "<table border=\"1\" class=\"dataframe\">\n",
       "  <thead>\n",
       "    <tr style=\"text-align: right;\">\n",
       "      <th></th>\n",
       "      <th>data_sources</th>\n",
       "      <th>subsets</th>\n",
       "    </tr>\n",
       "  </thead>\n",
       "  <tbody>\n",
       "    <tr>\n",
       "      <th>0</th>\n",
       "      <td>[file monitoring, process command-line paramet...</td>\n",
       "      <td>[[file monitoring], [process command-line para...</td>\n",
       "    </tr>\n",
       "    <tr>\n",
       "      <th>1</th>\n",
       "      <td>[dll monitoring, process command-line paramete...</td>\n",
       "      <td>[[dll monitoring], [process command-line param...</td>\n",
       "    </tr>\n",
       "    <tr>\n",
       "      <th>2</th>\n",
       "      <td>[file monitoring, process command-line paramet...</td>\n",
       "      <td>[[file monitoring], [process command-line para...</td>\n",
       "    </tr>\n",
       "    <tr>\n",
       "      <th>3</th>\n",
       "      <td>[anti-virus, email gateway, network intrusion ...</td>\n",
       "      <td>[[anti-virus], [email gateway], [network intru...</td>\n",
       "    </tr>\n",
       "    <tr>\n",
       "      <th>4</th>\n",
       "      <td>[api monitoring, packet capture, windows event...</td>\n",
       "      <td>[[api monitoring], [packet capture], [windows ...</td>\n",
       "    </tr>\n",
       "  </tbody>\n",
       "</table>\n",
       "</div>"
      ],
      "text/plain": [
       "                                        data_sources  \\\n",
       "0  [file monitoring, process command-line paramet...   \n",
       "1  [dll monitoring, process command-line paramete...   \n",
       "2  [file monitoring, process command-line paramet...   \n",
       "3  [anti-virus, email gateway, network intrusion ...   \n",
       "4  [api monitoring, packet capture, windows event...   \n",
       "\n",
       "                                             subsets  \n",
       "0  [[file monitoring], [process command-line para...  \n",
       "1  [[dll monitoring], [process command-line param...  \n",
       "2  [[file monitoring], [process command-line para...  \n",
       "3  [[anti-virus], [email gateway], [network intru...  \n",
       "4  [[api monitoring], [packet capture], [windows ...  "
      ]
     },
     "execution_count": 37,
     "metadata": {},
     "output_type": "execute_result"
    }
   ],
   "source": [
    "df.head()"
   ]
  },
  {
   "cell_type": "markdown",
   "metadata": {},
   "source": [
    "We need to split the subsets column values:"
   ]
  },
  {
   "cell_type": "code",
   "execution_count": 38,
   "metadata": {},
   "outputs": [],
   "source": [
    "techniques_with_data_sources_preview = df"
   ]
  },
  {
   "cell_type": "code",
   "execution_count": 39,
   "metadata": {},
   "outputs": [],
   "source": [
    "attributes_4 = ['subsets']\n",
    "\n",
    "for a in attributes_4:\n",
    "    s = techniques_with_data_sources_preview.apply(lambda x: pandas.Series(x[a]),axis=1).stack().reset_index(level=1, drop=True)\n",
    "    s.name = a\n",
    "    techniques_with_data_sources_preview = techniques_with_data_sources_preview.drop(a, axis=1).join(s).reset_index(drop=True)\n",
    "    \n",
    "techniques_with_data_sources_subsets = techniques_with_data_sources_preview.reindex(['data_sources','subsets'], axis=1)\n"
   ]
  },
  {
   "cell_type": "code",
   "execution_count": 40,
   "metadata": {},
   "outputs": [
    {
     "data": {
      "text/html": [
       "<div>\n",
       "<style scoped>\n",
       "    .dataframe tbody tr th:only-of-type {\n",
       "        vertical-align: middle;\n",
       "    }\n",
       "\n",
       "    .dataframe tbody tr th {\n",
       "        vertical-align: top;\n",
       "    }\n",
       "\n",
       "    .dataframe thead th {\n",
       "        text-align: right;\n",
       "    }\n",
       "</style>\n",
       "<table border=\"1\" class=\"dataframe\">\n",
       "  <thead>\n",
       "    <tr style=\"text-align: right;\">\n",
       "      <th></th>\n",
       "      <th>data_sources</th>\n",
       "      <th>subsets</th>\n",
       "    </tr>\n",
       "  </thead>\n",
       "  <tbody>\n",
       "    <tr>\n",
       "      <th>0</th>\n",
       "      <td>[file monitoring, process command-line paramet...</td>\n",
       "      <td>[file monitoring]</td>\n",
       "    </tr>\n",
       "    <tr>\n",
       "      <th>1</th>\n",
       "      <td>[file monitoring, process command-line paramet...</td>\n",
       "      <td>[process command-line parameters]</td>\n",
       "    </tr>\n",
       "    <tr>\n",
       "      <th>2</th>\n",
       "      <td>[file monitoring, process command-line paramet...</td>\n",
       "      <td>[process monitoring]</td>\n",
       "    </tr>\n",
       "    <tr>\n",
       "      <th>3</th>\n",
       "      <td>[file monitoring, process command-line paramet...</td>\n",
       "      <td>[windows event logs]</td>\n",
       "    </tr>\n",
       "    <tr>\n",
       "      <th>4</th>\n",
       "      <td>[file monitoring, process command-line paramet...</td>\n",
       "      <td>[file monitoring, process command-line paramet...</td>\n",
       "    </tr>\n",
       "  </tbody>\n",
       "</table>\n",
       "</div>"
      ],
      "text/plain": [
       "                                        data_sources  \\\n",
       "0  [file monitoring, process command-line paramet...   \n",
       "1  [file monitoring, process command-line paramet...   \n",
       "2  [file monitoring, process command-line paramet...   \n",
       "3  [file monitoring, process command-line paramet...   \n",
       "4  [file monitoring, process command-line paramet...   \n",
       "\n",
       "                                             subsets  \n",
       "0                                  [file monitoring]  \n",
       "1                  [process command-line parameters]  \n",
       "2                               [process monitoring]  \n",
       "3                               [windows event logs]  \n",
       "4  [file monitoring, process command-line paramet...  "
      ]
     },
     "execution_count": 40,
     "metadata": {},
     "output_type": "execute_result"
    }
   ],
   "source": [
    "techniques_with_data_sources_subsets.head()"
   ]
  },
  {
   "cell_type": "markdown",
   "metadata": {},
   "source": [
    "Let's add three columns to analyse the dataframe: subsets_name (Changing Lists to Strings), subsets_number_elements ( Number of data sources per subset) and number_data_sources_per_technique"
   ]
  },
  {
   "cell_type": "code",
   "execution_count": 41,
   "metadata": {},
   "outputs": [],
   "source": [
    "techniques_with_data_sources_subsets['subsets_name']=techniques_with_data_sources_subsets['subsets'].apply(lambda x: ','.join(map(str, x)))\n",
    "techniques_with_data_sources_subsets['subsets_number_elements']=techniques_with_data_sources_subsets['subsets'].str.len()\n",
    "techniques_with_data_sources_subsets['number_data_sources_per_technique']=techniques_with_data_sources_subsets['data_sources'].str.len()"
   ]
  },
  {
   "cell_type": "code",
   "execution_count": 42,
   "metadata": {},
   "outputs": [
    {
     "data": {
      "text/html": [
       "<div>\n",
       "<style scoped>\n",
       "    .dataframe tbody tr th:only-of-type {\n",
       "        vertical-align: middle;\n",
       "    }\n",
       "\n",
       "    .dataframe tbody tr th {\n",
       "        vertical-align: top;\n",
       "    }\n",
       "\n",
       "    .dataframe thead th {\n",
       "        text-align: right;\n",
       "    }\n",
       "</style>\n",
       "<table border=\"1\" class=\"dataframe\">\n",
       "  <thead>\n",
       "    <tr style=\"text-align: right;\">\n",
       "      <th></th>\n",
       "      <th>data_sources</th>\n",
       "      <th>subsets</th>\n",
       "      <th>subsets_name</th>\n",
       "      <th>subsets_number_elements</th>\n",
       "      <th>number_data_sources_per_technique</th>\n",
       "    </tr>\n",
       "  </thead>\n",
       "  <tbody>\n",
       "    <tr>\n",
       "      <th>0</th>\n",
       "      <td>[file monitoring, process command-line paramet...</td>\n",
       "      <td>[file monitoring]</td>\n",
       "      <td>file monitoring</td>\n",
       "      <td>1</td>\n",
       "      <td>4</td>\n",
       "    </tr>\n",
       "    <tr>\n",
       "      <th>1</th>\n",
       "      <td>[file monitoring, process command-line paramet...</td>\n",
       "      <td>[process command-line parameters]</td>\n",
       "      <td>process command-line parameters</td>\n",
       "      <td>1</td>\n",
       "      <td>4</td>\n",
       "    </tr>\n",
       "    <tr>\n",
       "      <th>2</th>\n",
       "      <td>[file monitoring, process command-line paramet...</td>\n",
       "      <td>[process monitoring]</td>\n",
       "      <td>process monitoring</td>\n",
       "      <td>1</td>\n",
       "      <td>4</td>\n",
       "    </tr>\n",
       "    <tr>\n",
       "      <th>3</th>\n",
       "      <td>[file monitoring, process command-line paramet...</td>\n",
       "      <td>[windows event logs]</td>\n",
       "      <td>windows event logs</td>\n",
       "      <td>1</td>\n",
       "      <td>4</td>\n",
       "    </tr>\n",
       "    <tr>\n",
       "      <th>4</th>\n",
       "      <td>[file monitoring, process command-line paramet...</td>\n",
       "      <td>[file monitoring, process command-line paramet...</td>\n",
       "      <td>file monitoring,process command-line parameters</td>\n",
       "      <td>2</td>\n",
       "      <td>4</td>\n",
       "    </tr>\n",
       "  </tbody>\n",
       "</table>\n",
       "</div>"
      ],
      "text/plain": [
       "                                        data_sources  \\\n",
       "0  [file monitoring, process command-line paramet...   \n",
       "1  [file monitoring, process command-line paramet...   \n",
       "2  [file monitoring, process command-line paramet...   \n",
       "3  [file monitoring, process command-line paramet...   \n",
       "4  [file monitoring, process command-line paramet...   \n",
       "\n",
       "                                             subsets  \\\n",
       "0                                  [file monitoring]   \n",
       "1                  [process command-line parameters]   \n",
       "2                               [process monitoring]   \n",
       "3                               [windows event logs]   \n",
       "4  [file monitoring, process command-line paramet...   \n",
       "\n",
       "                                      subsets_name  subsets_number_elements  \\\n",
       "0                                  file monitoring                        1   \n",
       "1                  process command-line parameters                        1   \n",
       "2                               process monitoring                        1   \n",
       "3                               windows event logs                        1   \n",
       "4  file monitoring,process command-line parameters                        2   \n",
       "\n",
       "   number_data_sources_per_technique  \n",
       "0                                  4  \n",
       "1                                  4  \n",
       "2                                  4  \n",
       "3                                  4  \n",
       "4                                  4  "
      ]
     },
     "execution_count": 42,
     "metadata": {},
     "output_type": "execute_result"
    }
   ],
   "source": [
    "techniques_with_data_sources_subsets.head()"
   ]
  },
  {
   "cell_type": "markdown",
   "metadata": {},
   "source": [
    "As it was described above, we need to find grups pf data sources, so we are going to filter out all the subsets with only one data source:"
   ]
  },
  {
   "cell_type": "code",
   "execution_count": 43,
   "metadata": {},
   "outputs": [],
   "source": [
    "subsets = techniques_with_data_sources_subsets\n",
    "\n",
    "subsets_ok=subsets[subsets.subsets_number_elements != 1]"
   ]
  },
  {
   "cell_type": "code",
   "execution_count": 44,
   "metadata": {},
   "outputs": [
    {
     "data": {
      "text/html": [
       "<div>\n",
       "<style scoped>\n",
       "    .dataframe tbody tr th:only-of-type {\n",
       "        vertical-align: middle;\n",
       "    }\n",
       "\n",
       "    .dataframe tbody tr th {\n",
       "        vertical-align: top;\n",
       "    }\n",
       "\n",
       "    .dataframe thead th {\n",
       "        text-align: right;\n",
       "    }\n",
       "</style>\n",
       "<table border=\"1\" class=\"dataframe\">\n",
       "  <thead>\n",
       "    <tr style=\"text-align: right;\">\n",
       "      <th></th>\n",
       "      <th>data_sources</th>\n",
       "      <th>subsets</th>\n",
       "      <th>subsets_name</th>\n",
       "      <th>subsets_number_elements</th>\n",
       "      <th>number_data_sources_per_technique</th>\n",
       "    </tr>\n",
       "  </thead>\n",
       "  <tbody>\n",
       "    <tr>\n",
       "      <th>4</th>\n",
       "      <td>[file monitoring, process command-line paramet...</td>\n",
       "      <td>[file monitoring, process command-line paramet...</td>\n",
       "      <td>file monitoring,process command-line parameters</td>\n",
       "      <td>2</td>\n",
       "      <td>4</td>\n",
       "    </tr>\n",
       "    <tr>\n",
       "      <th>5</th>\n",
       "      <td>[file monitoring, process command-line paramet...</td>\n",
       "      <td>[file monitoring, process monitoring]</td>\n",
       "      <td>file monitoring,process monitoring</td>\n",
       "      <td>2</td>\n",
       "      <td>4</td>\n",
       "    </tr>\n",
       "    <tr>\n",
       "      <th>6</th>\n",
       "      <td>[file monitoring, process command-line paramet...</td>\n",
       "      <td>[file monitoring, windows event logs]</td>\n",
       "      <td>file monitoring,windows event logs</td>\n",
       "      <td>2</td>\n",
       "      <td>4</td>\n",
       "    </tr>\n",
       "    <tr>\n",
       "      <th>7</th>\n",
       "      <td>[file monitoring, process command-line paramet...</td>\n",
       "      <td>[process command-line parameters, process moni...</td>\n",
       "      <td>process command-line parameters,process monito...</td>\n",
       "      <td>2</td>\n",
       "      <td>4</td>\n",
       "    </tr>\n",
       "    <tr>\n",
       "      <th>8</th>\n",
       "      <td>[file monitoring, process command-line paramet...</td>\n",
       "      <td>[process command-line parameters, windows even...</td>\n",
       "      <td>process command-line parameters,windows event ...</td>\n",
       "      <td>2</td>\n",
       "      <td>4</td>\n",
       "    </tr>\n",
       "  </tbody>\n",
       "</table>\n",
       "</div>"
      ],
      "text/plain": [
       "                                        data_sources  \\\n",
       "4  [file monitoring, process command-line paramet...   \n",
       "5  [file monitoring, process command-line paramet...   \n",
       "6  [file monitoring, process command-line paramet...   \n",
       "7  [file monitoring, process command-line paramet...   \n",
       "8  [file monitoring, process command-line paramet...   \n",
       "\n",
       "                                             subsets  \\\n",
       "4  [file monitoring, process command-line paramet...   \n",
       "5              [file monitoring, process monitoring]   \n",
       "6              [file monitoring, windows event logs]   \n",
       "7  [process command-line parameters, process moni...   \n",
       "8  [process command-line parameters, windows even...   \n",
       "\n",
       "                                        subsets_name  subsets_number_elements  \\\n",
       "4    file monitoring,process command-line parameters                        2   \n",
       "5                 file monitoring,process monitoring                        2   \n",
       "6                 file monitoring,windows event logs                        2   \n",
       "7  process command-line parameters,process monito...                        2   \n",
       "8  process command-line parameters,windows event ...                        2   \n",
       "\n",
       "   number_data_sources_per_technique  \n",
       "4                                  4  \n",
       "5                                  4  \n",
       "6                                  4  \n",
       "7                                  4  \n",
       "8                                  4  "
      ]
     },
     "execution_count": 44,
     "metadata": {},
     "output_type": "execute_result"
    }
   ],
   "source": [
    "subsets_ok.head()"
   ]
  },
  {
   "cell_type": "markdown",
   "metadata": {},
   "source": [
    "Finally, we calculate the most relevant groups of data sources (Top 15):"
   ]
  },
  {
   "cell_type": "code",
   "execution_count": 45,
   "metadata": {},
   "outputs": [],
   "source": [
    "subsets_graph = subsets_ok.groupby(['subsets_name'])['subsets_name'].count().to_frame(name='subsets_count').sort_values(by='subsets_count',ascending=False)[0:15]"
   ]
  },
  {
   "cell_type": "code",
   "execution_count": 46,
   "metadata": {},
   "outputs": [
    {
     "data": {
      "text/html": [
       "<div>\n",
       "<style scoped>\n",
       "    .dataframe tbody tr th:only-of-type {\n",
       "        vertical-align: middle;\n",
       "    }\n",
       "\n",
       "    .dataframe tbody tr th {\n",
       "        vertical-align: top;\n",
       "    }\n",
       "\n",
       "    .dataframe thead th {\n",
       "        text-align: right;\n",
       "    }\n",
       "</style>\n",
       "<table border=\"1\" class=\"dataframe\">\n",
       "  <thead>\n",
       "    <tr style=\"text-align: right;\">\n",
       "      <th></th>\n",
       "      <th>subsets_count</th>\n",
       "    </tr>\n",
       "    <tr>\n",
       "      <th>subsets_name</th>\n",
       "      <th></th>\n",
       "    </tr>\n",
       "  </thead>\n",
       "  <tbody>\n",
       "    <tr>\n",
       "      <th>process command-line parameters,process monitoring</th>\n",
       "      <td>78</td>\n",
       "    </tr>\n",
       "    <tr>\n",
       "      <th>file monitoring,process monitoring</th>\n",
       "      <td>68</td>\n",
       "    </tr>\n",
       "    <tr>\n",
       "      <th>file monitoring,process command-line parameters</th>\n",
       "      <td>44</td>\n",
       "    </tr>\n",
       "    <tr>\n",
       "      <th>file monitoring,process command-line parameters,process monitoring</th>\n",
       "      <td>37</td>\n",
       "    </tr>\n",
       "    <tr>\n",
       "      <th>process monitoring,process use of network</th>\n",
       "      <td>32</td>\n",
       "    </tr>\n",
       "    <tr>\n",
       "      <th>api monitoring,process monitoring</th>\n",
       "      <td>30</td>\n",
       "    </tr>\n",
       "    <tr>\n",
       "      <th>process monitoring,windows registry</th>\n",
       "      <td>27</td>\n",
       "    </tr>\n",
       "    <tr>\n",
       "      <th>packet capture,process use of network</th>\n",
       "      <td>20</td>\n",
       "    </tr>\n",
       "    <tr>\n",
       "      <th>packet capture,process monitoring</th>\n",
       "      <td>19</td>\n",
       "    </tr>\n",
       "    <tr>\n",
       "      <th>netflow/enclave netflow,process monitoring</th>\n",
       "      <td>18</td>\n",
       "    </tr>\n",
       "    <tr>\n",
       "      <th>packet capture,process monitoring,process use of network</th>\n",
       "      <td>16</td>\n",
       "    </tr>\n",
       "    <tr>\n",
       "      <th>netflow/enclave netflow,packet capture</th>\n",
       "      <td>16</td>\n",
       "    </tr>\n",
       "    <tr>\n",
       "      <th>netflow/enclave netflow,process use of network</th>\n",
       "      <td>16</td>\n",
       "    </tr>\n",
       "    <tr>\n",
       "      <th>process monitoring,windows event logs</th>\n",
       "      <td>15</td>\n",
       "    </tr>\n",
       "    <tr>\n",
       "      <th>network protocol analysis,process use of network</th>\n",
       "      <td>15</td>\n",
       "    </tr>\n",
       "  </tbody>\n",
       "</table>\n",
       "</div>"
      ],
      "text/plain": [
       "                                                    subsets_count\n",
       "subsets_name                                                     \n",
       "process command-line parameters,process monitoring             78\n",
       "file monitoring,process monitoring                             68\n",
       "file monitoring,process command-line parameters                44\n",
       "file monitoring,process command-line parameters...             37\n",
       "process monitoring,process use of network                      32\n",
       "api monitoring,process monitoring                              30\n",
       "process monitoring,windows registry                            27\n",
       "packet capture,process use of network                          20\n",
       "packet capture,process monitoring                              19\n",
       "netflow/enclave netflow,process monitoring                     18\n",
       "packet capture,process monitoring,process use o...             16\n",
       "netflow/enclave netflow,packet capture                         16\n",
       "netflow/enclave netflow,process use of network                 16\n",
       "process monitoring,windows event logs                          15\n",
       "network protocol analysis,process use of network               15"
      ]
     },
     "execution_count": 46,
     "metadata": {},
     "output_type": "execute_result"
    }
   ],
   "source": [
    "subsets_graph"
   ]
  },
  {
   "cell_type": "code",
   "execution_count": 47,
   "metadata": {},
   "outputs": [
    {
     "data": {
      "application/vnd.vegalite.v2+json": {
       "$schema": "https://vega.github.io/schema/vega-lite/v2.6.0.json",
       "config": {
        "view": {
         "height": 300,
         "width": 400
        }
       },
       "datasets": {
        "data-5ea4939820c40db23401bf971e96607d": [
         {
          "Count of Techniques": 78,
          "Data Sources": "process command-line parameters,process monitoring"
         },
         {
          "Count of Techniques": 68,
          "Data Sources": "file monitoring,process monitoring"
         },
         {
          "Count of Techniques": 44,
          "Data Sources": "file monitoring,process command-line parameters"
         },
         {
          "Count of Techniques": 37,
          "Data Sources": "file monitoring,process command-line parameters,process monitoring"
         },
         {
          "Count of Techniques": 32,
          "Data Sources": "process monitoring,process use of network"
         },
         {
          "Count of Techniques": 30,
          "Data Sources": "api monitoring,process monitoring"
         },
         {
          "Count of Techniques": 27,
          "Data Sources": "process monitoring,windows registry"
         },
         {
          "Count of Techniques": 20,
          "Data Sources": "packet capture,process use of network"
         },
         {
          "Count of Techniques": 19,
          "Data Sources": "packet capture,process monitoring"
         },
         {
          "Count of Techniques": 18,
          "Data Sources": "netflow/enclave netflow,process monitoring"
         },
         {
          "Count of Techniques": 16,
          "Data Sources": "packet capture,process monitoring,process use of network"
         },
         {
          "Count of Techniques": 16,
          "Data Sources": "netflow/enclave netflow,packet capture"
         },
         {
          "Count of Techniques": 16,
          "Data Sources": "netflow/enclave netflow,process use of network"
         },
         {
          "Count of Techniques": 15,
          "Data Sources": "process monitoring,windows event logs"
         },
         {
          "Count of Techniques": 15,
          "Data Sources": "network protocol analysis,process use of network"
         }
        ]
       },
       "layer": [
        {
         "data": {
          "name": "data-5ea4939820c40db23401bf971e96607d"
         },
         "encoding": {
          "color": {
           "field": "Data Sources",
           "type": "nominal"
          },
          "x": {
           "field": "Data Sources",
           "type": "nominal"
          },
          "y": {
           "field": "Count of Techniques",
           "type": "quantitative"
          }
         },
         "mark": "bar",
         "width": 500
        },
        {
         "data": {
          "name": "data-5ea4939820c40db23401bf971e96607d"
         },
         "encoding": {
          "color": {
           "field": "Data Sources",
           "type": "nominal"
          },
          "text": {
           "field": "Count of Techniques",
           "type": "quantitative"
          },
          "x": {
           "field": "Data Sources",
           "type": "nominal"
          },
          "y": {
           "field": "Count of Techniques",
           "type": "quantitative"
          }
         },
         "mark": {
          "align": "center",
          "baseline": "middle",
          "dx": 0,
          "dy": -5,
          "type": "text"
         },
         "width": 500
        }
       ]
      },
      "image/png": "[encoded data removed]",
      "text/plain": [
       "<VegaLite 2 object>\n",
       "\n",
       "If you see this message, it means the renderer has not been properly enabled\n",
       "for the frontend that you are using. For more information, see\n",
       "https://altair-viz.github.io/user_guide/troubleshooting.html\n"
      ]
     },
     "execution_count": 47,
     "metadata": {},
     "output_type": "execute_result"
    }
   ],
   "source": [
    "subsets_graph_2 = pandas.DataFrame({\n",
    "    'Data Sources': list(subsets_graph.index),\n",
    "    'Count of Techniques': subsets_graph['subsets_count'].tolist()})\n",
    "\n",
    "bars = alt.Chart(subsets_graph_2).mark_bar().encode(x ='Data Sources', y ='Count of Techniques', color='Data Sources').properties(width=500)\n",
    "text = bars.mark_text(align='center',baseline='middle',dx= 0,dy=-5).encode(text='Count of Techniques')\n",
    "bars + text"
   ]
  },
  {
   "cell_type": "markdown",
   "metadata": {},
   "source": [
    "Group (Process Monitoring - Process Command-line parameters) is the is the group of data sources with the highest number of techniques. This group of data sources are suggested to hunt 78 techniques"
   ]
  },
  {
   "cell_type": "markdown",
   "metadata": {},
   "source": [
    "## 14. Let's Split all the Information About Techniques With Data Sources Defined: Matrix, Platform, Tactic and Data Source"
   ]
  },
  {
   "cell_type": "markdown",
   "metadata": {},
   "source": [
    "Let's split all the relevant columns of the dataframe:"
   ]
  },
  {
   "cell_type": "code",
   "execution_count": 48,
   "metadata": {},
   "outputs": [
    {
     "data": {
      "text/html": [
       "<div>\n",
       "<style scoped>\n",
       "    .dataframe tbody tr th:only-of-type {\n",
       "        vertical-align: middle;\n",
       "    }\n",
       "\n",
       "    .dataframe tbody tr th {\n",
       "        vertical-align: top;\n",
       "    }\n",
       "\n",
       "    .dataframe thead th {\n",
       "        text-align: right;\n",
       "    }\n",
       "</style>\n",
       "<table border=\"1\" class=\"dataframe\">\n",
       "  <thead>\n",
       "    <tr style=\"text-align: right;\">\n",
       "      <th></th>\n",
       "      <th>matrix</th>\n",
       "      <th>platform</th>\n",
       "      <th>tactic</th>\n",
       "      <th>technique</th>\n",
       "      <th>technique_id</th>\n",
       "      <th>data_sources</th>\n",
       "    </tr>\n",
       "  </thead>\n",
       "  <tbody>\n",
       "    <tr>\n",
       "      <th>0</th>\n",
       "      <td>mitre-attack</td>\n",
       "      <td>Linux</td>\n",
       "      <td>defense-evasion</td>\n",
       "      <td>File Permissions Modification</td>\n",
       "      <td>T1222</td>\n",
       "      <td>File monitoring</td>\n",
       "    </tr>\n",
       "    <tr>\n",
       "      <th>1</th>\n",
       "      <td>mitre-attack</td>\n",
       "      <td>Linux</td>\n",
       "      <td>defense-evasion</td>\n",
       "      <td>File Permissions Modification</td>\n",
       "      <td>T1222</td>\n",
       "      <td>Process Monitoring</td>\n",
       "    </tr>\n",
       "    <tr>\n",
       "      <th>2</th>\n",
       "      <td>mitre-attack</td>\n",
       "      <td>Linux</td>\n",
       "      <td>defense-evasion</td>\n",
       "      <td>File Permissions Modification</td>\n",
       "      <td>T1222</td>\n",
       "      <td>Process command-line parameters</td>\n",
       "    </tr>\n",
       "    <tr>\n",
       "      <th>3</th>\n",
       "      <td>mitre-attack</td>\n",
       "      <td>Linux</td>\n",
       "      <td>defense-evasion</td>\n",
       "      <td>File Permissions Modification</td>\n",
       "      <td>T1222</td>\n",
       "      <td>Windows event logs</td>\n",
       "    </tr>\n",
       "    <tr>\n",
       "      <th>4</th>\n",
       "      <td>mitre-attack</td>\n",
       "      <td>Windows</td>\n",
       "      <td>defense-evasion</td>\n",
       "      <td>File Permissions Modification</td>\n",
       "      <td>T1222</td>\n",
       "      <td>File monitoring</td>\n",
       "    </tr>\n",
       "  </tbody>\n",
       "</table>\n",
       "</div>"
      ],
      "text/plain": [
       "         matrix platform           tactic                      technique  \\\n",
       "0  mitre-attack    Linux  defense-evasion  File Permissions Modification   \n",
       "1  mitre-attack    Linux  defense-evasion  File Permissions Modification   \n",
       "2  mitre-attack    Linux  defense-evasion  File Permissions Modification   \n",
       "3  mitre-attack    Linux  defense-evasion  File Permissions Modification   \n",
       "4  mitre-attack  Windows  defense-evasion  File Permissions Modification   \n",
       "\n",
       "  technique_id                     data_sources  \n",
       "0        T1222                  File monitoring  \n",
       "1        T1222               Process Monitoring  \n",
       "2        T1222  Process command-line parameters  \n",
       "3        T1222               Windows event logs  \n",
       "4        T1222                  File monitoring  "
      ]
     },
     "execution_count": 48,
     "metadata": {},
     "output_type": "execute_result"
    }
   ],
   "source": [
    "techniques_data = techniques_with_data_sources\n",
    "\n",
    "attributes = ['platform','tactic','data_sources'] # In attributes we are going to indicate the name of the columns that we need to split\n",
    "\n",
    "for a in attributes:\n",
    "    s = techniques_data.apply(lambda x: pandas.Series(x[a]),axis=1).stack().reset_index(level=1, drop=True)\n",
    "    # \"s\" is going to be a column of a frame with every value of the list inside each cell of the column \"a\"\n",
    "    s.name = a\n",
    "    # We name \"s\" with the same name of \"a\".\n",
    "    techniques_data=techniques_data.drop(a, axis=1).join(s).reset_index(drop=True)\n",
    "    # We drop the column \"a\" from \"techniques_data\", and then join \"techniques_data\" with \"s\"\n",
    "\n",
    "# Let's re-arrange the columns from general to specific\n",
    "techniques_data_2=techniques_data.reindex(['matrix','platform','tactic','technique','technique_id','data_sources'], axis=1)\n",
    "\n",
    "# We are going to edit some names inside the dataframe to improve the consistency:\n",
    "techniques_data_3 = techniques_data_2.replace(['Process monitoring','Application logs'],['Process Monitoring','Application Logs'])\n",
    "\n",
    "techniques_data_3.head()"
   ]
  },
  {
   "cell_type": "markdown",
   "metadata": {},
   "source": [
    "Do you remember data sources names with a reference to Windows? After splitting the dataframe by platforms, tactics and data sources, are there any macOC or linux techniques that consider windows data sources? Let's identify those rows:"
   ]
  },
  {
   "cell_type": "code",
   "execution_count": 49,
   "metadata": {},
   "outputs": [],
   "source": [
    "# After splitting the rows of the dataframe, there are some values that relate windows data sources with platforms like linux and masOS.\n",
    "# We need to identify those rows\n",
    "conditions = [(techniques_data_3['platform']=='Linux')&(techniques_data_3['data_sources'].str.contains('windows',case=False)== True),\n",
    "             (techniques_data_3['platform']=='macOS')&(techniques_data_3['data_sources'].str.contains('windows',case=False)== True),\n",
    "             (techniques_data_3['platform']=='Linux')&(techniques_data_3['data_sources'].str.contains('powershell',case=False)== True),\n",
    "             (techniques_data_3['platform']=='macOS')&(techniques_data_3['data_sources'].str.contains('powershell',case=False)== True),\n",
    "             (techniques_data_3['platform']=='Linux')&(techniques_data_3['data_sources'].str.contains('wmi',case=False)== True),\n",
    "             (techniques_data_3['platform']=='macOS')&(techniques_data_3['data_sources'].str.contains('wmi',case=False)== True)]\n",
    "# In conditions we indicate a logical test\n",
    "\n",
    "choices = ['NO OK','NO OK','NO OK','NO OK','NO OK','NO OK']\n",
    "# In choices, we indicate the result when the logical test is true\n",
    "\n",
    "techniques_data_3['Validation'] = np.select(conditions,choices,default='OK')\n",
    "# We add a column \"Validation\" to \"techniques_data_3\" with the result of the logical test. The default value is going to be \"OK\""
   ]
  },
  {
   "cell_type": "markdown",
   "metadata": {},
   "source": [
    "What is the inconsistent data?"
   ]
  },
  {
   "cell_type": "code",
   "execution_count": 50,
   "metadata": {},
   "outputs": [
    {
     "data": {
      "text/html": [
       "<div>\n",
       "<style scoped>\n",
       "    .dataframe tbody tr th:only-of-type {\n",
       "        vertical-align: middle;\n",
       "    }\n",
       "\n",
       "    .dataframe tbody tr th {\n",
       "        vertical-align: top;\n",
       "    }\n",
       "\n",
       "    .dataframe thead th {\n",
       "        text-align: right;\n",
       "    }\n",
       "</style>\n",
       "<table border=\"1\" class=\"dataframe\">\n",
       "  <thead>\n",
       "    <tr style=\"text-align: right;\">\n",
       "      <th></th>\n",
       "      <th>matrix</th>\n",
       "      <th>platform</th>\n",
       "      <th>tactic</th>\n",
       "      <th>technique</th>\n",
       "      <th>technique_id</th>\n",
       "      <th>data_sources</th>\n",
       "      <th>Validation</th>\n",
       "    </tr>\n",
       "  </thead>\n",
       "  <tbody>\n",
       "    <tr>\n",
       "      <th>3</th>\n",
       "      <td>mitre-attack</td>\n",
       "      <td>Linux</td>\n",
       "      <td>defense-evasion</td>\n",
       "      <td>File Permissions Modification</td>\n",
       "      <td>T1222</td>\n",
       "      <td>Windows event logs</td>\n",
       "      <td>NO OK</td>\n",
       "    </tr>\n",
       "    <tr>\n",
       "      <th>11</th>\n",
       "      <td>mitre-attack</td>\n",
       "      <td>macOS</td>\n",
       "      <td>defense-evasion</td>\n",
       "      <td>File Permissions Modification</td>\n",
       "      <td>T1222</td>\n",
       "      <td>Windows event logs</td>\n",
       "      <td>NO OK</td>\n",
       "    </tr>\n",
       "    <tr>\n",
       "      <th>95</th>\n",
       "      <td>mitre-attack</td>\n",
       "      <td>Linux</td>\n",
       "      <td>defense-evasion</td>\n",
       "      <td>Exploitation for Defense Evasion</td>\n",
       "      <td>T1211</td>\n",
       "      <td>Windows Error Reporting</td>\n",
       "      <td>NO OK</td>\n",
       "    </tr>\n",
       "    <tr>\n",
       "      <th>101</th>\n",
       "      <td>mitre-attack</td>\n",
       "      <td>macOS</td>\n",
       "      <td>defense-evasion</td>\n",
       "      <td>Exploitation for Defense Evasion</td>\n",
       "      <td>T1211</td>\n",
       "      <td>Windows Error Reporting</td>\n",
       "      <td>NO OK</td>\n",
       "    </tr>\n",
       "    <tr>\n",
       "      <th>131</th>\n",
       "      <td>mitre-attack</td>\n",
       "      <td>Linux</td>\n",
       "      <td>lateral-movement</td>\n",
       "      <td>Exploitation of Remote Services</td>\n",
       "      <td>T1210</td>\n",
       "      <td>Windows Error Reporting</td>\n",
       "      <td>NO OK</td>\n",
       "    </tr>\n",
       "  </tbody>\n",
       "</table>\n",
       "</div>"
      ],
      "text/plain": [
       "           matrix platform            tactic  \\\n",
       "3    mitre-attack    Linux   defense-evasion   \n",
       "11   mitre-attack    macOS   defense-evasion   \n",
       "95   mitre-attack    Linux   defense-evasion   \n",
       "101  mitre-attack    macOS   defense-evasion   \n",
       "131  mitre-attack    Linux  lateral-movement   \n",
       "\n",
       "                            technique technique_id             data_sources  \\\n",
       "3       File Permissions Modification        T1222       Windows event logs   \n",
       "11      File Permissions Modification        T1222       Windows event logs   \n",
       "95   Exploitation for Defense Evasion        T1211  Windows Error Reporting   \n",
       "101  Exploitation for Defense Evasion        T1211  Windows Error Reporting   \n",
       "131   Exploitation of Remote Services        T1210  Windows Error Reporting   \n",
       "\n",
       "    Validation  \n",
       "3        NO OK  \n",
       "11       NO OK  \n",
       "95       NO OK  \n",
       "101      NO OK  \n",
       "131      NO OK  "
      ]
     },
     "execution_count": 50,
     "metadata": {},
     "output_type": "execute_result"
    }
   ],
   "source": [
    "techniques_analysis_data_no_ok = techniques_data_3[techniques_data_3.Validation == 'NO OK']\n",
    "# Finally, we are filtering all the values with NO OK\n",
    "\n",
    "techniques_analysis_data_no_ok.head()"
   ]
  },
  {
   "cell_type": "code",
   "execution_count": 51,
   "metadata": {},
   "outputs": [
    {
     "name": "stdout",
     "output_type": "stream",
     "text": [
      "There are  32  rows with inconsistent data\n"
     ]
    }
   ],
   "source": [
    "print('There are ',len(techniques_analysis_data_no_ok),' rows with inconsistent data')"
   ]
  },
  {
   "cell_type": "markdown",
   "metadata": {},
   "source": [
    "What is the impact of this inconsistent data from a platform and data sources perspective?"
   ]
  },
  {
   "cell_type": "code",
   "execution_count": 52,
   "metadata": {},
   "outputs": [],
   "source": [
    "df = techniques_with_data_sources\n",
    "\n",
    "attributes = ['platform','data_sources']\n",
    "\n",
    "for a in attributes:\n",
    "    s = df.apply(lambda x: pandas.Series(x[a]),axis=1).stack().reset_index(level=1, drop=True)\n",
    "    s.name = a\n",
    "    df=df.drop(a, axis=1).join(s).reset_index(drop=True)\n",
    "    \n",
    "df_2=df.reindex(['matrix','platform','tactic','technique','technique_id','data_sources'], axis=1)\n",
    "df_3 = df_2.replace(['Process monitoring','Application logs'],['Process Monitoring','Application Logs'])\n",
    "\n",
    "conditions = [(df_3['data_sources'].str.contains('windows',case=False)== True),\n",
    "              (df_3['data_sources'].str.contains('powershell',case=False)== True),\n",
    "              (df_3['data_sources'].str.contains('wmi',case=False)== True)]\n",
    "\n",
    "choices = ['Windows','Windows','Windows']\n",
    "\n",
    "df_3['Validation'] = np.select(conditions,choices,default='Other')\n",
    "df_3['Num_Tech'] = 1\n",
    "df_4 = df_3[df_3.Validation == 'Windows']\n",
    "df_5 = df_4.groupby(['data_sources','platform'])['technique'].nunique()\n",
    "df_6 = df_5.to_frame().reset_index()"
   ]
  },
  {
   "cell_type": "code",
   "execution_count": 53,
   "metadata": {},
   "outputs": [
    {
     "data": {
      "application/vnd.vegalite.v2+json": {
       "$schema": "https://vega.github.io/schema/vega-lite/v2.6.0.json",
       "config": {
        "view": {
         "height": 300,
         "width": 400
        }
       },
       "data": {
        "name": "data-73cd253a6f2d44bcf44557fc86553adc"
       },
       "datasets": {
        "data-73cd253a6f2d44bcf44557fc86553adc": [
         {
          "data_sources": "PowerShell logs",
          "platform": "Linux",
          "technique": 1
         },
         {
          "data_sources": "PowerShell logs",
          "platform": "Windows",
          "technique": 1
         },
         {
          "data_sources": "PowerShell logs",
          "platform": "macOS",
          "technique": 1
         },
         {
          "data_sources": "WMI Objects",
          "platform": "Windows",
          "technique": 1
         },
         {
          "data_sources": "Windows Error Reporting",
          "platform": "Linux",
          "technique": 4
         },
         {
          "data_sources": "Windows Error Reporting",
          "platform": "Windows",
          "technique": 4
         },
         {
          "data_sources": "Windows Error Reporting",
          "platform": "macOS",
          "technique": 4
         },
         {
          "data_sources": "Windows Registry",
          "platform": "Linux",
          "technique": 4
         },
         {
          "data_sources": "Windows Registry",
          "platform": "Windows",
          "technique": 34
         },
         {
          "data_sources": "Windows Registry",
          "platform": "macOS",
          "technique": 4
         },
         {
          "data_sources": "Windows event logs",
          "platform": "Linux",
          "technique": 4
         },
         {
          "data_sources": "Windows event logs",
          "platform": "Windows",
          "technique": 19
         },
         {
          "data_sources": "Windows event logs",
          "platform": "macOS",
          "technique": 4
         }
        ]
       },
       "encoding": {
        "color": {
         "field": "platform",
         "type": "nominal"
        },
        "x": {
         "field": "technique",
         "stack": "normalize",
         "type": "quantitative"
        },
        "y": {
         "field": "data_sources",
         "type": "nominal"
        }
       },
       "height": 200,
       "mark": "bar"
      },
      "image/png": "[encoded data removed]",
      "text/plain": [
       "<VegaLite 2 object>\n",
       "\n",
       "If you see this message, it means the renderer has not been properly enabled\n",
       "for the frontend that you are using. For more information, see\n",
       "https://altair-viz.github.io/user_guide/troubleshooting.html\n"
      ]
     },
     "execution_count": 53,
     "metadata": {},
     "output_type": "execute_result"
    }
   ],
   "source": [
    "alt.Chart(df_6).mark_bar().encode(x=alt.X('technique', stack=\"normalize\"),    y='data_sources',    color='platform').properties(height=200)"
   ]
  },
  {
   "cell_type": "markdown",
   "metadata": {},
   "source": [
    "There are techniques that consider Windows Error Reporting, Windows Registry, and Windows event logs as data sources and they also consider platforms like Linux and masOS. We do not need to consider this rows because those data sources can only be managed at a Windows environment. These are the techniques that we should not consider in our data base:"
   ]
  },
  {
   "cell_type": "code",
   "execution_count": 54,
   "metadata": {},
   "outputs": [
    {
     "data": {
      "text/html": [
       "<div>\n",
       "<style scoped>\n",
       "    .dataframe tbody tr th:only-of-type {\n",
       "        vertical-align: middle;\n",
       "    }\n",
       "\n",
       "    .dataframe tbody tr th {\n",
       "        vertical-align: top;\n",
       "    }\n",
       "\n",
       "    .dataframe thead th {\n",
       "        text-align: right;\n",
       "    }\n",
       "</style>\n",
       "<table border=\"1\" class=\"dataframe\">\n",
       "  <thead>\n",
       "    <tr style=\"text-align: right;\">\n",
       "      <th></th>\n",
       "      <th>technique</th>\n",
       "      <th>data_sources</th>\n",
       "    </tr>\n",
       "  </thead>\n",
       "  <tbody>\n",
       "    <tr>\n",
       "      <th>1792</th>\n",
       "      <td>Credential Dumping</td>\n",
       "      <td>PowerShell logs</td>\n",
       "    </tr>\n",
       "    <tr>\n",
       "      <th>95</th>\n",
       "      <td>Exploitation for Defense Evasion</td>\n",
       "      <td>Windows Error Reporting</td>\n",
       "    </tr>\n",
       "    <tr>\n",
       "      <th>131</th>\n",
       "      <td>Exploitation of Remote Services</td>\n",
       "      <td>Windows Error Reporting</td>\n",
       "    </tr>\n",
       "    <tr>\n",
       "      <th>238</th>\n",
       "      <td>Exploitation for Credential Access</td>\n",
       "      <td>Windows Error Reporting</td>\n",
       "    </tr>\n",
       "    <tr>\n",
       "      <th>1186</th>\n",
       "      <td>Exploitation for Privilege Escalation</td>\n",
       "      <td>Windows Error Reporting</td>\n",
       "    </tr>\n",
       "    <tr>\n",
       "      <th>987</th>\n",
       "      <td>Disabling Security Tools</td>\n",
       "      <td>Windows Registry</td>\n",
       "    </tr>\n",
       "    <tr>\n",
       "      <th>1113</th>\n",
       "      <td>Third-party Software</td>\n",
       "      <td>Windows Registry</td>\n",
       "    </tr>\n",
       "    <tr>\n",
       "      <th>1282</th>\n",
       "      <td>Input Capture</td>\n",
       "      <td>Windows Registry</td>\n",
       "    </tr>\n",
       "    <tr>\n",
       "      <th>1307</th>\n",
       "      <td>Process Injection</td>\n",
       "      <td>Windows Registry</td>\n",
       "    </tr>\n",
       "    <tr>\n",
       "      <th>3</th>\n",
       "      <td>File Permissions Modification</td>\n",
       "      <td>Windows event logs</td>\n",
       "    </tr>\n",
       "    <tr>\n",
       "      <th>571</th>\n",
       "      <td>Create Account</td>\n",
       "      <td>Windows event logs</td>\n",
       "    </tr>\n",
       "    <tr>\n",
       "      <th>1166</th>\n",
       "      <td>Indicator Removal on Host</td>\n",
       "      <td>Windows event logs</td>\n",
       "    </tr>\n",
       "    <tr>\n",
       "      <th>1583</th>\n",
       "      <td>Obfuscated Files or Information</td>\n",
       "      <td>Windows event logs</td>\n",
       "    </tr>\n",
       "  </tbody>\n",
       "</table>\n",
       "</div>"
      ],
      "text/plain": [
       "                                  technique             data_sources\n",
       "1792                     Credential Dumping          PowerShell logs\n",
       "95         Exploitation for Defense Evasion  Windows Error Reporting\n",
       "131         Exploitation of Remote Services  Windows Error Reporting\n",
       "238      Exploitation for Credential Access  Windows Error Reporting\n",
       "1186  Exploitation for Privilege Escalation  Windows Error Reporting\n",
       "987                Disabling Security Tools         Windows Registry\n",
       "1113                   Third-party Software         Windows Registry\n",
       "1282                          Input Capture         Windows Registry\n",
       "1307                      Process Injection         Windows Registry\n",
       "3             File Permissions Modification       Windows event logs\n",
       "571                          Create Account       Windows event logs\n",
       "1166              Indicator Removal on Host       Windows event logs\n",
       "1583        Obfuscated Files or Information       Windows event logs"
      ]
     },
     "execution_count": 54,
     "metadata": {},
     "output_type": "execute_result"
    }
   ],
   "source": [
    "techniques_analysis_data_no_ok[['technique','data_sources']].drop_duplicates().sort_values(by='data_sources',ascending=True)"
   ]
  },
  {
   "cell_type": "markdown",
   "metadata": {},
   "source": [
    "Without considering this inconsistent data, the final dataframe is:"
   ]
  },
  {
   "cell_type": "code",
   "execution_count": 55,
   "metadata": {},
   "outputs": [
    {
     "data": {
      "text/html": [
       "<div>\n",
       "<style scoped>\n",
       "    .dataframe tbody tr th:only-of-type {\n",
       "        vertical-align: middle;\n",
       "    }\n",
       "\n",
       "    .dataframe tbody tr th {\n",
       "        vertical-align: top;\n",
       "    }\n",
       "\n",
       "    .dataframe thead th {\n",
       "        text-align: right;\n",
       "    }\n",
       "</style>\n",
       "<table border=\"1\" class=\"dataframe\">\n",
       "  <thead>\n",
       "    <tr style=\"text-align: right;\">\n",
       "      <th></th>\n",
       "      <th>matrix</th>\n",
       "      <th>platform</th>\n",
       "      <th>tactic</th>\n",
       "      <th>technique</th>\n",
       "      <th>technique_id</th>\n",
       "      <th>data_sources</th>\n",
       "      <th>Validation</th>\n",
       "    </tr>\n",
       "  </thead>\n",
       "  <tbody>\n",
       "    <tr>\n",
       "      <th>0</th>\n",
       "      <td>mitre-attack</td>\n",
       "      <td>Linux</td>\n",
       "      <td>defense-evasion</td>\n",
       "      <td>File Permissions Modification</td>\n",
       "      <td>T1222</td>\n",
       "      <td>File monitoring</td>\n",
       "      <td>OK</td>\n",
       "    </tr>\n",
       "    <tr>\n",
       "      <th>1</th>\n",
       "      <td>mitre-attack</td>\n",
       "      <td>Linux</td>\n",
       "      <td>defense-evasion</td>\n",
       "      <td>File Permissions Modification</td>\n",
       "      <td>T1222</td>\n",
       "      <td>Process Monitoring</td>\n",
       "      <td>OK</td>\n",
       "    </tr>\n",
       "    <tr>\n",
       "      <th>2</th>\n",
       "      <td>mitre-attack</td>\n",
       "      <td>Linux</td>\n",
       "      <td>defense-evasion</td>\n",
       "      <td>File Permissions Modification</td>\n",
       "      <td>T1222</td>\n",
       "      <td>Process command-line parameters</td>\n",
       "      <td>OK</td>\n",
       "    </tr>\n",
       "    <tr>\n",
       "      <th>4</th>\n",
       "      <td>mitre-attack</td>\n",
       "      <td>Windows</td>\n",
       "      <td>defense-evasion</td>\n",
       "      <td>File Permissions Modification</td>\n",
       "      <td>T1222</td>\n",
       "      <td>File monitoring</td>\n",
       "      <td>OK</td>\n",
       "    </tr>\n",
       "    <tr>\n",
       "      <th>5</th>\n",
       "      <td>mitre-attack</td>\n",
       "      <td>Windows</td>\n",
       "      <td>defense-evasion</td>\n",
       "      <td>File Permissions Modification</td>\n",
       "      <td>T1222</td>\n",
       "      <td>Process Monitoring</td>\n",
       "      <td>OK</td>\n",
       "    </tr>\n",
       "  </tbody>\n",
       "</table>\n",
       "</div>"
      ],
      "text/plain": [
       "         matrix platform           tactic                      technique  \\\n",
       "0  mitre-attack    Linux  defense-evasion  File Permissions Modification   \n",
       "1  mitre-attack    Linux  defense-evasion  File Permissions Modification   \n",
       "2  mitre-attack    Linux  defense-evasion  File Permissions Modification   \n",
       "4  mitre-attack  Windows  defense-evasion  File Permissions Modification   \n",
       "5  mitre-attack  Windows  defense-evasion  File Permissions Modification   \n",
       "\n",
       "  technique_id                     data_sources Validation  \n",
       "0        T1222                  File monitoring         OK  \n",
       "1        T1222               Process Monitoring         OK  \n",
       "2        T1222  Process command-line parameters         OK  \n",
       "4        T1222                  File monitoring         OK  \n",
       "5        T1222               Process Monitoring         OK  "
      ]
     },
     "execution_count": 55,
     "metadata": {},
     "output_type": "execute_result"
    }
   ],
   "source": [
    "techniques_analysis_data_ok = techniques_data_3[techniques_data_3.Validation == 'OK']\n",
    "techniques_analysis_data_ok.head()"
   ]
  },
  {
   "cell_type": "code",
   "execution_count": 56,
   "metadata": {},
   "outputs": [
    {
     "name": "stdout",
     "output_type": "stream",
     "text": [
      "There are  1790  rows of data that you can play with\n"
     ]
    }
   ],
   "source": [
    "print('There are ',len(techniques_analysis_data_ok),' rows of data that you can play with')"
   ]
  }
 ],
 "metadata": {
  "kernelspec": {
   "display_name": "Python 3",
   "language": "python",
   "name": "python3"
  },
  "language_info": {
   "codemirror_mode": {
    "name": "ipython",
    "version": 3
   },
   "file_extension": ".py",
   "mimetype": "text/x-python",
   "name": "python",
   "nbconvert_exporter": "python",
   "pygments_lexer": "ipython3",
   "version": "3.6.5"
  }
 },
 "nbformat": 4,
 "nbformat_minor": 2
}
