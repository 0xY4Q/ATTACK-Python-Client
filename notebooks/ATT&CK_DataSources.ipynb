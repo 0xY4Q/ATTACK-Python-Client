{
 "cells": [
  {
   "cell_type": "markdown",
   "metadata": {},
   "source": [
    "# **MITRE ATT&CK PYTHON CLIENT**: Data Sources\n",
    "------------------"
   ]
  },
  {
   "cell_type": "markdown",
   "metadata": {},
   "source": [
    "## Goals:\n",
    "* Access ATT&CK data sources in STIX format via a public TAXII server\n",
    "* Learn to interact with ATT&CK data all at once\n",
    "* Explore and idenfity patterns in the data retrieved\n",
    "* Learn more about ATT&CK data sources"
   ]
  },
  {
   "cell_type": "markdown",
   "metadata": {},
   "source": [
    "## 1. ATT&CK Python Client Installation"
   ]
  },
  {
   "cell_type": "markdown",
   "metadata": {},
   "source": [
    "You can install it via PIP: **pip install attackcti**"
   ]
  },
  {
   "cell_type": "markdown",
   "metadata": {},
   "source": [
    "## 2. Import ATT&CK API Client"
   ]
  },
  {
   "cell_type": "code",
   "execution_count": 1,
   "metadata": {},
   "outputs": [],
   "source": [
    "from attackcti import attack_client"
   ]
  },
  {
   "cell_type": "markdown",
   "metadata": {},
   "source": [
    "## 3. Import Extra Libraries"
   ]
  },
  {
   "cell_type": "code",
   "execution_count": 2,
   "metadata": {},
   "outputs": [],
   "source": [
    "from pandas import *\n",
    "from pandas.io.json import json_normalize\n",
    "\n",
    "import numpy as np\n",
    "\n",
    "import altair as alt\n",
    "alt.renderers.enable('default')\n",
    "\n",
    "import itertools\n"
   ]
  },
  {
   "cell_type": "markdown",
   "metadata": {},
   "source": [
    "## 4. Initialize ATT&CK Client Class"
   ]
  },
  {
   "cell_type": "code",
   "execution_count": 3,
   "metadata": {},
   "outputs": [],
   "source": [
    "lift = attack_client()"
   ]
  },
  {
   "cell_type": "markdown",
   "metadata": {},
   "source": [
    "## 5. Getting Information About Techniques"
   ]
  },
  {
   "cell_type": "markdown",
   "metadata": {},
   "source": [
    "Getting ALL ATT&CK Techniques"
   ]
  },
  {
   "cell_type": "code",
   "execution_count": 4,
   "metadata": {},
   "outputs": [],
   "source": [
    "all_techniques = lift.get_all_techniques(stix_format=False)"
   ]
  },
  {
   "cell_type": "markdown",
   "metadata": {},
   "source": [
    "Showing the first technique in our list"
   ]
  },
  {
   "cell_type": "code",
   "execution_count": 5,
   "metadata": {},
   "outputs": [
    {
     "data": {
      "text/plain": [
       "{'external_references': [{'external_id': 'T1500',\n",
       "   'source_name': 'mitre-attack',\n",
       "   'url': 'https://attack.mitre.org/techniques/T1500'},\n",
       "  {'url': 'https://www.clearskysec.com/wp-content/uploads/2018/11/MuddyWater-Operations-in-Lebanon-and-Oman.pdf',\n",
       "   'source_name': 'ClearSky MuddyWater Nov 2018',\n",
       "   'description': 'ClearSky Cyber Security. (2018, November). MuddyWater Operations in Lebanon and Oman: Using an Israeli compromised domain for a two-stage campaign. Retrieved November 29, 2018.'},\n",
       "  {'url': 'https://blog.trendmicro.com/trendlabs-security-intelligence/windows-app-runs-on-mac-downloads-info-stealer-and-adware/',\n",
       "   'source_name': 'TrendMicro WindowsAppMac',\n",
       "   'description': 'Trend Micro. (2019, February 11). Windows App Runs on Mac, Downloads Info Stealer and Adware. Retrieved April 25, 2019.'}],\n",
       " 'kill_chain_phases': [{'phase_name': 'defense-evasion',\n",
       "   'kill_chain_name': 'mitre-attack'}],\n",
       " 'x_mitre_version': '1.0',\n",
       " 'url': 'https://attack.mitre.org/techniques/T1500',\n",
       " 'matrix': 'mitre-attack',\n",
       " 'technique_id': 'T1500',\n",
       " 'object_marking_refs': ['marking-definition--fa42a846-8d90-4e51-bc29-71d5b4802168'],\n",
       " 'type': 'attack-pattern',\n",
       " 'modified': '2019-04-29T21:13:49.686Z',\n",
       " 'created_by_ref': 'identity--c78cb6e5-0c4b-4611-8297-d1b8b55e40b5',\n",
       " 'tactic': ['defense-evasion'],\n",
       " 'id': 'attack-pattern--cf7b3a06-8b42-4c33-bbe9-012120027925',\n",
       " 'technique': 'Compile After Delivery',\n",
       " 'created': '2019-04-25T20:53:07.719Z',\n",
       " 'technique_description': 'Adversaries may attempt to make payloads difficult to discover and analyze by delivering files to victims as uncompiled code. Similar to [Obfuscated Files or Information](https://attack.mitre.org/techniques/T1027), text-based source code files may subvert analysis and scrutiny from protections targeting executables/binaries. These payloads will need to be compiled before execution; typically via native utilities such as csc.exe or GCC/MinGW.(Citation: ClearSky MuddyWater Nov 2018)\\n\\nSource code payloads may also be encrypted, encoded, and/or embedded within other files, such as those delivered as a [Spearphishing Attachment](https://attack.mitre.org/techniques/T1193). Payloads may also be delivered in formats unrecognizable and inherently benign to the native OS (ex: EXEs on macOS/Linux) before later being (re)compiled into a proper executable binary with a bundled compiler and execution framework.(Citation: TrendMicro WindowsAppMac)\\n',\n",
       " 'contributors': ['Ye Yint Min Thu Htut, Offensive Security Team, DBS Bank',\n",
       "  'Praetorian'],\n",
       " 'permissions_required': ['User'],\n",
       " 'data_sources': ['Process command-line parameters',\n",
       "  'Process monitoring',\n",
       "  'File monitoring'],\n",
       " 'technique_detection': 'Monitor the execution file paths and command-line arguments for common compilers, such as csc.exe and GCC/MinGW, and correlate with other suspicious behavior to reduce false positives from normal user and administrator behavior. The compilation of payloads may also generate file creation and/or file write events. Look for non-native binary formats and cross-platform compiler and execution frameworks like Mono and determine if they have a legitimate purpose on the system.(Citation: TrendMicro WindowsAppMac) Typically these should only be used in specific and limited cases, like for software development.',\n",
       " 'platform': ['Linux', 'macOS', 'Windows'],\n",
       " 'system_requirements': ['Compiler software (either native to the system or delivered by the adversary)'],\n",
       " 'defense_bypassed': ['Static File Analysis',\n",
       "  'Binary Analysis',\n",
       "  'Anti-virus',\n",
       "  'Host intrusion prevention systems',\n",
       "  'Signature-based detection']}"
      ]
     },
     "execution_count": 5,
     "metadata": {},
     "output_type": "execute_result"
    }
   ],
   "source": [
    "all_techniques[0]"
   ]
  },
  {
   "cell_type": "markdown",
   "metadata": {},
   "source": [
    "Normalizing semi-structured JSON data into a flat table via **pandas.io.json.json_normalize**\n",
    "* Reference: https://pandas.pydata.org/pandas-docs/stable/generated/pandas.io.json.json_normalize.html"
   ]
  },
  {
   "cell_type": "code",
   "execution_count": 6,
   "metadata": {},
   "outputs": [],
   "source": [
    "techniques_normalized = json_normalize(all_techniques)"
   ]
  },
  {
   "cell_type": "code",
   "execution_count": 7,
   "metadata": {},
   "outputs": [
    {
     "data": {
      "text/html": [
       "<div>\n",
       "<style scoped>\n",
       "    .dataframe tbody tr th:only-of-type {\n",
       "        vertical-align: middle;\n",
       "    }\n",
       "\n",
       "    .dataframe tbody tr th {\n",
       "        vertical-align: top;\n",
       "    }\n",
       "\n",
       "    .dataframe thead th {\n",
       "        text-align: right;\n",
       "    }\n",
       "</style>\n",
       "<table border=\"1\" class=\"dataframe\">\n",
       "  <thead>\n",
       "    <tr style=\"text-align: right;\">\n",
       "      <th></th>\n",
       "      <th>capec_id</th>\n",
       "      <th>capec_url</th>\n",
       "      <th>contributors</th>\n",
       "      <th>created</th>\n",
       "      <th>created_by_ref</th>\n",
       "      <th>data_sources</th>\n",
       "      <th>defense_bypassed</th>\n",
       "      <th>detectable_by_common_defenses</th>\n",
       "      <th>detectable_explanation</th>\n",
       "      <th>difficulty_explanation</th>\n",
       "      <th>...</th>\n",
       "      <th>tactic_type</th>\n",
       "      <th>technique</th>\n",
       "      <th>technique_description</th>\n",
       "      <th>technique_detection</th>\n",
       "      <th>technique_id</th>\n",
       "      <th>type</th>\n",
       "      <th>url</th>\n",
       "      <th>x_mitre_deprecated</th>\n",
       "      <th>x_mitre_old_attack_id</th>\n",
       "      <th>x_mitre_version</th>\n",
       "    </tr>\n",
       "  </thead>\n",
       "  <tbody>\n",
       "    <tr>\n",
       "      <th>0</th>\n",
       "      <td>NaN</td>\n",
       "      <td>NaN</td>\n",
       "      <td>[Ye Yint Min Thu Htut, Offensive Security Team...</td>\n",
       "      <td>2019-04-25T20:53:07.719Z</td>\n",
       "      <td>identity--c78cb6e5-0c4b-4611-8297-d1b8b55e40b5</td>\n",
       "      <td>[Process command-line parameters, Process moni...</td>\n",
       "      <td>[Static File Analysis, Binary Analysis, Anti-v...</td>\n",
       "      <td>NaN</td>\n",
       "      <td>NaN</td>\n",
       "      <td>NaN</td>\n",
       "      <td>...</td>\n",
       "      <td>NaN</td>\n",
       "      <td>Compile After Delivery</td>\n",
       "      <td>Adversaries may attempt to make payloads diffi...</td>\n",
       "      <td>Monitor the execution file paths and command-l...</td>\n",
       "      <td>T1500</td>\n",
       "      <td>attack-pattern</td>\n",
       "      <td>https://attack.mitre.org/techniques/T1500</td>\n",
       "      <td>NaN</td>\n",
       "      <td>NaN</td>\n",
       "      <td>1.0</td>\n",
       "    </tr>\n",
       "  </tbody>\n",
       "</table>\n",
       "<p>1 rows × 36 columns</p>\n",
       "</div>"
      ],
      "text/plain": [
       "  capec_id capec_url                                       contributors  \\\n",
       "0      NaN       NaN  [Ye Yint Min Thu Htut, Offensive Security Team...   \n",
       "\n",
       "                    created                                  created_by_ref  \\\n",
       "0  2019-04-25T20:53:07.719Z  identity--c78cb6e5-0c4b-4611-8297-d1b8b55e40b5   \n",
       "\n",
       "                                        data_sources  \\\n",
       "0  [Process command-line parameters, Process moni...   \n",
       "\n",
       "                                    defense_bypassed  \\\n",
       "0  [Static File Analysis, Binary Analysis, Anti-v...   \n",
       "\n",
       "  detectable_by_common_defenses detectable_explanation difficulty_explanation  \\\n",
       "0                           NaN                    NaN                    NaN   \n",
       "\n",
       "   ... tactic_type               technique  \\\n",
       "0  ...         NaN  Compile After Delivery   \n",
       "\n",
       "                               technique_description  \\\n",
       "0  Adversaries may attempt to make payloads diffi...   \n",
       "\n",
       "                                 technique_detection technique_id  \\\n",
       "0  Monitor the execution file paths and command-l...        T1500   \n",
       "\n",
       "             type                                        url  \\\n",
       "0  attack-pattern  https://attack.mitre.org/techniques/T1500   \n",
       "\n",
       "  x_mitre_deprecated x_mitre_old_attack_id x_mitre_version  \n",
       "0                NaN                   NaN             1.0  \n",
       "\n",
       "[1 rows x 36 columns]"
      ]
     },
     "execution_count": 7,
     "metadata": {},
     "output_type": "execute_result"
    }
   ],
   "source": [
    "techniques_normalized[0:1]"
   ]
  },
  {
   "cell_type": "markdown",
   "metadata": {},
   "source": [
    "## 6. Re-indexing Dataframe"
   ]
  },
  {
   "cell_type": "code",
   "execution_count": 8,
   "metadata": {},
   "outputs": [],
   "source": [
    "techniques = techniques_normalized.reindex(['matrix','platform','tactic','technique','technique_id','data_sources'], axis=1)"
   ]
  },
  {
   "cell_type": "code",
   "execution_count": 9,
   "metadata": {},
   "outputs": [
    {
     "data": {
      "text/html": [
       "<div>\n",
       "<style scoped>\n",
       "    .dataframe tbody tr th:only-of-type {\n",
       "        vertical-align: middle;\n",
       "    }\n",
       "\n",
       "    .dataframe tbody tr th {\n",
       "        vertical-align: top;\n",
       "    }\n",
       "\n",
       "    .dataframe thead th {\n",
       "        text-align: right;\n",
       "    }\n",
       "</style>\n",
       "<table border=\"1\" class=\"dataframe\">\n",
       "  <thead>\n",
       "    <tr style=\"text-align: right;\">\n",
       "      <th></th>\n",
       "      <th>matrix</th>\n",
       "      <th>platform</th>\n",
       "      <th>tactic</th>\n",
       "      <th>technique</th>\n",
       "      <th>technique_id</th>\n",
       "      <th>data_sources</th>\n",
       "    </tr>\n",
       "  </thead>\n",
       "  <tbody>\n",
       "    <tr>\n",
       "      <th>0</th>\n",
       "      <td>mitre-attack</td>\n",
       "      <td>[Linux, macOS, Windows]</td>\n",
       "      <td>[defense-evasion]</td>\n",
       "      <td>Compile After Delivery</td>\n",
       "      <td>T1500</td>\n",
       "      <td>[Process command-line parameters, Process moni...</td>\n",
       "    </tr>\n",
       "    <tr>\n",
       "      <th>1</th>\n",
       "      <td>mitre-attack</td>\n",
       "      <td>[Linux]</td>\n",
       "      <td>[persistence]</td>\n",
       "      <td>Systemd Service</td>\n",
       "      <td>T1501</td>\n",
       "      <td>[Process command-line parameters, Process moni...</td>\n",
       "    </tr>\n",
       "    <tr>\n",
       "      <th>2</th>\n",
       "      <td>mitre-attack</td>\n",
       "      <td>[Linux, macOS, Windows]</td>\n",
       "      <td>[impact]</td>\n",
       "      <td>Endpoint Denial of Service</td>\n",
       "      <td>T1499</td>\n",
       "      <td>[SSL/TLS inspection, Web logs, Web application...</td>\n",
       "    </tr>\n",
       "    <tr>\n",
       "      <th>3</th>\n",
       "      <td>mitre-attack</td>\n",
       "      <td>[Windows]</td>\n",
       "      <td>[defense-evasion, discovery]</td>\n",
       "      <td>Virtualization/Sandbox Evasion</td>\n",
       "      <td>T1497</td>\n",
       "      <td>[Process monitoring, Process command-line para...</td>\n",
       "    </tr>\n",
       "    <tr>\n",
       "      <th>4</th>\n",
       "      <td>mitre-attack</td>\n",
       "      <td>[Linux, macOS, Windows]</td>\n",
       "      <td>[impact]</td>\n",
       "      <td>Network Denial of Service</td>\n",
       "      <td>T1498</td>\n",
       "      <td>[Sensor health and status, Network protocol an...</td>\n",
       "    </tr>\n",
       "  </tbody>\n",
       "</table>\n",
       "</div>"
      ],
      "text/plain": [
       "         matrix                 platform                        tactic  \\\n",
       "0  mitre-attack  [Linux, macOS, Windows]             [defense-evasion]   \n",
       "1  mitre-attack                  [Linux]                 [persistence]   \n",
       "2  mitre-attack  [Linux, macOS, Windows]                      [impact]   \n",
       "3  mitre-attack                [Windows]  [defense-evasion, discovery]   \n",
       "4  mitre-attack  [Linux, macOS, Windows]                      [impact]   \n",
       "\n",
       "                        technique technique_id  \\\n",
       "0          Compile After Delivery        T1500   \n",
       "1                 Systemd Service        T1501   \n",
       "2      Endpoint Denial of Service        T1499   \n",
       "3  Virtualization/Sandbox Evasion        T1497   \n",
       "4       Network Denial of Service        T1498   \n",
       "\n",
       "                                        data_sources  \n",
       "0  [Process command-line parameters, Process moni...  \n",
       "1  [Process command-line parameters, Process moni...  \n",
       "2  [SSL/TLS inspection, Web logs, Web application...  \n",
       "3  [Process monitoring, Process command-line para...  \n",
       "4  [Sensor health and status, Network protocol an...  "
      ]
     },
     "execution_count": 9,
     "metadata": {},
     "output_type": "execute_result"
    }
   ],
   "source": [
    "techniques.head()"
   ]
  },
  {
   "cell_type": "code",
   "execution_count": 10,
   "metadata": {},
   "outputs": [
    {
     "name": "stdout",
     "output_type": "stream",
     "text": [
      "A total of  500  techniques\n"
     ]
    }
   ],
   "source": [
    "print('A total of ',len(techniques),' techniques')"
   ]
  },
  {
   "cell_type": "markdown",
   "metadata": {},
   "source": [
    "## 7. Removing Revoked Techniques"
   ]
  },
  {
   "cell_type": "code",
   "execution_count": 11,
   "metadata": {},
   "outputs": [],
   "source": [
    "all_techniques_no_revoked = lift.remove_revoked(all_techniques)"
   ]
  },
  {
   "cell_type": "code",
   "execution_count": 12,
   "metadata": {},
   "outputs": [
    {
     "name": "stdout",
     "output_type": "stream",
     "text": [
      "A total of  485  techniques\n"
     ]
    }
   ],
   "source": [
    "print('A total of ',len(all_techniques_no_revoked),' techniques')"
   ]
  },
  {
   "cell_type": "markdown",
   "metadata": {},
   "source": [
    "## 8. Extractinng Revoked Techniques"
   ]
  },
  {
   "cell_type": "code",
   "execution_count": 13,
   "metadata": {},
   "outputs": [],
   "source": [
    "all_techniques_revoked = lift.extract_revoked(all_techniques)"
   ]
  },
  {
   "cell_type": "code",
   "execution_count": 14,
   "metadata": {},
   "outputs": [
    {
     "name": "stdout",
     "output_type": "stream",
     "text": [
      "A total of  15  techniques that have been revoked\n"
     ]
    }
   ],
   "source": [
    "print('A total of ',len(all_techniques_revoked),' techniques that have been revoked')"
   ]
  },
  {
   "cell_type": "markdown",
   "metadata": {},
   "source": [
    "The revoked techniques are the following ones:"
   ]
  },
  {
   "cell_type": "code",
   "execution_count": 15,
   "metadata": {},
   "outputs": [
    {
     "name": "stdout",
     "output_type": "stream",
     "text": [
      "Remotely Install Application\n",
      "Insecure Third-Party Libraries\n",
      "Fake Developer Accounts\n",
      "Detect App Analysis Environment\n",
      "Malicious Software Development Tools\n",
      "Biometric Spoofing\n",
      "Device Unlock Code Guessing or Brute Force\n",
      "Malicious Media Content\n",
      "Abuse of iOS Enterprise App Signing Key\n",
      "App Delivered via Web Download\n",
      "App Delivered via Email Attachment\n",
      "Malicious or Vulnerable Built-in Device Functionality\n",
      "Malicious SMS Message\n",
      "Exploit Baseband Vulnerability\n",
      "Stolen Developer Credentials or Signing Keys\n"
     ]
    }
   ],
   "source": [
    "for t in all_techniques_revoked:\n",
    "    print(t['technique'])"
   ]
  },
  {
   "cell_type": "markdown",
   "metadata": {},
   "source": [
    "## 9. Updating our Dataframe"
   ]
  },
  {
   "cell_type": "code",
   "execution_count": 16,
   "metadata": {},
   "outputs": [],
   "source": [
    "techniques_normalized = json_normalize(all_techniques_no_revoked)\n",
    "techniques = techniques_normalized.reindex(['matrix','platform','tactic','technique','technique_id','data_sources'], axis=1)"
   ]
  },
  {
   "cell_type": "markdown",
   "metadata": {},
   "source": [
    "## 10. Techniques Per Matrix\n",
    "Using **altair** python library we can start showing a few charts stacking the number of techniques with or without data sources.\n",
    "Reference: https://altair-viz.github.io/"
   ]
  },
  {
   "cell_type": "code",
   "execution_count": 17,
   "metadata": {},
   "outputs": [
    {
     "data": {
      "text/html": [
       "<div>\n",
       "<style scoped>\n",
       "    .dataframe tbody tr th:only-of-type {\n",
       "        vertical-align: middle;\n",
       "    }\n",
       "\n",
       "    .dataframe tbody tr th {\n",
       "        vertical-align: top;\n",
       "    }\n",
       "\n",
       "    .dataframe thead th {\n",
       "        text-align: right;\n",
       "    }\n",
       "</style>\n",
       "<table border=\"1\" class=\"dataframe\">\n",
       "  <thead>\n",
       "    <tr style=\"text-align: right;\">\n",
       "      <th></th>\n",
       "      <th>matrix</th>\n",
       "      <th>technique</th>\n",
       "    </tr>\n",
       "  </thead>\n",
       "  <tbody>\n",
       "    <tr>\n",
       "      <th>0</th>\n",
       "      <td>mitre-attack</td>\n",
       "      <td>244</td>\n",
       "    </tr>\n",
       "    <tr>\n",
       "      <th>1</th>\n",
       "      <td>mitre-mobile-attack</td>\n",
       "      <td>67</td>\n",
       "    </tr>\n",
       "    <tr>\n",
       "      <th>2</th>\n",
       "      <td>mitre-pre-attack</td>\n",
       "      <td>174</td>\n",
       "    </tr>\n",
       "  </tbody>\n",
       "</table>\n",
       "</div>"
      ],
      "text/plain": [
       "                matrix  technique\n",
       "0         mitre-attack        244\n",
       "1  mitre-mobile-attack         67\n",
       "2     mitre-pre-attack        174"
      ]
     },
     "execution_count": 17,
     "metadata": {},
     "output_type": "execute_result"
    }
   ],
   "source": [
    "data = techniques\n",
    "data_2 = data.groupby(['matrix'])['technique'].count()\n",
    "data_3 = data_2.to_frame().reset_index()\n",
    "data_3"
   ]
  },
  {
   "cell_type": "code",
   "execution_count": 18,
   "metadata": {},
   "outputs": [
    {
     "data": {
      "application/vnd.vegalite.v2+json": {
       "$schema": "https://vega.github.io/schema/vega-lite/v2.6.0.json",
       "config": {
        "view": {
         "height": 300,
         "width": 400
        }
       },
       "data": {
        "name": "data-4e72abcce3d3f026d281e5dd67d8131a"
       },
       "datasets": {
        "data-4e72abcce3d3f026d281e5dd67d8131a": [
         {
          "matrix": "mitre-attack",
          "technique": 244
         },
         {
          "matrix": "mitre-mobile-attack",
          "technique": 67
         },
         {
          "matrix": "mitre-pre-attack",
          "technique": 174
         }
        ]
       },
       "encoding": {
        "color": {
         "field": "matrix",
         "type": "nominal"
        },
        "x": {
         "field": "technique",
         "type": "quantitative"
        },
        "y": {
         "field": "matrix",
         "type": "nominal"
        }
       },
       "height": 200,
       "mark": "bar"
      },
      "image/png": "[encoded data removed]",
      "text/plain": [
       "<VegaLite 2 object>\n",
       "\n",
       "If you see this message, it means the renderer has not been properly enabled\n",
       "for the frontend that you are using. For more information, see\n",
       "https://altair-viz.github.io/user_guide/troubleshooting.html\n"
      ]
     },
     "execution_count": 18,
     "metadata": {},
     "output_type": "execute_result"
    }
   ],
   "source": [
    "alt.Chart(data_3).mark_bar().encode(x='technique', y='matrix', color='matrix').properties(height = 200)"
   ]
  },
  {
   "cell_type": "markdown",
   "metadata": {},
   "source": [
    "## 11. Techniques With and Without Data Sources"
   ]
  },
  {
   "cell_type": "code",
   "execution_count": 19,
   "metadata": {},
   "outputs": [
    {
     "data": {
      "application/vnd.vegalite.v2+json": {
       "$schema": "https://vega.github.io/schema/vega-lite/v2.6.0.json",
       "config": {
        "view": {
         "height": 300,
         "width": 400
        }
       },
       "datasets": {
        "data-c7ba43ddfd65b38f1fd0b608650ec191": [
         {
          "Count of Techniques": 245,
          "Techniques": "Without DS"
         },
         {
          "Count of Techniques": 240,
          "Techniques": "With DS"
         }
        ]
       },
       "layer": [
        {
         "data": {
          "name": "data-c7ba43ddfd65b38f1fd0b608650ec191"
         },
         "encoding": {
          "color": {
           "field": "Techniques",
           "type": "nominal"
          },
          "x": {
           "field": "Techniques",
           "type": "nominal"
          },
          "y": {
           "field": "Count of Techniques",
           "type": "quantitative"
          }
         },
         "height": 300,
         "mark": "bar",
         "width": 200
        },
        {
         "data": {
          "name": "data-c7ba43ddfd65b38f1fd0b608650ec191"
         },
         "encoding": {
          "color": {
           "field": "Techniques",
           "type": "nominal"
          },
          "text": {
           "field": "Count of Techniques",
           "type": "quantitative"
          },
          "x": {
           "field": "Techniques",
           "type": "nominal"
          },
          "y": {
           "field": "Count of Techniques",
           "type": "quantitative"
          }
         },
         "height": 300,
         "mark": {
          "align": "center",
          "baseline": "middle",
          "dx": 0,
          "dy": -5,
          "type": "text"
         },
         "width": 200
        }
       ]
      },
      "image/png": "[encoded data removed]",
      "text/plain": [
       "<VegaLite 2 object>\n",
       "\n",
       "If you see this message, it means the renderer has not been properly enabled\n",
       "for the frontend that you are using. For more information, see\n",
       "https://altair-viz.github.io/user_guide/troubleshooting.html\n"
      ]
     },
     "execution_count": 19,
     "metadata": {},
     "output_type": "execute_result"
    }
   ],
   "source": [
    "data_source_distribution = pandas.DataFrame({\n",
    "    'Techniques': ['Without DS','With DS'],\n",
    "    'Count of Techniques': [techniques['data_sources'].isna().sum(),techniques['data_sources'].notna().sum()]})\n",
    "bars = alt.Chart(data_source_distribution).mark_bar().encode(x='Techniques',y='Count of Techniques',color='Techniques').properties(width=200,height=300)\n",
    "text = bars.mark_text(align='center',baseline='middle',dx=0,dy=-5).encode(text='Count of Techniques')\n",
    "bars + text"
   ]
  },
  {
   "cell_type": "markdown",
   "metadata": {},
   "source": [
    "What is the distribution of techniques based on ATT&CK Matrix?"
   ]
  },
  {
   "cell_type": "code",
   "execution_count": 20,
   "metadata": {},
   "outputs": [
    {
     "data": {
      "text/html": [
       "<div>\n",
       "<style scoped>\n",
       "    .dataframe tbody tr th:only-of-type {\n",
       "        vertical-align: middle;\n",
       "    }\n",
       "\n",
       "    .dataframe tbody tr th {\n",
       "        vertical-align: top;\n",
       "    }\n",
       "\n",
       "    .dataframe thead th {\n",
       "        text-align: right;\n",
       "    }\n",
       "</style>\n",
       "<table border=\"1\" class=\"dataframe\">\n",
       "  <thead>\n",
       "    <tr style=\"text-align: right;\">\n",
       "      <th></th>\n",
       "      <th>matrix</th>\n",
       "      <th>Ind_DS</th>\n",
       "      <th>technique</th>\n",
       "    </tr>\n",
       "  </thead>\n",
       "  <tbody>\n",
       "    <tr>\n",
       "      <th>0</th>\n",
       "      <td>mitre-attack</td>\n",
       "      <td>With DS</td>\n",
       "      <td>240</td>\n",
       "    </tr>\n",
       "    <tr>\n",
       "      <th>1</th>\n",
       "      <td>mitre-attack</td>\n",
       "      <td>Without DS</td>\n",
       "      <td>4</td>\n",
       "    </tr>\n",
       "    <tr>\n",
       "      <th>2</th>\n",
       "      <td>mitre-mobile-attack</td>\n",
       "      <td>Without DS</td>\n",
       "      <td>67</td>\n",
       "    </tr>\n",
       "    <tr>\n",
       "      <th>3</th>\n",
       "      <td>mitre-pre-attack</td>\n",
       "      <td>Without DS</td>\n",
       "      <td>174</td>\n",
       "    </tr>\n",
       "  </tbody>\n",
       "</table>\n",
       "</div>"
      ],
      "text/plain": [
       "                matrix      Ind_DS  technique\n",
       "0         mitre-attack     With DS        240\n",
       "1         mitre-attack  Without DS          4\n",
       "2  mitre-mobile-attack  Without DS         67\n",
       "3     mitre-pre-attack  Without DS        174"
      ]
     },
     "execution_count": 20,
     "metadata": {},
     "output_type": "execute_result"
    }
   ],
   "source": [
    "data = techniques\n",
    "data['Count_DS'] = data['data_sources'].str.len()\n",
    "data['Ind_DS'] = np.where(data['Count_DS']>0,'With DS','Without DS')\n",
    "data_2 = data.groupby(['matrix','Ind_DS'])['technique'].count()\n",
    "data_3 = data_2.to_frame().reset_index()\n",
    "data_3"
   ]
  },
  {
   "cell_type": "code",
   "execution_count": 21,
   "metadata": {},
   "outputs": [
    {
     "data": {
      "application/vnd.vegalite.v2+json": {
       "$schema": "https://vega.github.io/schema/vega-lite/v2.6.0.json",
       "config": {
        "view": {
         "height": 300,
         "width": 400
        }
       },
       "data": {
        "name": "data-b39210a0341482429462066eeca2ff18"
       },
       "datasets": {
        "data-b39210a0341482429462066eeca2ff18": [
         {
          "Ind_DS": "With DS",
          "matrix": "mitre-attack",
          "technique": 240
         },
         {
          "Ind_DS": "Without DS",
          "matrix": "mitre-attack",
          "technique": 4
         },
         {
          "Ind_DS": "Without DS",
          "matrix": "mitre-mobile-attack",
          "technique": 67
         },
         {
          "Ind_DS": "Without DS",
          "matrix": "mitre-pre-attack",
          "technique": 174
         }
        ]
       },
       "encoding": {
        "color": {
         "field": "matrix",
         "type": "nominal"
        },
        "x": {
         "field": "technique",
         "type": "quantitative"
        },
        "y": {
         "field": "Ind_DS",
         "type": "nominal"
        }
       },
       "height": 200,
       "mark": "bar"
      },
      "image/png": "[encoded data removed]",
      "text/plain": [
       "<VegaLite 2 object>\n",
       "\n",
       "If you see this message, it means the renderer has not been properly enabled\n",
       "for the frontend that you are using. For more information, see\n",
       "https://altair-viz.github.io/user_guide/troubleshooting.html\n"
      ]
     },
     "execution_count": 21,
     "metadata": {},
     "output_type": "execute_result"
    }
   ],
   "source": [
    "alt.Chart(data_3).mark_bar().encode(x='technique', y='Ind_DS', color='matrix').properties(height = 200)"
   ]
  },
  {
   "cell_type": "markdown",
   "metadata": {},
   "source": [
    "What are those mitre-attack techniques without data sources?"
   ]
  },
  {
   "cell_type": "code",
   "execution_count": 22,
   "metadata": {},
   "outputs": [
    {
     "data": {
      "text/html": [
       "<div>\n",
       "<style scoped>\n",
       "    .dataframe tbody tr th:only-of-type {\n",
       "        vertical-align: middle;\n",
       "    }\n",
       "\n",
       "    .dataframe tbody tr th {\n",
       "        vertical-align: top;\n",
       "    }\n",
       "\n",
       "    .dataframe thead th {\n",
       "        text-align: right;\n",
       "    }\n",
       "</style>\n",
       "<table border=\"1\" class=\"dataframe\">\n",
       "  <thead>\n",
       "    <tr style=\"text-align: right;\">\n",
       "      <th></th>\n",
       "      <th>matrix</th>\n",
       "      <th>platform</th>\n",
       "      <th>tactic</th>\n",
       "      <th>technique</th>\n",
       "      <th>technique_id</th>\n",
       "      <th>data_sources</th>\n",
       "      <th>Count_DS</th>\n",
       "      <th>Ind_DS</th>\n",
       "    </tr>\n",
       "  </thead>\n",
       "  <tbody>\n",
       "    <tr>\n",
       "      <th>52</th>\n",
       "      <td>mitre-attack</td>\n",
       "      <td>[Linux, macOS]</td>\n",
       "      <td>[defense-evasion, persistence, command-and-con...</td>\n",
       "      <td>Port Knocking</td>\n",
       "      <td>T1205</td>\n",
       "      <td>NaN</td>\n",
       "      <td>NaN</td>\n",
       "      <td>Without DS</td>\n",
       "    </tr>\n",
       "    <tr>\n",
       "      <th>103</th>\n",
       "      <td>mitre-attack</td>\n",
       "      <td>[macOS]</td>\n",
       "      <td>[defense-evasion]</td>\n",
       "      <td>Gatekeeper Bypass</td>\n",
       "      <td>T1144</td>\n",
       "      <td>NaN</td>\n",
       "      <td>NaN</td>\n",
       "      <td>Without DS</td>\n",
       "    </tr>\n",
       "    <tr>\n",
       "      <th>106</th>\n",
       "      <td>mitre-attack</td>\n",
       "      <td>[macOS]</td>\n",
       "      <td>[persistence]</td>\n",
       "      <td>Re-opened Applications</td>\n",
       "      <td>T1164</td>\n",
       "      <td>NaN</td>\n",
       "      <td>NaN</td>\n",
       "      <td>Without DS</td>\n",
       "    </tr>\n",
       "    <tr>\n",
       "      <th>124</th>\n",
       "      <td>mitre-attack</td>\n",
       "      <td>[Windows]</td>\n",
       "      <td>[discovery]</td>\n",
       "      <td>Peripheral Device Discovery</td>\n",
       "      <td>T1120</td>\n",
       "      <td>NaN</td>\n",
       "      <td>NaN</td>\n",
       "      <td>Without DS</td>\n",
       "    </tr>\n",
       "  </tbody>\n",
       "</table>\n",
       "</div>"
      ],
      "text/plain": [
       "           matrix        platform  \\\n",
       "52   mitre-attack  [Linux, macOS]   \n",
       "103  mitre-attack         [macOS]   \n",
       "106  mitre-attack         [macOS]   \n",
       "124  mitre-attack       [Windows]   \n",
       "\n",
       "                                                tactic  \\\n",
       "52   [defense-evasion, persistence, command-and-con...   \n",
       "103                                  [defense-evasion]   \n",
       "106                                      [persistence]   \n",
       "124                                        [discovery]   \n",
       "\n",
       "                       technique technique_id data_sources  Count_DS  \\\n",
       "52                 Port Knocking        T1205          NaN       NaN   \n",
       "103            Gatekeeper Bypass        T1144          NaN       NaN   \n",
       "106       Re-opened Applications        T1164          NaN       NaN   \n",
       "124  Peripheral Device Discovery        T1120          NaN       NaN   \n",
       "\n",
       "         Ind_DS  \n",
       "52   Without DS  \n",
       "103  Without DS  \n",
       "106  Without DS  \n",
       "124  Without DS  "
      ]
     },
     "execution_count": 22,
     "metadata": {},
     "output_type": "execute_result"
    }
   ],
   "source": [
    "data[(data['matrix']=='mitre-attack') & (data['Ind_DS']=='Without DS')]"
   ]
  },
  {
   "cell_type": "markdown",
   "metadata": {},
   "source": [
    "### Techniques without data sources"
   ]
  },
  {
   "cell_type": "code",
   "execution_count": 23,
   "metadata": {},
   "outputs": [],
   "source": [
    "techniques_without_data_sources=techniques[techniques.data_sources.isnull()].reset_index(drop=True)"
   ]
  },
  {
   "cell_type": "code",
   "execution_count": 24,
   "metadata": {},
   "outputs": [
    {
     "data": {
      "text/html": [
       "<div>\n",
       "<style scoped>\n",
       "    .dataframe tbody tr th:only-of-type {\n",
       "        vertical-align: middle;\n",
       "    }\n",
       "\n",
       "    .dataframe tbody tr th {\n",
       "        vertical-align: top;\n",
       "    }\n",
       "\n",
       "    .dataframe thead th {\n",
       "        text-align: right;\n",
       "    }\n",
       "</style>\n",
       "<table border=\"1\" class=\"dataframe\">\n",
       "  <thead>\n",
       "    <tr style=\"text-align: right;\">\n",
       "      <th></th>\n",
       "      <th>matrix</th>\n",
       "      <th>platform</th>\n",
       "      <th>tactic</th>\n",
       "      <th>technique</th>\n",
       "      <th>technique_id</th>\n",
       "      <th>data_sources</th>\n",
       "      <th>Count_DS</th>\n",
       "      <th>Ind_DS</th>\n",
       "    </tr>\n",
       "  </thead>\n",
       "  <tbody>\n",
       "    <tr>\n",
       "      <th>0</th>\n",
       "      <td>mitre-attack</td>\n",
       "      <td>[Linux, macOS]</td>\n",
       "      <td>[defense-evasion, persistence, command-and-con...</td>\n",
       "      <td>Port Knocking</td>\n",
       "      <td>T1205</td>\n",
       "      <td>NaN</td>\n",
       "      <td>NaN</td>\n",
       "      <td>Without DS</td>\n",
       "    </tr>\n",
       "    <tr>\n",
       "      <th>1</th>\n",
       "      <td>mitre-attack</td>\n",
       "      <td>[macOS]</td>\n",
       "      <td>[defense-evasion]</td>\n",
       "      <td>Gatekeeper Bypass</td>\n",
       "      <td>T1144</td>\n",
       "      <td>NaN</td>\n",
       "      <td>NaN</td>\n",
       "      <td>Without DS</td>\n",
       "    </tr>\n",
       "    <tr>\n",
       "      <th>2</th>\n",
       "      <td>mitre-attack</td>\n",
       "      <td>[macOS]</td>\n",
       "      <td>[persistence]</td>\n",
       "      <td>Re-opened Applications</td>\n",
       "      <td>T1164</td>\n",
       "      <td>NaN</td>\n",
       "      <td>NaN</td>\n",
       "      <td>Without DS</td>\n",
       "    </tr>\n",
       "    <tr>\n",
       "      <th>3</th>\n",
       "      <td>mitre-attack</td>\n",
       "      <td>[Windows]</td>\n",
       "      <td>[discovery]</td>\n",
       "      <td>Peripheral Device Discovery</td>\n",
       "      <td>T1120</td>\n",
       "      <td>NaN</td>\n",
       "      <td>NaN</td>\n",
       "      <td>Without DS</td>\n",
       "    </tr>\n",
       "    <tr>\n",
       "      <th>4</th>\n",
       "      <td>mitre-pre-attack</td>\n",
       "      <td>NaN</td>\n",
       "      <td>[technical-information-gathering]</td>\n",
       "      <td>Spearphishing for Information</td>\n",
       "      <td>T1397</td>\n",
       "      <td>NaN</td>\n",
       "      <td>NaN</td>\n",
       "      <td>Without DS</td>\n",
       "    </tr>\n",
       "  </tbody>\n",
       "</table>\n",
       "</div>"
      ],
      "text/plain": [
       "             matrix        platform  \\\n",
       "0      mitre-attack  [Linux, macOS]   \n",
       "1      mitre-attack         [macOS]   \n",
       "2      mitre-attack         [macOS]   \n",
       "3      mitre-attack       [Windows]   \n",
       "4  mitre-pre-attack             NaN   \n",
       "\n",
       "                                              tactic  \\\n",
       "0  [defense-evasion, persistence, command-and-con...   \n",
       "1                                  [defense-evasion]   \n",
       "2                                      [persistence]   \n",
       "3                                        [discovery]   \n",
       "4                  [technical-information-gathering]   \n",
       "\n",
       "                       technique technique_id data_sources  Count_DS  \\\n",
       "0                  Port Knocking        T1205          NaN       NaN   \n",
       "1              Gatekeeper Bypass        T1144          NaN       NaN   \n",
       "2         Re-opened Applications        T1164          NaN       NaN   \n",
       "3    Peripheral Device Discovery        T1120          NaN       NaN   \n",
       "4  Spearphishing for Information        T1397          NaN       NaN   \n",
       "\n",
       "       Ind_DS  \n",
       "0  Without DS  \n",
       "1  Without DS  \n",
       "2  Without DS  \n",
       "3  Without DS  \n",
       "4  Without DS  "
      ]
     },
     "execution_count": 24,
     "metadata": {},
     "output_type": "execute_result"
    }
   ],
   "source": [
    "techniques_without_data_sources.head()"
   ]
  },
  {
   "cell_type": "code",
   "execution_count": 25,
   "metadata": {},
   "outputs": [
    {
     "name": "stdout",
     "output_type": "stream",
     "text": [
      "There are  245  techniques without data sources ( 51%  of  485  techniques)\n"
     ]
    }
   ],
   "source": [
    "print('There are ',techniques['data_sources'].isna().sum(),' techniques without data sources (',\"{0:.0%}\".format(techniques['data_sources'].isna().sum()/len(techniques)),' of ',len(techniques),' techniques)')"
   ]
  },
  {
   "cell_type": "markdown",
   "metadata": {},
   "source": [
    "### Techniques With Data Sources"
   ]
  },
  {
   "cell_type": "code",
   "execution_count": 26,
   "metadata": {},
   "outputs": [],
   "source": [
    "techniques_with_data_sources=techniques[techniques.data_sources.notnull()].reset_index(drop=True)"
   ]
  },
  {
   "cell_type": "code",
   "execution_count": 27,
   "metadata": {},
   "outputs": [
    {
     "data": {
      "text/html": [
       "<div>\n",
       "<style scoped>\n",
       "    .dataframe tbody tr th:only-of-type {\n",
       "        vertical-align: middle;\n",
       "    }\n",
       "\n",
       "    .dataframe tbody tr th {\n",
       "        vertical-align: top;\n",
       "    }\n",
       "\n",
       "    .dataframe thead th {\n",
       "        text-align: right;\n",
       "    }\n",
       "</style>\n",
       "<table border=\"1\" class=\"dataframe\">\n",
       "  <thead>\n",
       "    <tr style=\"text-align: right;\">\n",
       "      <th></th>\n",
       "      <th>matrix</th>\n",
       "      <th>platform</th>\n",
       "      <th>tactic</th>\n",
       "      <th>technique</th>\n",
       "      <th>technique_id</th>\n",
       "      <th>data_sources</th>\n",
       "      <th>Count_DS</th>\n",
       "      <th>Ind_DS</th>\n",
       "    </tr>\n",
       "  </thead>\n",
       "  <tbody>\n",
       "    <tr>\n",
       "      <th>0</th>\n",
       "      <td>mitre-attack</td>\n",
       "      <td>[Linux, macOS, Windows]</td>\n",
       "      <td>[defense-evasion]</td>\n",
       "      <td>Compile After Delivery</td>\n",
       "      <td>T1500</td>\n",
       "      <td>[Process command-line parameters, Process moni...</td>\n",
       "      <td>3.0</td>\n",
       "      <td>With DS</td>\n",
       "    </tr>\n",
       "    <tr>\n",
       "      <th>1</th>\n",
       "      <td>mitre-attack</td>\n",
       "      <td>[Linux]</td>\n",
       "      <td>[persistence]</td>\n",
       "      <td>Systemd Service</td>\n",
       "      <td>T1501</td>\n",
       "      <td>[Process command-line parameters, Process moni...</td>\n",
       "      <td>3.0</td>\n",
       "      <td>With DS</td>\n",
       "    </tr>\n",
       "    <tr>\n",
       "      <th>2</th>\n",
       "      <td>mitre-attack</td>\n",
       "      <td>[Linux, macOS, Windows]</td>\n",
       "      <td>[impact]</td>\n",
       "      <td>Endpoint Denial of Service</td>\n",
       "      <td>T1499</td>\n",
       "      <td>[SSL/TLS inspection, Web logs, Web application...</td>\n",
       "      <td>7.0</td>\n",
       "      <td>With DS</td>\n",
       "    </tr>\n",
       "    <tr>\n",
       "      <th>3</th>\n",
       "      <td>mitre-attack</td>\n",
       "      <td>[Windows]</td>\n",
       "      <td>[defense-evasion, discovery]</td>\n",
       "      <td>Virtualization/Sandbox Evasion</td>\n",
       "      <td>T1497</td>\n",
       "      <td>[Process monitoring, Process command-line para...</td>\n",
       "      <td>2.0</td>\n",
       "      <td>With DS</td>\n",
       "    </tr>\n",
       "    <tr>\n",
       "      <th>4</th>\n",
       "      <td>mitre-attack</td>\n",
       "      <td>[Linux, macOS, Windows]</td>\n",
       "      <td>[impact]</td>\n",
       "      <td>Network Denial of Service</td>\n",
       "      <td>T1498</td>\n",
       "      <td>[Sensor health and status, Network protocol an...</td>\n",
       "      <td>5.0</td>\n",
       "      <td>With DS</td>\n",
       "    </tr>\n",
       "  </tbody>\n",
       "</table>\n",
       "</div>"
      ],
      "text/plain": [
       "         matrix                 platform                        tactic  \\\n",
       "0  mitre-attack  [Linux, macOS, Windows]             [defense-evasion]   \n",
       "1  mitre-attack                  [Linux]                 [persistence]   \n",
       "2  mitre-attack  [Linux, macOS, Windows]                      [impact]   \n",
       "3  mitre-attack                [Windows]  [defense-evasion, discovery]   \n",
       "4  mitre-attack  [Linux, macOS, Windows]                      [impact]   \n",
       "\n",
       "                        technique technique_id  \\\n",
       "0          Compile After Delivery        T1500   \n",
       "1                 Systemd Service        T1501   \n",
       "2      Endpoint Denial of Service        T1499   \n",
       "3  Virtualization/Sandbox Evasion        T1497   \n",
       "4       Network Denial of Service        T1498   \n",
       "\n",
       "                                        data_sources  Count_DS   Ind_DS  \n",
       "0  [Process command-line parameters, Process moni...       3.0  With DS  \n",
       "1  [Process command-line parameters, Process moni...       3.0  With DS  \n",
       "2  [SSL/TLS inspection, Web logs, Web application...       7.0  With DS  \n",
       "3  [Process monitoring, Process command-line para...       2.0  With DS  \n",
       "4  [Sensor health and status, Network protocol an...       5.0  With DS  "
      ]
     },
     "execution_count": 27,
     "metadata": {},
     "output_type": "execute_result"
    }
   ],
   "source": [
    "techniques_with_data_sources.head()"
   ]
  },
  {
   "cell_type": "code",
   "execution_count": 28,
   "metadata": {},
   "outputs": [
    {
     "name": "stdout",
     "output_type": "stream",
     "text": [
      "There are  240  techniques with data sources ( 49%  of  485  techniques)\n"
     ]
    }
   ],
   "source": [
    "print('There are ',techniques['data_sources'].notna().sum(),' techniques with data sources (',\"{0:.0%}\".format(techniques['data_sources'].notna().sum()/len(techniques)),' of ',len(techniques),' techniques)')"
   ]
  },
  {
   "cell_type": "markdown",
   "metadata": {},
   "source": [
    "## 12. Grouping Techniques With Data Sources By Matrix"
   ]
  },
  {
   "cell_type": "markdown",
   "metadata": {},
   "source": [
    "Let's create a graph to represent the number of techniques per matrix:"
   ]
  },
  {
   "cell_type": "code",
   "execution_count": 29,
   "metadata": {},
   "outputs": [
    {
     "data": {
      "application/vnd.vegalite.v2+json": {
       "$schema": "https://vega.github.io/schema/vega-lite/v2.6.0.json",
       "config": {
        "view": {
         "height": 300,
         "width": 400
        }
       },
       "datasets": {
        "data-a689c98b4c5966a339164dff27be292d": [
         {
          "Count of Techniques": 240,
          "Matrix": "mitre-attack"
         }
        ]
       },
       "layer": [
        {
         "data": {
          "name": "data-a689c98b4c5966a339164dff27be292d"
         },
         "encoding": {
          "x": {
           "field": "Count of Techniques",
           "type": "quantitative"
          },
          "y": {
           "field": "Matrix",
           "type": "nominal"
          }
         },
         "height": 100,
         "mark": "bar",
         "width": 300
        },
        {
         "data": {
          "name": "data-a689c98b4c5966a339164dff27be292d"
         },
         "encoding": {
          "text": {
           "field": "Count of Techniques",
           "type": "quantitative"
          },
          "x": {
           "field": "Count of Techniques",
           "type": "quantitative"
          },
          "y": {
           "field": "Matrix",
           "type": "nominal"
          }
         },
         "height": 100,
         "mark": {
          "align": "center",
          "baseline": "middle",
          "dx": 10,
          "dy": 0,
          "type": "text"
         },
         "width": 300
        }
       ]
      },
      "image/png": "[encoded data removed]",
      "text/plain": [
       "<VegaLite 2 object>\n",
       "\n",
       "If you see this message, it means the renderer has not been properly enabled\n",
       "for the frontend that you are using. For more information, see\n",
       "https://altair-viz.github.io/user_guide/troubleshooting.html\n"
      ]
     },
     "execution_count": 29,
     "metadata": {},
     "output_type": "execute_result"
    }
   ],
   "source": [
    "matrix_distribution = pandas.DataFrame({\n",
    "    'Matrix': list(techniques_with_data_sources.groupby(['matrix'])['matrix'].count().keys()),\n",
    "    'Count of Techniques': techniques_with_data_sources.groupby(['matrix'])['matrix'].count().tolist()})\n",
    "bars = alt.Chart(matrix_distribution).mark_bar().encode(y='Matrix',x='Count of Techniques').properties(width=300,height=100)\n",
    "text = bars.mark_text(align='center',baseline='middle',dx=10,dy=0).encode(text='Count of Techniques')\n",
    "bars + text"
   ]
  },
  {
   "cell_type": "markdown",
   "metadata": {},
   "source": [
    "All the techniques belong to **mitre-attack** matrix which is the main **Enterprise** matrix. Reference: https://attack.mitre.org/wiki/Main_Page "
   ]
  },
  {
   "cell_type": "markdown",
   "metadata": {},
   "source": [
    "## 13. Grouping Techniques With Data Sources by Platform"
   ]
  },
  {
   "cell_type": "markdown",
   "metadata": {},
   "source": [
    "First, we need to split the **platform** column values because a technique might be mapped to more than one platform"
   ]
  },
  {
   "cell_type": "code",
   "execution_count": 30,
   "metadata": {},
   "outputs": [],
   "source": [
    "techniques_platform=techniques_with_data_sources\n",
    "\n",
    "attributes_1 = ['platform'] # In attributes we are going to indicate the name of the columns that we need to split\n",
    "\n",
    "for a in attributes_1:\n",
    "    s = techniques_platform.apply(lambda x: pandas.Series(x[a]),axis=1).stack().reset_index(level=1, drop=True)\n",
    "    # \"s\" is going to be a column of a frame with every value of the list inside each cell of the column \"a\"\n",
    "    s.name = a\n",
    "    # We name \"s\" with the same name of \"a\".\n",
    "    techniques_platform=techniques_platform.drop(a, axis=1).join(s).reset_index(drop=True)\n",
    "    # We drop the column \"a\" from \"techniques_platform\", and then join \"techniques_platform\" with \"s\"\n",
    "\n",
    "# Let's re-arrange the columns from general to specific\n",
    "techniques_platform_2=techniques_platform.reindex(['matrix','platform','tactic','technique','technique_id','data_sources'], axis=1)"
   ]
  },
  {
   "cell_type": "markdown",
   "metadata": {},
   "source": [
    "We can now show techniques with data sources mapped to one platform at the time"
   ]
  },
  {
   "cell_type": "code",
   "execution_count": 31,
   "metadata": {},
   "outputs": [
    {
     "data": {
      "text/html": [
       "<div>\n",
       "<style scoped>\n",
       "    .dataframe tbody tr th:only-of-type {\n",
       "        vertical-align: middle;\n",
       "    }\n",
       "\n",
       "    .dataframe tbody tr th {\n",
       "        vertical-align: top;\n",
       "    }\n",
       "\n",
       "    .dataframe thead th {\n",
       "        text-align: right;\n",
       "    }\n",
       "</style>\n",
       "<table border=\"1\" class=\"dataframe\">\n",
       "  <thead>\n",
       "    <tr style=\"text-align: right;\">\n",
       "      <th></th>\n",
       "      <th>matrix</th>\n",
       "      <th>platform</th>\n",
       "      <th>tactic</th>\n",
       "      <th>technique</th>\n",
       "      <th>technique_id</th>\n",
       "      <th>data_sources</th>\n",
       "    </tr>\n",
       "  </thead>\n",
       "  <tbody>\n",
       "    <tr>\n",
       "      <th>0</th>\n",
       "      <td>mitre-attack</td>\n",
       "      <td>Linux</td>\n",
       "      <td>[defense-evasion]</td>\n",
       "      <td>Compile After Delivery</td>\n",
       "      <td>T1500</td>\n",
       "      <td>[Process command-line parameters, Process moni...</td>\n",
       "    </tr>\n",
       "    <tr>\n",
       "      <th>1</th>\n",
       "      <td>mitre-attack</td>\n",
       "      <td>macOS</td>\n",
       "      <td>[defense-evasion]</td>\n",
       "      <td>Compile After Delivery</td>\n",
       "      <td>T1500</td>\n",
       "      <td>[Process command-line parameters, Process moni...</td>\n",
       "    </tr>\n",
       "    <tr>\n",
       "      <th>2</th>\n",
       "      <td>mitre-attack</td>\n",
       "      <td>Windows</td>\n",
       "      <td>[defense-evasion]</td>\n",
       "      <td>Compile After Delivery</td>\n",
       "      <td>T1500</td>\n",
       "      <td>[Process command-line parameters, Process moni...</td>\n",
       "    </tr>\n",
       "    <tr>\n",
       "      <th>3</th>\n",
       "      <td>mitre-attack</td>\n",
       "      <td>Linux</td>\n",
       "      <td>[persistence]</td>\n",
       "      <td>Systemd Service</td>\n",
       "      <td>T1501</td>\n",
       "      <td>[Process command-line parameters, Process moni...</td>\n",
       "    </tr>\n",
       "    <tr>\n",
       "      <th>4</th>\n",
       "      <td>mitre-attack</td>\n",
       "      <td>Linux</td>\n",
       "      <td>[impact]</td>\n",
       "      <td>Endpoint Denial of Service</td>\n",
       "      <td>T1499</td>\n",
       "      <td>[SSL/TLS inspection, Web logs, Web application...</td>\n",
       "    </tr>\n",
       "  </tbody>\n",
       "</table>\n",
       "</div>"
      ],
      "text/plain": [
       "         matrix platform             tactic                   technique  \\\n",
       "0  mitre-attack    Linux  [defense-evasion]      Compile After Delivery   \n",
       "1  mitre-attack    macOS  [defense-evasion]      Compile After Delivery   \n",
       "2  mitre-attack  Windows  [defense-evasion]      Compile After Delivery   \n",
       "3  mitre-attack    Linux      [persistence]             Systemd Service   \n",
       "4  mitre-attack    Linux           [impact]  Endpoint Denial of Service   \n",
       "\n",
       "  technique_id                                       data_sources  \n",
       "0        T1500  [Process command-line parameters, Process moni...  \n",
       "1        T1500  [Process command-line parameters, Process moni...  \n",
       "2        T1500  [Process command-line parameters, Process moni...  \n",
       "3        T1501  [Process command-line parameters, Process moni...  \n",
       "4        T1499  [SSL/TLS inspection, Web logs, Web application...  "
      ]
     },
     "execution_count": 31,
     "metadata": {},
     "output_type": "execute_result"
    }
   ],
   "source": [
    "techniques_platform_2.head()"
   ]
  },
  {
   "cell_type": "markdown",
   "metadata": {},
   "source": [
    "Let's create a visualization to show the number of techniques grouped by platform:"
   ]
  },
  {
   "cell_type": "code",
   "execution_count": 32,
   "metadata": {},
   "outputs": [
    {
     "data": {
      "application/vnd.vegalite.v2+json": {
       "$schema": "https://vega.github.io/schema/vega-lite/v2.6.0.json",
       "config": {
        "view": {
         "height": 300,
         "width": 400
        }
       },
       "datasets": {
        "data-8bdd6c787014aac1ea40c5ce615b2680": [
         {
          "Count of Techniques": 126,
          "Platform": "Linux"
         },
         {
          "Count of Techniques": 211,
          "Platform": "Windows"
         },
         {
          "Count of Techniques": 145,
          "Platform": "macOS"
         }
        ]
       },
       "layer": [
        {
         "data": {
          "name": "data-8bdd6c787014aac1ea40c5ce615b2680"
         },
         "encoding": {
          "color": {
           "field": "Platform",
           "type": "nominal"
          },
          "x": {
           "field": "Platform",
           "type": "nominal"
          },
          "y": {
           "field": "Count of Techniques",
           "type": "quantitative"
          }
         },
         "height": 300,
         "mark": "bar",
         "width": 200
        },
        {
         "data": {
          "name": "data-8bdd6c787014aac1ea40c5ce615b2680"
         },
         "encoding": {
          "color": {
           "field": "Platform",
           "type": "nominal"
          },
          "text": {
           "field": "Count of Techniques",
           "type": "quantitative"
          },
          "x": {
           "field": "Platform",
           "type": "nominal"
          },
          "y": {
           "field": "Count of Techniques",
           "type": "quantitative"
          }
         },
         "height": 300,
         "mark": {
          "align": "center",
          "baseline": "middle",
          "dx": 0,
          "dy": -5,
          "type": "text"
         },
         "width": 200
        }
       ]
      },
      "image/png": "[encoded data removed]",
      "text/plain": [
       "<VegaLite 2 object>\n",
       "\n",
       "If you see this message, it means the renderer has not been properly enabled\n",
       "for the frontend that you are using. For more information, see\n",
       "https://altair-viz.github.io/user_guide/troubleshooting.html\n"
      ]
     },
     "execution_count": 32,
     "metadata": {},
     "output_type": "execute_result"
    }
   ],
   "source": [
    "platform_distribution = pandas.DataFrame({\n",
    "    'Platform': list(techniques_platform_2.groupby(['platform'])['platform'].count().keys()),\n",
    "    'Count of Techniques': techniques_platform_2.groupby(['platform'])['platform'].count().tolist()})\n",
    "bars = alt.Chart(platform_distribution,height=300).mark_bar().encode(x ='Platform',y='Count of Techniques',color='Platform').properties(width=200)\n",
    "text = bars.mark_text(align='center',baseline='middle',dx=0,dy=-5).encode(text='Count of Techniques')\n",
    "bars + text"
   ]
  },
  {
   "cell_type": "markdown",
   "metadata": {},
   "source": [
    "In the bar chart above we can see that there are more techniques with data sources mapped to the Windows platform."
   ]
  },
  {
   "cell_type": "markdown",
   "metadata": {},
   "source": [
    "## 14. Grouping Techniques With Data Sources by Tactic"
   ]
  },
  {
   "cell_type": "markdown",
   "metadata": {},
   "source": [
    "Again, first we need to split the tactic column values because a technique might be mapped to more than one tactic:"
   ]
  },
  {
   "cell_type": "code",
   "execution_count": 33,
   "metadata": {},
   "outputs": [],
   "source": [
    "techniques_tactic=techniques_with_data_sources\n",
    "\n",
    "attributes_2 = ['tactic'] # In attributes we are going to indicate the name of the columns that we need to split\n",
    "\n",
    "for a in attributes_2:\n",
    "    s = techniques_tactic.apply(lambda x: pandas.Series(x[a]),axis=1).stack().reset_index(level=1, drop=True)\n",
    "    # \"s\" is going to be a column of a frame with every value of the list inside each cell of the column \"a\"\n",
    "    s.name = a\n",
    "    # We name \"s\" with the same name of \"a\".\n",
    "    techniques_tactic = techniques_tactic.drop(a, axis=1).join(s).reset_index(drop=True)\n",
    "    # We drop the column \"a\" from \"techniques_tactic\", and then join \"techniques_tactic\" with \"s\"\n",
    "\n",
    "# Let's re-arrange the columns from general to specific\n",
    "techniques_tactic_2=techniques_tactic.reindex(['matrix','platform','tactic','technique','technique_id','data_sources'], axis=1)\n"
   ]
  },
  {
   "cell_type": "markdown",
   "metadata": {},
   "source": [
    "We can now show techniques with data sources mapped to one tactic at the time"
   ]
  },
  {
   "cell_type": "code",
   "execution_count": 34,
   "metadata": {},
   "outputs": [
    {
     "data": {
      "text/html": [
       "<div>\n",
       "<style scoped>\n",
       "    .dataframe tbody tr th:only-of-type {\n",
       "        vertical-align: middle;\n",
       "    }\n",
       "\n",
       "    .dataframe tbody tr th {\n",
       "        vertical-align: top;\n",
       "    }\n",
       "\n",
       "    .dataframe thead th {\n",
       "        text-align: right;\n",
       "    }\n",
       "</style>\n",
       "<table border=\"1\" class=\"dataframe\">\n",
       "  <thead>\n",
       "    <tr style=\"text-align: right;\">\n",
       "      <th></th>\n",
       "      <th>matrix</th>\n",
       "      <th>platform</th>\n",
       "      <th>tactic</th>\n",
       "      <th>technique</th>\n",
       "      <th>technique_id</th>\n",
       "      <th>data_sources</th>\n",
       "    </tr>\n",
       "  </thead>\n",
       "  <tbody>\n",
       "    <tr>\n",
       "      <th>0</th>\n",
       "      <td>mitre-attack</td>\n",
       "      <td>[Linux, macOS, Windows]</td>\n",
       "      <td>defense-evasion</td>\n",
       "      <td>Compile After Delivery</td>\n",
       "      <td>T1500</td>\n",
       "      <td>[Process command-line parameters, Process moni...</td>\n",
       "    </tr>\n",
       "    <tr>\n",
       "      <th>1</th>\n",
       "      <td>mitre-attack</td>\n",
       "      <td>[Linux]</td>\n",
       "      <td>persistence</td>\n",
       "      <td>Systemd Service</td>\n",
       "      <td>T1501</td>\n",
       "      <td>[Process command-line parameters, Process moni...</td>\n",
       "    </tr>\n",
       "    <tr>\n",
       "      <th>2</th>\n",
       "      <td>mitre-attack</td>\n",
       "      <td>[Linux, macOS, Windows]</td>\n",
       "      <td>impact</td>\n",
       "      <td>Endpoint Denial of Service</td>\n",
       "      <td>T1499</td>\n",
       "      <td>[SSL/TLS inspection, Web logs, Web application...</td>\n",
       "    </tr>\n",
       "    <tr>\n",
       "      <th>3</th>\n",
       "      <td>mitre-attack</td>\n",
       "      <td>[Windows]</td>\n",
       "      <td>defense-evasion</td>\n",
       "      <td>Virtualization/Sandbox Evasion</td>\n",
       "      <td>T1497</td>\n",
       "      <td>[Process monitoring, Process command-line para...</td>\n",
       "    </tr>\n",
       "    <tr>\n",
       "      <th>4</th>\n",
       "      <td>mitre-attack</td>\n",
       "      <td>[Windows]</td>\n",
       "      <td>discovery</td>\n",
       "      <td>Virtualization/Sandbox Evasion</td>\n",
       "      <td>T1497</td>\n",
       "      <td>[Process monitoring, Process command-line para...</td>\n",
       "    </tr>\n",
       "  </tbody>\n",
       "</table>\n",
       "</div>"
      ],
      "text/plain": [
       "         matrix                 platform           tactic  \\\n",
       "0  mitre-attack  [Linux, macOS, Windows]  defense-evasion   \n",
       "1  mitre-attack                  [Linux]      persistence   \n",
       "2  mitre-attack  [Linux, macOS, Windows]           impact   \n",
       "3  mitre-attack                [Windows]  defense-evasion   \n",
       "4  mitre-attack                [Windows]        discovery   \n",
       "\n",
       "                        technique technique_id  \\\n",
       "0          Compile After Delivery        T1500   \n",
       "1                 Systemd Service        T1501   \n",
       "2      Endpoint Denial of Service        T1499   \n",
       "3  Virtualization/Sandbox Evasion        T1497   \n",
       "4  Virtualization/Sandbox Evasion        T1497   \n",
       "\n",
       "                                        data_sources  \n",
       "0  [Process command-line parameters, Process moni...  \n",
       "1  [Process command-line parameters, Process moni...  \n",
       "2  [SSL/TLS inspection, Web logs, Web application...  \n",
       "3  [Process monitoring, Process command-line para...  \n",
       "4  [Process monitoring, Process command-line para...  "
      ]
     },
     "execution_count": 34,
     "metadata": {},
     "output_type": "execute_result"
    }
   ],
   "source": [
    "techniques_tactic_2.head()"
   ]
  },
  {
   "cell_type": "markdown",
   "metadata": {},
   "source": [
    "Let's create a visualization to show the number of techniques grouped by tactic:"
   ]
  },
  {
   "cell_type": "code",
   "execution_count": 35,
   "metadata": {},
   "outputs": [
    {
     "data": {
      "application/vnd.vegalite.v2+json": {
       "$schema": "https://vega.github.io/schema/vega-lite/v2.6.0.json",
       "config": {
        "view": {
         "height": 300,
         "width": 400
        }
       },
       "datasets": {
        "data-8712fd25b13f11f698d44ffec8d94852": [
         {
          "Count of Techniques": 9,
          "Tactic": "exfiltration"
         },
         {
          "Count of Techniques": 11,
          "Tactic": "initial-access"
         },
         {
          "Count of Techniques": 13,
          "Tactic": "collection"
         },
         {
          "Count of Techniques": 14,
          "Tactic": "impact"
         },
         {
          "Count of Techniques": 17,
          "Tactic": "lateral-movement"
         },
         {
          "Count of Techniques": 19,
          "Tactic": "credential-access"
         },
         {
          "Count of Techniques": 21,
          "Tactic": "command-and-control"
         },
         {
          "Count of Techniques": 21,
          "Tactic": "discovery"
         },
         {
          "Count of Techniques": 28,
          "Tactic": "privilege-escalation"
         },
         {
          "Count of Techniques": 33,
          "Tactic": "execution"
         },
         {
          "Count of Techniques": 57,
          "Tactic": "persistence"
         },
         {
          "Count of Techniques": 65,
          "Tactic": "defense-evasion"
         }
        ]
       },
       "layer": [
        {
         "data": {
          "name": "data-8712fd25b13f11f698d44ffec8d94852"
         },
         "encoding": {
          "color": {
           "field": "Tactic",
           "type": "nominal"
          },
          "x": {
           "field": "Tactic",
           "type": "nominal"
          },
          "y": {
           "field": "Count of Techniques",
           "type": "quantitative"
          }
         },
         "height": 300,
         "mark": "bar",
         "width": 400
        },
        {
         "data": {
          "name": "data-8712fd25b13f11f698d44ffec8d94852"
         },
         "encoding": {
          "color": {
           "field": "Tactic",
           "type": "nominal"
          },
          "text": {
           "field": "Count of Techniques",
           "type": "quantitative"
          },
          "x": {
           "field": "Tactic",
           "type": "nominal"
          },
          "y": {
           "field": "Count of Techniques",
           "type": "quantitative"
          }
         },
         "height": 300,
         "mark": {
          "align": "center",
          "baseline": "middle",
          "dx": 0,
          "dy": -5,
          "type": "text"
         },
         "width": 400
        }
       ]
      },
      "image/png": "[encoded data removed]",
      "text/plain": [
       "<VegaLite 2 object>\n",
       "\n",
       "If you see this message, it means the renderer has not been properly enabled\n",
       "for the frontend that you are using. For more information, see\n",
       "https://altair-viz.github.io/user_guide/troubleshooting.html\n"
      ]
     },
     "execution_count": 35,
     "metadata": {},
     "output_type": "execute_result"
    }
   ],
   "source": [
    "tactic_distribution = pandas.DataFrame({\n",
    "    'Tactic': list(techniques_tactic_2.groupby(['tactic'])['tactic'].count().keys()),\n",
    "    'Count of Techniques': techniques_tactic_2.groupby(['tactic'])['tactic'].count().tolist()}).sort_values(by='Count of Techniques',ascending=True)\n",
    "bars = alt.Chart(tactic_distribution,width=800,height=300).mark_bar().encode(x ='Tactic',y='Count of Techniques',color='Tactic').properties(width=400)\n",
    "text = bars.mark_text(align='center',baseline='middle',dx=0,dy=-5).encode(text='Count of Techniques')\n",
    "bars + text"
   ]
  },
  {
   "cell_type": "markdown",
   "metadata": {},
   "source": [
    "Defende-evasion and Persistence are tactics with the highest nummber of techniques with data sources"
   ]
  },
  {
   "cell_type": "markdown",
   "metadata": {},
   "source": [
    "## 15. Grouping Techniques With Data Sources by Data Source"
   ]
  },
  {
   "cell_type": "markdown",
   "metadata": {},
   "source": [
    "We need to split the data source column values because a technique might be mapped to more than one data source:"
   ]
  },
  {
   "cell_type": "code",
   "execution_count": 36,
   "metadata": {},
   "outputs": [],
   "source": [
    "techniques_data_source=techniques_with_data_sources\n",
    "\n",
    "attributes_3 = ['data_sources'] # In attributes we are going to indicate the name of the columns that we need to split\n",
    "\n",
    "for a in attributes_3:\n",
    "    s = techniques_data_source.apply(lambda x: pandas.Series(x[a]),axis=1).stack().reset_index(level=1, drop=True)\n",
    "    # \"s\" is going to be a column of a frame with every value of the list inside each cell of the column \"a\"\n",
    "    s.name = a\n",
    "    # We name \"s\" with the same name of \"a\".\n",
    "    techniques_data_source = techniques_data_source.drop(a, axis=1).join(s).reset_index(drop=True)\n",
    "    # We drop the column \"a\" from \"techniques_data_source\", and then join \"techniques_data_source\" with \"s\"\n",
    "\n",
    "# Let's re-arrange the columns from general to specific\n",
    "techniques_data_source_2 = techniques_data_source.reindex(['matrix','platform','tactic','technique','technique_id','data_sources'], axis=1)\n",
    "\n",
    "# We are going to edit some names inside the dataframe to improve the consistency:\n",
    "techniques_data_source_3 = techniques_data_source_2.replace(['Process monitoring','Application logs'],['Process Monitoring','Application Logs'])"
   ]
  },
  {
   "cell_type": "markdown",
   "metadata": {},
   "source": [
    "We can now show techniques with data sources mapped to one data source at the time"
   ]
  },
  {
   "cell_type": "code",
   "execution_count": 37,
   "metadata": {},
   "outputs": [
    {
     "data": {
      "text/html": [
       "<div>\n",
       "<style scoped>\n",
       "    .dataframe tbody tr th:only-of-type {\n",
       "        vertical-align: middle;\n",
       "    }\n",
       "\n",
       "    .dataframe tbody tr th {\n",
       "        vertical-align: top;\n",
       "    }\n",
       "\n",
       "    .dataframe thead th {\n",
       "        text-align: right;\n",
       "    }\n",
       "</style>\n",
       "<table border=\"1\" class=\"dataframe\">\n",
       "  <thead>\n",
       "    <tr style=\"text-align: right;\">\n",
       "      <th></th>\n",
       "      <th>matrix</th>\n",
       "      <th>platform</th>\n",
       "      <th>tactic</th>\n",
       "      <th>technique</th>\n",
       "      <th>technique_id</th>\n",
       "      <th>data_sources</th>\n",
       "    </tr>\n",
       "  </thead>\n",
       "  <tbody>\n",
       "    <tr>\n",
       "      <th>0</th>\n",
       "      <td>mitre-attack</td>\n",
       "      <td>[Linux, macOS, Windows]</td>\n",
       "      <td>[defense-evasion]</td>\n",
       "      <td>Compile After Delivery</td>\n",
       "      <td>T1500</td>\n",
       "      <td>Process command-line parameters</td>\n",
       "    </tr>\n",
       "    <tr>\n",
       "      <th>1</th>\n",
       "      <td>mitre-attack</td>\n",
       "      <td>[Linux, macOS, Windows]</td>\n",
       "      <td>[defense-evasion]</td>\n",
       "      <td>Compile After Delivery</td>\n",
       "      <td>T1500</td>\n",
       "      <td>Process Monitoring</td>\n",
       "    </tr>\n",
       "    <tr>\n",
       "      <th>2</th>\n",
       "      <td>mitre-attack</td>\n",
       "      <td>[Linux, macOS, Windows]</td>\n",
       "      <td>[defense-evasion]</td>\n",
       "      <td>Compile After Delivery</td>\n",
       "      <td>T1500</td>\n",
       "      <td>File monitoring</td>\n",
       "    </tr>\n",
       "    <tr>\n",
       "      <th>3</th>\n",
       "      <td>mitre-attack</td>\n",
       "      <td>[Linux]</td>\n",
       "      <td>[persistence]</td>\n",
       "      <td>Systemd Service</td>\n",
       "      <td>T1501</td>\n",
       "      <td>Process command-line parameters</td>\n",
       "    </tr>\n",
       "    <tr>\n",
       "      <th>4</th>\n",
       "      <td>mitre-attack</td>\n",
       "      <td>[Linux]</td>\n",
       "      <td>[persistence]</td>\n",
       "      <td>Systemd Service</td>\n",
       "      <td>T1501</td>\n",
       "      <td>Process Monitoring</td>\n",
       "    </tr>\n",
       "  </tbody>\n",
       "</table>\n",
       "</div>"
      ],
      "text/plain": [
       "         matrix                 platform             tactic  \\\n",
       "0  mitre-attack  [Linux, macOS, Windows]  [defense-evasion]   \n",
       "1  mitre-attack  [Linux, macOS, Windows]  [defense-evasion]   \n",
       "2  mitre-attack  [Linux, macOS, Windows]  [defense-evasion]   \n",
       "3  mitre-attack                  [Linux]      [persistence]   \n",
       "4  mitre-attack                  [Linux]      [persistence]   \n",
       "\n",
       "                technique technique_id                     data_sources  \n",
       "0  Compile After Delivery        T1500  Process command-line parameters  \n",
       "1  Compile After Delivery        T1500               Process Monitoring  \n",
       "2  Compile After Delivery        T1500                  File monitoring  \n",
       "3         Systemd Service        T1501  Process command-line parameters  \n",
       "4         Systemd Service        T1501               Process Monitoring  "
      ]
     },
     "execution_count": 37,
     "metadata": {},
     "output_type": "execute_result"
    }
   ],
   "source": [
    "techniques_data_source_3.head()"
   ]
  },
  {
   "cell_type": "markdown",
   "metadata": {},
   "source": [
    "Let's create a visualization to show the number of techniques grouped by data sources:"
   ]
  },
  {
   "cell_type": "code",
   "execution_count": 38,
   "metadata": {},
   "outputs": [
    {
     "data": {
      "application/vnd.vegalite.v2+json": {
       "$schema": "https://vega.github.io/schema/vega-lite/v2.6.0.json",
       "config": {
        "view": {
         "height": 300,
         "width": 400
        }
       },
       "datasets": {
        "data-3d8b18347e124d71fa30f0d5c58b47b9": [
         {
          "Count of Techniques": 43,
          "Data Source": "API monitoring"
         },
         {
          "Count of Techniques": 1,
          "Data Source": "Access tokens"
         },
         {
          "Count of Techniques": 7,
          "Data Source": "Anti-virus"
         },
         {
          "Count of Techniques": 6,
          "Data Source": "Application Logs"
         },
         {
          "Count of Techniques": 1,
          "Data Source": "Asset management"
         },
         {
          "Count of Techniques": 28,
          "Data Source": "Authentication logs"
         },
         {
          "Count of Techniques": 3,
          "Data Source": "BIOS"
         },
         {
          "Count of Techniques": 18,
          "Data Source": "Binary file metadata"
         },
         {
          "Count of Techniques": 1,
          "Data Source": "Browser extensions"
         },
         {
          "Count of Techniques": 2,
          "Data Source": "Component firmware"
         },
         {
          "Count of Techniques": 18,
          "Data Source": "DLL monitoring"
         },
         {
          "Count of Techniques": 2,
          "Data Source": "DNS records"
         },
         {
          "Count of Techniques": 6,
          "Data Source": "Data loss prevention"
         },
         {
          "Count of Techniques": 2,
          "Data Source": "Detonation chamber"
         },
         {
          "Count of Techniques": 1,
          "Data Source": "Digital certificate logs"
         },
         {
          "Count of Techniques": 1,
          "Data Source": "Disk forensics"
         },
         {
          "Count of Techniques": 1,
          "Data Source": "EFI"
         },
         {
          "Count of Techniques": 4,
          "Data Source": "Email gateway"
         },
         {
          "Count of Techniques": 2,
          "Data Source": "Environment variable"
         },
         {
          "Count of Techniques": 97,
          "Data Source": "File monitoring"
         },
         {
          "Count of Techniques": 4,
          "Data Source": "Host network interface"
         },
         {
          "Count of Techniques": 7,
          "Data Source": "Kernel drivers"
         },
         {
          "Count of Techniques": 13,
          "Data Source": "Loaded DLLs"
         },
         {
          "Count of Techniques": 3,
          "Data Source": "MBR"
         },
         {
          "Count of Techniques": 2,
          "Data Source": "Mail server"
         },
         {
          "Count of Techniques": 9,
          "Data Source": "Malware reverse engineering"
         },
         {
          "Count of Techniques": 1,
          "Data Source": "Named Pipes"
         },
         {
          "Count of Techniques": 27,
          "Data Source": "Netflow/Enclave netflow"
         },
         {
          "Count of Techniques": 8,
          "Data Source": "Network device logs"
         },
         {
          "Count of Techniques": 9,
          "Data Source": "Network intrusion detection system"
         },
         {
          "Count of Techniques": 22,
          "Data Source": "Network protocol analysis"
         },
         {
          "Count of Techniques": 36,
          "Data Source": "Packet capture"
         },
         {
          "Count of Techniques": 4,
          "Data Source": "PowerShell logs"
         },
         {
          "Count of Techniques": 169,
          "Data Source": "Process Monitoring"
         },
         {
          "Count of Techniques": 97,
          "Data Source": "Process command-line parameters"
         },
         {
          "Count of Techniques": 39,
          "Data Source": "Process use of network"
         },
         {
          "Count of Techniques": 9,
          "Data Source": "SSL/TLS inspection"
         },
         {
          "Count of Techniques": 2,
          "Data Source": "Sensor health and status"
         },
         {
          "Count of Techniques": 4,
          "Data Source": "Services"
         },
         {
          "Count of Techniques": 9,
          "Data Source": "System calls"
         },
         {
          "Count of Techniques": 3,
          "Data Source": "Third-party application logs"
         },
         {
          "Count of Techniques": 4,
          "Data Source": "User interface"
         },
         {
          "Count of Techniques": 1,
          "Data Source": "VBR"
         },
         {
          "Count of Techniques": 1,
          "Data Source": "WMI Objects"
         },
         {
          "Count of Techniques": 3,
          "Data Source": "Web application firewall logs"
         },
         {
          "Count of Techniques": 4,
          "Data Source": "Web logs"
         },
         {
          "Count of Techniques": 4,
          "Data Source": "Web proxy"
         },
         {
          "Count of Techniques": 4,
          "Data Source": "Windows Error Reporting"
         },
         {
          "Count of Techniques": 36,
          "Data Source": "Windows Registry"
         },
         {
          "Count of Techniques": 22,
          "Data Source": "Windows event logs"
         }
        ]
       },
       "layer": [
        {
         "data": {
          "name": "data-3d8b18347e124d71fa30f0d5c58b47b9"
         },
         "encoding": {
          "color": {
           "field": "Data Source",
           "type": "nominal"
          },
          "x": {
           "field": "Data Source",
           "type": "nominal"
          },
          "y": {
           "field": "Count of Techniques",
           "type": "quantitative"
          }
         },
         "height": 300,
         "mark": "bar",
         "width": 1200
        },
        {
         "data": {
          "name": "data-3d8b18347e124d71fa30f0d5c58b47b9"
         },
         "encoding": {
          "color": {
           "field": "Data Source",
           "type": "nominal"
          },
          "text": {
           "field": "Count of Techniques",
           "type": "quantitative"
          },
          "x": {
           "field": "Data Source",
           "type": "nominal"
          },
          "y": {
           "field": "Count of Techniques",
           "type": "quantitative"
          }
         },
         "height": 300,
         "mark": {
          "align": "center",
          "baseline": "middle",
          "dx": 0,
          "dy": -5,
          "type": "text"
         },
         "width": 1200
        }
       ]
      },
      "image/png": "[encoded data removed]",
      "text/plain": [
       "<VegaLite 2 object>\n",
       "\n",
       "If you see this message, it means the renderer has not been properly enabled\n",
       "for the frontend that you are using. For more information, see\n",
       "https://altair-viz.github.io/user_guide/troubleshooting.html\n"
      ]
     },
     "execution_count": 38,
     "metadata": {},
     "output_type": "execute_result"
    }
   ],
   "source": [
    "data_source_distribution = pandas.DataFrame({\n",
    "    'Data Source': list(techniques_data_source_3.groupby(['data_sources'])['data_sources'].count().keys()),\n",
    "    'Count of Techniques': techniques_data_source_3.groupby(['data_sources'])['data_sources'].count().tolist()})\n",
    "bars = alt.Chart(data_source_distribution,width=800,height=300).mark_bar().encode(x ='Data Source',y='Count of Techniques',color='Data Source').properties(width=1200)\n",
    "text = bars.mark_text(align='center',baseline='middle',dx=0,dy=-5).encode(text='Count of Techniques')\n",
    "bars + text"
   ]
  },
  {
   "cell_type": "markdown",
   "metadata": {},
   "source": [
    "A few interesting things from the bar chart above:\n",
    "* Process Monitoring, File Monitoring, and Process Command-line parameters are the Data Sources with the highest number of techniques\n",
    "* There are some data source names that include string references to Windows such as PowerShell, Windows and wmi"
   ]
  },
  {
   "cell_type": "markdown",
   "metadata": {},
   "source": [
    "## 16. Most Relevant Groups Of Data Sources Per Technique"
   ]
  },
  {
   "cell_type": "markdown",
   "metadata": {},
   "source": [
    "### Number Of Data Sources Per Technique"
   ]
  },
  {
   "cell_type": "markdown",
   "metadata": {},
   "source": [
    "Although identifying the data sources with the highest number of techniques is a good start, they usually do not work alone. You might be collecting **Process Monitoring** already but you might be still missing a lot of context from a data perspective."
   ]
  },
  {
   "cell_type": "code",
   "execution_count": 39,
   "metadata": {},
   "outputs": [
    {
     "data": {
      "application/vnd.vegalite.v2+json": {
       "$schema": "https://vega.github.io/schema/vega-lite/v2.6.0.json",
       "config": {
        "view": {
         "height": 300,
         "width": 400
        }
       },
       "datasets": {
        "data-b1ca98c89dbb838b61f181abe8b233a7": [
         {
          "Count of Techniques": 21,
          "Number of Data Sources": 1
         },
         {
          "Count of Techniques": 50,
          "Number of Data Sources": 2
         },
         {
          "Count of Techniques": 73,
          "Number of Data Sources": 3
         },
         {
          "Count of Techniques": 56,
          "Number of Data Sources": 4
         },
         {
          "Count of Techniques": 18,
          "Number of Data Sources": 5
         },
         {
          "Count of Techniques": 13,
          "Number of Data Sources": 6
         },
         {
          "Count of Techniques": 8,
          "Number of Data Sources": 7
         },
         {
          "Count of Techniques": 1,
          "Number of Data Sources": 12
         }
        ]
       },
       "layer": [
        {
         "data": {
          "name": "data-b1ca98c89dbb838b61f181abe8b233a7"
         },
         "encoding": {
          "x": {
           "field": "Number of Data Sources",
           "type": "quantitative"
          },
          "y": {
           "field": "Count of Techniques",
           "type": "quantitative"
          }
         },
         "mark": "bar",
         "width": 500
        },
        {
         "data": {
          "name": "data-b1ca98c89dbb838b61f181abe8b233a7"
         },
         "encoding": {
          "text": {
           "field": "Count of Techniques",
           "type": "quantitative"
          },
          "x": {
           "field": "Number of Data Sources",
           "type": "quantitative"
          },
          "y": {
           "field": "Count of Techniques",
           "type": "quantitative"
          }
         },
         "mark": {
          "align": "center",
          "baseline": "middle",
          "dx": 0,
          "dy": -5,
          "type": "text"
         },
         "width": 500
        }
       ]
      },
      "image/png": "[encoded data removed]",
      "text/plain": [
       "<VegaLite 2 object>\n",
       "\n",
       "If you see this message, it means the renderer has not been properly enabled\n",
       "for the frontend that you are using. For more information, see\n",
       "https://altair-viz.github.io/user_guide/troubleshooting.html\n"
      ]
     },
     "execution_count": 39,
     "metadata": {},
     "output_type": "execute_result"
    }
   ],
   "source": [
    "data_source_distribution_2 = pandas.DataFrame({\n",
    "    'Techniques': list(techniques_data_source_3.groupby(['technique'])['technique'].count().keys()),\n",
    "    'Count of Data Sources': techniques_data_source_3.groupby(['technique'])['technique'].count().tolist()})\n",
    "\n",
    "data_source_distribution_3 = pandas.DataFrame({\n",
    "    'Number of Data Sources': list(data_source_distribution_2.groupby(['Count of Data Sources'])['Count of Data Sources'].count().keys()),\n",
    "    'Count of Techniques': data_source_distribution_2.groupby(['Count of Data Sources'])['Count of Data Sources'].count().tolist()})\n",
    "\n",
    "bars = alt.Chart(data_source_distribution_3).mark_bar().encode(x ='Number of Data Sources',y='Count of Techniques').properties(width=500)\n",
    "text = bars.mark_text(align='center',baseline='middle',dx=0,dy=-5).encode(text='Count of Techniques')\n",
    "bars + text"
   ]
  },
  {
   "cell_type": "markdown",
   "metadata": {},
   "source": [
    "The image above shows you the number data sources needed per techniques according to ATT&CK:\n",
    "* There are 71 techniques that require 3 data sources as enough context to validate the detection of them according to ATT&CK\n",
    "* Only one technique has 12 data sources\n",
    "* One data source only applies to 19 techniques"
   ]
  },
  {
   "cell_type": "markdown",
   "metadata": {},
   "source": [
    "Let's create subsets of data sources with the data source column defining and using a python function:"
   ]
  },
  {
   "cell_type": "code",
   "execution_count": 40,
   "metadata": {},
   "outputs": [],
   "source": [
    "# https://stackoverflow.com/questions/26332412/python-recursive-function-to-display-all-subsets-of-given-set\n",
    "def subs(l):\n",
    "    res = []\n",
    "    for i in range(1, len(l) + 1):\n",
    "        for combo in itertools.combinations(l, i):\n",
    "            res.append(list(combo))\n",
    "    return res"
   ]
  },
  {
   "cell_type": "markdown",
   "metadata": {},
   "source": [
    "Before applying the function, we need to use lowercase data sources names and sort data sources names to improve consistency:"
   ]
  },
  {
   "cell_type": "code",
   "execution_count": 41,
   "metadata": {},
   "outputs": [],
   "source": [
    "df = techniques_with_data_sources[['data_sources']]"
   ]
  },
  {
   "cell_type": "code",
   "execution_count": 42,
   "metadata": {},
   "outputs": [],
   "source": [
    "for index, row in df.iterrows():\n",
    "    row[\"data_sources\"]=[x.lower() for x in row[\"data_sources\"]]\n",
    "    row[\"data_sources\"].sort()"
   ]
  },
  {
   "cell_type": "code",
   "execution_count": 43,
   "metadata": {},
   "outputs": [
    {
     "data": {
      "text/html": [
       "<div>\n",
       "<style scoped>\n",
       "    .dataframe tbody tr th:only-of-type {\n",
       "        vertical-align: middle;\n",
       "    }\n",
       "\n",
       "    .dataframe tbody tr th {\n",
       "        vertical-align: top;\n",
       "    }\n",
       "\n",
       "    .dataframe thead th {\n",
       "        text-align: right;\n",
       "    }\n",
       "</style>\n",
       "<table border=\"1\" class=\"dataframe\">\n",
       "  <thead>\n",
       "    <tr style=\"text-align: right;\">\n",
       "      <th></th>\n",
       "      <th>data_sources</th>\n",
       "    </tr>\n",
       "  </thead>\n",
       "  <tbody>\n",
       "    <tr>\n",
       "      <th>0</th>\n",
       "      <td>[file monitoring, process command-line paramet...</td>\n",
       "    </tr>\n",
       "    <tr>\n",
       "      <th>1</th>\n",
       "      <td>[file monitoring, process command-line paramet...</td>\n",
       "    </tr>\n",
       "    <tr>\n",
       "      <th>2</th>\n",
       "      <td>[netflow/enclave netflow, network device logs,...</td>\n",
       "    </tr>\n",
       "    <tr>\n",
       "      <th>3</th>\n",
       "      <td>[process command-line parameters, process moni...</td>\n",
       "    </tr>\n",
       "    <tr>\n",
       "      <th>4</th>\n",
       "      <td>[netflow/enclave netflow, network device logs,...</td>\n",
       "    </tr>\n",
       "  </tbody>\n",
       "</table>\n",
       "</div>"
      ],
      "text/plain": [
       "                                        data_sources\n",
       "0  [file monitoring, process command-line paramet...\n",
       "1  [file monitoring, process command-line paramet...\n",
       "2  [netflow/enclave netflow, network device logs,...\n",
       "3  [process command-line parameters, process moni...\n",
       "4  [netflow/enclave netflow, network device logs,..."
      ]
     },
     "execution_count": 43,
     "metadata": {},
     "output_type": "execute_result"
    }
   ],
   "source": [
    "df.head()"
   ]
  },
  {
   "cell_type": "markdown",
   "metadata": {},
   "source": [
    "Let's apply the function and split the subsets column:"
   ]
  },
  {
   "cell_type": "code",
   "execution_count": 44,
   "metadata": {},
   "outputs": [
    {
     "name": "stderr",
     "output_type": "stream",
     "text": [
      "/usr/local/Cellar/ipython/7.3.0/libexec/vendor/lib/python3.7/site-packages/ipykernel_launcher.py:1: SettingWithCopyWarning: \n",
      "A value is trying to be set on a copy of a slice from a DataFrame.\n",
      "Try using .loc[row_indexer,col_indexer] = value instead\n",
      "\n",
      "See the caveats in the documentation: http://pandas.pydata.org/pandas-docs/stable/indexing.html#indexing-view-versus-copy\n",
      "  \"\"\"Entry point for launching an IPython kernel.\n"
     ]
    }
   ],
   "source": [
    "df['subsets']=df['data_sources'].apply(subs)"
   ]
  },
  {
   "cell_type": "code",
   "execution_count": 45,
   "metadata": {},
   "outputs": [
    {
     "data": {
      "text/html": [
       "<div>\n",
       "<style scoped>\n",
       "    .dataframe tbody tr th:only-of-type {\n",
       "        vertical-align: middle;\n",
       "    }\n",
       "\n",
       "    .dataframe tbody tr th {\n",
       "        vertical-align: top;\n",
       "    }\n",
       "\n",
       "    .dataframe thead th {\n",
       "        text-align: right;\n",
       "    }\n",
       "</style>\n",
       "<table border=\"1\" class=\"dataframe\">\n",
       "  <thead>\n",
       "    <tr style=\"text-align: right;\">\n",
       "      <th></th>\n",
       "      <th>data_sources</th>\n",
       "      <th>subsets</th>\n",
       "    </tr>\n",
       "  </thead>\n",
       "  <tbody>\n",
       "    <tr>\n",
       "      <th>0</th>\n",
       "      <td>[file monitoring, process command-line paramet...</td>\n",
       "      <td>[[file monitoring], [process command-line para...</td>\n",
       "    </tr>\n",
       "    <tr>\n",
       "      <th>1</th>\n",
       "      <td>[file monitoring, process command-line paramet...</td>\n",
       "      <td>[[file monitoring], [process command-line para...</td>\n",
       "    </tr>\n",
       "    <tr>\n",
       "      <th>2</th>\n",
       "      <td>[netflow/enclave netflow, network device logs,...</td>\n",
       "      <td>[[netflow/enclave netflow], [network device lo...</td>\n",
       "    </tr>\n",
       "    <tr>\n",
       "      <th>3</th>\n",
       "      <td>[process command-line parameters, process moni...</td>\n",
       "      <td>[[process command-line parameters], [process m...</td>\n",
       "    </tr>\n",
       "    <tr>\n",
       "      <th>4</th>\n",
       "      <td>[netflow/enclave netflow, network device logs,...</td>\n",
       "      <td>[[netflow/enclave netflow], [network device lo...</td>\n",
       "    </tr>\n",
       "  </tbody>\n",
       "</table>\n",
       "</div>"
      ],
      "text/plain": [
       "                                        data_sources  \\\n",
       "0  [file monitoring, process command-line paramet...   \n",
       "1  [file monitoring, process command-line paramet...   \n",
       "2  [netflow/enclave netflow, network device logs,...   \n",
       "3  [process command-line parameters, process moni...   \n",
       "4  [netflow/enclave netflow, network device logs,...   \n",
       "\n",
       "                                             subsets  \n",
       "0  [[file monitoring], [process command-line para...  \n",
       "1  [[file monitoring], [process command-line para...  \n",
       "2  [[netflow/enclave netflow], [network device lo...  \n",
       "3  [[process command-line parameters], [process m...  \n",
       "4  [[netflow/enclave netflow], [network device lo...  "
      ]
     },
     "execution_count": 45,
     "metadata": {},
     "output_type": "execute_result"
    }
   ],
   "source": [
    "df.head()"
   ]
  },
  {
   "cell_type": "markdown",
   "metadata": {},
   "source": [
    "We need to split the subsets column values:"
   ]
  },
  {
   "cell_type": "code",
   "execution_count": 46,
   "metadata": {},
   "outputs": [],
   "source": [
    "techniques_with_data_sources_preview = df"
   ]
  },
  {
   "cell_type": "code",
   "execution_count": 47,
   "metadata": {},
   "outputs": [],
   "source": [
    "attributes_4 = ['subsets']\n",
    "\n",
    "for a in attributes_4:\n",
    "    s = techniques_with_data_sources_preview.apply(lambda x: pandas.Series(x[a]),axis=1).stack().reset_index(level=1, drop=True)\n",
    "    s.name = a\n",
    "    techniques_with_data_sources_preview = techniques_with_data_sources_preview.drop(a, axis=1).join(s).reset_index(drop=True)\n",
    "    \n",
    "techniques_with_data_sources_subsets = techniques_with_data_sources_preview.reindex(['data_sources','subsets'], axis=1)\n"
   ]
  },
  {
   "cell_type": "code",
   "execution_count": 48,
   "metadata": {},
   "outputs": [
    {
     "data": {
      "text/html": [
       "<div>\n",
       "<style scoped>\n",
       "    .dataframe tbody tr th:only-of-type {\n",
       "        vertical-align: middle;\n",
       "    }\n",
       "\n",
       "    .dataframe tbody tr th {\n",
       "        vertical-align: top;\n",
       "    }\n",
       "\n",
       "    .dataframe thead th {\n",
       "        text-align: right;\n",
       "    }\n",
       "</style>\n",
       "<table border=\"1\" class=\"dataframe\">\n",
       "  <thead>\n",
       "    <tr style=\"text-align: right;\">\n",
       "      <th></th>\n",
       "      <th>data_sources</th>\n",
       "      <th>subsets</th>\n",
       "    </tr>\n",
       "  </thead>\n",
       "  <tbody>\n",
       "    <tr>\n",
       "      <th>0</th>\n",
       "      <td>[file monitoring, process command-line paramet...</td>\n",
       "      <td>[file monitoring]</td>\n",
       "    </tr>\n",
       "    <tr>\n",
       "      <th>1</th>\n",
       "      <td>[file monitoring, process command-line paramet...</td>\n",
       "      <td>[process command-line parameters]</td>\n",
       "    </tr>\n",
       "    <tr>\n",
       "      <th>2</th>\n",
       "      <td>[file monitoring, process command-line paramet...</td>\n",
       "      <td>[process monitoring]</td>\n",
       "    </tr>\n",
       "    <tr>\n",
       "      <th>3</th>\n",
       "      <td>[file monitoring, process command-line paramet...</td>\n",
       "      <td>[file monitoring, process command-line paramet...</td>\n",
       "    </tr>\n",
       "    <tr>\n",
       "      <th>4</th>\n",
       "      <td>[file monitoring, process command-line paramet...</td>\n",
       "      <td>[file monitoring, process monitoring]</td>\n",
       "    </tr>\n",
       "  </tbody>\n",
       "</table>\n",
       "</div>"
      ],
      "text/plain": [
       "                                        data_sources  \\\n",
       "0  [file monitoring, process command-line paramet...   \n",
       "1  [file monitoring, process command-line paramet...   \n",
       "2  [file monitoring, process command-line paramet...   \n",
       "3  [file monitoring, process command-line paramet...   \n",
       "4  [file monitoring, process command-line paramet...   \n",
       "\n",
       "                                             subsets  \n",
       "0                                  [file monitoring]  \n",
       "1                  [process command-line parameters]  \n",
       "2                               [process monitoring]  \n",
       "3  [file monitoring, process command-line paramet...  \n",
       "4              [file monitoring, process monitoring]  "
      ]
     },
     "execution_count": 48,
     "metadata": {},
     "output_type": "execute_result"
    }
   ],
   "source": [
    "techniques_with_data_sources_subsets.head()"
   ]
  },
  {
   "cell_type": "markdown",
   "metadata": {},
   "source": [
    "Let's add three columns to analyse the dataframe: subsets_name (Changing Lists to Strings), subsets_number_elements ( Number of data sources per subset) and number_data_sources_per_technique"
   ]
  },
  {
   "cell_type": "code",
   "execution_count": 49,
   "metadata": {},
   "outputs": [],
   "source": [
    "techniques_with_data_sources_subsets['subsets_name']=techniques_with_data_sources_subsets['subsets'].apply(lambda x: ','.join(map(str, x)))\n",
    "techniques_with_data_sources_subsets['subsets_number_elements']=techniques_with_data_sources_subsets['subsets'].str.len()\n",
    "techniques_with_data_sources_subsets['number_data_sources_per_technique']=techniques_with_data_sources_subsets['data_sources'].str.len()"
   ]
  },
  {
   "cell_type": "code",
   "execution_count": 50,
   "metadata": {},
   "outputs": [
    {
     "data": {
      "text/html": [
       "<div>\n",
       "<style scoped>\n",
       "    .dataframe tbody tr th:only-of-type {\n",
       "        vertical-align: middle;\n",
       "    }\n",
       "\n",
       "    .dataframe tbody tr th {\n",
       "        vertical-align: top;\n",
       "    }\n",
       "\n",
       "    .dataframe thead th {\n",
       "        text-align: right;\n",
       "    }\n",
       "</style>\n",
       "<table border=\"1\" class=\"dataframe\">\n",
       "  <thead>\n",
       "    <tr style=\"text-align: right;\">\n",
       "      <th></th>\n",
       "      <th>data_sources</th>\n",
       "      <th>subsets</th>\n",
       "      <th>subsets_name</th>\n",
       "      <th>subsets_number_elements</th>\n",
       "      <th>number_data_sources_per_technique</th>\n",
       "    </tr>\n",
       "  </thead>\n",
       "  <tbody>\n",
       "    <tr>\n",
       "      <th>0</th>\n",
       "      <td>[file monitoring, process command-line paramet...</td>\n",
       "      <td>[file monitoring]</td>\n",
       "      <td>file monitoring</td>\n",
       "      <td>1</td>\n",
       "      <td>3</td>\n",
       "    </tr>\n",
       "    <tr>\n",
       "      <th>1</th>\n",
       "      <td>[file monitoring, process command-line paramet...</td>\n",
       "      <td>[process command-line parameters]</td>\n",
       "      <td>process command-line parameters</td>\n",
       "      <td>1</td>\n",
       "      <td>3</td>\n",
       "    </tr>\n",
       "    <tr>\n",
       "      <th>2</th>\n",
       "      <td>[file monitoring, process command-line paramet...</td>\n",
       "      <td>[process monitoring]</td>\n",
       "      <td>process monitoring</td>\n",
       "      <td>1</td>\n",
       "      <td>3</td>\n",
       "    </tr>\n",
       "    <tr>\n",
       "      <th>3</th>\n",
       "      <td>[file monitoring, process command-line paramet...</td>\n",
       "      <td>[file monitoring, process command-line paramet...</td>\n",
       "      <td>file monitoring,process command-line parameters</td>\n",
       "      <td>2</td>\n",
       "      <td>3</td>\n",
       "    </tr>\n",
       "    <tr>\n",
       "      <th>4</th>\n",
       "      <td>[file monitoring, process command-line paramet...</td>\n",
       "      <td>[file monitoring, process monitoring]</td>\n",
       "      <td>file monitoring,process monitoring</td>\n",
       "      <td>2</td>\n",
       "      <td>3</td>\n",
       "    </tr>\n",
       "  </tbody>\n",
       "</table>\n",
       "</div>"
      ],
      "text/plain": [
       "                                        data_sources  \\\n",
       "0  [file monitoring, process command-line paramet...   \n",
       "1  [file monitoring, process command-line paramet...   \n",
       "2  [file monitoring, process command-line paramet...   \n",
       "3  [file monitoring, process command-line paramet...   \n",
       "4  [file monitoring, process command-line paramet...   \n",
       "\n",
       "                                             subsets  \\\n",
       "0                                  [file monitoring]   \n",
       "1                  [process command-line parameters]   \n",
       "2                               [process monitoring]   \n",
       "3  [file monitoring, process command-line paramet...   \n",
       "4              [file monitoring, process monitoring]   \n",
       "\n",
       "                                      subsets_name  subsets_number_elements  \\\n",
       "0                                  file monitoring                        1   \n",
       "1                  process command-line parameters                        1   \n",
       "2                               process monitoring                        1   \n",
       "3  file monitoring,process command-line parameters                        2   \n",
       "4               file monitoring,process monitoring                        2   \n",
       "\n",
       "   number_data_sources_per_technique  \n",
       "0                                  3  \n",
       "1                                  3  \n",
       "2                                  3  \n",
       "3                                  3  \n",
       "4                                  3  "
      ]
     },
     "execution_count": 50,
     "metadata": {},
     "output_type": "execute_result"
    }
   ],
   "source": [
    "techniques_with_data_sources_subsets.head()"
   ]
  },
  {
   "cell_type": "markdown",
   "metadata": {},
   "source": [
    "As it was described above, we need to find grups pf data sources, so we are going to filter out all the subsets with only one data source:"
   ]
  },
  {
   "cell_type": "code",
   "execution_count": 51,
   "metadata": {},
   "outputs": [],
   "source": [
    "subsets = techniques_with_data_sources_subsets\n",
    "\n",
    "subsets_ok=subsets[subsets.subsets_number_elements != 1]"
   ]
  },
  {
   "cell_type": "code",
   "execution_count": 52,
   "metadata": {},
   "outputs": [
    {
     "data": {
      "text/html": [
       "<div>\n",
       "<style scoped>\n",
       "    .dataframe tbody tr th:only-of-type {\n",
       "        vertical-align: middle;\n",
       "    }\n",
       "\n",
       "    .dataframe tbody tr th {\n",
       "        vertical-align: top;\n",
       "    }\n",
       "\n",
       "    .dataframe thead th {\n",
       "        text-align: right;\n",
       "    }\n",
       "</style>\n",
       "<table border=\"1\" class=\"dataframe\">\n",
       "  <thead>\n",
       "    <tr style=\"text-align: right;\">\n",
       "      <th></th>\n",
       "      <th>data_sources</th>\n",
       "      <th>subsets</th>\n",
       "      <th>subsets_name</th>\n",
       "      <th>subsets_number_elements</th>\n",
       "      <th>number_data_sources_per_technique</th>\n",
       "    </tr>\n",
       "  </thead>\n",
       "  <tbody>\n",
       "    <tr>\n",
       "      <th>3</th>\n",
       "      <td>[file monitoring, process command-line paramet...</td>\n",
       "      <td>[file monitoring, process command-line paramet...</td>\n",
       "      <td>file monitoring,process command-line parameters</td>\n",
       "      <td>2</td>\n",
       "      <td>3</td>\n",
       "    </tr>\n",
       "    <tr>\n",
       "      <th>4</th>\n",
       "      <td>[file monitoring, process command-line paramet...</td>\n",
       "      <td>[file monitoring, process monitoring]</td>\n",
       "      <td>file monitoring,process monitoring</td>\n",
       "      <td>2</td>\n",
       "      <td>3</td>\n",
       "    </tr>\n",
       "    <tr>\n",
       "      <th>5</th>\n",
       "      <td>[file monitoring, process command-line paramet...</td>\n",
       "      <td>[process command-line parameters, process moni...</td>\n",
       "      <td>process command-line parameters,process monito...</td>\n",
       "      <td>2</td>\n",
       "      <td>3</td>\n",
       "    </tr>\n",
       "    <tr>\n",
       "      <th>6</th>\n",
       "      <td>[file monitoring, process command-line paramet...</td>\n",
       "      <td>[file monitoring, process command-line paramet...</td>\n",
       "      <td>file monitoring,process command-line parameter...</td>\n",
       "      <td>3</td>\n",
       "      <td>3</td>\n",
       "    </tr>\n",
       "    <tr>\n",
       "      <th>10</th>\n",
       "      <td>[file monitoring, process command-line paramet...</td>\n",
       "      <td>[file monitoring, process command-line paramet...</td>\n",
       "      <td>file monitoring,process command-line parameters</td>\n",
       "      <td>2</td>\n",
       "      <td>3</td>\n",
       "    </tr>\n",
       "  </tbody>\n",
       "</table>\n",
       "</div>"
      ],
      "text/plain": [
       "                                         data_sources  \\\n",
       "3   [file monitoring, process command-line paramet...   \n",
       "4   [file monitoring, process command-line paramet...   \n",
       "5   [file monitoring, process command-line paramet...   \n",
       "6   [file monitoring, process command-line paramet...   \n",
       "10  [file monitoring, process command-line paramet...   \n",
       "\n",
       "                                              subsets  \\\n",
       "3   [file monitoring, process command-line paramet...   \n",
       "4               [file monitoring, process monitoring]   \n",
       "5   [process command-line parameters, process moni...   \n",
       "6   [file monitoring, process command-line paramet...   \n",
       "10  [file monitoring, process command-line paramet...   \n",
       "\n",
       "                                         subsets_name  \\\n",
       "3     file monitoring,process command-line parameters   \n",
       "4                  file monitoring,process monitoring   \n",
       "5   process command-line parameters,process monito...   \n",
       "6   file monitoring,process command-line parameter...   \n",
       "10    file monitoring,process command-line parameters   \n",
       "\n",
       "    subsets_number_elements  number_data_sources_per_technique  \n",
       "3                         2                                  3  \n",
       "4                         2                                  3  \n",
       "5                         2                                  3  \n",
       "6                         3                                  3  \n",
       "10                        2                                  3  "
      ]
     },
     "execution_count": 52,
     "metadata": {},
     "output_type": "execute_result"
    }
   ],
   "source": [
    "subsets_ok.head()"
   ]
  },
  {
   "cell_type": "markdown",
   "metadata": {},
   "source": [
    "Finally, we calculate the most relevant groups of data sources (Top 15):"
   ]
  },
  {
   "cell_type": "code",
   "execution_count": 53,
   "metadata": {},
   "outputs": [],
   "source": [
    "subsets_graph = subsets_ok.groupby(['subsets_name'])['subsets_name'].count().to_frame(name='subsets_count').sort_values(by='subsets_count',ascending=False)[0:15]"
   ]
  },
  {
   "cell_type": "code",
   "execution_count": 54,
   "metadata": {},
   "outputs": [
    {
     "data": {
      "text/html": [
       "<div>\n",
       "<style scoped>\n",
       "    .dataframe tbody tr th:only-of-type {\n",
       "        vertical-align: middle;\n",
       "    }\n",
       "\n",
       "    .dataframe tbody tr th {\n",
       "        vertical-align: top;\n",
       "    }\n",
       "\n",
       "    .dataframe thead th {\n",
       "        text-align: right;\n",
       "    }\n",
       "</style>\n",
       "<table border=\"1\" class=\"dataframe\">\n",
       "  <thead>\n",
       "    <tr style=\"text-align: right;\">\n",
       "      <th></th>\n",
       "      <th>subsets_count</th>\n",
       "    </tr>\n",
       "    <tr>\n",
       "      <th>subsets_name</th>\n",
       "      <th></th>\n",
       "    </tr>\n",
       "  </thead>\n",
       "  <tbody>\n",
       "    <tr>\n",
       "      <th>process command-line parameters,process monitoring</th>\n",
       "      <td>88</td>\n",
       "    </tr>\n",
       "    <tr>\n",
       "      <th>file monitoring,process monitoring</th>\n",
       "      <td>74</td>\n",
       "    </tr>\n",
       "    <tr>\n",
       "      <th>file monitoring,process command-line parameters</th>\n",
       "      <td>49</td>\n",
       "    </tr>\n",
       "    <tr>\n",
       "      <th>file monitoring,process command-line parameters,process monitoring</th>\n",
       "      <td>42</td>\n",
       "    </tr>\n",
       "    <tr>\n",
       "      <th>process monitoring,process use of network</th>\n",
       "      <td>33</td>\n",
       "    </tr>\n",
       "    <tr>\n",
       "      <th>api monitoring,process monitoring</th>\n",
       "      <td>32</td>\n",
       "    </tr>\n",
       "    <tr>\n",
       "      <th>process monitoring,windows registry</th>\n",
       "      <td>29</td>\n",
       "    </tr>\n",
       "    <tr>\n",
       "      <th>packet capture,process use of network</th>\n",
       "      <td>21</td>\n",
       "    </tr>\n",
       "    <tr>\n",
       "      <th>packet capture,process monitoring</th>\n",
       "      <td>19</td>\n",
       "    </tr>\n",
       "    <tr>\n",
       "      <th>netflow/enclave netflow,process monitoring</th>\n",
       "      <td>18</td>\n",
       "    </tr>\n",
       "    <tr>\n",
       "      <th>netflow/enclave netflow,process use of network</th>\n",
       "      <td>17</td>\n",
       "    </tr>\n",
       "    <tr>\n",
       "      <th>process command-line parameters,windows registry</th>\n",
       "      <td>17</td>\n",
       "    </tr>\n",
       "    <tr>\n",
       "      <th>netflow/enclave netflow,packet capture</th>\n",
       "      <td>17</td>\n",
       "    </tr>\n",
       "    <tr>\n",
       "      <th>process monitoring,windows event logs</th>\n",
       "      <td>16</td>\n",
       "    </tr>\n",
       "    <tr>\n",
       "      <th>packet capture,process monitoring,process use of network</th>\n",
       "      <td>16</td>\n",
       "    </tr>\n",
       "  </tbody>\n",
       "</table>\n",
       "</div>"
      ],
      "text/plain": [
       "                                                    subsets_count\n",
       "subsets_name                                                     \n",
       "process command-line parameters,process monitoring             88\n",
       "file monitoring,process monitoring                             74\n",
       "file monitoring,process command-line parameters                49\n",
       "file monitoring,process command-line parameters...             42\n",
       "process monitoring,process use of network                      33\n",
       "api monitoring,process monitoring                              32\n",
       "process monitoring,windows registry                            29\n",
       "packet capture,process use of network                          21\n",
       "packet capture,process monitoring                              19\n",
       "netflow/enclave netflow,process monitoring                     18\n",
       "netflow/enclave netflow,process use of network                 17\n",
       "process command-line parameters,windows registry               17\n",
       "netflow/enclave netflow,packet capture                         17\n",
       "process monitoring,windows event logs                          16\n",
       "packet capture,process monitoring,process use o...             16"
      ]
     },
     "execution_count": 54,
     "metadata": {},
     "output_type": "execute_result"
    }
   ],
   "source": [
    "subsets_graph"
   ]
  },
  {
   "cell_type": "code",
   "execution_count": 55,
   "metadata": {},
   "outputs": [
    {
     "data": {
      "application/vnd.vegalite.v2+json": {
       "$schema": "https://vega.github.io/schema/vega-lite/v2.6.0.json",
       "config": {
        "view": {
         "height": 300,
         "width": 400
        }
       },
       "datasets": {
        "data-48dee17f09c6622cd09e1362aa43116f": [
         {
          "Count of Techniques": 88,
          "Data Sources": "process command-line parameters,process monitoring"
         },
         {
          "Count of Techniques": 74,
          "Data Sources": "file monitoring,process monitoring"
         },
         {
          "Count of Techniques": 49,
          "Data Sources": "file monitoring,process command-line parameters"
         },
         {
          "Count of Techniques": 42,
          "Data Sources": "file monitoring,process command-line parameters,process monitoring"
         },
         {
          "Count of Techniques": 33,
          "Data Sources": "process monitoring,process use of network"
         },
         {
          "Count of Techniques": 32,
          "Data Sources": "api monitoring,process monitoring"
         },
         {
          "Count of Techniques": 29,
          "Data Sources": "process monitoring,windows registry"
         },
         {
          "Count of Techniques": 21,
          "Data Sources": "packet capture,process use of network"
         },
         {
          "Count of Techniques": 19,
          "Data Sources": "packet capture,process monitoring"
         },
         {
          "Count of Techniques": 18,
          "Data Sources": "netflow/enclave netflow,process monitoring"
         },
         {
          "Count of Techniques": 17,
          "Data Sources": "netflow/enclave netflow,process use of network"
         },
         {
          "Count of Techniques": 17,
          "Data Sources": "process command-line parameters,windows registry"
         },
         {
          "Count of Techniques": 17,
          "Data Sources": "netflow/enclave netflow,packet capture"
         },
         {
          "Count of Techniques": 16,
          "Data Sources": "process monitoring,windows event logs"
         },
         {
          "Count of Techniques": 16,
          "Data Sources": "packet capture,process monitoring,process use of network"
         }
        ]
       },
       "layer": [
        {
         "data": {
          "name": "data-48dee17f09c6622cd09e1362aa43116f"
         },
         "encoding": {
          "color": {
           "field": "Data Sources",
           "type": "nominal"
          },
          "x": {
           "field": "Data Sources",
           "type": "nominal"
          },
          "y": {
           "field": "Count of Techniques",
           "type": "quantitative"
          }
         },
         "mark": "bar",
         "width": 500
        },
        {
         "data": {
          "name": "data-48dee17f09c6622cd09e1362aa43116f"
         },
         "encoding": {
          "color": {
           "field": "Data Sources",
           "type": "nominal"
          },
          "text": {
           "field": "Count of Techniques",
           "type": "quantitative"
          },
          "x": {
           "field": "Data Sources",
           "type": "nominal"
          },
          "y": {
           "field": "Count of Techniques",
           "type": "quantitative"
          }
         },
         "mark": {
          "align": "center",
          "baseline": "middle",
          "dx": 0,
          "dy": -5,
          "type": "text"
         },
         "width": 500
        }
       ]
      },
      "image/png": "[encoded data removed]",
      "text/plain": [
       "<VegaLite 2 object>\n",
       "\n",
       "If you see this message, it means the renderer has not been properly enabled\n",
       "for the frontend that you are using. For more information, see\n",
       "https://altair-viz.github.io/user_guide/troubleshooting.html\n"
      ]
     },
     "execution_count": 55,
     "metadata": {},
     "output_type": "execute_result"
    }
   ],
   "source": [
    "subsets_graph_2 = pandas.DataFrame({\n",
    "    'Data Sources': list(subsets_graph.index),\n",
    "    'Count of Techniques': subsets_graph['subsets_count'].tolist()})\n",
    "\n",
    "bars = alt.Chart(subsets_graph_2).mark_bar().encode(x ='Data Sources', y ='Count of Techniques', color='Data Sources').properties(width=500)\n",
    "text = bars.mark_text(align='center',baseline='middle',dx= 0,dy=-5).encode(text='Count of Techniques')\n",
    "bars + text"
   ]
  },
  {
   "cell_type": "markdown",
   "metadata": {},
   "source": [
    "Group (Process Monitoring - Process Command-line parameters) is the is the group of data sources with the highest number of techniques. This group of data sources are suggested to hunt 78 techniques"
   ]
  },
  {
   "cell_type": "markdown",
   "metadata": {},
   "source": [
    "## 17. Let's Split all the Information About Techniques With Data Sources Defined: Matrix, Platform, Tactic and Data Source"
   ]
  },
  {
   "cell_type": "markdown",
   "metadata": {},
   "source": [
    "Let's split all the relevant columns of the dataframe:"
   ]
  },
  {
   "cell_type": "code",
   "execution_count": 56,
   "metadata": {},
   "outputs": [
    {
     "data": {
      "text/html": [
       "<div>\n",
       "<style scoped>\n",
       "    .dataframe tbody tr th:only-of-type {\n",
       "        vertical-align: middle;\n",
       "    }\n",
       "\n",
       "    .dataframe tbody tr th {\n",
       "        vertical-align: top;\n",
       "    }\n",
       "\n",
       "    .dataframe thead th {\n",
       "        text-align: right;\n",
       "    }\n",
       "</style>\n",
       "<table border=\"1\" class=\"dataframe\">\n",
       "  <thead>\n",
       "    <tr style=\"text-align: right;\">\n",
       "      <th></th>\n",
       "      <th>matrix</th>\n",
       "      <th>platform</th>\n",
       "      <th>tactic</th>\n",
       "      <th>technique</th>\n",
       "      <th>technique_id</th>\n",
       "      <th>data_sources</th>\n",
       "    </tr>\n",
       "  </thead>\n",
       "  <tbody>\n",
       "    <tr>\n",
       "      <th>0</th>\n",
       "      <td>mitre-attack</td>\n",
       "      <td>Linux</td>\n",
       "      <td>defense-evasion</td>\n",
       "      <td>Compile After Delivery</td>\n",
       "      <td>T1500</td>\n",
       "      <td>Process command-line parameters</td>\n",
       "    </tr>\n",
       "    <tr>\n",
       "      <th>1</th>\n",
       "      <td>mitre-attack</td>\n",
       "      <td>Linux</td>\n",
       "      <td>defense-evasion</td>\n",
       "      <td>Compile After Delivery</td>\n",
       "      <td>T1500</td>\n",
       "      <td>Process Monitoring</td>\n",
       "    </tr>\n",
       "    <tr>\n",
       "      <th>2</th>\n",
       "      <td>mitre-attack</td>\n",
       "      <td>Linux</td>\n",
       "      <td>defense-evasion</td>\n",
       "      <td>Compile After Delivery</td>\n",
       "      <td>T1500</td>\n",
       "      <td>File monitoring</td>\n",
       "    </tr>\n",
       "    <tr>\n",
       "      <th>3</th>\n",
       "      <td>mitre-attack</td>\n",
       "      <td>macOS</td>\n",
       "      <td>defense-evasion</td>\n",
       "      <td>Compile After Delivery</td>\n",
       "      <td>T1500</td>\n",
       "      <td>Process command-line parameters</td>\n",
       "    </tr>\n",
       "    <tr>\n",
       "      <th>4</th>\n",
       "      <td>mitre-attack</td>\n",
       "      <td>macOS</td>\n",
       "      <td>defense-evasion</td>\n",
       "      <td>Compile After Delivery</td>\n",
       "      <td>T1500</td>\n",
       "      <td>Process Monitoring</td>\n",
       "    </tr>\n",
       "  </tbody>\n",
       "</table>\n",
       "</div>"
      ],
      "text/plain": [
       "         matrix platform           tactic               technique  \\\n",
       "0  mitre-attack    Linux  defense-evasion  Compile After Delivery   \n",
       "1  mitre-attack    Linux  defense-evasion  Compile After Delivery   \n",
       "2  mitre-attack    Linux  defense-evasion  Compile After Delivery   \n",
       "3  mitre-attack    macOS  defense-evasion  Compile After Delivery   \n",
       "4  mitre-attack    macOS  defense-evasion  Compile After Delivery   \n",
       "\n",
       "  technique_id                     data_sources  \n",
       "0        T1500  Process command-line parameters  \n",
       "1        T1500               Process Monitoring  \n",
       "2        T1500                  File monitoring  \n",
       "3        T1500  Process command-line parameters  \n",
       "4        T1500               Process Monitoring  "
      ]
     },
     "execution_count": 56,
     "metadata": {},
     "output_type": "execute_result"
    }
   ],
   "source": [
    "techniques_data = techniques_with_data_sources\n",
    "\n",
    "attributes = ['platform','tactic','data_sources'] # In attributes we are going to indicate the name of the columns that we need to split\n",
    "\n",
    "for a in attributes:\n",
    "    s = techniques_data.apply(lambda x: pandas.Series(x[a]),axis=1).stack().reset_index(level=1, drop=True)\n",
    "    # \"s\" is going to be a column of a frame with every value of the list inside each cell of the column \"a\"\n",
    "    s.name = a\n",
    "    # We name \"s\" with the same name of \"a\".\n",
    "    techniques_data=techniques_data.drop(a, axis=1).join(s).reset_index(drop=True)\n",
    "    # We drop the column \"a\" from \"techniques_data\", and then join \"techniques_data\" with \"s\"\n",
    "\n",
    "# Let's re-arrange the columns from general to specific\n",
    "techniques_data_2=techniques_data.reindex(['matrix','platform','tactic','technique','technique_id','data_sources'], axis=1)\n",
    "\n",
    "# We are going to edit some names inside the dataframe to improve the consistency:\n",
    "techniques_data_3 = techniques_data_2.replace(['Process monitoring','Application logs'],['Process Monitoring','Application Logs'])\n",
    "\n",
    "techniques_data_3.head()"
   ]
  },
  {
   "cell_type": "markdown",
   "metadata": {},
   "source": [
    "Do you remember data sources names with a reference to Windows? After splitting the dataframe by platforms, tactics and data sources, are there any macOC or linux techniques that consider windows data sources? Let's identify those rows:"
   ]
  },
  {
   "cell_type": "code",
   "execution_count": 57,
   "metadata": {},
   "outputs": [],
   "source": [
    "# After splitting the rows of the dataframe, there are some values that relate windows data sources with platforms like linux and masOS.\n",
    "# We need to identify those rows\n",
    "conditions = [(techniques_data_3['platform']=='Linux')&(techniques_data_3['data_sources'].str.contains('windows',case=False)== True),\n",
    "             (techniques_data_3['platform']=='macOS')&(techniques_data_3['data_sources'].str.contains('windows',case=False)== True),\n",
    "             (techniques_data_3['platform']=='Linux')&(techniques_data_3['data_sources'].str.contains('powershell',case=False)== True),\n",
    "             (techniques_data_3['platform']=='macOS')&(techniques_data_3['data_sources'].str.contains('powershell',case=False)== True),\n",
    "             (techniques_data_3['platform']=='Linux')&(techniques_data_3['data_sources'].str.contains('wmi',case=False)== True),\n",
    "             (techniques_data_3['platform']=='macOS')&(techniques_data_3['data_sources'].str.contains('wmi',case=False)== True)]\n",
    "# In conditions we indicate a logical test\n",
    "\n",
    "choices = ['NO OK','NO OK','NO OK','NO OK','NO OK','NO OK']\n",
    "# In choices, we indicate the result when the logical test is true\n",
    "\n",
    "techniques_data_3['Validation'] = np.select(conditions,choices,default='OK')\n",
    "# We add a column \"Validation\" to \"techniques_data_3\" with the result of the logical test. The default value is going to be \"OK\""
   ]
  },
  {
   "cell_type": "markdown",
   "metadata": {},
   "source": [
    "What is the inconsistent data?"
   ]
  },
  {
   "cell_type": "code",
   "execution_count": 58,
   "metadata": {},
   "outputs": [
    {
     "data": {
      "text/html": [
       "<div>\n",
       "<style scoped>\n",
       "    .dataframe tbody tr th:only-of-type {\n",
       "        vertical-align: middle;\n",
       "    }\n",
       "\n",
       "    .dataframe tbody tr th {\n",
       "        vertical-align: top;\n",
       "    }\n",
       "\n",
       "    .dataframe thead th {\n",
       "        text-align: right;\n",
       "    }\n",
       "</style>\n",
       "<table border=\"1\" class=\"dataframe\">\n",
       "  <thead>\n",
       "    <tr style=\"text-align: right;\">\n",
       "      <th></th>\n",
       "      <th>matrix</th>\n",
       "      <th>platform</th>\n",
       "      <th>tactic</th>\n",
       "      <th>technique</th>\n",
       "      <th>technique_id</th>\n",
       "      <th>data_sources</th>\n",
       "      <th>Validation</th>\n",
       "    </tr>\n",
       "  </thead>\n",
       "  <tbody>\n",
       "    <tr>\n",
       "      <th>105</th>\n",
       "      <td>mitre-attack</td>\n",
       "      <td>macOS</td>\n",
       "      <td>impact</td>\n",
       "      <td>Inhibit System Recovery</td>\n",
       "      <td>T1490</td>\n",
       "      <td>Windows Registry</td>\n",
       "      <td>NO OK</td>\n",
       "    </tr>\n",
       "    <tr>\n",
       "      <th>107</th>\n",
       "      <td>mitre-attack</td>\n",
       "      <td>macOS</td>\n",
       "      <td>impact</td>\n",
       "      <td>Inhibit System Recovery</td>\n",
       "      <td>T1490</td>\n",
       "      <td>Windows event logs</td>\n",
       "      <td>NO OK</td>\n",
       "    </tr>\n",
       "    <tr>\n",
       "      <th>110</th>\n",
       "      <td>mitre-attack</td>\n",
       "      <td>Linux</td>\n",
       "      <td>impact</td>\n",
       "      <td>Inhibit System Recovery</td>\n",
       "      <td>T1490</td>\n",
       "      <td>Windows Registry</td>\n",
       "      <td>NO OK</td>\n",
       "    </tr>\n",
       "    <tr>\n",
       "      <th>112</th>\n",
       "      <td>mitre-attack</td>\n",
       "      <td>Linux</td>\n",
       "      <td>impact</td>\n",
       "      <td>Inhibit System Recovery</td>\n",
       "      <td>T1490</td>\n",
       "      <td>Windows event logs</td>\n",
       "      <td>NO OK</td>\n",
       "    </tr>\n",
       "    <tr>\n",
       "      <th>187</th>\n",
       "      <td>mitre-attack</td>\n",
       "      <td>Linux</td>\n",
       "      <td>defense-evasion</td>\n",
       "      <td>File Permissions Modification</td>\n",
       "      <td>T1222</td>\n",
       "      <td>Windows event logs</td>\n",
       "      <td>NO OK</td>\n",
       "    </tr>\n",
       "  </tbody>\n",
       "</table>\n",
       "</div>"
      ],
      "text/plain": [
       "           matrix platform           tactic                      technique  \\\n",
       "105  mitre-attack    macOS           impact        Inhibit System Recovery   \n",
       "107  mitre-attack    macOS           impact        Inhibit System Recovery   \n",
       "110  mitre-attack    Linux           impact        Inhibit System Recovery   \n",
       "112  mitre-attack    Linux           impact        Inhibit System Recovery   \n",
       "187  mitre-attack    Linux  defense-evasion  File Permissions Modification   \n",
       "\n",
       "    technique_id        data_sources Validation  \n",
       "105        T1490    Windows Registry      NO OK  \n",
       "107        T1490  Windows event logs      NO OK  \n",
       "110        T1490    Windows Registry      NO OK  \n",
       "112        T1490  Windows event logs      NO OK  \n",
       "187        T1222  Windows event logs      NO OK  "
      ]
     },
     "execution_count": 58,
     "metadata": {},
     "output_type": "execute_result"
    }
   ],
   "source": [
    "techniques_analysis_data_no_ok = techniques_data_3[techniques_data_3.Validation == 'NO OK']\n",
    "# Finally, we are filtering all the values with NO OK\n",
    "\n",
    "techniques_analysis_data_no_ok.head()"
   ]
  },
  {
   "cell_type": "code",
   "execution_count": 59,
   "metadata": {},
   "outputs": [
    {
     "name": "stdout",
     "output_type": "stream",
     "text": [
      "There are  37  rows with inconsistent data\n"
     ]
    }
   ],
   "source": [
    "print('There are ',len(techniques_analysis_data_no_ok),' rows with inconsistent data')"
   ]
  },
  {
   "cell_type": "markdown",
   "metadata": {},
   "source": [
    "What is the impact of this inconsistent data from a platform and data sources perspective?"
   ]
  },
  {
   "cell_type": "code",
   "execution_count": 60,
   "metadata": {},
   "outputs": [],
   "source": [
    "df = techniques_with_data_sources\n",
    "\n",
    "attributes = ['platform','data_sources']\n",
    "\n",
    "for a in attributes:\n",
    "    s = df.apply(lambda x: pandas.Series(x[a]),axis=1).stack().reset_index(level=1, drop=True)\n",
    "    s.name = a\n",
    "    df=df.drop(a, axis=1).join(s).reset_index(drop=True)\n",
    "    \n",
    "df_2=df.reindex(['matrix','platform','tactic','technique','technique_id','data_sources'], axis=1)\n",
    "df_3 = df_2.replace(['Process monitoring','Application logs'],['Process Monitoring','Application Logs'])\n",
    "\n",
    "conditions = [(df_3['data_sources'].str.contains('windows',case=False)== True),\n",
    "              (df_3['data_sources'].str.contains('powershell',case=False)== True),\n",
    "              (df_3['data_sources'].str.contains('wmi',case=False)== True)]\n",
    "\n",
    "choices = ['Windows','Windows','Windows']\n",
    "\n",
    "df_3['Validation'] = np.select(conditions,choices,default='Other')\n",
    "df_3['Num_Tech'] = 1\n",
    "df_4 = df_3[df_3.Validation == 'Windows']\n",
    "df_5 = df_4.groupby(['data_sources','platform'])['technique'].nunique()\n",
    "df_6 = df_5.to_frame().reset_index()"
   ]
  },
  {
   "cell_type": "code",
   "execution_count": 61,
   "metadata": {},
   "outputs": [
    {
     "data": {
      "application/vnd.vegalite.v2+json": {
       "$schema": "https://vega.github.io/schema/vega-lite/v2.6.0.json",
       "config": {
        "view": {
         "height": 300,
         "width": 400
        }
       },
       "data": {
        "name": "data-80ff2ad4d82713c24e6d413241ac9bea"
       },
       "datasets": {
        "data-80ff2ad4d82713c24e6d413241ac9bea": [
         {
          "data_sources": "PowerShell logs",
          "platform": "Linux",
          "technique": 1
         },
         {
          "data_sources": "PowerShell logs",
          "platform": "Windows",
          "technique": 4
         },
         {
          "data_sources": "PowerShell logs",
          "platform": "macOS",
          "technique": 2
         },
         {
          "data_sources": "WMI Objects",
          "platform": "Windows",
          "technique": 1
         },
         {
          "data_sources": "Windows Error Reporting",
          "platform": "Linux",
          "technique": 4
         },
         {
          "data_sources": "Windows Error Reporting",
          "platform": "Windows",
          "technique": 4
         },
         {
          "data_sources": "Windows Error Reporting",
          "platform": "macOS",
          "technique": 4
         },
         {
          "data_sources": "Windows Registry",
          "platform": "Linux",
          "technique": 5
         },
         {
          "data_sources": "Windows Registry",
          "platform": "Windows",
          "technique": 36
         },
         {
          "data_sources": "Windows Registry",
          "platform": "macOS",
          "technique": 5
         },
         {
          "data_sources": "Windows event logs",
          "platform": "Linux",
          "technique": 5
         },
         {
          "data_sources": "Windows event logs",
          "platform": "Windows",
          "technique": 22
         },
         {
          "data_sources": "Windows event logs",
          "platform": "macOS",
          "technique": 5
         }
        ]
       },
       "encoding": {
        "color": {
         "field": "platform",
         "type": "nominal"
        },
        "x": {
         "field": "technique",
         "stack": "normalize",
         "type": "quantitative"
        },
        "y": {
         "field": "data_sources",
         "type": "nominal"
        }
       },
       "height": 200,
       "mark": "bar"
      },
      "image/png": "[encoded data removed]",
      "text/plain": [
       "<VegaLite 2 object>\n",
       "\n",
       "If you see this message, it means the renderer has not been properly enabled\n",
       "for the frontend that you are using. For more information, see\n",
       "https://altair-viz.github.io/user_guide/troubleshooting.html\n"
      ]
     },
     "execution_count": 61,
     "metadata": {},
     "output_type": "execute_result"
    }
   ],
   "source": [
    "alt.Chart(df_6).mark_bar().encode(x=alt.X('technique', stack=\"normalize\"),    y='data_sources',    color='platform').properties(height=200)"
   ]
  },
  {
   "cell_type": "markdown",
   "metadata": {},
   "source": [
    "There are techniques that consider Windows Error Reporting, Windows Registry, and Windows event logs as data sources and they also consider platforms like Linux and masOS. We do not need to consider this rows because those data sources can only be managed at a Windows environment. These are the techniques that we should not consider in our data base:"
   ]
  },
  {
   "cell_type": "code",
   "execution_count": 62,
   "metadata": {},
   "outputs": [
    {
     "data": {
      "text/html": [
       "<div>\n",
       "<style scoped>\n",
       "    .dataframe tbody tr th:only-of-type {\n",
       "        vertical-align: middle;\n",
       "    }\n",
       "\n",
       "    .dataframe tbody tr th {\n",
       "        vertical-align: top;\n",
       "    }\n",
       "\n",
       "    .dataframe thead th {\n",
       "        text-align: right;\n",
       "    }\n",
       "</style>\n",
       "<table border=\"1\" class=\"dataframe\">\n",
       "  <thead>\n",
       "    <tr style=\"text-align: right;\">\n",
       "      <th></th>\n",
       "      <th>technique</th>\n",
       "      <th>data_sources</th>\n",
       "    </tr>\n",
       "  </thead>\n",
       "  <tbody>\n",
       "    <tr>\n",
       "      <th>666</th>\n",
       "      <td>Input Prompt</td>\n",
       "      <td>PowerShell logs</td>\n",
       "    </tr>\n",
       "    <tr>\n",
       "      <th>1990</th>\n",
       "      <td>Credential Dumping</td>\n",
       "      <td>PowerShell logs</td>\n",
       "    </tr>\n",
       "    <tr>\n",
       "      <th>306</th>\n",
       "      <td>Exploitation for Defense Evasion</td>\n",
       "      <td>Windows Error Reporting</td>\n",
       "    </tr>\n",
       "    <tr>\n",
       "      <th>315</th>\n",
       "      <td>Exploitation of Remote Services</td>\n",
       "      <td>Windows Error Reporting</td>\n",
       "    </tr>\n",
       "    <tr>\n",
       "      <th>388</th>\n",
       "      <td>Exploitation for Credential Access</td>\n",
       "      <td>Windows Error Reporting</td>\n",
       "    </tr>\n",
       "    <tr>\n",
       "      <th>1384</th>\n",
       "      <td>Exploitation for Privilege Escalation</td>\n",
       "      <td>Windows Error Reporting</td>\n",
       "    </tr>\n",
       "    <tr>\n",
       "      <th>105</th>\n",
       "      <td>Inhibit System Recovery</td>\n",
       "      <td>Windows Registry</td>\n",
       "    </tr>\n",
       "    <tr>\n",
       "      <th>1182</th>\n",
       "      <td>Disabling Security Tools</td>\n",
       "      <td>Windows Registry</td>\n",
       "    </tr>\n",
       "    <tr>\n",
       "      <th>1311</th>\n",
       "      <td>Third-party Software</td>\n",
       "      <td>Windows Registry</td>\n",
       "    </tr>\n",
       "    <tr>\n",
       "      <th>1480</th>\n",
       "      <td>Input Capture</td>\n",
       "      <td>Windows Registry</td>\n",
       "    </tr>\n",
       "    <tr>\n",
       "      <th>1505</th>\n",
       "      <td>Process Injection</td>\n",
       "      <td>Windows Registry</td>\n",
       "    </tr>\n",
       "    <tr>\n",
       "      <th>107</th>\n",
       "      <td>Inhibit System Recovery</td>\n",
       "      <td>Windows event logs</td>\n",
       "    </tr>\n",
       "    <tr>\n",
       "      <th>187</th>\n",
       "      <td>File Permissions Modification</td>\n",
       "      <td>Windows event logs</td>\n",
       "    </tr>\n",
       "    <tr>\n",
       "      <th>630</th>\n",
       "      <td>Create Account</td>\n",
       "      <td>Windows event logs</td>\n",
       "    </tr>\n",
       "    <tr>\n",
       "      <th>1364</th>\n",
       "      <td>Indicator Removal on Host</td>\n",
       "      <td>Windows event logs</td>\n",
       "    </tr>\n",
       "    <tr>\n",
       "      <th>1781</th>\n",
       "      <td>Obfuscated Files or Information</td>\n",
       "      <td>Windows event logs</td>\n",
       "    </tr>\n",
       "  </tbody>\n",
       "</table>\n",
       "</div>"
      ],
      "text/plain": [
       "                                  technique             data_sources\n",
       "666                            Input Prompt          PowerShell logs\n",
       "1990                     Credential Dumping          PowerShell logs\n",
       "306        Exploitation for Defense Evasion  Windows Error Reporting\n",
       "315         Exploitation of Remote Services  Windows Error Reporting\n",
       "388      Exploitation for Credential Access  Windows Error Reporting\n",
       "1384  Exploitation for Privilege Escalation  Windows Error Reporting\n",
       "105                 Inhibit System Recovery         Windows Registry\n",
       "1182               Disabling Security Tools         Windows Registry\n",
       "1311                   Third-party Software         Windows Registry\n",
       "1480                          Input Capture         Windows Registry\n",
       "1505                      Process Injection         Windows Registry\n",
       "107                 Inhibit System Recovery       Windows event logs\n",
       "187           File Permissions Modification       Windows event logs\n",
       "630                          Create Account       Windows event logs\n",
       "1364              Indicator Removal on Host       Windows event logs\n",
       "1781        Obfuscated Files or Information       Windows event logs"
      ]
     },
     "execution_count": 62,
     "metadata": {},
     "output_type": "execute_result"
    }
   ],
   "source": [
    "techniques_analysis_data_no_ok[['technique','data_sources']].drop_duplicates().sort_values(by='data_sources',ascending=True)"
   ]
  },
  {
   "cell_type": "markdown",
   "metadata": {},
   "source": [
    "Without considering this inconsistent data, the final dataframe is:"
   ]
  },
  {
   "cell_type": "code",
   "execution_count": 63,
   "metadata": {},
   "outputs": [
    {
     "data": {
      "text/html": [
       "<div>\n",
       "<style scoped>\n",
       "    .dataframe tbody tr th:only-of-type {\n",
       "        vertical-align: middle;\n",
       "    }\n",
       "\n",
       "    .dataframe tbody tr th {\n",
       "        vertical-align: top;\n",
       "    }\n",
       "\n",
       "    .dataframe thead th {\n",
       "        text-align: right;\n",
       "    }\n",
       "</style>\n",
       "<table border=\"1\" class=\"dataframe\">\n",
       "  <thead>\n",
       "    <tr style=\"text-align: right;\">\n",
       "      <th></th>\n",
       "      <th>matrix</th>\n",
       "      <th>platform</th>\n",
       "      <th>tactic</th>\n",
       "      <th>technique</th>\n",
       "      <th>technique_id</th>\n",
       "      <th>data_sources</th>\n",
       "      <th>Validation</th>\n",
       "    </tr>\n",
       "  </thead>\n",
       "  <tbody>\n",
       "    <tr>\n",
       "      <th>0</th>\n",
       "      <td>mitre-attack</td>\n",
       "      <td>Linux</td>\n",
       "      <td>defense-evasion</td>\n",
       "      <td>Compile After Delivery</td>\n",
       "      <td>T1500</td>\n",
       "      <td>Process command-line parameters</td>\n",
       "      <td>OK</td>\n",
       "    </tr>\n",
       "    <tr>\n",
       "      <th>1</th>\n",
       "      <td>mitre-attack</td>\n",
       "      <td>Linux</td>\n",
       "      <td>defense-evasion</td>\n",
       "      <td>Compile After Delivery</td>\n",
       "      <td>T1500</td>\n",
       "      <td>Process Monitoring</td>\n",
       "      <td>OK</td>\n",
       "    </tr>\n",
       "    <tr>\n",
       "      <th>2</th>\n",
       "      <td>mitre-attack</td>\n",
       "      <td>Linux</td>\n",
       "      <td>defense-evasion</td>\n",
       "      <td>Compile After Delivery</td>\n",
       "      <td>T1500</td>\n",
       "      <td>File monitoring</td>\n",
       "      <td>OK</td>\n",
       "    </tr>\n",
       "    <tr>\n",
       "      <th>3</th>\n",
       "      <td>mitre-attack</td>\n",
       "      <td>macOS</td>\n",
       "      <td>defense-evasion</td>\n",
       "      <td>Compile After Delivery</td>\n",
       "      <td>T1500</td>\n",
       "      <td>Process command-line parameters</td>\n",
       "      <td>OK</td>\n",
       "    </tr>\n",
       "    <tr>\n",
       "      <th>4</th>\n",
       "      <td>mitre-attack</td>\n",
       "      <td>macOS</td>\n",
       "      <td>defense-evasion</td>\n",
       "      <td>Compile After Delivery</td>\n",
       "      <td>T1500</td>\n",
       "      <td>Process Monitoring</td>\n",
       "      <td>OK</td>\n",
       "    </tr>\n",
       "  </tbody>\n",
       "</table>\n",
       "</div>"
      ],
      "text/plain": [
       "         matrix platform           tactic               technique  \\\n",
       "0  mitre-attack    Linux  defense-evasion  Compile After Delivery   \n",
       "1  mitre-attack    Linux  defense-evasion  Compile After Delivery   \n",
       "2  mitre-attack    Linux  defense-evasion  Compile After Delivery   \n",
       "3  mitre-attack    macOS  defense-evasion  Compile After Delivery   \n",
       "4  mitre-attack    macOS  defense-evasion  Compile After Delivery   \n",
       "\n",
       "  technique_id                     data_sources Validation  \n",
       "0        T1500  Process command-line parameters         OK  \n",
       "1        T1500               Process Monitoring         OK  \n",
       "2        T1500                  File monitoring         OK  \n",
       "3        T1500  Process command-line parameters         OK  \n",
       "4        T1500               Process Monitoring         OK  "
      ]
     },
     "execution_count": 63,
     "metadata": {},
     "output_type": "execute_result"
    }
   ],
   "source": [
    "techniques_analysis_data_ok = techniques_data_3[techniques_data_3.Validation == 'OK']\n",
    "techniques_analysis_data_ok.head()"
   ]
  },
  {
   "cell_type": "code",
   "execution_count": 64,
   "metadata": {},
   "outputs": [
    {
     "name": "stdout",
     "output_type": "stream",
     "text": [
      "There are  1983  rows of data that you can play with\n"
     ]
    }
   ],
   "source": [
    "print('There are ',len(techniques_analysis_data_ok),' rows of data that you can play with')"
   ]
  },
  {
   "cell_type": "markdown",
   "metadata": {},
   "source": [
    "## 18. Getting Techniques by Data Sources"
   ]
  },
  {
   "cell_type": "markdown",
   "metadata": {},
   "source": [
    "This function gets techniques' information that includes specific data sources"
   ]
  },
  {
   "cell_type": "code",
   "execution_count": 65,
   "metadata": {},
   "outputs": [],
   "source": [
    "data_source = 'PROCESS MONITORING'"
   ]
  },
  {
   "cell_type": "code",
   "execution_count": 66,
   "metadata": {},
   "outputs": [],
   "source": [
    "results = lift.get_techniques_by_datasources(data_source)"
   ]
  },
  {
   "cell_type": "code",
   "execution_count": 67,
   "metadata": {},
   "outputs": [
    {
     "data": {
      "text/plain": [
       "169"
      ]
     },
     "execution_count": 67,
     "metadata": {},
     "output_type": "execute_result"
    }
   ],
   "source": [
    "len(results)"
   ]
  },
  {
   "cell_type": "code",
   "execution_count": 74,
   "metadata": {},
   "outputs": [
    {
     "data": {
      "text/plain": [
       "list"
      ]
     },
     "execution_count": 74,
     "metadata": {},
     "output_type": "execute_result"
    }
   ],
   "source": [
    "type(results)"
   ]
  },
  {
   "cell_type": "code",
   "execution_count": 68,
   "metadata": {},
   "outputs": [],
   "source": [
    "data_sources_list = ['pRoceSS MoniTorinG','process commAnd-linE parameters']"
   ]
  },
  {
   "cell_type": "code",
   "execution_count": 69,
   "metadata": {},
   "outputs": [],
   "source": [
    "results2 = lift.get_techniques_by_datasources(data_sources_list)"
   ]
  },
  {
   "cell_type": "code",
   "execution_count": 70,
   "metadata": {},
   "outputs": [
    {
     "data": {
      "text/plain": [
       "178"
      ]
     },
     "execution_count": 70,
     "metadata": {},
     "output_type": "execute_result"
    }
   ],
   "source": [
    "len(results2)"
   ]
  },
  {
   "cell_type": "code",
   "execution_count": 71,
   "metadata": {},
   "outputs": [
    {
     "data": {
      "text/plain": [
       "AttackPattern(type='attack-pattern', id='attack-pattern--0fff2797-19cb-41ea-a5f1-8a9303b8158e', created_by_ref='identity--c78cb6e5-0c4b-4611-8297-d1b8b55e40b5', created='2019-04-23T15:34:30.008Z', modified='2019-04-29T14:14:08.450Z', name='Systemd Service', description=\"Systemd services can be used to establish persistence on a Linux system. The systemd service manager is commonly used for managing background daemon processes (also known as services) and other system resources.(Citation: Linux man-pages: systemd January 2014)(Citation: Freedesktop.org Linux systemd 29SEP2018) Systemd is the default initialization (init) system on many Linux distributions starting with Debian 8, Ubuntu 15.04, CentOS 7, RHEL 7, Fedora 15, and replaces legacy init systems including SysVinit and Upstart while remaining backwards compatible with the aforementioned init systems.\\n\\nSystemd utilizes configuration files known as service units to control how services boot and under what conditions. By default, these unit files are stored in the <code>/etc/systemd/system</code> and <code>/usr/lib/systemd/system</code> directories and have the file extension <code>.service</code>. Each service unit file may contain numerous directives that can execute system commands. \\n\\n* ExecStart, ExecStartPre, and ExecStartPost directives cover execution of commands when a services is started manually by 'systemctl' or on system start if the service is set to automatically start. \\n* ExecReload directive covers when a service restarts. \\n* ExecStop and ExecStopPost directives cover when a service is stopped or manually by 'systemctl'.\\n\\nAdversaries have used systemd functionality to establish persistent access to victim systems by creating and/or modifying service unit files that cause systemd to execute malicious commands at recurring intervals, such as at system boot.(Citation: Anomali Rocke March 2019)(Citation: gist Arch package compromise 10JUL2018)(Citation: Arch Linux Package Systemd Compromise BleepingComputer 10JUL2018)(Citation: acroread package compromised Arch Linux Mail 8JUL2018)\\n\\nWhile adversaries typically require root privileges to create/modify service unit files in the <code>/etc/systemd/system</code> and <code>/usr/lib/systemd/system</code> directories, low privilege users can create/modify service unit files in directories such as <code>~/.config/systemd/user/</code> to achieve user-level persistence.(Citation: Rapid7 Service Persistence 22JUNE2016)\", kill_chain_phases=[KillChainPhase(kill_chain_name='mitre-attack', phase_name='persistence')], external_references=[ExternalReference(source_name='mitre-attack', url='https://attack.mitre.org/techniques/T1501', external_id='T1501'), ExternalReference(source_name='Linux man-pages: systemd January 2014', description='Linux man-pages. (2014, January). systemd(1) - Linux manual page. Retrieved April 23, 2019.', url='http://man7.org/linux/man-pages/man1/systemd.1.html'), ExternalReference(source_name='Freedesktop.org Linux systemd 29SEP2018', description='Freedesktop.org. (2018, September 29). systemd System and Service Manager. Retrieved April 23, 2019.', url='https://www.freedesktop.org/wiki/Software/systemd/'), ExternalReference(source_name='Anomali Rocke March 2019', description='Anomali Labs. (2019, March 15). Rocke Evolves Its Arsenal With a New Malware Family Written in Golang. Retrieved April 24, 2019.', url='https://www.anomali.com/blog/rocke-evolves-its-arsenal-with-a-new-malware-family-written-in-golang'), ExternalReference(source_name='gist Arch package compromise 10JUL2018', description='Catalin Cimpanu. (2018, July 10). ~x file downloaded in public Arch package compromise. Retrieved April 23, 2019.', url='https://gist.github.com/campuscodi/74d0d2e35d8fd9499c76333ce027345a'), ExternalReference(source_name='Arch Linux Package Systemd Compromise BleepingComputer 10JUL2018', description='Catalin Cimpanu. (2018, July 10). Malware Found in Arch Linux AUR Package Repository. Retrieved April 23, 2019.', url='https://www.bleepingcomputer.com/news/security/malware-found-in-arch-linux-aur-package-repository/'), ExternalReference(source_name='acroread package compromised Arch Linux Mail 8JUL2018', description='Eli Schwartz. (2018, June 8). acroread package compromised. Retrieved April 23, 2019.', url='https://lists.archlinux.org/pipermail/aur-general/2018-July/034153.html'), ExternalReference(source_name='Rapid7 Service Persistence 22JUNE2016', description='Rapid7. (2016, June 22). Service Persistence. Retrieved April 23, 2019.', url='https://www.rapid7.com/db/modules/exploit/linux/local/service_persistence')], object_marking_refs=['marking-definition--fa42a846-8d90-4e51-bc29-71d5b4802168'], x_mitre_contributors=['Tony Lambert, Red Canary'], x_mitre_data_sources=['Process command-line parameters', 'Process monitoring', 'File monitoring'], x_mitre_detection=\"Systemd service unit files may be detected by auditing file creation and modification events within the <code>/etc/systemd/system</code>, <code>/usr/lib/systemd/system/</code>, and <code>/home/<username>/.config/systemd/user/</code> directories, as well as associated symbolic links. Suspicious processes or scripts spawned in this manner will have a parent process of ‘systemd’, a parent process ID of 1, and will usually execute as the ‘root’ user.\\n\\nSuspicious systemd services can also be identified by comparing results against a trusted system baseline. Malicious systemd services may be detected by using the systemctl utility to examine system wide services: <code>systemctl list-units -–type=service –all</code>. Analyze the contents of <code>.service</code> files present on the file system and ensure that they refer to legitimate, expected executables.\\n\\nAuditing the execution and command-line arguments of the 'systemctl' utility, as well related utilities such as <code>/usr/sbin/service</code> may reveal malicious systemd service execution.\", x_mitre_permissions_required=['root', 'User'], x_mitre_platforms=['Linux'], x_mitre_version='1.0')"
      ]
     },
     "execution_count": 71,
     "metadata": {},
     "output_type": "execute_result"
    }
   ],
   "source": [
    "results2[1]"
   ]
  }
 ],
 "metadata": {
  "kernelspec": {
   "display_name": "Python 3",
   "language": "python",
   "name": "python3"
  },
  "language_info": {
   "codemirror_mode": {
    "name": "ipython",
    "version": 3
   },
   "file_extension": ".py",
   "mimetype": "text/x-python",
   "name": "python",
   "nbconvert_exporter": "python",
   "pygments_lexer": "ipython3",
   "version": "3.7.2"
  }
 },
 "nbformat": 4,
 "nbformat_minor": 2
}
